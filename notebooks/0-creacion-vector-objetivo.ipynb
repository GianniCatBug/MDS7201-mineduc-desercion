{
 "cells": [
  {
   "cell_type": "code",
   "execution_count": 1,
   "id": "db69ddaf",
   "metadata": {},
   "outputs": [],
   "source": [
    "import pandas as pd\n",
    "import numpy as np\n",
    "from glob import glob\n",
    "from tqdm.notebook import tqdm\n",
    "\n",
    "BASE = \"/media/giani/Gianicosas/Magister/Proyecto/raw_data\""
   ]
  },
  {
   "cell_type": "markdown",
   "id": "a5c1b6f8",
   "metadata": {},
   "source": [
    "# Proceso de matricula\n",
    "\n",
    "## Datos\n",
    "\n",
    "Se comparará la cantidad de alumnos por carrera por año para validación de datos"
   ]
  },
  {
   "cell_type": "code",
   "execution_count": 14,
   "id": "9ce051b5",
   "metadata": {},
   "outputs": [
    {
     "name": "stderr",
     "output_type": "stream",
     "text": [
      "/tmp/ipykernel_3461/618280487.py:2: DtypeWarning: Columns (27) have mixed types. Specify dtype option on import or set low_memory=False.\n",
      "  proceso = pd.read_csv(f\"{BASE}/OFICIAL_WEB_PROCESO_MAT_2007_AL_2022_24_06_2022_E.csv\", encoding=\"latin-1\", sep=\";\")\n"
     ]
    },
    {
     "data": {
      "text/html": [
       "<div>\n",
       "<style scoped>\n",
       "    .dataframe tbody tr th:only-of-type {\n",
       "        vertical-align: middle;\n",
       "    }\n",
       "\n",
       "    .dataframe tbody tr th {\n",
       "        vertical-align: top;\n",
       "    }\n",
       "\n",
       "    .dataframe thead th {\n",
       "        text-align: right;\n",
       "    }\n",
       "</style>\n",
       "<table border=\"1\" class=\"dataframe\">\n",
       "  <thead>\n",
       "    <tr style=\"text-align: right;\">\n",
       "      <th></th>\n",
       "      <th>AÑO</th>\n",
       "      <th>TOTAL MATRICULADOS</th>\n",
       "      <th>MATRICULADOS MUJERES POR PROGRAMA</th>\n",
       "      <th>MATRICULADOS HOMBRES POR PROGRAMA</th>\n",
       "      <th>TOTAL MATRICULADOS PRIMER AÑO</th>\n",
       "      <th>MATRICULADOS MUJERES PRIMER AÑO</th>\n",
       "      <th>MATRICULADOS HOMBRES PRIMER AÑO</th>\n",
       "      <th>CLASIFICACIÓN INSTITUCIÓN NIVEL 1</th>\n",
       "      <th>CLASIFICACIÓN INSTITUCIÓN NIVEL 2</th>\n",
       "      <th>CLASIFICACIÓN INSTITUCIÓN NIVEL 3</th>\n",
       "      <th>...</th>\n",
       "      <th>TES PARTICULAR SUBVENCIONADO</th>\n",
       "      <th>TES PARTICULAR PAGADO</th>\n",
       "      <th>TES CORP. DE ADMINISTRACIÓN DELEGADA</th>\n",
       "      <th>TES SERVICIO LOCAL EDUCACION</th>\n",
       "      <th>TOTAL TES</th>\n",
       "      <th>% COBERTURA TES</th>\n",
       "      <th>TIPO ESTABLECIMIENTO HC</th>\n",
       "      <th>TIPO ESTABLECIMIENTO TP</th>\n",
       "      <th>CLAS_EST ADULTO</th>\n",
       "      <th>CLAS_EST JOVEN</th>\n",
       "    </tr>\n",
       "  </thead>\n",
       "  <tbody>\n",
       "    <tr>\n",
       "      <th>0</th>\n",
       "      <td>MAT_2022</td>\n",
       "      <td>2</td>\n",
       "      <td>2.0</td>\n",
       "      <td>NaN</td>\n",
       "      <td>NaN</td>\n",
       "      <td>NaN</td>\n",
       "      <td>NaN</td>\n",
       "      <td>Institutos Profesionales</td>\n",
       "      <td>Institutos Profesionales</td>\n",
       "      <td>Institutos Profesionales</td>\n",
       "      <td>...</td>\n",
       "      <td>2.0</td>\n",
       "      <td>NaN</td>\n",
       "      <td>NaN</td>\n",
       "      <td>NaN</td>\n",
       "      <td>2</td>\n",
       "      <td>100,0%</td>\n",
       "      <td>2.0</td>\n",
       "      <td>NaN</td>\n",
       "      <td>NaN</td>\n",
       "      <td>2.0</td>\n",
       "    </tr>\n",
       "    <tr>\n",
       "      <th>1</th>\n",
       "      <td>MAT_2022</td>\n",
       "      <td>10</td>\n",
       "      <td>8.0</td>\n",
       "      <td>2.0</td>\n",
       "      <td>NaN</td>\n",
       "      <td>NaN</td>\n",
       "      <td>NaN</td>\n",
       "      <td>Institutos Profesionales</td>\n",
       "      <td>Institutos Profesionales</td>\n",
       "      <td>Institutos Profesionales</td>\n",
       "      <td>...</td>\n",
       "      <td>3.0</td>\n",
       "      <td>2.0</td>\n",
       "      <td>NaN</td>\n",
       "      <td>NaN</td>\n",
       "      <td>9</td>\n",
       "      <td>90,0%</td>\n",
       "      <td>4.0</td>\n",
       "      <td>5.0</td>\n",
       "      <td>2.0</td>\n",
       "      <td>7.0</td>\n",
       "    </tr>\n",
       "    <tr>\n",
       "      <th>2</th>\n",
       "      <td>MAT_2022</td>\n",
       "      <td>34</td>\n",
       "      <td>NaN</td>\n",
       "      <td>34.0</td>\n",
       "      <td>NaN</td>\n",
       "      <td>NaN</td>\n",
       "      <td>NaN</td>\n",
       "      <td>Institutos Profesionales</td>\n",
       "      <td>Institutos Profesionales</td>\n",
       "      <td>Institutos Profesionales</td>\n",
       "      <td>...</td>\n",
       "      <td>14.0</td>\n",
       "      <td>3.0</td>\n",
       "      <td>NaN</td>\n",
       "      <td>NaN</td>\n",
       "      <td>26</td>\n",
       "      <td>76,5%</td>\n",
       "      <td>17.0</td>\n",
       "      <td>9.0</td>\n",
       "      <td>4.0</td>\n",
       "      <td>22.0</td>\n",
       "    </tr>\n",
       "    <tr>\n",
       "      <th>3</th>\n",
       "      <td>MAT_2022</td>\n",
       "      <td>10</td>\n",
       "      <td>NaN</td>\n",
       "      <td>10.0</td>\n",
       "      <td>NaN</td>\n",
       "      <td>NaN</td>\n",
       "      <td>NaN</td>\n",
       "      <td>Institutos Profesionales</td>\n",
       "      <td>Institutos Profesionales</td>\n",
       "      <td>Institutos Profesionales</td>\n",
       "      <td>...</td>\n",
       "      <td>4.0</td>\n",
       "      <td>NaN</td>\n",
       "      <td>NaN</td>\n",
       "      <td>NaN</td>\n",
       "      <td>10</td>\n",
       "      <td>100,0%</td>\n",
       "      <td>6.0</td>\n",
       "      <td>4.0</td>\n",
       "      <td>1.0</td>\n",
       "      <td>9.0</td>\n",
       "    </tr>\n",
       "    <tr>\n",
       "      <th>4</th>\n",
       "      <td>MAT_2022</td>\n",
       "      <td>76</td>\n",
       "      <td>4.0</td>\n",
       "      <td>72.0</td>\n",
       "      <td>NaN</td>\n",
       "      <td>NaN</td>\n",
       "      <td>NaN</td>\n",
       "      <td>Institutos Profesionales</td>\n",
       "      <td>Institutos Profesionales</td>\n",
       "      <td>Institutos Profesionales</td>\n",
       "      <td>...</td>\n",
       "      <td>29.0</td>\n",
       "      <td>6.0</td>\n",
       "      <td>4.0</td>\n",
       "      <td>NaN</td>\n",
       "      <td>71</td>\n",
       "      <td>93,4%</td>\n",
       "      <td>30.0</td>\n",
       "      <td>41.0</td>\n",
       "      <td>4.0</td>\n",
       "      <td>67.0</td>\n",
       "    </tr>\n",
       "  </tbody>\n",
       "</table>\n",
       "<p>5 rows × 56 columns</p>\n",
       "</div>"
      ],
      "text/plain": [
       "        AÑO  TOTAL MATRICULADOS  MATRICULADOS MUJERES POR PROGRAMA  \\\n",
       "0  MAT_2022                   2                                2.0   \n",
       "1  MAT_2022                  10                                8.0   \n",
       "2  MAT_2022                  34                                NaN   \n",
       "3  MAT_2022                  10                                NaN   \n",
       "4  MAT_2022                  76                                4.0   \n",
       "\n",
       "   MATRICULADOS HOMBRES POR PROGRAMA  TOTAL MATRICULADOS PRIMER AÑO  \\\n",
       "0                                NaN                            NaN   \n",
       "1                                2.0                            NaN   \n",
       "2                               34.0                            NaN   \n",
       "3                               10.0                            NaN   \n",
       "4                               72.0                            NaN   \n",
       "\n",
       "   MATRICULADOS MUJERES PRIMER AÑO  MATRICULADOS HOMBRES PRIMER AÑO  \\\n",
       "0                              NaN                              NaN   \n",
       "1                              NaN                              NaN   \n",
       "2                              NaN                              NaN   \n",
       "3                              NaN                              NaN   \n",
       "4                              NaN                              NaN   \n",
       "\n",
       "  CLASIFICACIÓN INSTITUCIÓN NIVEL 1 CLASIFICACIÓN INSTITUCIÓN NIVEL 2  \\\n",
       "0          Institutos Profesionales          Institutos Profesionales   \n",
       "1          Institutos Profesionales          Institutos Profesionales   \n",
       "2          Institutos Profesionales          Institutos Profesionales   \n",
       "3          Institutos Profesionales          Institutos Profesionales   \n",
       "4          Institutos Profesionales          Institutos Profesionales   \n",
       "\n",
       "  CLASIFICACIÓN INSTITUCIÓN NIVEL 3  ...  TES PARTICULAR SUBVENCIONADO  \\\n",
       "0          Institutos Profesionales  ...                           2.0   \n",
       "1          Institutos Profesionales  ...                           3.0   \n",
       "2          Institutos Profesionales  ...                          14.0   \n",
       "3          Institutos Profesionales  ...                           4.0   \n",
       "4          Institutos Profesionales  ...                          29.0   \n",
       "\n",
       "  TES PARTICULAR PAGADO TES CORP. DE ADMINISTRACIÓN DELEGADA  \\\n",
       "0                   NaN                                  NaN   \n",
       "1                   2.0                                  NaN   \n",
       "2                   3.0                                  NaN   \n",
       "3                   NaN                                  NaN   \n",
       "4                   6.0                                  4.0   \n",
       "\n",
       "  TES SERVICIO LOCAL EDUCACION TOTAL TES % COBERTURA TES  \\\n",
       "0                          NaN         2          100,0%   \n",
       "1                          NaN         9           90,0%   \n",
       "2                          NaN        26           76,5%   \n",
       "3                          NaN        10          100,0%   \n",
       "4                          NaN        71           93,4%   \n",
       "\n",
       "  TIPO ESTABLECIMIENTO HC TIPO ESTABLECIMIENTO TP CLAS_EST ADULTO  \\\n",
       "0                     2.0                     NaN             NaN   \n",
       "1                     4.0                     5.0             2.0   \n",
       "2                    17.0                     9.0             4.0   \n",
       "3                     6.0                     4.0             1.0   \n",
       "4                    30.0                    41.0             4.0   \n",
       "\n",
       "  CLAS_EST JOVEN  \n",
       "0            2.0  \n",
       "1            7.0  \n",
       "2           22.0  \n",
       "3            9.0  \n",
       "4           67.0  \n",
       "\n",
       "[5 rows x 56 columns]"
      ]
     },
     "execution_count": 14,
     "metadata": {},
     "output_type": "execute_result"
    }
   ],
   "source": [
    "# Fuente: https://www.mifuturo.cl/bases-de-datos-de-matriculados/\n",
    "proceso = pd.read_csv(f\"{BASE}/OFICIAL_WEB_PROCESO_MAT_2007_AL_2022_24_06_2022_E.csv\", encoding=\"latin-1\", sep=\";\")\n",
    "proceso.head()"
   ]
  },
  {
   "cell_type": "code",
   "execution_count": 22,
   "id": "34ad3f54",
   "metadata": {},
   "outputs": [
    {
     "name": "stdout",
     "output_type": "stream",
     "text": [
      "['AÑO', 'TOTAL MATRICULADOS', 'MATRICULADOS MUJERES POR PROGRAMA', 'MATRICULADOS HOMBRES POR PROGRAMA', 'TOTAL MATRICULADOS PRIMER AÑO', 'MATRICULADOS MUJERES PRIMER AÑO', 'MATRICULADOS HOMBRES PRIMER AÑO', 'CLASIFICACIÓN INSTITUCIÓN NIVEL 1', 'CLASIFICACIÓN INSTITUCIÓN NIVEL 2', 'CLASIFICACIÓN INSTITUCIÓN NIVEL 3', 'CÓDIGO DE INSTITUCIÓN', 'NOMBRE INSTITUCIÓN', 'ACREDITACIÓN INSTITUCIONAL', 'REGIÓN', 'PROVINCIA', 'COMUNA', 'NOMBRE SEDE', 'NOMBRE CARRERA', 'ÁREA DEL CONOCIMIENTO', 'CINE-F 1997 ÁREA', 'CINE-F 1997 SUBAREA', 'ÁREA CARRERA GENÉRICA', 'CINE-F 2013 ÁREA', 'CINE-F 2013 SUBAREA', 'NIVEL GLOBAL', 'CARRERA CLASIFICACIÓN NIVEL 1', 'CARRERA CLASIFICACIÓN NIVEL 2', 'MODALIDAD', 'JORNADA', 'TIPO DE PLAN DE LA CARRERA', 'DURACIÓN ESTUDIO CARRERA', 'DURACIÓN TOTAL DE CARRERA', 'CÓDIGO CARRERA', 'ACREDITACIÓN CARRERA', 'TOTAL RANGO DE EDAD', 'RANGO DE EDAD 15 A 19 AÑOS', 'RANGO DE EDAD 20 A 24 AÑOS', 'RANGO DE EDAD 25 A 29 AÑOS', 'RANGO DE EDAD 30 A 34 AÑOS', 'RANGO DE EDAD 35 A 39 AÑOS', 'RANGO DE EDAD 40 Y MÁS AÑOS', 'RANGO DE EDAD SIN INFORMACIÓN', ' PROMEDIO EDAD CARRERA ', ' PROMEDIO EDAD MUJER ', ' PROMEDIO EDAD HOMBRE ', 'TES MUNICIPAL', 'TES PARTICULAR SUBVENCIONADO', 'TES PARTICULAR PAGADO', 'TES CORP. DE ADMINISTRACIÓN DELEGADA', 'TES SERVICIO LOCAL EDUCACION', 'TOTAL TES', '% COBERTURA TES', 'TIPO ESTABLECIMIENTO HC', 'TIPO ESTABLECIMIENTO TP', 'CLAS_EST ADULTO', 'CLAS_EST JOVEN']\n"
     ]
    },
    {
     "data": {
      "text/plain": [
       "(None, (216153, 56))"
      ]
     },
     "execution_count": 22,
     "metadata": {},
     "output_type": "execute_result"
    }
   ],
   "source": [
    "print(list(proceso.columns)), proceso.shape"
   ]
  },
  {
   "cell_type": "code",
   "execution_count": 46,
   "id": "97628234",
   "metadata": {},
   "outputs": [
    {
     "data": {
      "text/plain": [
       "MAT_2022    15631\n",
       "MAT_2021    15401\n",
       "MAT_2020    14381\n",
       "MAT_2019    14546\n",
       "MAT_2018    14912\n",
       "MAT_2017    14730\n",
       "MAT_2016    14750\n",
       "MAT_2015    14788\n",
       "MAT_2014    14645\n",
       "MAT_2013    14285\n",
       "MAT_2012    13270\n",
       "MAT_2011    12514\n",
       "MAT_2010    12147\n",
       "MAT_2009    11414\n",
       "MAT_2008     9943\n",
       "MAT_2007     8796\n",
       "Name: AÑO, dtype: int64"
      ]
     },
     "execution_count": 46,
     "metadata": {},
     "output_type": "execute_result"
    }
   ],
   "source": [
    "proceso[\"AÑO\"].value_counts().sort_index(ascending=False)"
   ]
  },
  {
   "cell_type": "markdown",
   "id": "b5c6b667",
   "metadata": {},
   "source": [
    "# Matriculados"
   ]
  },
  {
   "cell_type": "markdown",
   "id": "53723840",
   "metadata": {},
   "source": [
    "### Todas las columnas\n",
    "```python\n",
    "# pd.read_csv(f\"{BASE}/20220719_Matrícula_Ed_Superior_2022_PUBL_MRUN.csv\", nrows=5, sep=\";\").columns\n",
    "[\n",
    "    'cat_periodo', 'id', 'codigo_unico', 'mrun', 'gen_alu', 'fec_nac_alu', 'rango_edad', 'anio_ing_carr_ori',\n",
    "    'sem_ing_carr_ori', 'anio_ing_carr_act', 'sem_ing_carr_act', 'anio_ing_carr_act', 'tipo_inst_1', 'tipo_inst_2', 'tipo_inst_3',\n",
    "    'cod_inst', 'nomb_inst', 'cod_sede', 'nomb_sede', 'cod_carrera', 'nomb_carrera', 'modalidad', 'jornada',\n",
    "    'version', 'tipo_plan_carr', 'dur_estudio_carr', 'dur_proceso_tit', 'dur_total_carr', 'region_sede',\n",
    "    'provincia_sede', 'comuna_sede', 'nivel_global', 'nivel_carrera_1', 'nivel_carrera_2', 'requisito_ingreso',\n",
    "    'vigencia_carrera', 'formato_valores', 'valor_matricula', 'valor_arancel', 'codigo_demre', 'area_conocimiento',\n",
    "    'cine_f_97_area', 'cine_f_97_subarea', 'area_carrera_generica', 'cine_f_13_area', 'cine_f_13_subarea',\n",
    "    'acreditada_carr', 'acreditada_inst', 'acre_inst_desde_hasta', 'acre_inst_anio', 'costo_proceso_titulacion',\n",
    "    'costo_obtencion_titulo_diploma', 'forma_ingreso'\n",
    "]\n",
    "```\n",
    "\n",
    "### Cols para determinar vector objetivo\n",
    "```python\n",
    "['cat_periodo', 'codigo_unico', 'mrun', 'anio_ing_carr_ori', 'anio_ing_carr_act', 'tipo_inst_1', 'dur_estudio_carr']\n",
    "```\n",
    "\n",
    "### Tipos de instituciones\n",
    "```python\n",
    "# Salida: ['Universidades', 'Institutos Profesionales', 'Centros de Formación Técnica']\n",
    "pd.concat([\n",
    "    pd.read_csv(f, sep=\";\", usecols=[\"tipo_inst_1\"])\n",
    "    for f in tqdm(glob(f\"{BASE}/20220719_Matrícula_Ed_Superior_*.csv\"), total=16)\n",
    "])[\"tipo_inst_1\"].unique()\n",
    "instituciones = ['Institutos Profesionales', 'Centros de Formación Técnica']\n",
    "```"
   ]
  },
  {
   "cell_type": "markdown",
   "id": "96c778d3",
   "metadata": {},
   "source": [
    "## Lectura de datos matriculados\n",
    "\n",
    "Fuente: https://datosabiertos.mineduc.cl/matricula-en-educacion-superior/"
   ]
  },
  {
   "cell_type": "code",
   "execution_count": 3,
   "id": "f5cb288b",
   "metadata": {},
   "outputs": [],
   "source": [
    "def iter_df_read(file, col_name, condition_list, chunksize=1000, **kwargs):\n",
    "    iter_csv = pd.read_csv(file, iterator=True, chunksize=chunksize, **kwargs)\n",
    "    return pd.concat([chunk[chunk[col_name].isin(condition_list)] for chunk in iter_csv])"
   ]
  },
  {
   "cell_type": "code",
   "execution_count": 4,
   "id": "eda15c80",
   "metadata": {},
   "outputs": [
    {
     "data": {
      "application/vnd.jupyter.widget-view+json": {
       "model_id": "f0eded95cff744839b665c6e4d18d0c0",
       "version_major": 2,
       "version_minor": 0
      },
      "text/plain": [
       "  0%|          | 0/8 [00:00<?, ?it/s]"
      ]
     },
     "metadata": {},
     "output_type": "display_data"
    },
    {
     "data": {
      "text/html": [
       "<div>\n",
       "<style scoped>\n",
       "    .dataframe tbody tr th:only-of-type {\n",
       "        vertical-align: middle;\n",
       "    }\n",
       "\n",
       "    .dataframe tbody tr th {\n",
       "        vertical-align: top;\n",
       "    }\n",
       "\n",
       "    .dataframe thead th {\n",
       "        text-align: right;\n",
       "    }\n",
       "</style>\n",
       "<table border=\"1\" class=\"dataframe\">\n",
       "  <thead>\n",
       "    <tr style=\"text-align: right;\">\n",
       "      <th></th>\n",
       "      <th>cat_periodo</th>\n",
       "      <th>codigo_unico</th>\n",
       "      <th>mrun</th>\n",
       "      <th>anio_ing_carr_ori</th>\n",
       "      <th>anio_ing_carr_act</th>\n",
       "      <th>tipo_inst_1</th>\n",
       "      <th>dur_estudio_carr</th>\n",
       "    </tr>\n",
       "  </thead>\n",
       "  <tbody>\n",
       "    <tr>\n",
       "      <th>0</th>\n",
       "      <td>2015</td>\n",
       "      <td>I374S1C9J1V1</td>\n",
       "      <td>5.0</td>\n",
       "      <td>2015</td>\n",
       "      <td>NaN</td>\n",
       "      <td>Centros de Formación Técnica</td>\n",
       "      <td>5</td>\n",
       "    </tr>\n",
       "    <tr>\n",
       "      <th>1</th>\n",
       "      <td>2015</td>\n",
       "      <td>I498S6C132J2V1</td>\n",
       "      <td>37.0</td>\n",
       "      <td>2015</td>\n",
       "      <td>NaN</td>\n",
       "      <td>Centros de Formación Técnica</td>\n",
       "      <td>5</td>\n",
       "    </tr>\n",
       "    <tr>\n",
       "      <th>5</th>\n",
       "      <td>2015</td>\n",
       "      <td>I111S12C104J1V1</td>\n",
       "      <td>107.0</td>\n",
       "      <td>2013</td>\n",
       "      <td>NaN</td>\n",
       "      <td>Institutos Profesionales</td>\n",
       "      <td>9</td>\n",
       "    </tr>\n",
       "    <tr>\n",
       "      <th>7</th>\n",
       "      <td>2015</td>\n",
       "      <td>I111S14C309J2V1</td>\n",
       "      <td>118.0</td>\n",
       "      <td>2015</td>\n",
       "      <td>NaN</td>\n",
       "      <td>Institutos Profesionales</td>\n",
       "      <td>5</td>\n",
       "    </tr>\n",
       "    <tr>\n",
       "      <th>9</th>\n",
       "      <td>2015</td>\n",
       "      <td>I260S44C120J2V1</td>\n",
       "      <td>184.0</td>\n",
       "      <td>2014</td>\n",
       "      <td>NaN</td>\n",
       "      <td>Centros de Formación Técnica</td>\n",
       "      <td>5</td>\n",
       "    </tr>\n",
       "  </tbody>\n",
       "</table>\n",
       "</div>"
      ],
      "text/plain": [
       "   cat_periodo     codigo_unico   mrun  anio_ing_carr_ori  anio_ing_carr_act  \\\n",
       "0         2015     I374S1C9J1V1    5.0               2015                NaN   \n",
       "1         2015   I498S6C132J2V1   37.0               2015                NaN   \n",
       "5         2015  I111S12C104J1V1  107.0               2013                NaN   \n",
       "7         2015  I111S14C309J2V1  118.0               2015                NaN   \n",
       "9         2015  I260S44C120J2V1  184.0               2014                NaN   \n",
       "\n",
       "                    tipo_inst_1  dur_estudio_carr  \n",
       "0  Centros de Formación Técnica                 5  \n",
       "1  Centros de Formación Técnica                 5  \n",
       "5      Institutos Profesionales                 9  \n",
       "7      Institutos Profesionales                 5  \n",
       "9  Centros de Formación Técnica                 5  "
      ]
     },
     "execution_count": 4,
     "metadata": {},
     "output_type": "execute_result"
    }
   ],
   "source": [
    "cols_time = ['cat_periodo', 'codigo_unico', 'mrun', 'anio_ing_carr_ori', 'anio_ing_carr_act', 'tipo_inst_1', 'dur_estudio_carr']\n",
    "instituciones = ['Institutos Profesionales', 'Centros de Formación Técnica']\n",
    "\n",
    "matriculados = pd.concat([\n",
    "    iter_df_read(f, \"tipo_inst_1\", instituciones, sep=\";\", usecols=cols_time)\n",
    "    for f in tqdm(glob(f\"{BASE}/post_2015/20220719_Matrícula_Ed_Superior_*.csv\"), total=8)\n",
    "])\n",
    "matriculados.head()"
   ]
  },
  {
   "cell_type": "markdown",
   "id": "4a202988",
   "metadata": {},
   "source": [
    "### Información del DataFrame"
   ]
  },
  {
   "cell_type": "code",
   "execution_count": 26,
   "id": "e1e7d420",
   "metadata": {},
   "outputs": [
    {
     "data": {
      "text/plain": [
       "(4131609, 8)"
      ]
     },
     "execution_count": 26,
     "metadata": {},
     "output_type": "execute_result"
    }
   ],
   "source": [
    "matriculados.shape"
   ]
  },
  {
   "cell_type": "code",
   "execution_count": 9,
   "id": "5d7a9fc3",
   "metadata": {},
   "outputs": [
    {
     "name": "stdout",
     "output_type": "stream",
     "text": [
      "<class 'pandas.core.frame.DataFrame'>\n",
      "Int64Index: 4133070 entries, 0 to 1301920\n",
      "Data columns (total 7 columns):\n",
      " #   Column             Dtype  \n",
      "---  ------             -----  \n",
      " 0   cat_periodo        int64  \n",
      " 1   codigo_unico       object \n",
      " 2   mrun               float64\n",
      " 3   anio_ing_carr_ori  int64  \n",
      " 4   anio_ing_carr_act  float64\n",
      " 5   tipo_inst_1        object \n",
      " 6   dur_estudio_carr   int64  \n",
      "dtypes: float64(2), int64(3), object(2)\n",
      "memory usage: 252.3+ MB\n"
     ]
    }
   ],
   "source": [
    "matriculados.info()"
   ]
  },
  {
   "cell_type": "code",
   "execution_count": 6,
   "id": "6dad754b",
   "metadata": {},
   "outputs": [
    {
     "data": {
      "text/plain": [
       "cat_periodo                0\n",
       "codigo_unico               0\n",
       "mrun                    1461\n",
       "anio_ing_carr_ori          0\n",
       "anio_ing_carr_act    1193783\n",
       "tipo_inst_1                0\n",
       "dur_estudio_carr           0\n",
       "dtype: int64"
      ]
     },
     "execution_count": 6,
     "metadata": {},
     "output_type": "execute_result"
    }
   ],
   "source": [
    "matriculados.isna().sum()"
   ]
  },
  {
   "cell_type": "markdown",
   "id": "6dc715bc",
   "metadata": {},
   "source": [
    "### Pre procesamiento: Cursando carrera\n",
    "\n",
    "Se crea columna `cursando`, la cual indica:\n",
    "- `1` si los años transcurridos desde el año de ingreso a la carrera hasta el año 2022 es mayor a la duración de la carrera en años.\n",
    "- `0` en caso contrario\n",
    "\n",
    "Esto se utilizará más adelante en la construcción del vector objetivo; Se hace una selección de datos donde solo se selecciona a aquellos que tengan `cursando==0`, para medir inicialmente deserción solamente en aquellos que no se encuentren ya en la ventana de duración de la carrera."
   ]
  },
  {
   "cell_type": "code",
   "execution_count": 27,
   "id": "98cd6ee9",
   "metadata": {},
   "outputs": [
    {
     "data": {
      "text/plain": [
       "0    0.657826\n",
       "1    0.342174\n",
       "Name: cursando, dtype: float64"
      ]
     },
     "execution_count": 27,
     "metadata": {},
     "output_type": "execute_result"
    }
   ],
   "source": [
    "matriculados = matriculados.dropna(subset=[\"mrun\"]).reset_index(drop=True)\n",
    "matriculados[\"cursando\"] = np.where(\n",
    "    pd.Series([2022] * matriculados.shape[0]) - matriculados[\"anio_ing_carr_ori\"] > matriculados[\"dur_estudio_carr\"] / 2, 0, 1\n",
    ")\n",
    "\n",
    "matriculados[\"cursando\"].value_counts(\"%\")"
   ]
  },
  {
   "cell_type": "markdown",
   "id": "ede85eba",
   "metadata": {},
   "source": [
    "### Validación: Cantidad de matriculados por carrera por año\n",
    "\n",
    "Se compara con la base de datos agregados"
   ]
  },
  {
   "cell_type": "code",
   "execution_count": 62,
   "id": "c5d9e690",
   "metadata": {},
   "outputs": [],
   "source": [
    "anios_proceso = sorted(proceso[\"AÑO\"].unique(), reverse=True)[:8]\n",
    "assert sorted(matriculados[\"cat_periodo\"].unique(), reverse=True) == [int(a.split(\"_\")[1]) for a in anios_proceso]"
   ]
  },
  {
   "cell_type": "code",
   "execution_count": 54,
   "id": "c410eb1a",
   "metadata": {},
   "outputs": [
    {
     "data": {
      "text/plain": [
       "count    54938.000000\n",
       "mean        75.199971\n",
       "std        103.506341\n",
       "min          1.000000\n",
       "25%         16.000000\n",
       "50%         47.000000\n",
       "75%         98.000000\n",
       "max       2860.000000\n",
       "Name: cant_matriculados_carrera_anio, dtype: float64"
      ]
     },
     "execution_count": 54,
     "metadata": {},
     "output_type": "execute_result"
    }
   ],
   "source": [
    "# Cantidad de matriculados por año y carrera\n",
    "mat_por_carrera = matriculados.groupby(\n",
    "    [\"cat_periodo\", \"codigo_unico\"]\n",
    ").agg({\"mrun\": pd.Series.nunique}).rename(columns={\"mrun\": \"cant_matriculados_carrera_anio\"}).reset_index().sort_values(by=[\"cant_matriculados_carrera_anio\"])\n",
    "mat_por_carrera[\"cant_matriculados_carrera_anio\"].describe()"
   ]
  },
  {
   "cell_type": "code",
   "execution_count": 63,
   "id": "d126fe7f",
   "metadata": {},
   "outputs": [
    {
     "data": {
      "text/plain": [
       "count    119139.000000\n",
       "mean         84.581195\n",
       "std         142.665864\n",
       "min           1.000000\n",
       "25%          12.000000\n",
       "50%          39.000000\n",
       "75%         100.000000\n",
       "max        4873.000000\n",
       "Name: TOTAL MATRICULADOS, dtype: float64"
      ]
     },
     "execution_count": 63,
     "metadata": {},
     "output_type": "execute_result"
    }
   ],
   "source": [
    "proceso[\n",
    "    proceso[\"AÑO\"].isin(anios_proceso)\n",
    "].groupby([\n",
    "    \"AÑO\", \"CÓDIGO CARRERA\"\n",
    "]).agg({\n",
    "    \"TOTAL MATRICULADOS\": \"sum\"\n",
    "}).reset_index()[\"TOTAL MATRICULADOS\"].describe()"
   ]
  },
  {
   "cell_type": "markdown",
   "id": "38e70f09",
   "metadata": {},
   "source": [
    "- La distribución de matriculados por carrera por año difiere entre los datos agregados y los desagregados"
   ]
  },
  {
   "cell_type": "code",
   "execution_count": 90,
   "id": "e3259204",
   "metadata": {},
   "outputs": [
    {
     "data": {
      "text/plain": [
       "(13055, 29153)"
      ]
     },
     "execution_count": 90,
     "metadata": {},
     "output_type": "execute_result"
    }
   ],
   "source": [
    "mat_por_carrera[\"codigo_unico\"].nunique(), proceso[(proceso[\"AÑO\"].isin(\"MAT_\" + mat_por_carrera[\"cat_periodo\"].astype(str)))][\"CÓDIGO CARRERA\"].nunique()"
   ]
  },
  {
   "cell_type": "markdown",
   "id": "3f83533a",
   "metadata": {},
   "source": [
    "- Los datos agregados tienen 16.000 carreras más que los desagregados.\n",
    "    - Ejemplo de carrera no encontrada en datos desagregados:"
   ]
  },
  {
   "cell_type": "code",
   "execution_count": 142,
   "id": "ed4edd8a",
   "metadata": {},
   "outputs": [
    {
     "name": "stdout",
     "output_type": "stream",
     "text": [
      "['I45S4C771J5V1', 'I91S1C124J1V2', 'I13S9C29J1V1', 'I71S1C133J2V2', 'I13S3C217J2V1', 'I25S1C36J2V1', 'I10S7C284J2V1', 'I19S1C2J2V1', 'I84S2C203J1V1', 'I86S1C719J3V1']\n"
     ]
    }
   ],
   "source": [
    "print(list(set(proceso[(proceso[\"AÑO\"].isin(\"MAT_\" + mat_por_carrera[\"cat_periodo\"].astype(str)))][\"CÓDIGO CARRERA\"].unique())-set(mat_por_carrera[\"codigo_unico\"].unique()))[:10])"
   ]
  },
  {
   "cell_type": "code",
   "execution_count": 146,
   "id": "a17ec39b",
   "metadata": {},
   "outputs": [
    {
     "data": {
      "text/html": [
       "<div>\n",
       "<style scoped>\n",
       "    .dataframe tbody tr th:only-of-type {\n",
       "        vertical-align: middle;\n",
       "    }\n",
       "\n",
       "    .dataframe tbody tr th {\n",
       "        vertical-align: top;\n",
       "    }\n",
       "\n",
       "    .dataframe thead th {\n",
       "        text-align: right;\n",
       "    }\n",
       "</style>\n",
       "<table border=\"1\" class=\"dataframe\">\n",
       "  <thead>\n",
       "    <tr style=\"text-align: right;\">\n",
       "      <th></th>\n",
       "      <th>AÑO</th>\n",
       "      <th>TOTAL MATRICULADOS</th>\n",
       "      <th>CÓDIGO CARRERA</th>\n",
       "    </tr>\n",
       "  </thead>\n",
       "  <tbody>\n",
       "    <tr>\n",
       "      <th>59525</th>\n",
       "      <td>MAT_2019</td>\n",
       "      <td>6</td>\n",
       "      <td>I92S1C173J3V1</td>\n",
       "    </tr>\n",
       "    <tr>\n",
       "      <th>74452</th>\n",
       "      <td>MAT_2018</td>\n",
       "      <td>5</td>\n",
       "      <td>I92S1C173J3V1</td>\n",
       "    </tr>\n",
       "    <tr>\n",
       "      <th>89147</th>\n",
       "      <td>MAT_2017</td>\n",
       "      <td>8</td>\n",
       "      <td>I92S1C173J3V1</td>\n",
       "    </tr>\n",
       "    <tr>\n",
       "      <th>103894</th>\n",
       "      <td>MAT_2016</td>\n",
       "      <td>9</td>\n",
       "      <td>I92S1C173J3V1</td>\n",
       "    </tr>\n",
       "    <tr>\n",
       "      <th>118692</th>\n",
       "      <td>MAT_2015</td>\n",
       "      <td>7</td>\n",
       "      <td>I92S1C173J3V1</td>\n",
       "    </tr>\n",
       "  </tbody>\n",
       "</table>\n",
       "</div>"
      ],
      "text/plain": [
       "             AÑO  TOTAL MATRICULADOS CÓDIGO CARRERA\n",
       "59525   MAT_2019                   6  I92S1C173J3V1\n",
       "74452   MAT_2018                   5  I92S1C173J3V1\n",
       "89147   MAT_2017                   8  I92S1C173J3V1\n",
       "103894  MAT_2016                   9  I92S1C173J3V1\n",
       "118692  MAT_2015                   7  I92S1C173J3V1"
      ]
     },
     "execution_count": 146,
     "metadata": {},
     "output_type": "execute_result"
    }
   ],
   "source": [
    "proceso[\n",
    "    (proceso[\"AÑO\"].isin(\"MAT_\" + mat_por_carrera[\"cat_periodo\"].astype(str)))\n",
    "    & (proceso[\"CÓDIGO CARRERA\"]=='I92S1C173J3V1')\n",
    "][[\"AÑO\", \"TOTAL MATRICULADOS\", \"CÓDIGO CARRERA\"]]"
   ]
  },
  {
   "cell_type": "code",
   "execution_count": 148,
   "id": "7f1f903c",
   "metadata": {},
   "outputs": [
    {
     "data": {
      "text/html": [
       "<div>\n",
       "<style scoped>\n",
       "    .dataframe tbody tr th:only-of-type {\n",
       "        vertical-align: middle;\n",
       "    }\n",
       "\n",
       "    .dataframe tbody tr th {\n",
       "        vertical-align: top;\n",
       "    }\n",
       "\n",
       "    .dataframe thead th {\n",
       "        text-align: right;\n",
       "    }\n",
       "</style>\n",
       "<table border=\"1\" class=\"dataframe\">\n",
       "  <thead>\n",
       "    <tr style=\"text-align: right;\">\n",
       "      <th></th>\n",
       "      <th>cat_periodo</th>\n",
       "      <th>codigo_unico</th>\n",
       "      <th>cant_matriculados_carrera_anio</th>\n",
       "    </tr>\n",
       "  </thead>\n",
       "  <tbody>\n",
       "  </tbody>\n",
       "</table>\n",
       "</div>"
      ],
      "text/plain": [
       "Empty DataFrame\n",
       "Columns: [cat_periodo, codigo_unico, cant_matriculados_carrera_anio]\n",
       "Index: []"
      ]
     },
     "execution_count": 148,
     "metadata": {},
     "output_type": "execute_result"
    }
   ],
   "source": [
    "mat_por_carrera[mat_por_carrera[\"codigo_unico\"] == \"I92S1C173J3V1\"]"
   ]
  },
  {
   "cell_type": "markdown",
   "id": "b2e96179",
   "metadata": {},
   "source": [
    "- Dentro de las carreras que sí coinciden en ambos sets para el mismo periodo, se explora la diferencia de matriculados"
   ]
  },
  {
   "cell_type": "code",
   "execution_count": 149,
   "id": "155e13a4",
   "metadata": {},
   "outputs": [
    {
     "data": {
      "text/plain": [
       "count    1731.000000\n",
       "mean        0.095898\n",
       "std         0.457488\n",
       "min         0.000000\n",
       "25%         0.000000\n",
       "50%         0.000000\n",
       "75%         0.000000\n",
       "max         6.000000\n",
       "Name: diferencia, dtype: float64"
      ]
     },
     "execution_count": 149,
     "metadata": {},
     "output_type": "execute_result"
    }
   ],
   "source": [
    "coinciden = proceso[\n",
    "    (proceso[\"AÑO\"].isin(\"MAT_\" + mat_por_carrera[\"cat_periodo\"].astype(str)))\n",
    "    & (proceso[\"CÓDIGO CARRERA\"].isin(mat_por_carrera[\"codigo_unico\"]))\n",
    "].reset_index(drop=True).sort_values(\"TOTAL MATRICULADOS\")\n",
    "\n",
    "cant_mat_dif = coinciden[\n",
    "    coinciden[\"TOTAL MATRICULADOS\"] != mat_por_carrera[\"cant_matriculados_carrera_anio\"].reset_index(drop=True).values\n",
    "][[\"AÑO\", \"CÓDIGO CARRERA\", \"TOTAL MATRICULADOS\"]].rename(columns={\"CÓDIGO CARRERA\": \"codigo_unico\"})\n",
    "cant_mat_dif[\"cat_periodo\"] = cant_mat_dif[\"AÑO\"].str.split(\"_\", expand=True)[1].astype(int)\n",
    "\n",
    "difieren = pd.merge(cant_mat_dif, mat_por_carrera)\n",
    "difieren[\"diferencia\"] = difieren[\"TOTAL MATRICULADOS\"] - difieren[\"cant_matriculados_carrera_anio\"]\n",
    "difieren[\"diferencia\"].describe()"
   ]
  },
  {
   "cell_type": "markdown",
   "id": "307078c3",
   "metadata": {},
   "source": [
    "- En general la cantidad de matriculados coincide, habiendo una diferencia máxima de 6 alumnos. Por tanto, se concluye que la gran diferencia en las distribuciones de matriculados por carrera por año se debe a que en el set de datos desagregados falta incluir muchas carreras."
   ]
  },
  {
   "cell_type": "markdown",
   "id": "f1427881",
   "metadata": {},
   "source": [
    "### Validación: Código único\n",
    "\n",
    "- Se corrobora que un código único puede estar asociado a distintos nombres de carrera, pero se asumirá que todos los nombres diferentes hacen referencia a la misma.\n",
    "- Todos los códigos únicos repetidos pertenecen a la misma institución\n",
    "- Se observa un ejemplo"
   ]
  },
  {
   "cell_type": "code",
   "execution_count": 150,
   "id": "04873ad1",
   "metadata": {},
   "outputs": [
    {
     "data": {
      "text/html": [
       "<div>\n",
       "<style scoped>\n",
       "    .dataframe tbody tr th:only-of-type {\n",
       "        vertical-align: middle;\n",
       "    }\n",
       "\n",
       "    .dataframe tbody tr th {\n",
       "        vertical-align: top;\n",
       "    }\n",
       "\n",
       "    .dataframe thead th {\n",
       "        text-align: right;\n",
       "    }\n",
       "</style>\n",
       "<table border=\"1\" class=\"dataframe\">\n",
       "  <thead>\n",
       "    <tr style=\"text-align: right;\">\n",
       "      <th></th>\n",
       "      <th>CÓDIGO CARRERA</th>\n",
       "      <th>NOMBRE INSTITUCIÓN</th>\n",
       "      <th>NOMBRE CARRERA</th>\n",
       "    </tr>\n",
       "  </thead>\n",
       "  <tbody>\n",
       "    <tr>\n",
       "      <th>35620</th>\n",
       "      <td>I71S1C221J2V1</td>\n",
       "      <td>1</td>\n",
       "      <td>6</td>\n",
       "    </tr>\n",
       "    <tr>\n",
       "      <th>34871</th>\n",
       "      <td>I70S1C2J1V1</td>\n",
       "      <td>1</td>\n",
       "      <td>6</td>\n",
       "    </tr>\n",
       "    <tr>\n",
       "      <th>35899</th>\n",
       "      <td>I71S1C70J2V1</td>\n",
       "      <td>1</td>\n",
       "      <td>6</td>\n",
       "    </tr>\n",
       "    <tr>\n",
       "      <th>6156</th>\n",
       "      <td>I11S1C77J2V1</td>\n",
       "      <td>1</td>\n",
       "      <td>6</td>\n",
       "    </tr>\n",
       "    <tr>\n",
       "      <th>30078</th>\n",
       "      <td>I45S4C287J1V1</td>\n",
       "      <td>1</td>\n",
       "      <td>5</td>\n",
       "    </tr>\n",
       "  </tbody>\n",
       "</table>\n",
       "</div>"
      ],
      "text/plain": [
       "      CÓDIGO CARRERA  NOMBRE INSTITUCIÓN  NOMBRE CARRERA\n",
       "35620  I71S1C221J2V1                   1               6\n",
       "34871    I70S1C2J1V1                   1               6\n",
       "35899   I71S1C70J2V1                   1               6\n",
       "6156    I11S1C77J2V1                   1               6\n",
       "30078  I45S4C287J1V1                   1               5"
      ]
     },
     "execution_count": 150,
     "metadata": {},
     "output_type": "execute_result"
    }
   ],
   "source": [
    "proceso.groupby([\"CÓDIGO CARRERA\"]).agg({\"NOMBRE INSTITUCIÓN\": pd.Series.nunique, \"NOMBRE CARRERA\": pd.Series.nunique}).reset_index().sort_values(by=[\"NOMBRE CARRERA\"], ascending=False).head()"
   ]
  },
  {
   "cell_type": "code",
   "execution_count": 151,
   "id": "2d3be879",
   "metadata": {
    "scrolled": true
   },
   "outputs": [
    {
     "data": {
      "text/html": [
       "<div>\n",
       "<style scoped>\n",
       "    .dataframe tbody tr th:only-of-type {\n",
       "        vertical-align: middle;\n",
       "    }\n",
       "\n",
       "    .dataframe tbody tr th {\n",
       "        vertical-align: top;\n",
       "    }\n",
       "\n",
       "    .dataframe thead th {\n",
       "        text-align: right;\n",
       "    }\n",
       "</style>\n",
       "<table border=\"1\" class=\"dataframe\">\n",
       "  <thead>\n",
       "    <tr style=\"text-align: right;\">\n",
       "      <th></th>\n",
       "      <th>NOMBRE INSTITUCIÓN</th>\n",
       "      <th>NOMBRE CARRERA</th>\n",
       "      <th>CÓDIGO CARRERA</th>\n",
       "    </tr>\n",
       "  </thead>\n",
       "  <tbody>\n",
       "    <tr>\n",
       "      <th>11677</th>\n",
       "      <td>UNIVERSIDAD DE SANTIAGO DE CHILE</td>\n",
       "      <td>MAGISTER EN EDUCACION MENCION EN GESTION Y LID...</td>\n",
       "      <td>I71S1C221J2V1</td>\n",
       "    </tr>\n",
       "    <tr>\n",
       "      <th>41896</th>\n",
       "      <td>UNIVERSIDAD DE SANTIAGO DE CHILE</td>\n",
       "      <td>MAGISTER EN EDUCACION</td>\n",
       "      <td>I71S1C221J2V1</td>\n",
       "    </tr>\n",
       "    <tr>\n",
       "      <th>71299</th>\n",
       "      <td>UNIVERSIDAD DE SANTIAGO DE CHILE</td>\n",
       "      <td>MAGISTER EN EDUCACION, MENCION CURRICULUM Y EV...</td>\n",
       "      <td>I71S1C221J2V1</td>\n",
       "    </tr>\n",
       "    <tr>\n",
       "      <th>115921</th>\n",
       "      <td>UNIVERSIDAD DE SANTIAGO DE CHILE</td>\n",
       "      <td>MAGISTER EN EDUCACION, MENCION CURRICULUM Y EV...</td>\n",
       "      <td>I71S1C221J2V1</td>\n",
       "    </tr>\n",
       "    <tr>\n",
       "      <th>170932</th>\n",
       "      <td>UNIVERSIDAD DE SANTIAGO DE CHILE</td>\n",
       "      <td>MAGISTER EN EDUCACION, MENCION ORIENTACION EDU...</td>\n",
       "      <td>I71S1C221J2V1</td>\n",
       "    </tr>\n",
       "    <tr>\n",
       "      <th>182955</th>\n",
       "      <td>UNIVERSIDAD DE SANTIAGO DE CHILE</td>\n",
       "      <td>MAGISTER EN EDUCACION EN ORIENTACION EDUCACION...</td>\n",
       "      <td>I71S1C221J2V1</td>\n",
       "    </tr>\n",
       "  </tbody>\n",
       "</table>\n",
       "</div>"
      ],
      "text/plain": [
       "                      NOMBRE INSTITUCIÓN  \\\n",
       "11677   UNIVERSIDAD DE SANTIAGO DE CHILE   \n",
       "41896   UNIVERSIDAD DE SANTIAGO DE CHILE   \n",
       "71299   UNIVERSIDAD DE SANTIAGO DE CHILE   \n",
       "115921  UNIVERSIDAD DE SANTIAGO DE CHILE   \n",
       "170932  UNIVERSIDAD DE SANTIAGO DE CHILE   \n",
       "182955  UNIVERSIDAD DE SANTIAGO DE CHILE   \n",
       "\n",
       "                                           NOMBRE CARRERA CÓDIGO CARRERA  \n",
       "11677   MAGISTER EN EDUCACION MENCION EN GESTION Y LID...  I71S1C221J2V1  \n",
       "41896                               MAGISTER EN EDUCACION  I71S1C221J2V1  \n",
       "71299   MAGISTER EN EDUCACION, MENCION CURRICULUM Y EV...  I71S1C221J2V1  \n",
       "115921  MAGISTER EN EDUCACION, MENCION CURRICULUM Y EV...  I71S1C221J2V1  \n",
       "170932  MAGISTER EN EDUCACION, MENCION ORIENTACION EDU...  I71S1C221J2V1  \n",
       "182955  MAGISTER EN EDUCACION EN ORIENTACION EDUCACION...  I71S1C221J2V1  "
      ]
     },
     "execution_count": 151,
     "metadata": {},
     "output_type": "execute_result"
    }
   ],
   "source": [
    "proceso[proceso[\"CÓDIGO CARRERA\"]==\"I71S1C221J2V1\"][[\"NOMBRE INSTITUCIÓN\", \"NOMBRE CARRERA\", \"CÓDIGO CARRERA\"]].drop_duplicates()"
   ]
  },
  {
   "cell_type": "markdown",
   "id": "fa236667",
   "metadata": {},
   "source": [
    "## Operacionalización de datos\n",
    "\n",
    "### Alumno desertor\n",
    "- Tiene que haber pasado un tiempo mayor a la duración de la carrera\n",
    "- El último semestre cursado tiene que ser menor a la cantidad de semestres de la carrera (no se cuenta con este dato)\n",
    "- Considerar todo para el mismo codigo de carrera cada vez"
   ]
  },
  {
   "cell_type": "markdown",
   "id": "516e5027",
   "metadata": {},
   "source": [
    "## Vector Objetivo: Primera iteración\n",
    "- Se considera para esta primera iteración aquellos alumnos que ya hayan superado la ventana de tiempo de duración de la carrera.\n",
    "- Como no se tiene el dato de qué número de semestre está cursando el alumno (considerando el total de semestres disponibles), se asumirá al menos en esta primera etapa que los alumnos no han repetido semestres/años. Esto claramente subestimará la cantidad de desertores, ya que un alumno puede haber completado la cantidad de años teóricos cursados, sin haber completado la carrera (por repetición de un ramo, congelamiento, etc), lo que lo calificaría como desertor."
   ]
  },
  {
   "cell_type": "code",
   "execution_count": 152,
   "id": "bfcf8b6b",
   "metadata": {},
   "outputs": [],
   "source": [
    "# Algunos aparecen 2 veces probablemente porque se matriculan 2 veces al año, por eso se elimina duplicados\n",
    "termino_duracion_carrera = matriculados[matriculados[\"cursando\"]==0][[\"cat_periodo\", \"codigo_unico\", \"mrun\", \"anio_ing_carr_ori\"]].drop_duplicates()"
   ]
  },
  {
   "cell_type": "code",
   "execution_count": 153,
   "id": "3559d58e",
   "metadata": {},
   "outputs": [
    {
     "data": {
      "text/plain": [
       "count    1.385502e+06\n",
       "mean     1.015913e+00\n",
       "std      1.267622e-01\n",
       "min      1.000000e+00\n",
       "25%      1.000000e+00\n",
       "50%      1.000000e+00\n",
       "75%      1.000000e+00\n",
       "max      4.000000e+00\n",
       "Name: anio_ing_carr_ori, dtype: float64"
      ]
     },
     "execution_count": 153,
     "metadata": {},
     "output_type": "execute_result"
    }
   ],
   "source": [
    "# Se corrobora que solo hay 1 año de ingreso a una carrera por alumno por carrera\n",
    "ai = termino_duracion_carrera.groupby([\"codigo_unico\",\"mrun\"]).agg({\"anio_ing_carr_ori\": pd.Series.nunique}).reset_index()\n",
    "ai[\"anio_ing_carr_ori\"].describe()"
   ]
  },
  {
   "cell_type": "code",
   "execution_count": 154,
   "id": "2391fae7",
   "metadata": {},
   "outputs": [
    {
     "data": {
      "text/plain": [
       "((1385502, 3), (21771, 3), 2.1462520642848513)"
      ]
     },
     "execution_count": 154,
     "metadata": {},
     "output_type": "execute_result"
    }
   ],
   "source": [
    "ai.shape, ai[ai[\"anio_ing_carr_ori\"]>1].shape, 31971/1489620 * 100"
   ]
  },
  {
   "cell_type": "code",
   "execution_count": 155,
   "id": "b97f88ad",
   "metadata": {},
   "outputs": [
    {
     "data": {
      "text/html": [
       "<div>\n",
       "<style scoped>\n",
       "    .dataframe tbody tr th:only-of-type {\n",
       "        vertical-align: middle;\n",
       "    }\n",
       "\n",
       "    .dataframe tbody tr th {\n",
       "        vertical-align: top;\n",
       "    }\n",
       "\n",
       "    .dataframe thead th {\n",
       "        text-align: right;\n",
       "    }\n",
       "</style>\n",
       "<table border=\"1\" class=\"dataframe\">\n",
       "  <thead>\n",
       "    <tr style=\"text-align: right;\">\n",
       "      <th></th>\n",
       "      <th>codigo_unico</th>\n",
       "      <th>mrun</th>\n",
       "      <th>anio_ing_carr_ori</th>\n",
       "    </tr>\n",
       "  </thead>\n",
       "  <tbody>\n",
       "    <tr>\n",
       "      <th>654006</th>\n",
       "      <td>I143S20C26J2V2</td>\n",
       "      <td>10386143.0</td>\n",
       "      <td>4</td>\n",
       "    </tr>\n",
       "    <tr>\n",
       "      <th>952604</th>\n",
       "      <td>I218S1C10J1V1</td>\n",
       "      <td>780252.0</td>\n",
       "      <td>4</td>\n",
       "    </tr>\n",
       "    <tr>\n",
       "      <th>951774</th>\n",
       "      <td>I214S20C19J1V2</td>\n",
       "      <td>15903180.0</td>\n",
       "      <td>4</td>\n",
       "    </tr>\n",
       "    <tr>\n",
       "      <th>1145937</th>\n",
       "      <td>I398S1C134J1V1</td>\n",
       "      <td>20804709.0</td>\n",
       "      <td>4</td>\n",
       "    </tr>\n",
       "    <tr>\n",
       "      <th>1114350</th>\n",
       "      <td>I331S1C115J2V1</td>\n",
       "      <td>19893993.0</td>\n",
       "      <td>4</td>\n",
       "    </tr>\n",
       "    <tr>\n",
       "      <th>...</th>\n",
       "      <td>...</td>\n",
       "      <td>...</td>\n",
       "      <td>...</td>\n",
       "    </tr>\n",
       "    <tr>\n",
       "      <th>465595</th>\n",
       "      <td>I123S2C54J2V1</td>\n",
       "      <td>3468567.0</td>\n",
       "      <td>1</td>\n",
       "    </tr>\n",
       "    <tr>\n",
       "      <th>465594</th>\n",
       "      <td>I123S2C54J2V1</td>\n",
       "      <td>3456839.0</td>\n",
       "      <td>1</td>\n",
       "    </tr>\n",
       "    <tr>\n",
       "      <th>465593</th>\n",
       "      <td>I123S2C54J2V1</td>\n",
       "      <td>2889752.0</td>\n",
       "      <td>1</td>\n",
       "    </tr>\n",
       "    <tr>\n",
       "      <th>465592</th>\n",
       "      <td>I123S2C54J2V1</td>\n",
       "      <td>2832167.0</td>\n",
       "      <td>1</td>\n",
       "    </tr>\n",
       "    <tr>\n",
       "      <th>1385501</th>\n",
       "      <td>I99S1C2J5V1</td>\n",
       "      <td>24826299.0</td>\n",
       "      <td>1</td>\n",
       "    </tr>\n",
       "  </tbody>\n",
       "</table>\n",
       "<p>1385502 rows × 3 columns</p>\n",
       "</div>"
      ],
      "text/plain": [
       "           codigo_unico        mrun  anio_ing_carr_ori\n",
       "654006   I143S20C26J2V2  10386143.0                  4\n",
       "952604    I218S1C10J1V1    780252.0                  4\n",
       "951774   I214S20C19J1V2  15903180.0                  4\n",
       "1145937  I398S1C134J1V1  20804709.0                  4\n",
       "1114350  I331S1C115J2V1  19893993.0                  4\n",
       "...                 ...         ...                ...\n",
       "465595    I123S2C54J2V1   3468567.0                  1\n",
       "465594    I123S2C54J2V1   3456839.0                  1\n",
       "465593    I123S2C54J2V1   2889752.0                  1\n",
       "465592    I123S2C54J2V1   2832167.0                  1\n",
       "1385501     I99S1C2J5V1  24826299.0                  1\n",
       "\n",
       "[1385502 rows x 3 columns]"
      ]
     },
     "execution_count": 155,
     "metadata": {},
     "output_type": "execute_result"
    }
   ],
   "source": [
    "ai.sort_values(by=\"anio_ing_carr_ori\", ascending=False)"
   ]
  },
  {
   "cell_type": "code",
   "execution_count": 156,
   "id": "ba0cd8c8",
   "metadata": {},
   "outputs": [
    {
     "data": {
      "text/html": [
       "<div>\n",
       "<style scoped>\n",
       "    .dataframe tbody tr th:only-of-type {\n",
       "        vertical-align: middle;\n",
       "    }\n",
       "\n",
       "    .dataframe tbody tr th {\n",
       "        vertical-align: top;\n",
       "    }\n",
       "\n",
       "    .dataframe thead th {\n",
       "        text-align: right;\n",
       "    }\n",
       "</style>\n",
       "<table border=\"1\" class=\"dataframe\">\n",
       "  <thead>\n",
       "    <tr style=\"text-align: right;\">\n",
       "      <th></th>\n",
       "      <th>cat_periodo</th>\n",
       "      <th>codigo_unico</th>\n",
       "      <th>mrun</th>\n",
       "      <th>anio_ing_carr_ori</th>\n",
       "      <th>anio_ing_carr_act</th>\n",
       "      <th>tipo_inst_1</th>\n",
       "      <th>dur_estudio_carr</th>\n",
       "      <th>cursando</th>\n",
       "    </tr>\n",
       "  </thead>\n",
       "  <tbody>\n",
       "    <tr>\n",
       "      <th>1033032</th>\n",
       "      <td>2016</td>\n",
       "      <td>I113S10C430J2V1</td>\n",
       "      <td>24146362.0</td>\n",
       "      <td>2016</td>\n",
       "      <td>NaN</td>\n",
       "      <td>Institutos Profesionales</td>\n",
       "      <td>5</td>\n",
       "      <td>0</td>\n",
       "    </tr>\n",
       "    <tr>\n",
       "      <th>1546685</th>\n",
       "      <td>2017</td>\n",
       "      <td>I113S10C430J2V1</td>\n",
       "      <td>24146362.0</td>\n",
       "      <td>2014</td>\n",
       "      <td>2017.0</td>\n",
       "      <td>Institutos Profesionales</td>\n",
       "      <td>5</td>\n",
       "      <td>0</td>\n",
       "    </tr>\n",
       "    <tr>\n",
       "      <th>2056751</th>\n",
       "      <td>2018</td>\n",
       "      <td>I113S10C430J2V1</td>\n",
       "      <td>24146362.0</td>\n",
       "      <td>2015</td>\n",
       "      <td>2017.0</td>\n",
       "      <td>Institutos Profesionales</td>\n",
       "      <td>5</td>\n",
       "      <td>0</td>\n",
       "    </tr>\n",
       "    <tr>\n",
       "      <th>2573541</th>\n",
       "      <td>2019</td>\n",
       "      <td>I113S10C430J2V1</td>\n",
       "      <td>24146362.0</td>\n",
       "      <td>2017</td>\n",
       "      <td>2017.0</td>\n",
       "      <td>Institutos Profesionales</td>\n",
       "      <td>5</td>\n",
       "      <td>0</td>\n",
       "    </tr>\n",
       "  </tbody>\n",
       "</table>\n",
       "</div>"
      ],
      "text/plain": [
       "         cat_periodo     codigo_unico        mrun  anio_ing_carr_ori  \\\n",
       "1033032         2016  I113S10C430J2V1  24146362.0               2016   \n",
       "1546685         2017  I113S10C430J2V1  24146362.0               2014   \n",
       "2056751         2018  I113S10C430J2V1  24146362.0               2015   \n",
       "2573541         2019  I113S10C430J2V1  24146362.0               2017   \n",
       "\n",
       "         anio_ing_carr_act               tipo_inst_1  dur_estudio_carr  \\\n",
       "1033032                NaN  Institutos Profesionales                 5   \n",
       "1546685             2017.0  Institutos Profesionales                 5   \n",
       "2056751             2017.0  Institutos Profesionales                 5   \n",
       "2573541             2017.0  Institutos Profesionales                 5   \n",
       "\n",
       "         cursando  \n",
       "1033032         0  \n",
       "1546685         0  \n",
       "2056751         0  \n",
       "2573541         0  "
      ]
     },
     "execution_count": 156,
     "metadata": {},
     "output_type": "execute_result"
    }
   ],
   "source": [
    "matriculados[(matriculados[\"codigo_unico\"]==\"I113S10C430J2V1\") & (matriculados[\"mrun\"]==24146362.0)]"
   ]
  },
  {
   "cell_type": "code",
   "execution_count": 157,
   "id": "ba6cabe6",
   "metadata": {},
   "outputs": [
    {
     "data": {
      "text/html": [
       "<div>\n",
       "<style scoped>\n",
       "    .dataframe tbody tr th:only-of-type {\n",
       "        vertical-align: middle;\n",
       "    }\n",
       "\n",
       "    .dataframe tbody tr th {\n",
       "        vertical-align: top;\n",
       "    }\n",
       "\n",
       "    .dataframe thead th {\n",
       "        text-align: right;\n",
       "    }\n",
       "</style>\n",
       "<table border=\"1\" class=\"dataframe\">\n",
       "  <thead>\n",
       "    <tr style=\"text-align: right;\">\n",
       "      <th></th>\n",
       "      <th>cat_periodo</th>\n",
       "      <th>codigo_unico</th>\n",
       "      <th>mrun</th>\n",
       "      <th>anio_ing_carr_ori</th>\n",
       "      <th>anio_ing_carr_act</th>\n",
       "      <th>tipo_inst_1</th>\n",
       "      <th>dur_estudio_carr</th>\n",
       "      <th>cursando</th>\n",
       "    </tr>\n",
       "  </thead>\n",
       "  <tbody>\n",
       "    <tr>\n",
       "      <th>1033032</th>\n",
       "      <td>2016</td>\n",
       "      <td>I113S10C430J2V1</td>\n",
       "      <td>24146362.0</td>\n",
       "      <td>2016</td>\n",
       "      <td>NaN</td>\n",
       "      <td>Institutos Profesionales</td>\n",
       "      <td>5</td>\n",
       "      <td>0</td>\n",
       "    </tr>\n",
       "    <tr>\n",
       "      <th>1546685</th>\n",
       "      <td>2017</td>\n",
       "      <td>I113S10C430J2V1</td>\n",
       "      <td>24146362.0</td>\n",
       "      <td>2014</td>\n",
       "      <td>2017.0</td>\n",
       "      <td>Institutos Profesionales</td>\n",
       "      <td>5</td>\n",
       "      <td>0</td>\n",
       "    </tr>\n",
       "    <tr>\n",
       "      <th>2056751</th>\n",
       "      <td>2018</td>\n",
       "      <td>I113S10C430J2V1</td>\n",
       "      <td>24146362.0</td>\n",
       "      <td>2015</td>\n",
       "      <td>2017.0</td>\n",
       "      <td>Institutos Profesionales</td>\n",
       "      <td>5</td>\n",
       "      <td>0</td>\n",
       "    </tr>\n",
       "    <tr>\n",
       "      <th>2573541</th>\n",
       "      <td>2019</td>\n",
       "      <td>I113S10C430J2V1</td>\n",
       "      <td>24146362.0</td>\n",
       "      <td>2017</td>\n",
       "      <td>2017.0</td>\n",
       "      <td>Institutos Profesionales</td>\n",
       "      <td>5</td>\n",
       "      <td>0</td>\n",
       "    </tr>\n",
       "    <tr>\n",
       "      <th>1377554</th>\n",
       "      <td>2017</td>\n",
       "      <td>I214S20C19J1V2</td>\n",
       "      <td>15903180.0</td>\n",
       "      <td>2017</td>\n",
       "      <td>2017.0</td>\n",
       "      <td>Centros de Formación Técnica</td>\n",
       "      <td>3</td>\n",
       "      <td>0</td>\n",
       "    </tr>\n",
       "    <tr>\n",
       "      <th>2404324</th>\n",
       "      <td>2019</td>\n",
       "      <td>I214S20C19J1V2</td>\n",
       "      <td>15903180.0</td>\n",
       "      <td>2018</td>\n",
       "      <td>2018.0</td>\n",
       "      <td>Centros de Formación Técnica</td>\n",
       "      <td>3</td>\n",
       "      <td>0</td>\n",
       "    </tr>\n",
       "    <tr>\n",
       "      <th>2905998</th>\n",
       "      <td>2020</td>\n",
       "      <td>I214S20C19J1V2</td>\n",
       "      <td>15903180.0</td>\n",
       "      <td>2019</td>\n",
       "      <td>2019.0</td>\n",
       "      <td>Centros de Formación Técnica</td>\n",
       "      <td>3</td>\n",
       "      <td>0</td>\n",
       "    </tr>\n",
       "    <tr>\n",
       "      <th>3410532</th>\n",
       "      <td>2021</td>\n",
       "      <td>I214S20C19J1V2</td>\n",
       "      <td>15903180.0</td>\n",
       "      <td>2016</td>\n",
       "      <td>2016.0</td>\n",
       "      <td>Centros de Formación Técnica</td>\n",
       "      <td>3</td>\n",
       "      <td>0</td>\n",
       "    </tr>\n",
       "  </tbody>\n",
       "</table>\n",
       "</div>"
      ],
      "text/plain": [
       "         cat_periodo     codigo_unico        mrun  anio_ing_carr_ori  \\\n",
       "1033032         2016  I113S10C430J2V1  24146362.0               2016   \n",
       "1546685         2017  I113S10C430J2V1  24146362.0               2014   \n",
       "2056751         2018  I113S10C430J2V1  24146362.0               2015   \n",
       "2573541         2019  I113S10C430J2V1  24146362.0               2017   \n",
       "1377554         2017   I214S20C19J1V2  15903180.0               2017   \n",
       "2404324         2019   I214S20C19J1V2  15903180.0               2018   \n",
       "2905998         2020   I214S20C19J1V2  15903180.0               2019   \n",
       "3410532         2021   I214S20C19J1V2  15903180.0               2016   \n",
       "\n",
       "         anio_ing_carr_act                   tipo_inst_1  dur_estudio_carr  \\\n",
       "1033032                NaN      Institutos Profesionales                 5   \n",
       "1546685             2017.0      Institutos Profesionales                 5   \n",
       "2056751             2017.0      Institutos Profesionales                 5   \n",
       "2573541             2017.0      Institutos Profesionales                 5   \n",
       "1377554             2017.0  Centros de Formación Técnica                 3   \n",
       "2404324             2018.0  Centros de Formación Técnica                 3   \n",
       "2905998             2019.0  Centros de Formación Técnica                 3   \n",
       "3410532             2016.0  Centros de Formación Técnica                 3   \n",
       "\n",
       "         cursando  \n",
       "1033032         0  \n",
       "1546685         0  \n",
       "2056751         0  \n",
       "2573541         0  \n",
       "1377554         0  \n",
       "2404324         0  \n",
       "2905998         0  \n",
       "3410532         0  "
      ]
     },
     "execution_count": 157,
     "metadata": {},
     "output_type": "execute_result"
    }
   ],
   "source": [
    "matriculados[(matriculados[\"codigo_unico\"].isin([\"I113S10C430J2V1\", \"I214S20C19J1V2\"])) & (matriculados[\"mrun\"].isin([24146362.0, 15903180.0]))].sort_values(by=[\"codigo_unico\"])"
   ]
  },
  {
   "cell_type": "code",
   "execution_count": 158,
   "id": "c648f6ee",
   "metadata": {},
   "outputs": [
    {
     "data": {
      "text/html": [
       "<div>\n",
       "<style scoped>\n",
       "    .dataframe tbody tr th:only-of-type {\n",
       "        vertical-align: middle;\n",
       "    }\n",
       "\n",
       "    .dataframe tbody tr th {\n",
       "        vertical-align: top;\n",
       "    }\n",
       "\n",
       "    .dataframe thead th {\n",
       "        text-align: right;\n",
       "    }\n",
       "</style>\n",
       "<table border=\"1\" class=\"dataframe\">\n",
       "  <thead>\n",
       "    <tr style=\"text-align: right;\">\n",
       "      <th></th>\n",
       "      <th>cat_periodo</th>\n",
       "      <th>codigo_unico</th>\n",
       "      <th>mrun</th>\n",
       "      <th>anio_ing_carr_ori</th>\n",
       "      <th>anio_ing_carr_act</th>\n",
       "      <th>tipo_inst_1</th>\n",
       "      <th>dur_estudio_carr</th>\n",
       "      <th>cursando</th>\n",
       "    </tr>\n",
       "  </thead>\n",
       "  <tbody>\n",
       "    <tr>\n",
       "      <th>507008</th>\n",
       "      <td>2015</td>\n",
       "      <td>I113S10C435J2V1</td>\n",
       "      <td>24146362.0</td>\n",
       "      <td>2014</td>\n",
       "      <td>NaN</td>\n",
       "      <td>Institutos Profesionales</td>\n",
       "      <td>5</td>\n",
       "      <td>0</td>\n",
       "    </tr>\n",
       "    <tr>\n",
       "      <th>1033032</th>\n",
       "      <td>2016</td>\n",
       "      <td>I113S10C430J2V1</td>\n",
       "      <td>24146362.0</td>\n",
       "      <td>2016</td>\n",
       "      <td>NaN</td>\n",
       "      <td>Institutos Profesionales</td>\n",
       "      <td>5</td>\n",
       "      <td>0</td>\n",
       "    </tr>\n",
       "    <tr>\n",
       "      <th>1546685</th>\n",
       "      <td>2017</td>\n",
       "      <td>I113S10C430J2V1</td>\n",
       "      <td>24146362.0</td>\n",
       "      <td>2014</td>\n",
       "      <td>2017.0</td>\n",
       "      <td>Institutos Profesionales</td>\n",
       "      <td>5</td>\n",
       "      <td>0</td>\n",
       "    </tr>\n",
       "    <tr>\n",
       "      <th>2056751</th>\n",
       "      <td>2018</td>\n",
       "      <td>I113S10C430J2V1</td>\n",
       "      <td>24146362.0</td>\n",
       "      <td>2015</td>\n",
       "      <td>2017.0</td>\n",
       "      <td>Institutos Profesionales</td>\n",
       "      <td>5</td>\n",
       "      <td>0</td>\n",
       "    </tr>\n",
       "    <tr>\n",
       "      <th>2573541</th>\n",
       "      <td>2019</td>\n",
       "      <td>I113S10C430J2V1</td>\n",
       "      <td>24146362.0</td>\n",
       "      <td>2017</td>\n",
       "      <td>2017.0</td>\n",
       "      <td>Institutos Profesionales</td>\n",
       "      <td>5</td>\n",
       "      <td>0</td>\n",
       "    </tr>\n",
       "  </tbody>\n",
       "</table>\n",
       "</div>"
      ],
      "text/plain": [
       "         cat_periodo     codigo_unico        mrun  anio_ing_carr_ori  \\\n",
       "507008          2015  I113S10C435J2V1  24146362.0               2014   \n",
       "1033032         2016  I113S10C430J2V1  24146362.0               2016   \n",
       "1546685         2017  I113S10C430J2V1  24146362.0               2014   \n",
       "2056751         2018  I113S10C430J2V1  24146362.0               2015   \n",
       "2573541         2019  I113S10C430J2V1  24146362.0               2017   \n",
       "\n",
       "         anio_ing_carr_act               tipo_inst_1  dur_estudio_carr  \\\n",
       "507008                 NaN  Institutos Profesionales                 5   \n",
       "1033032                NaN  Institutos Profesionales                 5   \n",
       "1546685             2017.0  Institutos Profesionales                 5   \n",
       "2056751             2017.0  Institutos Profesionales                 5   \n",
       "2573541             2017.0  Institutos Profesionales                 5   \n",
       "\n",
       "         cursando  \n",
       "507008          0  \n",
       "1033032         0  \n",
       "1546685         0  \n",
       "2056751         0  \n",
       "2573541         0  "
      ]
     },
     "execution_count": 158,
     "metadata": {},
     "output_type": "execute_result"
    }
   ],
   "source": [
    "matriculados[matriculados[\"mrun\"].isin([24146362.0])]"
   ]
  },
  {
   "cell_type": "code",
   "execution_count": 159,
   "id": "e7922cd2",
   "metadata": {},
   "outputs": [],
   "source": [
    "termino_anio_ori_unico = termino_duracion_carrera[\n",
    "    (termino_duracion_carrera[\"codigo_unico\"].isin(ai[ai[\"anio_ing_carr_ori\"]>1][\"codigo_unico\"]))\n",
    "    & (termino_duracion_carrera[\"mrun\"].isin(ai[ai[\"anio_ing_carr_ori\"]>1][\"mrun\"]))\n",
    "]"
   ]
  },
  {
   "cell_type": "code",
   "execution_count": 160,
   "id": "95387a4c",
   "metadata": {},
   "outputs": [
    {
     "data": {
      "text/html": [
       "<div>\n",
       "<style scoped>\n",
       "    .dataframe tbody tr th:only-of-type {\n",
       "        vertical-align: middle;\n",
       "    }\n",
       "\n",
       "    .dataframe tbody tr th {\n",
       "        vertical-align: top;\n",
       "    }\n",
       "\n",
       "    .dataframe thead th {\n",
       "        text-align: right;\n",
       "    }\n",
       "</style>\n",
       "<table border=\"1\" class=\"dataframe\">\n",
       "  <thead>\n",
       "    <tr style=\"text-align: right;\">\n",
       "      <th></th>\n",
       "      <th>codigo_unico</th>\n",
       "      <th>mrun</th>\n",
       "      <th>cantidad_de_anios_cursados_por_carrera</th>\n",
       "    </tr>\n",
       "  </thead>\n",
       "  <tbody>\n",
       "    <tr>\n",
       "      <th>317556</th>\n",
       "      <td>I113S10C430J2V1</td>\n",
       "      <td>24146362.0</td>\n",
       "      <td>4</td>\n",
       "    </tr>\n",
       "  </tbody>\n",
       "</table>\n",
       "</div>"
      ],
      "text/plain": [
       "           codigo_unico        mrun  cantidad_de_anios_cursados_por_carrera\n",
       "317556  I113S10C430J2V1  24146362.0                                       4"
      ]
     },
     "execution_count": 160,
     "metadata": {},
     "output_type": "execute_result"
    }
   ],
   "source": [
    "t = termino_duracion_carrera.groupby([\"codigo_unico\", \"mrun\"]).size().reset_index(name=\"cantidad_de_anios_cursados_por_carrera\")\n",
    "t[(t[\"codigo_unico\"]==\"I113S10C430J2V1\") & (t[\"mrun\"]==24146362.0)]"
   ]
  },
  {
   "cell_type": "code",
   "execution_count": 161,
   "id": "2303a5a5",
   "metadata": {},
   "outputs": [
    {
     "name": "stderr",
     "output_type": "stream",
     "text": [
      "/tmp/ipykernel_3461/1634338879.py:2: UserWarning: Boolean Series key will be reindexed to match DataFrame index.\n",
      "  t2[(t2[\"codigo_unico\"]==\"I113S10C430J2V1\") & (t[\"mrun\"]==24146362.0)]\n"
     ]
    },
    {
     "data": {
      "text/html": [
       "<div>\n",
       "<style scoped>\n",
       "    .dataframe tbody tr th:only-of-type {\n",
       "        vertical-align: middle;\n",
       "    }\n",
       "\n",
       "    .dataframe tbody tr th {\n",
       "        vertical-align: top;\n",
       "    }\n",
       "\n",
       "    .dataframe thead th {\n",
       "        text-align: right;\n",
       "    }\n",
       "</style>\n",
       "<table border=\"1\" class=\"dataframe\">\n",
       "  <thead>\n",
       "    <tr style=\"text-align: right;\">\n",
       "      <th></th>\n",
       "      <th>codigo_unico</th>\n",
       "      <th>mrun</th>\n",
       "      <th>cantidad_de_anios_cursados_por_carrera</th>\n",
       "    </tr>\n",
       "  </thead>\n",
       "  <tbody>\n",
       "  </tbody>\n",
       "</table>\n",
       "</div>"
      ],
      "text/plain": [
       "Empty DataFrame\n",
       "Columns: [codigo_unico, mrun, cantidad_de_anios_cursados_por_carrera]\n",
       "Index: []"
      ]
     },
     "execution_count": 161,
     "metadata": {},
     "output_type": "execute_result"
    }
   ],
   "source": [
    "t2 = termino_anio_ori_unico.groupby([\"codigo_unico\", \"mrun\"]).size().reset_index(name=\"cantidad_de_anios_cursados_por_carrera\")\n",
    "t2[(t2[\"codigo_unico\"]==\"I113S10C430J2V1\") & (t[\"mrun\"]==24146362.0)]"
   ]
  },
  {
   "cell_type": "code",
   "execution_count": 162,
   "id": "32e6863c",
   "metadata": {},
   "outputs": [
    {
     "data": {
      "text/html": [
       "<div>\n",
       "<style scoped>\n",
       "    .dataframe tbody tr th:only-of-type {\n",
       "        vertical-align: middle;\n",
       "    }\n",
       "\n",
       "    .dataframe tbody tr th {\n",
       "        vertical-align: top;\n",
       "    }\n",
       "\n",
       "    .dataframe thead th {\n",
       "        text-align: right;\n",
       "    }\n",
       "</style>\n",
       "<table border=\"1\" class=\"dataframe\">\n",
       "  <thead>\n",
       "    <tr style=\"text-align: right;\">\n",
       "      <th></th>\n",
       "      <th>codigo_unico</th>\n",
       "      <th>mrun</th>\n",
       "      <th>cantidad_de_anios_cursados_por_carrera</th>\n",
       "      <th>ultimo_anio_matricula</th>\n",
       "      <th>primer_anio_matricula</th>\n",
       "      <th>duracion_carrera_anios</th>\n",
       "    </tr>\n",
       "  </thead>\n",
       "  <tbody>\n",
       "    <tr>\n",
       "      <th>644343</th>\n",
       "      <td>I143S15C17J1V1</td>\n",
       "      <td>11040267.0</td>\n",
       "      <td>8</td>\n",
       "      <td>2022</td>\n",
       "      <td>2015</td>\n",
       "      <td>3.5</td>\n",
       "    </tr>\n",
       "    <tr>\n",
       "      <th>442137</th>\n",
       "      <td>I123S1C25J1V1</td>\n",
       "      <td>23044049.0</td>\n",
       "      <td>8</td>\n",
       "      <td>2022</td>\n",
       "      <td>2014</td>\n",
       "      <td>5.0</td>\n",
       "    </tr>\n",
       "    <tr>\n",
       "      <th>271242</th>\n",
       "      <td>I111S4C6J1V1</td>\n",
       "      <td>991300.0</td>\n",
       "      <td>8</td>\n",
       "      <td>2022</td>\n",
       "      <td>2015</td>\n",
       "      <td>4.0</td>\n",
       "    </tr>\n",
       "    <tr>\n",
       "      <th>461242</th>\n",
       "      <td>I123S2C30J1V1</td>\n",
       "      <td>6597333.0</td>\n",
       "      <td>8</td>\n",
       "      <td>2022</td>\n",
       "      <td>2015</td>\n",
       "      <td>5.0</td>\n",
       "    </tr>\n",
       "    <tr>\n",
       "      <th>461162</th>\n",
       "      <td>I123S2C30J1V1</td>\n",
       "      <td>4090255.0</td>\n",
       "      <td>8</td>\n",
       "      <td>2022</td>\n",
       "      <td>2015</td>\n",
       "      <td>5.0</td>\n",
       "    </tr>\n",
       "    <tr>\n",
       "      <th>...</th>\n",
       "      <td>...</td>\n",
       "      <td>...</td>\n",
       "      <td>...</td>\n",
       "      <td>...</td>\n",
       "      <td>...</td>\n",
       "      <td>...</td>\n",
       "    </tr>\n",
       "    <tr>\n",
       "      <th>187113</th>\n",
       "      <td>I111S20C471J1V1</td>\n",
       "      <td>22504462.0</td>\n",
       "      <td>1</td>\n",
       "      <td>2019</td>\n",
       "      <td>2018</td>\n",
       "      <td>2.5</td>\n",
       "    </tr>\n",
       "    <tr>\n",
       "      <th>187112</th>\n",
       "      <td>I111S20C471J1V1</td>\n",
       "      <td>22436136.0</td>\n",
       "      <td>1</td>\n",
       "      <td>2017</td>\n",
       "      <td>2017</td>\n",
       "      <td>2.5</td>\n",
       "    </tr>\n",
       "    <tr>\n",
       "      <th>187111</th>\n",
       "      <td>I111S20C471J1V1</td>\n",
       "      <td>22203391.0</td>\n",
       "      <td>1</td>\n",
       "      <td>2019</td>\n",
       "      <td>2019</td>\n",
       "      <td>2.5</td>\n",
       "    </tr>\n",
       "    <tr>\n",
       "      <th>187109</th>\n",
       "      <td>I111S20C471J1V1</td>\n",
       "      <td>21323635.0</td>\n",
       "      <td>1</td>\n",
       "      <td>2017</td>\n",
       "      <td>2016</td>\n",
       "      <td>2.5</td>\n",
       "    </tr>\n",
       "    <tr>\n",
       "      <th>0</th>\n",
       "      <td>I100M2016N1</td>\n",
       "      <td>16733407.0</td>\n",
       "      <td>1</td>\n",
       "      <td>2016</td>\n",
       "      <td>2008</td>\n",
       "      <td>4.0</td>\n",
       "    </tr>\n",
       "  </tbody>\n",
       "</table>\n",
       "<p>1478943 rows × 6 columns</p>\n",
       "</div>"
      ],
      "text/plain": [
       "           codigo_unico        mrun  cantidad_de_anios_cursados_por_carrera  \\\n",
       "644343   I143S15C17J1V1  11040267.0                                       8   \n",
       "442137    I123S1C25J1V1  23044049.0                                       8   \n",
       "271242     I111S4C6J1V1    991300.0                                       8   \n",
       "461242    I123S2C30J1V1   6597333.0                                       8   \n",
       "461162    I123S2C30J1V1   4090255.0                                       8   \n",
       "...                 ...         ...                                     ...   \n",
       "187113  I111S20C471J1V1  22504462.0                                       1   \n",
       "187112  I111S20C471J1V1  22436136.0                                       1   \n",
       "187111  I111S20C471J1V1  22203391.0                                       1   \n",
       "187109  I111S20C471J1V1  21323635.0                                       1   \n",
       "0           I100M2016N1  16733407.0                                       1   \n",
       "\n",
       "        ultimo_anio_matricula  primer_anio_matricula  duracion_carrera_anios  \n",
       "644343                   2022                   2015                     3.5  \n",
       "442137                   2022                   2014                     5.0  \n",
       "271242                   2022                   2015                     4.0  \n",
       "461242                   2022                   2015                     5.0  \n",
       "461162                   2022                   2015                     5.0  \n",
       "...                       ...                    ...                     ...  \n",
       "187113                   2019                   2018                     2.5  \n",
       "187112                   2017                   2017                     2.5  \n",
       "187111                   2019                   2019                     2.5  \n",
       "187109                   2017                   2016                     2.5  \n",
       "0                        2016                   2008                     4.0  \n",
       "\n",
       "[1478943 rows x 6 columns]"
      ]
     },
     "execution_count": 162,
     "metadata": {},
     "output_type": "execute_result"
    }
   ],
   "source": [
    "anios_matriculado = pd.merge(\n",
    "    pd.merge(\n",
    "        pd.merge(\n",
    "            termino_duracion_carrera.groupby( \n",
    "                [\"codigo_unico\", \"mrun\"]\n",
    "            ).size().reset_index(name=\"cantidad_de_anios_cursados_por_carrera\"),\n",
    "            matriculados[[\"codigo_unico\", \"dur_estudio_carr\"]].drop_duplicates(),\n",
    "            how=\"left\"\n",
    "        ),\n",
    "        termino_duracion_carrera.groupby([\"codigo_unico\",\"mrun\"])[\"cat_periodo\"].max().reset_index().rename(columns={\"cat_periodo\": \"ultimo_anio_matricula\"}),\n",
    "        how=\"left\"\n",
    "    ),\n",
    "    termino_duracion_carrera.groupby([\"codigo_unico\",\"mrun\"])[\"anio_ing_carr_ori\"].max().reset_index().rename(columns={\"anio_ing_carr_ori\": \"primer_anio_matricula\"}),\n",
    "    how=\"left\"\n",
    ")\n",
    "\n",
    "anios_matriculado[\"duracion_carrera_anios\"] = anios_matriculado[\"dur_estudio_carr\"] / 2\n",
    "\n",
    "anios_matriculado.drop(columns=[\"dur_estudio_carr\"]).sort_values(by=[\"cantidad_de_anios_cursados_por_carrera\"], ascending=False)"
   ]
  },
  {
   "cell_type": "code",
   "execution_count": null,
   "id": "4d4e40ad",
   "metadata": {},
   "outputs": [],
   "source": [
    "# Se debe marcar coo desertor al alumno en el último año cursado"
   ]
  },
  {
   "cell_type": "code",
   "execution_count": 163,
   "id": "272d7716",
   "metadata": {},
   "outputs": [],
   "source": [
    "#### DEBUGS"
   ]
  },
  {
   "cell_type": "code",
   "execution_count": null,
   "id": "44fa88a0",
   "metadata": {},
   "outputs": [],
   "source": [
    "1589215 "
   ]
  },
  {
   "cell_type": "code",
   "execution_count": null,
   "id": "9e82dd21",
   "metadata": {},
   "outputs": [],
   "source": [
    "matriculados[\"mrun\"].value_counts().head()"
   ]
  },
  {
   "cell_type": "code",
   "execution_count": null,
   "id": "c4cfdd5e",
   "metadata": {},
   "outputs": [],
   "source": [
    "matriculados[matriculados[\"mrun\"]==7085589.0].sort_values(by=[\"mrun\", \"cat_periodo\"]).head(10)"
   ]
  },
  {
   "cell_type": "code",
   "execution_count": null,
   "id": "ff5fa432",
   "metadata": {},
   "outputs": [],
   "source": []
  }
 ],
 "metadata": {
  "kernelspec": {
   "display_name": "Python 3 (ipykernel)",
   "language": "python",
   "name": "python3"
  },
  "language_info": {
   "codemirror_mode": {
    "name": "ipython",
    "version": 3
   },
   "file_extension": ".py",
   "mimetype": "text/x-python",
   "name": "python",
   "nbconvert_exporter": "python",
   "pygments_lexer": "ipython3",
   "version": "3.9.12"
  }
 },
 "nbformat": 4,
 "nbformat_minor": 5
}
