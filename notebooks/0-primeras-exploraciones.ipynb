{
 "cells": [
  {
   "cell_type": "code",
   "execution_count": 1,
   "id": "db69ddaf",
   "metadata": {},
   "outputs": [],
   "source": [
    "import pandas as pd\n",
    "import numpy as np\n",
    "from glob import glob\n",
    "from tqdm.notebook import tqdm\n",
    "\n",
    "BASE = \"/media/giani/Gianicosas/Magister/Proyecto/raw_data\""
   ]
  },
  {
   "cell_type": "markdown",
   "id": "a5c1b6f8",
   "metadata": {},
   "source": [
    "# Proceso de matricula\n",
    "\n",
    "## Datos\n",
    "\n",
    "Se comparará la cantidad de alumnos por carrera por año para validación de datos"
   ]
  },
  {
   "cell_type": "code",
   "execution_count": 2,
   "id": "9ce051b5",
   "metadata": {},
   "outputs": [
    {
     "name": "stderr",
     "output_type": "stream",
     "text": [
      "/tmp/ipykernel_12671/618280487.py:2: DtypeWarning: Columns (27) have mixed types. Specify dtype option on import or set low_memory=False.\n",
      "  proceso = pd.read_csv(f\"{BASE}/OFICIAL_WEB_PROCESO_MAT_2007_AL_2022_24_06_2022_E.csv\", encoding=\"latin-1\", sep=\";\")\n"
     ]
    },
    {
     "data": {
      "text/html": [
       "<div>\n",
       "<style scoped>\n",
       "    .dataframe tbody tr th:only-of-type {\n",
       "        vertical-align: middle;\n",
       "    }\n",
       "\n",
       "    .dataframe tbody tr th {\n",
       "        vertical-align: top;\n",
       "    }\n",
       "\n",
       "    .dataframe thead th {\n",
       "        text-align: right;\n",
       "    }\n",
       "</style>\n",
       "<table border=\"1\" class=\"dataframe\">\n",
       "  <thead>\n",
       "    <tr style=\"text-align: right;\">\n",
       "      <th></th>\n",
       "      <th>AÑO</th>\n",
       "      <th>TOTAL MATRICULADOS</th>\n",
       "      <th>MATRICULADOS MUJERES POR PROGRAMA</th>\n",
       "      <th>MATRICULADOS HOMBRES POR PROGRAMA</th>\n",
       "      <th>TOTAL MATRICULADOS PRIMER AÑO</th>\n",
       "      <th>MATRICULADOS MUJERES PRIMER AÑO</th>\n",
       "      <th>MATRICULADOS HOMBRES PRIMER AÑO</th>\n",
       "      <th>CLASIFICACIÓN INSTITUCIÓN NIVEL 1</th>\n",
       "      <th>CLASIFICACIÓN INSTITUCIÓN NIVEL 2</th>\n",
       "      <th>CLASIFICACIÓN INSTITUCIÓN NIVEL 3</th>\n",
       "      <th>...</th>\n",
       "      <th>TES PARTICULAR SUBVENCIONADO</th>\n",
       "      <th>TES PARTICULAR PAGADO</th>\n",
       "      <th>TES CORP. DE ADMINISTRACIÓN DELEGADA</th>\n",
       "      <th>TES SERVICIO LOCAL EDUCACION</th>\n",
       "      <th>TOTAL TES</th>\n",
       "      <th>% COBERTURA TES</th>\n",
       "      <th>TIPO ESTABLECIMIENTO HC</th>\n",
       "      <th>TIPO ESTABLECIMIENTO TP</th>\n",
       "      <th>CLAS_EST ADULTO</th>\n",
       "      <th>CLAS_EST JOVEN</th>\n",
       "    </tr>\n",
       "  </thead>\n",
       "  <tbody>\n",
       "    <tr>\n",
       "      <th>0</th>\n",
       "      <td>MAT_2022</td>\n",
       "      <td>2</td>\n",
       "      <td>2.0</td>\n",
       "      <td>NaN</td>\n",
       "      <td>NaN</td>\n",
       "      <td>NaN</td>\n",
       "      <td>NaN</td>\n",
       "      <td>Institutos Profesionales</td>\n",
       "      <td>Institutos Profesionales</td>\n",
       "      <td>Institutos Profesionales</td>\n",
       "      <td>...</td>\n",
       "      <td>2.0</td>\n",
       "      <td>NaN</td>\n",
       "      <td>NaN</td>\n",
       "      <td>NaN</td>\n",
       "      <td>2</td>\n",
       "      <td>100,0%</td>\n",
       "      <td>2.0</td>\n",
       "      <td>NaN</td>\n",
       "      <td>NaN</td>\n",
       "      <td>2.0</td>\n",
       "    </tr>\n",
       "    <tr>\n",
       "      <th>1</th>\n",
       "      <td>MAT_2022</td>\n",
       "      <td>10</td>\n",
       "      <td>8.0</td>\n",
       "      <td>2.0</td>\n",
       "      <td>NaN</td>\n",
       "      <td>NaN</td>\n",
       "      <td>NaN</td>\n",
       "      <td>Institutos Profesionales</td>\n",
       "      <td>Institutos Profesionales</td>\n",
       "      <td>Institutos Profesionales</td>\n",
       "      <td>...</td>\n",
       "      <td>3.0</td>\n",
       "      <td>2.0</td>\n",
       "      <td>NaN</td>\n",
       "      <td>NaN</td>\n",
       "      <td>9</td>\n",
       "      <td>90,0%</td>\n",
       "      <td>4.0</td>\n",
       "      <td>5.0</td>\n",
       "      <td>2.0</td>\n",
       "      <td>7.0</td>\n",
       "    </tr>\n",
       "    <tr>\n",
       "      <th>2</th>\n",
       "      <td>MAT_2022</td>\n",
       "      <td>34</td>\n",
       "      <td>NaN</td>\n",
       "      <td>34.0</td>\n",
       "      <td>NaN</td>\n",
       "      <td>NaN</td>\n",
       "      <td>NaN</td>\n",
       "      <td>Institutos Profesionales</td>\n",
       "      <td>Institutos Profesionales</td>\n",
       "      <td>Institutos Profesionales</td>\n",
       "      <td>...</td>\n",
       "      <td>14.0</td>\n",
       "      <td>3.0</td>\n",
       "      <td>NaN</td>\n",
       "      <td>NaN</td>\n",
       "      <td>26</td>\n",
       "      <td>76,5%</td>\n",
       "      <td>17.0</td>\n",
       "      <td>9.0</td>\n",
       "      <td>4.0</td>\n",
       "      <td>22.0</td>\n",
       "    </tr>\n",
       "    <tr>\n",
       "      <th>3</th>\n",
       "      <td>MAT_2022</td>\n",
       "      <td>10</td>\n",
       "      <td>NaN</td>\n",
       "      <td>10.0</td>\n",
       "      <td>NaN</td>\n",
       "      <td>NaN</td>\n",
       "      <td>NaN</td>\n",
       "      <td>Institutos Profesionales</td>\n",
       "      <td>Institutos Profesionales</td>\n",
       "      <td>Institutos Profesionales</td>\n",
       "      <td>...</td>\n",
       "      <td>4.0</td>\n",
       "      <td>NaN</td>\n",
       "      <td>NaN</td>\n",
       "      <td>NaN</td>\n",
       "      <td>10</td>\n",
       "      <td>100,0%</td>\n",
       "      <td>6.0</td>\n",
       "      <td>4.0</td>\n",
       "      <td>1.0</td>\n",
       "      <td>9.0</td>\n",
       "    </tr>\n",
       "    <tr>\n",
       "      <th>4</th>\n",
       "      <td>MAT_2022</td>\n",
       "      <td>76</td>\n",
       "      <td>4.0</td>\n",
       "      <td>72.0</td>\n",
       "      <td>NaN</td>\n",
       "      <td>NaN</td>\n",
       "      <td>NaN</td>\n",
       "      <td>Institutos Profesionales</td>\n",
       "      <td>Institutos Profesionales</td>\n",
       "      <td>Institutos Profesionales</td>\n",
       "      <td>...</td>\n",
       "      <td>29.0</td>\n",
       "      <td>6.0</td>\n",
       "      <td>4.0</td>\n",
       "      <td>NaN</td>\n",
       "      <td>71</td>\n",
       "      <td>93,4%</td>\n",
       "      <td>30.0</td>\n",
       "      <td>41.0</td>\n",
       "      <td>4.0</td>\n",
       "      <td>67.0</td>\n",
       "    </tr>\n",
       "  </tbody>\n",
       "</table>\n",
       "<p>5 rows × 56 columns</p>\n",
       "</div>"
      ],
      "text/plain": [
       "        AÑO  TOTAL MATRICULADOS  MATRICULADOS MUJERES POR PROGRAMA  \\\n",
       "0  MAT_2022                   2                                2.0   \n",
       "1  MAT_2022                  10                                8.0   \n",
       "2  MAT_2022                  34                                NaN   \n",
       "3  MAT_2022                  10                                NaN   \n",
       "4  MAT_2022                  76                                4.0   \n",
       "\n",
       "   MATRICULADOS HOMBRES POR PROGRAMA  TOTAL MATRICULADOS PRIMER AÑO  \\\n",
       "0                                NaN                            NaN   \n",
       "1                                2.0                            NaN   \n",
       "2                               34.0                            NaN   \n",
       "3                               10.0                            NaN   \n",
       "4                               72.0                            NaN   \n",
       "\n",
       "   MATRICULADOS MUJERES PRIMER AÑO  MATRICULADOS HOMBRES PRIMER AÑO  \\\n",
       "0                              NaN                              NaN   \n",
       "1                              NaN                              NaN   \n",
       "2                              NaN                              NaN   \n",
       "3                              NaN                              NaN   \n",
       "4                              NaN                              NaN   \n",
       "\n",
       "  CLASIFICACIÓN INSTITUCIÓN NIVEL 1 CLASIFICACIÓN INSTITUCIÓN NIVEL 2  \\\n",
       "0          Institutos Profesionales          Institutos Profesionales   \n",
       "1          Institutos Profesionales          Institutos Profesionales   \n",
       "2          Institutos Profesionales          Institutos Profesionales   \n",
       "3          Institutos Profesionales          Institutos Profesionales   \n",
       "4          Institutos Profesionales          Institutos Profesionales   \n",
       "\n",
       "  CLASIFICACIÓN INSTITUCIÓN NIVEL 3  ...  TES PARTICULAR SUBVENCIONADO  \\\n",
       "0          Institutos Profesionales  ...                           2.0   \n",
       "1          Institutos Profesionales  ...                           3.0   \n",
       "2          Institutos Profesionales  ...                          14.0   \n",
       "3          Institutos Profesionales  ...                           4.0   \n",
       "4          Institutos Profesionales  ...                          29.0   \n",
       "\n",
       "  TES PARTICULAR PAGADO TES CORP. DE ADMINISTRACIÓN DELEGADA  \\\n",
       "0                   NaN                                  NaN   \n",
       "1                   2.0                                  NaN   \n",
       "2                   3.0                                  NaN   \n",
       "3                   NaN                                  NaN   \n",
       "4                   6.0                                  4.0   \n",
       "\n",
       "  TES SERVICIO LOCAL EDUCACION TOTAL TES % COBERTURA TES  \\\n",
       "0                          NaN         2          100,0%   \n",
       "1                          NaN         9           90,0%   \n",
       "2                          NaN        26           76,5%   \n",
       "3                          NaN        10          100,0%   \n",
       "4                          NaN        71           93,4%   \n",
       "\n",
       "  TIPO ESTABLECIMIENTO HC TIPO ESTABLECIMIENTO TP CLAS_EST ADULTO  \\\n",
       "0                     2.0                     NaN             NaN   \n",
       "1                     4.0                     5.0             2.0   \n",
       "2                    17.0                     9.0             4.0   \n",
       "3                     6.0                     4.0             1.0   \n",
       "4                    30.0                    41.0             4.0   \n",
       "\n",
       "  CLAS_EST JOVEN  \n",
       "0            2.0  \n",
       "1            7.0  \n",
       "2           22.0  \n",
       "3            9.0  \n",
       "4           67.0  \n",
       "\n",
       "[5 rows x 56 columns]"
      ]
     },
     "execution_count": 2,
     "metadata": {},
     "output_type": "execute_result"
    }
   ],
   "source": [
    "# Fuente: https://www.mifuturo.cl/bases-de-datos-de-matriculados/\n",
    "proceso = pd.read_csv(f\"{BASE}/OFICIAL_WEB_PROCESO_MAT_2007_AL_2022_24_06_2022_E.csv\", encoding=\"latin-1\", sep=\";\")\n",
    "proceso.head()"
   ]
  },
  {
   "cell_type": "code",
   "execution_count": 3,
   "id": "8868e2c6",
   "metadata": {},
   "outputs": [],
   "source": [
    "proceso = proceso[proceso[\"CLASIFICACIÓN INSTITUCIÓN NIVEL 1\"].isin(['Institutos Profesionales', 'Centros de Formación Técnica'])]"
   ]
  },
  {
   "cell_type": "code",
   "execution_count": 4,
   "id": "97628234",
   "metadata": {},
   "outputs": [
    {
     "data": {
      "text/plain": [
       "MAT_2022    7302\n",
       "MAT_2021    7168\n",
       "MAT_2020    6576\n",
       "MAT_2019    6552\n",
       "MAT_2018    6629\n",
       "MAT_2017    6772\n",
       "MAT_2016    6934\n",
       "MAT_2015    7005\n",
       "MAT_2014    7006\n",
       "MAT_2013    6730\n",
       "MAT_2012    6047\n",
       "MAT_2011    5488\n",
       "MAT_2010    5143\n",
       "MAT_2009    4786\n",
       "MAT_2008    4124\n",
       "MAT_2007    3645\n",
       "Name: AÑO, dtype: int64"
      ]
     },
     "execution_count": 4,
     "metadata": {},
     "output_type": "execute_result"
    }
   ],
   "source": [
    "proceso[\"AÑO\"].value_counts().sort_index(ascending=False)"
   ]
  },
  {
   "cell_type": "markdown",
   "id": "b5c6b667",
   "metadata": {},
   "source": [
    "# Matriculados"
   ]
  },
  {
   "cell_type": "markdown",
   "id": "53723840",
   "metadata": {},
   "source": [
    "### Todas las columnas\n",
    "```python\n",
    "# pd.read_csv(f\"{BASE}/20220719_Matrícula_Ed_Superior_2022_PUBL_MRUN.csv\", nrows=5, sep=\";\").columns\n",
    "[\n",
    "    'cat_periodo', 'id', 'codigo_unico', 'mrun', 'gen_alu', 'fec_nac_alu', 'rango_edad', 'anio_ing_carr_ori',\n",
    "    'sem_ing_carr_ori', 'anio_ing_carr_act', 'sem_ing_carr_act', 'anio_ing_carr_act', 'tipo_inst_1', 'tipo_inst_2', 'tipo_inst_3',\n",
    "    'cod_inst', 'nomb_inst', 'cod_sede', 'nomb_sede', 'cod_carrera', 'nomb_carrera', 'modalidad', 'jornada',\n",
    "    'version', 'tipo_plan_carr', 'dur_estudio_carr', 'dur_proceso_tit', 'dur_total_carr', 'region_sede',\n",
    "    'provincia_sede', 'comuna_sede', 'nivel_global', 'nivel_carrera_1', 'nivel_carrera_2', 'requisito_ingreso',\n",
    "    'vigencia_carrera', 'formato_valores', 'valor_matricula', 'valor_arancel', 'codigo_demre', 'area_conocimiento',\n",
    "    'cine_f_97_area', 'cine_f_97_subarea', 'area_carrera_generica', 'cine_f_13_area', 'cine_f_13_subarea',\n",
    "    'acreditada_carr', 'acreditada_inst', 'acre_inst_desde_hasta', 'acre_inst_anio', 'costo_proceso_titulacion',\n",
    "    'costo_obtencion_titulo_diploma', 'forma_ingreso'\n",
    "]\n",
    "```\n",
    "\n",
    "### Cols para determinar vector objetivo\n",
    "```python\n",
    "['cat_periodo', 'codigo_unico', 'mrun', 'anio_ing_carr_ori', 'anio_ing_carr_act', 'tipo_inst_1', 'dur_estudio_carr']\n",
    "```\n",
    "\n",
    "### Tipos de instituciones\n",
    "```python\n",
    "# Salida: ['Universidades', 'Institutos Profesionales', 'Centros de Formación Técnica']\n",
    "pd.concat([\n",
    "    pd.read_csv(f, sep=\";\", usecols=[\"tipo_inst_1\"])\n",
    "    for f in tqdm(glob(f\"{BASE}/20220719_Matrícula_Ed_Superior_*.csv\"), total=16)\n",
    "])[\"tipo_inst_1\"].unique()\n",
    "instituciones = ['Institutos Profesionales', 'Centros de Formación Técnica']\n",
    "```"
   ]
  },
  {
   "cell_type": "markdown",
   "id": "96c778d3",
   "metadata": {},
   "source": [
    "## Lectura de datos matriculados\n",
    "\n",
    "Fuente: https://datosabiertos.mineduc.cl/matricula-en-educacion-superior/"
   ]
  },
  {
   "cell_type": "code",
   "execution_count": 5,
   "id": "f5cb288b",
   "metadata": {},
   "outputs": [],
   "source": [
    "def iter_df_read(file, col_name, condition_list, chunksize=1000, **kwargs):\n",
    "    iter_csv = pd.read_csv(file, iterator=True, chunksize=chunksize, **kwargs)\n",
    "    return pd.concat([chunk[chunk[col_name].isin(condition_list)] for chunk in iter_csv])"
   ]
  },
  {
   "cell_type": "code",
   "execution_count": 6,
   "id": "eda15c80",
   "metadata": {},
   "outputs": [
    {
     "data": {
      "application/vnd.jupyter.widget-view+json": {
       "model_id": "f9fdaa3810ac42da993d9696c4f35660",
       "version_major": 2,
       "version_minor": 0
      },
      "text/plain": [
       "  0%|          | 0/8 [00:00<?, ?it/s]"
      ]
     },
     "metadata": {},
     "output_type": "display_data"
    },
    {
     "data": {
      "text/html": [
       "<div>\n",
       "<style scoped>\n",
       "    .dataframe tbody tr th:only-of-type {\n",
       "        vertical-align: middle;\n",
       "    }\n",
       "\n",
       "    .dataframe tbody tr th {\n",
       "        vertical-align: top;\n",
       "    }\n",
       "\n",
       "    .dataframe thead th {\n",
       "        text-align: right;\n",
       "    }\n",
       "</style>\n",
       "<table border=\"1\" class=\"dataframe\">\n",
       "  <thead>\n",
       "    <tr style=\"text-align: right;\">\n",
       "      <th></th>\n",
       "      <th>cat_periodo</th>\n",
       "      <th>codigo_unico</th>\n",
       "      <th>mrun</th>\n",
       "      <th>anio_ing_carr_ori</th>\n",
       "      <th>anio_ing_carr_act</th>\n",
       "      <th>tipo_inst_1</th>\n",
       "      <th>dur_estudio_carr</th>\n",
       "    </tr>\n",
       "  </thead>\n",
       "  <tbody>\n",
       "    <tr>\n",
       "      <th>0</th>\n",
       "      <td>2015</td>\n",
       "      <td>I374S1C9J1V1</td>\n",
       "      <td>5.0</td>\n",
       "      <td>2015</td>\n",
       "      <td>NaN</td>\n",
       "      <td>Centros de Formación Técnica</td>\n",
       "      <td>5</td>\n",
       "    </tr>\n",
       "    <tr>\n",
       "      <th>1</th>\n",
       "      <td>2015</td>\n",
       "      <td>I498S6C132J2V1</td>\n",
       "      <td>37.0</td>\n",
       "      <td>2015</td>\n",
       "      <td>NaN</td>\n",
       "      <td>Centros de Formación Técnica</td>\n",
       "      <td>5</td>\n",
       "    </tr>\n",
       "    <tr>\n",
       "      <th>5</th>\n",
       "      <td>2015</td>\n",
       "      <td>I111S12C104J1V1</td>\n",
       "      <td>107.0</td>\n",
       "      <td>2013</td>\n",
       "      <td>NaN</td>\n",
       "      <td>Institutos Profesionales</td>\n",
       "      <td>9</td>\n",
       "    </tr>\n",
       "    <tr>\n",
       "      <th>7</th>\n",
       "      <td>2015</td>\n",
       "      <td>I111S14C309J2V1</td>\n",
       "      <td>118.0</td>\n",
       "      <td>2015</td>\n",
       "      <td>NaN</td>\n",
       "      <td>Institutos Profesionales</td>\n",
       "      <td>5</td>\n",
       "    </tr>\n",
       "    <tr>\n",
       "      <th>9</th>\n",
       "      <td>2015</td>\n",
       "      <td>I260S44C120J2V1</td>\n",
       "      <td>184.0</td>\n",
       "      <td>2014</td>\n",
       "      <td>NaN</td>\n",
       "      <td>Centros de Formación Técnica</td>\n",
       "      <td>5</td>\n",
       "    </tr>\n",
       "  </tbody>\n",
       "</table>\n",
       "</div>"
      ],
      "text/plain": [
       "   cat_periodo     codigo_unico   mrun  anio_ing_carr_ori  anio_ing_carr_act  \\\n",
       "0         2015     I374S1C9J1V1    5.0               2015                NaN   \n",
       "1         2015   I498S6C132J2V1   37.0               2015                NaN   \n",
       "5         2015  I111S12C104J1V1  107.0               2013                NaN   \n",
       "7         2015  I111S14C309J2V1  118.0               2015                NaN   \n",
       "9         2015  I260S44C120J2V1  184.0               2014                NaN   \n",
       "\n",
       "                    tipo_inst_1  dur_estudio_carr  \n",
       "0  Centros de Formación Técnica                 5  \n",
       "1  Centros de Formación Técnica                 5  \n",
       "5      Institutos Profesionales                 9  \n",
       "7      Institutos Profesionales                 5  \n",
       "9  Centros de Formación Técnica                 5  "
      ]
     },
     "execution_count": 6,
     "metadata": {},
     "output_type": "execute_result"
    }
   ],
   "source": [
    "cols_time = ['cat_periodo', 'codigo_unico', 'mrun', 'anio_ing_carr_ori', 'anio_ing_carr_act', 'tipo_inst_1', 'dur_estudio_carr']\n",
    "instituciones = ['Institutos Profesionales', 'Centros de Formación Técnica']\n",
    "\n",
    "matriculados = pd.concat([\n",
    "    iter_df_read(f, \"tipo_inst_1\", instituciones, sep=\";\", usecols=cols_time)\n",
    "    for f in tqdm(glob(f\"{BASE}/post_2015/20220719_Matrícula_Ed_Superior_*.csv\"), total=8)\n",
    "])\n",
    "matriculados.head()"
   ]
  },
  {
   "cell_type": "markdown",
   "id": "4a202988",
   "metadata": {},
   "source": [
    "### Información del DataFrame"
   ]
  },
  {
   "cell_type": "code",
   "execution_count": 8,
   "id": "e1e7d420",
   "metadata": {},
   "outputs": [
    {
     "data": {
      "text/plain": [
       "(4133070, 7)"
      ]
     },
     "execution_count": 8,
     "metadata": {},
     "output_type": "execute_result"
    }
   ],
   "source": [
    "matriculados.shape"
   ]
  },
  {
   "cell_type": "code",
   "execution_count": 9,
   "id": "5d7a9fc3",
   "metadata": {},
   "outputs": [
    {
     "name": "stdout",
     "output_type": "stream",
     "text": [
      "<class 'pandas.core.frame.DataFrame'>\n",
      "Int64Index: 4133070 entries, 0 to 1301920\n",
      "Data columns (total 7 columns):\n",
      " #   Column             Dtype  \n",
      "---  ------             -----  \n",
      " 0   cat_periodo        int64  \n",
      " 1   codigo_unico       object \n",
      " 2   mrun               float64\n",
      " 3   anio_ing_carr_ori  int64  \n",
      " 4   anio_ing_carr_act  float64\n",
      " 5   tipo_inst_1        object \n",
      " 6   dur_estudio_carr   int64  \n",
      "dtypes: float64(2), int64(3), object(2)\n",
      "memory usage: 252.3+ MB\n"
     ]
    }
   ],
   "source": [
    "matriculados.info()"
   ]
  },
  {
   "cell_type": "markdown",
   "id": "ea24cd33",
   "metadata": {},
   "source": [
    "### Exploración de nulos en año de ingreso a carrera actual"
   ]
  },
  {
   "cell_type": "code",
   "execution_count": 10,
   "id": "6dad754b",
   "metadata": {},
   "outputs": [
    {
     "data": {
      "text/plain": [
       "cat_periodo                0\n",
       "codigo_unico               0\n",
       "mrun                    1461\n",
       "anio_ing_carr_ori          0\n",
       "anio_ing_carr_act    1193783\n",
       "tipo_inst_1                0\n",
       "dur_estudio_carr           0\n",
       "dtype: int64"
      ]
     },
     "execution_count": 10,
     "metadata": {},
     "output_type": "execute_result"
    }
   ],
   "source": [
    "matriculados.isna().sum()"
   ]
  },
  {
   "cell_type": "code",
   "execution_count": 11,
   "id": "4aa51aef",
   "metadata": {},
   "outputs": [
    {
     "name": "stdout",
     "output_type": "stream",
     "text": [
      "Cantidad de datos Año 2015: 525348. Cantidad nulos: 348085. Porcentaje nulos: 66.26%\n",
      "Cantidad de datos Año 2016: 526387. Cantidad nulos: 432112. Porcentaje nulos: 82.09%\n",
      "Cantidad de datos Año 2017: 514142. Cantidad nulos: 413586. Porcentaje nulos: 80.44%\n",
      "Cantidad de datos Año 2018: 511638. Cantidad nulos: 0. Porcentaje nulos: 0.0%\n",
      "Cantidad de datos Año 2019: 519361. Cantidad nulos: 0. Porcentaje nulos: 0.0%\n",
      "Cantidad de datos Año 2020: 492383. Cantidad nulos: 0. Porcentaje nulos: 0.0%\n",
      "Cantidad de datos Año 2021: 514348. Cantidad nulos: 0. Porcentaje nulos: 0.0%\n",
      "Cantidad de datos Año 2022: 529463. Cantidad nulos: 0. Porcentaje nulos: 0.0%\n"
     ]
    }
   ],
   "source": [
    "for a in range(2015, 2023):\n",
    "    t = matriculados[matriculados['cat_periodo']==a]['anio_ing_carr_act']\n",
    "    print(f\"Cantidad de datos Año {a}: {t.shape[0]}. Cantidad nulos: {t.isna().sum()}. Porcentaje nulos: {round(t.isna().sum() / t.shape[0] * 100, 2)}%\")"
   ]
  },
  {
   "cell_type": "markdown",
   "id": "f1427881",
   "metadata": {},
   "source": [
    "### Validación: Código único\n",
    "\n",
    "- Se corrobora que un código único puede estar asociado a distintos nombres de carrera, pero se asumirá que todos los nombres diferentes hacen referencia a la misma.\n",
    "- Todos los códigos únicos repetidos pertenecen a la misma institución\n",
    "- Se observa un ejemplo"
   ]
  },
  {
   "cell_type": "code",
   "execution_count": 12,
   "id": "04873ad1",
   "metadata": {},
   "outputs": [
    {
     "data": {
      "text/html": [
       "<div>\n",
       "<style scoped>\n",
       "    .dataframe tbody tr th:only-of-type {\n",
       "        vertical-align: middle;\n",
       "    }\n",
       "\n",
       "    .dataframe tbody tr th {\n",
       "        vertical-align: top;\n",
       "    }\n",
       "\n",
       "    .dataframe thead th {\n",
       "        text-align: right;\n",
       "    }\n",
       "</style>\n",
       "<table border=\"1\" class=\"dataframe\">\n",
       "  <thead>\n",
       "    <tr style=\"text-align: right;\">\n",
       "      <th></th>\n",
       "      <th>CÓDIGO CARRERA</th>\n",
       "      <th>NOMBRE INSTITUCIÓN</th>\n",
       "      <th>NOMBRE CARRERA</th>\n",
       "    </tr>\n",
       "  </thead>\n",
       "  <tbody>\n",
       "    <tr>\n",
       "      <th>4011</th>\n",
       "      <td>I113S8C61J1V1</td>\n",
       "      <td>1</td>\n",
       "      <td>4</td>\n",
       "    </tr>\n",
       "    <tr>\n",
       "      <th>3817</th>\n",
       "      <td>I113S5C61J2V1</td>\n",
       "      <td>1</td>\n",
       "      <td>4</td>\n",
       "    </tr>\n",
       "    <tr>\n",
       "      <th>3963</th>\n",
       "      <td>I113S8C162J2V1</td>\n",
       "      <td>1</td>\n",
       "      <td>4</td>\n",
       "    </tr>\n",
       "    <tr>\n",
       "      <th>15817</th>\n",
       "      <td>I331S1C100J1V1</td>\n",
       "      <td>1</td>\n",
       "      <td>4</td>\n",
       "    </tr>\n",
       "    <tr>\n",
       "      <th>15818</th>\n",
       "      <td>I331S1C100J2V1</td>\n",
       "      <td>1</td>\n",
       "      <td>4</td>\n",
       "    </tr>\n",
       "  </tbody>\n",
       "</table>\n",
       "</div>"
      ],
      "text/plain": [
       "       CÓDIGO CARRERA  NOMBRE INSTITUCIÓN  NOMBRE CARRERA\n",
       "4011    I113S8C61J1V1                   1               4\n",
       "3817    I113S5C61J2V1                   1               4\n",
       "3963   I113S8C162J2V1                   1               4\n",
       "15817  I331S1C100J1V1                   1               4\n",
       "15818  I331S1C100J2V1                   1               4"
      ]
     },
     "execution_count": 12,
     "metadata": {},
     "output_type": "execute_result"
    }
   ],
   "source": [
    "proceso.groupby([\"CÓDIGO CARRERA\"]).agg({\"NOMBRE INSTITUCIÓN\": pd.Series.nunique, \"NOMBRE CARRERA\": pd.Series.nunique}).reset_index().sort_values(by=[\"NOMBRE CARRERA\"], ascending=False).head()"
   ]
  },
  {
   "cell_type": "code",
   "execution_count": null,
   "id": "ff5fa432",
   "metadata": {},
   "outputs": [],
   "source": []
  }
 ],
 "metadata": {
  "kernelspec": {
   "display_name": "Python 3 (ipykernel)",
   "language": "python",
   "name": "python3"
  },
  "language_info": {
   "codemirror_mode": {
    "name": "ipython",
    "version": 3
   },
   "file_extension": ".py",
   "mimetype": "text/x-python",
   "name": "python",
   "nbconvert_exporter": "python",
   "pygments_lexer": "ipython3",
   "version": "3.9.12"
  }
 },
 "nbformat": 4,
 "nbformat_minor": 5
}
