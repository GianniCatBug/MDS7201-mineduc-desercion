{
 "cells": [
  {
   "cell_type": "code",
   "execution_count": 1,
   "id": "db69ddaf",
   "metadata": {},
   "outputs": [],
   "source": [
    "import pandas as pd\n",
    "import numpy as np\n",
    "from glob import glob\n",
    "from tqdm.notebook import tqdm\n",
    "\n",
    "BASE = \"/media/giani/Gianicosas/Magister/Proyecto/raw_data\""
   ]
  },
  {
   "cell_type": "markdown",
   "id": "fa236667",
   "metadata": {},
   "source": [
    "# Operacionalización de datos\n",
    "\n",
    "### Alumno desertor\n",
    "- Tiene que haber pasado un tiempo mayor a la duración de la carrera (`cursando==0`)\n",
    "- Considerar todo para el mismo codigo de carrera cada vez\n",
    "- No debe estar en la base de titulados para esa carrera\n",
    "\n",
    "### Tipos de deserción\n",
    "\n",
    "- Sale del sistema y no vuelve a ingresar\n",
    "- Sale del sistema y vuelve después de 1, 2 ó 3 años:\n",
    "    - Vuelve a la misma carrera en la misma institución\n",
    "    - Vuelve a otra carrera en la misma institución\n",
    "    - Vuelve a la misma carrera en otra institución"
   ]
  },
  {
   "cell_type": "markdown",
   "id": "b5c6b667",
   "metadata": {},
   "source": [
    "# Matriculados"
   ]
  },
  {
   "cell_type": "markdown",
   "id": "53723840",
   "metadata": {},
   "source": [
    "### Todas las columnas\n",
    "```python\n",
    "# pd.read_csv(f\"{BASE}/20220719_Matrícula_Ed_Superior_2022_PUBL_MRUN.csv\", nrows=5, sep=\";\").columns\n",
    "[\n",
    "    'cat_periodo', 'id', 'codigo_unico', 'mrun', 'gen_alu', 'fec_nac_alu', 'rango_edad', 'anio_ing_carr_ori',\n",
    "    'sem_ing_carr_ori', 'anio_ing_carr_act', 'sem_ing_carr_act', 'anio_ing_carr_act', 'tipo_inst_1', 'tipo_inst_2', 'tipo_inst_3',\n",
    "    'cod_inst', 'nomb_inst', 'cod_sede', 'nomb_sede', 'cod_carrera', 'nomb_carrera', 'modalidad', 'jornada',\n",
    "    'version', 'tipo_plan_carr', 'dur_estudio_carr', 'dur_proceso_tit', 'dur_total_carr', 'region_sede',\n",
    "    'provincia_sede', 'comuna_sede', 'nivel_global', 'nivel_carrera_1', 'nivel_carrera_2', 'requisito_ingreso',\n",
    "    'vigencia_carrera', 'formato_valores', 'valor_matricula', 'valor_arancel', 'codigo_demre', 'area_conocimiento',\n",
    "    'cine_f_97_area', 'cine_f_97_subarea', 'area_carrera_generica', 'cine_f_13_area', 'cine_f_13_subarea',\n",
    "    'acreditada_carr', 'acreditada_inst', 'acre_inst_desde_hasta', 'acre_inst_anio', 'costo_proceso_titulacion',\n",
    "    'costo_obtencion_titulo_diploma', 'forma_ingreso'\n",
    "]\n",
    "```\n",
    "\n",
    "### Cols para determinar vector objetivo\n",
    "```python\n",
    "['cat_periodo', 'codigo_unico', 'mrun', 'anio_ing_carr_ori', 'anio_ing_carr_act', 'tipo_inst_1', 'dur_estudio_carr']\n",
    "```\n",
    "\n",
    "### Tipos de instituciones\n",
    "```python\n",
    "# Salida: ['Universidades', 'Institutos Profesionales', 'Centros de Formación Técnica']\n",
    "pd.concat([\n",
    "    pd.read_csv(f, sep=\";\", usecols=[\"tipo_inst_1\"])\n",
    "    for f in tqdm(glob(f\"{BASE}/20220719_Matrícula_Ed_Superior_*.csv\"), total=16)\n",
    "])[\"tipo_inst_1\"].unique()\n",
    "instituciones = ['Institutos Profesionales', 'Centros de Formación Técnica']\n",
    "```"
   ]
  },
  {
   "cell_type": "markdown",
   "id": "96c778d3",
   "metadata": {},
   "source": [
    "## Lectura de datos matriculados\n",
    "\n",
    "Fuente: https://datosabiertos.mineduc.cl/matricula-en-educacion-superior/\n",
    "\n",
    "- Se considera solo matriculados en IP y CFT\n",
    "- Se elimina los registros con `mrun` nulo\n",
    "- Se considera solo registros desde el 2015\n",
    "- Se reemplaza los datos `9995` por `np.nan`"
   ]
  },
  {
   "cell_type": "code",
   "execution_count": 2,
   "id": "f5cb288b",
   "metadata": {},
   "outputs": [],
   "source": [
    "def iter_df_read(file, col_name, condition_list, chunksize=1000, **kwargs):\n",
    "    iter_csv = pd.read_csv(file, iterator=True, chunksize=chunksize, **kwargs)\n",
    "    return pd.concat([chunk[chunk[col_name].isin(condition_list)] for chunk in iter_csv])"
   ]
  },
  {
   "cell_type": "code",
   "execution_count": 3,
   "id": "eda15c80",
   "metadata": {},
   "outputs": [
    {
     "data": {
      "application/vnd.jupyter.widget-view+json": {
       "model_id": "1ec6a02ed7ae44ca9c40d93edb08d4d1",
       "version_major": 2,
       "version_minor": 0
      },
      "text/plain": [
       "  0%|          | 0/8 [00:00<?, ?it/s]"
      ]
     },
     "metadata": {},
     "output_type": "display_data"
    },
    {
     "name": "stdout",
     "output_type": "stream",
     "text": [
      "Cantidad de registros: 4131609\n",
      "\n",
      "Cantidad de nulos: \n",
      "cat_periodo                0\n",
      "codigo_unico               0\n",
      "mrun                       0\n",
      "anio_ing_carr_ori          0\n",
      "anio_ing_carr_act    1193433\n",
      "tipo_inst_1                0\n",
      "dur_estudio_carr           0\n",
      "dtype: int64\n"
     ]
    },
    {
     "data": {
      "text/html": [
       "<div>\n",
       "<style scoped>\n",
       "    .dataframe tbody tr th:only-of-type {\n",
       "        vertical-align: middle;\n",
       "    }\n",
       "\n",
       "    .dataframe tbody tr th {\n",
       "        vertical-align: top;\n",
       "    }\n",
       "\n",
       "    .dataframe thead th {\n",
       "        text-align: right;\n",
       "    }\n",
       "</style>\n",
       "<table border=\"1\" class=\"dataframe\">\n",
       "  <thead>\n",
       "    <tr style=\"text-align: right;\">\n",
       "      <th></th>\n",
       "      <th>cat_periodo</th>\n",
       "      <th>codigo_unico</th>\n",
       "      <th>mrun</th>\n",
       "      <th>anio_ing_carr_ori</th>\n",
       "      <th>anio_ing_carr_act</th>\n",
       "      <th>tipo_inst_1</th>\n",
       "      <th>dur_estudio_carr</th>\n",
       "    </tr>\n",
       "  </thead>\n",
       "  <tbody>\n",
       "    <tr>\n",
       "      <th>0</th>\n",
       "      <td>2015</td>\n",
       "      <td>I374S1C9J1V1</td>\n",
       "      <td>5.0</td>\n",
       "      <td>2015</td>\n",
       "      <td>NaN</td>\n",
       "      <td>Centros de Formación Técnica</td>\n",
       "      <td>5</td>\n",
       "    </tr>\n",
       "    <tr>\n",
       "      <th>1</th>\n",
       "      <td>2015</td>\n",
       "      <td>I498S6C132J2V1</td>\n",
       "      <td>37.0</td>\n",
       "      <td>2015</td>\n",
       "      <td>NaN</td>\n",
       "      <td>Centros de Formación Técnica</td>\n",
       "      <td>5</td>\n",
       "    </tr>\n",
       "    <tr>\n",
       "      <th>5</th>\n",
       "      <td>2015</td>\n",
       "      <td>I111S12C104J1V1</td>\n",
       "      <td>107.0</td>\n",
       "      <td>2013</td>\n",
       "      <td>NaN</td>\n",
       "      <td>Institutos Profesionales</td>\n",
       "      <td>9</td>\n",
       "    </tr>\n",
       "    <tr>\n",
       "      <th>7</th>\n",
       "      <td>2015</td>\n",
       "      <td>I111S14C309J2V1</td>\n",
       "      <td>118.0</td>\n",
       "      <td>2015</td>\n",
       "      <td>NaN</td>\n",
       "      <td>Institutos Profesionales</td>\n",
       "      <td>5</td>\n",
       "    </tr>\n",
       "    <tr>\n",
       "      <th>9</th>\n",
       "      <td>2015</td>\n",
       "      <td>I260S44C120J2V1</td>\n",
       "      <td>184.0</td>\n",
       "      <td>2014</td>\n",
       "      <td>NaN</td>\n",
       "      <td>Centros de Formación Técnica</td>\n",
       "      <td>5</td>\n",
       "    </tr>\n",
       "  </tbody>\n",
       "</table>\n",
       "</div>"
      ],
      "text/plain": [
       "   cat_periodo     codigo_unico   mrun  anio_ing_carr_ori  anio_ing_carr_act  \\\n",
       "0         2015     I374S1C9J1V1    5.0               2015                NaN   \n",
       "1         2015   I498S6C132J2V1   37.0               2015                NaN   \n",
       "5         2015  I111S12C104J1V1  107.0               2013                NaN   \n",
       "7         2015  I111S14C309J2V1  118.0               2015                NaN   \n",
       "9         2015  I260S44C120J2V1  184.0               2014                NaN   \n",
       "\n",
       "                    tipo_inst_1  dur_estudio_carr  \n",
       "0  Centros de Formación Técnica                 5  \n",
       "1  Centros de Formación Técnica                 5  \n",
       "5      Institutos Profesionales                 9  \n",
       "7      Institutos Profesionales                 5  \n",
       "9  Centros de Formación Técnica                 5  "
      ]
     },
     "execution_count": 3,
     "metadata": {},
     "output_type": "execute_result"
    }
   ],
   "source": [
    "cols_time = [\n",
    "    'cat_periodo', 'codigo_unico', 'mrun', 'anio_ing_carr_ori', 'anio_ing_carr_act',\n",
    "    'tipo_inst_1', 'dur_estudio_carr'\n",
    "]\n",
    "instituciones = ['Institutos Profesionales', 'Centros de Formación Técnica']\n",
    "\n",
    "matriculados = pd.concat([\n",
    "    iter_df_read(f, \"tipo_inst_1\", instituciones, sep=\";\", usecols=cols_time)\n",
    "    for f in tqdm(\n",
    "        glob(f\"{BASE}/post_2015/20220719_Matrícula_Ed_Superior_*.csv\"),\n",
    "        total=8\n",
    "    )\n",
    "]).dropna(subset=\"mrun\")\n",
    "\n",
    "matriculados.loc[:, ['anio_ing_carr_ori', 'anio_ing_carr_act']] = matriculados[\n",
    "    ['anio_ing_carr_ori', 'anio_ing_carr_act']\n",
    "].replace(\n",
    "    [9995], [np.nan] \n",
    ")\n",
    "\n",
    "print(f\"Cantidad de registros: {matriculados.shape[0]}\\n\")\n",
    "print(f\"Cantidad de nulos: \\n{matriculados.isna().sum()}\")\n",
    "matriculados.head()"
   ]
  },
  {
   "cell_type": "markdown",
   "id": "c54dce8c",
   "metadata": {},
   "source": [
    "## Pre procesamiento: Año ingreso carrera actual\n",
    "\n",
    "En los años anteriores a 2018 este dato está nulo en muchos registros. Por ahora se reemplaza el valor por el del año de ingreso a carrera original.\n",
    "- **TODO**: Tratamiento de datos 9998, 9999"
   ]
  },
  {
   "cell_type": "code",
   "execution_count": 7,
   "id": "fcd58f13",
   "metadata": {},
   "outputs": [
    {
     "data": {
      "text/plain": [
       "0"
      ]
     },
     "execution_count": 7,
     "metadata": {},
     "output_type": "execute_result"
    }
   ],
   "source": [
    "matriculados['anio_ing_carr_act'] = matriculados['anio_ing_carr_act'].fillna(matriculados['anio_ing_carr_ori'])\n",
    "matriculados['anio_ing_carr_act'].isna().sum()"
   ]
  },
  {
   "cell_type": "code",
   "execution_count": 8,
   "id": "08c6725b",
   "metadata": {},
   "outputs": [
    {
     "data": {
      "text/plain": [
       "False    4131263\n",
       "True         346\n",
       "Name: anio_ing_carr_act, dtype: int64"
      ]
     },
     "execution_count": 8,
     "metadata": {},
     "output_type": "execute_result"
    }
   ],
   "source": [
    "matriculados['anio_ing_carr_act'].isin([9998, 9999]).value_counts()"
   ]
  },
  {
   "cell_type": "code",
   "execution_count": 9,
   "id": "dcde8dde",
   "metadata": {},
   "outputs": [],
   "source": [
    "matriculados = matriculados[~matriculados['anio_ing_carr_act'].isin([9998, 9999])]"
   ]
  },
  {
   "cell_type": "markdown",
   "id": "6dc715bc",
   "metadata": {},
   "source": [
    "### Pre procesamiento: Cursando carrera\n",
    "\n",
    "Se crea columna `cursando`, la cual indica:\n",
    "- `1` si los años transcurridos desde el año de ingreso a la carrera hasta el año 2022 es mayor a la duración de la carrera en años.\n",
    "- `0` en caso contrario\n",
    "\n",
    "Esto se utilizará más adelante en la construcción del vector objetivo; Se hace una selección de datos donde solo se selecciona a aquellos que tengan `cursando==0`, para medir inicialmente deserción solamente en aquellos que no se encuentren ya en la ventana de duración de la carrera."
   ]
  },
  {
   "cell_type": "code",
   "execution_count": 12,
   "id": "98cd6ee9",
   "metadata": {},
   "outputs": [
    {
     "data": {
      "text/plain": [
       "0    0.666067\n",
       "1    0.333933\n",
       "Name: cursando, dtype: float64"
      ]
     },
     "execution_count": 12,
     "metadata": {},
     "output_type": "execute_result"
    }
   ],
   "source": [
    "matriculados = matriculados.dropna(subset=[\"mrun\"]).reset_index(drop=True)\n",
    "matriculados[\"cursando\"] = np.where(\n",
    "    pd.Series([2022] * matriculados.shape[0]) - matriculados[\"anio_ing_carr_act\"]\n",
    "    > matriculados[\"dur_estudio_carr\"] / 2, 0, 1\n",
    ")\n",
    "\n",
    "matriculados[\"cursando\"].value_counts(\"%\")"
   ]
  },
  {
   "cell_type": "code",
   "execution_count": 14,
   "id": "bfcf8b6b",
   "metadata": {},
   "outputs": [
    {
     "name": "stdout",
     "output_type": "stream",
     "text": [
      "Cantidad de registros de registros con alumnos en ventana de duración de carrera: 2751462\n"
     ]
    }
   ],
   "source": [
    "# Algunos aparecen 2 veces probablemente porque se matriculan 2 veces al año, por eso se elimina duplicados\n",
    "termino_duracion_carrera = matriculados[matriculados[\"cursando\"]==0][\n",
    "    [\"cat_periodo\", \"codigo_unico\", \"mrun\", \"anio_ing_carr_act\"]\n",
    "].drop_duplicates().reset_index(drop=True)\n",
    "\n",
    "print(\n",
    "    f\"Cantidad de registros de registros con alumnos en ventana \"\n",
    "    f\"de duración de carrera: {termino_duracion_carrera.shape[0]}\"\n",
    ")"
   ]
  },
  {
   "cell_type": "markdown",
   "id": "498cacee",
   "metadata": {},
   "source": [
    "# Titulados\n",
    "\n",
    "Fuente: https://datosabiertos.mineduc.cl/titulados-en-educacion-superior/"
   ]
  },
  {
   "cell_type": "markdown",
   "id": "5337d13a",
   "metadata": {},
   "source": [
    "### Todas las columnas\n",
    "```python\n",
    "[\n",
    "    'cat_periodo', 'codigo_unico', 'mrun', 'gen_alu', 'fec_nac_alu', 'rango_edad', 'anio_ing_carr_ori',\n",
    "    'sem_ing_carr_ori', 'anio_ing_carr_act', 'sem_ing_carr_act', 'nomb_titulo_obtenido',\n",
    "    'nomb_grado_obtenido', 'fecha_obtencion_titulo', 'tipo_inst_1', 'tipo_inst_2', 'tipo_inst_3',\n",
    "    'cod_inst', 'nomb_inst', 'cod_sede', 'nomb_sede', 'cod_carrera', 'nomb_carrera', 'nivel_global',\n",
    "    'nivel_carrera_1', 'nivel_carrera_2', 'dur_estudio_carr', 'dur_proceso_tit', 'dur_total_carr',\n",
    "    'region_sede', 'provincia_sede', 'comuna_sede', 'jornada', 'modalidad', 'version', 'tipo_plan_carr',\n",
    "    'area_cineunesco', 'area_cine_f_97', 'subarea_cine_f_97', 'area_cine_f_13', 'subarea_cine_f_13',\n",
    "    'area_carrera_generica_n'\n",
    "]\n",
    "```\n",
    "\n",
    "### Cols para determinar vector objetivo\n",
    "```python\n",
    "['cat_periodo', 'codigo_unico', 'mrun', 'tipo_inst_1', 'fecha_obtencion_titulo']\n",
    "```"
   ]
  },
  {
   "cell_type": "code",
   "execution_count": 21,
   "id": "be33e1cd",
   "metadata": {},
   "outputs": [
    {
     "data": {
      "application/vnd.jupyter.widget-view+json": {
       "model_id": "0900d99d076249e38ca384fbe0eaba09",
       "version_major": 2,
       "version_minor": 0
      },
      "text/plain": [
       "  0%|          | 0/7 [00:00<?, ?it/s]"
      ]
     },
     "metadata": {},
     "output_type": "display_data"
    }
   ],
   "source": [
    "cols_tit = ['cat_periodo', 'codigo_unico', 'mrun', 'tipo_inst_1', 'fecha_obtencion_titulo']\n",
    "\n",
    "titulados = pd.concat([\n",
    "    iter_df_read(f, \"tipo_inst_1\", instituciones, sep=\";\", usecols=cols_tit)\n",
    "    for f in tqdm(\n",
    "        glob(f\"{BASE}/titulados_post_2015/20220804_Titulados_Ed_Superior_*.csv\"),\n",
    "        total=7\n",
    "    )\n",
    "]).dropna(subset=\"mrun\")"
   ]
  },
  {
   "cell_type": "code",
   "execution_count": 22,
   "id": "5a9bb32d",
   "metadata": {},
   "outputs": [
    {
     "name": "stdout",
     "output_type": "stream",
     "text": [
      "(748517, 5)\n"
     ]
    },
    {
     "data": {
      "text/html": [
       "<div>\n",
       "<style scoped>\n",
       "    .dataframe tbody tr th:only-of-type {\n",
       "        vertical-align: middle;\n",
       "    }\n",
       "\n",
       "    .dataframe tbody tr th {\n",
       "        vertical-align: top;\n",
       "    }\n",
       "\n",
       "    .dataframe thead th {\n",
       "        text-align: right;\n",
       "    }\n",
       "</style>\n",
       "<table border=\"1\" class=\"dataframe\">\n",
       "  <thead>\n",
       "    <tr style=\"text-align: right;\">\n",
       "      <th></th>\n",
       "      <th>cat_periodo</th>\n",
       "      <th>codigo_unico</th>\n",
       "      <th>mrun</th>\n",
       "      <th>fecha_obtencion_titulo</th>\n",
       "      <th>tipo_inst_1</th>\n",
       "    </tr>\n",
       "  </thead>\n",
       "  <tbody>\n",
       "    <tr>\n",
       "      <th>2</th>\n",
       "      <td>2015</td>\n",
       "      <td>I111S12C87J1V1</td>\n",
       "      <td>249.0</td>\n",
       "      <td>20160106</td>\n",
       "      <td>Institutos Profesionales</td>\n",
       "    </tr>\n",
       "    <tr>\n",
       "      <th>7</th>\n",
       "      <td>2015</td>\n",
       "      <td>I260S8C79J1V1</td>\n",
       "      <td>1155.0</td>\n",
       "      <td>20151116</td>\n",
       "      <td>Centros de Formación Técnica</td>\n",
       "    </tr>\n",
       "    <tr>\n",
       "      <th>8</th>\n",
       "      <td>2015</td>\n",
       "      <td>I126S1C273J2V1</td>\n",
       "      <td>1202.0</td>\n",
       "      <td>20150909</td>\n",
       "      <td>Institutos Profesionales</td>\n",
       "    </tr>\n",
       "    <tr>\n",
       "      <th>9</th>\n",
       "      <td>2015</td>\n",
       "      <td>I111S9C2J2V1</td>\n",
       "      <td>1317.0</td>\n",
       "      <td>20150430</td>\n",
       "      <td>Institutos Profesionales</td>\n",
       "    </tr>\n",
       "    <tr>\n",
       "      <th>12</th>\n",
       "      <td>2015</td>\n",
       "      <td>I117S1C27J4V1</td>\n",
       "      <td>1619.0</td>\n",
       "      <td>20160208</td>\n",
       "      <td>Institutos Profesionales</td>\n",
       "    </tr>\n",
       "  </tbody>\n",
       "</table>\n",
       "</div>"
      ],
      "text/plain": [
       "    cat_periodo    codigo_unico    mrun  fecha_obtencion_titulo  \\\n",
       "2          2015  I111S12C87J1V1   249.0                20160106   \n",
       "7          2015   I260S8C79J1V1  1155.0                20151116   \n",
       "8          2015  I126S1C273J2V1  1202.0                20150909   \n",
       "9          2015    I111S9C2J2V1  1317.0                20150430   \n",
       "12         2015   I117S1C27J4V1  1619.0                20160208   \n",
       "\n",
       "                     tipo_inst_1  \n",
       "2       Institutos Profesionales  \n",
       "7   Centros de Formación Técnica  \n",
       "8       Institutos Profesionales  \n",
       "9       Institutos Profesionales  \n",
       "12      Institutos Profesionales  "
      ]
     },
     "execution_count": 22,
     "metadata": {},
     "output_type": "execute_result"
    }
   ],
   "source": [
    "print(titulados.shape)\n",
    "titulados.head()"
   ]
  },
  {
   "cell_type": "markdown",
   "id": "bc0393de",
   "metadata": {},
   "source": [
    "# Unión de bases"
   ]
  },
  {
   "cell_type": "code",
   "execution_count": 31,
   "id": "d994219a",
   "metadata": {},
   "outputs": [
    {
     "data": {
      "text/plain": [
       "((2751462, 4), (748517, 5), (2751465, 5))"
      ]
     },
     "execution_count": 31,
     "metadata": {},
     "output_type": "execute_result"
    }
   ],
   "source": [
    "merge = pd.merge(\n",
    "    termino_duracion_carrera,\n",
    "    titulados[[\"cat_periodo\", \"codigo_unico\", \"mrun\", \"fecha_obtencion_titulo\"]],\n",
    "    how=\"left\"\n",
    ")\n",
    "\n",
    "termino_duracion_carrera.shape, titulados.shape, merge.shape"
   ]
  },
  {
   "cell_type": "code",
   "execution_count": 41,
   "id": "c3509363",
   "metadata": {},
   "outputs": [
    {
     "data": {
      "text/plain": [
       "Desertor    76.937768\n",
       "Titulado    23.062232\n",
       "Name: fecha_obtencion_titulo, dtype: float64"
      ]
     },
     "execution_count": 41,
     "metadata": {},
     "output_type": "execute_result"
    }
   ],
   "source": [
    "merge[\n",
    "    [\"codigo_unico\", \"mrun\", \"fecha_obtencion_titulo\"]\n",
    "].drop_duplicates()[\n",
    "    \"fecha_obtencion_titulo\"\n",
    "].isna().value_counts(\"%\").rename(\n",
    "    index={True: \"Desertor\", False: \"Titulado\"}\n",
    ") * 100"
   ]
  },
  {
   "cell_type": "code",
   "execution_count": null,
   "id": "af1db760",
   "metadata": {},
   "outputs": [],
   "source": []
  }
 ],
 "metadata": {
  "kernelspec": {
   "display_name": "Python 3 (ipykernel)",
   "language": "python",
   "name": "python3"
  },
  "language_info": {
   "codemirror_mode": {
    "name": "ipython",
    "version": 3
   },
   "file_extension": ".py",
   "mimetype": "text/x-python",
   "name": "python",
   "nbconvert_exporter": "python",
   "pygments_lexer": "ipython3",
   "version": "3.9.12"
  }
 },
 "nbformat": 4,
 "nbformat_minor": 5
}
