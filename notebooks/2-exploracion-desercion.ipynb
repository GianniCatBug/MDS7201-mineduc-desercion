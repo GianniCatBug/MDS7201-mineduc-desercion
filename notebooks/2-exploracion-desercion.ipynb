{
 "cells": [
  {
   "cell_type": "code",
   "execution_count": 1,
   "id": "1e9d306d",
   "metadata": {},
   "outputs": [],
   "source": [
    "import pandas as pd\n",
    "import numpy as np\n",
    "from glob import glob\n",
    "from tqdm.notebook import tqdm\n",
    "from utils import iter_df_read, get_array_diff\n",
    "import matplotlib.pyplot as plt\n",
    "import seaborn as sns\n",
    "plt.style.use(\"seaborn\")\n",
    "sns.set(font_scale=1.5)\n",
    "\n",
    "# Modificar por ruta local de almacenamiento de datos\n",
    "BASE = \"/media/giani/Gianicosas/Magister/Proyecto/\""
   ]
  },
  {
   "cell_type": "markdown",
   "id": "47c0ee83",
   "metadata": {},
   "source": [
    "# Operacionalización de datos\n",
    "\n",
    "### Alumno desertor\n",
    "- Requisito: No se debe haber titulado para la carrera analizada\n",
    "\n",
    "### Tipos de deserción\n",
    "\n",
    "- Sale del sistema y no vuelve a ingresar\n",
    "- Sale del sistema y vuelve después de 1, 2 ó 3 años a la misma carrera en la misma institución (no deserta, \"congela\")\n",
    "- Sale y vuelve a otra carrera en la misma institución (seudo deserción?)\n",
    "- Sale y vuelve a la misma carrera en otra institución (seudo deserción?)\n",
    "- Sale y vuelve a otra carrera en otra institución (seudo deserción?)\n",
    "- Sale del sistema, vuelve a ingresar, pero no termina ni se matricula 2022 (múltiple deserción?)"
   ]
  },
  {
   "cell_type": "markdown",
   "id": "bec3e47f",
   "metadata": {},
   "source": [
    "# Matriculados\n",
    "\n",
    "## Lectura de datos matriculados\n",
    "\n",
    "Fuente: https://datosabiertos.mineduc.cl/matricula-en-educacion-superior/\n",
    "\n",
    "- Se considera todos los matriculados en CFT / IP desde 2015"
   ]
  },
  {
   "cell_type": "code",
   "execution_count": 4,
   "id": "18906126",
   "metadata": {},
   "outputs": [
    {
     "data": {
      "text/html": [
       "<div>\n",
       "<style scoped>\n",
       "    .dataframe tbody tr th:only-of-type {\n",
       "        vertical-align: middle;\n",
       "    }\n",
       "\n",
       "    .dataframe tbody tr th {\n",
       "        vertical-align: top;\n",
       "    }\n",
       "\n",
       "    .dataframe thead th {\n",
       "        text-align: right;\n",
       "    }\n",
       "</style>\n",
       "<table border=\"1\" class=\"dataframe\">\n",
       "  <thead>\n",
       "    <tr style=\"text-align: right;\">\n",
       "      <th></th>\n",
       "      <th>codigo_unico</th>\n",
       "      <th>mrun</th>\n",
       "      <th>fecha_obtencion_titulo</th>\n",
       "    </tr>\n",
       "  </thead>\n",
       "  <tbody>\n",
       "    <tr>\n",
       "      <th>0</th>\n",
       "      <td>I143S26C9J2V2</td>\n",
       "      <td>26379527.0</td>\n",
       "      <td>20220228.0</td>\n",
       "    </tr>\n",
       "    <tr>\n",
       "      <th>1</th>\n",
       "      <td>I117S1C69J4V1</td>\n",
       "      <td>21154360.0</td>\n",
       "      <td>20220228.0</td>\n",
       "    </tr>\n",
       "    <tr>\n",
       "      <th>2</th>\n",
       "      <td>I143S28C651J4V1</td>\n",
       "      <td>1695886.0</td>\n",
       "      <td>20220228.0</td>\n",
       "    </tr>\n",
       "    <tr>\n",
       "      <th>3</th>\n",
       "      <td>I143S28C9J4V1</td>\n",
       "      <td>1695588.0</td>\n",
       "      <td>20220228.0</td>\n",
       "    </tr>\n",
       "    <tr>\n",
       "      <th>4</th>\n",
       "      <td>I241S1C10J1V1</td>\n",
       "      <td>1675681.0</td>\n",
       "      <td>20220228.0</td>\n",
       "    </tr>\n",
       "  </tbody>\n",
       "</table>\n",
       "</div>"
      ],
      "text/plain": [
       "      codigo_unico        mrun  fecha_obtencion_titulo\n",
       "0    I143S26C9J2V2  26379527.0              20220228.0\n",
       "1    I117S1C69J4V1  21154360.0              20220228.0\n",
       "2  I143S28C651J4V1   1695886.0              20220228.0\n",
       "3    I143S28C9J4V1   1695588.0              20220228.0\n",
       "4    I241S1C10J1V1   1675681.0              20220228.0"
      ]
     },
     "execution_count": 4,
     "metadata": {},
     "output_type": "execute_result"
    }
   ],
   "source": [
    "# Matriculados de CFT / IP entre 2015 y 2022\n",
    "mat_cft_ip = pd.read_csv(f\"{BASE}/tmp_data/fechas_titulacion.csv\", usecols=[\"codigo_unico\", \"mrun\", \"fecha_obtencion_titulo\"])\n",
    "mat_cft_ip.head()"
   ]
  },
  {
   "cell_type": "code",
   "execution_count": 5,
   "id": "1a6abbfb",
   "metadata": {},
   "outputs": [
    {
     "data": {
      "text/plain": [
       "codigo_unico                    0\n",
       "mrun                            0\n",
       "fecha_obtencion_titulo    1103558\n",
       "dtype: int64"
      ]
     },
     "execution_count": 5,
     "metadata": {},
     "output_type": "execute_result"
    }
   ],
   "source": [
    "mat_cft_ip.isna().sum()"
   ]
  },
  {
   "cell_type": "code",
   "execution_count": 6,
   "id": "c8f2d3bc",
   "metadata": {},
   "outputs": [
    {
     "data": {
      "application/vnd.jupyter.widget-view+json": {
       "model_id": "3f95b5d453f046f0bcbaf917194b620d",
       "version_major": 2,
       "version_minor": 0
      },
      "text/plain": [
       "  0%|          | 0/8 [00:00<?, ?it/s]"
      ]
     },
     "metadata": {},
     "output_type": "display_data"
    }
   ],
   "source": [
    "# Se carga datos de matrícula para estos alumnos, considerando todas las instituciones\n",
    "cols = [\n",
    "    'cat_periodo', 'codigo_unico', 'mrun', 'tipo_inst_1', 'dur_estudio_carr',\n",
    "    'cod_inst', 'cod_carrera'\n",
    "]\n",
    "\n",
    "mruns = mat_cft_ip[\"mrun\"].unique()\n",
    "\n",
    "matriculados = pd.concat([\n",
    "    iter_df_read(f, \"mrun\", mruns, sep=\";\", usecols=cols)\n",
    "    for f in tqdm(\n",
    "        glob(f\"{BASE}/raw_data/post_2015/20220719_Matrícula_Ed_Superior_*.csv\"),\n",
    "        total=8\n",
    "    )\n",
    "]).drop_duplicates().reset_index(drop=True)"
   ]
  },
  {
   "cell_type": "code",
   "execution_count": 7,
   "id": "6da057d0",
   "metadata": {},
   "outputs": [],
   "source": [
    "# Se agrega columna que indica titulación\n",
    "\n",
    "if \"fecha_obtencion_titulo\" not in matriculados.columns:\n",
    "    len_or = matriculados.shape[0]\n",
    "    matriculados = pd.merge(\n",
    "        matriculados,\n",
    "        mat_cft_ip,\n",
    "        how=\"left\"\n",
    "    )\n",
    "    \n",
    "    assert matriculados.shape[0] == len_or"
   ]
  },
  {
   "cell_type": "markdown",
   "id": "408a2dd0",
   "metadata": {},
   "source": [
    "## Pre procesamiento: Año de titulación \n",
    "\n",
    "### Por carrera"
   ]
  },
  {
   "cell_type": "code",
   "execution_count": 8,
   "id": "244b921b",
   "metadata": {},
   "outputs": [
    {
     "data": {
      "text/plain": [
       "count    1033486.0\n",
       "mean        2019.0\n",
       "std            1.0\n",
       "min         2015.0\n",
       "25%         2018.0\n",
       "50%         2019.0\n",
       "75%         2021.0\n",
       "max         2022.0\n",
       "Name: anio_titulacion, dtype: float64"
      ]
     },
     "execution_count": 8,
     "metadata": {},
     "output_type": "execute_result"
    }
   ],
   "source": [
    "matriculados[\"anio_titulacion\"] = matriculados[\"fecha_obtencion_titulo\"].fillna(\"\").astype(str).str[:4].replace([\"\"], [np.nan]).astype(float)\n",
    "matriculados[\"anio_titulacion\"].describe().round()"
   ]
  },
  {
   "cell_type": "markdown",
   "id": "c0ca9495",
   "metadata": {},
   "source": [
    "### Cualquier carrera"
   ]
  },
  {
   "cell_type": "code",
   "execution_count": 14,
   "id": "fe3302a7",
   "metadata": {},
   "outputs": [
    {
     "data": {
      "text/plain": [
       "count    3476634.0\n",
       "mean           0.0\n",
       "std            0.0\n",
       "min            0.0\n",
       "25%            0.0\n",
       "50%            0.0\n",
       "75%            1.0\n",
       "max            1.0\n",
       "Name: titulado_cualquier_carrera, dtype: float64"
      ]
     },
     "execution_count": 14,
     "metadata": {},
     "output_type": "execute_result"
    }
   ],
   "source": [
    "tit_cualquier_carrera = matriculados[\n",
    "    matriculados[\"anio_titulacion\"].notna()\n",
    "][\"mrun\"].unique()\n",
    "\n",
    "matriculados[\"titulado_cualquier_carrera\"] = np.where(matriculados[\"mrun\"].isin(tit_cualquier_carrera), 1, 0)\n",
    "matriculados[\"titulado_cualquier_carrera\"].describe().round()"
   ]
  },
  {
   "cell_type": "markdown",
   "id": "bc28f02a",
   "metadata": {},
   "source": [
    "## Pre procesamiento: Último año de matrícula \n",
    "\n",
    "### Por carrera"
   ]
  },
  {
   "cell_type": "code",
   "execution_count": 15,
   "id": "c51e0125",
   "metadata": {},
   "outputs": [],
   "source": [
    "if \"ultimo_anio_matricula\" not in matriculados.columns:\n",
    "    len_or = matriculados.shape[0]\n",
    "    matriculados = pd.merge(\n",
    "        matriculados,\n",
    "        matriculados.groupby([\"mrun\", \"codigo_unico\"]).agg({\n",
    "            \"cat_periodo\": \"max\"\n",
    "        }).reset_index().rename(columns={\n",
    "            \"cat_periodo\": \"ultimo_anio_matricula\"\n",
    "        }),\n",
    "        how=\"left\"\n",
    "    ).drop_duplicates().reset_index(drop=True)\n",
    "    \n",
    "    assert matriculados.shape[0] == len_or"
   ]
  },
  {
   "cell_type": "code",
   "execution_count": 16,
   "id": "6a594a5a",
   "metadata": {},
   "outputs": [
    {
     "data": {
      "text/plain": [
       "count    3476634.0\n",
       "mean        2020.0\n",
       "std            2.0\n",
       "min         2015.0\n",
       "25%         2018.0\n",
       "50%         2020.0\n",
       "75%         2022.0\n",
       "max         2022.0\n",
       "Name: ultimo_anio_matricula, dtype: float64"
      ]
     },
     "execution_count": 16,
     "metadata": {},
     "output_type": "execute_result"
    }
   ],
   "source": [
    "matriculados[\"ultimo_anio_matricula\"].describe().round()"
   ]
  },
  {
   "cell_type": "markdown",
   "id": "d364d4ba",
   "metadata": {},
   "source": [
    "### Cualquier carrera"
   ]
  },
  {
   "cell_type": "code",
   "execution_count": 17,
   "id": "e451ebad",
   "metadata": {},
   "outputs": [],
   "source": [
    "if \"ult_anio_mat_cualquier_carrera\" not in matriculados.columns:\n",
    "    len_or = matriculados.shape[0]\n",
    "    matriculados = pd.merge(\n",
    "        matriculados,\n",
    "        matriculados.groupby([\"mrun\"]).agg({\n",
    "            \"cat_periodo\": \"max\"\n",
    "        }).reset_index().rename(columns={\n",
    "            \"cat_periodo\": \"ult_anio_mat_cualquier_carrera\"\n",
    "        }),\n",
    "        how=\"left\"\n",
    "    ).drop_duplicates().reset_index(drop=True)\n",
    "    \n",
    "    assert matriculados.shape[0] == len_or"
   ]
  },
  {
   "cell_type": "code",
   "execution_count": 18,
   "id": "a0b1b4d7",
   "metadata": {},
   "outputs": [
    {
     "data": {
      "text/plain": [
       "count    3476634.0\n",
       "mean        2020.0\n",
       "std            2.0\n",
       "min         2015.0\n",
       "25%         2019.0\n",
       "50%         2021.0\n",
       "75%         2022.0\n",
       "max         2022.0\n",
       "Name: ult_anio_mat_cualquier_carrera, dtype: float64"
      ]
     },
     "execution_count": 18,
     "metadata": {},
     "output_type": "execute_result"
    }
   ],
   "source": [
    "matriculados[\"ult_anio_mat_cualquier_carrera\"].describe().round()"
   ]
  },
  {
   "cell_type": "markdown",
   "id": "99d86684",
   "metadata": {},
   "source": [
    "## Pre procesamiento: Deserciones"
   ]
  },
  {
   "cell_type": "code",
   "execution_count": 19,
   "id": "daef6fc6",
   "metadata": {},
   "outputs": [],
   "source": [
    "cft_ip = [\"Institutos Profesionales\", \"Centros de Formación Técnica\"]"
   ]
  },
  {
   "cell_type": "code",
   "execution_count": 20,
   "id": "268309ee",
   "metadata": {},
   "outputs": [],
   "source": [
    "anios = []\n",
    "\n",
    "for a in range(2015, 2022):\n",
    "    m_a = matriculados[\n",
    "        (matriculados[\"cat_periodo\"]==a)\n",
    "        & (matriculados[\"tipo_inst_1\"].isin(cft_ip))\n",
    "    ].copy()\n",
    "    \n",
    "    m_a[\"tmp_\"] = m_a[\"mrun\"].astype(str) + m_a[\"codigo_unico\"]\n",
    "    m_a[\"tmp_2\"] = m_a[\"mrun\"].astype(str) + m_a[\"cod_inst\"].astype(str)\n",
    "    m_a[\"tmp_3\"] = m_a[\"mrun\"].astype(str) + m_a[\"cod_carrera\"].astype(str)\n",
    "    \n",
    "    # Criterio 1: Sale del sistema y no vuelve a ingresar\n",
    "    m_a[\"desertor_1\"] = np.where(\n",
    "        (m_a[\"anio_titulacion\"].isna()) & (m_a['ult_anio_mat_cualquier_carrera'] == a), 1, 0\n",
    "    )\n",
    "    \n",
    "    # Criterio 2.1: Sale del sistema y vuelve después de 1 año a la misma carrera en la misma institución\n",
    "    m_a_next_1 =  matriculados[\n",
    "        (matriculados[\"cat_periodo\"]== a + 1)\n",
    "    ].copy()[[\"mrun\", \"codigo_unico\", \"cod_inst\", \"cod_carrera\"]].drop_duplicates()\n",
    "\n",
    "    m_a_next_1[\"tmp_\"] = m_a_next_1[\"mrun\"].astype(str) + m_a_next_1[\"codigo_unico\"]\n",
    "\n",
    "    m_a_next_2 =  matriculados[\n",
    "        (matriculados[\"cat_periodo\"]== a + 2)\n",
    "    ].copy()[[\"mrun\", \"codigo_unico\"]].drop_duplicates()\n",
    "\n",
    "    m_a_next_2[\"tmp_\"] = m_a_next_2[\"mrun\"].astype(str) + m_a_next_2[\"codigo_unico\"]\n",
    "\n",
    "    m_a[\"desertor_2_1\"] = np.where(\n",
    "        (~m_a[\"tmp_\"].isin(m_a_next_1[\"tmp_\"])) & (m_a[\"tmp_\"].isin(m_a_next_2[\"tmp_\"])),\n",
    "        1,\n",
    "        0\n",
    "    )\n",
    "    \n",
    "    # Criterio 2.2: Sale del sistema y vuelve después de 2 años a la misma carrera en la misma institución\n",
    "    m_a_next_3 =  matriculados[\n",
    "        (matriculados[\"cat_periodo\"]== a + 3)\n",
    "    ].copy()[[\"mrun\", \"codigo_unico\"]].drop_duplicates()\n",
    "\n",
    "    m_a_next_3[\"tmp_\"] = m_a_next_3[\"mrun\"].astype(str) + m_a_next_3[\"codigo_unico\"]\n",
    "\n",
    "    m_a[\"desertor_2_2\"] = np.where(\n",
    "        (~m_a[\"tmp_\"].isin(m_a_next_1[\"tmp_\"])) & (m_a[\"tmp_\"].isin(m_a_next_3[\"tmp_\"])),\n",
    "        1,\n",
    "        0\n",
    "    )\n",
    "    \n",
    "    # Criterio 2.3: Sale del sistema y vuelve después de 3 años a la misma carrera en la misma institución\n",
    "    m_a_next_4 =  matriculados[\n",
    "        (matriculados[\"cat_periodo\"]== a + 4)\n",
    "    ].copy()[[\"mrun\", \"codigo_unico\"]].drop_duplicates()\n",
    "\n",
    "    m_a_next_4[\"tmp_\"] = m_a_next_4[\"mrun\"].astype(str) + m_a_next_4[\"codigo_unico\"]\n",
    "\n",
    "    m_a[\"desertor_2_3\"] = np.where(\n",
    "        (~m_a[\"tmp_\"].isin(m_a_next_1[\"tmp_\"])) & (m_a[\"tmp_\"].isin(m_a_next_4[\"tmp_\"])),\n",
    "        1,\n",
    "        0\n",
    "    )\n",
    "    \n",
    "    # Criterio 3: Sale y vuelve a otra carrera en la misma institución al año siguiente\n",
    "    m_a_next_1[\"tmp_2\"] = m_a_next_1[\"mrun\"].astype(str) + m_a_next_1[\"cod_inst\"].astype(str)\n",
    "    m_a_next_1[\"tmp_3\"] = m_a_next_1[\"mrun\"].astype(str) + m_a_next_1[\"cod_carrera\"].astype(str)\n",
    "    \n",
    "    m_a[\"desertor_3\"] = np.where(\n",
    "        (m_a[\"tmp_2\"].isin(m_a_next_1[\"tmp_2\"])) & (~m_a[\"tmp_\"].isin(m_a_next_1[\"tmp_\"])),\n",
    "        1,\n",
    "        0\n",
    "    )\n",
    "    \n",
    "    # Criterio 4: Sale y vuelve a la misma carrera en otra institución al año siguiente\n",
    "    m_a[\"desertor_4\"] = np.where(\n",
    "        (m_a[\"tmp_3\"].isin(m_a_next_1[\"tmp_3\"])) & (~m_a[\"tmp_2\"].isin(m_a_next_1[\"tmp_2\"])),\n",
    "        1,\n",
    "        0\n",
    "    )\n",
    "    \n",
    "    # Criterio 5: Sale y vuelve a otra carrera en otra institución al año siguiente\n",
    "    m_a[\"desertor_5\"] = np.where(\n",
    "        (~m_a[\"tmp_3\"].isin(m_a_next_1[\"tmp_3\"])) & (~m_a[\"tmp_2\"].isin(m_a_next_1[\"tmp_2\"])) & (m_a[\"mrun\"].isin(m_a_next_1[\"mrun\"])),\n",
    "        1,\n",
    "        0\n",
    "    )\n",
    "    \n",
    "    # Criterio 6: Sale y vuelve a ingresar pero no se ha titulado ni matriculado 2022\n",
    "    m_a[\"desertor_6\"] = np.where(\n",
    "        (m_a[\"titulado_cualquier_carrera\"]==0)\n",
    "        & (m_a[\"ult_anio_mat_cualquier_carrera\"] > a)\n",
    "        & (m_a[\"ult_anio_mat_cualquier_carrera\"] < 2022)\n",
    "        & (m_a[\"desertor_1\"] == 0),\n",
    "        1,\n",
    "        0\n",
    "    )\n",
    "    \n",
    "    m_a = m_a.drop(columns=[\"tmp_\", \"tmp_2\", \"tmp_3\"])\n",
    "    \n",
    "    anios.append(m_a)\n",
    "\n",
    "deserciones = pd.concat(anios)"
   ]
  },
  {
   "cell_type": "markdown",
   "id": "9aa8e972",
   "metadata": {},
   "source": [
    "# Exploración"
   ]
  },
  {
   "cell_type": "code",
   "execution_count": 21,
   "id": "aa16c0aa",
   "metadata": {},
   "outputs": [],
   "source": [
    "plots = []\n",
    "\n",
    "for d in deserciones.columns[12:]:\n",
    "    etiqueta = f'% {d.replace(\"_\", \" \").title()}'\n",
    "    des_tmp = deserciones.groupby(\"cat_periodo\")[d].value_counts(normalize=True).mul(100).rename(etiqueta).reset_index()\n",
    "    des_tmp = des_tmp[des_tmp[d] == 1]\n",
    "    des_tmp = des_tmp.drop(columns=[d] if d == \"desertor_1\" else [d, \"cat_periodo\"])\n",
    "    plots.append(des_tmp)\n",
    "    \n",
    "df_plots = pd.concat(plots, axis=1)"
   ]
  },
  {
   "cell_type": "code",
   "execution_count": 22,
   "id": "43a7a6fb",
   "metadata": {},
   "outputs": [
    {
     "data": {
      "text/html": [
       "<div>\n",
       "<style scoped>\n",
       "    .dataframe tbody tr th:only-of-type {\n",
       "        vertical-align: middle;\n",
       "    }\n",
       "\n",
       "    .dataframe tbody tr th {\n",
       "        vertical-align: top;\n",
       "    }\n",
       "\n",
       "    .dataframe thead th {\n",
       "        text-align: right;\n",
       "    }\n",
       "</style>\n",
       "<table border=\"1\" class=\"dataframe\">\n",
       "  <thead>\n",
       "    <tr style=\"text-align: right;\">\n",
       "      <th></th>\n",
       "      <th>cat_periodo</th>\n",
       "      <th>% Desertor 1</th>\n",
       "      <th>% Desertor 2 1</th>\n",
       "      <th>% Desertor 2 2</th>\n",
       "      <th>% Desertor 2 3</th>\n",
       "      <th>% Desertor 3</th>\n",
       "      <th>% Desertor 4</th>\n",
       "      <th>% Desertor 5</th>\n",
       "      <th>% Desertor 6</th>\n",
       "    </tr>\n",
       "  </thead>\n",
       "  <tbody>\n",
       "    <tr>\n",
       "      <th>1</th>\n",
       "      <td>2015</td>\n",
       "      <td>15.686739</td>\n",
       "      <td>1.033634</td>\n",
       "      <td>0.595575</td>\n",
       "      <td>0.322753</td>\n",
       "      <td>6.606920</td>\n",
       "      <td>0.042725</td>\n",
       "      <td>5.193909</td>\n",
       "      <td>27.567356</td>\n",
       "    </tr>\n",
       "    <tr>\n",
       "      <th>3</th>\n",
       "      <td>2016</td>\n",
       "      <td>14.472477</td>\n",
       "      <td>1.220331</td>\n",
       "      <td>0.671797</td>\n",
       "      <td>0.312728</td>\n",
       "      <td>7.364860</td>\n",
       "      <td>0.028372</td>\n",
       "      <td>5.532315</td>\n",
       "      <td>22.940711</td>\n",
       "    </tr>\n",
       "    <tr>\n",
       "      <th>5</th>\n",
       "      <td>2017</td>\n",
       "      <td>13.475232</td>\n",
       "      <td>1.334472</td>\n",
       "      <td>0.619914</td>\n",
       "      <td>0.455285</td>\n",
       "      <td>7.567489</td>\n",
       "      <td>0.022665</td>\n",
       "      <td>5.706252</td>\n",
       "      <td>20.489556</td>\n",
       "    </tr>\n",
       "    <tr>\n",
       "      <th>7</th>\n",
       "      <td>2018</td>\n",
       "      <td>13.786329</td>\n",
       "      <td>1.399803</td>\n",
       "      <td>0.833782</td>\n",
       "      <td>0.466227</td>\n",
       "      <td>8.029467</td>\n",
       "      <td>0.018837</td>\n",
       "      <td>4.640294</td>\n",
       "      <td>21.315483</td>\n",
       "    </tr>\n",
       "    <tr>\n",
       "      <th>9</th>\n",
       "      <td>2019</td>\n",
       "      <td>16.076882</td>\n",
       "      <td>2.066767</td>\n",
       "      <td>1.221997</td>\n",
       "      <td>NaN</td>\n",
       "      <td>6.731064</td>\n",
       "      <td>0.016593</td>\n",
       "      <td>4.164199</td>\n",
       "      <td>19.702125</td>\n",
       "    </tr>\n",
       "    <tr>\n",
       "      <th>11</th>\n",
       "      <td>2020</td>\n",
       "      <td>18.123223</td>\n",
       "      <td>1.644704</td>\n",
       "      <td>NaN</td>\n",
       "      <td>NaN</td>\n",
       "      <td>4.851399</td>\n",
       "      <td>0.015631</td>\n",
       "      <td>4.207716</td>\n",
       "      <td>15.414324</td>\n",
       "    </tr>\n",
       "    <tr>\n",
       "      <th>13</th>\n",
       "      <td>2021</td>\n",
       "      <td>26.358915</td>\n",
       "      <td>NaN</td>\n",
       "      <td>NaN</td>\n",
       "      <td>NaN</td>\n",
       "      <td>4.611103</td>\n",
       "      <td>0.014484</td>\n",
       "      <td>4.383910</td>\n",
       "      <td>NaN</td>\n",
       "    </tr>\n",
       "  </tbody>\n",
       "</table>\n",
       "</div>"
      ],
      "text/plain": [
       "    cat_periodo  % Desertor 1  % Desertor 2 1  % Desertor 2 2  % Desertor 2 3  \\\n",
       "1          2015     15.686739        1.033634        0.595575        0.322753   \n",
       "3          2016     14.472477        1.220331        0.671797        0.312728   \n",
       "5          2017     13.475232        1.334472        0.619914        0.455285   \n",
       "7          2018     13.786329        1.399803        0.833782        0.466227   \n",
       "9          2019     16.076882        2.066767        1.221997             NaN   \n",
       "11         2020     18.123223        1.644704             NaN             NaN   \n",
       "13         2021     26.358915             NaN             NaN             NaN   \n",
       "\n",
       "    % Desertor 3  % Desertor 4  % Desertor 5  % Desertor 6  \n",
       "1       6.606920      0.042725      5.193909     27.567356  \n",
       "3       7.364860      0.028372      5.532315     22.940711  \n",
       "5       7.567489      0.022665      5.706252     20.489556  \n",
       "7       8.029467      0.018837      4.640294     21.315483  \n",
       "9       6.731064      0.016593      4.164199     19.702125  \n",
       "11      4.851399      0.015631      4.207716     15.414324  \n",
       "13      4.611103      0.014484      4.383910           NaN  "
      ]
     },
     "execution_count": 22,
     "metadata": {},
     "output_type": "execute_result"
    }
   ],
   "source": [
    "df_plots"
   ]
  },
  {
   "cell_type": "code",
   "execution_count": 23,
   "id": "96435bb1",
   "metadata": {},
   "outputs": [
    {
     "data": {
      "text/html": [
       "<div>\n",
       "<style scoped>\n",
       "    .dataframe tbody tr th:only-of-type {\n",
       "        vertical-align: middle;\n",
       "    }\n",
       "\n",
       "    .dataframe tbody tr th {\n",
       "        vertical-align: top;\n",
       "    }\n",
       "\n",
       "    .dataframe thead th {\n",
       "        text-align: right;\n",
       "    }\n",
       "</style>\n",
       "<table border=\"1\" class=\"dataframe\">\n",
       "  <thead>\n",
       "    <tr style=\"text-align: right;\">\n",
       "      <th></th>\n",
       "      <th>cat_periodo</th>\n",
       "      <th>% Desertor 1</th>\n",
       "      <th>% Desertor 3</th>\n",
       "      <th>% Desertor 5</th>\n",
       "    </tr>\n",
       "  </thead>\n",
       "  <tbody>\n",
       "    <tr>\n",
       "      <th>1</th>\n",
       "      <td>2016</td>\n",
       "      <td>15.686739</td>\n",
       "      <td>6.606920</td>\n",
       "      <td>5.193909</td>\n",
       "    </tr>\n",
       "    <tr>\n",
       "      <th>3</th>\n",
       "      <td>2017</td>\n",
       "      <td>14.472477</td>\n",
       "      <td>7.364860</td>\n",
       "      <td>5.532315</td>\n",
       "    </tr>\n",
       "    <tr>\n",
       "      <th>5</th>\n",
       "      <td>2018</td>\n",
       "      <td>13.475232</td>\n",
       "      <td>7.567489</td>\n",
       "      <td>5.706252</td>\n",
       "    </tr>\n",
       "    <tr>\n",
       "      <th>7</th>\n",
       "      <td>2019</td>\n",
       "      <td>13.786329</td>\n",
       "      <td>8.029467</td>\n",
       "      <td>4.640294</td>\n",
       "    </tr>\n",
       "    <tr>\n",
       "      <th>9</th>\n",
       "      <td>2020</td>\n",
       "      <td>16.076882</td>\n",
       "      <td>6.731064</td>\n",
       "      <td>4.164199</td>\n",
       "    </tr>\n",
       "    <tr>\n",
       "      <th>11</th>\n",
       "      <td>2021</td>\n",
       "      <td>18.123223</td>\n",
       "      <td>4.851399</td>\n",
       "      <td>4.207716</td>\n",
       "    </tr>\n",
       "    <tr>\n",
       "      <th>13</th>\n",
       "      <td>2022</td>\n",
       "      <td>26.358915</td>\n",
       "      <td>4.611103</td>\n",
       "      <td>4.383910</td>\n",
       "    </tr>\n",
       "  </tbody>\n",
       "</table>\n",
       "</div>"
      ],
      "text/plain": [
       "    cat_periodo  % Desertor 1  % Desertor 3  % Desertor 5\n",
       "1          2016     15.686739      6.606920      5.193909\n",
       "3          2017     14.472477      7.364860      5.532315\n",
       "5          2018     13.475232      7.567489      5.706252\n",
       "7          2019     13.786329      8.029467      4.640294\n",
       "9          2020     16.076882      6.731064      4.164199\n",
       "11         2021     18.123223      4.851399      4.207716\n",
       "13         2022     26.358915      4.611103      4.383910"
      ]
     },
     "execution_count": 23,
     "metadata": {},
     "output_type": "execute_result"
    }
   ],
   "source": [
    "df_table = df_plots[[\"cat_periodo\", '% Desertor 1', '% Desertor 3', '% Desertor 5']].copy()\n",
    "df_table[\"cat_periodo\"] = df_table[\"cat_periodo\"] + 1\n",
    "df_table"
   ]
  },
  {
   "cell_type": "code",
   "execution_count": 24,
   "id": "2d6b812d",
   "metadata": {},
   "outputs": [
    {
     "data": {
      "image/png": "[encoded data removed]",
      "text/plain": [
       "<Figure size 1080x360 with 1 Axes>"
      ]
     },
     "metadata": {},
     "output_type": "display_data"
    }
   ],
   "source": [
    "# ['% Desertor 1', '% Desertor 2 1', '% Desertor 2 2', '% Desertor 2 3', '% Desertor 3', '% Desertor 4', '% Desertor 5', '% Desertor 6']\n",
    "plt.figure(figsize=(15, 5))\n",
    "color = plt.cm.Dark2(np.linspace(0, 1, 8))\n",
    "for i, c in enumerate(['% Desertor 1', '% Desertor 3', '% Desertor 5']):\n",
    "    plt.plot(df_plots[\"cat_periodo\"] + 1, df_plots[c], \"-o\", label=c, color=color[i])\n",
    "\n",
    "plt.title(\"% Desertores desde 2016, tomando como referencia el año anterior\")\n",
    "plt.xlabel(\"Año donde se evalúa % de desertores\")\n",
    "plt.ylabel(\"%\")\n",
    "plt.legend(ncol=6);"
   ]
  },
  {
   "cell_type": "markdown",
   "id": "3c7636fe",
   "metadata": {},
   "source": [
    "- 1: Sale del sistema y no vuelve a ingresar\n",
    "- 2: Sale del sistema y vuelve después de 1, 2 ó 3 años a la misma carrera en la misma institución (no deserta, \"congela\")\n",
    "- 3: Sale y vuelve a otra carrera en la misma institución (seudo deserción?)\n",
    "- 4: Sale y vuelve a la misma carrera en otra institución (seudo deserción?)\n",
    "- 5: Sale y vuelve a otra carrera en otra institución (seudo deserción?)\n",
    "- 6: Sale del sistema, vuelve a ingresar, pero no termina ni se matricula 2022 (múltiple deserción?)"
   ]
  },
  {
   "cell_type": "markdown",
   "id": "4cc30892",
   "metadata": {},
   "source": [
    "## Serialización desertores"
   ]
  },
  {
   "cell_type": "code",
   "execution_count": 25,
   "id": "d5dc8276",
   "metadata": {},
   "outputs": [
    {
     "data": {
      "text/html": [
       "<div>\n",
       "<style scoped>\n",
       "    .dataframe tbody tr th:only-of-type {\n",
       "        vertical-align: middle;\n",
       "    }\n",
       "\n",
       "    .dataframe tbody tr th {\n",
       "        vertical-align: top;\n",
       "    }\n",
       "\n",
       "    .dataframe thead th {\n",
       "        text-align: right;\n",
       "    }\n",
       "</style>\n",
       "<table border=\"1\" class=\"dataframe\">\n",
       "  <thead>\n",
       "    <tr style=\"text-align: right;\">\n",
       "      <th></th>\n",
       "      <th>cat_periodo</th>\n",
       "      <th>codigo_unico</th>\n",
       "      <th>mrun</th>\n",
       "      <th>tipo_inst_1</th>\n",
       "      <th>cod_inst</th>\n",
       "      <th>cod_carrera</th>\n",
       "      <th>dur_estudio_carr</th>\n",
       "      <th>fecha_obtencion_titulo</th>\n",
       "      <th>anio_titulacion</th>\n",
       "      <th>titulado_cualquier_carrera</th>\n",
       "      <th>ultimo_anio_matricula</th>\n",
       "      <th>ult_anio_mat_cualquier_carrera</th>\n",
       "      <th>desertor_1</th>\n",
       "      <th>desertor_2_1</th>\n",
       "      <th>desertor_2_2</th>\n",
       "      <th>desertor_2_3</th>\n",
       "      <th>desertor_3</th>\n",
       "      <th>desertor_4</th>\n",
       "      <th>desertor_5</th>\n",
       "      <th>desertor_6</th>\n",
       "    </tr>\n",
       "  </thead>\n",
       "  <tbody>\n",
       "    <tr>\n",
       "      <th>0</th>\n",
       "      <td>2015</td>\n",
       "      <td>I498S6C132J2V1</td>\n",
       "      <td>37.0</td>\n",
       "      <td>Centros de Formación Técnica</td>\n",
       "      <td>498</td>\n",
       "      <td>132.0</td>\n",
       "      <td>5</td>\n",
       "      <td>20170721.0</td>\n",
       "      <td>2017.0</td>\n",
       "      <td>1</td>\n",
       "      <td>2017</td>\n",
       "      <td>2017</td>\n",
       "      <td>0</td>\n",
       "      <td>0</td>\n",
       "      <td>0</td>\n",
       "      <td>0</td>\n",
       "      <td>0</td>\n",
       "      <td>0</td>\n",
       "      <td>0</td>\n",
       "      <td>0</td>\n",
       "    </tr>\n",
       "    <tr>\n",
       "      <th>1</th>\n",
       "      <td>2015</td>\n",
       "      <td>I111S14C309J2V1</td>\n",
       "      <td>118.0</td>\n",
       "      <td>Institutos Profesionales</td>\n",
       "      <td>111</td>\n",
       "      <td>309.0</td>\n",
       "      <td>5</td>\n",
       "      <td>NaN</td>\n",
       "      <td>NaN</td>\n",
       "      <td>1</td>\n",
       "      <td>2015</td>\n",
       "      <td>2017</td>\n",
       "      <td>0</td>\n",
       "      <td>0</td>\n",
       "      <td>0</td>\n",
       "      <td>0</td>\n",
       "      <td>0</td>\n",
       "      <td>0</td>\n",
       "      <td>1</td>\n",
       "      <td>0</td>\n",
       "    </tr>\n",
       "    <tr>\n",
       "      <th>2</th>\n",
       "      <td>2015</td>\n",
       "      <td>I106S3C64J4V1</td>\n",
       "      <td>253.0</td>\n",
       "      <td>Institutos Profesionales</td>\n",
       "      <td>106</td>\n",
       "      <td>64.0</td>\n",
       "      <td>5</td>\n",
       "      <td>NaN</td>\n",
       "      <td>NaN</td>\n",
       "      <td>0</td>\n",
       "      <td>2015</td>\n",
       "      <td>2015</td>\n",
       "      <td>1</td>\n",
       "      <td>0</td>\n",
       "      <td>0</td>\n",
       "      <td>0</td>\n",
       "      <td>0</td>\n",
       "      <td>0</td>\n",
       "      <td>0</td>\n",
       "      <td>0</td>\n",
       "    </tr>\n",
       "    <tr>\n",
       "      <th>5</th>\n",
       "      <td>2015</td>\n",
       "      <td>I221S1C57J1V1</td>\n",
       "      <td>370.0</td>\n",
       "      <td>Centros de Formación Técnica</td>\n",
       "      <td>221</td>\n",
       "      <td>57.0</td>\n",
       "      <td>5</td>\n",
       "      <td>NaN</td>\n",
       "      <td>NaN</td>\n",
       "      <td>0</td>\n",
       "      <td>2015</td>\n",
       "      <td>2015</td>\n",
       "      <td>1</td>\n",
       "      <td>0</td>\n",
       "      <td>0</td>\n",
       "      <td>0</td>\n",
       "      <td>0</td>\n",
       "      <td>0</td>\n",
       "      <td>0</td>\n",
       "      <td>0</td>\n",
       "    </tr>\n",
       "    <tr>\n",
       "      <th>6</th>\n",
       "      <td>2015</td>\n",
       "      <td>I176S8C59J2V1</td>\n",
       "      <td>533.0</td>\n",
       "      <td>Institutos Profesionales</td>\n",
       "      <td>176</td>\n",
       "      <td>59.0</td>\n",
       "      <td>5</td>\n",
       "      <td>20180228.0</td>\n",
       "      <td>2018.0</td>\n",
       "      <td>1</td>\n",
       "      <td>2016</td>\n",
       "      <td>2016</td>\n",
       "      <td>0</td>\n",
       "      <td>0</td>\n",
       "      <td>0</td>\n",
       "      <td>0</td>\n",
       "      <td>0</td>\n",
       "      <td>0</td>\n",
       "      <td>0</td>\n",
       "      <td>0</td>\n",
       "    </tr>\n",
       "  </tbody>\n",
       "</table>\n",
       "</div>"
      ],
      "text/plain": [
       "   cat_periodo     codigo_unico   mrun                   tipo_inst_1  \\\n",
       "0         2015   I498S6C132J2V1   37.0  Centros de Formación Técnica   \n",
       "1         2015  I111S14C309J2V1  118.0      Institutos Profesionales   \n",
       "2         2015    I106S3C64J4V1  253.0      Institutos Profesionales   \n",
       "5         2015    I221S1C57J1V1  370.0  Centros de Formación Técnica   \n",
       "6         2015    I176S8C59J2V1  533.0      Institutos Profesionales   \n",
       "\n",
       "   cod_inst  cod_carrera  dur_estudio_carr  fecha_obtencion_titulo  \\\n",
       "0       498        132.0                 5              20170721.0   \n",
       "1       111        309.0                 5                     NaN   \n",
       "2       106         64.0                 5                     NaN   \n",
       "5       221         57.0                 5                     NaN   \n",
       "6       176         59.0                 5              20180228.0   \n",
       "\n",
       "   anio_titulacion  titulado_cualquier_carrera  ultimo_anio_matricula  \\\n",
       "0           2017.0                           1                   2017   \n",
       "1              NaN                           1                   2015   \n",
       "2              NaN                           0                   2015   \n",
       "5              NaN                           0                   2015   \n",
       "6           2018.0                           1                   2016   \n",
       "\n",
       "   ult_anio_mat_cualquier_carrera  desertor_1  desertor_2_1  desertor_2_2  \\\n",
       "0                            2017           0             0             0   \n",
       "1                            2017           0             0             0   \n",
       "2                            2015           1             0             0   \n",
       "5                            2015           1             0             0   \n",
       "6                            2016           0             0             0   \n",
       "\n",
       "   desertor_2_3  desertor_3  desertor_4  desertor_5  desertor_6  \n",
       "0             0           0           0           0           0  \n",
       "1             0           0           0           1           0  \n",
       "2             0           0           0           0           0  \n",
       "5             0           0           0           0           0  \n",
       "6             0           0           0           0           0  "
      ]
     },
     "execution_count": 25,
     "metadata": {},
     "output_type": "execute_result"
    }
   ],
   "source": [
    "deserciones.head()"
   ]
  },
  {
   "cell_type": "code",
   "execution_count": 26,
   "id": "484261bf",
   "metadata": {},
   "outputs": [],
   "source": [
    "deserciones[[\n",
    "    \"cat_periodo\", \"codigo_unico\", \"mrun\", \"desertor_1\"\n",
    "]].drop_duplicates().reset_index(drop=True).to_csv(f\"{BASE}/tmp_data/desertores_1.csv.gz\", index=False, compression=\"gzip\")"
   ]
  },
  {
   "cell_type": "code",
   "execution_count": 27,
   "id": "ef190825",
   "metadata": {},
   "outputs": [],
   "source": [
    "deserciones.to_csv(f\"{BASE}/tmp_data/desertores_todos.csv.gz\", index=False, compression=\"gzip\")"
   ]
  },
  {
   "cell_type": "code",
   "execution_count": null,
   "id": "7200fe7b",
   "metadata": {},
   "outputs": [],
   "source": []
  }
 ],
 "metadata": {
  "kernelspec": {
   "display_name": "Python 3 (ipykernel)",
   "language": "python",
   "name": "python3"
  },
  "language_info": {
   "codemirror_mode": {
    "name": "ipython",
    "version": 3
   },
   "file_extension": ".py",
   "mimetype": "text/x-python",
   "name": "python",
   "nbconvert_exporter": "python",
   "pygments_lexer": "ipython3",
   "version": "3.9.12"
  }
 },
 "nbformat": 4,
 "nbformat_minor": 5
}
