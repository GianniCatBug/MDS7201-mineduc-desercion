{
 "cells": [
  {
   "cell_type": "code",
   "execution_count": 1,
   "id": "1e9d306d",
   "metadata": {},
   "outputs": [],
   "source": [
    "import pandas as pd\n",
    "import numpy as np\n",
    "from glob import glob\n",
    "from tqdm.notebook import tqdm\n",
    "from utils import iter_df_read, get_array_diff\n",
    "import matplotlib.pyplot as plt\n",
    "import seaborn as sns\n",
    "plt.style.use(\"seaborn\")\n",
    "\n",
    "# Modificar por ruta local de almacenamiento de datos\n",
    "BASE = \"/media/giani/Gianicosas/Magister/Proyecto/\""
   ]
  },
  {
   "cell_type": "markdown",
   "id": "47c0ee83",
   "metadata": {},
   "source": [
    "# Operacionalización de datos\n",
    "\n",
    "### Alumno desertor\n",
    "- Requisito: No se debe haber titulado para la carrera analizada\n",
    "\n",
    "### Tipos de deserción\n",
    "\n",
    "- Sale del sistema y no vuelve a ingresar\n",
    "- Sale del sistema y vuelve después de 1, 2 ó 3 años a la misma carrera en la misma institución (no deserta, \"congela\")\n",
    "- Sale y vuelve a otra carrera en la misma institución (seudo deserción?)\n",
    "- Sale y vuelve a la misma carrera en otra institución (seudo deserción?)\n",
    "- Sale y vuelve a otra carrera en otra institución (seudo deserción?)\n",
    "- Sale del sistema, vuelve a ingresar, pero no termina ni se matricula 2022 (múltiple deserción?)"
   ]
  },
  {
   "cell_type": "markdown",
   "id": "bec3e47f",
   "metadata": {},
   "source": [
    "# Matriculados\n",
    "\n",
    "## Lectura de datos matriculados\n",
    "\n",
    "Fuente: https://datosabiertos.mineduc.cl/matricula-en-educacion-superior/\n",
    "\n",
    "- Se considera todos los matriculados en CFT / IP desde 2015"
   ]
  },
  {
   "cell_type": "code",
   "execution_count": 2,
   "id": "18906126",
   "metadata": {},
   "outputs": [
    {
     "data": {
      "text/html": [
       "<div>\n",
       "<style scoped>\n",
       "    .dataframe tbody tr th:only-of-type {\n",
       "        vertical-align: middle;\n",
       "    }\n",
       "\n",
       "    .dataframe tbody tr th {\n",
       "        vertical-align: top;\n",
       "    }\n",
       "\n",
       "    .dataframe thead th {\n",
       "        text-align: right;\n",
       "    }\n",
       "</style>\n",
       "<table border=\"1\" class=\"dataframe\">\n",
       "  <thead>\n",
       "    <tr style=\"text-align: right;\">\n",
       "      <th></th>\n",
       "      <th>codigo_unico</th>\n",
       "      <th>mrun</th>\n",
       "      <th>fecha_obtencion_titulo</th>\n",
       "    </tr>\n",
       "  </thead>\n",
       "  <tbody>\n",
       "    <tr>\n",
       "      <th>0</th>\n",
       "      <td>I143S26C9J2V2</td>\n",
       "      <td>26379527.0</td>\n",
       "      <td>20220228.0</td>\n",
       "    </tr>\n",
       "    <tr>\n",
       "      <th>1</th>\n",
       "      <td>I260S22C108J1V1</td>\n",
       "      <td>4120917.0</td>\n",
       "      <td>20220228.0</td>\n",
       "    </tr>\n",
       "    <tr>\n",
       "      <th>2</th>\n",
       "      <td>I116S34C17J2V1</td>\n",
       "      <td>4348827.0</td>\n",
       "      <td>20220228.0</td>\n",
       "    </tr>\n",
       "    <tr>\n",
       "      <th>3</th>\n",
       "      <td>I260S21C263J2V1</td>\n",
       "      <td>20301532.0</td>\n",
       "      <td>20220228.0</td>\n",
       "    </tr>\n",
       "    <tr>\n",
       "      <th>4</th>\n",
       "      <td>I143S2C651J2V1</td>\n",
       "      <td>3498846.0</td>\n",
       "      <td>20220228.0</td>\n",
       "    </tr>\n",
       "  </tbody>\n",
       "</table>\n",
       "</div>"
      ],
      "text/plain": [
       "      codigo_unico        mrun  fecha_obtencion_titulo\n",
       "0    I143S26C9J2V2  26379527.0              20220228.0\n",
       "1  I260S22C108J1V1   4120917.0              20220228.0\n",
       "2   I116S34C17J2V1   4348827.0              20220228.0\n",
       "3  I260S21C263J2V1  20301532.0              20220228.0\n",
       "4   I143S2C651J2V1   3498846.0              20220228.0"
      ]
     },
     "execution_count": 2,
     "metadata": {},
     "output_type": "execute_result"
    }
   ],
   "source": [
    "# Matriculados de CFT / IP\n",
    "mat_cft_ip = pd.read_csv(f\"{BASE}/tmp_data/fechas_titulacion.csv\")\n",
    "mat_cft_ip.head()"
   ]
  },
  {
   "cell_type": "code",
   "execution_count": 3,
   "id": "1a6abbfb",
   "metadata": {},
   "outputs": [
    {
     "data": {
      "text/plain": [
       "codigo_unico                    0\n",
       "mrun                            0\n",
       "fecha_obtencion_titulo    1194617\n",
       "dtype: int64"
      ]
     },
     "execution_count": 3,
     "metadata": {},
     "output_type": "execute_result"
    }
   ],
   "source": [
    "mat_cft_ip.isna().sum()"
   ]
  },
  {
   "cell_type": "code",
   "execution_count": 4,
   "id": "c8f2d3bc",
   "metadata": {},
   "outputs": [
    {
     "data": {
      "application/vnd.jupyter.widget-view+json": {
       "model_id": "cf453b0f738248e3a5e61ea1c8c347bb",
       "version_major": 2,
       "version_minor": 0
      },
      "text/plain": [
       "  0%|          | 0/8 [00:00<?, ?it/s]"
      ]
     },
     "metadata": {},
     "output_type": "display_data"
    }
   ],
   "source": [
    "# Se carga datos de matrícula para estos alumnos, considerando todas las instituciones\n",
    "cols = [\n",
    "    'cat_periodo', 'codigo_unico', 'mrun', 'tipo_inst_1', 'dur_estudio_carr',\n",
    "    'cod_inst', 'cod_carrera'\n",
    "]\n",
    "\n",
    "mruns = mat_cft_ip[\"mrun\"].unique()\n",
    "\n",
    "matriculados = pd.concat([\n",
    "    iter_df_read(f, \"mrun\", mruns, sep=\";\", usecols=cols)\n",
    "    for f in tqdm(\n",
    "        glob(f\"{BASE}/raw_data/post_2015/20220719_Matrícula_Ed_Superior_*.csv\"),\n",
    "        total=8\n",
    "    )\n",
    "]).drop_duplicates().reset_index(drop=True)"
   ]
  },
  {
   "cell_type": "code",
   "execution_count": 5,
   "id": "6da057d0",
   "metadata": {},
   "outputs": [],
   "source": [
    "# Se agrega columna que indica titulación\n",
    "\n",
    "if \"fecha_obtencion_titulo\" not in matriculados.columns:\n",
    "    len_or = matriculados.shape[0]\n",
    "    matriculados = pd.merge(\n",
    "        matriculados,\n",
    "        mat_cft_ip,\n",
    "        how=\"left\"\n",
    "    )\n",
    "    \n",
    "    assert matriculados.shape[0] == len_or"
   ]
  },
  {
   "cell_type": "markdown",
   "id": "408a2dd0",
   "metadata": {},
   "source": [
    "## Pre procesamiento: Año de titulación \n",
    "\n",
    "### Por carrera"
   ]
  },
  {
   "cell_type": "code",
   "execution_count": 6,
   "id": "244b921b",
   "metadata": {},
   "outputs": [
    {
     "data": {
      "text/plain": [
       "count    1073280.0\n",
       "mean        2019.0\n",
       "std            1.0\n",
       "min         2015.0\n",
       "25%         2018.0\n",
       "50%         2020.0\n",
       "75%         2021.0\n",
       "max         2022.0\n",
       "Name: anio_titulacion, dtype: float64"
      ]
     },
     "execution_count": 6,
     "metadata": {},
     "output_type": "execute_result"
    }
   ],
   "source": [
    "matriculados[\"anio_titulacion\"] = matriculados[\"fecha_obtencion_titulo\"].fillna(\"\").astype(str).str[:4].replace([\"\"], [np.nan]).astype(float)\n",
    "matriculados[\"anio_titulacion\"].describe().round()"
   ]
  },
  {
   "cell_type": "markdown",
   "id": "c0ca9495",
   "metadata": {},
   "source": [
    "### Cualquier carrera"
   ]
  },
  {
   "cell_type": "code",
   "execution_count": 7,
   "id": "fe3302a7",
   "metadata": {},
   "outputs": [],
   "source": [
    "tit_cualquier_carrera = matriculados[\n",
    "    matriculados[\"anio_titulacion\"].notna()\n",
    "][\"mrun\"].unique()\n",
    "\n",
    "matriculados[\"titulado_cualquier_carrera\"] = np.where(matriculados[\"mrun\"].isin(tit_cualquier_carrera), 1, 0)    "
   ]
  },
  {
   "cell_type": "markdown",
   "id": "bc28f02a",
   "metadata": {},
   "source": [
    "## Pre procesamiento: Último año de matrícula \n",
    "\n",
    "### Por carrera"
   ]
  },
  {
   "cell_type": "code",
   "execution_count": 8,
   "id": "c51e0125",
   "metadata": {},
   "outputs": [],
   "source": [
    "if \"ultimo_anio_matricula\" not in matriculados.columns:\n",
    "    len_or = matriculados.shape[0]\n",
    "    matriculados = pd.merge(\n",
    "        matriculados,\n",
    "        matriculados.groupby([\"mrun\", \"codigo_unico\"]).agg({\n",
    "            \"cat_periodo\": \"max\"\n",
    "        }).reset_index().rename(columns={\n",
    "            \"cat_periodo\": \"ultimo_anio_matricula\"\n",
    "        }),\n",
    "        how=\"left\"\n",
    "    ).drop_duplicates().reset_index(drop=True)\n",
    "    \n",
    "    assert matriculados.shape[0] == len_or"
   ]
  },
  {
   "cell_type": "code",
   "execution_count": 9,
   "id": "6a594a5a",
   "metadata": {},
   "outputs": [
    {
     "data": {
      "text/plain": [
       "count    3743349.0\n",
       "mean        2020.0\n",
       "std            2.0\n",
       "min         2015.0\n",
       "25%         2018.0\n",
       "50%         2020.0\n",
       "75%         2022.0\n",
       "max         2022.0\n",
       "Name: ultimo_anio_matricula, dtype: float64"
      ]
     },
     "execution_count": 9,
     "metadata": {},
     "output_type": "execute_result"
    }
   ],
   "source": [
    "matriculados[\"ultimo_anio_matricula\"].describe().round()"
   ]
  },
  {
   "cell_type": "markdown",
   "id": "d364d4ba",
   "metadata": {},
   "source": [
    "### Cualquier carrera"
   ]
  },
  {
   "cell_type": "code",
   "execution_count": 10,
   "id": "e451ebad",
   "metadata": {},
   "outputs": [],
   "source": [
    "if \"ult_anio_mat_cualquier_carrera\" not in matriculados.columns:\n",
    "    len_or = matriculados.shape[0]\n",
    "    matriculados = pd.merge(\n",
    "        matriculados,\n",
    "        matriculados.groupby([\"mrun\"]).agg({\n",
    "            \"cat_periodo\": \"max\"\n",
    "        }).reset_index().rename(columns={\n",
    "            \"cat_periodo\": \"ult_anio_mat_cualquier_carrera\"\n",
    "        }),\n",
    "        how=\"left\"\n",
    "    ).drop_duplicates().reset_index(drop=True)\n",
    "    \n",
    "    assert matriculados.shape[0] == len_or"
   ]
  },
  {
   "cell_type": "markdown",
   "id": "99d86684",
   "metadata": {},
   "source": [
    "## Pre procesamiento: Deserciones"
   ]
  },
  {
   "cell_type": "code",
   "execution_count": 11,
   "id": "daef6fc6",
   "metadata": {},
   "outputs": [],
   "source": [
    "cft_ip = [\"Institutos Profesionales\", \"Centros de Formación Técnica\"]"
   ]
  },
  {
   "cell_type": "code",
   "execution_count": 42,
   "id": "268309ee",
   "metadata": {},
   "outputs": [],
   "source": [
    "anios = []\n",
    "\n",
    "for a in range(2015, 2022):\n",
    "    m_a = matriculados[\n",
    "        (matriculados[\"cat_periodo\"]==a)\n",
    "        & (matriculados[\"tipo_inst_1\"].isin(cft_ip))\n",
    "    ].copy()\n",
    "    \n",
    "    m_a[\"tmp_\"] = m_a[\"mrun\"].astype(str) + m_a[\"codigo_unico\"]\n",
    "    m_a[\"tmp_2\"] = m_a[\"mrun\"].astype(str) + m_a[\"cod_inst\"].astype(str)\n",
    "    m_a[\"tmp_3\"] = m_a[\"mrun\"].astype(str) + m_a[\"cod_carrera\"].astype(str)\n",
    "    \n",
    "    # Criterio 1: Sale del sistema y no vuelve a ingresar\n",
    "    m_a[\"desertor_1\"] = np.where(\n",
    "        (m_a[\"anio_titulacion\"].isna()) & (m_a['ult_anio_mat_cualquier_carrera'] == a), 1, 0\n",
    "    )\n",
    "    \n",
    "    # Criterio 2.1: Sale del sistema y vuelve después de 1 año a la misma carrera en la misma institución\n",
    "    m_a_next_1 =  matriculados[\n",
    "        (matriculados[\"cat_periodo\"]== a + 1)\n",
    "    ].copy()[[\"mrun\", \"codigo_unico\", \"cod_inst\", \"cod_carrera\"]].drop_duplicates()\n",
    "\n",
    "    m_a_next_1[\"tmp_\"] = m_a_next_1[\"mrun\"].astype(str) + m_a_next_1[\"codigo_unico\"]\n",
    "\n",
    "    m_a_next_2 =  matriculados[\n",
    "        (matriculados[\"cat_periodo\"]== a + 2)\n",
    "    ].copy()[[\"mrun\", \"codigo_unico\"]].drop_duplicates()\n",
    "\n",
    "    m_a_next_2[\"tmp_\"] = m_a_next_2[\"mrun\"].astype(str) + m_a_next_2[\"codigo_unico\"]\n",
    "\n",
    "    m_a[\"desertor_2_1\"] = np.where(\n",
    "        (~m_a[\"tmp_\"].isin(m_a_next_1[\"tmp_\"])) & (m_a[\"tmp_\"].isin(m_a_next_2[\"tmp_\"])),\n",
    "        1,\n",
    "        0\n",
    "    )\n",
    "    \n",
    "    # Criterio 2.2: Sale del sistema y vuelve después de 2 años a la misma carrera en la misma institución\n",
    "    m_a_next_3 =  matriculados[\n",
    "        (matriculados[\"cat_periodo\"]== a + 3)\n",
    "    ].copy()[[\"mrun\", \"codigo_unico\"]].drop_duplicates()\n",
    "\n",
    "    m_a_next_3[\"tmp_\"] = m_a_next_3[\"mrun\"].astype(str) + m_a_next_3[\"codigo_unico\"]\n",
    "\n",
    "    m_a[\"desertor_2_2\"] = np.where(\n",
    "        (~m_a[\"tmp_\"].isin(m_a_next_1[\"tmp_\"])) & (m_a[\"tmp_\"].isin(m_a_next_3[\"tmp_\"])),\n",
    "        1,\n",
    "        0\n",
    "    )\n",
    "    \n",
    "    # Criterio 2.3: Sale del sistema y vuelve después de 3 años a la misma carrera en la misma institución\n",
    "    m_a_next_4 =  matriculados[\n",
    "        (matriculados[\"cat_periodo\"]== a + 4)\n",
    "    ].copy()[[\"mrun\", \"codigo_unico\"]].drop_duplicates()\n",
    "\n",
    "    m_a_next_4[\"tmp_\"] = m_a_next_4[\"mrun\"].astype(str) + m_a_next_4[\"codigo_unico\"]\n",
    "\n",
    "    m_a[\"desertor_2_3\"] = np.where(\n",
    "        (~m_a[\"tmp_\"].isin(m_a_next_1[\"tmp_\"])) & (m_a[\"tmp_\"].isin(m_a_next_4[\"tmp_\"])),\n",
    "        1,\n",
    "        0\n",
    "    )\n",
    "    \n",
    "    # Criterio 3: Sale y vuelve a otra carrera en la misma institución al año siguiente\n",
    "    m_a_next_1[\"tmp_2\"] = m_a_next_1[\"mrun\"].astype(str) + m_a_next_1[\"cod_inst\"].astype(str)\n",
    "    m_a_next_1[\"tmp_3\"] = m_a_next_1[\"mrun\"].astype(str) + m_a_next_1[\"cod_carrera\"].astype(str)\n",
    "    \n",
    "    m_a[\"desertor_3\"] = np.where(\n",
    "        (m_a[\"tmp_2\"].isin(m_a_next_1[\"tmp_2\"])) & (~m_a[\"tmp_\"].isin(m_a_next_1[\"tmp_\"])),\n",
    "        1,\n",
    "        0\n",
    "    )\n",
    "    \n",
    "    # Criterio 4: Sale y vuelve a la misma carrera en otra institución al año siguiente\n",
    "    m_a[\"desertor_4\"] = np.where(\n",
    "        (m_a[\"tmp_3\"].isin(m_a_next_1[\"tmp_3\"])) & (~m_a[\"tmp_2\"].isin(m_a_next_1[\"tmp_2\"])),\n",
    "        1,\n",
    "        0\n",
    "    )\n",
    "    \n",
    "    # Criterio 5: Sale y vuelve a otra carrera en otra institución al año siguiente\n",
    "    m_a[\"desertor_5\"] = np.where(\n",
    "        (~m_a[\"tmp_3\"].isin(m_a_next_1[\"tmp_3\"])) & (~m_a[\"tmp_2\"].isin(m_a_next_1[\"tmp_2\"])) & (m_a[\"mrun\"].isin(m_a_next_1[\"mrun\"])),\n",
    "        1,\n",
    "        0\n",
    "    )\n",
    "    \n",
    "    # Criterio 6: Sale y vuelve a ingresar pero no se ha titulado ni matriculado 2022\n",
    "    m_a[\"desertor_6\"] = np.where(\n",
    "        (m_a[\"titulado_cualquier_carrera\"]==0)\n",
    "        & (m_a[\"ult_anio_mat_cualquier_carrera\"] > a)\n",
    "        & (m_a[\"ult_anio_mat_cualquier_carrera\"] < 2022)\n",
    "        & (m_a[\"desertor_1\"] == 0),\n",
    "        1,\n",
    "        0\n",
    "    )\n",
    "    \n",
    "    m_a = m_a.drop(columns=[\"tmp_\", \"tmp_2\", \"tmp_3\"])\n",
    "    \n",
    "    anios.append(m_a)\n",
    "\n",
    "deserciones = pd.concat(anios)"
   ]
  },
  {
   "cell_type": "markdown",
   "id": "9aa8e972",
   "metadata": {},
   "source": [
    "# Exploración"
   ]
  },
  {
   "cell_type": "code",
   "execution_count": 43,
   "id": "aa16c0aa",
   "metadata": {},
   "outputs": [],
   "source": [
    "plots = []\n",
    "\n",
    "for d in deserciones.columns[12:]:\n",
    "    etiqueta = f'% {d.replace(\"_\", \" \").title()}'\n",
    "    des_tmp = deserciones.groupby(\"cat_periodo\")[d].value_counts(normalize=True).mul(100).rename(etiqueta).reset_index()\n",
    "    des_tmp = des_tmp[des_tmp[d] == 1]\n",
    "    des_tmp = des_tmp.drop(columns=[d] if d == \"desertor_1\" else [d, \"cat_periodo\"])\n",
    "    plots.append(des_tmp)\n",
    "    \n",
    "df_plots = pd.concat(plots, axis=1)"
   ]
  },
  {
   "cell_type": "code",
   "execution_count": 44,
   "id": "43a7a6fb",
   "metadata": {},
   "outputs": [
    {
     "data": {
      "text/html": [
       "<div>\n",
       "<style scoped>\n",
       "    .dataframe tbody tr th:only-of-type {\n",
       "        vertical-align: middle;\n",
       "    }\n",
       "\n",
       "    .dataframe tbody tr th {\n",
       "        vertical-align: top;\n",
       "    }\n",
       "\n",
       "    .dataframe thead th {\n",
       "        text-align: right;\n",
       "    }\n",
       "</style>\n",
       "<table border=\"1\" class=\"dataframe\">\n",
       "  <thead>\n",
       "    <tr style=\"text-align: right;\">\n",
       "      <th></th>\n",
       "      <th>cat_periodo</th>\n",
       "      <th>% Desertor 1</th>\n",
       "      <th>% Desertor 2 1</th>\n",
       "      <th>% Desertor 2 2</th>\n",
       "      <th>% Desertor 2 3</th>\n",
       "      <th>% Desertor 3</th>\n",
       "      <th>% Desertor 4</th>\n",
       "      <th>% Desertor 5</th>\n",
       "      <th>% Desertor 6</th>\n",
       "    </tr>\n",
       "  </thead>\n",
       "  <tbody>\n",
       "    <tr>\n",
       "      <th>1</th>\n",
       "      <td>2015</td>\n",
       "      <td>12.590828</td>\n",
       "      <td>1.176572</td>\n",
       "      <td>0.685754</td>\n",
       "      <td>0.362902</td>\n",
       "      <td>8.829395</td>\n",
       "      <td>0.053945</td>\n",
       "      <td>6.705927</td>\n",
       "      <td>30.380802</td>\n",
       "    </tr>\n",
       "    <tr>\n",
       "      <th>3</th>\n",
       "      <td>2016</td>\n",
       "      <td>13.374551</td>\n",
       "      <td>1.314101</td>\n",
       "      <td>0.715295</td>\n",
       "      <td>0.329724</td>\n",
       "      <td>7.914221</td>\n",
       "      <td>0.030180</td>\n",
       "      <td>6.157574</td>\n",
       "      <td>25.068610</td>\n",
       "    </tr>\n",
       "    <tr>\n",
       "      <th>5</th>\n",
       "      <td>2017</td>\n",
       "      <td>13.138174</td>\n",
       "      <td>1.375070</td>\n",
       "      <td>0.639299</td>\n",
       "      <td>0.476128</td>\n",
       "      <td>7.767369</td>\n",
       "      <td>0.023772</td>\n",
       "      <td>5.863550</td>\n",
       "      <td>21.852952</td>\n",
       "    </tr>\n",
       "    <tr>\n",
       "      <th>7</th>\n",
       "      <td>2018</td>\n",
       "      <td>14.023970</td>\n",
       "      <td>1.433883</td>\n",
       "      <td>0.857993</td>\n",
       "      <td>0.478657</td>\n",
       "      <td>8.076443</td>\n",
       "      <td>0.019405</td>\n",
       "      <td>4.756728</td>\n",
       "      <td>21.800158</td>\n",
       "    </tr>\n",
       "    <tr>\n",
       "      <th>9</th>\n",
       "      <td>2019</td>\n",
       "      <td>16.262699</td>\n",
       "      <td>2.084703</td>\n",
       "      <td>1.235262</td>\n",
       "      <td>NaN</td>\n",
       "      <td>6.756725</td>\n",
       "      <td>0.017024</td>\n",
       "      <td>4.206225</td>\n",
       "      <td>19.904742</td>\n",
       "    </tr>\n",
       "    <tr>\n",
       "      <th>11</th>\n",
       "      <td>2020</td>\n",
       "      <td>17.615544</td>\n",
       "      <td>1.653991</td>\n",
       "      <td>NaN</td>\n",
       "      <td>NaN</td>\n",
       "      <td>4.838892</td>\n",
       "      <td>0.018524</td>\n",
       "      <td>4.611047</td>\n",
       "      <td>15.603421</td>\n",
       "    </tr>\n",
       "    <tr>\n",
       "      <th>13</th>\n",
       "      <td>2021</td>\n",
       "      <td>26.173255</td>\n",
       "      <td>NaN</td>\n",
       "      <td>NaN</td>\n",
       "      <td>NaN</td>\n",
       "      <td>4.601729</td>\n",
       "      <td>0.014528</td>\n",
       "      <td>4.538119</td>\n",
       "      <td>NaN</td>\n",
       "    </tr>\n",
       "  </tbody>\n",
       "</table>\n",
       "</div>"
      ],
      "text/plain": [
       "    cat_periodo  % Desertor 1  % Desertor 2 1  % Desertor 2 2  % Desertor 2 3  \\\n",
       "1          2015     12.590828        1.176572        0.685754        0.362902   \n",
       "3          2016     13.374551        1.314101        0.715295        0.329724   \n",
       "5          2017     13.138174        1.375070        0.639299        0.476128   \n",
       "7          2018     14.023970        1.433883        0.857993        0.478657   \n",
       "9          2019     16.262699        2.084703        1.235262             NaN   \n",
       "11         2020     17.615544        1.653991             NaN             NaN   \n",
       "13         2021     26.173255             NaN             NaN             NaN   \n",
       "\n",
       "    % Desertor 3  % Desertor 4  % Desertor 5  % Desertor 6  \n",
       "1       8.829395      0.053945      6.705927     30.380802  \n",
       "3       7.914221      0.030180      6.157574     25.068610  \n",
       "5       7.767369      0.023772      5.863550     21.852952  \n",
       "7       8.076443      0.019405      4.756728     21.800158  \n",
       "9       6.756725      0.017024      4.206225     19.904742  \n",
       "11      4.838892      0.018524      4.611047     15.603421  \n",
       "13      4.601729      0.014528      4.538119           NaN  "
      ]
     },
     "execution_count": 44,
     "metadata": {},
     "output_type": "execute_result"
    }
   ],
   "source": [
    "df_plots"
   ]
  },
  {
   "cell_type": "code",
   "execution_count": 46,
   "id": "2d6b812d",
   "metadata": {},
   "outputs": [
    {
     "data": {
      "image/png": "[encoded data removed]",
      "text/plain": [
       "<Figure size 1080x360 with 1 Axes>"
      ]
     },
     "metadata": {},
     "output_type": "display_data"
    }
   ],
   "source": [
    "# ['% Desertor 1', '% Desertor 2 1', '% Desertor 2 2', '% Desertor 2 3', '% Desertor 3', '% Desertor 4', '% Desertor 5', '% Desertor 6']\n",
    "plt.figure(figsize=(15, 5))\n",
    "color = plt.cm.Dark2(np.linspace(0, 1, 8))\n",
    "for i, c in enumerate(df_plots.columns[1:]):\n",
    "    plt.plot(df_plots[\"cat_periodo\"], df_plots[c], \"-o\", label=c, color=color[i])\n",
    "\n",
    "plt.title(\"% Desertores desde 2015\")\n",
    "plt.xlabel(\"Año\")\n",
    "plt.ylabel(\"%\")\n",
    "plt.legend(ncol=6);"
   ]
  },
  {
   "cell_type": "markdown",
   "id": "3c7636fe",
   "metadata": {},
   "source": [
    "- 1: Sale del sistema y no vuelve a ingresar\n",
    "- 2: Sale del sistema y vuelve después de 1, 2 ó 3 años a la misma carrera en la misma institución (no deserta, \"congela\")\n",
    "- 3: Sale y vuelve a otra carrera en la misma institución (seudo deserción?)\n",
    "- 4: Sale y vuelve a la misma carrera en otra institución (seudo deserción?)\n",
    "- 5: Sale y vuelve a otra carrera en otra institución (seudo deserción?)\n",
    "- 6: Sale del sistema, vuelve a ingresar, pero no termina ni se matricula 2022 (múltiple deserción?)"
   ]
  },
  {
   "cell_type": "code",
   "execution_count": null,
   "id": "ba0344ef",
   "metadata": {},
   "outputs": [],
   "source": []
  }
 ],
 "metadata": {
  "kernelspec": {
   "display_name": "Python 3 (ipykernel)",
   "language": "python",
   "name": "python3"
  },
  "language_info": {
   "codemirror_mode": {
    "name": "ipython",
    "version": 3
   },
   "file_extension": ".py",
   "mimetype": "text/x-python",
   "name": "python",
   "nbconvert_exporter": "python",
   "pygments_lexer": "ipython3",
   "version": "3.9.12"
  }
 },
 "nbformat": 4,
 "nbformat_minor": 5
}
