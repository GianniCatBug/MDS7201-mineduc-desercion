{
 "cells": [
  {
   "cell_type": "code",
   "execution_count": 1,
   "id": "6714d031",
   "metadata": {},
   "outputs": [],
   "source": [
    "import pandas as pd\n",
    "import numpy as np\n",
    "from glob import glob\n",
    "from tqdm.notebook import tqdm\n",
    "from utils import iter_df_read, get_array_diff\n",
    "\n",
    "# Modificar por ruta local de almacenamiento de datos\n",
    "BASE = \"/media/giani/Gianicosas/Magister/Proyecto/\""
   ]
  },
  {
   "cell_type": "markdown",
   "id": "5e575655",
   "metadata": {},
   "source": [
    "# Operacionalización de datos\n",
    "\n",
    "### Alumno desertor\n",
    "- Tiene que haber pasado un tiempo mayor a la duración de la carrera (`cursando==0`)\n",
    "- Considerar todo para el mismo codigo de carrera cada vez\n",
    "- No debe estar en la base de titulados para esa carrera\n",
    "\n",
    "### Tipos de deserción\n",
    "\n",
    "- Sale del sistema y no vuelve a ingresar\n",
    "- Sale del sistema y vuelve después de 1, 2 ó 3 años:\n",
    "    - Vuelve a la misma carrera en la misma institución (no deserta, \"congela\")\n",
    "    - Vuelve a otra carrera en la misma institución\n",
    "    - Vuelve a la misma carrera en otra institución\n",
    "    - Vuelve a la otra carrera en otra institución "
   ]
  },
  {
   "cell_type": "markdown",
   "id": "222a4e33",
   "metadata": {},
   "source": [
    "# Matriculados\n",
    "\n",
    "## Lectura de datos matriculados\n",
    "\n",
    "Fuente: https://datosabiertos.mineduc.cl/matricula-en-educacion-superior/\n",
    "\n",
    "- Se considera todos los matriculados en CFT / IP desde 2015"
   ]
  },
  {
   "cell_type": "code",
   "execution_count": 2,
   "id": "8fa54962",
   "metadata": {},
   "outputs": [
    {
     "data": {
      "text/html": [
       "<div>\n",
       "<style scoped>\n",
       "    .dataframe tbody tr th:only-of-type {\n",
       "        vertical-align: middle;\n",
       "    }\n",
       "\n",
       "    .dataframe tbody tr th {\n",
       "        vertical-align: top;\n",
       "    }\n",
       "\n",
       "    .dataframe thead th {\n",
       "        text-align: right;\n",
       "    }\n",
       "</style>\n",
       "<table border=\"1\" class=\"dataframe\">\n",
       "  <thead>\n",
       "    <tr style=\"text-align: right;\">\n",
       "      <th></th>\n",
       "      <th>codigo_unico</th>\n",
       "      <th>mrun</th>\n",
       "      <th>fecha_obtencion_titulo</th>\n",
       "    </tr>\n",
       "  </thead>\n",
       "  <tbody>\n",
       "    <tr>\n",
       "      <th>0</th>\n",
       "      <td>I111S2C413J1V1</td>\n",
       "      <td>15015557.0</td>\n",
       "      <td>20220228.0</td>\n",
       "    </tr>\n",
       "    <tr>\n",
       "      <th>1</th>\n",
       "      <td>I117S1C60J4V1</td>\n",
       "      <td>6100912.0</td>\n",
       "      <td>20220228.0</td>\n",
       "    </tr>\n",
       "    <tr>\n",
       "      <th>2</th>\n",
       "      <td>I260S50C108J1V1</td>\n",
       "      <td>2713742.0</td>\n",
       "      <td>20220228.0</td>\n",
       "    </tr>\n",
       "    <tr>\n",
       "      <th>3</th>\n",
       "      <td>I260S38C47J2V1</td>\n",
       "      <td>14478456.0</td>\n",
       "      <td>20220228.0</td>\n",
       "    </tr>\n",
       "    <tr>\n",
       "      <th>4</th>\n",
       "      <td>I260S3C280J1V1</td>\n",
       "      <td>23547583.0</td>\n",
       "      <td>20220228.0</td>\n",
       "    </tr>\n",
       "  </tbody>\n",
       "</table>\n",
       "</div>"
      ],
      "text/plain": [
       "      codigo_unico        mrun  fecha_obtencion_titulo\n",
       "0   I111S2C413J1V1  15015557.0              20220228.0\n",
       "1    I117S1C60J4V1   6100912.0              20220228.0\n",
       "2  I260S50C108J1V1   2713742.0              20220228.0\n",
       "3   I260S38C47J2V1  14478456.0              20220228.0\n",
       "4   I260S3C280J1V1  23547583.0              20220228.0"
      ]
     },
     "execution_count": 2,
     "metadata": {},
     "output_type": "execute_result"
    }
   ],
   "source": [
    "# Matriculados de CFT / IP\n",
    "mat_cft_ip = pd.read_csv(f\"{BASE}/tmp_data/fechas_titulacion.csv\")\n",
    "mat_cft_ip.head()"
   ]
  },
  {
   "cell_type": "code",
   "execution_count": 3,
   "id": "b91d7642",
   "metadata": {},
   "outputs": [
    {
     "data": {
      "text/plain": [
       "codigo_unico                   0\n",
       "mrun                           0\n",
       "fecha_obtencion_titulo    815446\n",
       "dtype: int64"
      ]
     },
     "execution_count": 3,
     "metadata": {},
     "output_type": "execute_result"
    }
   ],
   "source": [
    "mat_cft_ip.isna().sum()"
   ]
  },
  {
   "cell_type": "code",
   "execution_count": 4,
   "id": "cdf6eebe",
   "metadata": {},
   "outputs": [
    {
     "data": {
      "application/vnd.jupyter.widget-view+json": {
       "model_id": "3640baa4d73b489386a3a94be2e60b26",
       "version_major": 2,
       "version_minor": 0
      },
      "text/plain": [
       "  0%|          | 0/8 [00:00<?, ?it/s]"
      ]
     },
     "metadata": {},
     "output_type": "display_data"
    }
   ],
   "source": [
    "# Se carga datos de matrícula para estos alumnos, considerando todas las instituciones\n",
    "cols = [\n",
    "    'cat_periodo', 'codigo_unico', 'mrun', 'anio_ing_carr_ori', 'anio_ing_carr_act',\n",
    "    'tipo_inst_1', 'dur_estudio_carr', 'cod_inst', 'cod_carrera'\n",
    "]\n",
    "\n",
    "mruns = mat_cft_ip[\"mrun\"].unique()\n",
    "\n",
    "matriculados = pd.concat([\n",
    "    iter_df_read(f, \"mrun\", mruns, sep=\";\", usecols=cols)\n",
    "    for f in tqdm(\n",
    "        glob(f\"{BASE}/raw_data/post_2015/20220719_Matrícula_Ed_Superior_*.csv\"),\n",
    "        total=8\n",
    "    )\n",
    "]).drop_duplicates().reset_index(drop=True)"
   ]
  },
  {
   "cell_type": "code",
   "execution_count": 5,
   "id": "e47d7e3e",
   "metadata": {},
   "outputs": [],
   "source": [
    "# Se agrega columna que indica titulación\n",
    "\n",
    "if \"fecha_obtencion_titulo\" not in matriculados.columns:\n",
    "    len_or = matriculados.shape[0]\n",
    "    matriculados = pd.merge(\n",
    "        matriculados,\n",
    "        mat_cft_ip,\n",
    "        how=\"left\"\n",
    "    )\n",
    "    \n",
    "    assert matriculados.shape[0] == len_or"
   ]
  },
  {
   "cell_type": "markdown",
   "id": "48a0b218",
   "metadata": {},
   "source": [
    "## Pre procesamiento: Año de titulación"
   ]
  },
  {
   "cell_type": "code",
   "execution_count": 6,
   "id": "42cbeeda",
   "metadata": {},
   "outputs": [
    {
     "data": {
      "text/plain": [
       "count    1416585.0\n",
       "mean        2019.0\n",
       "std            2.0\n",
       "min         2015.0\n",
       "25%         2017.0\n",
       "50%         2019.0\n",
       "75%         2020.0\n",
       "max         2022.0\n",
       "Name: anio_titulacion, dtype: float64"
      ]
     },
     "execution_count": 6,
     "metadata": {},
     "output_type": "execute_result"
    }
   ],
   "source": [
    "matriculados[\"anio_titulacion\"] = matriculados[\"fecha_obtencion_titulo\"].fillna(\"\").astype(str).str[:4].replace([\"\"], [np.nan]).astype(float)\n",
    "matriculados[\"anio_titulacion\"].describe().round()"
   ]
  },
  {
   "cell_type": "markdown",
   "id": "5db36010",
   "metadata": {},
   "source": [
    "## Pre procesamiento: Cursando carrera\n",
    "\n",
    "Se crea columna `cursando`, la cual indica:\n",
    "- `1` si los años transcurridos desde el año de ingreso a la carrera hasta el año 2022 es menor o igual a la duración de la carrera en años.\n",
    "- `0` en caso contrario (debió ya terminar la carrera)\n",
    "\n",
    "Esto se utilizará más adelante en la construcción del vector objetivo; Se hace una selección de datos donde solo se selecciona a aquellos que tengan `cursando==0`, para medir inicialmente deserción solamente en aquellos que no se encuentren ya en la ventana de duración de la carrera."
   ]
  },
  {
   "cell_type": "code",
   "execution_count": 7,
   "id": "4c71d8dc",
   "metadata": {},
   "outputs": [
    {
     "data": {
      "text/plain": [
       "0    0.854918\n",
       "1    0.145082\n",
       "Name: cursando, dtype: float64"
      ]
     },
     "execution_count": 7,
     "metadata": {},
     "output_type": "execute_result"
    }
   ],
   "source": [
    "matriculados[\"cursando\"] = np.where(\n",
    "    pd.Series([2022] * matriculados.shape[0]) - matriculados[\"anio_ing_carr_ori\"]\n",
    "    <= matriculados[\"dur_estudio_carr\"] / 2, 1, 0\n",
    ")\n",
    "\n",
    "matriculados[\"cursando\"].value_counts(\"%\")"
   ]
  },
  {
   "cell_type": "markdown",
   "id": "9f0a74fe",
   "metadata": {},
   "source": [
    "## Pre prcesamiento: Deserciones\n",
    "\n",
    "### Primer caso: Sale del sistema y no vuelve a ingresar\n",
    "Aquellos que cumplen a la vez que:\n",
    "- Ha pasado el tiempo de su carrera\n",
    "- Solo han tomado 1 carrera\n",
    "- No se han titulado\n",
    "- No se han matriculado el año 2022\n",
    "- No tienen \"años en blanco\" (que salgan y vuelvan)"
   ]
  },
  {
   "cell_type": "code",
   "execution_count": 8,
   "id": "6b9c676d",
   "metadata": {},
   "outputs": [],
   "source": [
    "cft_ip_inst = [\"Institutos Profesionales\", \"Centros de Formación Técnica\"]"
   ]
  },
  {
   "cell_type": "code",
   "execution_count": 9,
   "id": "ecf71173",
   "metadata": {},
   "outputs": [
    {
     "name": "stdout",
     "output_type": "stream",
     "text": [
      "Cant. matriculados CFT/IP que debieron terminar carrera (universo total):  1113239\n"
     ]
    }
   ],
   "source": [
    "ruts_matriculados = matriculados[\n",
    "    (matriculados[\"cursando\"]==0)\n",
    "    & (matriculados[\"tipo_inst_1\"].isin(cft_ip_inst))\n",
    "][\"mrun\"].unique()\n",
    "\n",
    "print(\"Cant. matriculados CFT/IP que debieron terminar carrera (universo total): \", ruts_matriculados.shape[0])"
   ]
  },
  {
   "cell_type": "code",
   "execution_count": 10,
   "id": "99514446",
   "metadata": {},
   "outputs": [
    {
     "name": "stdout",
     "output_type": "stream",
     "text": [
      "Cant. matriculados de CFT/IP que debieron terminar carrera y no se han titulado:  675628\n"
     ]
    }
   ],
   "source": [
    "ruts_no_titulados = matriculados[\n",
    "    (matriculados[\"cursando\"]==0)\n",
    "    & (matriculados[\"tipo_inst_1\"].isin(cft_ip_inst))\n",
    "    & (matriculados[\"anio_titulacion\"].isna())\n",
    "][\"mrun\"].unique()\n",
    "\n",
    "print(\"Cant. matriculados de CFT/IP que debieron terminar carrera y no se han titulado: \", ruts_no_titulados.shape[0])"
   ]
  },
  {
   "cell_type": "code",
   "execution_count": 11,
   "id": "8d06cbbb",
   "metadata": {},
   "outputs": [
    {
     "name": "stdout",
     "output_type": "stream",
     "text": [
      "Cant. matriculados de CFT/IP que debieron terminar carrera, no se han titulado, y solo han tomado 1 carrera:  327910\n"
     ]
    }
   ],
   "source": [
    "cant_carreras_no_tit = matriculados[\n",
    "    matriculados[\"mrun\"].isin(ruts_no_titulados)\n",
    "][[\"mrun\", \"codigo_unico\"]].drop_duplicates().groupby([\"mrun\"]).size().reset_index(name=\"cant_carreras\")\n",
    "\n",
    "ruts_no_tit_1_carr = cant_carreras_no_tit[cant_carreras_no_tit[\"cant_carreras\"] == 1][\"mrun\"].unique()\n",
    "\n",
    "print(\"Cant. matriculados de CFT/IP que debieron terminar carrera, no se han titulado, y solo han tomado 1 carrera: \", ruts_no_tit_1_carr.shape[0])"
   ]
  },
  {
   "cell_type": "code",
   "execution_count": 12,
   "id": "b5be9763",
   "metadata": {},
   "outputs": [
    {
     "name": "stdout",
     "output_type": "stream",
     "text": [
      "Cant. matriculados de CFT/IP que debieron terminar carrera, no se han titulado, solo han tomado 1 carrera, y no estudian actualmente:  309391\n"
     ]
    }
   ],
   "source": [
    "ult_mat_no_tit_1_carr = matriculados[\n",
    "    matriculados[\"mrun\"].isin(ruts_no_tit_1_carr)\n",
    "].groupby([\"mrun\"]).agg({\n",
    "    \"cat_periodo\": \"max\"\n",
    "}).reset_index()\n",
    "\n",
    "ruts_no_tit_1_carr_no_mat_2022 = ult_mat_no_tit_1_carr[ult_mat_no_tit_1_carr[\"cat_periodo\"] < 2022][\"mrun\"].unique()\n",
    "\n",
    "print(\"Cant. matriculados de CFT/IP que debieron terminar carrera, no se han titulado, solo han tomado 1 carrera, y no estudian actualmente: \", ruts_no_tit_1_carr_no_mat_2022.shape[0])"
   ]
  },
  {
   "cell_type": "code",
   "execution_count": 13,
   "id": "d4f93fe3",
   "metadata": {},
   "outputs": [
    {
     "name": "stdout",
     "output_type": "stream",
     "text": [
      "Cant. matriculados de CFT/IP que debieron terminar carrera, no se han titulado, solo han tomado 1 carrera, no estudian actualmente, y se han matriculado siempre años seguidos: 299828\n"
     ]
    }
   ],
   "source": [
    "max_dif_entre_mat = matriculados[\n",
    "    matriculados[\"mrun\"].isin(ruts_no_tit_1_carr_no_mat_2022)\n",
    "].groupby([\"mrun\"]).agg({\n",
    "    \"cat_periodo\": get_array_diff#lambda x: np.diff(x).max() if len(np.diff(x)) else 0\n",
    "}).reset_index()\n",
    "\n",
    "ruts_desertores_1 = max_dif_entre_mat[max_dif_entre_mat[\"cat_periodo\"] <= 1][\"mrun\"].unique()\n",
    "\n",
    "print(\n",
    "    f\"Cant. matriculados de CFT/IP que debieron terminar carrera, no se han titulado, solo han tomado 1 carrera, no estudian actualmente, y se han matriculado siempre años seguidos: \"\n",
    "    f\"{ruts_desertores_1.shape[0]}\"\n",
    ")"
   ]
  },
  {
   "cell_type": "code",
   "execution_count": 14,
   "id": "9e08daca",
   "metadata": {},
   "outputs": [
    {
     "name": "stdout",
     "output_type": "stream",
     "text": [
      "% Desertores Criterio 1: 26.9%\n"
     ]
    }
   ],
   "source": [
    "print(f\"% Desertores Criterio 1: {np.round(ruts_desertores_1.shape[0] / ruts_matriculados.shape[0] * 100, 1)}%\")"
   ]
  },
  {
   "cell_type": "markdown",
   "id": "2f6579eb",
   "metadata": {},
   "source": [
    "### Segundo caso:  Sale del sistema y vuelve a la misma carrera en la misma institución\n",
    "Además se considera que:\n",
    "- Ha pasado el tiempo de su carrera evaluada (`ruts_matriculados`)\n",
    "- Se puede haber titulado o no\n",
    "- Pueden haber estudiado más de 1 carrera\n",
    "- Pueden o no estar estudiante actualmente (mismo `codigo_unico` u otro)"
   ]
  },
  {
   "cell_type": "code",
   "execution_count": 15,
   "id": "e4580e3f",
   "metadata": {},
   "outputs": [
    {
     "data": {
      "text/html": [
       "<div>\n",
       "<style scoped>\n",
       "    .dataframe tbody tr th:only-of-type {\n",
       "        vertical-align: middle;\n",
       "    }\n",
       "\n",
       "    .dataframe tbody tr th {\n",
       "        vertical-align: top;\n",
       "    }\n",
       "\n",
       "    .dataframe thead th {\n",
       "        text-align: right;\n",
       "    }\n",
       "</style>\n",
       "<table border=\"1\" class=\"dataframe\">\n",
       "  <thead>\n",
       "    <tr style=\"text-align: right;\">\n",
       "      <th></th>\n",
       "      <th>mrun</th>\n",
       "      <th>codigo_unico</th>\n",
       "      <th>cat_periodo</th>\n",
       "    </tr>\n",
       "  </thead>\n",
       "  <tbody>\n",
       "    <tr>\n",
       "      <th>0</th>\n",
       "      <td>5.0</td>\n",
       "      <td>I260S47C118J1V1</td>\n",
       "      <td>0</td>\n",
       "    </tr>\n",
       "    <tr>\n",
       "      <th>1</th>\n",
       "      <td>5.0</td>\n",
       "      <td>I374S1C9J1V1</td>\n",
       "      <td>0</td>\n",
       "    </tr>\n",
       "    <tr>\n",
       "      <th>2</th>\n",
       "      <td>19.0</td>\n",
       "      <td>I536S0C39J1V1</td>\n",
       "      <td>1</td>\n",
       "    </tr>\n",
       "    <tr>\n",
       "      <th>3</th>\n",
       "      <td>37.0</td>\n",
       "      <td>I498S6C132J2V1</td>\n",
       "      <td>1</td>\n",
       "    </tr>\n",
       "    <tr>\n",
       "      <th>4</th>\n",
       "      <td>107.0</td>\n",
       "      <td>I111S12C104J1V1</td>\n",
       "      <td>1</td>\n",
       "    </tr>\n",
       "  </tbody>\n",
       "</table>\n",
       "</div>"
      ],
      "text/plain": [
       "    mrun     codigo_unico  cat_periodo\n",
       "0    5.0  I260S47C118J1V1            0\n",
       "1    5.0     I374S1C9J1V1            0\n",
       "2   19.0    I536S0C39J1V1            1\n",
       "3   37.0   I498S6C132J2V1            1\n",
       "4  107.0  I111S12C104J1V1            1"
      ]
     },
     "execution_count": 15,
     "metadata": {},
     "output_type": "execute_result"
    }
   ],
   "source": [
    "max_dif_entre_mat_rut_carr = matriculados[\n",
    "    matriculados[\"mrun\"].isin(ruts_matriculados)\n",
    "].groupby([\"mrun\", \"codigo_unico\"]).agg({\n",
    "    \"cat_periodo\": get_array_diff\n",
    "}).reset_index()\n",
    "\n",
    "max_dif_entre_mat_rut_carr.head()"
   ]
  },
  {
   "cell_type": "code",
   "execution_count": 21,
   "id": "b1646a87",
   "metadata": {},
   "outputs": [
    {
     "name": "stdout",
     "output_type": "stream",
     "text": [
      "Cant. matriculados de CFT/IP que debieron terminar carrera y congelaron 1 año:  44711\n",
      "Cant. matriculados de CFT/IP que debieron terminar carrera y congelaron 2 años:  10345\n",
      "Cant. matriculados de CFT/IP que debieron terminar carrera y congelaron 3 años:  3307\n"
     ]
    }
   ],
   "source": [
    "ruts_desertores_2_1 = max_dif_entre_mat_rut_carr[max_dif_entre_mat_rut_carr[\"cat_periodo\"] == 2][[\"mrun\", \"codigo_unico\"]].drop_duplicates()\n",
    "ruts_desertores_2_2 = max_dif_entre_mat_rut_carr[max_dif_entre_mat_rut_carr[\"cat_periodo\"] == 3][[\"mrun\", \"codigo_unico\"]].drop_duplicates()\n",
    "ruts_desertores_2_3 = max_dif_entre_mat_rut_carr[max_dif_entre_mat_rut_carr[\"cat_periodo\"] == 4][[\"mrun\", \"codigo_unico\"]].drop_duplicates()\n",
    "\n",
    "print(f\"Cant. matriculados de CFT/IP que debieron terminar carrera y congelaron 1 año: \", ruts_desertores_2_1.shape[0])\n",
    "print(f\"Cant. matriculados de CFT/IP que debieron terminar carrera y congelaron 2 años: \", ruts_desertores_2_2.shape[0])\n",
    "print(f\"Cant. matriculados de CFT/IP que debieron terminar carrera y congelaron 3 años: \", ruts_desertores_2_3.shape[0])"
   ]
  },
  {
   "cell_type": "code",
   "execution_count": null,
   "id": "576c4916",
   "metadata": {},
   "outputs": [],
   "source": []
  }
 ],
 "metadata": {
  "kernelspec": {
   "display_name": "Python 3 (ipykernel)",
   "language": "python",
   "name": "python3"
  },
  "language_info": {
   "codemirror_mode": {
    "name": "ipython",
    "version": 3
   },
   "file_extension": ".py",
   "mimetype": "text/x-python",
   "name": "python",
   "nbconvert_exporter": "python",
   "pygments_lexer": "ipython3",
   "version": "3.9.12"
  }
 },
 "nbformat": 4,
 "nbformat_minor": 5
}
