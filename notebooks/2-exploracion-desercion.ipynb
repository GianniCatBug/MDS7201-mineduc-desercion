{
 "cells": [
  {
   "cell_type": "code",
   "execution_count": 1,
   "id": "07f952a3",
   "metadata": {},
   "outputs": [],
   "source": [
    "import pandas as pd\n",
    "import numpy as np\n",
    "from glob import glob\n",
    "from tqdm.notebook import tqdm\n",
    "from utils import iter_df_read, get_array_diff\n",
    "\n",
    "# Modificar por ruta local de almacenamiento de datos\n",
    "BASE = \"/media/giani/Gianicosas/Magister/Proyecto/\""
   ]
  },
  {
   "cell_type": "markdown",
   "id": "f45e2751",
   "metadata": {},
   "source": [
    "# Operacionalización de datos\n",
    "\n",
    "### Alumno desertor\n",
    "- Requisito: No se debe haber titulado para la carrera analizada\n",
    "\n",
    "### Tipos de deserción\n",
    "\n",
    "- Sale del sistema y no vuelve a ingresar\n",
    "- Sale del sistema y vuelve después de 1, 2 ó 3 años y termina o sigue en el sistema (seudo deserción?):\n",
    "    - Vuelve a la misma carrera en la misma institución (no deserta, \"congela\")\n",
    "    - Vuelve a otra carrera en la misma institución\n",
    "    - Vuelve a la misma carrera en otra institución\n",
    "    - Vuelve a otra carrera en otra institución\n",
    "- Sale del sistema, vuelve a ingresar, pero no termina (múltitple deserción?)"
   ]
  },
  {
   "cell_type": "markdown",
   "id": "9f68542a",
   "metadata": {},
   "source": [
    "# Matriculados\n",
    "\n",
    "## Lectura de datos matriculados\n",
    "\n",
    "Fuente: https://datosabiertos.mineduc.cl/matricula-en-educacion-superior/\n",
    "\n",
    "- Se considera todos los matriculados en CFT / IP desde 2015"
   ]
  },
  {
   "cell_type": "code",
   "execution_count": 2,
   "id": "04f93728",
   "metadata": {},
   "outputs": [
    {
     "data": {
      "text/html": [
       "<div>\n",
       "<style scoped>\n",
       "    .dataframe tbody tr th:only-of-type {\n",
       "        vertical-align: middle;\n",
       "    }\n",
       "\n",
       "    .dataframe tbody tr th {\n",
       "        vertical-align: top;\n",
       "    }\n",
       "\n",
       "    .dataframe thead th {\n",
       "        text-align: right;\n",
       "    }\n",
       "</style>\n",
       "<table border=\"1\" class=\"dataframe\">\n",
       "  <thead>\n",
       "    <tr style=\"text-align: right;\">\n",
       "      <th></th>\n",
       "      <th>codigo_unico</th>\n",
       "      <th>mrun</th>\n",
       "      <th>fecha_obtencion_titulo</th>\n",
       "    </tr>\n",
       "  </thead>\n",
       "  <tbody>\n",
       "    <tr>\n",
       "      <th>0</th>\n",
       "      <td>I143S26C9J2V2</td>\n",
       "      <td>26379527.0</td>\n",
       "      <td>20220228.0</td>\n",
       "    </tr>\n",
       "    <tr>\n",
       "      <th>1</th>\n",
       "      <td>I260S22C108J1V1</td>\n",
       "      <td>4120917.0</td>\n",
       "      <td>20220228.0</td>\n",
       "    </tr>\n",
       "    <tr>\n",
       "      <th>2</th>\n",
       "      <td>I116S34C17J2V1</td>\n",
       "      <td>4348827.0</td>\n",
       "      <td>20220228.0</td>\n",
       "    </tr>\n",
       "    <tr>\n",
       "      <th>3</th>\n",
       "      <td>I260S21C263J2V1</td>\n",
       "      <td>20301532.0</td>\n",
       "      <td>20220228.0</td>\n",
       "    </tr>\n",
       "    <tr>\n",
       "      <th>4</th>\n",
       "      <td>I143S2C651J2V1</td>\n",
       "      <td>3498846.0</td>\n",
       "      <td>20220228.0</td>\n",
       "    </tr>\n",
       "  </tbody>\n",
       "</table>\n",
       "</div>"
      ],
      "text/plain": [
       "      codigo_unico        mrun  fecha_obtencion_titulo\n",
       "0    I143S26C9J2V2  26379527.0              20220228.0\n",
       "1  I260S22C108J1V1   4120917.0              20220228.0\n",
       "2   I116S34C17J2V1   4348827.0              20220228.0\n",
       "3  I260S21C263J2V1  20301532.0              20220228.0\n",
       "4   I143S2C651J2V1   3498846.0              20220228.0"
      ]
     },
     "execution_count": 2,
     "metadata": {},
     "output_type": "execute_result"
    }
   ],
   "source": [
    "# Matriculados de CFT / IP\n",
    "mat_cft_ip = pd.read_csv(f\"{BASE}/tmp_data/fechas_titulacion.csv\")\n",
    "mat_cft_ip.head()"
   ]
  },
  {
   "cell_type": "code",
   "execution_count": 3,
   "id": "af5b80ac",
   "metadata": {},
   "outputs": [
    {
     "data": {
      "text/plain": [
       "codigo_unico                    0\n",
       "mrun                            0\n",
       "fecha_obtencion_titulo    1194617\n",
       "dtype: int64"
      ]
     },
     "execution_count": 3,
     "metadata": {},
     "output_type": "execute_result"
    }
   ],
   "source": [
    "mat_cft_ip.isna().sum()"
   ]
  },
  {
   "cell_type": "code",
   "execution_count": 4,
   "id": "a97cb7e2",
   "metadata": {},
   "outputs": [
    {
     "data": {
      "application/vnd.jupyter.widget-view+json": {
       "model_id": "a5ec789de8224d869b3bcddd830604c5",
       "version_major": 2,
       "version_minor": 0
      },
      "text/plain": [
       "  0%|          | 0/8 [00:00<?, ?it/s]"
      ]
     },
     "metadata": {},
     "output_type": "display_data"
    }
   ],
   "source": [
    "# Se carga datos de matrícula para estos alumnos, considerando todas las instituciones\n",
    "cols = [\n",
    "    'cat_periodo', 'codigo_unico', 'mrun', 'tipo_inst_1', 'dur_estudio_carr',\n",
    "    'cod_inst', 'cod_carrera'\n",
    "]\n",
    "\n",
    "mruns = mat_cft_ip[\"mrun\"].unique()\n",
    "\n",
    "matriculados = pd.concat([\n",
    "    iter_df_read(f, \"mrun\", mruns, sep=\";\", usecols=cols)\n",
    "    for f in tqdm(\n",
    "        glob(f\"{BASE}/raw_data/post_2015/20220719_Matrícula_Ed_Superior_*.csv\"),\n",
    "        total=8\n",
    "    )\n",
    "]).drop_duplicates().reset_index(drop=True)"
   ]
  },
  {
   "cell_type": "code",
   "execution_count": 5,
   "id": "d8c25cb7",
   "metadata": {},
   "outputs": [],
   "source": [
    "# Se agrega columna que indica titulación\n",
    "\n",
    "if \"fecha_obtencion_titulo\" not in matriculados.columns:\n",
    "    len_or = matriculados.shape[0]\n",
    "    matriculados = pd.merge(\n",
    "        matriculados,\n",
    "        mat_cft_ip,\n",
    "        how=\"left\"\n",
    "    )\n",
    "    \n",
    "    assert matriculados.shape[0] == len_or"
   ]
  },
  {
   "cell_type": "markdown",
   "id": "2d32d82e",
   "metadata": {},
   "source": [
    "## Pre procesamiento: Año de titulación"
   ]
  },
  {
   "cell_type": "code",
   "execution_count": 6,
   "id": "9b09e0fe",
   "metadata": {},
   "outputs": [
    {
     "data": {
      "text/plain": [
       "count    1073280.0\n",
       "mean        2019.0\n",
       "std            1.0\n",
       "min         2015.0\n",
       "25%         2018.0\n",
       "50%         2020.0\n",
       "75%         2021.0\n",
       "max         2022.0\n",
       "Name: anio_titulacion, dtype: float64"
      ]
     },
     "execution_count": 6,
     "metadata": {},
     "output_type": "execute_result"
    }
   ],
   "source": [
    "matriculados[\"anio_titulacion\"] = matriculados[\"fecha_obtencion_titulo\"].fillna(\"\").astype(str).str[:4].replace([\"\"], [np.nan]).astype(float)\n",
    "matriculados[\"anio_titulacion\"].describe().round()"
   ]
  },
  {
   "cell_type": "markdown",
   "id": "b6ec8312",
   "metadata": {},
   "source": [
    "## Pre procesamiento: Último año de matrícula por carrera"
   ]
  },
  {
   "cell_type": "code",
   "execution_count": 7,
   "id": "6aee16b6",
   "metadata": {},
   "outputs": [],
   "source": [
    "if \"ultimo_anio_matricula\" not in matriculados.columns:\n",
    "    len_or = matriculados.shape[0]\n",
    "    matriculados = pd.merge(\n",
    "        matriculados,\n",
    "        matriculados.groupby([\"mrun\", \"codigo_unico\"]).agg({\n",
    "            \"cat_periodo\": \"max\"\n",
    "        }).reset_index().rename(columns={\n",
    "            \"cat_periodo\": \"ultimo_anio_matricula\"\n",
    "        }),\n",
    "        how=\"left\"\n",
    "    ).drop_duplicates().reset_index(drop=True)\n",
    "    \n",
    "    assert matriculados.shape[0] == len_or"
   ]
  },
  {
   "cell_type": "code",
   "execution_count": 17,
   "id": "31a0089b",
   "metadata": {},
   "outputs": [
    {
     "data": {
      "text/plain": [
       "count    3743349.0\n",
       "mean        2020.0\n",
       "std            2.0\n",
       "min         2015.0\n",
       "25%         2018.0\n",
       "50%         2020.0\n",
       "75%         2022.0\n",
       "max         2022.0\n",
       "Name: ultimo_anio_matricula, dtype: float64"
      ]
     },
     "execution_count": 17,
     "metadata": {},
     "output_type": "execute_result"
    }
   ],
   "source": [
    "matriculados[\"ultimo_anio_matricula\"].describe().round()"
   ]
  },
  {
   "cell_type": "markdown",
   "id": "e1206527",
   "metadata": {},
   "source": [
    "## Pre prcesamiento: Deserciones\n",
    "\n",
    "### Primer caso: Sale del sistema y no vuelve a ingresar\n",
    "- Solo han tomado 1 carrera\n",
    "- No se han titulado\n",
    "- Puede o no tener \"años en banco\"\n",
    "- No se han matriculado el año 2022"
   ]
  },
  {
   "cell_type": "code",
   "execution_count": 8,
   "id": "a9996045",
   "metadata": {},
   "outputs": [],
   "source": [
    "cft_ip = [\"Institutos Profesionales\", \"Centros de Formación Técnica\"]"
   ]
  },
  {
   "cell_type": "code",
   "execution_count": 9,
   "id": "c2ced5e8",
   "metadata": {},
   "outputs": [
    {
     "name": "stdout",
     "output_type": "stream",
     "text": [
      "Cant. personas que ingresaron a estudiar entre 2015 y 2021 y se matricularon en CFT / IP (universo total):  1233136\n"
     ]
    }
   ],
   "source": [
    "ruts_matriculados_cft_ip = matriculados[\n",
    "    matriculados[\"tipo_inst_1\"].isin(cft_ip)\n",
    "][\"mrun\"].unique()\n",
    "\n",
    "print(\"Cant. personas que ingresaron a estudiar entre 2015 y 2021 y se matricularon en CFT / IP (universo total): \", ruts_matriculados_cft_ip.shape[0])"
   ]
  },
  {
   "cell_type": "code",
   "execution_count": 10,
   "id": "ae237b31",
   "metadata": {},
   "outputs": [
    {
     "name": "stdout",
     "output_type": "stream",
     "text": [
      "Dentro de los anteriores, cantidad que solo ha tomado 1 carrera:  741611\n"
     ]
    }
   ],
   "source": [
    "cant_carreras = matriculados[\n",
    "    matriculados[\"mrun\"].isin(ruts_matriculados_cft_ip)\n",
    "][[\"mrun\", \"codigo_unico\"]].drop_duplicates().groupby([\"mrun\"]).size().reset_index(name=\"cant_carreras\")\n",
    "\n",
    "ruts_1_carrera = cant_carreras[cant_carreras[\"cant_carreras\"] == 1][\"mrun\"].unique()\n",
    "\n",
    "print(\"Dentro de los anteriores, cantidad que solo ha tomado 1 carrera: \", ruts_1_carrera.shape[0])"
   ]
  },
  {
   "cell_type": "code",
   "execution_count": 12,
   "id": "3a581e2f",
   "metadata": {},
   "outputs": [
    {
     "name": "stdout",
     "output_type": "stream",
     "text": [
      "Dentro de los anteriores, no se han titulado ni matriculado el año 2022:  349677\n"
     ]
    }
   ],
   "source": [
    "ruts_desertores_1 = matriculados[\n",
    "    (matriculados[\"mrun\"].isin(ruts_1_carrera))\n",
    "    & (matriculados[\"anio_titulacion\"].isna())\n",
    "    & (matriculados[\"ultimo_anio_matricula\"] < 2022)\n",
    "][\"mrun\"].unique()\n",
    "\n",
    "print(\"Dentro de los anteriores, no se han titulado ni matriculado el año 2022: \", ruts_desertores_1.shape[0])"
   ]
  },
  {
   "cell_type": "code",
   "execution_count": 13,
   "id": "dc0342d8",
   "metadata": {},
   "outputs": [
    {
     "name": "stdout",
     "output_type": "stream",
     "text": [
      "% Desertores Criterio 1: 28.4%\n"
     ]
    }
   ],
   "source": [
    "print(f\"% Desertores Criterio 1: {np.round(ruts_desertores_1.shape[0] / ruts_matriculados_cft_ip.shape[0] * 100, 1)}%\")"
   ]
  },
  {
   "cell_type": "markdown",
   "id": "ad601940",
   "metadata": {},
   "source": [
    "### Segundo caso:  Sale del sistema y vuelve a la misma carrera en la misma institución\n",
    "- Dentro de una misma carrera, tiene años en blanco (1, 2 ó 3)\n",
    "- En los años en blanco, no se ha matriculado en otra carrera\n",
    "- Se titula o se matricula en el año 2022 (no desertó completamente)"
   ]
  },
  {
   "cell_type": "code",
   "execution_count": 28,
   "id": "6547f998",
   "metadata": {},
   "outputs": [
    {
     "data": {
      "text/html": [
       "<div>\n",
       "<style scoped>\n",
       "    .dataframe tbody tr th:only-of-type {\n",
       "        vertical-align: middle;\n",
       "    }\n",
       "\n",
       "    .dataframe tbody tr th {\n",
       "        vertical-align: top;\n",
       "    }\n",
       "\n",
       "    .dataframe thead th {\n",
       "        text-align: right;\n",
       "    }\n",
       "</style>\n",
       "<table border=\"1\" class=\"dataframe\">\n",
       "  <thead>\n",
       "    <tr style=\"text-align: right;\">\n",
       "      <th></th>\n",
       "      <th>mrun</th>\n",
       "      <th>codigo_unico</th>\n",
       "      <th>anios_en_blanco</th>\n",
       "    </tr>\n",
       "  </thead>\n",
       "  <tbody>\n",
       "    <tr>\n",
       "      <th>0</th>\n",
       "      <td>19.0</td>\n",
       "      <td>I536S0C39J1V1</td>\n",
       "      <td>1</td>\n",
       "    </tr>\n",
       "    <tr>\n",
       "      <th>1</th>\n",
       "      <td>98.0</td>\n",
       "      <td>I111S22C8J1V1</td>\n",
       "      <td>1</td>\n",
       "    </tr>\n",
       "    <tr>\n",
       "      <th>2</th>\n",
       "      <td>99.0</td>\n",
       "      <td>I111S12C420J1V1</td>\n",
       "      <td>1</td>\n",
       "    </tr>\n",
       "    <tr>\n",
       "      <th>3</th>\n",
       "      <td>118.0</td>\n",
       "      <td>I221S1C113J2V1</td>\n",
       "      <td>1</td>\n",
       "    </tr>\n",
       "    <tr>\n",
       "      <th>4</th>\n",
       "      <td>196.0</td>\n",
       "      <td>I280S8C380J1V1</td>\n",
       "      <td>1</td>\n",
       "    </tr>\n",
       "  </tbody>\n",
       "</table>\n",
       "</div>"
      ],
      "text/plain": [
       "    mrun     codigo_unico  anios_en_blanco\n",
       "0   19.0    I536S0C39J1V1                1\n",
       "1   98.0    I111S22C8J1V1                1\n",
       "2   99.0  I111S12C420J1V1                1\n",
       "3  118.0   I221S1C113J2V1                1\n",
       "4  196.0   I280S8C380J1V1                1"
      ]
     },
     "execution_count": 28,
     "metadata": {},
     "output_type": "execute_result"
    }
   ],
   "source": [
    "max_dif_entre_mat_rut_carr = matriculados[\n",
    "    (matriculados[\"mrun\"].isin(ruts_matriculados_cft_ip))\n",
    "    & (\n",
    "        (matriculados[\"anio_titulacion\"].notna())\n",
    "        | (matriculados[\"ultimo_anio_matricula\"] == 2022)\n",
    "    )\n",
    "].groupby([\"mrun\", \"codigo_unico\"]).agg({\n",
    "    \"cat_periodo\": get_array_diff\n",
    "}).reset_index().rename(columns={\n",
    "    \"cat_periodo\": \"anios_en_blanco\"\n",
    "})\n",
    "\n",
    "max_dif_entre_mat_rut_carr.head()"
   ]
  },
  {
   "cell_type": "code",
   "execution_count": 42,
   "id": "a5dff597",
   "metadata": {},
   "outputs": [
    {
     "data": {
      "text/html": [
       "<div>\n",
       "<style scoped>\n",
       "    .dataframe tbody tr th:only-of-type {\n",
       "        vertical-align: middle;\n",
       "    }\n",
       "\n",
       "    .dataframe tbody tr th {\n",
       "        vertical-align: top;\n",
       "    }\n",
       "\n",
       "    .dataframe thead th {\n",
       "        text-align: right;\n",
       "    }\n",
       "</style>\n",
       "<table border=\"1\" class=\"dataframe\">\n",
       "  <thead>\n",
       "    <tr style=\"text-align: right;\">\n",
       "      <th></th>\n",
       "      <th>mrun</th>\n",
       "      <th>codigo_unico</th>\n",
       "      <th>cat_periodo</th>\n",
       "      <th>ultimo_anio_matricula</th>\n",
       "      <th>anio_titulacion</th>\n",
       "    </tr>\n",
       "  </thead>\n",
       "  <tbody>\n",
       "    <tr>\n",
       "      <th>293611</th>\n",
       "      <td>2299.0</td>\n",
       "      <td>I123S2C47J1V1</td>\n",
       "      <td>2016</td>\n",
       "      <td>2016</td>\n",
       "      <td>NaN</td>\n",
       "    </tr>\n",
       "    <tr>\n",
       "      <th>694367</th>\n",
       "      <td>2299.0</td>\n",
       "      <td>I123S2C56J1V1</td>\n",
       "      <td>2017</td>\n",
       "      <td>2020</td>\n",
       "      <td>2021.0</td>\n",
       "    </tr>\n",
       "    <tr>\n",
       "      <th>1174413</th>\n",
       "      <td>2299.0</td>\n",
       "      <td>I123S2C56J1V1</td>\n",
       "      <td>2018</td>\n",
       "      <td>2020</td>\n",
       "      <td>2021.0</td>\n",
       "    </tr>\n",
       "    <tr>\n",
       "      <th>2251344</th>\n",
       "      <td>2299.0</td>\n",
       "      <td>I123S2C56J1V1</td>\n",
       "      <td>2020</td>\n",
       "      <td>2020</td>\n",
       "      <td>2021.0</td>\n",
       "    </tr>\n",
       "    <tr>\n",
       "      <th>293621</th>\n",
       "      <td>3266.0</td>\n",
       "      <td>I106S3C43J2V1</td>\n",
       "      <td>2016</td>\n",
       "      <td>2016</td>\n",
       "      <td>NaN</td>\n",
       "    </tr>\n",
       "    <tr>\n",
       "      <th>...</th>\n",
       "      <td>...</td>\n",
       "      <td>...</td>\n",
       "      <td>...</td>\n",
       "      <td>...</td>\n",
       "      <td>...</td>\n",
       "    </tr>\n",
       "    <tr>\n",
       "      <th>2774539</th>\n",
       "      <td>26230830.0</td>\n",
       "      <td>I16S1C53J2V2</td>\n",
       "      <td>2020</td>\n",
       "      <td>2020</td>\n",
       "      <td>NaN</td>\n",
       "    </tr>\n",
       "    <tr>\n",
       "      <th>3322888</th>\n",
       "      <td>26230830.0</td>\n",
       "      <td>I430S14C42J2V3</td>\n",
       "      <td>2021</td>\n",
       "      <td>2021</td>\n",
       "      <td>NaN</td>\n",
       "    </tr>\n",
       "    <tr>\n",
       "      <th>3322907</th>\n",
       "      <td>26230889.0</td>\n",
       "      <td>I155S2C67J1V1</td>\n",
       "      <td>2021</td>\n",
       "      <td>2021</td>\n",
       "      <td>NaN</td>\n",
       "    </tr>\n",
       "    <tr>\n",
       "      <th>2774568</th>\n",
       "      <td>26230889.0</td>\n",
       "      <td>I155S2C67J2V1</td>\n",
       "      <td>2020</td>\n",
       "      <td>2022</td>\n",
       "      <td>NaN</td>\n",
       "    </tr>\n",
       "    <tr>\n",
       "      <th>3741512</th>\n",
       "      <td>26230889.0</td>\n",
       "      <td>I155S2C67J2V1</td>\n",
       "      <td>2022</td>\n",
       "      <td>2022</td>\n",
       "      <td>NaN</td>\n",
       "    </tr>\n",
       "  </tbody>\n",
       "</table>\n",
       "<p>84805 rows × 5 columns</p>\n",
       "</div>"
      ],
      "text/plain": [
       "               mrun    codigo_unico  cat_periodo  ultimo_anio_matricula  \\\n",
       "293611       2299.0   I123S2C47J1V1         2016                   2016   \n",
       "694367       2299.0   I123S2C56J1V1         2017                   2020   \n",
       "1174413      2299.0   I123S2C56J1V1         2018                   2020   \n",
       "2251344      2299.0   I123S2C56J1V1         2020                   2020   \n",
       "293621       3266.0   I106S3C43J2V1         2016                   2016   \n",
       "...             ...             ...          ...                    ...   \n",
       "2774539  26230830.0    I16S1C53J2V2         2020                   2020   \n",
       "3322888  26230830.0  I430S14C42J2V3         2021                   2021   \n",
       "3322907  26230889.0   I155S2C67J1V1         2021                   2021   \n",
       "2774568  26230889.0   I155S2C67J2V1         2020                   2022   \n",
       "3741512  26230889.0   I155S2C67J2V1         2022                   2022   \n",
       "\n",
       "         anio_titulacion  \n",
       "293611               NaN  \n",
       "694367            2021.0  \n",
       "1174413           2021.0  \n",
       "2251344           2021.0  \n",
       "293621               NaN  \n",
       "...                  ...  \n",
       "2774539              NaN  \n",
       "3322888              NaN  \n",
       "3322907              NaN  \n",
       "2774568              NaN  \n",
       "3741512              NaN  \n",
       "\n",
       "[84805 rows x 5 columns]"
      ]
     },
     "execution_count": 42,
     "metadata": {},
     "output_type": "execute_result"
    }
   ],
   "source": [
    "tiene_blanco = max_dif_entre_mat_rut_carr[max_dif_entre_mat_rut_carr[\"anios_en_blanco\"] > 1]\n",
    "tiene_blanco_cant_carreras = matriculados[\n",
    "    matriculados[\"mrun\"].isin(tiene_blanco[\"mrun\"])\n",
    "].groupby([\"mrun\"]).agg({\"codigo_unico\": pd.Series.nunique}).reset_index()\n",
    "\n",
    "tiene_blanco_n_carr = tiene_blanco_cant_carreras[tiene_blanco_cant_carreras[\"codigo_unico\"] > 1]\n",
    "matriculados[\n",
    "    matriculados[\"mrun\"].isin(tiene_blanco_n_carr[\"mrun\"].unique())\n",
    "].sort_values(by=[\"mrun\", \"codigo_unico\", \"cat_periodo\"])[[\"mrun\", \"codigo_unico\", \"cat_periodo\", \"ultimo_anio_matricula\", \"anio_titulacion\"]]"
   ]
  },
  {
   "cell_type": "code",
   "execution_count": null,
   "id": "072f7d65",
   "metadata": {},
   "outputs": [],
   "source": [
    "ruts_desertores_2_1 = max_dif_entre_mat_rut_carr[max_dif_entre_mat_rut_carr[\"anios_en_blanco\"] == 2][[\"mrun\", \"codigo_unico\"]].drop_duplicates()\n",
    "ruts_desertores_2_2 = max_dif_entre_mat_rut_carr[max_dif_entre_mat_rut_carr[\"anios_en_blanco\"] == 3][[\"mrun\", \"codigo_unico\"]].drop_duplicates()\n",
    "ruts_desertores_2_3 = max_dif_entre_mat_rut_carr[max_dif_entre_mat_rut_carr[\"anios_en_blanco\"] == 4][[\"mrun\", \"codigo_unico\"]].drop_duplicates()\n",
    "\n",
    "print(f\"Cant. matriculas de CFT/IP que debieron terminar carrera y congelaron 1 año: \", ruts_desertores_2_1.shape[0])\n",
    "print(f\"Cant. matriculas de CFT/IP que debieron terminar carrera y congelaron 2 años: \", ruts_desertores_2_2.shape[0])\n",
    "print(f\"Cant. matriculas de CFT/IP que debieron terminar carrera y congelaron 3 años: \", ruts_desertores_2_3.shape[0])"
   ]
  },
  {
   "cell_type": "markdown",
   "id": "f3fc7504",
   "metadata": {},
   "source": [
    "### Tercer caso: Vuelve a otra carrera en la misma institución\n",
    "- No se han titulado de su primera carrera\n",
    "- Puede o no tener \"años en banco\"\n",
    "- Se titula de su enésima carrera o se ha matriculado en el año 2022 (no desertó completamente)"
   ]
  },
  {
   "cell_type": "code",
   "execution_count": null,
   "id": "7dd809db",
   "metadata": {},
   "outputs": [],
   "source": []
  }
 ],
 "metadata": {
  "kernelspec": {
   "display_name": "Python 3 (ipykernel)",
   "language": "python",
   "name": "python3"
  },
  "language_info": {
   "codemirror_mode": {
    "name": "ipython",
    "version": 3
   },
   "file_extension": ".py",
   "mimetype": "text/x-python",
   "name": "python",
   "nbconvert_exporter": "python",
   "pygments_lexer": "ipython3",
   "version": "3.9.12"
  }
 },
 "nbformat": 4,
 "nbformat_minor": 5
}
