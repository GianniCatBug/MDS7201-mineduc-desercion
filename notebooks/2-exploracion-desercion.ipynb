{
 "cells": [
  {
   "cell_type": "code",
   "execution_count": 1,
   "id": "1e9d306d",
   "metadata": {},
   "outputs": [],
   "source": [
    "import pandas as pd\n",
    "import numpy as np\n",
    "from glob import glob\n",
    "from tqdm.notebook import tqdm\n",
    "from utils import iter_df_read, get_array_diff\n",
    "\n",
    "# Modificar por ruta local de almacenamiento de datos\n",
    "BASE = \"/media/giani/Gianicosas/Magister/Proyecto/\""
   ]
  },
  {
   "cell_type": "markdown",
   "id": "47c0ee83",
   "metadata": {},
   "source": [
    "# Operacionalización de datos\n",
    "\n",
    "### Alumno desertor\n",
    "- Requisito: No se debe haber titulado para la carrera analizada\n",
    "\n",
    "### Tipos de deserción\n",
    "\n",
    "- Sale del sistema y no vuelve a ingresar\n",
    "- Sale del sistema y vuelve después de 1, 2 ó 3 años y termina o sigue en el sistema (seudo deserción?):\n",
    "    - Vuelve a la misma carrera en la misma institución (no deserta, \"congela\")\n",
    "    - Vuelve a otra carrera en la misma institución\n",
    "    - Vuelve a la misma carrera en otra institución\n",
    "    - Vuelve a otra carrera en otra institución\n",
    "- Sale del sistema, vuelve a ingresar, pero no termina (múltitple deserción?)"
   ]
  },
  {
   "cell_type": "markdown",
   "id": "bec3e47f",
   "metadata": {},
   "source": [
    "# Matriculados\n",
    "\n",
    "## Lectura de datos matriculados\n",
    "\n",
    "Fuente: https://datosabiertos.mineduc.cl/matricula-en-educacion-superior/\n",
    "\n",
    "- Se considera todos los matriculados en CFT / IP desde 2015"
   ]
  },
  {
   "cell_type": "code",
   "execution_count": 2,
   "id": "18906126",
   "metadata": {},
   "outputs": [
    {
     "data": {
      "text/html": [
       "<div>\n",
       "<style scoped>\n",
       "    .dataframe tbody tr th:only-of-type {\n",
       "        vertical-align: middle;\n",
       "    }\n",
       "\n",
       "    .dataframe tbody tr th {\n",
       "        vertical-align: top;\n",
       "    }\n",
       "\n",
       "    .dataframe thead th {\n",
       "        text-align: right;\n",
       "    }\n",
       "</style>\n",
       "<table border=\"1\" class=\"dataframe\">\n",
       "  <thead>\n",
       "    <tr style=\"text-align: right;\">\n",
       "      <th></th>\n",
       "      <th>codigo_unico</th>\n",
       "      <th>mrun</th>\n",
       "      <th>fecha_obtencion_titulo</th>\n",
       "    </tr>\n",
       "  </thead>\n",
       "  <tbody>\n",
       "    <tr>\n",
       "      <th>0</th>\n",
       "      <td>I143S26C9J2V2</td>\n",
       "      <td>26379527.0</td>\n",
       "      <td>20220228.0</td>\n",
       "    </tr>\n",
       "    <tr>\n",
       "      <th>1</th>\n",
       "      <td>I260S22C108J1V1</td>\n",
       "      <td>4120917.0</td>\n",
       "      <td>20220228.0</td>\n",
       "    </tr>\n",
       "    <tr>\n",
       "      <th>2</th>\n",
       "      <td>I116S34C17J2V1</td>\n",
       "      <td>4348827.0</td>\n",
       "      <td>20220228.0</td>\n",
       "    </tr>\n",
       "    <tr>\n",
       "      <th>3</th>\n",
       "      <td>I260S21C263J2V1</td>\n",
       "      <td>20301532.0</td>\n",
       "      <td>20220228.0</td>\n",
       "    </tr>\n",
       "    <tr>\n",
       "      <th>4</th>\n",
       "      <td>I143S2C651J2V1</td>\n",
       "      <td>3498846.0</td>\n",
       "      <td>20220228.0</td>\n",
       "    </tr>\n",
       "  </tbody>\n",
       "</table>\n",
       "</div>"
      ],
      "text/plain": [
       "      codigo_unico        mrun  fecha_obtencion_titulo\n",
       "0    I143S26C9J2V2  26379527.0              20220228.0\n",
       "1  I260S22C108J1V1   4120917.0              20220228.0\n",
       "2   I116S34C17J2V1   4348827.0              20220228.0\n",
       "3  I260S21C263J2V1  20301532.0              20220228.0\n",
       "4   I143S2C651J2V1   3498846.0              20220228.0"
      ]
     },
     "execution_count": 2,
     "metadata": {},
     "output_type": "execute_result"
    }
   ],
   "source": [
    "# Matriculados de CFT / IP\n",
    "mat_cft_ip = pd.read_csv(f\"{BASE}/tmp_data/fechas_titulacion.csv\")\n",
    "mat_cft_ip.head()"
   ]
  },
  {
   "cell_type": "code",
   "execution_count": 3,
   "id": "1a6abbfb",
   "metadata": {},
   "outputs": [
    {
     "data": {
      "text/plain": [
       "codigo_unico                    0\n",
       "mrun                            0\n",
       "fecha_obtencion_titulo    1194617\n",
       "dtype: int64"
      ]
     },
     "execution_count": 3,
     "metadata": {},
     "output_type": "execute_result"
    }
   ],
   "source": [
    "mat_cft_ip.isna().sum()"
   ]
  },
  {
   "cell_type": "code",
   "execution_count": 4,
   "id": "c8f2d3bc",
   "metadata": {},
   "outputs": [
    {
     "data": {
      "application/vnd.jupyter.widget-view+json": {
       "model_id": "9bc6ce6411584df392770d1f2e992bf7",
       "version_major": 2,
       "version_minor": 0
      },
      "text/plain": [
       "  0%|          | 0/8 [00:00<?, ?it/s]"
      ]
     },
     "metadata": {},
     "output_type": "display_data"
    }
   ],
   "source": [
    "# Se carga datos de matrícula para estos alumnos, considerando todas las instituciones\n",
    "cols = [\n",
    "    'cat_periodo', 'codigo_unico', 'mrun', 'tipo_inst_1', 'dur_estudio_carr',\n",
    "    'cod_inst', 'cod_carrera'\n",
    "]\n",
    "\n",
    "mruns = mat_cft_ip[\"mrun\"].unique()\n",
    "\n",
    "matriculados = pd.concat([\n",
    "    iter_df_read(f, \"mrun\", mruns, sep=\";\", usecols=cols)\n",
    "    for f in tqdm(\n",
    "        glob(f\"{BASE}/raw_data/post_2015/20220719_Matrícula_Ed_Superior_*.csv\"),\n",
    "        total=8\n",
    "    )\n",
    "]).drop_duplicates().reset_index(drop=True)"
   ]
  },
  {
   "cell_type": "code",
   "execution_count": 5,
   "id": "6da057d0",
   "metadata": {},
   "outputs": [],
   "source": [
    "# Se agrega columna que indica titulación\n",
    "\n",
    "if \"fecha_obtencion_titulo\" not in matriculados.columns:\n",
    "    len_or = matriculados.shape[0]\n",
    "    matriculados = pd.merge(\n",
    "        matriculados,\n",
    "        mat_cft_ip,\n",
    "        how=\"left\"\n",
    "    )\n",
    "    \n",
    "    assert matriculados.shape[0] == len_or"
   ]
  },
  {
   "cell_type": "markdown",
   "id": "408a2dd0",
   "metadata": {},
   "source": [
    "## Pre procesamiento: Año de titulación"
   ]
  },
  {
   "cell_type": "code",
   "execution_count": 6,
   "id": "244b921b",
   "metadata": {},
   "outputs": [
    {
     "data": {
      "text/plain": [
       "count    1073280.0\n",
       "mean        2019.0\n",
       "std            1.0\n",
       "min         2015.0\n",
       "25%         2018.0\n",
       "50%         2020.0\n",
       "75%         2021.0\n",
       "max         2022.0\n",
       "Name: anio_titulacion, dtype: float64"
      ]
     },
     "execution_count": 6,
     "metadata": {},
     "output_type": "execute_result"
    }
   ],
   "source": [
    "matriculados[\"anio_titulacion\"] = matriculados[\"fecha_obtencion_titulo\"].fillna(\"\").astype(str).str[:4].replace([\"\"], [np.nan]).astype(float)\n",
    "matriculados[\"anio_titulacion\"].describe().round()"
   ]
  },
  {
   "cell_type": "markdown",
   "id": "bc28f02a",
   "metadata": {},
   "source": [
    "## Pre procesamiento: Último año de matrícula por carrera"
   ]
  },
  {
   "cell_type": "code",
   "execution_count": 7,
   "id": "c51e0125",
   "metadata": {},
   "outputs": [],
   "source": [
    "if \"ultimo_anio_matricula\" not in matriculados.columns:\n",
    "    len_or = matriculados.shape[0]\n",
    "    matriculados = pd.merge(\n",
    "        matriculados,\n",
    "        matriculados.groupby([\"mrun\", \"codigo_unico\"]).agg({\n",
    "            \"cat_periodo\": \"max\"\n",
    "        }).reset_index().rename(columns={\n",
    "            \"cat_periodo\": \"ultimo_anio_matricula\"\n",
    "        }),\n",
    "        how=\"left\"\n",
    "    ).drop_duplicates().reset_index(drop=True)\n",
    "    \n",
    "    assert matriculados.shape[0] == len_or"
   ]
  },
  {
   "cell_type": "code",
   "execution_count": 8,
   "id": "6a594a5a",
   "metadata": {},
   "outputs": [
    {
     "data": {
      "text/plain": [
       "count    3743349.0\n",
       "mean        2020.0\n",
       "std            2.0\n",
       "min         2015.0\n",
       "25%         2018.0\n",
       "50%         2020.0\n",
       "75%         2022.0\n",
       "max         2022.0\n",
       "Name: ultimo_anio_matricula, dtype: float64"
      ]
     },
     "execution_count": 8,
     "metadata": {},
     "output_type": "execute_result"
    }
   ],
   "source": [
    "matriculados[\"ultimo_anio_matricula\"].describe().round()"
   ]
  },
  {
   "cell_type": "markdown",
   "id": "99d86684",
   "metadata": {},
   "source": [
    "## Pre prcesamiento: Deserciones\n",
    "\n",
    "### Primer caso: Sale del sistema y no vuelve a ingresar\n",
    "- Solo han tomado 1 carrera\n",
    "- No se han titulado\n",
    "- Puede o no tener \"años en blanco\"\n",
    "- No se han matriculado el año 2022"
   ]
  },
  {
   "cell_type": "code",
   "execution_count": 9,
   "id": "daef6fc6",
   "metadata": {},
   "outputs": [],
   "source": [
    "cft_ip = [\"Institutos Profesionales\", \"Centros de Formación Técnica\"]"
   ]
  },
  {
   "cell_type": "code",
   "execution_count": 10,
   "id": "2c66141c",
   "metadata": {},
   "outputs": [
    {
     "name": "stdout",
     "output_type": "stream",
     "text": [
      "Cant. personas que ingresaron a estudiar entre 2015 y 2021 y se matricularon en CFT / IP (universo total):  1233136\n"
     ]
    }
   ],
   "source": [
    "ruts_matriculados_cft_ip = matriculados[\n",
    "    matriculados[\"tipo_inst_1\"].isin(cft_ip)\n",
    "][\"mrun\"].unique()\n",
    "\n",
    "print(\"Cant. personas que ingresaron a estudiar entre 2015 y 2021 y se matricularon en CFT / IP (universo total): \", ruts_matriculados_cft_ip.shape[0])"
   ]
  },
  {
   "cell_type": "code",
   "execution_count": 11,
   "id": "5d4cd563",
   "metadata": {},
   "outputs": [
    {
     "name": "stdout",
     "output_type": "stream",
     "text": [
      "Dentro de los anteriores, cantidad que solo ha tomado 1 carrera:  741611\n"
     ]
    }
   ],
   "source": [
    "cant_carreras = matriculados[\n",
    "    matriculados[\"mrun\"].isin(ruts_matriculados_cft_ip)\n",
    "][[\"mrun\", \"codigo_unico\"]].drop_duplicates().groupby([\"mrun\"]).size().reset_index(name=\"cant_carreras\")\n",
    "\n",
    "ruts_1_carrera = cant_carreras[cant_carreras[\"cant_carreras\"] == 1][\"mrun\"].unique()\n",
    "\n",
    "print(\"Dentro de los anteriores, cantidad que solo ha tomado 1 carrera: \", ruts_1_carrera.shape[0])"
   ]
  },
  {
   "cell_type": "code",
   "execution_count": 12,
   "id": "241f7d3b",
   "metadata": {},
   "outputs": [
    {
     "name": "stdout",
     "output_type": "stream",
     "text": [
      "Dentro de los anteriores, no se han titulado ni matriculado el año 2022:  349677\n"
     ]
    }
   ],
   "source": [
    "ruts_desertores_1 = matriculados[\n",
    "    (matriculados[\"mrun\"].isin(ruts_1_carrera))\n",
    "    & (matriculados[\"anio_titulacion\"].isna())\n",
    "    & (matriculados[\"ultimo_anio_matricula\"] < 2022)\n",
    "][\"mrun\"].unique()\n",
    "\n",
    "print(\"Dentro de los anteriores, no se han titulado ni matriculado el año 2022: \", ruts_desertores_1.shape[0])"
   ]
  },
  {
   "cell_type": "code",
   "execution_count": 13,
   "id": "0e9567a7",
   "metadata": {},
   "outputs": [
    {
     "name": "stdout",
     "output_type": "stream",
     "text": [
      "% Desertores Criterio 1: 28.4%\n"
     ]
    }
   ],
   "source": [
    "print(f\"% Desertores Criterio 1: {np.round(ruts_desertores_1.shape[0] / ruts_matriculados_cft_ip.shape[0] * 100, 1)}%\")"
   ]
  },
  {
   "cell_type": "markdown",
   "id": "856d8aa7",
   "metadata": {},
   "source": [
    "### Segundo caso:  Sale del sistema y vuelve a la misma carrera en la misma institución\n",
    "- Dentro de una misma carrera, tiene años en blanco (1, 2 ó 3)\n",
    "- En los años en blanco, no se ha matriculado en otra carrera\n",
    "- Se titula o se matricula en el año 2022 (no desertó completamente)"
   ]
  },
  {
   "cell_type": "code",
   "execution_count": 14,
   "id": "9c83d629",
   "metadata": {},
   "outputs": [
    {
     "data": {
      "text/html": [
       "<div>\n",
       "<style scoped>\n",
       "    .dataframe tbody tr th:only-of-type {\n",
       "        vertical-align: middle;\n",
       "    }\n",
       "\n",
       "    .dataframe tbody tr th {\n",
       "        vertical-align: top;\n",
       "    }\n",
       "\n",
       "    .dataframe thead th {\n",
       "        text-align: right;\n",
       "    }\n",
       "</style>\n",
       "<table border=\"1\" class=\"dataframe\">\n",
       "  <thead>\n",
       "    <tr style=\"text-align: right;\">\n",
       "      <th></th>\n",
       "      <th>mrun</th>\n",
       "      <th>codigo_unico</th>\n",
       "      <th>anios_en_blanco</th>\n",
       "    </tr>\n",
       "  </thead>\n",
       "  <tbody>\n",
       "    <tr>\n",
       "      <th>0</th>\n",
       "      <td>19.0</td>\n",
       "      <td>I536S0C39J1V1</td>\n",
       "      <td>1</td>\n",
       "    </tr>\n",
       "    <tr>\n",
       "      <th>1</th>\n",
       "      <td>98.0</td>\n",
       "      <td>I111S22C8J1V1</td>\n",
       "      <td>1</td>\n",
       "    </tr>\n",
       "    <tr>\n",
       "      <th>2</th>\n",
       "      <td>99.0</td>\n",
       "      <td>I111S12C420J1V1</td>\n",
       "      <td>1</td>\n",
       "    </tr>\n",
       "    <tr>\n",
       "      <th>3</th>\n",
       "      <td>118.0</td>\n",
       "      <td>I221S1C113J2V1</td>\n",
       "      <td>1</td>\n",
       "    </tr>\n",
       "    <tr>\n",
       "      <th>4</th>\n",
       "      <td>196.0</td>\n",
       "      <td>I280S8C380J1V1</td>\n",
       "      <td>1</td>\n",
       "    </tr>\n",
       "  </tbody>\n",
       "</table>\n",
       "</div>"
      ],
      "text/plain": [
       "    mrun     codigo_unico  anios_en_blanco\n",
       "0   19.0    I536S0C39J1V1                1\n",
       "1   98.0    I111S22C8J1V1                1\n",
       "2   99.0  I111S12C420J1V1                1\n",
       "3  118.0   I221S1C113J2V1                1\n",
       "4  196.0   I280S8C380J1V1                1"
      ]
     },
     "execution_count": 14,
     "metadata": {},
     "output_type": "execute_result"
    }
   ],
   "source": [
    "max_dif_entre_mat_rut_carr = matriculados[\n",
    "    (matriculados[\"mrun\"].isin(ruts_matriculados_cft_ip))\n",
    "    & (\n",
    "        (matriculados[\"anio_titulacion\"].notna())\n",
    "        | (matriculados[\"ultimo_anio_matricula\"] == 2022)\n",
    "    )\n",
    "].groupby([\"mrun\", \"codigo_unico\"]).agg({\n",
    "    \"cat_periodo\": get_array_diff\n",
    "}).reset_index().rename(columns={\n",
    "    \"cat_periodo\": \"anios_en_blanco\"\n",
    "})\n",
    "\n",
    "max_dif_entre_mat_rut_carr.head()"
   ]
  },
  {
   "cell_type": "code",
   "execution_count": 22,
   "id": "40c5b3f3",
   "metadata": {},
   "outputs": [
    {
     "data": {
      "text/html": [
       "<div>\n",
       "<style scoped>\n",
       "    .dataframe tbody tr th:only-of-type {\n",
       "        vertical-align: middle;\n",
       "    }\n",
       "\n",
       "    .dataframe tbody tr th {\n",
       "        vertical-align: top;\n",
       "    }\n",
       "\n",
       "    .dataframe thead th {\n",
       "        text-align: right;\n",
       "    }\n",
       "</style>\n",
       "<table border=\"1\" class=\"dataframe\">\n",
       "  <thead>\n",
       "    <tr style=\"text-align: right;\">\n",
       "      <th></th>\n",
       "      <th>mrun</th>\n",
       "      <th>codigo_unico</th>\n",
       "      <th>min_anio</th>\n",
       "      <th>max_anio</th>\n",
       "      <th>max_dif_anios</th>\n",
       "    </tr>\n",
       "  </thead>\n",
       "  <tbody>\n",
       "    <tr>\n",
       "      <th>0</th>\n",
       "      <td>19.0</td>\n",
       "      <td>I536S0C39J1V1</td>\n",
       "      <td>2019</td>\n",
       "      <td>2021</td>\n",
       "      <td>1</td>\n",
       "    </tr>\n",
       "    <tr>\n",
       "      <th>1</th>\n",
       "      <td>98.0</td>\n",
       "      <td>I111S22C8J1V1</td>\n",
       "      <td>2021</td>\n",
       "      <td>2022</td>\n",
       "      <td>1</td>\n",
       "    </tr>\n",
       "    <tr>\n",
       "      <th>2</th>\n",
       "      <td>99.0</td>\n",
       "      <td>I111S12C420J1V1</td>\n",
       "      <td>2021</td>\n",
       "      <td>2022</td>\n",
       "      <td>1</td>\n",
       "    </tr>\n",
       "    <tr>\n",
       "      <th>3</th>\n",
       "      <td>118.0</td>\n",
       "      <td>I221S1C113J2V1</td>\n",
       "      <td>2016</td>\n",
       "      <td>2017</td>\n",
       "      <td>1</td>\n",
       "    </tr>\n",
       "    <tr>\n",
       "      <th>4</th>\n",
       "      <td>196.0</td>\n",
       "      <td>I280S8C380J1V1</td>\n",
       "      <td>2017</td>\n",
       "      <td>2019</td>\n",
       "      <td>1</td>\n",
       "    </tr>\n",
       "  </tbody>\n",
       "</table>\n",
       "</div>"
      ],
      "text/plain": [
       "    mrun     codigo_unico  min_anio  max_anio  max_dif_anios\n",
       "0   19.0    I536S0C39J1V1      2019      2021              1\n",
       "1   98.0    I111S22C8J1V1      2021      2022              1\n",
       "2   99.0  I111S12C420J1V1      2021      2022              1\n",
       "3  118.0   I221S1C113J2V1      2016      2017              1\n",
       "4  196.0   I280S8C380J1V1      2017      2019              1"
      ]
     },
     "execution_count": 22,
     "metadata": {},
     "output_type": "execute_result"
    }
   ],
   "source": [
    "t = matriculados[\n",
    "    (matriculados[\"mrun\"].isin(ruts_matriculados_cft_ip))\n",
    "    & (\n",
    "        (matriculados[\"anio_titulacion\"].notna())\n",
    "        | (matriculados[\"ultimo_anio_matricula\"] == 2022)\n",
    "    )\n",
    "].groupby([\"mrun\", \"codigo_unico\"]).agg(\n",
    "    min_anio=(\"cat_periodo\", \"min\"),\n",
    "    max_anio=(\"cat_periodo\", \"max\"),\n",
    "    max_dif_anios=(\"cat_periodo\", get_array_diff)\n",
    ").reset_index()\n",
    "\n",
    "t.head()"
   ]
  },
  {
   "cell_type": "code",
   "execution_count": 26,
   "id": "a2ea79b6",
   "metadata": {},
   "outputs": [
    {
     "data": {
      "text/html": [
       "<div>\n",
       "<style scoped>\n",
       "    .dataframe tbody tr th:only-of-type {\n",
       "        vertical-align: middle;\n",
       "    }\n",
       "\n",
       "    .dataframe tbody tr th {\n",
       "        vertical-align: top;\n",
       "    }\n",
       "\n",
       "    .dataframe thead th {\n",
       "        text-align: right;\n",
       "    }\n",
       "</style>\n",
       "<table border=\"1\" class=\"dataframe\">\n",
       "  <thead>\n",
       "    <tr style=\"text-align: right;\">\n",
       "      <th></th>\n",
       "      <th>mrun</th>\n",
       "      <th>cant_carreras</th>\n",
       "    </tr>\n",
       "  </thead>\n",
       "  <tbody>\n",
       "    <tr>\n",
       "      <th>0</th>\n",
       "      <td>1118.0</td>\n",
       "      <td>1</td>\n",
       "    </tr>\n",
       "    <tr>\n",
       "      <th>1</th>\n",
       "      <td>1143.0</td>\n",
       "      <td>1</td>\n",
       "    </tr>\n",
       "    <tr>\n",
       "      <th>2</th>\n",
       "      <td>2299.0</td>\n",
       "      <td>1</td>\n",
       "    </tr>\n",
       "    <tr>\n",
       "      <th>3</th>\n",
       "      <td>2896.0</td>\n",
       "      <td>1</td>\n",
       "    </tr>\n",
       "    <tr>\n",
       "      <th>4</th>\n",
       "      <td>3266.0</td>\n",
       "      <td>1</td>\n",
       "    </tr>\n",
       "  </tbody>\n",
       "</table>\n",
       "</div>"
      ],
      "text/plain": [
       "     mrun  cant_carreras\n",
       "0  1118.0              1\n",
       "1  1143.0              1\n",
       "2  2299.0              1\n",
       "3  2896.0              1\n",
       "4  3266.0              1"
      ]
     },
     "execution_count": 26,
     "metadata": {},
     "output_type": "execute_result"
    }
   ],
   "source": [
    "t2 = t[\n",
    "    t[\"mrun\"].isin(\n",
    "        t[t[\"max_dif_anios\"] > 1][\"mrun\"].unique() # ruts con años en blanco\n",
    "    )\n",
    "].groupby([\"mrun\"]).size().reset_index(name=\"cant_carreras\")\n",
    "\n",
    "t2.head()"
   ]
  },
  {
   "cell_type": "code",
   "execution_count": 35,
   "id": "8a699066",
   "metadata": {},
   "outputs": [
    {
     "name": "stderr",
     "output_type": "stream",
     "text": [
      "/tmp/ipykernel_13428/2851122300.py:7: SettingWithCopyWarning: \n",
      "A value is trying to be set on a copy of a slice from a DataFrame.\n",
      "Try using .loc[row_indexer,col_indexer] = value instead\n",
      "\n",
      "See the caveats in the documentation: https://pandas.pydata.org/pandas-docs/stable/user_guide/indexing.html#returning-a-view-versus-a-copy\n",
      "  t3[\"tiene_anios_en_blanco\"] = np.where(t3[\"max_dif_anios\"] > 1, 1, 0)\n"
     ]
    },
    {
     "data": {
      "text/html": [
       "<div>\n",
       "<style scoped>\n",
       "    .dataframe tbody tr th:only-of-type {\n",
       "        vertical-align: middle;\n",
       "    }\n",
       "\n",
       "    .dataframe tbody tr th {\n",
       "        vertical-align: top;\n",
       "    }\n",
       "\n",
       "    .dataframe thead th {\n",
       "        text-align: right;\n",
       "    }\n",
       "</style>\n",
       "<table border=\"1\" class=\"dataframe\">\n",
       "  <thead>\n",
       "    <tr style=\"text-align: right;\">\n",
       "      <th></th>\n",
       "      <th>mrun</th>\n",
       "      <th>codigo_unico</th>\n",
       "      <th>min_anio</th>\n",
       "      <th>max_anio</th>\n",
       "      <th>max_dif_anios</th>\n",
       "      <th>tiene_anios_en_blanco</th>\n",
       "    </tr>\n",
       "  </thead>\n",
       "  <tbody>\n",
       "    <tr>\n",
       "      <th>237</th>\n",
       "      <td>7778.0</td>\n",
       "      <td>I111S3C48J1V1</td>\n",
       "      <td>2015</td>\n",
       "      <td>2018</td>\n",
       "      <td>1</td>\n",
       "      <td>0</td>\n",
       "    </tr>\n",
       "    <tr>\n",
       "      <th>238</th>\n",
       "      <td>7778.0</td>\n",
       "      <td>I75S1C113J1V1</td>\n",
       "      <td>2020</td>\n",
       "      <td>2022</td>\n",
       "      <td>2</td>\n",
       "      <td>1</td>\n",
       "    </tr>\n",
       "    <tr>\n",
       "      <th>273</th>\n",
       "      <td>8652.0</td>\n",
       "      <td>I22S1C1J2V3</td>\n",
       "      <td>2020</td>\n",
       "      <td>2022</td>\n",
       "      <td>2</td>\n",
       "      <td>1</td>\n",
       "    </tr>\n",
       "    <tr>\n",
       "      <th>274</th>\n",
       "      <td>8652.0</td>\n",
       "      <td>I260S38C108J1V1</td>\n",
       "      <td>2015</td>\n",
       "      <td>2017</td>\n",
       "      <td>1</td>\n",
       "      <td>0</td>\n",
       "    </tr>\n",
       "    <tr>\n",
       "      <th>291</th>\n",
       "      <td>9124.0</td>\n",
       "      <td>I111S20C413J2V1</td>\n",
       "      <td>2019</td>\n",
       "      <td>2022</td>\n",
       "      <td>3</td>\n",
       "      <td>1</td>\n",
       "    </tr>\n",
       "  </tbody>\n",
       "</table>\n",
       "</div>"
      ],
      "text/plain": [
       "       mrun     codigo_unico  min_anio  max_anio  max_dif_anios  \\\n",
       "237  7778.0    I111S3C48J1V1      2015      2018              1   \n",
       "238  7778.0    I75S1C113J1V1      2020      2022              2   \n",
       "273  8652.0      I22S1C1J2V3      2020      2022              2   \n",
       "274  8652.0  I260S38C108J1V1      2015      2017              1   \n",
       "291  9124.0  I111S20C413J2V1      2019      2022              3   \n",
       "\n",
       "     tiene_anios_en_blanco  \n",
       "237                      0  \n",
       "238                      1  \n",
       "273                      1  \n",
       "274                      0  \n",
       "291                      1  "
      ]
     },
     "execution_count": 35,
     "metadata": {},
     "output_type": "execute_result"
    }
   ],
   "source": [
    "t3 = t[\n",
    "    t[\"mrun\"].isin(\n",
    "        t2[t2[\"cant_carreras\"] > 1][\"mrun\"].unique() # ruts con años en blanco y con más de una carrera\n",
    "    )\n",
    "]\n",
    "\n",
    "t3[\"tiene_anios_en_blanco\"] = np.where(t3[\"max_dif_anios\"] > 1, 1, 0)\n",
    "t3.head()"
   ]
  },
  {
   "cell_type": "code",
   "execution_count": 88,
   "id": "a2f6381c",
   "metadata": {},
   "outputs": [
    {
     "data": {
      "application/vnd.jupyter.widget-view+json": {
       "model_id": "969ec73e544345e394bd767fe49fea6c",
       "version_major": 2,
       "version_minor": 0
      },
      "text/plain": [
       "  0%|          | 0/3610 [00:00<?, ?it/s]"
      ]
     },
     "metadata": {},
     "output_type": "display_data"
    },
    {
     "name": "stderr",
     "output_type": "stream",
     "text": [
      "/tmp/ipykernel_13428/2603680547.py:30: SettingWithCopyWarning: \n",
      "A value is trying to be set on a copy of a slice from a DataFrame.\n",
      "Try using .loc[row_indexer,col_indexer] = value instead\n",
      "\n",
      "See the caveats in the documentation: https://pandas.pydata.org/pandas-docs/stable/user_guide/indexing.html#returning-a-view-versus-a-copy\n",
      "  tiene_anios_en_blanco[\"tiene_carrera_entre_medio\"] = [\n"
     ]
    }
   ],
   "source": [
    "def tiene_carrera_entre_medio(data, mrun, codigo_unico):\n",
    "    try:\n",
    "        max_min_otra_c = data[\n",
    "            (data[\"mrun\"]==mrun) & (data[\"codigo_unico\"]!=codigo_unico)\n",
    "        ].groupby([\"mrun\"]).agg({\"min_anio\": \"max\"})[\"min_anio\"].iloc[0]\n",
    "\n",
    "        min_max_otra_c = data[\n",
    "            (data[\"mrun\"]==mrun) & (data[\"codigo_unico\"]!=codigo_unico)\n",
    "        ].groupby([\"mrun\"]).agg({\"max_anio\": \"min\"})[\"max_anio\"].iloc[0]\n",
    "\n",
    "        tiene_carrera_entre_medio = 0\n",
    "\n",
    "        con_anios_blanco = data[\n",
    "            (data[\"mrun\"]==mrun) & (data[\"codigo_unico\"]==codigo_unico)\n",
    "        ]\n",
    "        #print(mrun, codigo_unico, max_min_otra_c, min_max_otra_c)\n",
    "        for _, r in con_anios_blanco.iterrows():\n",
    "         #   print(r[\"min_anio\"], r[\"max_anio\"])\n",
    "            if max_min_otra_c < r[\"max_anio\"] and min_max_otra_c > r[\"min_anio\"]:\n",
    "                tiene_carrera_entre_medio = 1\n",
    "                break\n",
    "\n",
    "        return tiene_carrera_entre_medio\n",
    "    except Exception as e:\n",
    "        print(e)\n",
    "        print(mrun)\n",
    "        raise(e)\n",
    "\n",
    "tiene_anios_en_blanco = t3[t3[\"tiene_anios_en_blanco\"]==1]\n",
    "tiene_anios_en_blanco[\"tiene_carrera_entre_medio\"] = [\n",
    "    tiene_carrera_entre_medio(t3, m, c)\n",
    "    for m, c in tqdm(\n",
    "        zip(tiene_anios_en_blanco[\"mrun\"], tiene_anios_en_blanco[\"codigo_unico\"]),\n",
    "        total=tiene_anios_en_blanco.shape[0]\n",
    "    )\n",
    "]"
   ]
  },
  {
   "cell_type": "code",
   "execution_count": 96,
   "id": "9c9b8776",
   "metadata": {},
   "outputs": [
    {
     "data": {
      "text/html": [
       "<div>\n",
       "<style scoped>\n",
       "    .dataframe tbody tr th:only-of-type {\n",
       "        vertical-align: middle;\n",
       "    }\n",
       "\n",
       "    .dataframe tbody tr th {\n",
       "        vertical-align: top;\n",
       "    }\n",
       "\n",
       "    .dataframe thead th {\n",
       "        text-align: right;\n",
       "    }\n",
       "</style>\n",
       "<table border=\"1\" class=\"dataframe\">\n",
       "  <thead>\n",
       "    <tr style=\"text-align: right;\">\n",
       "      <th></th>\n",
       "      <th>mrun</th>\n",
       "      <th>codigo_unico</th>\n",
       "      <th>min_anio</th>\n",
       "      <th>max_anio</th>\n",
       "      <th>max_dif_anios</th>\n",
       "      <th>tiene_anios_en_blanco</th>\n",
       "      <th>tiene_carrera_entre_medio</th>\n",
       "    </tr>\n",
       "  </thead>\n",
       "  <tbody>\n",
       "    <tr>\n",
       "      <th>238</th>\n",
       "      <td>7778.0</td>\n",
       "      <td>I75S1C113J1V1</td>\n",
       "      <td>2020</td>\n",
       "      <td>2022</td>\n",
       "      <td>2</td>\n",
       "      <td>1</td>\n",
       "      <td>0</td>\n",
       "    </tr>\n",
       "    <tr>\n",
       "      <th>273</th>\n",
       "      <td>8652.0</td>\n",
       "      <td>I22S1C1J2V3</td>\n",
       "      <td>2020</td>\n",
       "      <td>2022</td>\n",
       "      <td>2</td>\n",
       "      <td>1</td>\n",
       "      <td>0</td>\n",
       "    </tr>\n",
       "    <tr>\n",
       "      <th>291</th>\n",
       "      <td>9124.0</td>\n",
       "      <td>I111S20C413J2V1</td>\n",
       "      <td>2019</td>\n",
       "      <td>2022</td>\n",
       "      <td>3</td>\n",
       "      <td>1</td>\n",
       "      <td>0</td>\n",
       "    </tr>\n",
       "    <tr>\n",
       "      <th>812</th>\n",
       "      <td>25445.0</td>\n",
       "      <td>I117S1C27J4V2</td>\n",
       "      <td>2016</td>\n",
       "      <td>2019</td>\n",
       "      <td>3</td>\n",
       "      <td>1</td>\n",
       "      <td>0</td>\n",
       "    </tr>\n",
       "    <tr>\n",
       "      <th>822</th>\n",
       "      <td>25742.0</td>\n",
       "      <td>I19S3C21J1V1</td>\n",
       "      <td>2019</td>\n",
       "      <td>2022</td>\n",
       "      <td>3</td>\n",
       "      <td>1</td>\n",
       "      <td>0</td>\n",
       "    </tr>\n",
       "  </tbody>\n",
       "</table>\n",
       "</div>"
      ],
      "text/plain": [
       "        mrun     codigo_unico  min_anio  max_anio  max_dif_anios  \\\n",
       "238   7778.0    I75S1C113J1V1      2020      2022              2   \n",
       "273   8652.0      I22S1C1J2V3      2020      2022              2   \n",
       "291   9124.0  I111S20C413J2V1      2019      2022              3   \n",
       "812  25445.0    I117S1C27J4V2      2016      2019              3   \n",
       "822  25742.0     I19S3C21J1V1      2019      2022              3   \n",
       "\n",
       "     tiene_anios_en_blanco  tiene_carrera_entre_medio  \n",
       "238                      1                          0  \n",
       "273                      1                          0  \n",
       "291                      1                          0  \n",
       "812                      1                          0  \n",
       "822                      1                          0  "
      ]
     },
     "execution_count": 96,
     "metadata": {},
     "output_type": "execute_result"
    }
   ],
   "source": [
    "tiene_anios_en_blanco_sin_otra_carrera = tiene_anios_en_blanco[tiene_anios_en_blanco[\"tiene_carrera_entre_medio\"]==0]\n",
    "tiene_anios_en_blanco_sin_otra_carrera.head()"
   ]
  },
  {
   "cell_type": "code",
   "execution_count": 98,
   "id": "fa24e1ea",
   "metadata": {},
   "outputs": [
    {
     "name": "stdout",
     "output_type": "stream",
     "text": [
      "Cant. matriculas de CFT/IP que congelaron 1 año:  2635\n",
      "Cant. matriculas de CFT/IP que congelaron 2 años:  436\n",
      "Cant. matriculas de CFT/IP que congelaron 3 años:  110\n"
     ]
    }
   ],
   "source": [
    "ruts_desertores_2_1 = tiene_anios_en_blanco_sin_otra_carrera[tiene_anios_en_blanco_sin_otra_carrera[\"max_dif_anios\"] == 2][[\"mrun\", \"codigo_unico\"]].drop_duplicates()\n",
    "ruts_desertores_2_2 = tiene_anios_en_blanco_sin_otra_carrera[tiene_anios_en_blanco_sin_otra_carrera[\"max_dif_anios\"] == 3][[\"mrun\", \"codigo_unico\"]].drop_duplicates()\n",
    "ruts_desertores_2_3 = tiene_anios_en_blanco_sin_otra_carrera[tiene_anios_en_blanco_sin_otra_carrera[\"max_dif_anios\"] == 4][[\"mrun\", \"codigo_unico\"]].drop_duplicates()\n",
    "\n",
    "print(f\"Cant. matriculas de CFT/IP que congelaron 1 año: \", ruts_desertores_2_1.shape[0])\n",
    "print(f\"Cant. matriculas de CFT/IP que congelaron 2 años: \", ruts_desertores_2_2.shape[0])\n",
    "print(f\"Cant. matriculas de CFT/IP que congelaron 3 años: \", ruts_desertores_2_3.shape[0])"
   ]
  },
  {
   "cell_type": "code",
   "execution_count": 101,
   "id": "6f415378",
   "metadata": {},
   "outputs": [
    {
     "name": "stdout",
     "output_type": "stream",
     "text": [
      "% Desertores Criterio 2.1: 0.21%\n",
      "% Desertores Criterio 2.2: 0.04%\n",
      "% Desertores Criterio 2.2: 0.01%\n"
     ]
    }
   ],
   "source": [
    "print(f\"% Desertores Criterio 2.1: {np.round(ruts_desertores_2_1.shape[0] / ruts_matriculados_cft_ip.shape[0] * 100, 2)}%\")\n",
    "print(f\"% Desertores Criterio 2.2: {np.round(ruts_desertores_2_2.shape[0] / ruts_matriculados_cft_ip.shape[0] * 100, 2)}%\")\n",
    "print(f\"% Desertores Criterio 2.2: {np.round(ruts_desertores_2_3.shape[0] / ruts_matriculados_cft_ip.shape[0] * 100, 2)}%\")"
   ]
  },
  {
   "cell_type": "markdown",
   "id": "fcb52e9b",
   "metadata": {},
   "source": [
    "### Tercer caso: Vuelve a otra carrera en la misma institución\n",
    "- No se han titulado de su primera carrera\n",
    "- Sin \"años en banco\"\n",
    "- Se titula de su enésima carrera o se ha matriculado en el año 2022 (no desertó completamente)"
   ]
  },
  {
   "cell_type": "code",
   "execution_count": null,
   "id": "802b7e6f",
   "metadata": {},
   "outputs": [],
   "source": [
    "matriculados[\n",
    "    (matriculados[\"mrun\"].isin(ruts_matriculados_cft_ip))\n",
    "    & (\n",
    "        (matriculados[\"anio_titulacion\"].notna())\n",
    "        | (matriculados[\"ultimo_anio_matricula\"] == 2022)\n",
    "    )\n",
    "].groupby([\"mrun\", \"codigo_unico\"]).agg({\n",
    "    \"cat_periodo\": get_array_diff\n",
    "}).reset_index().rename(columns={\n",
    "    \"cat_periodo\": \"anios_en_blanco\"\n",
    "})"
   ]
  }
 ],
 "metadata": {
  "kernelspec": {
   "display_name": "Python 3 (ipykernel)",
   "language": "python",
   "name": "python3"
  },
  "language_info": {
   "codemirror_mode": {
    "name": "ipython",
    "version": 3
   },
   "file_extension": ".py",
   "mimetype": "text/x-python",
   "name": "python",
   "nbconvert_exporter": "python",
   "pygments_lexer": "ipython3",
   "version": "3.9.12"
  }
 },
 "nbformat": 4,
 "nbformat_minor": 5
}
