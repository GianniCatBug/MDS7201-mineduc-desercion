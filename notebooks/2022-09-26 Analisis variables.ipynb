{
 "cells": [
  {
   "cell_type": "markdown",
   "id": "b55d08ba",
   "metadata": {},
   "source": [
    "# 1.- Importar Librerias Relevantes"
   ]
  },
  {
   "cell_type": "code",
   "execution_count": 1,
   "id": "1c76b201",
   "metadata": {},
   "outputs": [],
   "source": [
    "import pandas as pd\n",
    "pd.set_option('display.max_columns', None)\n",
    "import numpy as np\n",
    "import glob\n",
    "import os\n",
    "import matplotlib.pyplot as plt"
   ]
  },
  {
   "cell_type": "markdown",
   "id": "007258d6",
   "metadata": {},
   "source": [
    "# 2.- Cargar dataframes"
   ]
  },
  {
   "cell_type": "code",
   "execution_count": 2,
   "id": "c82392e3",
   "metadata": {},
   "outputs": [
    {
     "name": "stderr",
     "output_type": "stream",
     "text": [
      "C:\\Users\\leona\\anaconda3\\lib\\site-packages\\IPython\\core\\interactiveshell.py:3063: DtypeWarning: Columns (13) have mixed types.Specify dtype option on import or set low_memory=False.\n",
      "  interactivity=interactivity, compiler=compiler, result=result)\n"
     ]
    }
   ],
   "source": [
    "path = 'C:/Users/leona/OneDrive/Documentos/Universidad/8vo Semestre/Proyecto' # use your path\n",
    "df_matrix = pd.read_csv(f\"{path}/Analisis variables/matriz_desercion_1.csv\", encoding='utf-8-sig')"
   ]
  },
  {
   "cell_type": "code",
   "execution_count": 3,
   "id": "2d9a5ce6",
   "metadata": {},
   "outputs": [
    {
     "data": {
      "text/html": [
       "<div>\n",
       "<style scoped>\n",
       "    .dataframe tbody tr th:only-of-type {\n",
       "        vertical-align: middle;\n",
       "    }\n",
       "\n",
       "    .dataframe tbody tr th {\n",
       "        vertical-align: top;\n",
       "    }\n",
       "\n",
       "    .dataframe thead th {\n",
       "        text-align: right;\n",
       "    }\n",
       "</style>\n",
       "<table border=\"1\" class=\"dataframe\">\n",
       "  <thead>\n",
       "    <tr style=\"text-align: right;\">\n",
       "      <th></th>\n",
       "      <th>cat_periodo</th>\n",
       "      <th>codigo_unico</th>\n",
       "      <th>mrun</th>\n",
       "      <th>gen_alu</th>\n",
       "      <th>fec_nac_alu</th>\n",
       "      <th>anio_ing_carr_ori</th>\n",
       "      <th>tipo_inst_1</th>\n",
       "      <th>region_sede</th>\n",
       "      <th>area_conocimiento</th>\n",
       "      <th>desertor_1</th>\n",
       "      <th>region_colegio</th>\n",
       "      <th>tipo_ensenanza_colegio</th>\n",
       "      <th>prom_notas_media</th>\n",
       "      <th>dependencia_colegio</th>\n",
       "    </tr>\n",
       "  </thead>\n",
       "  <tbody>\n",
       "    <tr>\n",
       "      <th>0</th>\n",
       "      <td>2015</td>\n",
       "      <td>I498S6C132J2V1</td>\n",
       "      <td>37.0</td>\n",
       "      <td>1</td>\n",
       "      <td>197808</td>\n",
       "      <td>2015</td>\n",
       "      <td>Centros de Formación Técnica</td>\n",
       "      <td>Biobío</td>\n",
       "      <td>Tecnología</td>\n",
       "      <td>0.0</td>\n",
       "      <td>NaN</td>\n",
       "      <td>NaN</td>\n",
       "      <td>NaN</td>\n",
       "      <td>NaN</td>\n",
       "    </tr>\n",
       "    <tr>\n",
       "      <th>1</th>\n",
       "      <td>2015</td>\n",
       "      <td>I111S14C309J2V1</td>\n",
       "      <td>118.0</td>\n",
       "      <td>1</td>\n",
       "      <td>199102</td>\n",
       "      <td>2015</td>\n",
       "      <td>Institutos Profesionales</td>\n",
       "      <td>Metropolitana</td>\n",
       "      <td>Administración y Comercio</td>\n",
       "      <td>0.0</td>\n",
       "      <td>13</td>\n",
       "      <td>310.0</td>\n",
       "      <td>4.975</td>\n",
       "      <td>3</td>\n",
       "    </tr>\n",
       "    <tr>\n",
       "      <th>2</th>\n",
       "      <td>2015</td>\n",
       "      <td>I106S3C64J4V1</td>\n",
       "      <td>253.0</td>\n",
       "      <td>1</td>\n",
       "      <td>198404</td>\n",
       "      <td>2015</td>\n",
       "      <td>Institutos Profesionales</td>\n",
       "      <td>Metropolitana</td>\n",
       "      <td>Administración y Comercio</td>\n",
       "      <td>1.0</td>\n",
       "      <td>NaN</td>\n",
       "      <td>NaN</td>\n",
       "      <td>NaN</td>\n",
       "      <td>NaN</td>\n",
       "    </tr>\n",
       "    <tr>\n",
       "      <th>3</th>\n",
       "      <td>2015</td>\n",
       "      <td>I221S1C57J1V1</td>\n",
       "      <td>370.0</td>\n",
       "      <td>2</td>\n",
       "      <td>198910</td>\n",
       "      <td>2015</td>\n",
       "      <td>Centros de Formación Técnica</td>\n",
       "      <td>Metropolitana</td>\n",
       "      <td>Administración y Comercio</td>\n",
       "      <td>1.0</td>\n",
       "      <td>13</td>\n",
       "      <td>310.0</td>\n",
       "      <td>5.100</td>\n",
       "      <td>3</td>\n",
       "    </tr>\n",
       "    <tr>\n",
       "      <th>4</th>\n",
       "      <td>2015</td>\n",
       "      <td>I176S8C59J2V1</td>\n",
       "      <td>533.0</td>\n",
       "      <td>2</td>\n",
       "      <td>198309</td>\n",
       "      <td>2015</td>\n",
       "      <td>Institutos Profesionales</td>\n",
       "      <td>Coquimbo</td>\n",
       "      <td>Salud</td>\n",
       "      <td>0.0</td>\n",
       "      <td>4</td>\n",
       "      <td>510.0</td>\n",
       "      <td>5.200</td>\n",
       "      <td>2</td>\n",
       "    </tr>\n",
       "    <tr>\n",
       "      <th>...</th>\n",
       "      <td>...</td>\n",
       "      <td>...</td>\n",
       "      <td>...</td>\n",
       "      <td>...</td>\n",
       "      <td>...</td>\n",
       "      <td>...</td>\n",
       "      <td>...</td>\n",
       "      <td>...</td>\n",
       "      <td>...</td>\n",
       "      <td>...</td>\n",
       "      <td>...</td>\n",
       "      <td>...</td>\n",
       "      <td>...</td>\n",
       "      <td>...</td>\n",
       "    </tr>\n",
       "    <tr>\n",
       "      <th>2746649</th>\n",
       "      <td>2021</td>\n",
       "      <td>I106S6C295J4V1</td>\n",
       "      <td>26380151.0</td>\n",
       "      <td>2</td>\n",
       "      <td>199603</td>\n",
       "      <td>2020</td>\n",
       "      <td>Institutos Profesionales</td>\n",
       "      <td>Metropolitana</td>\n",
       "      <td>Arte y Arquitectura</td>\n",
       "      <td>0.0</td>\n",
       "      <td>NaN</td>\n",
       "      <td>NaN</td>\n",
       "      <td>NaN</td>\n",
       "      <td>NaN</td>\n",
       "    </tr>\n",
       "    <tr>\n",
       "      <th>2746650</th>\n",
       "      <td>2021</td>\n",
       "      <td>I260S44C120J1V1</td>\n",
       "      <td>26380152.0</td>\n",
       "      <td>2</td>\n",
       "      <td>200302</td>\n",
       "      <td>2021</td>\n",
       "      <td>Centros de Formación Técnica</td>\n",
       "      <td>Magallanes</td>\n",
       "      <td>Administración y Comercio</td>\n",
       "      <td>1.0</td>\n",
       "      <td>NaN</td>\n",
       "      <td>NaN</td>\n",
       "      <td>NaN</td>\n",
       "      <td>NaN</td>\n",
       "    </tr>\n",
       "    <tr>\n",
       "      <th>2746651</th>\n",
       "      <td>2021</td>\n",
       "      <td>I152S10C341J4V1</td>\n",
       "      <td>26453499.0</td>\n",
       "      <td>2</td>\n",
       "      <td>199208</td>\n",
       "      <td>2021</td>\n",
       "      <td>Institutos Profesionales</td>\n",
       "      <td>Metropolitana</td>\n",
       "      <td>Educación</td>\n",
       "      <td>1.0</td>\n",
       "      <td>NaN</td>\n",
       "      <td>NaN</td>\n",
       "      <td>NaN</td>\n",
       "      <td>NaN</td>\n",
       "    </tr>\n",
       "    <tr>\n",
       "      <th>2746652</th>\n",
       "      <td>2021</td>\n",
       "      <td>I152S10C349J4V1</td>\n",
       "      <td>26453942.0</td>\n",
       "      <td>2</td>\n",
       "      <td>196501</td>\n",
       "      <td>2020</td>\n",
       "      <td>Institutos Profesionales</td>\n",
       "      <td>Metropolitana</td>\n",
       "      <td>Administración y Comercio</td>\n",
       "      <td>0.0</td>\n",
       "      <td>NaN</td>\n",
       "      <td>NaN</td>\n",
       "      <td>NaN</td>\n",
       "      <td>NaN</td>\n",
       "    </tr>\n",
       "    <tr>\n",
       "      <th>2746653</th>\n",
       "      <td>2021</td>\n",
       "      <td>I367S1C127J1V1</td>\n",
       "      <td>26987947.0</td>\n",
       "      <td>1</td>\n",
       "      <td>200002</td>\n",
       "      <td>2021</td>\n",
       "      <td>Centros de Formación Técnica</td>\n",
       "      <td>Maule</td>\n",
       "      <td>Tecnología</td>\n",
       "      <td>0.0</td>\n",
       "      <td>NaN</td>\n",
       "      <td>NaN</td>\n",
       "      <td>NaN</td>\n",
       "      <td>NaN</td>\n",
       "    </tr>\n",
       "  </tbody>\n",
       "</table>\n",
       "<p>2746654 rows × 14 columns</p>\n",
       "</div>"
      ],
      "text/plain": [
       "         cat_periodo     codigo_unico        mrun  gen_alu  fec_nac_alu  \\\n",
       "0               2015   I498S6C132J2V1        37.0        1       197808   \n",
       "1               2015  I111S14C309J2V1       118.0        1       199102   \n",
       "2               2015    I106S3C64J4V1       253.0        1       198404   \n",
       "3               2015    I221S1C57J1V1       370.0        2       198910   \n",
       "4               2015    I176S8C59J2V1       533.0        2       198309   \n",
       "...              ...              ...         ...      ...          ...   \n",
       "2746649         2021   I106S6C295J4V1  26380151.0        2       199603   \n",
       "2746650         2021  I260S44C120J1V1  26380152.0        2       200302   \n",
       "2746651         2021  I152S10C341J4V1  26453499.0        2       199208   \n",
       "2746652         2021  I152S10C349J4V1  26453942.0        2       196501   \n",
       "2746653         2021   I367S1C127J1V1  26987947.0        1       200002   \n",
       "\n",
       "         anio_ing_carr_ori                   tipo_inst_1    region_sede  \\\n",
       "0                     2015  Centros de Formación Técnica         Biobío   \n",
       "1                     2015      Institutos Profesionales  Metropolitana   \n",
       "2                     2015      Institutos Profesionales  Metropolitana   \n",
       "3                     2015  Centros de Formación Técnica  Metropolitana   \n",
       "4                     2015      Institutos Profesionales       Coquimbo   \n",
       "...                    ...                           ...            ...   \n",
       "2746649               2020      Institutos Profesionales  Metropolitana   \n",
       "2746650               2021  Centros de Formación Técnica     Magallanes   \n",
       "2746651               2021      Institutos Profesionales  Metropolitana   \n",
       "2746652               2020      Institutos Profesionales  Metropolitana   \n",
       "2746653               2021  Centros de Formación Técnica          Maule   \n",
       "\n",
       "                 area_conocimiento  desertor_1 region_colegio  \\\n",
       "0                       Tecnología         0.0            NaN   \n",
       "1        Administración y Comercio         0.0             13   \n",
       "2        Administración y Comercio         1.0            NaN   \n",
       "3        Administración y Comercio         1.0             13   \n",
       "4                            Salud         0.0              4   \n",
       "...                            ...         ...            ...   \n",
       "2746649        Arte y Arquitectura         0.0            NaN   \n",
       "2746650  Administración y Comercio         1.0            NaN   \n",
       "2746651                  Educación         1.0            NaN   \n",
       "2746652  Administración y Comercio         0.0            NaN   \n",
       "2746653                 Tecnología         0.0            NaN   \n",
       "\n",
       "         tipo_ensenanza_colegio  prom_notas_media dependencia_colegio  \n",
       "0                           NaN               NaN                 NaN  \n",
       "1                         310.0             4.975                   3  \n",
       "2                           NaN               NaN                 NaN  \n",
       "3                         310.0             5.100                   3  \n",
       "4                         510.0             5.200                   2  \n",
       "...                         ...               ...                 ...  \n",
       "2746649                     NaN               NaN                 NaN  \n",
       "2746650                     NaN               NaN                 NaN  \n",
       "2746651                     NaN               NaN                 NaN  \n",
       "2746652                     NaN               NaN                 NaN  \n",
       "2746653                     NaN               NaN                 NaN  \n",
       "\n",
       "[2746654 rows x 14 columns]"
      ]
     },
     "execution_count": 3,
     "metadata": {},
     "output_type": "execute_result"
    }
   ],
   "source": [
    "df_matrix"
   ]
  },
  {
   "cell_type": "code",
   "execution_count": 4,
   "id": "428bb360",
   "metadata": {},
   "outputs": [
    {
     "data": {
      "text/plain": [
       "0"
      ]
     },
     "execution_count": 4,
     "metadata": {},
     "output_type": "execute_result"
    }
   ],
   "source": [
    "df_matrix['desertor_1'].isna().sum()"
   ]
  },
  {
   "cell_type": "code",
   "execution_count": 5,
   "id": "2150208b",
   "metadata": {},
   "outputs": [
    {
     "data": {
      "text/plain": [
       "349092"
      ]
     },
     "execution_count": 5,
     "metadata": {},
     "output_type": "execute_result"
    }
   ],
   "source": [
    "df_matrix['prom_notas_media'].isna().sum()"
   ]
  },
  {
   "cell_type": "code",
   "execution_count": 6,
   "id": "533ad5e1",
   "metadata": {},
   "outputs": [
    {
     "data": {
      "text/plain": [
       "349092"
      ]
     },
     "execution_count": 6,
     "metadata": {},
     "output_type": "execute_result"
    }
   ],
   "source": [
    "df_matrix['region_colegio'].isna().sum()"
   ]
  },
  {
   "cell_type": "markdown",
   "id": "f273ce09",
   "metadata": {},
   "source": [
    "Por ahora solo eliminare los NaNs, los cuales representan alrededor de un 13% del total de datos.\n",
    "\n",
    "Luego se podría rellenar los NaNs de la region por la región donde estudian (supuesto igual fuerte) y las notas se podrían reemplazar por la media/mediana o utilizando una tecnica más sotisficada (como las que enseñaron en clases)."
   ]
  },
  {
   "cell_type": "code",
   "execution_count": 7,
   "id": "e7b1c8bd",
   "metadata": {},
   "outputs": [
    {
     "name": "stderr",
     "output_type": "stream",
     "text": [
      "C:\\Users\\leona\\anaconda3\\lib\\site-packages\\ipykernel_launcher.py:2: SettingWithCopyWarning: \n",
      "A value is trying to be set on a copy of a slice from a DataFrame.\n",
      "Try using .loc[row_indexer,col_indexer] = value instead\n",
      "\n",
      "See the caveats in the documentation: https://pandas.pydata.org/pandas-docs/stable/user_guide/indexing.html#returning-a-view-versus-a-copy\n",
      "  \n"
     ]
    }
   ],
   "source": [
    "df_matrix_2 = df_matrix[pd.to_numeric(df_matrix['region_colegio'], errors='coerce').notnull()] #habian strings asi que se sacan\n",
    "df_matrix_2[\"region_colegio\"] = df_matrix_2[\"region_colegio\"].astype(float)"
   ]
  },
  {
   "cell_type": "code",
   "execution_count": 9,
   "id": "8500733f",
   "metadata": {},
   "outputs": [],
   "source": [
    "df_matrix_2 = df_matrix_2[df_matrix_2['prom_notas_media'].notna()]"
   ]
  },
  {
   "cell_type": "markdown",
   "id": "5265328e",
   "metadata": {},
   "source": [
    "Se chequea que no hay nans"
   ]
  },
  {
   "cell_type": "code",
   "execution_count": 13,
   "id": "b987dc43",
   "metadata": {},
   "outputs": [
    {
     "data": {
      "text/plain": [
       "0"
      ]
     },
     "execution_count": 13,
     "metadata": {},
     "output_type": "execute_result"
    }
   ],
   "source": [
    "df_matrix_2['prom_notas_media'].isna().sum()"
   ]
  },
  {
   "cell_type": "code",
   "execution_count": 14,
   "id": "713e6531",
   "metadata": {},
   "outputs": [
    {
     "data": {
      "text/plain": [
       "0"
      ]
     },
     "execution_count": 14,
     "metadata": {},
     "output_type": "execute_result"
    }
   ],
   "source": [
    "df_matrix_2['region_colegio'].isna().sum()"
   ]
  },
  {
   "cell_type": "code",
   "execution_count": 32,
   "id": "cd41c0fe",
   "metadata": {},
   "outputs": [],
   "source": [
    "import statsmodels.api as sm  # Librería para realizar las regresiones\n",
    "import matplotlib.pyplot as plt\n",
    "y = df_matrix_2[\"desertor_1\"]\n",
    "x_1 = df_matrix_2[\"prom_notas_media\"]\n",
    "x_1 = sm.add_constant(x_1) \n",
    "x_2 = df_matrix_2[\"region_colegio\"]\n",
    "x_2 = sm.add_constant(x_2) \n",
    "x_3 = df_matrix_2[[\"prom_notas_media\", \"region_colegio\"]]\n",
    "x_3 = sm.add_constant(x_3) "
   ]
  },
  {
   "cell_type": "markdown",
   "id": "c584a2dc",
   "metadata": {},
   "source": [
    "# Regresiones Lineales"
   ]
  },
  {
   "cell_type": "code",
   "execution_count": 26,
   "id": "5c8ebe98",
   "metadata": {},
   "outputs": [
    {
     "data": {
      "text/html": [
       "<table class=\"simpletable\">\n",
       "<caption>OLS Regression Results</caption>\n",
       "<tr>\n",
       "  <th>Dep. Variable:</th>       <td>desertor_1</td>    <th>  R-squared:         </th>  <td>   0.010</td>  \n",
       "</tr>\n",
       "<tr>\n",
       "  <th>Model:</th>                   <td>OLS</td>       <th>  Adj. R-squared:    </th>  <td>   0.010</td>  \n",
       "</tr>\n",
       "<tr>\n",
       "  <th>Method:</th>             <td>Least Squares</td>  <th>  F-statistic:       </th>  <td>2.498e+04</td> \n",
       "</tr>\n",
       "<tr>\n",
       "  <th>Date:</th>             <td>Mon, 26 Sep 2022</td> <th>  Prob (F-statistic):</th>   <td>  0.00</td>   \n",
       "</tr>\n",
       "<tr>\n",
       "  <th>Time:</th>                 <td>21:30:05</td>     <th>  Log-Likelihood:    </th> <td>-9.9269e+05</td>\n",
       "</tr>\n",
       "<tr>\n",
       "  <th>No. Observations:</th>      <td>2396740</td>     <th>  AIC:               </th>  <td>1.985e+06</td> \n",
       "</tr>\n",
       "<tr>\n",
       "  <th>Df Residuals:</th>          <td>2396738</td>     <th>  BIC:               </th>  <td>1.985e+06</td> \n",
       "</tr>\n",
       "<tr>\n",
       "  <th>Df Model:</th>              <td>     1</td>      <th>                     </th>      <td> </td>     \n",
       "</tr>\n",
       "<tr>\n",
       "  <th>Covariance Type:</th>      <td>nonrobust</td>    <th>                     </th>      <td> </td>     \n",
       "</tr>\n",
       "</table>\n",
       "<table class=\"simpletable\">\n",
       "<tr>\n",
       "          <td></td>            <th>coef</th>     <th>std err</th>      <th>t</th>      <th>P>|t|</th>  <th>[0.025</th>    <th>0.975]</th>  \n",
       "</tr>\n",
       "<tr>\n",
       "  <th>const</th>            <td>    0.6452</td> <td>    0.003</td> <td>  210.221</td> <td> 0.000</td> <td>    0.639</td> <td>    0.651</td>\n",
       "</tr>\n",
       "<tr>\n",
       "  <th>prom_notas_media</th> <td>   -0.0896</td> <td>    0.001</td> <td> -158.057</td> <td> 0.000</td> <td>   -0.091</td> <td>   -0.089</td>\n",
       "</tr>\n",
       "</table>\n",
       "<table class=\"simpletable\">\n",
       "<tr>\n",
       "  <th>Omnibus:</th>       <td>698564.666</td> <th>  Durbin-Watson:     </th>  <td>   1.967</td>  \n",
       "</tr>\n",
       "<tr>\n",
       "  <th>Prob(Omnibus):</th>   <td> 0.000</td>   <th>  Jarque-Bera (JB):  </th> <td>1493240.673</td>\n",
       "</tr>\n",
       "<tr>\n",
       "  <th>Skew:</th>            <td> 1.811</td>   <th>  Prob(JB):          </th>  <td>    0.00</td>  \n",
       "</tr>\n",
       "<tr>\n",
       "  <th>Kurtosis:</th>        <td> 4.354</td>   <th>  Cond. No.          </th>  <td>    72.6</td>  \n",
       "</tr>\n",
       "</table><br/><br/>Warnings:<br/>[1] Standard Errors assume that the covariance matrix of the errors is correctly specified."
      ],
      "text/plain": [
       "<class 'statsmodels.iolib.summary.Summary'>\n",
       "\"\"\"\n",
       "                            OLS Regression Results                            \n",
       "==============================================================================\n",
       "Dep. Variable:             desertor_1   R-squared:                       0.010\n",
       "Model:                            OLS   Adj. R-squared:                  0.010\n",
       "Method:                 Least Squares   F-statistic:                 2.498e+04\n",
       "Date:                Mon, 26 Sep 2022   Prob (F-statistic):               0.00\n",
       "Time:                        21:30:05   Log-Likelihood:            -9.9269e+05\n",
       "No. Observations:             2396740   AIC:                         1.985e+06\n",
       "Df Residuals:                 2396738   BIC:                         1.985e+06\n",
       "Df Model:                           1                                         \n",
       "Covariance Type:            nonrobust                                         \n",
       "====================================================================================\n",
       "                       coef    std err          t      P>|t|      [0.025      0.975]\n",
       "------------------------------------------------------------------------------------\n",
       "const                0.6452      0.003    210.221      0.000       0.639       0.651\n",
       "prom_notas_media    -0.0896      0.001   -158.057      0.000      -0.091      -0.089\n",
       "==============================================================================\n",
       "Omnibus:                   698564.666   Durbin-Watson:                   1.967\n",
       "Prob(Omnibus):                  0.000   Jarque-Bera (JB):          1493240.673\n",
       "Skew:                           1.811   Prob(JB):                         0.00\n",
       "Kurtosis:                       4.354   Cond. No.                         72.6\n",
       "==============================================================================\n",
       "\n",
       "Warnings:\n",
       "[1] Standard Errors assume that the covariance matrix of the errors is correctly specified.\n",
       "\"\"\""
      ]
     },
     "execution_count": 26,
     "metadata": {},
     "output_type": "execute_result"
    }
   ],
   "source": [
    "# Realizamos una regresión lineal con los datos\n",
    "res_1 = sm.OLS(y, x_1).fit() \n",
    "res_1.summary()  # Se imprime un resumen de los resultados de la regresión"
   ]
  },
  {
   "cell_type": "code",
   "execution_count": 36,
   "id": "ca3e48c1",
   "metadata": {},
   "outputs": [
    {
     "data": {
      "image/png": "[encoded data removed]",
      "text/plain": [
       "<Figure size 432x288 with 1 Axes>"
      ]
     },
     "metadata": {
      "needs_background": "light"
     },
     "output_type": "display_data"
    }
   ],
   "source": [
    "fig, ax = plt.subplots()\n",
    "fig = sm.graphics.plot_fit(res_1, \"prom_notas_media\", ax=ax)\n",
    "ax.set_ylabel(\"desertor_1\")\n",
    "ax.set_xlabel(\"prom_notas_media\")\n",
    "ax.set_title(\"Linear Regression\")\n",
    "plt.show()"
   ]
  },
  {
   "cell_type": "code",
   "execution_count": 27,
   "id": "7f62cd5a",
   "metadata": {},
   "outputs": [
    {
     "data": {
      "text/html": [
       "<table class=\"simpletable\">\n",
       "<caption>OLS Regression Results</caption>\n",
       "<tr>\n",
       "  <th>Dep. Variable:</th>       <td>desertor_1</td>    <th>  R-squared:         </th>  <td>   0.000</td>  \n",
       "</tr>\n",
       "<tr>\n",
       "  <th>Model:</th>                   <td>OLS</td>       <th>  Adj. R-squared:    </th>  <td>   0.000</td>  \n",
       "</tr>\n",
       "<tr>\n",
       "  <th>Method:</th>             <td>Least Squares</td>  <th>  F-statistic:       </th>  <td>   66.60</td>  \n",
       "</tr>\n",
       "<tr>\n",
       "  <th>Date:</th>             <td>Mon, 26 Sep 2022</td> <th>  Prob (F-statistic):</th>  <td>3.34e-16</td>  \n",
       "</tr>\n",
       "<tr>\n",
       "  <th>Time:</th>                 <td>21:30:09</td>     <th>  Log-Likelihood:    </th> <td>-1.0051e+06</td>\n",
       "</tr>\n",
       "<tr>\n",
       "  <th>No. Observations:</th>      <td>2396740</td>     <th>  AIC:               </th>  <td>2.010e+06</td> \n",
       "</tr>\n",
       "<tr>\n",
       "  <th>Df Residuals:</th>          <td>2396738</td>     <th>  BIC:               </th>  <td>2.010e+06</td> \n",
       "</tr>\n",
       "<tr>\n",
       "  <th>Df Model:</th>              <td>     1</td>      <th>                     </th>      <td> </td>     \n",
       "</tr>\n",
       "<tr>\n",
       "  <th>Covariance Type:</th>      <td>nonrobust</td>    <th>                     </th>      <td> </td>     \n",
       "</tr>\n",
       "</table>\n",
       "<table class=\"simpletable\">\n",
       "<tr>\n",
       "         <td></td>           <th>coef</th>     <th>std err</th>      <th>t</th>      <th>P>|t|</th>  <th>[0.025</th>    <th>0.975]</th>  \n",
       "</tr>\n",
       "<tr>\n",
       "  <th>const</th>          <td>    0.1662</td> <td>    0.001</td> <td>  268.023</td> <td> 0.000</td> <td>    0.165</td> <td>    0.167</td>\n",
       "</tr>\n",
       "<tr>\n",
       "  <th>region_colegio</th> <td>   -0.0005</td> <td> 6.02e-05</td> <td>   -8.161</td> <td> 0.000</td> <td>   -0.001</td> <td>   -0.000</td>\n",
       "</tr>\n",
       "</table>\n",
       "<table class=\"simpletable\">\n",
       "<tr>\n",
       "  <th>Omnibus:</th>       <td>711992.535</td> <th>  Durbin-Watson:     </th>  <td>   1.969</td>  \n",
       "</tr>\n",
       "<tr>\n",
       "  <th>Prob(Omnibus):</th>   <td> 0.000</td>   <th>  Jarque-Bera (JB):  </th> <td>1542047.927</td>\n",
       "</tr>\n",
       "<tr>\n",
       "  <th>Skew:</th>            <td> 1.839</td>   <th>  Prob(JB):          </th>  <td>    0.00</td>  \n",
       "</tr>\n",
       "<tr>\n",
       "  <th>Kurtosis:</th>        <td> 4.383</td>   <th>  Cond. No.          </th>  <td>    27.1</td>  \n",
       "</tr>\n",
       "</table><br/><br/>Warnings:<br/>[1] Standard Errors assume that the covariance matrix of the errors is correctly specified."
      ],
      "text/plain": [
       "<class 'statsmodels.iolib.summary.Summary'>\n",
       "\"\"\"\n",
       "                            OLS Regression Results                            \n",
       "==============================================================================\n",
       "Dep. Variable:             desertor_1   R-squared:                       0.000\n",
       "Model:                            OLS   Adj. R-squared:                  0.000\n",
       "Method:                 Least Squares   F-statistic:                     66.60\n",
       "Date:                Mon, 26 Sep 2022   Prob (F-statistic):           3.34e-16\n",
       "Time:                        21:30:09   Log-Likelihood:            -1.0051e+06\n",
       "No. Observations:             2396740   AIC:                         2.010e+06\n",
       "Df Residuals:                 2396738   BIC:                         2.010e+06\n",
       "Df Model:                           1                                         \n",
       "Covariance Type:            nonrobust                                         \n",
       "==================================================================================\n",
       "                     coef    std err          t      P>|t|      [0.025      0.975]\n",
       "----------------------------------------------------------------------------------\n",
       "const              0.1662      0.001    268.023      0.000       0.165       0.167\n",
       "region_colegio    -0.0005   6.02e-05     -8.161      0.000      -0.001      -0.000\n",
       "==============================================================================\n",
       "Omnibus:                   711992.535   Durbin-Watson:                   1.969\n",
       "Prob(Omnibus):                  0.000   Jarque-Bera (JB):          1542047.927\n",
       "Skew:                           1.839   Prob(JB):                         0.00\n",
       "Kurtosis:                       4.383   Cond. No.                         27.1\n",
       "==============================================================================\n",
       "\n",
       "Warnings:\n",
       "[1] Standard Errors assume that the covariance matrix of the errors is correctly specified.\n",
       "\"\"\""
      ]
     },
     "execution_count": 27,
     "metadata": {},
     "output_type": "execute_result"
    }
   ],
   "source": [
    "# Realizamos una regresión lineal con los datos\n",
    "res_2 = sm.OLS(y, x_2).fit() \n",
    "res_2.summary()  # Se imprime un resumen de los resultados de la regresión"
   ]
  },
  {
   "cell_type": "code",
   "execution_count": 37,
   "id": "3ffa807d",
   "metadata": {},
   "outputs": [
    {
     "data": {
      "image/png": "[encoded data removed]",
      "text/plain": [
       "<Figure size 432x288 with 1 Axes>"
      ]
     },
     "metadata": {
      "needs_background": "light"
     },
     "output_type": "display_data"
    }
   ],
   "source": [
    "fig, ax = plt.subplots()\n",
    "fig = sm.graphics.plot_fit(res_2, \"region_colegio\", ax=ax)\n",
    "ax.set_ylabel(\"desertor_1\")\n",
    "ax.set_xlabel(\"region_colegio\")\n",
    "ax.set_title(\"Linear Regression\")\n",
    "plt.show()"
   ]
  },
  {
   "cell_type": "code",
   "execution_count": 28,
   "id": "3ec4ce68",
   "metadata": {},
   "outputs": [
    {
     "data": {
      "text/html": [
       "<table class=\"simpletable\">\n",
       "<caption>OLS Regression Results</caption>\n",
       "<tr>\n",
       "  <th>Dep. Variable:</th>       <td>desertor_1</td>    <th>  R-squared:         </th>  <td>   0.010</td>  \n",
       "</tr>\n",
       "<tr>\n",
       "  <th>Model:</th>                   <td>OLS</td>       <th>  Adj. R-squared:    </th>  <td>   0.010</td>  \n",
       "</tr>\n",
       "<tr>\n",
       "  <th>Method:</th>             <td>Least Squares</td>  <th>  F-statistic:       </th>  <td>1.262e+04</td> \n",
       "</tr>\n",
       "<tr>\n",
       "  <th>Date:</th>             <td>Mon, 26 Sep 2022</td> <th>  Prob (F-statistic):</th>   <td>  0.00</td>   \n",
       "</tr>\n",
       "<tr>\n",
       "  <th>Time:</th>                 <td>21:30:10</td>     <th>  Log-Likelihood:    </th> <td>-9.9257e+05</td>\n",
       "</tr>\n",
       "<tr>\n",
       "  <th>No. Observations:</th>      <td>2396740</td>     <th>  AIC:               </th>  <td>1.985e+06</td> \n",
       "</tr>\n",
       "<tr>\n",
       "  <th>Df Residuals:</th>          <td>2396737</td>     <th>  BIC:               </th>  <td>1.985e+06</td> \n",
       "</tr>\n",
       "<tr>\n",
       "  <th>Df Model:</th>              <td>     2</td>      <th>                     </th>      <td> </td>     \n",
       "</tr>\n",
       "<tr>\n",
       "  <th>Covariance Type:</th>      <td>nonrobust</td>    <th>                     </th>      <td> </td>     \n",
       "</tr>\n",
       "</table>\n",
       "<table class=\"simpletable\">\n",
       "<tr>\n",
       "          <td></td>            <th>coef</th>     <th>std err</th>      <th>t</th>      <th>P>|t|</th>  <th>[0.025</th>    <th>0.975]</th>  \n",
       "</tr>\n",
       "<tr>\n",
       "  <th>const</th>            <td>    0.6565</td> <td>    0.003</td> <td>  208.307</td> <td> 0.000</td> <td>    0.650</td> <td>    0.663</td>\n",
       "</tr>\n",
       "<tr>\n",
       "  <th>prom_notas_media</th> <td>   -0.0901</td> <td>    0.001</td> <td> -158.632</td> <td> 0.000</td> <td>   -0.091</td> <td>   -0.089</td>\n",
       "</tr>\n",
       "<tr>\n",
       "  <th>region_colegio</th>   <td>   -0.0009</td> <td> 5.99e-05</td> <td>  -15.712</td> <td> 0.000</td> <td>   -0.001</td> <td>   -0.001</td>\n",
       "</tr>\n",
       "</table>\n",
       "<table class=\"simpletable\">\n",
       "<tr>\n",
       "  <th>Omnibus:</th>       <td>698428.045</td> <th>  Durbin-Watson:     </th>  <td>   1.967</td>  \n",
       "</tr>\n",
       "<tr>\n",
       "  <th>Prob(Omnibus):</th>   <td> 0.000</td>   <th>  Jarque-Bera (JB):  </th> <td>1492747.826</td>\n",
       "</tr>\n",
       "<tr>\n",
       "  <th>Skew:</th>            <td> 1.811</td>   <th>  Prob(JB):          </th>  <td>    0.00</td>  \n",
       "</tr>\n",
       "<tr>\n",
       "  <th>Kurtosis:</th>        <td> 4.353</td>   <th>  Cond. No.          </th>  <td>    156.</td>  \n",
       "</tr>\n",
       "</table><br/><br/>Warnings:<br/>[1] Standard Errors assume that the covariance matrix of the errors is correctly specified."
      ],
      "text/plain": [
       "<class 'statsmodels.iolib.summary.Summary'>\n",
       "\"\"\"\n",
       "                            OLS Regression Results                            \n",
       "==============================================================================\n",
       "Dep. Variable:             desertor_1   R-squared:                       0.010\n",
       "Model:                            OLS   Adj. R-squared:                  0.010\n",
       "Method:                 Least Squares   F-statistic:                 1.262e+04\n",
       "Date:                Mon, 26 Sep 2022   Prob (F-statistic):               0.00\n",
       "Time:                        21:30:10   Log-Likelihood:            -9.9257e+05\n",
       "No. Observations:             2396740   AIC:                         1.985e+06\n",
       "Df Residuals:                 2396737   BIC:                         1.985e+06\n",
       "Df Model:                           2                                         \n",
       "Covariance Type:            nonrobust                                         \n",
       "====================================================================================\n",
       "                       coef    std err          t      P>|t|      [0.025      0.975]\n",
       "------------------------------------------------------------------------------------\n",
       "const                0.6565      0.003    208.307      0.000       0.650       0.663\n",
       "prom_notas_media    -0.0901      0.001   -158.632      0.000      -0.091      -0.089\n",
       "region_colegio      -0.0009   5.99e-05    -15.712      0.000      -0.001      -0.001\n",
       "==============================================================================\n",
       "Omnibus:                   698428.045   Durbin-Watson:                   1.967\n",
       "Prob(Omnibus):                  0.000   Jarque-Bera (JB):          1492747.826\n",
       "Skew:                           1.811   Prob(JB):                         0.00\n",
       "Kurtosis:                       4.353   Cond. No.                         156.\n",
       "==============================================================================\n",
       "\n",
       "Warnings:\n",
       "[1] Standard Errors assume that the covariance matrix of the errors is correctly specified.\n",
       "\"\"\""
      ]
     },
     "execution_count": 28,
     "metadata": {},
     "output_type": "execute_result"
    }
   ],
   "source": [
    "# Realizamos una regresión lineal con los datos\n",
    "res_3 = sm.OLS(y, x_3).fit() \n",
    "res_3.summary()  # Se imprime un resumen de los resultados de la regresión"
   ]
  },
  {
   "cell_type": "markdown",
   "id": "76a84ea1",
   "metadata": {},
   "source": [
    "Se puede notar que la region tiene un coeficiente muy bajo (cercano a 0), por lo que a priori se podria decir que no afecta en si alguien deserta o no.\n",
    "\n",
    "Las notas de enseñanza media en cambio tienen un coeficiente mayor (en valor absoluto), este tiene signo negativo por lo que a mayor promedio, baja la probabilidad de que un estudiante deserte de la carrera."
   ]
  },
  {
   "cell_type": "markdown",
   "id": "b8e18409",
   "metadata": {},
   "source": [
    "# Logit"
   ]
  },
  {
   "cell_type": "code",
   "execution_count": 29,
   "id": "8edcceed",
   "metadata": {},
   "outputs": [
    {
     "name": "stdout",
     "output_type": "stream",
     "text": [
      "Optimization terminated successfully.\n",
      "         Current function value: 0.436872\n",
      "         Iterations 6\n"
     ]
    },
    {
     "data": {
      "text/html": [
       "<table class=\"simpletable\">\n",
       "<caption>Logit Regression Results</caption>\n",
       "<tr>\n",
       "  <th>Dep. Variable:</th>      <td>desertor_1</td>    <th>  No. Observations:  </th>   <td>2396740</td>  \n",
       "</tr>\n",
       "<tr>\n",
       "  <th>Model:</th>                 <td>Logit</td>      <th>  Df Residuals:      </th>   <td>2396738</td>  \n",
       "</tr>\n",
       "<tr>\n",
       "  <th>Method:</th>                 <td>MLE</td>       <th>  Df Model:          </th>   <td>     1</td>   \n",
       "</tr>\n",
       "<tr>\n",
       "  <th>Date:</th>            <td>Mon, 26 Sep 2022</td> <th>  Pseudo R-squ.:     </th>   <td>0.01212</td>  \n",
       "</tr>\n",
       "<tr>\n",
       "  <th>Time:</th>                <td>21:30:47</td>     <th>  Log-Likelihood:    </th> <td>-1.0471e+06</td>\n",
       "</tr>\n",
       "<tr>\n",
       "  <th>converged:</th>             <td>True</td>       <th>  LL-Null:           </th> <td>-1.0599e+06</td>\n",
       "</tr>\n",
       "<tr>\n",
       "  <th>Covariance Type:</th>     <td>nonrobust</td>    <th>  LLR p-value:       </th>   <td> 0.000</td>   \n",
       "</tr>\n",
       "</table>\n",
       "<table class=\"simpletable\">\n",
       "<tr>\n",
       "          <td></td>            <th>coef</th>     <th>std err</th>      <th>z</th>      <th>P>|z|</th>  <th>[0.025</th>    <th>0.975]</th>  \n",
       "</tr>\n",
       "<tr>\n",
       "  <th>const</th>            <td>    2.1189</td> <td>    0.024</td> <td>   88.363</td> <td> 0.000</td> <td>    2.072</td> <td>    2.166</td>\n",
       "</tr>\n",
       "<tr>\n",
       "  <th>prom_notas_media</th> <td>   -0.7032</td> <td>    0.004</td> <td> -156.320</td> <td> 0.000</td> <td>   -0.712</td> <td>   -0.694</td>\n",
       "</tr>\n",
       "</table>"
      ],
      "text/plain": [
       "<class 'statsmodels.iolib.summary.Summary'>\n",
       "\"\"\"\n",
       "                           Logit Regression Results                           \n",
       "==============================================================================\n",
       "Dep. Variable:             desertor_1   No. Observations:              2396740\n",
       "Model:                          Logit   Df Residuals:                  2396738\n",
       "Method:                           MLE   Df Model:                            1\n",
       "Date:                Mon, 26 Sep 2022   Pseudo R-squ.:                 0.01212\n",
       "Time:                        21:30:47   Log-Likelihood:            -1.0471e+06\n",
       "converged:                       True   LL-Null:                   -1.0599e+06\n",
       "Covariance Type:            nonrobust   LLR p-value:                     0.000\n",
       "====================================================================================\n",
       "                       coef    std err          z      P>|z|      [0.025      0.975]\n",
       "------------------------------------------------------------------------------------\n",
       "const                2.1189      0.024     88.363      0.000       2.072       2.166\n",
       "prom_notas_media    -0.7032      0.004   -156.320      0.000      -0.712      -0.694\n",
       "====================================================================================\n",
       "\"\"\""
      ]
     },
     "execution_count": 29,
     "metadata": {},
     "output_type": "execute_result"
    }
   ],
   "source": [
    "# Realizamos una regresión lineal con los datos\n",
    "logit_1 = sm.Logit(y, x_1).fit() \n",
    "logit_1.summary()  # Se imprime un resumen de los resultados de la regresión"
   ]
  },
  {
   "cell_type": "code",
   "execution_count": 30,
   "id": "89145949",
   "metadata": {},
   "outputs": [
    {
     "name": "stdout",
     "output_type": "stream",
     "text": [
      "Optimization terminated successfully.\n",
      "         Current function value: 0.442217\n",
      "         Iterations 5\n"
     ]
    },
    {
     "data": {
      "text/html": [
       "<table class=\"simpletable\">\n",
       "<caption>Logit Regression Results</caption>\n",
       "<tr>\n",
       "  <th>Dep. Variable:</th>      <td>desertor_1</td>    <th>  No. Observations:  </th>   <td>2396740</td>  \n",
       "</tr>\n",
       "<tr>\n",
       "  <th>Model:</th>                 <td>Logit</td>      <th>  Df Residuals:      </th>   <td>2396738</td>  \n",
       "</tr>\n",
       "<tr>\n",
       "  <th>Method:</th>                 <td>MLE</td>       <th>  Df Model:          </th>   <td>     1</td>   \n",
       "</tr>\n",
       "<tr>\n",
       "  <th>Date:</th>            <td>Mon, 26 Sep 2022</td> <th>  Pseudo R-squ.:     </th>  <td>3.138e-05</td> \n",
       "</tr>\n",
       "<tr>\n",
       "  <th>Time:</th>                <td>21:31:00</td>     <th>  Log-Likelihood:    </th> <td>-1.0599e+06</td>\n",
       "</tr>\n",
       "<tr>\n",
       "  <th>converged:</th>             <td>True</td>       <th>  LL-Null:           </th> <td>-1.0599e+06</td>\n",
       "</tr>\n",
       "<tr>\n",
       "  <th>Covariance Type:</th>     <td>nonrobust</td>    <th>  LLR p-value:       </th>  <td>3.479e-16</td> \n",
       "</tr>\n",
       "</table>\n",
       "<table class=\"simpletable\">\n",
       "<tr>\n",
       "         <td></td>           <th>coef</th>     <th>std err</th>      <th>z</th>      <th>P>|z|</th>  <th>[0.025</th>    <th>0.975]</th>  \n",
       "</tr>\n",
       "<tr>\n",
       "  <th>const</th>          <td>   -1.6124</td> <td>    0.005</td> <td> -353.902</td> <td> 0.000</td> <td>   -1.621</td> <td>   -1.603</td>\n",
       "</tr>\n",
       "<tr>\n",
       "  <th>region_colegio</th> <td>   -0.0036</td> <td>    0.000</td> <td>   -8.160</td> <td> 0.000</td> <td>   -0.004</td> <td>   -0.003</td>\n",
       "</tr>\n",
       "</table>"
      ],
      "text/plain": [
       "<class 'statsmodels.iolib.summary.Summary'>\n",
       "\"\"\"\n",
       "                           Logit Regression Results                           \n",
       "==============================================================================\n",
       "Dep. Variable:             desertor_1   No. Observations:              2396740\n",
       "Model:                          Logit   Df Residuals:                  2396738\n",
       "Method:                           MLE   Df Model:                            1\n",
       "Date:                Mon, 26 Sep 2022   Pseudo R-squ.:               3.138e-05\n",
       "Time:                        21:31:00   Log-Likelihood:            -1.0599e+06\n",
       "converged:                       True   LL-Null:                   -1.0599e+06\n",
       "Covariance Type:            nonrobust   LLR p-value:                 3.479e-16\n",
       "==================================================================================\n",
       "                     coef    std err          z      P>|z|      [0.025      0.975]\n",
       "----------------------------------------------------------------------------------\n",
       "const             -1.6124      0.005   -353.902      0.000      -1.621      -1.603\n",
       "region_colegio    -0.0036      0.000     -8.160      0.000      -0.004      -0.003\n",
       "==================================================================================\n",
       "\"\"\""
      ]
     },
     "execution_count": 30,
     "metadata": {},
     "output_type": "execute_result"
    }
   ],
   "source": [
    "# Realizamos una regresión lineal con los datos\n",
    "logit_2 = sm.Logit(y, x_2).fit() \n",
    "logit_2.summary()  # Se imprime un resumen de los resultados de la regresión"
   ]
  },
  {
   "cell_type": "code",
   "execution_count": 31,
   "id": "4da6a830",
   "metadata": {},
   "outputs": [
    {
     "name": "stdout",
     "output_type": "stream",
     "text": [
      "Optimization terminated successfully.\n",
      "         Current function value: 0.436817\n",
      "         Iterations 6\n"
     ]
    },
    {
     "data": {
      "text/html": [
       "<table class=\"simpletable\">\n",
       "<caption>Logit Regression Results</caption>\n",
       "<tr>\n",
       "  <th>Dep. Variable:</th>      <td>desertor_1</td>    <th>  No. Observations:  </th>   <td>2396740</td>  \n",
       "</tr>\n",
       "<tr>\n",
       "  <th>Model:</th>                 <td>Logit</td>      <th>  Df Residuals:      </th>   <td>2396737</td>  \n",
       "</tr>\n",
       "<tr>\n",
       "  <th>Method:</th>                 <td>MLE</td>       <th>  Df Model:          </th>   <td>     2</td>   \n",
       "</tr>\n",
       "<tr>\n",
       "  <th>Date:</th>            <td>Mon, 26 Sep 2022</td> <th>  Pseudo R-squ.:     </th>   <td>0.01224</td>  \n",
       "</tr>\n",
       "<tr>\n",
       "  <th>Time:</th>                <td>21:31:12</td>     <th>  Log-Likelihood:    </th> <td>-1.0469e+06</td>\n",
       "</tr>\n",
       "<tr>\n",
       "  <th>converged:</th>             <td>True</td>       <th>  LL-Null:           </th> <td>-1.0599e+06</td>\n",
       "</tr>\n",
       "<tr>\n",
       "  <th>Covariance Type:</th>     <td>nonrobust</td>    <th>  LLR p-value:       </th>   <td> 0.000</td>   \n",
       "</tr>\n",
       "</table>\n",
       "<table class=\"simpletable\">\n",
       "<tr>\n",
       "          <td></td>            <th>coef</th>     <th>std err</th>      <th>z</th>      <th>P>|z|</th>  <th>[0.025</th>    <th>0.975]</th>  \n",
       "</tr>\n",
       "<tr>\n",
       "  <th>const</th>            <td>    2.2097</td> <td>    0.025</td> <td>   89.731</td> <td> 0.000</td> <td>    2.161</td> <td>    2.258</td>\n",
       "</tr>\n",
       "<tr>\n",
       "  <th>prom_notas_media</th> <td>   -0.7072</td> <td>    0.005</td> <td> -156.887</td> <td> 0.000</td> <td>   -0.716</td> <td>   -0.698</td>\n",
       "</tr>\n",
       "<tr>\n",
       "  <th>region_colegio</th>   <td>   -0.0073</td> <td>    0.000</td> <td>  -16.393</td> <td> 0.000</td> <td>   -0.008</td> <td>   -0.006</td>\n",
       "</tr>\n",
       "</table>"
      ],
      "text/plain": [
       "<class 'statsmodels.iolib.summary.Summary'>\n",
       "\"\"\"\n",
       "                           Logit Regression Results                           \n",
       "==============================================================================\n",
       "Dep. Variable:             desertor_1   No. Observations:              2396740\n",
       "Model:                          Logit   Df Residuals:                  2396737\n",
       "Method:                           MLE   Df Model:                            2\n",
       "Date:                Mon, 26 Sep 2022   Pseudo R-squ.:                 0.01224\n",
       "Time:                        21:31:12   Log-Likelihood:            -1.0469e+06\n",
       "converged:                       True   LL-Null:                   -1.0599e+06\n",
       "Covariance Type:            nonrobust   LLR p-value:                     0.000\n",
       "====================================================================================\n",
       "                       coef    std err          z      P>|z|      [0.025      0.975]\n",
       "------------------------------------------------------------------------------------\n",
       "const                2.2097      0.025     89.731      0.000       2.161       2.258\n",
       "prom_notas_media    -0.7072      0.005   -156.887      0.000      -0.716      -0.698\n",
       "region_colegio      -0.0073      0.000    -16.393      0.000      -0.008      -0.006\n",
       "====================================================================================\n",
       "\"\"\""
      ]
     },
     "execution_count": 31,
     "metadata": {},
     "output_type": "execute_result"
    }
   ],
   "source": [
    "# Realizamos una regresión lineal con los datos\n",
    "logit_3 = sm.Logit(y, x_3).fit() \n",
    "logit_3.summary()  # Se imprime un resumen de los resultados de la regresión"
   ]
  }
 ],
 "metadata": {
  "kernelspec": {
   "display_name": "Python 3",
   "language": "python",
   "name": "python3"
  },
  "language_info": {
   "codemirror_mode": {
    "name": "ipython",
    "version": 3
   },
   "file_extension": ".py",
   "mimetype": "text/x-python",
   "name": "python",
   "nbconvert_exporter": "python",
   "pygments_lexer": "ipython3",
   "version": "3.7.6"
  }
 },
 "nbformat": 4,
 "nbformat_minor": 5
}
