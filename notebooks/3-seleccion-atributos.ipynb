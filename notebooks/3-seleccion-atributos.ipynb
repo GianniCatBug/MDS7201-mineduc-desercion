{
 "cells": [
  {
   "cell_type": "code",
   "execution_count": 1,
   "id": "d05d575c",
   "metadata": {},
   "outputs": [],
   "source": [
    "import pandas as pd\n",
    "import numpy as np\n",
    "from glob import glob\n",
    "from tqdm.notebook import tqdm\n",
    "from utils import iter_df_read, get_array_diff\n",
    "import matplotlib.pyplot as plt\n",
    "import seaborn as sns\n",
    "plt.style.use(\"seaborn\")\n",
    "sns.set(font_scale=1.5)\n",
    "\n",
    "# Modificar por ruta local de almacenamiento de datos\n",
    "BASE = \"/media/giani/Gianicosas/Magister/Proyecto/\""
   ]
  },
  {
   "cell_type": "markdown",
   "id": "81af8b64",
   "metadata": {},
   "source": [
    "# Atributos primera iteración\n",
    "- **Notas de colegio**: Egresados Colegio, `PROM_NOTAS_ALU`\n",
    "- **Región del colegio**: Egresados Colegio, `COD_REG_RBD`\n",
    "- **Modalidad del colegio (científico humanista / técnico)**: Egresados Colegio, `COD_ENSE`\n",
    "- **Tipo de establecimiento (particular, subvencionado, municipal)**: Establecimientos, \n",
    "- **Género**: Matriculados, `gen_alu`.\n",
    "- **Edad**: Matriculados, `fec_nac_alu`.\n",
    "- **Área del conocimiento de la carrera**: Matriculados, `area_conocimiento`.\n",
    "- **Región de la institución de educación superior**: Matriculados, `region_sede`.\n",
    "\n",
    "# Lectura datos\n",
    "\n",
    "## Desertores"
   ]
  },
  {
   "cell_type": "code",
   "execution_count": 2,
   "id": "efa69457",
   "metadata": {},
   "outputs": [
    {
     "data": {
      "text/html": [
       "<div>\n",
       "<style scoped>\n",
       "    .dataframe tbody tr th:only-of-type {\n",
       "        vertical-align: middle;\n",
       "    }\n",
       "\n",
       "    .dataframe tbody tr th {\n",
       "        vertical-align: top;\n",
       "    }\n",
       "\n",
       "    .dataframe thead th {\n",
       "        text-align: right;\n",
       "    }\n",
       "</style>\n",
       "<table border=\"1\" class=\"dataframe\">\n",
       "  <thead>\n",
       "    <tr style=\"text-align: right;\">\n",
       "      <th></th>\n",
       "      <th>cat_periodo</th>\n",
       "      <th>codigo_unico</th>\n",
       "      <th>mrun</th>\n",
       "      <th>desertor_1</th>\n",
       "    </tr>\n",
       "  </thead>\n",
       "  <tbody>\n",
       "    <tr>\n",
       "      <th>0</th>\n",
       "      <td>2015</td>\n",
       "      <td>I374S1C9J1V1</td>\n",
       "      <td>5.0</td>\n",
       "      <td>0</td>\n",
       "    </tr>\n",
       "    <tr>\n",
       "      <th>1</th>\n",
       "      <td>2015</td>\n",
       "      <td>I498S6C132J2V1</td>\n",
       "      <td>37.0</td>\n",
       "      <td>0</td>\n",
       "    </tr>\n",
       "    <tr>\n",
       "      <th>2</th>\n",
       "      <td>2015</td>\n",
       "      <td>I111S14C309J2V1</td>\n",
       "      <td>118.0</td>\n",
       "      <td>0</td>\n",
       "    </tr>\n",
       "    <tr>\n",
       "      <th>3</th>\n",
       "      <td>2015</td>\n",
       "      <td>I260S44C120J2V1</td>\n",
       "      <td>184.0</td>\n",
       "      <td>0</td>\n",
       "    </tr>\n",
       "    <tr>\n",
       "      <th>4</th>\n",
       "      <td>2015</td>\n",
       "      <td>I106S3C64J4V1</td>\n",
       "      <td>253.0</td>\n",
       "      <td>1</td>\n",
       "    </tr>\n",
       "  </tbody>\n",
       "</table>\n",
       "</div>"
      ],
      "text/plain": [
       "   cat_periodo     codigo_unico   mrun  desertor_1\n",
       "0         2015     I374S1C9J1V1    5.0           0\n",
       "1         2015   I498S6C132J2V1   37.0           0\n",
       "2         2015  I111S14C309J2V1  118.0           0\n",
       "3         2015  I260S44C120J2V1  184.0           0\n",
       "4         2015    I106S3C64J4V1  253.0           1"
      ]
     },
     "execution_count": 2,
     "metadata": {},
     "output_type": "execute_result"
    }
   ],
   "source": [
    "desertores_1 = pd.read_csv(f\"{BASE}/tmp_data/desertores_1.csv.gz\")\n",
    "desertores_1.head()"
   ]
  },
  {
   "cell_type": "markdown",
   "id": "e145766c",
   "metadata": {},
   "source": [
    "## Matrículas"
   ]
  },
  {
   "cell_type": "code",
   "execution_count": 3,
   "id": "02d0d334",
   "metadata": {},
   "outputs": [
    {
     "data": {
      "application/vnd.jupyter.widget-view+json": {
       "model_id": "8b1bdbf361f6442eb279b7a5335e9971",
       "version_major": 2,
       "version_minor": 0
      },
      "text/plain": [
       "  0%|          | 0/8 [00:00<?, ?it/s]"
      ]
     },
     "metadata": {},
     "output_type": "display_data"
    },
    {
     "name": "stdout",
     "output_type": "stream",
     "text": [
      "Cantidad de registros: 4131609\n",
      "\n",
      "Cantidad de nulos: \n",
      "cat_periodo          0\n",
      "codigo_unico         0\n",
      "mrun                 0\n",
      "gen_alu              0\n",
      "fec_nac_alu          0\n",
      "tipo_inst_1          0\n",
      "region_sede          0\n",
      "area_conocimiento    0\n",
      "dtype: int64\n"
     ]
    },
    {
     "data": {
      "text/html": [
       "<div>\n",
       "<style scoped>\n",
       "    .dataframe tbody tr th:only-of-type {\n",
       "        vertical-align: middle;\n",
       "    }\n",
       "\n",
       "    .dataframe tbody tr th {\n",
       "        vertical-align: top;\n",
       "    }\n",
       "\n",
       "    .dataframe thead th {\n",
       "        text-align: right;\n",
       "    }\n",
       "</style>\n",
       "<table border=\"1\" class=\"dataframe\">\n",
       "  <thead>\n",
       "    <tr style=\"text-align: right;\">\n",
       "      <th></th>\n",
       "      <th>cat_periodo</th>\n",
       "      <th>codigo_unico</th>\n",
       "      <th>mrun</th>\n",
       "      <th>gen_alu</th>\n",
       "      <th>fec_nac_alu</th>\n",
       "      <th>tipo_inst_1</th>\n",
       "      <th>region_sede</th>\n",
       "      <th>area_conocimiento</th>\n",
       "    </tr>\n",
       "  </thead>\n",
       "  <tbody>\n",
       "    <tr>\n",
       "      <th>0</th>\n",
       "      <td>2015</td>\n",
       "      <td>I374S1C9J1V1</td>\n",
       "      <td>5.0</td>\n",
       "      <td>2</td>\n",
       "      <td>199105</td>\n",
       "      <td>Centros de Formación Técnica</td>\n",
       "      <td>Metropolitana</td>\n",
       "      <td>Salud</td>\n",
       "    </tr>\n",
       "    <tr>\n",
       "      <th>1</th>\n",
       "      <td>2015</td>\n",
       "      <td>I498S6C132J2V1</td>\n",
       "      <td>37.0</td>\n",
       "      <td>1</td>\n",
       "      <td>197808</td>\n",
       "      <td>Centros de Formación Técnica</td>\n",
       "      <td>Biobío</td>\n",
       "      <td>Tecnología</td>\n",
       "    </tr>\n",
       "    <tr>\n",
       "      <th>5</th>\n",
       "      <td>2015</td>\n",
       "      <td>I111S12C104J1V1</td>\n",
       "      <td>107.0</td>\n",
       "      <td>1</td>\n",
       "      <td>199409</td>\n",
       "      <td>Institutos Profesionales</td>\n",
       "      <td>Metropolitana</td>\n",
       "      <td>Tecnología</td>\n",
       "    </tr>\n",
       "    <tr>\n",
       "      <th>7</th>\n",
       "      <td>2015</td>\n",
       "      <td>I111S14C309J2V1</td>\n",
       "      <td>118.0</td>\n",
       "      <td>1</td>\n",
       "      <td>199102</td>\n",
       "      <td>Institutos Profesionales</td>\n",
       "      <td>Metropolitana</td>\n",
       "      <td>Administración y Comercio</td>\n",
       "    </tr>\n",
       "    <tr>\n",
       "      <th>9</th>\n",
       "      <td>2015</td>\n",
       "      <td>I260S44C120J2V1</td>\n",
       "      <td>184.0</td>\n",
       "      <td>1</td>\n",
       "      <td>199403</td>\n",
       "      <td>Centros de Formación Técnica</td>\n",
       "      <td>Magallanes</td>\n",
       "      <td>Administración y Comercio</td>\n",
       "    </tr>\n",
       "  </tbody>\n",
       "</table>\n",
       "</div>"
      ],
      "text/plain": [
       "   cat_periodo     codigo_unico   mrun  gen_alu  fec_nac_alu  \\\n",
       "0         2015     I374S1C9J1V1    5.0        2       199105   \n",
       "1         2015   I498S6C132J2V1   37.0        1       197808   \n",
       "5         2015  I111S12C104J1V1  107.0        1       199409   \n",
       "7         2015  I111S14C309J2V1  118.0        1       199102   \n",
       "9         2015  I260S44C120J2V1  184.0        1       199403   \n",
       "\n",
       "                    tipo_inst_1    region_sede          area_conocimiento  \n",
       "0  Centros de Formación Técnica  Metropolitana                      Salud  \n",
       "1  Centros de Formación Técnica         Biobío                 Tecnología  \n",
       "5      Institutos Profesionales  Metropolitana                 Tecnología  \n",
       "7      Institutos Profesionales  Metropolitana  Administración y Comercio  \n",
       "9  Centros de Formación Técnica     Magallanes  Administración y Comercio  "
      ]
     },
     "execution_count": 3,
     "metadata": {},
     "output_type": "execute_result"
    }
   ],
   "source": [
    "cols_mat = [\n",
    "    'cat_periodo', 'codigo_unico', 'mrun', 'tipo_inst_1', \n",
    "    'gen_alu', 'fec_nac_alu', 'area_conocimiento', 'region_sede'\n",
    "]\n",
    "\n",
    "instituciones = ['Institutos Profesionales', 'Centros de Formación Técnica']\n",
    "\n",
    "matriculados = pd.concat([\n",
    "    iter_df_read(f, \"tipo_inst_1\", instituciones, sep=\";\", usecols=cols_mat)\n",
    "    for f in tqdm(\n",
    "        glob(f\"{BASE}/raw_data/post_2015/20220719_Matrícula_Ed_Superior_*.csv\"),\n",
    "        total=8\n",
    "    )\n",
    "]).dropna(subset=\"mrun\")\n",
    "\n",
    "print(f\"Cantidad de registros: {matriculados.shape[0]}\\n\")\n",
    "print(f\"Cantidad de nulos: \\n{matriculados.isna().sum()}\")\n",
    "matriculados.head()"
   ]
  },
  {
   "cell_type": "markdown",
   "id": "32b99b5b",
   "metadata": {},
   "source": [
    "## Colegios\n",
    "\n",
    "Cruzar con https://datosabiertos.mineduc.cl/directorio-de-establecimientos-educacionales/ para sacar si es municipal, sub, etc"
   ]
  },
  {
   "cell_type": "code",
   "execution_count": null,
   "id": "a8e839cc",
   "metadata": {},
   "outputs": [],
   "source": [
    "cols_colegio = [\n",
    "    'MRUN', 'PROM_NOTAS_ALU', 'COD_REG_RBD', 'RBD', 'COD_ENSE'\n",
    "]\n",
    "\n",
    "egreso_colegio = pd.concat([\n",
    "    iter_df_read(f, \"MRUN\", desertores_1[\"mrun\"].unique(), sep=\";\", usecols=cols_colegio)\n",
    "    for f in tqdm(\n",
    "        glob(f\"{BASE}raw_data/egresados_colegios/20220325_Notas_y_Egresados_Enseñanza_Media_*.csv\"),\n",
    "        total=20\n",
    "    )\n",
    "]).dropna(subset=\"MRUN\").drop_duplicates().reset_index(drop=True)\n",
    "\n",
    "print(f\"Cantidad de registros: {egreso_colegio.shape[0]}\\n\")\n",
    "print(f\"Cantidad de nulos: \\n{egreso_colegio.isna().sum()}\")\n",
    "egreso_colegio.head()"
   ]
  },
  {
   "cell_type": "code",
   "execution_count": null,
   "id": "48d58ec0",
   "metadata": {},
   "outputs": [],
   "source": []
  }
 ],
 "metadata": {
  "kernelspec": {
   "display_name": "Python 3 (ipykernel)",
   "language": "python",
   "name": "python3"
  },
  "language_info": {
   "codemirror_mode": {
    "name": "ipython",
    "version": 3
   },
   "file_extension": ".py",
   "mimetype": "text/x-python",
   "name": "python",
   "nbconvert_exporter": "python",
   "pygments_lexer": "ipython3",
   "version": "3.9.12"
  }
 },
 "nbformat": 4,
 "nbformat_minor": 5
}
