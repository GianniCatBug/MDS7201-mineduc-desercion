{
 "cells": [
  {
   "cell_type": "code",
   "execution_count": 1,
   "id": "d05d575c",
   "metadata": {},
   "outputs": [],
   "source": [
    "import pandas as pd\n",
    "import numpy as np\n",
    "from glob import glob\n",
    "from tqdm.notebook import tqdm\n",
    "from utils import iter_df_read, get_array_diff\n",
    "import matplotlib.pyplot as plt\n",
    "import seaborn as sns\n",
    "plt.style.use(\"seaborn\")\n",
    "sns.set(font_scale=1.5)\n",
    "\n",
    "# Modificar por ruta local de almacenamiento de datos\n",
    "BASE = \"/media/giani/Gianicosas/Magister/Proyecto/\""
   ]
  },
  {
   "cell_type": "markdown",
   "id": "81af8b64",
   "metadata": {},
   "source": [
    "# Atributos primera iteración\n",
    "- **Notas de colegio**: Egresados Colegio, `PROM_NOTAS_ALU`\n",
    "- **Región del colegio**: Egresados Colegio, `COD_REG_RBD`\n",
    "- **Modalidad del colegio (científico humanista / técnico)**: Egresados Colegio, `COD_ENSE`\n",
    "- **Tipo de establecimiento (particular, subvencionado, municipal)**: Establecimientos, `cod_depe`\n",
    "- **Género**: Matriculados, `gen_alu`.\n",
    "- **Edad**: Matriculados, `fec_nac_alu`.\n",
    "- **Área del conocimiento de la carrera**: Matriculados, `area_conocimiento`.\n",
    "- **Región de la institución de educación superior**: Matriculados, `region_sede`.\n",
    "\n",
    "# Lectura datos\n",
    "\n",
    "## Desertores"
   ]
  },
  {
   "cell_type": "code",
   "execution_count": 2,
   "id": "efa69457",
   "metadata": {},
   "outputs": [
    {
     "data": {
      "text/html": [
       "<div>\n",
       "<style scoped>\n",
       "    .dataframe tbody tr th:only-of-type {\n",
       "        vertical-align: middle;\n",
       "    }\n",
       "\n",
       "    .dataframe tbody tr th {\n",
       "        vertical-align: top;\n",
       "    }\n",
       "\n",
       "    .dataframe thead th {\n",
       "        text-align: right;\n",
       "    }\n",
       "</style>\n",
       "<table border=\"1\" class=\"dataframe\">\n",
       "  <thead>\n",
       "    <tr style=\"text-align: right;\">\n",
       "      <th></th>\n",
       "      <th>cat_periodo</th>\n",
       "      <th>codigo_unico</th>\n",
       "      <th>mrun</th>\n",
       "      <th>desertor_1</th>\n",
       "    </tr>\n",
       "  </thead>\n",
       "  <tbody>\n",
       "    <tr>\n",
       "      <th>0</th>\n",
       "      <td>2015</td>\n",
       "      <td>I374S1C9J1V1</td>\n",
       "      <td>5.0</td>\n",
       "      <td>0</td>\n",
       "    </tr>\n",
       "    <tr>\n",
       "      <th>1</th>\n",
       "      <td>2015</td>\n",
       "      <td>I498S6C132J2V1</td>\n",
       "      <td>37.0</td>\n",
       "      <td>0</td>\n",
       "    </tr>\n",
       "    <tr>\n",
       "      <th>2</th>\n",
       "      <td>2015</td>\n",
       "      <td>I111S14C309J2V1</td>\n",
       "      <td>118.0</td>\n",
       "      <td>0</td>\n",
       "    </tr>\n",
       "    <tr>\n",
       "      <th>3</th>\n",
       "      <td>2015</td>\n",
       "      <td>I260S44C120J2V1</td>\n",
       "      <td>184.0</td>\n",
       "      <td>0</td>\n",
       "    </tr>\n",
       "    <tr>\n",
       "      <th>4</th>\n",
       "      <td>2015</td>\n",
       "      <td>I106S3C64J4V1</td>\n",
       "      <td>253.0</td>\n",
       "      <td>1</td>\n",
       "    </tr>\n",
       "  </tbody>\n",
       "</table>\n",
       "</div>"
      ],
      "text/plain": [
       "   cat_periodo     codigo_unico   mrun  desertor_1\n",
       "0         2015     I374S1C9J1V1    5.0           0\n",
       "1         2015   I498S6C132J2V1   37.0           0\n",
       "2         2015  I111S14C309J2V1  118.0           0\n",
       "3         2015  I260S44C120J2V1  184.0           0\n",
       "4         2015    I106S3C64J4V1  253.0           1"
      ]
     },
     "execution_count": 2,
     "metadata": {},
     "output_type": "execute_result"
    }
   ],
   "source": [
    "desertores_1 = pd.read_csv(f\"{BASE}/tmp_data/desertores_1.csv.gz\")\n",
    "desertores_1.head()"
   ]
  },
  {
   "cell_type": "markdown",
   "id": "e145766c",
   "metadata": {},
   "source": [
    "## Matrículas"
   ]
  },
  {
   "cell_type": "code",
   "execution_count": 3,
   "id": "02d0d334",
   "metadata": {},
   "outputs": [
    {
     "data": {
      "application/vnd.jupyter.widget-view+json": {
       "model_id": "896ce8dfec1e4ae0a23e22b5b3d1f855",
       "version_major": 2,
       "version_minor": 0
      },
      "text/plain": [
       "  0%|          | 0/8 [00:00<?, ?it/s]"
      ]
     },
     "metadata": {},
     "output_type": "display_data"
    },
    {
     "name": "stdout",
     "output_type": "stream",
     "text": [
      "Cantidad de registros: 3202225\n",
      "\n",
      "Cantidad de nulos: \n",
      "cat_periodo          0\n",
      "codigo_unico         0\n",
      "mrun                 0\n",
      "gen_alu              0\n",
      "fec_nac_alu          0\n",
      "anio_ing_carr_ori    0\n",
      "tipo_inst_1          0\n",
      "region_sede          0\n",
      "area_conocimiento    0\n",
      "dtype: int64\n"
     ]
    },
    {
     "data": {
      "text/html": [
       "<div>\n",
       "<style scoped>\n",
       "    .dataframe tbody tr th:only-of-type {\n",
       "        vertical-align: middle;\n",
       "    }\n",
       "\n",
       "    .dataframe tbody tr th {\n",
       "        vertical-align: top;\n",
       "    }\n",
       "\n",
       "    .dataframe thead th {\n",
       "        text-align: right;\n",
       "    }\n",
       "</style>\n",
       "<table border=\"1\" class=\"dataframe\">\n",
       "  <thead>\n",
       "    <tr style=\"text-align: right;\">\n",
       "      <th></th>\n",
       "      <th>cat_periodo</th>\n",
       "      <th>codigo_unico</th>\n",
       "      <th>mrun</th>\n",
       "      <th>gen_alu</th>\n",
       "      <th>fec_nac_alu</th>\n",
       "      <th>anio_ing_carr_ori</th>\n",
       "      <th>tipo_inst_1</th>\n",
       "      <th>region_sede</th>\n",
       "      <th>area_conocimiento</th>\n",
       "    </tr>\n",
       "  </thead>\n",
       "  <tbody>\n",
       "    <tr>\n",
       "      <th>0</th>\n",
       "      <td>2015</td>\n",
       "      <td>I374S1C9J1V1</td>\n",
       "      <td>5.0</td>\n",
       "      <td>2</td>\n",
       "      <td>199105</td>\n",
       "      <td>2015</td>\n",
       "      <td>Centros de Formación Técnica</td>\n",
       "      <td>Metropolitana</td>\n",
       "      <td>Salud</td>\n",
       "    </tr>\n",
       "    <tr>\n",
       "      <th>1</th>\n",
       "      <td>2015</td>\n",
       "      <td>I498S6C132J2V1</td>\n",
       "      <td>37.0</td>\n",
       "      <td>1</td>\n",
       "      <td>197808</td>\n",
       "      <td>2015</td>\n",
       "      <td>Centros de Formación Técnica</td>\n",
       "      <td>Biobío</td>\n",
       "      <td>Tecnología</td>\n",
       "    </tr>\n",
       "    <tr>\n",
       "      <th>3</th>\n",
       "      <td>2015</td>\n",
       "      <td>I111S14C309J2V1</td>\n",
       "      <td>118.0</td>\n",
       "      <td>1</td>\n",
       "      <td>199102</td>\n",
       "      <td>2015</td>\n",
       "      <td>Institutos Profesionales</td>\n",
       "      <td>Metropolitana</td>\n",
       "      <td>Administración y Comercio</td>\n",
       "    </tr>\n",
       "    <tr>\n",
       "      <th>6</th>\n",
       "      <td>2015</td>\n",
       "      <td>I106S3C64J4V1</td>\n",
       "      <td>253.0</td>\n",
       "      <td>1</td>\n",
       "      <td>198404</td>\n",
       "      <td>2015</td>\n",
       "      <td>Institutos Profesionales</td>\n",
       "      <td>Metropolitana</td>\n",
       "      <td>Administración y Comercio</td>\n",
       "    </tr>\n",
       "    <tr>\n",
       "      <th>8</th>\n",
       "      <td>2015</td>\n",
       "      <td>I221S1C57J1V1</td>\n",
       "      <td>370.0</td>\n",
       "      <td>2</td>\n",
       "      <td>198910</td>\n",
       "      <td>2015</td>\n",
       "      <td>Centros de Formación Técnica</td>\n",
       "      <td>Metropolitana</td>\n",
       "      <td>Administración y Comercio</td>\n",
       "    </tr>\n",
       "  </tbody>\n",
       "</table>\n",
       "</div>"
      ],
      "text/plain": [
       "   cat_periodo     codigo_unico   mrun  gen_alu  fec_nac_alu  \\\n",
       "0         2015     I374S1C9J1V1    5.0        2       199105   \n",
       "1         2015   I498S6C132J2V1   37.0        1       197808   \n",
       "3         2015  I111S14C309J2V1  118.0        1       199102   \n",
       "6         2015    I106S3C64J4V1  253.0        1       198404   \n",
       "8         2015    I221S1C57J1V1  370.0        2       198910   \n",
       "\n",
       "   anio_ing_carr_ori                   tipo_inst_1    region_sede  \\\n",
       "0               2015  Centros de Formación Técnica  Metropolitana   \n",
       "1               2015  Centros de Formación Técnica         Biobío   \n",
       "3               2015      Institutos Profesionales  Metropolitana   \n",
       "6               2015      Institutos Profesionales  Metropolitana   \n",
       "8               2015  Centros de Formación Técnica  Metropolitana   \n",
       "\n",
       "           area_conocimiento  \n",
       "0                      Salud  \n",
       "1                 Tecnología  \n",
       "3  Administración y Comercio  \n",
       "6  Administración y Comercio  \n",
       "8  Administración y Comercio  "
      ]
     },
     "execution_count": 3,
     "metadata": {},
     "output_type": "execute_result"
    }
   ],
   "source": [
    "cols_mat = [\n",
    "    'cat_periodo', 'codigo_unico', 'mrun', 'tipo_inst_1', \n",
    "    'gen_alu', 'fec_nac_alu', 'area_conocimiento', 'region_sede',\n",
    "    \"anio_ing_carr_ori\"\n",
    "]\n",
    "\n",
    "instituciones = ['Institutos Profesionales', 'Centros de Formación Técnica']\n",
    "\n",
    "matriculados = pd.concat([\n",
    "    iter_df_read(f, \"tipo_inst_1\", instituciones, sep=\";\", usecols=cols_mat)\n",
    "    for f in tqdm(\n",
    "        glob(f\"{BASE}/raw_data/post_2015/20220719_Matrícula_Ed_Superior_*.csv\"),\n",
    "        total=8\n",
    "    )\n",
    "]).dropna(subset=\"mrun\").drop_duplicates().reset_index(drop=True)\n",
    "\n",
    "matriculados = matriculados[\n",
    "    (matriculados[\"anio_ing_carr_ori\"] >= 2015)\n",
    "    & (matriculados[\"anio_ing_carr_ori\"] < 2022)\n",
    "]\n",
    "\n",
    "print(f\"Cantidad de registros: {matriculados.shape[0]}\\n\")\n",
    "print(f\"Cantidad de nulos: \\n{matriculados.isna().sum()}\")\n",
    "matriculados.head()"
   ]
  },
  {
   "cell_type": "code",
   "execution_count": 4,
   "id": "36491e90",
   "metadata": {},
   "outputs": [
    {
     "data": {
      "text/plain": [
       "((3202225, 9), (3012141, 4), (3202225, 10))"
      ]
     },
     "execution_count": 4,
     "metadata": {},
     "output_type": "execute_result"
    }
   ],
   "source": [
    "mat_des = pd.merge(\n",
    "    matriculados,\n",
    "    desertores_1,\n",
    "    how=\"left\"\n",
    ")\n",
    "\n",
    "matriculados.shape, desertores_1.shape, mat_des.shape"
   ]
  },
  {
   "cell_type": "code",
   "execution_count": 5,
   "id": "c8cd8b0d",
   "metadata": {},
   "outputs": [
    {
     "data": {
      "text/plain": [
       "2022    332793\n",
       "Name: cat_periodo, dtype: int64"
      ]
     },
     "execution_count": 5,
     "metadata": {},
     "output_type": "execute_result"
    }
   ],
   "source": [
    "mat_des[mat_des[\"desertor_1\"].isna()][\"cat_periodo\"].value_counts()"
   ]
  },
  {
   "cell_type": "code",
   "execution_count": 6,
   "id": "a5ee8fad",
   "metadata": {},
   "outputs": [],
   "source": [
    "mat_des = mat_des.dropna().reset_index(drop=True)"
   ]
  },
  {
   "cell_type": "markdown",
   "id": "32b99b5b",
   "metadata": {},
   "source": [
    "## Colegios\n",
    "\n",
    "### Egresados EM"
   ]
  },
  {
   "cell_type": "code",
   "execution_count": 7,
   "id": "a8e839cc",
   "metadata": {},
   "outputs": [
    {
     "data": {
      "application/vnd.jupyter.widget-view+json": {
       "model_id": "fc2d1848411549a0b79875a9b69d5c60",
       "version_major": 2,
       "version_minor": 0
      },
      "text/plain": [
       "  0%|          | 0/20 [00:00<?, ?it/s]"
      ]
     },
     "metadata": {},
     "output_type": "display_data"
    },
    {
     "name": "stdout",
     "output_type": "stream",
     "text": [
      "Cantidad de registros: 1048218\n",
      "\n",
      "Cantidad de nulos: \n",
      "AGNO              0\n",
      "RBD               0\n",
      "COD_REG_RBD       0\n",
      "COD_ENSE          0\n",
      "COD_GRADO         0\n",
      "mrun              0\n",
      "PROM_NOTAS_ALU    0\n",
      "dtype: int64\n"
     ]
    },
    {
     "data": {
      "text/html": [
       "<div>\n",
       "<style scoped>\n",
       "    .dataframe tbody tr th:only-of-type {\n",
       "        vertical-align: middle;\n",
       "    }\n",
       "\n",
       "    .dataframe tbody tr th {\n",
       "        vertical-align: top;\n",
       "    }\n",
       "\n",
       "    .dataframe thead th {\n",
       "        text-align: right;\n",
       "    }\n",
       "</style>\n",
       "<table border=\"1\" class=\"dataframe\">\n",
       "  <thead>\n",
       "    <tr style=\"text-align: right;\">\n",
       "      <th></th>\n",
       "      <th>AGNO</th>\n",
       "      <th>RBD</th>\n",
       "      <th>COD_REG_RBD</th>\n",
       "      <th>COD_ENSE</th>\n",
       "      <th>COD_GRADO</th>\n",
       "      <th>mrun</th>\n",
       "      <th>PROM_NOTAS_ALU</th>\n",
       "    </tr>\n",
       "  </thead>\n",
       "  <tbody>\n",
       "    <tr>\n",
       "      <th>0</th>\n",
       "      <td>2017</td>\n",
       "      <td>10780</td>\n",
       "      <td>13</td>\n",
       "      <td>363</td>\n",
       "      <td>4</td>\n",
       "      <td>25581603</td>\n",
       "      <td>6,3</td>\n",
       "    </tr>\n",
       "    <tr>\n",
       "      <th>1</th>\n",
       "      <td>2018</td>\n",
       "      <td>12332</td>\n",
       "      <td>5</td>\n",
       "      <td>510</td>\n",
       "      <td>4</td>\n",
       "      <td>14294511</td>\n",
       "      <td>6,4</td>\n",
       "    </tr>\n",
       "    <tr>\n",
       "      <th>2</th>\n",
       "      <td>2015</td>\n",
       "      <td>16634</td>\n",
       "      <td>7</td>\n",
       "      <td>710</td>\n",
       "      <td>4</td>\n",
       "      <td>5928282</td>\n",
       "      <td>6,1</td>\n",
       "    </tr>\n",
       "    <tr>\n",
       "      <th>3</th>\n",
       "      <td>2008</td>\n",
       "      <td>6643</td>\n",
       "      <td>9</td>\n",
       "      <td>610</td>\n",
       "      <td>4</td>\n",
       "      <td>24845591</td>\n",
       "      <td>5,6</td>\n",
       "    </tr>\n",
       "    <tr>\n",
       "      <th>4</th>\n",
       "      <td>2008</td>\n",
       "      <td>9957</td>\n",
       "      <td>13</td>\n",
       "      <td>510</td>\n",
       "      <td>4</td>\n",
       "      <td>24844652</td>\n",
       "      <td>5,6</td>\n",
       "    </tr>\n",
       "  </tbody>\n",
       "</table>\n",
       "</div>"
      ],
      "text/plain": [
       "   AGNO    RBD COD_REG_RBD  COD_ENSE  COD_GRADO      mrun PROM_NOTAS_ALU\n",
       "0  2017  10780          13       363          4  25581603            6,3\n",
       "1  2018  12332           5       510          4  14294511            6,4\n",
       "2  2015  16634           7       710          4   5928282            6,1\n",
       "3  2008   6643           9       610          4  24845591            5,6\n",
       "4  2008   9957          13       510          4  24844652            5,6"
      ]
     },
     "execution_count": 7,
     "metadata": {},
     "output_type": "execute_result"
    }
   ],
   "source": [
    "cols_egreso_col = [\n",
    "    'MRUN', 'PROM_NOTAS_ALU', 'COD_REG_RBD', 'RBD', 'COD_ENSE', 'COD_GRADO', \"AGNO\"\n",
    "]\n",
    "\n",
    "egreso_colegio = pd.concat([\n",
    "    iter_df_read(f, \"MRUN\", mat_des[\"mrun\"].unique(), sep=\";\", usecols=cols_egreso_col)\n",
    "    for f in tqdm(\n",
    "        glob(f\"{BASE}raw_data/egresados_colegios/20220325_Notas_y_Egresados_Enseñanza_Media_*.csv\"),\n",
    "        total=20\n",
    "    )\n",
    "]).dropna(subset=\"MRUN\").drop_duplicates().reset_index(drop=True).rename(\n",
    "    columns={\"MRUN\": \"mrun\"}\n",
    ").sort_values(\n",
    "    by=[\"COD_GRADO\"], ascending=False\n",
    ").drop_duplicates(\n",
    "    subset=[\"mrun\"], keep=\"first\"\n",
    ").reset_index(drop=True)\n",
    "\n",
    "print(f\"Cantidad de registros: {egreso_colegio.shape[0]}\\n\")\n",
    "print(f\"Cantidad de nulos: \\n{egreso_colegio.isna().sum()}\")\n",
    "egreso_colegio.head()"
   ]
  },
  {
   "cell_type": "markdown",
   "id": "d75f6e7f",
   "metadata": {},
   "source": [
    "### Establecimientos\n",
    "https://datosabiertos.mineduc.cl/directorio-de-establecimientos-educacionales/"
   ]
  },
  {
   "cell_type": "code",
   "execution_count": 9,
   "id": "e1bc93df",
   "metadata": {},
   "outputs": [
    {
     "data": {
      "application/vnd.jupyter.widget-view+json": {
       "model_id": "ecee257e406146f0a24bd0b684e51a08",
       "version_major": 2,
       "version_minor": 0
      },
      "text/plain": [
       "  0%|          | 0/18 [00:00<?, ?it/s]"
      ]
     },
     "metadata": {},
     "output_type": "display_data"
    },
    {
     "name": "stdout",
     "output_type": "stream",
     "text": [
      "Cantidad de registros: 48786\n",
      "\n",
      "Cantidad de nulos: \n",
      "rbd         0\n",
      "cod_depe    0\n",
      "agno        0\n",
      "dtype: int64\n"
     ]
    },
    {
     "data": {
      "text/html": [
       "<div>\n",
       "<style scoped>\n",
       "    .dataframe tbody tr th:only-of-type {\n",
       "        vertical-align: middle;\n",
       "    }\n",
       "\n",
       "    .dataframe tbody tr th {\n",
       "        vertical-align: top;\n",
       "    }\n",
       "\n",
       "    .dataframe thead th {\n",
       "        text-align: right;\n",
       "    }\n",
       "</style>\n",
       "<table border=\"1\" class=\"dataframe\">\n",
       "  <thead>\n",
       "    <tr style=\"text-align: right;\">\n",
       "      <th></th>\n",
       "      <th>rbd</th>\n",
       "      <th>cod_depe</th>\n",
       "      <th>agno</th>\n",
       "    </tr>\n",
       "  </thead>\n",
       "  <tbody>\n",
       "    <tr>\n",
       "      <th>0</th>\n",
       "      <td>1.0</td>\n",
       "      <td>2.0</td>\n",
       "      <td>2004.0</td>\n",
       "    </tr>\n",
       "    <tr>\n",
       "      <th>1</th>\n",
       "      <td>3.0</td>\n",
       "      <td>2.0</td>\n",
       "      <td>2004.0</td>\n",
       "    </tr>\n",
       "    <tr>\n",
       "      <th>2</th>\n",
       "      <td>4.0</td>\n",
       "      <td>2.0</td>\n",
       "      <td>2004.0</td>\n",
       "    </tr>\n",
       "    <tr>\n",
       "      <th>3</th>\n",
       "      <td>5.0</td>\n",
       "      <td>2.0</td>\n",
       "      <td>2004.0</td>\n",
       "    </tr>\n",
       "    <tr>\n",
       "      <th>4</th>\n",
       "      <td>7.0</td>\n",
       "      <td>2.0</td>\n",
       "      <td>2004.0</td>\n",
       "    </tr>\n",
       "  </tbody>\n",
       "</table>\n",
       "</div>"
      ],
      "text/plain": [
       "   rbd  cod_depe    agno\n",
       "0  1.0       2.0  2004.0\n",
       "1  3.0       2.0  2004.0\n",
       "2  4.0       2.0  2004.0\n",
       "3  5.0       2.0  2004.0\n",
       "4  7.0       2.0  2004.0"
      ]
     },
     "execution_count": 9,
     "metadata": {},
     "output_type": "execute_result"
    }
   ],
   "source": [
    "establecimientos_04_21 = pd.concat([\n",
    "    pd.read_csv(f, sep=\";\").rename(columns={\n",
    "        \"RBD\":\"rbd\",\n",
    "        \"COD_DEPE\":\"cod_depe\",\n",
    "        \"AGNO\": \"agno\",\n",
    "        \"ïagno\": \"agno\"\n",
    "    })\n",
    "    for f in tqdm(\n",
    "        glob(f\"{BASE}raw_data/directorio_colegios/Directorio_*.csv\"),\n",
    "        total=18\n",
    "    )\n",
    "])[[\n",
    "    \"rbd\", \"cod_depe\", \"agno\"\n",
    "]].dropna()\n",
    "\n",
    "establecimientos_04_21 = establecimientos_04_21[\n",
    "    establecimientos_04_21[\"rbd\"].isin(egreso_colegio[\"RBD\"].unique())\n",
    "].drop_duplicates().reset_index(drop=True)\n",
    "\n",
    "print(f\"Cantidad de registros: {establecimientos_04_21.shape[0]}\\n\")\n",
    "print(f\"Cantidad de nulos: \\n{establecimientos_04_21.isna().sum()}\")\n",
    "establecimientos_04_21.head()"
   ]
  },
  {
   "cell_type": "code",
   "execution_count": 10,
   "id": "f543628b",
   "metadata": {},
   "outputs": [
    {
     "data": {
      "text/plain": [
       "((1048218, 8), (1048218, 7))"
      ]
     },
     "execution_count": 10,
     "metadata": {},
     "output_type": "execute_result"
    }
   ],
   "source": [
    "colegios = pd.merge(\n",
    "    egreso_colegio.rename(columns={\n",
    "        \"RBD\":\"rbd\",\n",
    "        \"AGNO\": \"agno\"\n",
    "    }),\n",
    "    establecimientos_04_21,\n",
    "    how=\"left\"\n",
    ").drop_duplicates().reset_index(drop=True)\n",
    "\n",
    "colegios.shape, egreso_colegio.shape"
   ]
  },
  {
   "cell_type": "code",
   "execution_count": 11,
   "id": "3c105325",
   "metadata": {},
   "outputs": [
    {
     "data": {
      "text/html": [
       "<div>\n",
       "<style scoped>\n",
       "    .dataframe tbody tr th:only-of-type {\n",
       "        vertical-align: middle;\n",
       "    }\n",
       "\n",
       "    .dataframe tbody tr th {\n",
       "        vertical-align: top;\n",
       "    }\n",
       "\n",
       "    .dataframe thead th {\n",
       "        text-align: right;\n",
       "    }\n",
       "</style>\n",
       "<table border=\"1\" class=\"dataframe\">\n",
       "  <thead>\n",
       "    <tr style=\"text-align: right;\">\n",
       "      <th></th>\n",
       "      <th>agno</th>\n",
       "      <th>rbd</th>\n",
       "      <th>COD_REG_RBD</th>\n",
       "      <th>COD_ENSE</th>\n",
       "      <th>COD_GRADO</th>\n",
       "      <th>mrun</th>\n",
       "      <th>PROM_NOTAS_ALU</th>\n",
       "      <th>cod_depe</th>\n",
       "    </tr>\n",
       "  </thead>\n",
       "  <tbody>\n",
       "    <tr>\n",
       "      <th>0</th>\n",
       "      <td>2017</td>\n",
       "      <td>10780</td>\n",
       "      <td>13</td>\n",
       "      <td>363</td>\n",
       "      <td>4</td>\n",
       "      <td>25581603</td>\n",
       "      <td>6,3</td>\n",
       "      <td>NaN</td>\n",
       "    </tr>\n",
       "    <tr>\n",
       "      <th>1</th>\n",
       "      <td>2018</td>\n",
       "      <td>12332</td>\n",
       "      <td>5</td>\n",
       "      <td>510</td>\n",
       "      <td>4</td>\n",
       "      <td>14294511</td>\n",
       "      <td>6,4</td>\n",
       "      <td>NaN</td>\n",
       "    </tr>\n",
       "    <tr>\n",
       "      <th>2</th>\n",
       "      <td>2015</td>\n",
       "      <td>16634</td>\n",
       "      <td>7</td>\n",
       "      <td>710</td>\n",
       "      <td>4</td>\n",
       "      <td>5928282</td>\n",
       "      <td>6,1</td>\n",
       "      <td>3.0</td>\n",
       "    </tr>\n",
       "    <tr>\n",
       "      <th>3</th>\n",
       "      <td>2008</td>\n",
       "      <td>6643</td>\n",
       "      <td>9</td>\n",
       "      <td>610</td>\n",
       "      <td>4</td>\n",
       "      <td>24845591</td>\n",
       "      <td>5,6</td>\n",
       "      <td>3.0</td>\n",
       "    </tr>\n",
       "    <tr>\n",
       "      <th>4</th>\n",
       "      <td>2008</td>\n",
       "      <td>9957</td>\n",
       "      <td>13</td>\n",
       "      <td>510</td>\n",
       "      <td>4</td>\n",
       "      <td>24844652</td>\n",
       "      <td>5,6</td>\n",
       "      <td>3.0</td>\n",
       "    </tr>\n",
       "  </tbody>\n",
       "</table>\n",
       "</div>"
      ],
      "text/plain": [
       "   agno    rbd COD_REG_RBD  COD_ENSE  COD_GRADO      mrun PROM_NOTAS_ALU  \\\n",
       "0  2017  10780          13       363          4  25581603            6,3   \n",
       "1  2018  12332           5       510          4  14294511            6,4   \n",
       "2  2015  16634           7       710          4   5928282            6,1   \n",
       "3  2008   6643           9       610          4  24845591            5,6   \n",
       "4  2008   9957          13       510          4  24844652            5,6   \n",
       "\n",
       "   cod_depe  \n",
       "0       NaN  \n",
       "1       NaN  \n",
       "2       3.0  \n",
       "3       3.0  \n",
       "4       3.0  "
      ]
     },
     "execution_count": 11,
     "metadata": {},
     "output_type": "execute_result"
    }
   ],
   "source": [
    "colegios.head()"
   ]
  },
  {
   "cell_type": "markdown",
   "id": "3f078871",
   "metadata": {},
   "source": [
    "## Merge matriz 1"
   ]
  },
  {
   "cell_type": "code",
   "execution_count": 13,
   "id": "7702776f",
   "metadata": {},
   "outputs": [
    {
     "data": {
      "text/plain": [
       "((1048218, 8), (2869432, 10), (2869432, 14))"
      ]
     },
     "execution_count": 13,
     "metadata": {},
     "output_type": "execute_result"
    }
   ],
   "source": [
    "matriz_1 = pd.merge(\n",
    "    mat_des,\n",
    "    colegios[[\"mrun\", \"COD_REG_RBD\", \"COD_ENSE\", \"PROM_NOTAS_ALU\", \"cod_depe\"]].rename(columns={\n",
    "        \"COD_REG_RBD\":\"region_colegio\",\n",
    "        \"COD_ENSE\": \"tipo_ensenanza_colegio\", #CH, tecnico, etc\n",
    "        \"PROM_NOTAS_ALU\": \"prom_notas_ultimo_anio_col\",\n",
    "        \"cod_depe\": \"dependencia_colegio\" #municipal, subvencionado, etc\n",
    "    }),\n",
    "    how=\"left\"\n",
    ").drop_duplicates().reset_index(drop=True)\n",
    "\n",
    "colegios.shape, mat_des.shape, matriz_1.shape"
   ]
  },
  {
   "cell_type": "code",
   "execution_count": 14,
   "id": "7d3947ab",
   "metadata": {},
   "outputs": [
    {
     "data": {
      "text/plain": [
       "cat_periodo                         0\n",
       "codigo_unico                        0\n",
       "mrun                                0\n",
       "gen_alu                             0\n",
       "fec_nac_alu                         0\n",
       "anio_ing_carr_ori                   0\n",
       "tipo_inst_1                         0\n",
       "region_sede                         0\n",
       "area_conocimiento                   0\n",
       "desertor_1                          0\n",
       "region_colegio                 365341\n",
       "tipo_ensenanza_colegio         365341\n",
       "prom_notas_ultimo_anio_col     365341\n",
       "dependencia_colegio           1010032\n",
       "dtype: int64"
      ]
     },
     "execution_count": 14,
     "metadata": {},
     "output_type": "execute_result"
    }
   ],
   "source": [
    "matriz_1.isna().sum()"
   ]
  },
  {
   "cell_type": "code",
   "execution_count": 15,
   "id": "637ebf4a",
   "metadata": {},
   "outputs": [],
   "source": [
    "matriz_1.to_csv(f\"{BASE}work_data/matriz_desercion_1.csv.gz\", index=False, compression=\"gzip\")"
   ]
  },
  {
   "cell_type": "code",
   "execution_count": null,
   "id": "ea5376ce",
   "metadata": {},
   "outputs": [],
   "source": []
  }
 ],
 "metadata": {
  "kernelspec": {
   "display_name": "Python 3 (ipykernel)",
   "language": "python",
   "name": "python3"
  },
  "language_info": {
   "codemirror_mode": {
    "name": "ipython",
    "version": 3
   },
   "file_extension": ".py",
   "mimetype": "text/x-python",
   "name": "python",
   "nbconvert_exporter": "python",
   "pygments_lexer": "ipython3",
   "version": "3.9.12"
  }
 },
 "nbformat": 4,
 "nbformat_minor": 5
}
