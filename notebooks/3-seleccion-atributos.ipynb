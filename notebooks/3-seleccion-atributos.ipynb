{
 "cells": [
  {
   "cell_type": "code",
   "execution_count": 2,
   "id": "d05d575c",
   "metadata": {},
   "outputs": [],
   "source": [
    "import pandas as pd\n",
    "import numpy as np\n",
    "from glob import glob\n",
    "from tqdm.notebook import tqdm\n",
    "from utils import iter_df_read, get_array_diff\n",
    "import matplotlib.pyplot as plt\n",
    "import seaborn as sns\n",
    "plt.style.use(\"seaborn\")\n",
    "sns.set(font_scale=1.5)\n",
    "\n",
    "# Modificar por ruta local de almacenamiento de datos\n",
    "BASE = \"/media/giani/Gianicosas/Magister/Proyecto/\""
   ]
  },
  {
   "cell_type": "markdown",
   "id": "81af8b64",
   "metadata": {},
   "source": [
    "# Atributos\n",
    "\n",
    "## Primera iteración\n",
    "- **Notas de colegio**: Egresados Colegio, `PROM_NOTAS_ALU`.\n",
    "- **Región del colegio**: Egresados Colegio, `COD_REG_RBD`.\n",
    "- **Modalidad del colegio (científico humanista / técnico)**: Egresados Colegio, `COD_ENSE`.\n",
    "- **Tipo de establecimiento (particular, subvencionado, municipal)**: Establecimientos, `cod_depe`.\n",
    "- **Género**: Matriculados, `gen_alu`.\n",
    "- **Edad**: Matriculados, `fec_nac_alu`.\n",
    "- **Área del conocimiento de la carrera**: Matriculados, `area_conocimiento`.\n",
    "- **Región de la institución de educación superior**: Matriculados, `region_sede`.\n",
    "\n",
    "## Segunda iteración\n",
    "- **Valor Arancel**: Matriculados, `valor_arancel` (Matriz 2).\n",
    "- **Estado acreditación carrera**: Matriculados, `acreditada_carr` (Matriz 2).\n",
    "- **Estado acreditación institución**: Matriculados, `acreditada_inst` (Matriz 2).\n",
    "- **Cantidad de becas**: Becas y créditos, `BENEFICIO_BECA_FSCU` (Matriz 2).\n",
    "\n",
    "## Tercera iteración\n",
    "- **FSCU**: Tiene fondo solidario, `BENEFICIO_BECA_FSCU` (Matriz 3).\n",
    "- **gratuidad**: Tiene gratuidad, `BENEFICIO_BECA_FSCU` (Matriz 3).\n",
    "- **beca**: Tiene beca, `BENEFICIO_BECA_FSCU` (Matriz 3).\n",
    "\n",
    "## Cuarta iteración\n",
    "- **Jornada**: Diurno o vespertino (Matriz 4).\n",
    "- **Duración carrera**: Duración en semestres de la carrera (Matriz 4).\n",
    "- **Duración titulación**: Duración en semestres del proceso de titulación (Matriz 4).\n",
    "\n",
    "Se corrige además el valor del arancel, para lo cual se tiene que consultar el formato del valor.\n",
    "\n",
    "# Lectura datos\n",
    "\n",
    "## Desertores"
   ]
  },
  {
   "cell_type": "code",
   "execution_count": 3,
   "id": "efa69457",
   "metadata": {},
   "outputs": [
    {
     "data": {
      "text/html": [
       "<div>\n",
       "<style scoped>\n",
       "    .dataframe tbody tr th:only-of-type {\n",
       "        vertical-align: middle;\n",
       "    }\n",
       "\n",
       "    .dataframe tbody tr th {\n",
       "        vertical-align: top;\n",
       "    }\n",
       "\n",
       "    .dataframe thead th {\n",
       "        text-align: right;\n",
       "    }\n",
       "</style>\n",
       "<table border=\"1\" class=\"dataframe\">\n",
       "  <thead>\n",
       "    <tr style=\"text-align: right;\">\n",
       "      <th></th>\n",
       "      <th>cat_periodo</th>\n",
       "      <th>codigo_unico</th>\n",
       "      <th>mrun</th>\n",
       "      <th>desertor_1</th>\n",
       "    </tr>\n",
       "  </thead>\n",
       "  <tbody>\n",
       "    <tr>\n",
       "      <th>0</th>\n",
       "      <td>2015</td>\n",
       "      <td>I498S6C132J2V1</td>\n",
       "      <td>37.0</td>\n",
       "      <td>0</td>\n",
       "    </tr>\n",
       "    <tr>\n",
       "      <th>1</th>\n",
       "      <td>2015</td>\n",
       "      <td>I111S14C309J2V1</td>\n",
       "      <td>118.0</td>\n",
       "      <td>0</td>\n",
       "    </tr>\n",
       "    <tr>\n",
       "      <th>2</th>\n",
       "      <td>2015</td>\n",
       "      <td>I106S3C64J4V1</td>\n",
       "      <td>253.0</td>\n",
       "      <td>1</td>\n",
       "    </tr>\n",
       "    <tr>\n",
       "      <th>3</th>\n",
       "      <td>2015</td>\n",
       "      <td>I221S1C57J1V1</td>\n",
       "      <td>370.0</td>\n",
       "      <td>1</td>\n",
       "    </tr>\n",
       "    <tr>\n",
       "      <th>4</th>\n",
       "      <td>2015</td>\n",
       "      <td>I176S8C59J2V1</td>\n",
       "      <td>533.0</td>\n",
       "      <td>0</td>\n",
       "    </tr>\n",
       "  </tbody>\n",
       "</table>\n",
       "</div>"
      ],
      "text/plain": [
       "   cat_periodo     codigo_unico   mrun  desertor_1\n",
       "0         2015   I498S6C132J2V1   37.0           0\n",
       "1         2015  I111S14C309J2V1  118.0           0\n",
       "2         2015    I106S3C64J4V1  253.0           1\n",
       "3         2015    I221S1C57J1V1  370.0           1\n",
       "4         2015    I176S8C59J2V1  533.0           0"
      ]
     },
     "execution_count": 3,
     "metadata": {},
     "output_type": "execute_result"
    }
   ],
   "source": [
    "desertores_1 = pd.read_csv(f\"{BASE}/tmp_data/desertores_1.csv.gz\")\n",
    "desertores_1.head()"
   ]
  },
  {
   "cell_type": "markdown",
   "id": "e145766c",
   "metadata": {},
   "source": [
    "## Matrículas"
   ]
  },
  {
   "cell_type": "code",
   "execution_count": 4,
   "id": "02d0d334",
   "metadata": {},
   "outputs": [
    {
     "data": {
      "application/vnd.jupyter.widget-view+json": {
       "model_id": "010daca97f3f4107ab0965fe07ef34b1",
       "version_major": 2,
       "version_minor": 0
      },
      "text/plain": [
       "  0%|          | 0/8 [00:00<?, ?it/s]"
      ]
     },
     "metadata": {},
     "output_type": "display_data"
    },
    {
     "name": "stdout",
     "output_type": "stream",
     "text": [
      "Cantidad de registros: 3202225\n",
      "\n",
      "Cantidad de nulos: \n",
      "cat_periodo                0\n",
      "codigo_unico               0\n",
      "mrun                       0\n",
      "gen_alu                    0\n",
      "fec_nac_alu                0\n",
      "anio_ing_carr_ori          0\n",
      "tipo_inst_1                0\n",
      "jornada                    0\n",
      "dur_estudio_carr           0\n",
      "dur_proceso_tit           17\n",
      "region_sede                0\n",
      "formato_valores      2869432\n",
      "valor_arancel            144\n",
      "area_conocimiento          0\n",
      "acreditada_carr            0\n",
      "acreditada_inst            0\n",
      "dtype: int64\n"
     ]
    },
    {
     "data": {
      "text/html": [
       "<div>\n",
       "<style scoped>\n",
       "    .dataframe tbody tr th:only-of-type {\n",
       "        vertical-align: middle;\n",
       "    }\n",
       "\n",
       "    .dataframe tbody tr th {\n",
       "        vertical-align: top;\n",
       "    }\n",
       "\n",
       "    .dataframe thead th {\n",
       "        text-align: right;\n",
       "    }\n",
       "</style>\n",
       "<table border=\"1\" class=\"dataframe\">\n",
       "  <thead>\n",
       "    <tr style=\"text-align: right;\">\n",
       "      <th></th>\n",
       "      <th>cat_periodo</th>\n",
       "      <th>codigo_unico</th>\n",
       "      <th>mrun</th>\n",
       "      <th>gen_alu</th>\n",
       "      <th>fec_nac_alu</th>\n",
       "      <th>anio_ing_carr_ori</th>\n",
       "      <th>tipo_inst_1</th>\n",
       "      <th>jornada</th>\n",
       "      <th>dur_estudio_carr</th>\n",
       "      <th>dur_proceso_tit</th>\n",
       "      <th>region_sede</th>\n",
       "      <th>formato_valores</th>\n",
       "      <th>valor_arancel</th>\n",
       "      <th>area_conocimiento</th>\n",
       "      <th>acreditada_carr</th>\n",
       "      <th>acreditada_inst</th>\n",
       "    </tr>\n",
       "  </thead>\n",
       "  <tbody>\n",
       "    <tr>\n",
       "      <th>0</th>\n",
       "      <td>2015</td>\n",
       "      <td>I374S1C9J1V1</td>\n",
       "      <td>5.0</td>\n",
       "      <td>2</td>\n",
       "      <td>199105</td>\n",
       "      <td>2015</td>\n",
       "      <td>Centros de Formación Técnica</td>\n",
       "      <td>Diurno</td>\n",
       "      <td>5</td>\n",
       "      <td>1.0</td>\n",
       "      <td>Metropolitana</td>\n",
       "      <td>NaN</td>\n",
       "      <td>909000.0</td>\n",
       "      <td>Salud</td>\n",
       "      <td>NO ACREDITADA</td>\n",
       "      <td>ACREDITADA</td>\n",
       "    </tr>\n",
       "    <tr>\n",
       "      <th>1</th>\n",
       "      <td>2015</td>\n",
       "      <td>I498S6C132J2V1</td>\n",
       "      <td>37.0</td>\n",
       "      <td>1</td>\n",
       "      <td>197808</td>\n",
       "      <td>2015</td>\n",
       "      <td>Centros de Formación Técnica</td>\n",
       "      <td>Vespertino</td>\n",
       "      <td>5</td>\n",
       "      <td>1.0</td>\n",
       "      <td>Biobío</td>\n",
       "      <td>NaN</td>\n",
       "      <td>820000.0</td>\n",
       "      <td>Tecnología</td>\n",
       "      <td>NO ACREDITADA</td>\n",
       "      <td>ACREDITADA</td>\n",
       "    </tr>\n",
       "    <tr>\n",
       "      <th>3</th>\n",
       "      <td>2015</td>\n",
       "      <td>I111S14C309J2V1</td>\n",
       "      <td>118.0</td>\n",
       "      <td>1</td>\n",
       "      <td>199102</td>\n",
       "      <td>2015</td>\n",
       "      <td>Institutos Profesionales</td>\n",
       "      <td>Vespertino</td>\n",
       "      <td>5</td>\n",
       "      <td>1.0</td>\n",
       "      <td>Metropolitana</td>\n",
       "      <td>NaN</td>\n",
       "      <td>1390000.0</td>\n",
       "      <td>Administración y Comercio</td>\n",
       "      <td>ACREDITADA</td>\n",
       "      <td>ACREDITADA</td>\n",
       "    </tr>\n",
       "    <tr>\n",
       "      <th>6</th>\n",
       "      <td>2015</td>\n",
       "      <td>I106S3C64J4V1</td>\n",
       "      <td>253.0</td>\n",
       "      <td>1</td>\n",
       "      <td>198404</td>\n",
       "      <td>2015</td>\n",
       "      <td>Institutos Profesionales</td>\n",
       "      <td>A Distancia</td>\n",
       "      <td>5</td>\n",
       "      <td>1.0</td>\n",
       "      <td>Metropolitana</td>\n",
       "      <td>NaN</td>\n",
       "      <td>920000.0</td>\n",
       "      <td>Administración y Comercio</td>\n",
       "      <td>NO ACREDITADA</td>\n",
       "      <td>NO ACREDITADA</td>\n",
       "    </tr>\n",
       "    <tr>\n",
       "      <th>8</th>\n",
       "      <td>2015</td>\n",
       "      <td>I221S1C57J1V1</td>\n",
       "      <td>370.0</td>\n",
       "      <td>2</td>\n",
       "      <td>198910</td>\n",
       "      <td>2015</td>\n",
       "      <td>Centros de Formación Técnica</td>\n",
       "      <td>Diurno</td>\n",
       "      <td>5</td>\n",
       "      <td>1.0</td>\n",
       "      <td>Metropolitana</td>\n",
       "      <td>NaN</td>\n",
       "      <td>1880000.0</td>\n",
       "      <td>Administración y Comercio</td>\n",
       "      <td>ACREDITADA</td>\n",
       "      <td>ACREDITADA</td>\n",
       "    </tr>\n",
       "  </tbody>\n",
       "</table>\n",
       "</div>"
      ],
      "text/plain": [
       "   cat_periodo     codigo_unico   mrun  gen_alu  fec_nac_alu  \\\n",
       "0         2015     I374S1C9J1V1    5.0        2       199105   \n",
       "1         2015   I498S6C132J2V1   37.0        1       197808   \n",
       "3         2015  I111S14C309J2V1  118.0        1       199102   \n",
       "6         2015    I106S3C64J4V1  253.0        1       198404   \n",
       "8         2015    I221S1C57J1V1  370.0        2       198910   \n",
       "\n",
       "   anio_ing_carr_ori                   tipo_inst_1      jornada  \\\n",
       "0               2015  Centros de Formación Técnica       Diurno   \n",
       "1               2015  Centros de Formación Técnica   Vespertino   \n",
       "3               2015      Institutos Profesionales   Vespertino   \n",
       "6               2015      Institutos Profesionales  A Distancia   \n",
       "8               2015  Centros de Formación Técnica       Diurno   \n",
       "\n",
       "   dur_estudio_carr  dur_proceso_tit    region_sede formato_valores  \\\n",
       "0                 5              1.0  Metropolitana             NaN   \n",
       "1                 5              1.0         Biobío             NaN   \n",
       "3                 5              1.0  Metropolitana             NaN   \n",
       "6                 5              1.0  Metropolitana             NaN   \n",
       "8                 5              1.0  Metropolitana             NaN   \n",
       "\n",
       "   valor_arancel          area_conocimiento acreditada_carr acreditada_inst  \n",
       "0       909000.0                      Salud   NO ACREDITADA      ACREDITADA  \n",
       "1       820000.0                 Tecnología   NO ACREDITADA      ACREDITADA  \n",
       "3      1390000.0  Administración y Comercio      ACREDITADA      ACREDITADA  \n",
       "6       920000.0  Administración y Comercio   NO ACREDITADA   NO ACREDITADA  \n",
       "8      1880000.0  Administración y Comercio      ACREDITADA      ACREDITADA  "
      ]
     },
     "execution_count": 4,
     "metadata": {},
     "output_type": "execute_result"
    }
   ],
   "source": [
    "cols_mat = [\n",
    "    'cat_periodo', 'codigo_unico', 'mrun', 'tipo_inst_1', \n",
    "    'gen_alu', 'fec_nac_alu', 'area_conocimiento', 'region_sede',\n",
    "    \"anio_ing_carr_ori\",  \"valor_arancel\", \"acreditada_carr\", \"acreditada_inst\",\n",
    "    \"jornada\", \"dur_estudio_carr\", \"dur_proceso_tit\", \"formato_valores\"\n",
    "\n",
    "]\n",
    "\n",
    "instituciones = ['Institutos Profesionales', 'Centros de Formación Técnica']\n",
    "\n",
    "matriculados = pd.concat([\n",
    "    iter_df_read(f, \"tipo_inst_1\", instituciones, sep=\";\", usecols=cols_mat)\n",
    "    for f in tqdm(\n",
    "        glob(f\"{BASE}/raw_data/post_2015/20220719_Matrícula_Ed_Superior_*.csv\"),\n",
    "        total=8\n",
    "    )\n",
    "]).dropna(subset=\"mrun\").drop_duplicates().reset_index(drop=True)\n",
    "\n",
    "matriculados = matriculados[\n",
    "    (matriculados[\"anio_ing_carr_ori\"] >= 2015)\n",
    "    & (matriculados[\"anio_ing_carr_ori\"] < 2022)\n",
    "]\n",
    "\n",
    "print(f\"Cantidad de registros: {matriculados.shape[0]}\\n\")\n",
    "print(f\"Cantidad de nulos: \\n{matriculados.isna().sum()}\")\n",
    "matriculados.head()"
   ]
  },
  {
   "cell_type": "code",
   "execution_count": 38,
   "id": "3a15a137",
   "metadata": {},
   "outputs": [],
   "source": [
    "matriculados[\"formato_valores\"] = matriculados[\"formato_valores\"].fillna('Monto en Pesos')"
   ]
  },
  {
   "cell_type": "code",
   "execution_count": 39,
   "id": "36491e90",
   "metadata": {},
   "outputs": [
    {
     "data": {
      "text/plain": [
       "((3202225, 16), (2778928, 4), (3202225, 17))"
      ]
     },
     "execution_count": 39,
     "metadata": {},
     "output_type": "execute_result"
    }
   ],
   "source": [
    "mat_des = pd.merge(\n",
    "    matriculados,\n",
    "    desertores_1,\n",
    "    how=\"left\"\n",
    ")\n",
    "\n",
    "matriculados.shape, desertores_1.shape, mat_des.shape"
   ]
  },
  {
   "cell_type": "code",
   "execution_count": 40,
   "id": "c8cd8b0d",
   "metadata": {},
   "outputs": [
    {
     "data": {
      "text/plain": [
       "2022    332793\n",
       "2019     24028\n",
       "2018     23051\n",
       "2020     21665\n",
       "2021     20556\n",
       "2017     19280\n",
       "2016     10887\n",
       "2015      3311\n",
       "Name: cat_periodo, dtype: int64"
      ]
     },
     "execution_count": 40,
     "metadata": {},
     "output_type": "execute_result"
    }
   ],
   "source": [
    "mat_des[mat_des[\"desertor_1\"].isna()][\"cat_periodo\"].value_counts()"
   ]
  },
  {
   "cell_type": "code",
   "execution_count": 41,
   "id": "a5ee8fad",
   "metadata": {},
   "outputs": [],
   "source": [
    "mat_des = mat_des.dropna().reset_index(drop=True)"
   ]
  },
  {
   "cell_type": "markdown",
   "id": "32b99b5b",
   "metadata": {},
   "source": [
    "## Colegios\n",
    "\n",
    "### Egresados EM"
   ]
  },
  {
   "cell_type": "code",
   "execution_count": 43,
   "id": "a8e839cc",
   "metadata": {},
   "outputs": [
    {
     "data": {
      "application/vnd.jupyter.widget-view+json": {
       "model_id": "d8fa97b593e5403bafeb4284c0e5807b",
       "version_major": 2,
       "version_minor": 0
      },
      "text/plain": [
       "  0%|          | 0/20 [00:00<?, ?it/s]"
      ]
     },
     "metadata": {},
     "output_type": "display_data"
    }
   ],
   "source": [
    "cols_egreso_col = [\n",
    "    'MRUN', 'PROM_NOTAS_ALU', 'COD_REG_RBD', 'RBD', 'COD_ENSE', 'COD_GRADO', \"AGNO\"\n",
    "]\n",
    "\n",
    "egreso_colegio_todos = pd.concat([\n",
    "    iter_df_read(f, \"MRUN\", mat_des[\"mrun\"].unique(), sep=\";\", usecols=cols_egreso_col)\n",
    "    for f in tqdm(\n",
    "        glob(f\"{BASE}raw_data/egresados_colegios/20220325_Notas_y_Egresados_Enseñanza_Media_*.csv\"),\n",
    "        total=20\n",
    "    )\n",
    "]).dropna(subset=\"MRUN\").drop_duplicates().reset_index(drop=True).rename(\n",
    "   columns={\"MRUN\": \"mrun\"}\n",
    ")"
   ]
  },
  {
   "cell_type": "code",
   "execution_count": 45,
   "id": "89feaab4",
   "metadata": {},
   "outputs": [
    {
     "name": "stdout",
     "output_type": "stream",
     "text": [
      "(3546930, 7) (996543, 8)\n",
      "Cantidad de registros: 996543\n",
      "\n",
      "Cantidad de nulos: \n",
      "AGNO                0\n",
      "RBD                 0\n",
      "COD_REG_RBD         0\n",
      "COD_ENSE            0\n",
      "COD_GRADO           0\n",
      "mrun                0\n",
      "PROM_NOTAS_ALU      0\n",
      "prom_notas_media    0\n",
      "dtype: int64\n"
     ]
    },
    {
     "data": {
      "text/html": [
       "<div>\n",
       "<style scoped>\n",
       "    .dataframe tbody tr th:only-of-type {\n",
       "        vertical-align: middle;\n",
       "    }\n",
       "\n",
       "    .dataframe tbody tr th {\n",
       "        vertical-align: top;\n",
       "    }\n",
       "\n",
       "    .dataframe thead th {\n",
       "        text-align: right;\n",
       "    }\n",
       "</style>\n",
       "<table border=\"1\" class=\"dataframe\">\n",
       "  <thead>\n",
       "    <tr style=\"text-align: right;\">\n",
       "      <th></th>\n",
       "      <th>AGNO</th>\n",
       "      <th>RBD</th>\n",
       "      <th>COD_REG_RBD</th>\n",
       "      <th>COD_ENSE</th>\n",
       "      <th>COD_GRADO</th>\n",
       "      <th>mrun</th>\n",
       "      <th>PROM_NOTAS_ALU</th>\n",
       "      <th>prom_notas_media</th>\n",
       "    </tr>\n",
       "  </thead>\n",
       "  <tbody>\n",
       "    <tr>\n",
       "      <th>0</th>\n",
       "      <td>2017</td>\n",
       "      <td>10780</td>\n",
       "      <td>13</td>\n",
       "      <td>363</td>\n",
       "      <td>4</td>\n",
       "      <td>25581603</td>\n",
       "      <td>6.3</td>\n",
       "      <td>6.300</td>\n",
       "    </tr>\n",
       "    <tr>\n",
       "      <th>1</th>\n",
       "      <td>2015</td>\n",
       "      <td>2375</td>\n",
       "      <td>6</td>\n",
       "      <td>310</td>\n",
       "      <td>4</td>\n",
       "      <td>17321610</td>\n",
       "      <td>6.3</td>\n",
       "      <td>6.375</td>\n",
       "    </tr>\n",
       "    <tr>\n",
       "      <th>2</th>\n",
       "      <td>2015</td>\n",
       "      <td>9781</td>\n",
       "      <td>13</td>\n",
       "      <td>610</td>\n",
       "      <td>4</td>\n",
       "      <td>17321154</td>\n",
       "      <td>5.2</td>\n",
       "      <td>4.850</td>\n",
       "    </tr>\n",
       "    <tr>\n",
       "      <th>3</th>\n",
       "      <td>2015</td>\n",
       "      <td>40298</td>\n",
       "      <td>4</td>\n",
       "      <td>310</td>\n",
       "      <td>4</td>\n",
       "      <td>17321338</td>\n",
       "      <td>5.1</td>\n",
       "      <td>5.200</td>\n",
       "    </tr>\n",
       "    <tr>\n",
       "      <th>4</th>\n",
       "      <td>2009</td>\n",
       "      <td>9985</td>\n",
       "      <td>13</td>\n",
       "      <td>410</td>\n",
       "      <td>4</td>\n",
       "      <td>12817410</td>\n",
       "      <td>4.7</td>\n",
       "      <td>4.525</td>\n",
       "    </tr>\n",
       "  </tbody>\n",
       "</table>\n",
       "</div>"
      ],
      "text/plain": [
       "   AGNO    RBD COD_REG_RBD  COD_ENSE  COD_GRADO      mrun  PROM_NOTAS_ALU  \\\n",
       "0  2017  10780          13       363          4  25581603             6.3   \n",
       "1  2015   2375           6       310          4  17321610             6.3   \n",
       "2  2015   9781          13       610          4  17321154             5.2   \n",
       "3  2015  40298           4       310          4  17321338             5.1   \n",
       "4  2009   9985          13       410          4  12817410             4.7   \n",
       "\n",
       "   prom_notas_media  \n",
       "0             6.300  \n",
       "1             6.375  \n",
       "2             4.850  \n",
       "3             5.200  \n",
       "4             4.525  "
      ]
     },
     "execution_count": 45,
     "metadata": {},
     "output_type": "execute_result"
    }
   ],
   "source": [
    "egreso_colegio_todos[\"PROM_NOTAS_ALU\"] = egreso_colegio_todos[\"PROM_NOTAS_ALU\"].str.replace(\",\", \".\").astype(float)\n",
    "\n",
    "prom_notas = egreso_colegio_todos.groupby([\"mrun\"]).agg({\n",
    "    \"PROM_NOTAS_ALU\": \"mean\"\n",
    "}).reset_index().rename(columns={\n",
    "    \"PROM_NOTAS_ALU\": \"prom_notas_media\"\n",
    "})\n",
    "\n",
    "egreso_colegio = pd.merge(\n",
    "    egreso_colegio_todos,\n",
    "    prom_notas,\n",
    "    how=\"left\"\n",
    ").sort_values(\n",
    "    by=[\"COD_GRADO\"], ascending=False\n",
    ").drop_duplicates(\n",
    "    subset=[\"mrun\"], keep=\"first\"\n",
    ").reset_index(drop=True)\n",
    "\n",
    "print(egreso_colegio_todos.shape, egreso_colegio.shape)\n",
    "print(f\"Cantidad de registros: {egreso_colegio.shape[0]}\\n\")\n",
    "print(f\"Cantidad de nulos: \\n{egreso_colegio.isna().sum()}\")\n",
    "egreso_colegio.head()"
   ]
  },
  {
   "cell_type": "markdown",
   "id": "d75f6e7f",
   "metadata": {},
   "source": [
    "### Establecimientos\n",
    "https://datosabiertos.mineduc.cl/directorio-de-establecimientos-educacionales/\n",
    "\n",
    "- Se modificó los nombres de columnas manualmente en los casos que no coincidían.\n",
    "- Además, en los archivos antiguos, se agregó la columna para el año.\n",
    "- Los archivos que venían como xlsx se guardaron de nuevo como xls para facilitar la carga."
   ]
  },
  {
   "cell_type": "code",
   "execution_count": 46,
   "id": "e1bc93df",
   "metadata": {},
   "outputs": [
    {
     "data": {
      "application/vnd.jupyter.widget-view+json": {
       "model_id": "3013190223c5400cac847638797a0e57",
       "version_major": 2,
       "version_minor": 0
      },
      "text/plain": [
       "  0%|          | 0/13 [00:00<?, ?it/s]"
      ]
     },
     "metadata": {},
     "output_type": "display_data"
    },
    {
     "name": "stdout",
     "output_type": "stream",
     "text": [
      "Cantidad de registros: 48767\n",
      "\n",
      "Cantidad de nulos: \n",
      "rbd         0\n",
      "cod_depe    0\n",
      "agno        0\n",
      "dtype: int64\n"
     ]
    },
    {
     "data": {
      "text/html": [
       "<div>\n",
       "<style scoped>\n",
       "    .dataframe tbody tr th:only-of-type {\n",
       "        vertical-align: middle;\n",
       "    }\n",
       "\n",
       "    .dataframe tbody tr th {\n",
       "        vertical-align: top;\n",
       "    }\n",
       "\n",
       "    .dataframe thead th {\n",
       "        text-align: right;\n",
       "    }\n",
       "</style>\n",
       "<table border=\"1\" class=\"dataframe\">\n",
       "  <thead>\n",
       "    <tr style=\"text-align: right;\">\n",
       "      <th></th>\n",
       "      <th>rbd</th>\n",
       "      <th>cod_depe</th>\n",
       "      <th>agno</th>\n",
       "    </tr>\n",
       "  </thead>\n",
       "  <tbody>\n",
       "    <tr>\n",
       "      <th>0</th>\n",
       "      <td>1</td>\n",
       "      <td>2</td>\n",
       "      <td>2004</td>\n",
       "    </tr>\n",
       "    <tr>\n",
       "      <th>1</th>\n",
       "      <td>3</td>\n",
       "      <td>2</td>\n",
       "      <td>2004</td>\n",
       "    </tr>\n",
       "    <tr>\n",
       "      <th>2</th>\n",
       "      <td>4</td>\n",
       "      <td>2</td>\n",
       "      <td>2004</td>\n",
       "    </tr>\n",
       "    <tr>\n",
       "      <th>3</th>\n",
       "      <td>5</td>\n",
       "      <td>2</td>\n",
       "      <td>2004</td>\n",
       "    </tr>\n",
       "    <tr>\n",
       "      <th>4</th>\n",
       "      <td>7</td>\n",
       "      <td>2</td>\n",
       "      <td>2004</td>\n",
       "    </tr>\n",
       "  </tbody>\n",
       "</table>\n",
       "</div>"
      ],
      "text/plain": [
       "   rbd  cod_depe  agno\n",
       "0    1         2  2004\n",
       "1    3         2  2004\n",
       "2    4         2  2004\n",
       "3    5         2  2004\n",
       "4    7         2  2004"
      ]
     },
     "execution_count": 46,
     "metadata": {},
     "output_type": "execute_result"
    }
   ],
   "source": [
    "establecimientos_04_16 = pd.concat([\n",
    "    pd.read_csv(f, sep=\";\").rename(columns={\n",
    "        \"RBD\":\"rbd\",\n",
    "        \"COD_DEPE\":\"cod_depe\",\n",
    "        \"AGNO\": \"agno\",\n",
    "        \"ïagno\": \"agno\"\n",
    "    })\n",
    "    for f in tqdm(\n",
    "        glob(f\"{BASE}raw_data/directorio_colegios/Directorio_oficial_*.csv\"),\n",
    "        total=13\n",
    "    )\n",
    "])[[\n",
    "    \"rbd\", \"cod_depe\", \"agno\"\n",
    "]].dropna()\n",
    "\n",
    "establecimientos_04_16 = establecimientos_04_16[\n",
    "    establecimientos_04_16[\"rbd\"].isin(egreso_colegio[\"RBD\"].unique())\n",
    "].drop_duplicates().reset_index(drop=True)\n",
    "\n",
    "print(f\"Cantidad de registros: {establecimientos_04_16.shape[0]}\\n\")\n",
    "print(f\"Cantidad de nulos: \\n{establecimientos_04_16.isna().sum()}\")\n",
    "establecimientos_04_16.head()"
   ]
  },
  {
   "cell_type": "code",
   "execution_count": 47,
   "id": "182ec727",
   "metadata": {},
   "outputs": [
    {
     "data": {
      "application/vnd.jupyter.widget-view+json": {
       "model_id": "445371fed3974e4a9ae323fb46360325",
       "version_major": 2,
       "version_minor": 0
      },
      "text/plain": [
       "  0%|          | 0/5 [00:00<?, ?it/s]"
      ]
     },
     "metadata": {},
     "output_type": "display_data"
    },
    {
     "name": "stdout",
     "output_type": "stream",
     "text": [
      "Cantidad de registros: 21248\n",
      "\n",
      "Cantidad de nulos: \n",
      "rbd         0\n",
      "cod_depe    0\n",
      "agno        0\n",
      "dtype: int64\n"
     ]
    },
    {
     "name": "stderr",
     "output_type": "stream",
     "text": [
      "/tmp/ipykernel_4827/642544561.py:2: DtypeWarning: Columns (6,9,12,14,19,39) have mixed types. Specify dtype option on import or set low_memory=False.\n",
      "  pd.read_csv(f).rename(columns={\n"
     ]
    },
    {
     "data": {
      "text/html": [
       "<div>\n",
       "<style scoped>\n",
       "    .dataframe tbody tr th:only-of-type {\n",
       "        vertical-align: middle;\n",
       "    }\n",
       "\n",
       "    .dataframe tbody tr th {\n",
       "        vertical-align: top;\n",
       "    }\n",
       "\n",
       "    .dataframe thead th {\n",
       "        text-align: right;\n",
       "    }\n",
       "</style>\n",
       "<table border=\"1\" class=\"dataframe\">\n",
       "  <thead>\n",
       "    <tr style=\"text-align: right;\">\n",
       "      <th></th>\n",
       "      <th>rbd</th>\n",
       "      <th>cod_depe</th>\n",
       "      <th>agno</th>\n",
       "    </tr>\n",
       "  </thead>\n",
       "  <tbody>\n",
       "    <tr>\n",
       "      <th>0</th>\n",
       "      <td>1</td>\n",
       "      <td>2</td>\n",
       "      <td>2017</td>\n",
       "    </tr>\n",
       "    <tr>\n",
       "      <th>1</th>\n",
       "      <td>3</td>\n",
       "      <td>2</td>\n",
       "      <td>2017</td>\n",
       "    </tr>\n",
       "    <tr>\n",
       "      <th>2</th>\n",
       "      <td>4</td>\n",
       "      <td>2</td>\n",
       "      <td>2017</td>\n",
       "    </tr>\n",
       "    <tr>\n",
       "      <th>3</th>\n",
       "      <td>5</td>\n",
       "      <td>2</td>\n",
       "      <td>2017</td>\n",
       "    </tr>\n",
       "    <tr>\n",
       "      <th>4</th>\n",
       "      <td>7</td>\n",
       "      <td>2</td>\n",
       "      <td>2017</td>\n",
       "    </tr>\n",
       "  </tbody>\n",
       "</table>\n",
       "</div>"
      ],
      "text/plain": [
       "   rbd cod_depe  agno\n",
       "0    1        2  2017\n",
       "1    3        2  2017\n",
       "2    4        2  2017\n",
       "3    5        2  2017\n",
       "4    7        2  2017"
      ]
     },
     "execution_count": 47,
     "metadata": {},
     "output_type": "execute_result"
    }
   ],
   "source": [
    "establecimientos_17_21 = pd.concat([\n",
    "    pd.read_csv(f).rename(columns={\n",
    "        \"RBD\":\"rbd\",\n",
    "        \"COD_DEPE\":\"cod_depe\",\n",
    "        \"AGNO\": \"agno\",\n",
    "        \"ïagno\": \"agno\"\n",
    "    })\n",
    "    for f in tqdm(\n",
    "        glob(f\"{BASE}raw_data/directorio_colegios/Directorio_Oficial_*.csv\"),\n",
    "        total=5\n",
    "    )\n",
    "])[[\n",
    "    \"rbd\", \"cod_depe\", \"agno\"\n",
    "]].dropna()\n",
    "\n",
    "establecimientos_17_21 = establecimientos_17_21[\n",
    "    establecimientos_17_21[\"rbd\"].isin(egreso_colegio[\"RBD\"].unique())\n",
    "].drop_duplicates().reset_index(drop=True)\n",
    "\n",
    "print(f\"Cantidad de registros: {establecimientos_17_21.shape[0]}\\n\")\n",
    "print(f\"Cantidad de nulos: \\n{establecimientos_17_21.isna().sum()}\")\n",
    "establecimientos_17_21.head()"
   ]
  },
  {
   "cell_type": "code",
   "execution_count": 48,
   "id": "fdc11929",
   "metadata": {},
   "outputs": [
    {
     "data": {
      "application/vnd.jupyter.widget-view+json": {
       "model_id": "c2211168ab31425abf926392a70539ec",
       "version_major": 2,
       "version_minor": 0
      },
      "text/plain": [
       "  0%|          | 0/12 [00:00<?, ?it/s]"
      ]
     },
     "metadata": {},
     "output_type": "display_data"
    },
    {
     "name": "stdout",
     "output_type": "stream",
     "text": [
      "Cantidad de registros: 33573\n",
      "\n",
      "Cantidad de nulos: \n",
      "rbd         0\n",
      "cod_depe    0\n",
      "agno        0\n",
      "dtype: int64\n"
     ]
    },
    {
     "data": {
      "text/html": [
       "<div>\n",
       "<style scoped>\n",
       "    .dataframe tbody tr th:only-of-type {\n",
       "        vertical-align: middle;\n",
       "    }\n",
       "\n",
       "    .dataframe tbody tr th {\n",
       "        vertical-align: top;\n",
       "    }\n",
       "\n",
       "    .dataframe thead th {\n",
       "        text-align: right;\n",
       "    }\n",
       "</style>\n",
       "<table border=\"1\" class=\"dataframe\">\n",
       "  <thead>\n",
       "    <tr style=\"text-align: right;\">\n",
       "      <th></th>\n",
       "      <th>rbd</th>\n",
       "      <th>cod_depe</th>\n",
       "      <th>agno</th>\n",
       "    </tr>\n",
       "  </thead>\n",
       "  <tbody>\n",
       "    <tr>\n",
       "      <th>0</th>\n",
       "      <td>1</td>\n",
       "      <td>2</td>\n",
       "      <td>1992</td>\n",
       "    </tr>\n",
       "    <tr>\n",
       "      <th>1</th>\n",
       "      <td>3</td>\n",
       "      <td>2</td>\n",
       "      <td>1992</td>\n",
       "    </tr>\n",
       "    <tr>\n",
       "      <th>2</th>\n",
       "      <td>4</td>\n",
       "      <td>2</td>\n",
       "      <td>1992</td>\n",
       "    </tr>\n",
       "    <tr>\n",
       "      <th>3</th>\n",
       "      <td>5</td>\n",
       "      <td>2</td>\n",
       "      <td>1992</td>\n",
       "    </tr>\n",
       "    <tr>\n",
       "      <th>4</th>\n",
       "      <td>7</td>\n",
       "      <td>2</td>\n",
       "      <td>1992</td>\n",
       "    </tr>\n",
       "  </tbody>\n",
       "</table>\n",
       "</div>"
      ],
      "text/plain": [
       "   rbd  cod_depe  agno\n",
       "0    1         2  1992\n",
       "1    3         2  1992\n",
       "2    4         2  1992\n",
       "3    5         2  1992\n",
       "4    7         2  1992"
      ]
     },
     "execution_count": 48,
     "metadata": {},
     "output_type": "execute_result"
    }
   ],
   "source": [
    "establecimientos_antiguos = pd.concat([\n",
    "    pd.read_excel(f).rename(columns={\n",
    "        \"RBD\":\"rbd\",\n",
    "        \"COD_DEPE\":\"cod_depe\",\n",
    "        \"ANO\": \"agno\"\n",
    "    })\n",
    "    for f in tqdm(\n",
    "        glob(f\"{BASE}raw_data/directorio_colegios/*.xls\"),\n",
    "        total=12\n",
    "    )\n",
    "])[[\n",
    "    \"rbd\", \"cod_depe\", \"agno\"\n",
    "]].dropna()\n",
    "\n",
    "establecimientos_antiguos = establecimientos_antiguos[\n",
    "    establecimientos_antiguos[\"rbd\"].isin(egreso_colegio[\"RBD\"].unique())\n",
    "].drop_duplicates().reset_index(drop=True)\n",
    "\n",
    "print(f\"Cantidad de registros: {establecimientos_antiguos.shape[0]}\\n\")\n",
    "print(f\"Cantidad de nulos: \\n{establecimientos_antiguos.isna().sum()}\")\n",
    "establecimientos_antiguos.head()"
   ]
  },
  {
   "cell_type": "code",
   "execution_count": 49,
   "id": "b4db3de7",
   "metadata": {},
   "outputs": [
    {
     "data": {
      "text/plain": [
       "rbd         0\n",
       "cod_depe    0\n",
       "agno        0\n",
       "dtype: int64"
      ]
     },
     "execution_count": 49,
     "metadata": {},
     "output_type": "execute_result"
    }
   ],
   "source": [
    "establecimientos_antiguos.isna().sum()"
   ]
  },
  {
   "cell_type": "code",
   "execution_count": 50,
   "id": "d0580257",
   "metadata": {},
   "outputs": [
    {
     "data": {
      "text/html": [
       "<div>\n",
       "<style scoped>\n",
       "    .dataframe tbody tr th:only-of-type {\n",
       "        vertical-align: middle;\n",
       "    }\n",
       "\n",
       "    .dataframe tbody tr th {\n",
       "        vertical-align: top;\n",
       "    }\n",
       "\n",
       "    .dataframe thead th {\n",
       "        text-align: right;\n",
       "    }\n",
       "</style>\n",
       "<table border=\"1\" class=\"dataframe\">\n",
       "  <thead>\n",
       "    <tr style=\"text-align: right;\">\n",
       "      <th></th>\n",
       "      <th>rbd</th>\n",
       "      <th>cod_depe</th>\n",
       "      <th>agno</th>\n",
       "    </tr>\n",
       "  </thead>\n",
       "  <tbody>\n",
       "    <tr>\n",
       "      <th>0</th>\n",
       "      <td>1</td>\n",
       "      <td>2</td>\n",
       "      <td>2004</td>\n",
       "    </tr>\n",
       "    <tr>\n",
       "      <th>1</th>\n",
       "      <td>3</td>\n",
       "      <td>2</td>\n",
       "      <td>2004</td>\n",
       "    </tr>\n",
       "    <tr>\n",
       "      <th>2</th>\n",
       "      <td>4</td>\n",
       "      <td>2</td>\n",
       "      <td>2004</td>\n",
       "    </tr>\n",
       "    <tr>\n",
       "      <th>3</th>\n",
       "      <td>5</td>\n",
       "      <td>2</td>\n",
       "      <td>2004</td>\n",
       "    </tr>\n",
       "    <tr>\n",
       "      <th>4</th>\n",
       "      <td>7</td>\n",
       "      <td>2</td>\n",
       "      <td>2004</td>\n",
       "    </tr>\n",
       "  </tbody>\n",
       "</table>\n",
       "</div>"
      ],
      "text/plain": [
       "   rbd cod_depe  agno\n",
       "0    1        2  2004\n",
       "1    3        2  2004\n",
       "2    4        2  2004\n",
       "3    5        2  2004\n",
       "4    7        2  2004"
      ]
     },
     "execution_count": 50,
     "metadata": {},
     "output_type": "execute_result"
    }
   ],
   "source": [
    "establecimientos = pd.concat([establecimientos_04_16, establecimientos_17_21, establecimientos_antiguos])\n",
    "establecimientos.head()"
   ]
  },
  {
   "cell_type": "code",
   "execution_count": 51,
   "id": "feab2755",
   "metadata": {},
   "outputs": [
    {
     "data": {
      "text/plain": [
       "[1992,\n",
       " 1993,\n",
       " 1994,\n",
       " 1995,\n",
       " 1996,\n",
       " 1997,\n",
       " 1998,\n",
       " 1999,\n",
       " 2000,\n",
       " 2001,\n",
       " 2002,\n",
       " 2003,\n",
       " 2004,\n",
       " 2005,\n",
       " 2006,\n",
       " 2007,\n",
       " 2008,\n",
       " 2009,\n",
       " 2010,\n",
       " 2011,\n",
       " 2012,\n",
       " 2013,\n",
       " 2014,\n",
       " 2015,\n",
       " 2016,\n",
       " 2017,\n",
       " 2018,\n",
       " 2019,\n",
       " 2020,\n",
       " 2021]"
      ]
     },
     "execution_count": 51,
     "metadata": {},
     "output_type": "execute_result"
    }
   ],
   "source": [
    "sorted(establecimientos[\"agno\"].unique())"
   ]
  },
  {
   "cell_type": "code",
   "execution_count": 52,
   "id": "f543628b",
   "metadata": {},
   "outputs": [
    {
     "data": {
      "text/plain": [
       "((996543, 9), (996543, 8))"
      ]
     },
     "execution_count": 52,
     "metadata": {},
     "output_type": "execute_result"
    }
   ],
   "source": [
    "colegios = pd.merge(\n",
    "    egreso_colegio.rename(columns={\n",
    "        \"RBD\":\"rbd\",\n",
    "        \"AGNO\": \"agno\"\n",
    "    }),\n",
    "    establecimientos,\n",
    "    how=\"left\"\n",
    ").drop_duplicates().reset_index(drop=True)\n",
    "\n",
    "colegios.shape, egreso_colegio.shape"
   ]
  },
  {
   "cell_type": "code",
   "execution_count": 53,
   "id": "3c105325",
   "metadata": {},
   "outputs": [
    {
     "data": {
      "text/html": [
       "<div>\n",
       "<style scoped>\n",
       "    .dataframe tbody tr th:only-of-type {\n",
       "        vertical-align: middle;\n",
       "    }\n",
       "\n",
       "    .dataframe tbody tr th {\n",
       "        vertical-align: top;\n",
       "    }\n",
       "\n",
       "    .dataframe thead th {\n",
       "        text-align: right;\n",
       "    }\n",
       "</style>\n",
       "<table border=\"1\" class=\"dataframe\">\n",
       "  <thead>\n",
       "    <tr style=\"text-align: right;\">\n",
       "      <th></th>\n",
       "      <th>agno</th>\n",
       "      <th>rbd</th>\n",
       "      <th>COD_REG_RBD</th>\n",
       "      <th>COD_ENSE</th>\n",
       "      <th>COD_GRADO</th>\n",
       "      <th>mrun</th>\n",
       "      <th>PROM_NOTAS_ALU</th>\n",
       "      <th>prom_notas_media</th>\n",
       "      <th>cod_depe</th>\n",
       "    </tr>\n",
       "  </thead>\n",
       "  <tbody>\n",
       "    <tr>\n",
       "      <th>0</th>\n",
       "      <td>2017</td>\n",
       "      <td>10780</td>\n",
       "      <td>13</td>\n",
       "      <td>363</td>\n",
       "      <td>4</td>\n",
       "      <td>25581603</td>\n",
       "      <td>6.3</td>\n",
       "      <td>6.300</td>\n",
       "      <td>1</td>\n",
       "    </tr>\n",
       "    <tr>\n",
       "      <th>1</th>\n",
       "      <td>2015</td>\n",
       "      <td>2375</td>\n",
       "      <td>6</td>\n",
       "      <td>310</td>\n",
       "      <td>4</td>\n",
       "      <td>17321610</td>\n",
       "      <td>6.3</td>\n",
       "      <td>6.375</td>\n",
       "      <td>2</td>\n",
       "    </tr>\n",
       "    <tr>\n",
       "      <th>2</th>\n",
       "      <td>2015</td>\n",
       "      <td>9781</td>\n",
       "      <td>13</td>\n",
       "      <td>610</td>\n",
       "      <td>4</td>\n",
       "      <td>17321154</td>\n",
       "      <td>5.2</td>\n",
       "      <td>4.850</td>\n",
       "      <td>3</td>\n",
       "    </tr>\n",
       "    <tr>\n",
       "      <th>3</th>\n",
       "      <td>2015</td>\n",
       "      <td>40298</td>\n",
       "      <td>4</td>\n",
       "      <td>310</td>\n",
       "      <td>4</td>\n",
       "      <td>17321338</td>\n",
       "      <td>5.1</td>\n",
       "      <td>5.200</td>\n",
       "      <td>3</td>\n",
       "    </tr>\n",
       "    <tr>\n",
       "      <th>4</th>\n",
       "      <td>2009</td>\n",
       "      <td>9985</td>\n",
       "      <td>13</td>\n",
       "      <td>410</td>\n",
       "      <td>4</td>\n",
       "      <td>12817410</td>\n",
       "      <td>4.7</td>\n",
       "      <td>4.525</td>\n",
       "      <td>1</td>\n",
       "    </tr>\n",
       "  </tbody>\n",
       "</table>\n",
       "</div>"
      ],
      "text/plain": [
       "   agno    rbd COD_REG_RBD  COD_ENSE  COD_GRADO      mrun  PROM_NOTAS_ALU  \\\n",
       "0  2017  10780          13       363          4  25581603             6.3   \n",
       "1  2015   2375           6       310          4  17321610             6.3   \n",
       "2  2015   9781          13       610          4  17321154             5.2   \n",
       "3  2015  40298           4       310          4  17321338             5.1   \n",
       "4  2009   9985          13       410          4  12817410             4.7   \n",
       "\n",
       "   prom_notas_media cod_depe  \n",
       "0             6.300        1  \n",
       "1             6.375        2  \n",
       "2             4.850        3  \n",
       "3             5.200        3  \n",
       "4             4.525        1  "
      ]
     },
     "execution_count": 53,
     "metadata": {},
     "output_type": "execute_result"
    }
   ],
   "source": [
    "colegios.head()"
   ]
  },
  {
   "cell_type": "code",
   "execution_count": 54,
   "id": "7adbcac0",
   "metadata": {},
   "outputs": [
    {
     "data": {
      "text/plain": [
       "(3659, 9)"
      ]
     },
     "execution_count": 54,
     "metadata": {},
     "output_type": "execute_result"
    }
   ],
   "source": [
    "colegios[colegios[\"cod_depe\"].isna()].shape"
   ]
  },
  {
   "cell_type": "markdown",
   "id": "5ce96643",
   "metadata": {},
   "source": [
    "### Becas\n",
    "https://datosabiertos.mineduc.cl/asignaciones-de-becas-y-creditos-en-educacion-superior/"
   ]
  },
  {
   "cell_type": "code",
   "execution_count": 55,
   "id": "f2a0936f",
   "metadata": {},
   "outputs": [
    {
     "data": {
      "application/vnd.jupyter.widget-view+json": {
       "model_id": "cf078f86485b4d5a96a95168a11a992c",
       "version_major": 2,
       "version_minor": 0
      },
      "text/plain": [
       "  0%|          | 0/6 [00:00<?, ?it/s]"
      ]
     },
     "metadata": {},
     "output_type": "display_data"
    },
    {
     "name": "stdout",
     "output_type": "stream",
     "text": [
      "Cantidad de registros: 1712062\n",
      "\n",
      "Cantidad de nulos: \n",
      "cat_periodo            0\n",
      "mrun                   0\n",
      "BENEFICIO_BECA_FSCU    0\n",
      "dtype: int64\n"
     ]
    },
    {
     "data": {
      "text/html": [
       "<div>\n",
       "<style scoped>\n",
       "    .dataframe tbody tr th:only-of-type {\n",
       "        vertical-align: middle;\n",
       "    }\n",
       "\n",
       "    .dataframe tbody tr th {\n",
       "        vertical-align: top;\n",
       "    }\n",
       "\n",
       "    .dataframe thead th {\n",
       "        text-align: right;\n",
       "    }\n",
       "</style>\n",
       "<table border=\"1\" class=\"dataframe\">\n",
       "  <thead>\n",
       "    <tr style=\"text-align: right;\">\n",
       "      <th></th>\n",
       "      <th>cat_periodo</th>\n",
       "      <th>mrun</th>\n",
       "      <th>BENEFICIO_BECA_FSCU</th>\n",
       "    </tr>\n",
       "  </thead>\n",
       "  <tbody>\n",
       "    <tr>\n",
       "      <th>0</th>\n",
       "      <td>2015</td>\n",
       "      <td>370</td>\n",
       "      <td>BNM</td>\n",
       "    </tr>\n",
       "    <tr>\n",
       "      <th>1</th>\n",
       "      <td>2015</td>\n",
       "      <td>598</td>\n",
       "      <td>BNM</td>\n",
       "    </tr>\n",
       "    <tr>\n",
       "      <th>2</th>\n",
       "      <td>2015</td>\n",
       "      <td>1118</td>\n",
       "      <td>BNM</td>\n",
       "    </tr>\n",
       "    <tr>\n",
       "      <th>3</th>\n",
       "      <td>2015</td>\n",
       "      <td>1177</td>\n",
       "      <td>BNM</td>\n",
       "    </tr>\n",
       "    <tr>\n",
       "      <th>4</th>\n",
       "      <td>2015</td>\n",
       "      <td>1434</td>\n",
       "      <td>BNM</td>\n",
       "    </tr>\n",
       "  </tbody>\n",
       "</table>\n",
       "</div>"
      ],
      "text/plain": [
       "   cat_periodo  mrun BENEFICIO_BECA_FSCU\n",
       "0         2015   370                 BNM\n",
       "1         2015   598                 BNM\n",
       "2         2015  1118                 BNM\n",
       "3         2015  1177                 BNM\n",
       "4         2015  1434                 BNM"
      ]
     },
     "execution_count": 55,
     "metadata": {},
     "output_type": "execute_result"
    }
   ],
   "source": [
    "becas = pd.concat([\n",
    "    pd.read_csv(f, sep=\";\")\n",
    "    for f in tqdm(\n",
    "        glob(f\"{BASE}raw_data/becas_post_2015/Asignacion*.csv\"),\n",
    "        total=6\n",
    "    )\n",
    "]).drop(columns=[\n",
    "    \"TIPO_ALUMNO\"\n",
    "]).rename(columns={\n",
    "    \"ANIO_BENEFICIO\": \"cat_periodo\",\n",
    "    \"MRUN\": \"mrun\"\n",
    "})\n",
    "\n",
    "becas = becas[\n",
    "    becas[\"mrun\"].isin(matriculados[\"mrun\"].unique())\n",
    "].drop_duplicates().reset_index(drop=True)\n",
    "\n",
    "print(f\"Cantidad de registros: {becas.shape[0]}\\n\")\n",
    "print(f\"Cantidad de nulos: \\n{becas.isna().sum()}\")\n",
    "becas.head()"
   ]
  },
  {
   "cell_type": "raw",
   "id": "a05b6f17",
   "metadata": {},
   "source": [
    "# Segunda iteración\n",
    "cant_becas = becas.groupby([\"cat_periodo\", \"mrun\"])[\"BENEFICIO_BECA_FSCU\"].size().reset_index(name=\"cant_becas\")\n",
    "cant_becas.sort_values(by=[\"cant_becas\"], ascending=False)"
   ]
  },
  {
   "cell_type": "code",
   "execution_count": 56,
   "id": "dbfc207a",
   "metadata": {},
   "outputs": [
    {
     "name": "stdout",
     "output_type": "stream",
     "text": [
      "0    1701930\n",
      "1      10132\n",
      "Name: fscu, dtype: int64\n",
      "0    893392\n",
      "1    818670\n",
      "Name: gratuidad, dtype: int64\n",
      "1    883260\n",
      "0    828802\n",
      "Name: beca, dtype: int64\n"
     ]
    }
   ],
   "source": [
    "# Tercera iteración\n",
    "becas[\"fscu\"] = np.where(becas[\"BENEFICIO_BECA_FSCU\"] == \"FSCU\", 1, 0)\n",
    "becas[\"gratuidad\"] = np.where(becas[\"BENEFICIO_BECA_FSCU\"] == \"GRATUIDAD\", 1, 0)\n",
    "becas[\"beca\"] = np.where(~becas[\"BENEFICIO_BECA_FSCU\"].isin([\"FSCU\", \"GRATUIDAD\"]), 1, 0)\n",
    "\n",
    "# 1712062\n",
    "print(becas[\"fscu\"].value_counts())\n",
    "print(becas[\"gratuidad\"].value_counts())\n",
    "print(becas[\"beca\"].value_counts())"
   ]
  },
  {
   "cell_type": "code",
   "execution_count": 57,
   "id": "ada0a7f4",
   "metadata": {},
   "outputs": [
    {
     "name": "stdout",
     "output_type": "stream",
     "text": [
      "(1695636, 5) (1712062, 6)\n"
     ]
    }
   ],
   "source": [
    "becas_merge = becas.drop(columns=[\"BENEFICIO_BECA_FSCU\"]).drop_duplicates().groupby([\"cat_periodo\", \"mrun\"]).agg({\n",
    "    \"fscu\": \"sum\",\n",
    "    \"gratuidad\": \"sum\",\n",
    "    \"beca\": \"sum\"\n",
    "}).reset_index()\n",
    "print(becas_merge.shape, becas.shape)"
   ]
  },
  {
   "cell_type": "code",
   "execution_count": 58,
   "id": "fa18944d",
   "metadata": {},
   "outputs": [
    {
     "data": {
      "text/plain": [
       "(1, 1, 1)"
      ]
     },
     "execution_count": 58,
     "metadata": {},
     "output_type": "execute_result"
    }
   ],
   "source": [
    "becas_merge[\"fscu\"].max(), becas_merge[\"gratuidad\"].max(), becas_merge[\"beca\"].max(),"
   ]
  },
  {
   "cell_type": "markdown",
   "id": "3f078871",
   "metadata": {},
   "source": [
    "## Merge matriz 1"
   ]
  },
  {
   "cell_type": "code",
   "execution_count": 59,
   "id": "7702776f",
   "metadata": {},
   "outputs": [
    {
     "data": {
      "text/plain": [
       "((996543, 9), (2746497, 17), (2746497, 21))"
      ]
     },
     "execution_count": 59,
     "metadata": {},
     "output_type": "execute_result"
    }
   ],
   "source": [
    "matriz_1 = pd.merge(\n",
    "    mat_des,\n",
    "    colegios[[\"mrun\", \"COD_REG_RBD\", \"COD_ENSE\", \"prom_notas_media\", \"cod_depe\"]].rename(columns={\n",
    "        \"COD_REG_RBD\":\"region_colegio\",\n",
    "        \"COD_ENSE\": \"tipo_ensenanza_colegio\", #CH, tecnico, etc\n",
    "        \"cod_depe\": \"dependencia_colegio\" #municipal, subvencionado, etc\n",
    "    }),\n",
    "    how=\"left\"\n",
    ").drop_duplicates().reset_index(drop=True)\n",
    "\n",
    "colegios.shape, mat_des.shape, matriz_1.shape"
   ]
  },
  {
   "cell_type": "code",
   "execution_count": 60,
   "id": "7d3947ab",
   "metadata": {},
   "outputs": [
    {
     "data": {
      "text/plain": [
       "cat_periodo                    0\n",
       "codigo_unico                   0\n",
       "mrun                           0\n",
       "gen_alu                        0\n",
       "fec_nac_alu                    0\n",
       "anio_ing_carr_ori              0\n",
       "tipo_inst_1                    0\n",
       "jornada                        0\n",
       "dur_estudio_carr               0\n",
       "dur_proceso_tit                0\n",
       "region_sede                    0\n",
       "formato_valores                0\n",
       "valor_arancel                  0\n",
       "area_conocimiento              0\n",
       "acreditada_carr                0\n",
       "acreditada_inst                0\n",
       "desertor_1                     0\n",
       "region_colegio            349041\n",
       "tipo_ensenanza_colegio    349041\n",
       "prom_notas_media          349041\n",
       "dependencia_colegio       356773\n",
       "dtype: int64"
      ]
     },
     "execution_count": 60,
     "metadata": {},
     "output_type": "execute_result"
    }
   ],
   "source": [
    "matriz_1.isna().sum()"
   ]
  },
  {
   "cell_type": "raw",
   "id": "19ce9c89",
   "metadata": {},
   "source": [
    "matriz_1.to_csv(f\"{BASE}work_data/matriz_desercion_1.csv.gz\", index=False, compression=\"gzip\")"
   ]
  },
  {
   "cell_type": "markdown",
   "id": "d63c4b33",
   "metadata": {},
   "source": [
    "## Merge Matriz 2"
   ]
  },
  {
   "cell_type": "raw",
   "id": "630454dc",
   "metadata": {},
   "source": [
    "matriz_2 = pd.merge(\n",
    "    matriz_1,\n",
    "    cant_becas,\n",
    "    how=\"left\"\n",
    ").drop_duplicates().reset_index(drop=True)\n",
    "\n",
    "matriz_2[\"cant_becas\"] = matriz_2[\"cant_becas\"].fillna(0)\n",
    "\n",
    "print(becas.shape, matriz_1.shape, matriz_2.shape)\n",
    "matriz_2.to_csv(f\"{BASE}work_data/matriz_desercion_2.csv.gz\", index=False, compression=\"gzip\")"
   ]
  },
  {
   "cell_type": "markdown",
   "id": "79f23b92",
   "metadata": {},
   "source": [
    "## Merge Matriz 3"
   ]
  },
  {
   "cell_type": "code",
   "execution_count": 61,
   "id": "016d2283",
   "metadata": {},
   "outputs": [
    {
     "name": "stdout",
     "output_type": "stream",
     "text": [
      "(1695636, 5) (2746497, 21) (2746497, 24)\n"
     ]
    }
   ],
   "source": [
    "matriz_3 = pd.merge(\n",
    "    matriz_1,\n",
    "    becas_merge,\n",
    "    how=\"left\"\n",
    ").drop_duplicates().reset_index(drop=True)\n",
    "\n",
    "for c in [\"fscu\", \"gratuidad\", \"beca\"]:\n",
    "    matriz_3[c] = matriz_3[c].fillna(0)\n",
    "\n",
    "print(becas_merge.shape, matriz_1.shape, matriz_3.shape)"
   ]
  },
  {
   "cell_type": "code",
   "execution_count": 62,
   "id": "7198ef0d",
   "metadata": {},
   "outputs": [
    {
     "data": {
      "text/plain": [
       "cat_periodo                    0\n",
       "codigo_unico                   0\n",
       "mrun                           0\n",
       "gen_alu                        0\n",
       "fec_nac_alu                    0\n",
       "anio_ing_carr_ori              0\n",
       "tipo_inst_1                    0\n",
       "jornada                        0\n",
       "dur_estudio_carr               0\n",
       "dur_proceso_tit                0\n",
       "region_sede                    0\n",
       "formato_valores                0\n",
       "valor_arancel                  0\n",
       "area_conocimiento              0\n",
       "acreditada_carr                0\n",
       "acreditada_inst                0\n",
       "desertor_1                     0\n",
       "region_colegio            349041\n",
       "tipo_ensenanza_colegio    349041\n",
       "prom_notas_media          349041\n",
       "dependencia_colegio       356773\n",
       "fscu                           0\n",
       "gratuidad                      0\n",
       "beca                           0\n",
       "dtype: int64"
      ]
     },
     "execution_count": 62,
     "metadata": {},
     "output_type": "execute_result"
    }
   ],
   "source": [
    "matriz_3.isna().sum()"
   ]
  },
  {
   "cell_type": "code",
   "execution_count": 63,
   "id": "81bb6c95",
   "metadata": {},
   "outputs": [],
   "source": [
    "matriz_3.to_csv(f\"{BASE}work_data/matriz_desercion_4.csv.gz\", index=False, compression=\"gzip\")"
   ]
  },
  {
   "cell_type": "code",
   "execution_count": null,
   "id": "e6e47566",
   "metadata": {},
   "outputs": [],
   "source": []
  }
 ],
 "metadata": {
  "kernelspec": {
   "display_name": "Python 3 (ipykernel)",
   "language": "python",
   "name": "python3"
  },
  "language_info": {
   "codemirror_mode": {
    "name": "ipython",
    "version": 3
   },
   "file_extension": ".py",
   "mimetype": "text/x-python",
   "name": "python",
   "nbconvert_exporter": "python",
   "pygments_lexer": "ipython3",
   "version": "3.9.12"
  }
 },
 "nbformat": 4,
 "nbformat_minor": 5
}
