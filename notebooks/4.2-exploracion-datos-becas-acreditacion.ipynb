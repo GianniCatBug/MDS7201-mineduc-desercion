{
 "cells": [
  {
   "cell_type": "code",
   "execution_count": 48,
   "id": "34f1e312",
   "metadata": {},
   "outputs": [],
   "source": [
    "import pandas as pd\n",
    "import numpy as np\n",
    "import seaborn as sns\n",
    "from datetime import date\n",
    "import matplotlib.pyplot as plt\n",
    "import matplotlib.colors as colors\n",
    "from matplotlib import cm, transforms\n",
    "import geopandas as gpd\n",
    "import locale\n",
    "from scipy import stats\n",
    "from statsmodels.stats.proportion import proportions_ztest\n",
    "import statsmodels.formula.api as smf\n",
    "from svgpathtools import svg2paths\n",
    "from svgpath2mpl import parse_path\n",
    "\n",
    "locale.setlocale(locale.LC_ALL, 'es_CL')\n",
    "\n",
    "plt.style.use(\"seaborn\")\n",
    "plt.rcParams.update({'font.size': 22})\n",
    "plt.rcParams['axes.grid'] = False\n",
    "sns.set(font_scale=1.5)\n",
    "\n",
    "BASE = \"/media/giani/Gianicosas/Magister/Proyecto/\""
   ]
  },
  {
   "cell_type": "markdown",
   "id": "b912168c",
   "metadata": {},
   "source": [
    "# Datos"
   ]
  },
  {
   "cell_type": "code",
   "execution_count": 2,
   "id": "c25cb4da",
   "metadata": {},
   "outputs": [
    {
     "name": "stderr",
     "output_type": "stream",
     "text": [
      "/tmp/ipykernel_6038/2237554913.py:1: DtypeWarning: Columns (13,16) have mixed types. Specify dtype option on import or set low_memory=False.\n",
      "  df = pd.read_csv(f\"{BASE}work_data/matriz_desercion_2.csv.gz\")\n"
     ]
    },
    {
     "data": {
      "text/html": [
       "<div>\n",
       "<style scoped>\n",
       "    .dataframe tbody tr th:only-of-type {\n",
       "        vertical-align: middle;\n",
       "    }\n",
       "\n",
       "    .dataframe tbody tr th {\n",
       "        vertical-align: top;\n",
       "    }\n",
       "\n",
       "    .dataframe thead th {\n",
       "        text-align: right;\n",
       "    }\n",
       "</style>\n",
       "<table border=\"1\" class=\"dataframe\">\n",
       "  <thead>\n",
       "    <tr style=\"text-align: right;\">\n",
       "      <th></th>\n",
       "      <th>cat_periodo</th>\n",
       "      <th>codigo_unico</th>\n",
       "      <th>mrun</th>\n",
       "      <th>gen_alu</th>\n",
       "      <th>fec_nac_alu</th>\n",
       "      <th>anio_ing_carr_ori</th>\n",
       "      <th>tipo_inst_1</th>\n",
       "      <th>region_sede</th>\n",
       "      <th>valor_arancel</th>\n",
       "      <th>area_conocimiento</th>\n",
       "      <th>acreditada_carr</th>\n",
       "      <th>acreditada_inst</th>\n",
       "      <th>desertor_1</th>\n",
       "      <th>region_colegio</th>\n",
       "      <th>tipo_ensenanza_colegio</th>\n",
       "      <th>prom_notas_media</th>\n",
       "      <th>dependencia_colegio</th>\n",
       "      <th>cant_becas</th>\n",
       "    </tr>\n",
       "  </thead>\n",
       "  <tbody>\n",
       "    <tr>\n",
       "      <th>0</th>\n",
       "      <td>2015</td>\n",
       "      <td>I498S6C132J2V1</td>\n",
       "      <td>37.0</td>\n",
       "      <td>1</td>\n",
       "      <td>197808</td>\n",
       "      <td>2015</td>\n",
       "      <td>Centros de Formación Técnica</td>\n",
       "      <td>Biobío</td>\n",
       "      <td>820000.0</td>\n",
       "      <td>Tecnología</td>\n",
       "      <td>NO ACREDITADA</td>\n",
       "      <td>ACREDITADA</td>\n",
       "      <td>0.0</td>\n",
       "      <td>NaN</td>\n",
       "      <td>NaN</td>\n",
       "      <td>NaN</td>\n",
       "      <td>NaN</td>\n",
       "      <td>0.0</td>\n",
       "    </tr>\n",
       "    <tr>\n",
       "      <th>1</th>\n",
       "      <td>2015</td>\n",
       "      <td>I111S14C309J2V1</td>\n",
       "      <td>118.0</td>\n",
       "      <td>1</td>\n",
       "      <td>199102</td>\n",
       "      <td>2015</td>\n",
       "      <td>Institutos Profesionales</td>\n",
       "      <td>Metropolitana</td>\n",
       "      <td>1390000.0</td>\n",
       "      <td>Administración y Comercio</td>\n",
       "      <td>ACREDITADA</td>\n",
       "      <td>ACREDITADA</td>\n",
       "      <td>0.0</td>\n",
       "      <td>13</td>\n",
       "      <td>310.0</td>\n",
       "      <td>4.975</td>\n",
       "      <td>3.0</td>\n",
       "      <td>0.0</td>\n",
       "    </tr>\n",
       "  </tbody>\n",
       "</table>\n",
       "</div>"
      ],
      "text/plain": [
       "   cat_periodo     codigo_unico   mrun  gen_alu  fec_nac_alu  \\\n",
       "0         2015   I498S6C132J2V1   37.0        1       197808   \n",
       "1         2015  I111S14C309J2V1  118.0        1       199102   \n",
       "\n",
       "   anio_ing_carr_ori                   tipo_inst_1    region_sede  \\\n",
       "0               2015  Centros de Formación Técnica         Biobío   \n",
       "1               2015      Institutos Profesionales  Metropolitana   \n",
       "\n",
       "   valor_arancel          area_conocimiento acreditada_carr acreditada_inst  \\\n",
       "0       820000.0                 Tecnología   NO ACREDITADA      ACREDITADA   \n",
       "1      1390000.0  Administración y Comercio      ACREDITADA      ACREDITADA   \n",
       "\n",
       "   desertor_1 region_colegio  tipo_ensenanza_colegio  prom_notas_media  \\\n",
       "0         0.0            NaN                     NaN               NaN   \n",
       "1         0.0             13                   310.0             4.975   \n",
       "\n",
       "  dependencia_colegio  cant_becas  \n",
       "0                 NaN         0.0  \n",
       "1                 3.0         0.0  "
      ]
     },
     "execution_count": 2,
     "metadata": {},
     "output_type": "execute_result"
    }
   ],
   "source": [
    "df = pd.read_csv(f\"{BASE}work_data/matriz_desercion_2.csv.gz\")\n",
    "df.head(2)"
   ]
  },
  {
   "cell_type": "markdown",
   "id": "0abb82fd",
   "metadata": {},
   "source": [
    "# Deserción"
   ]
  },
  {
   "cell_type": "code",
   "execution_count": 3,
   "id": "088ad3b0",
   "metadata": {},
   "outputs": [],
   "source": [
    "df[\"anio_desercion\"] = df[\"cat_periodo\"] + 1"
   ]
  },
  {
   "cell_type": "code",
   "execution_count": 4,
   "id": "eb54b2cd",
   "metadata": {},
   "outputs": [
    {
     "data": {
      "text/html": [
       "<div>\n",
       "<style scoped>\n",
       "    .dataframe tbody tr th:only-of-type {\n",
       "        vertical-align: middle;\n",
       "    }\n",
       "\n",
       "    .dataframe tbody tr th {\n",
       "        vertical-align: top;\n",
       "    }\n",
       "\n",
       "    .dataframe thead th {\n",
       "        text-align: right;\n",
       "    }\n",
       "</style>\n",
       "<table border=\"1\" class=\"dataframe\">\n",
       "  <thead>\n",
       "    <tr style=\"text-align: right;\">\n",
       "      <th></th>\n",
       "      <th>anio_desercion</th>\n",
       "      <th>desertor_1</th>\n",
       "      <th>%</th>\n",
       "    </tr>\n",
       "  </thead>\n",
       "  <tbody>\n",
       "    <tr>\n",
       "      <th>1</th>\n",
       "      <td>2016</td>\n",
       "      <td>1.0</td>\n",
       "      <td>16.373070</td>\n",
       "    </tr>\n",
       "    <tr>\n",
       "      <th>3</th>\n",
       "      <td>2017</td>\n",
       "      <td>1.0</td>\n",
       "      <td>14.418847</td>\n",
       "    </tr>\n",
       "    <tr>\n",
       "      <th>5</th>\n",
       "      <td>2018</td>\n",
       "      <td>1.0</td>\n",
       "      <td>13.360973</td>\n",
       "    </tr>\n",
       "    <tr>\n",
       "      <th>7</th>\n",
       "      <td>2019</td>\n",
       "      <td>1.0</td>\n",
       "      <td>13.062208</td>\n",
       "    </tr>\n",
       "    <tr>\n",
       "      <th>9</th>\n",
       "      <td>2020</td>\n",
       "      <td>1.0</td>\n",
       "      <td>15.068913</td>\n",
       "    </tr>\n",
       "    <tr>\n",
       "      <th>11</th>\n",
       "      <td>2021</td>\n",
       "      <td>1.0</td>\n",
       "      <td>16.939409</td>\n",
       "    </tr>\n",
       "    <tr>\n",
       "      <th>13</th>\n",
       "      <td>2022</td>\n",
       "      <td>1.0</td>\n",
       "      <td>24.696973</td>\n",
       "    </tr>\n",
       "  </tbody>\n",
       "</table>\n",
       "</div>"
      ],
      "text/plain": [
       "    anio_desercion  desertor_1          %\n",
       "1             2016         1.0  16.373070\n",
       "3             2017         1.0  14.418847\n",
       "5             2018         1.0  13.360973\n",
       "7             2019         1.0  13.062208\n",
       "9             2020         1.0  15.068913\n",
       "11            2021         1.0  16.939409\n",
       "13            2022         1.0  24.696973"
      ]
     },
     "execution_count": 4,
     "metadata": {},
     "output_type": "execute_result"
    }
   ],
   "source": [
    "porc_des = pd.DataFrame(df.groupby([\"anio_desercion\"])[\"desertor_1\"].value_counts(\"%\").rename(\"%\") * 100).reset_index()\n",
    "porc_des = porc_des[porc_des[\"desertor_1\"]==1]\n",
    "porc_des"
   ]
  },
  {
   "cell_type": "markdown",
   "id": "48bba11e",
   "metadata": {},
   "source": [
    "# Acreditación carrera"
   ]
  },
  {
   "cell_type": "code",
   "execution_count": 5,
   "id": "09d57d6d",
   "metadata": {},
   "outputs": [
    {
     "data": {
      "text/plain": [
       "Index(['cat_periodo', 'codigo_unico', 'mrun', 'gen_alu', 'fec_nac_alu',\n",
       "       'anio_ing_carr_ori', 'tipo_inst_1', 'region_sede', 'valor_arancel',\n",
       "       'area_conocimiento', 'acreditada_carr', 'acreditada_inst', 'desertor_1',\n",
       "       'region_colegio', 'tipo_ensenanza_colegio', 'prom_notas_media',\n",
       "       'dependencia_colegio', 'cant_becas', 'anio_desercion'],\n",
       "      dtype='object')"
      ]
     },
     "execution_count": 5,
     "metadata": {},
     "output_type": "execute_result"
    }
   ],
   "source": [
    "df.columns"
   ]
  },
  {
   "cell_type": "code",
   "execution_count": 6,
   "id": "e3c74e02",
   "metadata": {},
   "outputs": [
    {
     "data": {
      "text/html": [
       "<div>\n",
       "<style scoped>\n",
       "    .dataframe tbody tr th:only-of-type {\n",
       "        vertical-align: middle;\n",
       "    }\n",
       "\n",
       "    .dataframe tbody tr th {\n",
       "        vertical-align: top;\n",
       "    }\n",
       "\n",
       "    .dataframe thead th {\n",
       "        text-align: right;\n",
       "    }\n",
       "</style>\n",
       "<table border=\"1\" class=\"dataframe\">\n",
       "  <thead>\n",
       "    <tr style=\"text-align: right;\">\n",
       "      <th></th>\n",
       "      <th>anio_desercion</th>\n",
       "      <th>acreditada_carr</th>\n",
       "      <th>mrun</th>\n",
       "      <th>desertor_1</th>\n",
       "    </tr>\n",
       "  </thead>\n",
       "  <tbody>\n",
       "    <tr>\n",
       "      <th>0</th>\n",
       "      <td>2016</td>\n",
       "      <td>ACREDITADA</td>\n",
       "      <td>82830</td>\n",
       "      <td>11332.0</td>\n",
       "    </tr>\n",
       "    <tr>\n",
       "      <th>1</th>\n",
       "      <td>2016</td>\n",
       "      <td>NO ACREDITADA</td>\n",
       "      <td>102408</td>\n",
       "      <td>19007.0</td>\n",
       "    </tr>\n",
       "    <tr>\n",
       "      <th>2</th>\n",
       "      <td>2017</td>\n",
       "      <td>ACREDITADA</td>\n",
       "      <td>151431</td>\n",
       "      <td>18322.0</td>\n",
       "    </tr>\n",
       "    <tr>\n",
       "      <th>3</th>\n",
       "      <td>2017</td>\n",
       "      <td>NO ACREDITADA</td>\n",
       "      <td>158467</td>\n",
       "      <td>26332.0</td>\n",
       "    </tr>\n",
       "    <tr>\n",
       "      <th>4</th>\n",
       "      <td>2018</td>\n",
       "      <td>ACREDITADA</td>\n",
       "      <td>216733</td>\n",
       "      <td>24432.0</td>\n",
       "    </tr>\n",
       "  </tbody>\n",
       "</table>\n",
       "</div>"
      ],
      "text/plain": [
       "   anio_desercion acreditada_carr    mrun  desertor_1\n",
       "0            2016      ACREDITADA   82830     11332.0\n",
       "1            2016   NO ACREDITADA  102408     19007.0\n",
       "2            2017      ACREDITADA  151431     18322.0\n",
       "3            2017   NO ACREDITADA  158467     26332.0\n",
       "4            2018      ACREDITADA  216733     24432.0"
      ]
     },
     "execution_count": 6,
     "metadata": {},
     "output_type": "execute_result"
    }
   ],
   "source": [
    "cantidades_acc = df[df[\"anio_desercion\"] < 2021][\n",
    "    [\"anio_desercion\", \"mrun\", \"desertor_1\", \"acreditada_carr\"]\n",
    "].drop_duplicates().groupby([\"anio_desercion\", \"acreditada_carr\"]).agg({\n",
    "    \"mrun\": pd.Series.nunique,\n",
    "    \"desertor_1\": \"sum\"\n",
    "}).reset_index()#.groupby([\"Region\"]).agg({\"mrun\": \"mean\",\"desertor_1\": \"mean\"}).reset_index().round()\n",
    "\n",
    "cantidades_acc.head()"
   ]
  },
  {
   "cell_type": "code",
   "execution_count": 7,
   "id": "b460cd3b",
   "metadata": {},
   "outputs": [
    {
     "data": {
      "text/html": [
       "<div>\n",
       "<style scoped>\n",
       "    .dataframe tbody tr th:only-of-type {\n",
       "        vertical-align: middle;\n",
       "    }\n",
       "\n",
       "    .dataframe tbody tr th {\n",
       "        vertical-align: top;\n",
       "    }\n",
       "\n",
       "    .dataframe thead th {\n",
       "        text-align: right;\n",
       "    }\n",
       "</style>\n",
       "<table border=\"1\" class=\"dataframe\">\n",
       "  <thead>\n",
       "    <tr style=\"text-align: right;\">\n",
       "      <th></th>\n",
       "      <th>anio_desercion</th>\n",
       "      <th>acreditada_carr</th>\n",
       "      <th>mrun</th>\n",
       "      <th>desertor_1</th>\n",
       "      <th>desertor_1_porc</th>\n",
       "    </tr>\n",
       "  </thead>\n",
       "  <tbody>\n",
       "    <tr>\n",
       "      <th>0</th>\n",
       "      <td>2016</td>\n",
       "      <td>ACREDITADA</td>\n",
       "      <td>82830</td>\n",
       "      <td>11332.0</td>\n",
       "      <td>13.681033</td>\n",
       "    </tr>\n",
       "    <tr>\n",
       "      <th>1</th>\n",
       "      <td>2016</td>\n",
       "      <td>NO ACREDITADA</td>\n",
       "      <td>102408</td>\n",
       "      <td>19007.0</td>\n",
       "      <td>18.560073</td>\n",
       "    </tr>\n",
       "    <tr>\n",
       "      <th>2</th>\n",
       "      <td>2017</td>\n",
       "      <td>ACREDITADA</td>\n",
       "      <td>151431</td>\n",
       "      <td>18322.0</td>\n",
       "      <td>12.099240</td>\n",
       "    </tr>\n",
       "    <tr>\n",
       "      <th>3</th>\n",
       "      <td>2017</td>\n",
       "      <td>NO ACREDITADA</td>\n",
       "      <td>158467</td>\n",
       "      <td>26332.0</td>\n",
       "      <td>16.616709</td>\n",
       "    </tr>\n",
       "    <tr>\n",
       "      <th>4</th>\n",
       "      <td>2018</td>\n",
       "      <td>ACREDITADA</td>\n",
       "      <td>216733</td>\n",
       "      <td>24432.0</td>\n",
       "      <td>11.272856</td>\n",
       "    </tr>\n",
       "  </tbody>\n",
       "</table>\n",
       "</div>"
      ],
      "text/plain": [
       "   anio_desercion acreditada_carr    mrun  desertor_1  desertor_1_porc\n",
       "0            2016      ACREDITADA   82830     11332.0        13.681033\n",
       "1            2016   NO ACREDITADA  102408     19007.0        18.560073\n",
       "2            2017      ACREDITADA  151431     18322.0        12.099240\n",
       "3            2017   NO ACREDITADA  158467     26332.0        16.616709\n",
       "4            2018      ACREDITADA  216733     24432.0        11.272856"
      ]
     },
     "execution_count": 7,
     "metadata": {},
     "output_type": "execute_result"
    }
   ],
   "source": [
    "cantidades_acc[\"desertor_1_porc\"] = [\n",
    "    (d / cantidades_acc[\n",
    "        (cantidades_acc[\"anio_desercion\"] == a)\n",
    "        & (cantidades_acc[\"acreditada_carr\"] == r)\n",
    "    ][\"mrun\"].sum()) * 100 \n",
    "    for a, d, r in zip(cantidades_acc[\"anio_desercion\"], cantidades_acc[\"desertor_1\"], cantidades_acc[\"acreditada_carr\"])\n",
    "]\n",
    "\n",
    "cantidades_acc.head()"
   ]
  },
  {
   "cell_type": "code",
   "execution_count": 8,
   "id": "a7700c44",
   "metadata": {},
   "outputs": [],
   "source": [
    "# # create the colorbar\n",
    "norm = colors.Normalize(vmin=cantidades_acc[\"desertor_1_porc\"].min(), vmax=cantidades_acc[\"desertor_1_porc\"].max())\n",
    "colores = cm.get_cmap('coolwarm', 256)\n",
    "cbar = plt.cm.ScalarMappable(norm=norm, cmap=colores)"
   ]
  },
  {
   "cell_type": "code",
   "execution_count": 9,
   "id": "612964e7",
   "metadata": {},
   "outputs": [
    {
     "data": {
      "image/png": "[encoded data removed]",
      "text/plain": [
       "<Figure size 576x396 with 2 Axes>"
      ]
     },
     "metadata": {},
     "output_type": "display_data"
    }
   ],
   "source": [
    "t_acc = cantidades_acc[[\"anio_desercion\", \"acreditada_carr\", \"desertor_1_porc\"]]\n",
    "piv_acc = pd.pivot_table(\n",
    "    t_acc, values=\"desertor_1_porc\", index=[\"anio_desercion\"], columns=[\"acreditada_carr\"]\n",
    ").reset_index().T\n",
    "piv_acc = piv_acc.rename(columns=piv_acc.iloc[0].astype(int))[1:].reindex(index=cantidades_acc['acreditada_carr'].unique())\n",
    "sns.heatmap(piv_acc, cmap=\"coolwarm\");"
   ]
  },
  {
   "cell_type": "code",
   "execution_count": 12,
   "id": "b822e508",
   "metadata": {},
   "outputs": [
    {
     "name": "stderr",
     "output_type": "stream",
     "text": [
      "/home/giani/anaconda3/lib/python3.9/site-packages/scipy/stats/stats.py:1541: UserWarning: kurtosistest only valid for n>=20 ... continuing anyway, n=10\n",
      "  warnings.warn(\"kurtosistest only valid for n>=20 ... continuing \"\n"
     ]
    },
    {
     "data": {
      "text/html": [
       "<div>\n",
       "<style scoped>\n",
       "    .dataframe tbody tr th:only-of-type {\n",
       "        vertical-align: middle;\n",
       "    }\n",
       "\n",
       "    .dataframe tbody tr th {\n",
       "        vertical-align: top;\n",
       "    }\n",
       "\n",
       "    .dataframe thead th {\n",
       "        text-align: right;\n",
       "    }\n",
       "</style>\n",
       "<table border=\"1\" class=\"dataframe\">\n",
       "  <thead>\n",
       "    <tr style=\"text-align: right;\">\n",
       "      <th></th>\n",
       "      <th>0</th>\n",
       "      <th>1</th>\n",
       "      <th>2</th>\n",
       "      <th>3</th>\n",
       "    </tr>\n",
       "  </thead>\n",
       "  <tbody>\n",
       "    <tr>\n",
       "      <th>0</th>\n",
       "      <td>Model:</td>\n",
       "      <td>OLS</td>\n",
       "      <td>Adj. R-squared:</td>\n",
       "      <td>0.780</td>\n",
       "    </tr>\n",
       "    <tr>\n",
       "      <th>1</th>\n",
       "      <td>Dependent Variable:</td>\n",
       "      <td>value</td>\n",
       "      <td>AIC:</td>\n",
       "      <td>33.5824</td>\n",
       "    </tr>\n",
       "    <tr>\n",
       "      <th>2</th>\n",
       "      <td>Date:</td>\n",
       "      <td>2022-10-12 10:31</td>\n",
       "      <td>BIC:</td>\n",
       "      <td>34.1875</td>\n",
       "    </tr>\n",
       "    <tr>\n",
       "      <th>3</th>\n",
       "      <td>No. Observations:</td>\n",
       "      <td>10</td>\n",
       "      <td>Log-Likelihood:</td>\n",
       "      <td>-14.791</td>\n",
       "    </tr>\n",
       "    <tr>\n",
       "      <th>4</th>\n",
       "      <td>Df Model:</td>\n",
       "      <td>1</td>\n",
       "      <td>F-statistic:</td>\n",
       "      <td>32.96</td>\n",
       "    </tr>\n",
       "    <tr>\n",
       "      <th>5</th>\n",
       "      <td>Df Residuals:</td>\n",
       "      <td>8</td>\n",
       "      <td>Prob (F-statistic):</td>\n",
       "      <td>0.000433</td>\n",
       "    </tr>\n",
       "    <tr>\n",
       "      <th>6</th>\n",
       "      <td>R-squared:</td>\n",
       "      <td>0.805</td>\n",
       "      <td>Scale:</td>\n",
       "      <td>1.4099</td>\n",
       "    </tr>\n",
       "  </tbody>\n",
       "</table>\n",
       "</div>"
      ],
      "text/plain": [
       "                     0                 1                    2         3\n",
       "0               Model:               OLS      Adj. R-squared:     0.780\n",
       "1  Dependent Variable:             value                 AIC:   33.5824\n",
       "2                Date:  2022-10-12 10:31                 BIC:   34.1875\n",
       "3    No. Observations:                10      Log-Likelihood:   -14.791\n",
       "4            Df Model:                 1         F-statistic:     32.96\n",
       "5        Df Residuals:                 8  Prob (F-statistic):  0.000433\n",
       "6           R-squared:             0.805               Scale:    1.4099"
      ]
     },
     "execution_count": 12,
     "metadata": {},
     "output_type": "execute_result"
    }
   ],
   "source": [
    "melted_acc= pd.melt(piv_acc.T, value_vars=cantidades_acc['acreditada_carr'].unique())\n",
    "model_acc = smf.ols('value ~ C(acreditada_carr)', data=melted_acc).fit()\n",
    "resumen_acc = model_acc.summary2()\n",
    "resumen_acc.tables[0]"
   ]
  },
  {
   "cell_type": "code",
   "execution_count": 14,
   "id": "ac46d255",
   "metadata": {
    "scrolled": true
   },
   "outputs": [
    {
     "data": {
      "text/html": [
       "<div>\n",
       "<style scoped>\n",
       "    .dataframe tbody tr th:only-of-type {\n",
       "        vertical-align: middle;\n",
       "    }\n",
       "\n",
       "    .dataframe tbody tr th {\n",
       "        vertical-align: top;\n",
       "    }\n",
       "\n",
       "    .dataframe thead th {\n",
       "        text-align: right;\n",
       "    }\n",
       "</style>\n",
       "<table border=\"1\" class=\"dataframe\">\n",
       "  <thead>\n",
       "    <tr style=\"text-align: right;\">\n",
       "      <th></th>\n",
       "      <th>Coef.</th>\n",
       "      <th>Std.Err.</th>\n",
       "      <th>t</th>\n",
       "      <th>P&gt;|t|</th>\n",
       "      <th>[0.025</th>\n",
       "      <th>0.975]</th>\n",
       "    </tr>\n",
       "  </thead>\n",
       "  <tbody>\n",
       "    <tr>\n",
       "      <th>Intercept</th>\n",
       "      <td>12.411336</td>\n",
       "      <td>0.531013</td>\n",
       "      <td>23.372926</td>\n",
       "      <td>1.193386e-08</td>\n",
       "      <td>11.186817</td>\n",
       "      <td>13.635855</td>\n",
       "    </tr>\n",
       "    <tr>\n",
       "      <th>C(acreditada_carr)[T.NO ACREDITADA]</th>\n",
       "      <td>4.311544</td>\n",
       "      <td>0.750966</td>\n",
       "      <td>5.741328</td>\n",
       "      <td>4.332848e-04</td>\n",
       "      <td>2.579813</td>\n",
       "      <td>6.043276</td>\n",
       "    </tr>\n",
       "  </tbody>\n",
       "</table>\n",
       "</div>"
      ],
      "text/plain": [
       "                                         Coef.  Std.Err.          t  \\\n",
       "Intercept                            12.411336  0.531013  23.372926   \n",
       "C(acreditada_carr)[T.NO ACREDITADA]   4.311544  0.750966   5.741328   \n",
       "\n",
       "                                            P>|t|     [0.025     0.975]  \n",
       "Intercept                            1.193386e-08  11.186817  13.635855  \n",
       "C(acreditada_carr)[T.NO ACREDITADA]  4.332848e-04   2.579813   6.043276  "
      ]
     },
     "execution_count": 14,
     "metadata": {},
     "output_type": "execute_result"
    }
   ],
   "source": [
    "coefs_acc = resumen_acc.tables[1]\n",
    "coefs_acc[coefs_acc[\"P>|t|\"] < 0.05]"
   ]
  },
  {
   "cell_type": "markdown",
   "id": "7617559f",
   "metadata": {},
   "source": [
    "### Proporción matrículas únicas"
   ]
  },
  {
   "cell_type": "code",
   "execution_count": 80,
   "id": "7752c78d",
   "metadata": {},
   "outputs": [
    {
     "name": "stdout",
     "output_type": "stream",
     "text": [
      "(1032328, 19)\n"
     ]
    },
    {
     "data": {
      "text/html": [
       "<div>\n",
       "<style scoped>\n",
       "    .dataframe tbody tr th:only-of-type {\n",
       "        vertical-align: middle;\n",
       "    }\n",
       "\n",
       "    .dataframe tbody tr th {\n",
       "        vertical-align: top;\n",
       "    }\n",
       "\n",
       "    .dataframe thead th {\n",
       "        text-align: right;\n",
       "    }\n",
       "</style>\n",
       "<table border=\"1\" class=\"dataframe\">\n",
       "  <thead>\n",
       "    <tr style=\"text-align: right;\">\n",
       "      <th>desertor_1</th>\n",
       "      <th>0.0</th>\n",
       "      <th>1.0</th>\n",
       "    </tr>\n",
       "    <tr>\n",
       "      <th>acreditada_carr</th>\n",
       "      <th></th>\n",
       "      <th></th>\n",
       "    </tr>\n",
       "  </thead>\n",
       "  <tbody>\n",
       "    <tr>\n",
       "      <th>ACREDITADA</th>\n",
       "      <td>406725</td>\n",
       "      <td>120321</td>\n",
       "    </tr>\n",
       "    <tr>\n",
       "      <th>NO ACREDITADA</th>\n",
       "      <td>369078</td>\n",
       "      <td>136204</td>\n",
       "    </tr>\n",
       "  </tbody>\n",
       "</table>\n",
       "</div>"
      ],
      "text/plain": [
       "desertor_1          0.0     1.0\n",
       "acreditada_carr                \n",
       "ACREDITADA       406725  120321\n",
       "NO ACREDITADA    369078  136204"
      ]
     },
     "execution_count": 80,
     "metadata": {},
     "output_type": "execute_result"
    }
   ],
   "source": [
    "df_s = df[df[\"anio_desercion\"] < 2021].sort_values(\n",
    "    by=[\"mrun\", \"codigo_unico\", \"desertor_1\"], ascending=[False, False, False]\n",
    ").drop_duplicates(subset=[\"mrun\", \"codigo_unico\"], keep=\"first\").copy()\n",
    "\n",
    "cross_tab_prop = pd.crosstab(index=df_s['acreditada_carr'],\n",
    "                             columns=df_s['desertor_1'],\n",
    "                             normalize=\"index\")\n",
    "\n",
    "cross_tab = pd.crosstab(index=df_s['acreditada_carr'],\n",
    "                        columns=df_s['desertor_1'])\n",
    "\n",
    "print(df_s.shape)\n",
    "cross_tab#527046, 505282"
   ]
  },
  {
   "cell_type": "code",
   "execution_count": 81,
   "id": "be1cc13d",
   "metadata": {},
   "outputs": [
    {
     "data": {
      "text/plain": [
       "(-48.502534900741956, 0.0)"
      ]
     },
     "execution_count": 81,
     "metadata": {},
     "output_type": "execute_result"
    }
   ],
   "source": [
    "sample_success_a, sample_size_a = (120321, 527046)\n",
    "sample_success_b, sample_size_b = (136204, 505282)\n",
    "\n",
    "successes = np.array([sample_success_a, sample_success_b])\n",
    "samples = np.array([sample_size_a, sample_size_b])\n",
    "\n",
    "proportions_ztest(count=successes, nobs=samples,  alternative='two-sided')"
   ]
  },
  {
   "cell_type": "code",
   "execution_count": 83,
   "id": "e4270942",
   "metadata": {},
   "outputs": [
    {
     "data": {
      "image/png": "[encoded data removed]",
      "text/plain": [
       "<Figure size 720x504 with 1 Axes>"
      ]
     },
     "metadata": {},
     "output_type": "display_data"
    }
   ],
   "source": [
    "w = list(cross_tab.T.sum()/cross_tab.T.sum().sum())\n",
    "\n",
    "f, ax = plt.subplots(figsize=(10,7))\n",
    "plt.rcParams.update({'font.size': 15})\n",
    "\n",
    "plt.title(\"%Desertores CFT/IP por acreditación carrera\", pad=40)\n",
    "\n",
    "b1 = plt.barh(cross_tab_prop.reset_index()['acreditada_carr'],\n",
    "                cross_tab_prop.reset_index()[0], \n",
    "                color=\"dodgerblue\",\n",
    "                height=w)\n",
    "\n",
    "b2 = plt.barh(cross_tab_prop.reset_index()['acreditada_carr'],\n",
    "                cross_tab_prop.reset_index()[1], \n",
    "                left=cross_tab_prop.reset_index()[0], \n",
    "                color=\"coral\",\n",
    "                height=w)\n",
    "                \n",
    "for n, x in enumerate([*cross_tab.index.values]):\n",
    "    for (proportion, y_loc) in zip(cross_tab_prop.loc[x],\n",
    "                                          cross_tab_prop.loc[x].cumsum()):\n",
    "                \n",
    "        plt.text(x=(y_loc - proportion) + (proportion / 2),\n",
    "                 y=n - 0.11,\n",
    "                 s=f'{np.round(proportion * 100, 1)}%', \n",
    "                 color=\"black\",\n",
    "                 fontsize=14)\n",
    "        \n",
    "plt.xticks(np.arange(0, 1.2, 0.2), range(0, 120, 20))\n",
    "\n",
    "ax.legend(['No desertor', 'Desertor'], loc ='upper left', ncol=2, bbox_to_anchor=(0.2,1.1));\n",
    "plt.xlabel(\"% Matriculados\");\n",
    "plt.ylabel(\"Tipo carrera\");"
   ]
  },
  {
   "cell_type": "markdown",
   "id": "015c3fae",
   "metadata": {},
   "source": [
    "## Acreditación institución\n",
    "### Proporción matrículas únicas"
   ]
  },
  {
   "cell_type": "code",
   "execution_count": 84,
   "id": "82e987d8",
   "metadata": {},
   "outputs": [
    {
     "data": {
      "text/html": [
       "<div>\n",
       "<style scoped>\n",
       "    .dataframe tbody tr th:only-of-type {\n",
       "        vertical-align: middle;\n",
       "    }\n",
       "\n",
       "    .dataframe tbody tr th {\n",
       "        vertical-align: top;\n",
       "    }\n",
       "\n",
       "    .dataframe thead th {\n",
       "        text-align: right;\n",
       "    }\n",
       "</style>\n",
       "<table border=\"1\" class=\"dataframe\">\n",
       "  <thead>\n",
       "    <tr style=\"text-align: right;\">\n",
       "      <th>desertor_1</th>\n",
       "      <th>0.0</th>\n",
       "      <th>1.0</th>\n",
       "    </tr>\n",
       "    <tr>\n",
       "      <th>acreditada_inst</th>\n",
       "      <th></th>\n",
       "      <th></th>\n",
       "    </tr>\n",
       "  </thead>\n",
       "  <tbody>\n",
       "    <tr>\n",
       "      <th>ACREDITADA</th>\n",
       "      <td>682108</td>\n",
       "      <td>208272</td>\n",
       "    </tr>\n",
       "    <tr>\n",
       "      <th>NO ACREDITADA</th>\n",
       "      <td>93695</td>\n",
       "      <td>48253</td>\n",
       "    </tr>\n",
       "  </tbody>\n",
       "</table>\n",
       "</div>"
      ],
      "text/plain": [
       "desertor_1          0.0     1.0\n",
       "acreditada_inst                \n",
       "ACREDITADA       682108  208272\n",
       "NO ACREDITADA     93695   48253"
      ]
     },
     "execution_count": 84,
     "metadata": {},
     "output_type": "execute_result"
    }
   ],
   "source": [
    "cross_tab_prop = pd.crosstab(index=df_s['acreditada_inst'],\n",
    "                             columns=df_s['desertor_1'],\n",
    "                             normalize=\"index\")\n",
    "\n",
    "cross_tab = pd.crosstab(index=df_s['acreditada_inst'],\n",
    "                        columns=df_s['desertor_1'])\n",
    "\n",
    "cross_tab#890380, 141948"
   ]
  },
  {
   "cell_type": "code",
   "execution_count": 85,
   "id": "c65cb61b",
   "metadata": {},
   "outputs": [
    {
     "data": {
      "text/plain": [
       "(-85.84429026598534, 0.0)"
      ]
     },
     "execution_count": 85,
     "metadata": {},
     "output_type": "execute_result"
    }
   ],
   "source": [
    "successes = np.array([208272, 48253])\n",
    "samples = np.array([890380, 141948])\n",
    "\n",
    "proportions_ztest(count=successes, nobs=samples,  alternative='two-sided')"
   ]
  },
  {
   "cell_type": "code",
   "execution_count": 86,
   "id": "bb6955dd",
   "metadata": {},
   "outputs": [
    {
     "data": {
      "image/png": "[encoded data removed]",
      "text/plain": [
       "<Figure size 720x504 with 1 Axes>"
      ]
     },
     "metadata": {},
     "output_type": "display_data"
    }
   ],
   "source": [
    "w = list(cross_tab.T.sum()/cross_tab.T.sum().sum())\n",
    "\n",
    "f, ax = plt.subplots(figsize=(10,7))\n",
    "plt.rcParams.update({'font.size': 15})\n",
    "\n",
    "plt.title(\"% Desertores CFT/IP por acreditación institución\", pad=40)\n",
    "\n",
    "b1 = plt.barh(cross_tab_prop.reset_index()['acreditada_inst'],\n",
    "                cross_tab_prop.reset_index()[0], \n",
    "                color=\"dodgerblue\",\n",
    "                height=w)\n",
    "\n",
    "b2 = plt.barh(cross_tab_prop.reset_index()['acreditada_inst'],\n",
    "                cross_tab_prop.reset_index()[1], \n",
    "                left=cross_tab_prop.reset_index()[0], \n",
    "                color=\"coral\",\n",
    "                height=w)\n",
    "                \n",
    "for n, x in enumerate([*cross_tab.index.values]):\n",
    "    for (proportion, y_loc) in zip(cross_tab_prop.loc[x],\n",
    "                                          cross_tab_prop.loc[x].cumsum()):\n",
    "                \n",
    "        plt.text(x=(y_loc - proportion) + (proportion / 2),\n",
    "                 y=n - 0.11,\n",
    "                 s=f'{np.round(proportion * 100, 1)}%', \n",
    "                 color=\"black\",\n",
    "                 fontsize=14)\n",
    "        \n",
    "plt.xticks(np.arange(0, 1.2, 0.2), range(0, 120, 20))\n",
    "\n",
    "ax.legend(['No desertor', 'Desertor'], loc ='upper left', ncol=2, bbox_to_anchor=(0.2,1.1));\n",
    "plt.xlabel(\"% Matriculados\");\n",
    "plt.ylabel(\"Tipo institución\");"
   ]
  },
  {
   "cell_type": "markdown",
   "id": "3e855a67",
   "metadata": {},
   "source": [
    "# Becas y beneficios"
   ]
  },
  {
   "cell_type": "code",
   "execution_count": 15,
   "id": "112bffcd",
   "metadata": {},
   "outputs": [
    {
     "data": {
      "text/plain": [
       "Index(['cat_periodo', 'codigo_unico', 'mrun', 'gen_alu', 'fec_nac_alu',\n",
       "       'anio_ing_carr_ori', 'tipo_inst_1', 'region_sede', 'valor_arancel',\n",
       "       'area_conocimiento', 'acreditada_carr', 'acreditada_inst', 'desertor_1',\n",
       "       'region_colegio', 'tipo_ensenanza_colegio', 'prom_notas_media',\n",
       "       'dependencia_colegio', 'cant_becas', 'anio_desercion'],\n",
       "      dtype='object')"
      ]
     },
     "execution_count": 15,
     "metadata": {},
     "output_type": "execute_result"
    }
   ],
   "source": [
    "df.columns"
   ]
  },
  {
   "cell_type": "code",
   "execution_count": 55,
   "id": "60f085ec",
   "metadata": {},
   "outputs": [
    {
     "data": {
      "text/html": [
       "<div>\n",
       "<style scoped>\n",
       "    .dataframe tbody tr th:only-of-type {\n",
       "        vertical-align: middle;\n",
       "    }\n",
       "\n",
       "    .dataframe tbody tr th {\n",
       "        vertical-align: top;\n",
       "    }\n",
       "\n",
       "    .dataframe thead th {\n",
       "        text-align: right;\n",
       "    }\n",
       "</style>\n",
       "<table border=\"1\" class=\"dataframe\">\n",
       "  <thead>\n",
       "    <tr style=\"text-align: right;\">\n",
       "      <th></th>\n",
       "      <th>anio_desercion</th>\n",
       "      <th>cant_becas</th>\n",
       "      <th>mrun</th>\n",
       "      <th>desertor_1</th>\n",
       "      <th>desertor_1_porc</th>\n",
       "    </tr>\n",
       "  </thead>\n",
       "  <tbody>\n",
       "    <tr>\n",
       "      <th>0</th>\n",
       "      <td>2016</td>\n",
       "      <td>0.0</td>\n",
       "      <td>104329</td>\n",
       "      <td>22392.0</td>\n",
       "      <td>21.462872</td>\n",
       "    </tr>\n",
       "    <tr>\n",
       "      <th>1</th>\n",
       "      <td>2016</td>\n",
       "      <td>1.0</td>\n",
       "      <td>79510</td>\n",
       "      <td>7851.0</td>\n",
       "      <td>9.874230</td>\n",
       "    </tr>\n",
       "    <tr>\n",
       "      <th>2</th>\n",
       "      <td>2016</td>\n",
       "      <td>2.0</td>\n",
       "      <td>1270</td>\n",
       "      <td>68.0</td>\n",
       "      <td>5.354331</td>\n",
       "    </tr>\n",
       "    <tr>\n",
       "      <th>3</th>\n",
       "      <td>2016</td>\n",
       "      <td>3.0</td>\n",
       "      <td>1</td>\n",
       "      <td>0.0</td>\n",
       "      <td>0.000000</td>\n",
       "    </tr>\n",
       "    <tr>\n",
       "      <th>4</th>\n",
       "      <td>2017</td>\n",
       "      <td>0.0</td>\n",
       "      <td>156116</td>\n",
       "      <td>30244.0</td>\n",
       "      <td>19.372774</td>\n",
       "    </tr>\n",
       "  </tbody>\n",
       "</table>\n",
       "</div>"
      ],
      "text/plain": [
       "   anio_desercion  cant_becas    mrun  desertor_1  desertor_1_porc\n",
       "0            2016         0.0  104329     22392.0        21.462872\n",
       "1            2016         1.0   79510      7851.0         9.874230\n",
       "2            2016         2.0    1270        68.0         5.354331\n",
       "3            2016         3.0       1         0.0         0.000000\n",
       "4            2017         0.0  156116     30244.0        19.372774"
      ]
     },
     "execution_count": 55,
     "metadata": {},
     "output_type": "execute_result"
    }
   ],
   "source": [
    "cantidades_becas = df[df[\"anio_desercion\"] < 2021][\n",
    "    [\"anio_desercion\", \"mrun\", \"desertor_1\", \"cant_becas\"]\n",
    "].drop_duplicates().groupby([\n",
    "    \"anio_desercion\", \"cant_becas\"\n",
    "]).agg({\n",
    "    \"mrun\": pd.Series.nunique,\n",
    "    \"desertor_1\": \"sum\"\n",
    "}).reset_index()\n",
    "\n",
    "cantidades_becas[\"desertor_1_porc\"] = [\n",
    "    (d / cantidades_becas[\n",
    "        (cantidades_becas[\"anio_desercion\"] == a)\n",
    "        & (cantidades_becas[\"cant_becas\"] == r)\n",
    "    ][\"mrun\"].sum()) * 100 \n",
    "    for a, d, r in zip(cantidades_becas[\"anio_desercion\"], cantidades_becas[\"desertor_1\"], cantidades_becas[\"cant_becas\"])\n",
    "]\n",
    "\n",
    "cantidades_becas.head()"
   ]
  },
  {
   "cell_type": "code",
   "execution_count": 91,
   "id": "a51b3c8a",
   "metadata": {},
   "outputs": [
    {
     "data": {
      "text/html": [
       "<div>\n",
       "<style scoped>\n",
       "    .dataframe tbody tr th:only-of-type {\n",
       "        vertical-align: middle;\n",
       "    }\n",
       "\n",
       "    .dataframe tbody tr th {\n",
       "        vertical-align: top;\n",
       "    }\n",
       "\n",
       "    .dataframe thead th {\n",
       "        text-align: right;\n",
       "    }\n",
       "</style>\n",
       "<table border=\"1\" class=\"dataframe\">\n",
       "  <thead>\n",
       "    <tr style=\"text-align: right;\">\n",
       "      <th></th>\n",
       "      <th></th>\n",
       "      <th>mrun</th>\n",
       "    </tr>\n",
       "    <tr>\n",
       "      <th>anio_desercion</th>\n",
       "      <th>cant_becas</th>\n",
       "      <th></th>\n",
       "    </tr>\n",
       "  </thead>\n",
       "  <tbody>\n",
       "    <tr>\n",
       "      <th rowspan=\"4\" valign=\"top\">2016</th>\n",
       "      <th>0.0</th>\n",
       "      <td>104329</td>\n",
       "    </tr>\n",
       "    <tr>\n",
       "      <th>1.0</th>\n",
       "      <td>79510</td>\n",
       "    </tr>\n",
       "    <tr>\n",
       "      <th>2.0</th>\n",
       "      <td>1270</td>\n",
       "    </tr>\n",
       "    <tr>\n",
       "      <th>3.0</th>\n",
       "      <td>1</td>\n",
       "    </tr>\n",
       "    <tr>\n",
       "      <th rowspan=\"4\" valign=\"top\">2017</th>\n",
       "      <th>0.0</th>\n",
       "      <td>156116</td>\n",
       "    </tr>\n",
       "    <tr>\n",
       "      <th>1.0</th>\n",
       "      <td>151957</td>\n",
       "    </tr>\n",
       "    <tr>\n",
       "      <th>2.0</th>\n",
       "      <td>1598</td>\n",
       "    </tr>\n",
       "    <tr>\n",
       "      <th>3.0</th>\n",
       "      <td>4</td>\n",
       "    </tr>\n",
       "    <tr>\n",
       "      <th rowspan=\"3\" valign=\"top\">2018</th>\n",
       "      <th>0.0</th>\n",
       "      <td>175207</td>\n",
       "    </tr>\n",
       "    <tr>\n",
       "      <th>1.0</th>\n",
       "      <td>207625</td>\n",
       "    </tr>\n",
       "    <tr>\n",
       "      <th>2.0</th>\n",
       "      <td>460</td>\n",
       "    </tr>\n",
       "    <tr>\n",
       "      <th rowspan=\"3\" valign=\"top\">2019</th>\n",
       "      <th>0.0</th>\n",
       "      <td>196257</td>\n",
       "    </tr>\n",
       "    <tr>\n",
       "      <th>1.0</th>\n",
       "      <td>246421</td>\n",
       "    </tr>\n",
       "    <tr>\n",
       "      <th>2.0</th>\n",
       "      <td>1867</td>\n",
       "    </tr>\n",
       "    <tr>\n",
       "      <th rowspan=\"3\" valign=\"top\">2020</th>\n",
       "      <th>0.0</th>\n",
       "      <td>207375</td>\n",
       "    </tr>\n",
       "    <tr>\n",
       "      <th>1.0</th>\n",
       "      <td>265728</td>\n",
       "    </tr>\n",
       "    <tr>\n",
       "      <th>2.0</th>\n",
       "      <td>1430</td>\n",
       "    </tr>\n",
       "  </tbody>\n",
       "</table>\n",
       "</div>"
      ],
      "text/plain": [
       "                             mrun\n",
       "anio_desercion cant_becas        \n",
       "2016           0.0         104329\n",
       "               1.0          79510\n",
       "               2.0           1270\n",
       "               3.0              1\n",
       "2017           0.0         156116\n",
       "               1.0         151957\n",
       "               2.0           1598\n",
       "               3.0              4\n",
       "2018           0.0         175207\n",
       "               1.0         207625\n",
       "               2.0            460\n",
       "2019           0.0         196257\n",
       "               1.0         246421\n",
       "               2.0           1867\n",
       "2020           0.0         207375\n",
       "               1.0         265728\n",
       "               2.0           1430"
      ]
     },
     "execution_count": 91,
     "metadata": {},
     "output_type": "execute_result"
    }
   ],
   "source": [
    "cantidades_becas.groupby([\"anio_desercion\", \"cant_becas\"]).agg({\"mrun\": \"sum\"})"
   ]
  },
  {
   "cell_type": "code",
   "execution_count": 92,
   "id": "d45b29a7",
   "metadata": {},
   "outputs": [
    {
     "data": {
      "image/png": "[encoded data removed]",
      "text/plain": [
       "<Figure size 720x360 with 2 Axes>"
      ]
     },
     "metadata": {},
     "output_type": "display_data"
    }
   ],
   "source": [
    "t_becas = cantidades_becas[cantidades_becas[\"cant_becas\"]<3][[\"anio_desercion\", \"cant_becas\", \"desertor_1_porc\"]]\n",
    "piv_becas = pd.pivot_table(\n",
    "    t_becas, values=\"desertor_1_porc\", index=[\"anio_desercion\"], columns=[\"cant_becas\"]\n",
    ").reset_index().T\n",
    "piv_becas = piv_becas.rename(columns=piv_becas.iloc[0].astype(int))[1:]\n",
    "piv_becas.index = piv_becas.index.astype(int)\n",
    "\n",
    "plt.figure(figsize=(10, 5))\n",
    "sns.heatmap(piv_becas, cmap=\"coolwarm\", cbar_kws={'label': '% Deserción'});\n",
    "plt.xlabel(\"Año\");\n",
    "plt.yticks(rotation=0);\n",
    "plt.ylabel(\"Cant. Beneficios\");\n",
    "plt.title(\"% Deserción por año en CFT/IP\\nsegún cantidad de beneficios\");"
   ]
  },
  {
   "cell_type": "code",
   "execution_count": 93,
   "id": "47884f8a",
   "metadata": {},
   "outputs": [
    {
     "data": {
      "text/html": [
       "<div>\n",
       "<style scoped>\n",
       "    .dataframe tbody tr th:only-of-type {\n",
       "        vertical-align: middle;\n",
       "    }\n",
       "\n",
       "    .dataframe tbody tr th {\n",
       "        vertical-align: top;\n",
       "    }\n",
       "\n",
       "    .dataframe thead th {\n",
       "        text-align: right;\n",
       "    }\n",
       "</style>\n",
       "<table border=\"1\" class=\"dataframe\">\n",
       "  <thead>\n",
       "    <tr style=\"text-align: right;\">\n",
       "      <th></th>\n",
       "      <th>2016</th>\n",
       "      <th>2017</th>\n",
       "      <th>2018</th>\n",
       "      <th>2019</th>\n",
       "      <th>2020</th>\n",
       "    </tr>\n",
       "    <tr>\n",
       "      <th>cant_becas</th>\n",
       "      <th></th>\n",
       "      <th></th>\n",
       "      <th></th>\n",
       "      <th></th>\n",
       "      <th></th>\n",
       "    </tr>\n",
       "  </thead>\n",
       "  <tbody>\n",
       "    <tr>\n",
       "      <th>0</th>\n",
       "      <td>21.462872</td>\n",
       "      <td>19.372774</td>\n",
       "      <td>18.829727</td>\n",
       "      <td>17.299765</td>\n",
       "      <td>19.336950</td>\n",
       "    </tr>\n",
       "    <tr>\n",
       "      <th>1</th>\n",
       "      <td>9.874230</td>\n",
       "      <td>9.384234</td>\n",
       "      <td>8.750873</td>\n",
       "      <td>9.780416</td>\n",
       "      <td>11.823745</td>\n",
       "    </tr>\n",
       "    <tr>\n",
       "      <th>2</th>\n",
       "      <td>5.354331</td>\n",
       "      <td>6.508135</td>\n",
       "      <td>5.217391</td>\n",
       "      <td>1.017675</td>\n",
       "      <td>1.748252</td>\n",
       "    </tr>\n",
       "  </tbody>\n",
       "</table>\n",
       "</div>"
      ],
      "text/plain": [
       "                 2016       2017       2018       2019       2020\n",
       "cant_becas                                                       \n",
       "0           21.462872  19.372774  18.829727  17.299765  19.336950\n",
       "1            9.874230   9.384234   8.750873   9.780416  11.823745\n",
       "2            5.354331   6.508135   5.217391   1.017675   1.748252"
      ]
     },
     "execution_count": 93,
     "metadata": {},
     "output_type": "execute_result"
    }
   ],
   "source": [
    "piv_becas"
   ]
  },
  {
   "cell_type": "code",
   "execution_count": 95,
   "id": "8882742f",
   "metadata": {},
   "outputs": [
    {
     "name": "stderr",
     "output_type": "stream",
     "text": [
      "/home/giani/anaconda3/lib/python3.9/site-packages/scipy/stats/stats.py:1541: UserWarning: kurtosistest only valid for n>=20 ... continuing anyway, n=15\n",
      "  warnings.warn(\"kurtosistest only valid for n>=20 ... continuing \"\n"
     ]
    },
    {
     "data": {
      "text/html": [
       "<div>\n",
       "<style scoped>\n",
       "    .dataframe tbody tr th:only-of-type {\n",
       "        vertical-align: middle;\n",
       "    }\n",
       "\n",
       "    .dataframe tbody tr th {\n",
       "        vertical-align: top;\n",
       "    }\n",
       "\n",
       "    .dataframe thead th {\n",
       "        text-align: right;\n",
       "    }\n",
       "</style>\n",
       "<table border=\"1\" class=\"dataframe\">\n",
       "  <thead>\n",
       "    <tr style=\"text-align: right;\">\n",
       "      <th></th>\n",
       "      <th>0</th>\n",
       "      <th>1</th>\n",
       "      <th>2</th>\n",
       "      <th>3</th>\n",
       "    </tr>\n",
       "  </thead>\n",
       "  <tbody>\n",
       "    <tr>\n",
       "      <th>0</th>\n",
       "      <td>Model:</td>\n",
       "      <td>OLS</td>\n",
       "      <td>Adj. R-squared:</td>\n",
       "      <td>0.930</td>\n",
       "    </tr>\n",
       "    <tr>\n",
       "      <th>1</th>\n",
       "      <td>Dependent Variable:</td>\n",
       "      <td>value</td>\n",
       "      <td>AIC:</td>\n",
       "      <td>62.4183</td>\n",
       "    </tr>\n",
       "    <tr>\n",
       "      <th>2</th>\n",
       "      <td>Date:</td>\n",
       "      <td>2022-10-25 11:07</td>\n",
       "      <td>BIC:</td>\n",
       "      <td>64.5425</td>\n",
       "    </tr>\n",
       "    <tr>\n",
       "      <th>3</th>\n",
       "      <td>No. Observations:</td>\n",
       "      <td>15</td>\n",
       "      <td>Log-Likelihood:</td>\n",
       "      <td>-28.209</td>\n",
       "    </tr>\n",
       "    <tr>\n",
       "      <th>4</th>\n",
       "      <td>Df Model:</td>\n",
       "      <td>2</td>\n",
       "      <td>F-statistic:</td>\n",
       "      <td>94.39</td>\n",
       "    </tr>\n",
       "    <tr>\n",
       "      <th>5</th>\n",
       "      <td>Df Residuals:</td>\n",
       "      <td>12</td>\n",
       "      <td>Prob (F-statistic):</td>\n",
       "      <td>4.56e-08</td>\n",
       "    </tr>\n",
       "    <tr>\n",
       "      <th>6</th>\n",
       "      <td>R-squared:</td>\n",
       "      <td>0.940</td>\n",
       "      <td>Scale:</td>\n",
       "      <td>3.1471</td>\n",
       "    </tr>\n",
       "  </tbody>\n",
       "</table>\n",
       "</div>"
      ],
      "text/plain": [
       "                     0                 1                    2         3\n",
       "0               Model:               OLS      Adj. R-squared:     0.930\n",
       "1  Dependent Variable:             value                 AIC:   62.4183\n",
       "2                Date:  2022-10-25 11:07                 BIC:   64.5425\n",
       "3    No. Observations:                15      Log-Likelihood:   -28.209\n",
       "4            Df Model:                 2         F-statistic:     94.39\n",
       "5        Df Residuals:                12  Prob (F-statistic):  4.56e-08\n",
       "6           R-squared:             0.940               Scale:    3.1471"
      ]
     },
     "execution_count": 95,
     "metadata": {},
     "output_type": "execute_result"
    }
   ],
   "source": [
    "melted_becas = pd.melt(piv_becas.T, value_vars=[0.0, 1.0, 2.0])\n",
    "model_becas = smf.ols('value ~ C(cant_becas)', data=melted_becas).fit()\n",
    "resumen_becas = model_becas.summary2()\n",
    "resumen_becas.tables[0]"
   ]
  },
  {
   "cell_type": "code",
   "execution_count": 96,
   "id": "35c5730b",
   "metadata": {},
   "outputs": [
    {
     "data": {
      "text/html": [
       "<div>\n",
       "<style scoped>\n",
       "    .dataframe tbody tr th:only-of-type {\n",
       "        vertical-align: middle;\n",
       "    }\n",
       "\n",
       "    .dataframe tbody tr th {\n",
       "        vertical-align: top;\n",
       "    }\n",
       "\n",
       "    .dataframe thead th {\n",
       "        text-align: right;\n",
       "    }\n",
       "</style>\n",
       "<table border=\"1\" class=\"dataframe\">\n",
       "  <thead>\n",
       "    <tr style=\"text-align: right;\">\n",
       "      <th></th>\n",
       "      <th>Coef.</th>\n",
       "      <th>Std.Err.</th>\n",
       "      <th>t</th>\n",
       "      <th>P&gt;|t|</th>\n",
       "      <th>[0.025</th>\n",
       "      <th>0.975]</th>\n",
       "    </tr>\n",
       "  </thead>\n",
       "  <tbody>\n",
       "    <tr>\n",
       "      <th>Intercept</th>\n",
       "      <td>19.260418</td>\n",
       "      <td>0.793363</td>\n",
       "      <td>24.276927</td>\n",
       "      <td>1.436480e-11</td>\n",
       "      <td>17.531828</td>\n",
       "      <td>20.989007</td>\n",
       "    </tr>\n",
       "    <tr>\n",
       "      <th>C(cant_becas)[T.1]</th>\n",
       "      <td>-9.337718</td>\n",
       "      <td>1.121985</td>\n",
       "      <td>-8.322500</td>\n",
       "      <td>2.503032e-06</td>\n",
       "      <td>-11.782313</td>\n",
       "      <td>-6.893123</td>\n",
       "    </tr>\n",
       "    <tr>\n",
       "      <th>C(cant_becas)[T.2]</th>\n",
       "      <td>-15.291261</td>\n",
       "      <td>1.121985</td>\n",
       "      <td>-13.628759</td>\n",
       "      <td>1.157181e-08</td>\n",
       "      <td>-17.735856</td>\n",
       "      <td>-12.846666</td>\n",
       "    </tr>\n",
       "  </tbody>\n",
       "</table>\n",
       "</div>"
      ],
      "text/plain": [
       "                        Coef.  Std.Err.          t         P>|t|     [0.025  \\\n",
       "Intercept           19.260418  0.793363  24.276927  1.436480e-11  17.531828   \n",
       "C(cant_becas)[T.1]  -9.337718  1.121985  -8.322500  2.503032e-06 -11.782313   \n",
       "C(cant_becas)[T.2] -15.291261  1.121985 -13.628759  1.157181e-08 -17.735856   \n",
       "\n",
       "                       0.975]  \n",
       "Intercept           20.989007  \n",
       "C(cant_becas)[T.1]  -6.893123  \n",
       "C(cant_becas)[T.2] -12.846666  "
      ]
     },
     "execution_count": 96,
     "metadata": {},
     "output_type": "execute_result"
    }
   ],
   "source": [
    "coefs_becas = resumen_becas.tables[1]\n",
    "coefs_becas[coefs_becas[\"P>|t|\"] < 0.05]"
   ]
  },
  {
   "cell_type": "markdown",
   "id": "8e5061da",
   "metadata": {},
   "source": [
    "# Únicos en periodo\n",
    "## Acreditación carrera"
   ]
  },
  {
   "cell_type": "code",
   "execution_count": 25,
   "id": "4f2c67fa",
   "metadata": {},
   "outputs": [],
   "source": [
    "def invlogit(x):\n",
    "    return 1 / (1+np.exp(-x))"
   ]
  },
  {
   "cell_type": "code",
   "execution_count": 26,
   "id": "b09a94bb",
   "metadata": {},
   "outputs": [
    {
     "data": {
      "text/plain": [
       "(Series([], dtype: int64), (857650, 18))"
      ]
     },
     "execution_count": 26,
     "metadata": {},
     "output_type": "execute_result"
    }
   ],
   "source": [
    "unicos = df[df[\"anio_desercion\"] < 2021].drop(columns=\"anio_desercion\").drop_duplicates().sort_values(by=[\"desertor_1\"], ascending=False).drop_duplicates(subset=[\"mrun\"])\n",
    "vc = unicos[[\"mrun\", \"codigo_unico\"]].value_counts()\n",
    "vc[vc>1], unicos.shape"
   ]
  },
  {
   "cell_type": "code",
   "execution_count": 27,
   "id": "3058919d",
   "metadata": {},
   "outputs": [
    {
     "data": {
      "text/plain": [
       "ACREDITADA       451606\n",
       "NO ACREDITADA    406044\n",
       "Name: acreditada_carr, dtype: int64"
      ]
     },
     "execution_count": 27,
     "metadata": {},
     "output_type": "execute_result"
    }
   ],
   "source": [
    "unicos[\"acreditada_carr\"].value_counts()"
   ]
  },
  {
   "cell_type": "code",
   "execution_count": 28,
   "id": "d03095a0",
   "metadata": {},
   "outputs": [
    {
     "data": {
      "text/plain": [
       "'NO_ACREDITADA'"
      ]
     },
     "execution_count": 28,
     "metadata": {},
     "output_type": "execute_result"
    }
   ],
   "source": [
    "df_acc = pd.get_dummies(\n",
    "    unicos[[\"acreditada_carr\"]],\n",
    "    prefix=\"\",\n",
    "    prefix_sep=\"\"\n",
    ").drop(columns=[\"ACREDITADA\"])\n",
    "\n",
    "df_log1 = pd.concat([\n",
    "    unicos[[\"desertor_1\"]],\n",
    "    df_acc\n",
    "], axis=1)\n",
    "\n",
    "df_log1.columns = [c.replace(\" \", \"_\").replace(\".\", \"\") for c in df_log1.columns]\n",
    "\" + \".join(df_log1.columns[1:])"
   ]
  },
  {
   "cell_type": "code",
   "execution_count": 29,
   "id": "6b75135f",
   "metadata": {},
   "outputs": [
    {
     "name": "stdout",
     "output_type": "stream",
     "text": [
      "Optimization terminated successfully.\n",
      "         Current function value: 0.606552\n",
      "         Iterations 5\n"
     ]
    }
   ],
   "source": [
    "logit_1 = smf.logit(f\"desertor_1 ~ {' + '.join(df_log1.columns[1:])}\", data=df_log1).fit()\n",
    "# logit_1.summary2()"
   ]
  },
  {
   "cell_type": "code",
   "execution_count": 30,
   "id": "9ecedd29",
   "metadata": {},
   "outputs": [
    {
     "data": {
      "text/html": [
       "<div>\n",
       "<style scoped>\n",
       "    .dataframe tbody tr th:only-of-type {\n",
       "        vertical-align: middle;\n",
       "    }\n",
       "\n",
       "    .dataframe tbody tr th {\n",
       "        vertical-align: top;\n",
       "    }\n",
       "\n",
       "    .dataframe thead th {\n",
       "        text-align: right;\n",
       "    }\n",
       "</style>\n",
       "<table border=\"1\" class=\"dataframe\">\n",
       "  <thead>\n",
       "    <tr style=\"text-align: right;\">\n",
       "      <th></th>\n",
       "      <th>Coef.</th>\n",
       "      <th>Std.Err.</th>\n",
       "      <th>z</th>\n",
       "      <th>P&gt;|z|</th>\n",
       "      <th>[0.025</th>\n",
       "      <th>0.975]</th>\n",
       "    </tr>\n",
       "  </thead>\n",
       "  <tbody>\n",
       "    <tr>\n",
       "      <th>NO_ACREDITADA</th>\n",
       "      <td>0.324593</td>\n",
       "      <td>0.004734</td>\n",
       "      <td>68.561533</td>\n",
       "      <td>0.0</td>\n",
       "      <td>0.315314</td>\n",
       "      <td>0.333872</td>\n",
       "    </tr>\n",
       "  </tbody>\n",
       "</table>\n",
       "</div>"
      ],
      "text/plain": [
       "                  Coef.  Std.Err.          z  P>|z|    [0.025    0.975]\n",
       "NO_ACREDITADA  0.324593  0.004734  68.561533    0.0  0.315314  0.333872"
      ]
     },
     "execution_count": 30,
     "metadata": {},
     "output_type": "execute_result"
    }
   ],
   "source": [
    "# Favorece deserción en 0.13 loggods\n",
    "coefs = logit_1.summary2().tables[1]\n",
    "coefs[(coefs[\"P>|z|\"]<0.05) & (coefs[\"Coef.\"] > 0)]"
   ]
  },
  {
   "cell_type": "code",
   "execution_count": 31,
   "id": "7a66489a",
   "metadata": {},
   "outputs": [
    {
     "name": "stdout",
     "output_type": "stream",
     "text": [
      "La probabilidad promedio de desertar siendo de carrera no acreditada es de:  0.33\n"
     ]
    }
   ],
   "source": [
    "estimate_y = logit_1.params['Intercept'] + logit_1.params['NO_ACREDITADA']\n",
    "prob_desercion = invlogit(estimate_y)\n",
    "\n",
    "print(f\"La probabilidad promedio de desertar siendo de carrera no acreditada es de: \", round(prob_desercion, 2))"
   ]
  },
  {
   "cell_type": "code",
   "execution_count": 32,
   "id": "ec058be5",
   "metadata": {},
   "outputs": [
    {
     "data": {
      "text/html": [
       "<div>\n",
       "<style scoped>\n",
       "    .dataframe tbody tr th:only-of-type {\n",
       "        vertical-align: middle;\n",
       "    }\n",
       "\n",
       "    .dataframe tbody tr th {\n",
       "        vertical-align: top;\n",
       "    }\n",
       "\n",
       "    .dataframe thead th {\n",
       "        text-align: right;\n",
       "    }\n",
       "</style>\n",
       "<table border=\"1\" class=\"dataframe\">\n",
       "  <thead>\n",
       "    <tr style=\"text-align: right;\">\n",
       "      <th></th>\n",
       "      <th>Coef.</th>\n",
       "      <th>Std.Err.</th>\n",
       "      <th>z</th>\n",
       "      <th>P&gt;|z|</th>\n",
       "      <th>[0.025</th>\n",
       "      <th>0.975]</th>\n",
       "    </tr>\n",
       "  </thead>\n",
       "  <tbody>\n",
       "    <tr>\n",
       "      <th>Intercept</th>\n",
       "      <td>-1.015026</td>\n",
       "      <td>0.003368</td>\n",
       "      <td>-301.400945</td>\n",
       "      <td>0.0</td>\n",
       "      <td>-1.021627</td>\n",
       "      <td>-1.008426</td>\n",
       "    </tr>\n",
       "  </tbody>\n",
       "</table>\n",
       "</div>"
      ],
      "text/plain": [
       "              Coef.  Std.Err.           z  P>|z|    [0.025    0.975]\n",
       "Intercept -1.015026  0.003368 -301.400945    0.0 -1.021627 -1.008426"
      ]
     },
     "execution_count": 32,
     "metadata": {},
     "output_type": "execute_result"
    }
   ],
   "source": [
    "coefs[(coefs[\"P>|z|\"]<0.05) & (coefs[\"Coef.\"] < 0)]"
   ]
  },
  {
   "cell_type": "code",
   "execution_count": 33,
   "id": "e8e9bbbf",
   "metadata": {},
   "outputs": [
    {
     "name": "stdout",
     "output_type": "stream",
     "text": [
      "La probabilidad promedio de desertar siendo de Intercept es de:  0.12\n"
     ]
    }
   ],
   "source": [
    "for r in coefs[(coefs[\"P>|z|\"]<0.05) & (coefs[\"Coef.\"] < 0)].index:\n",
    "    estimate_y = logit_1.params['Intercept'] + logit_1.params[r]\n",
    "    prob_desercion = invlogit(estimate_y)\n",
    "\n",
    "    print(f\"La probabilidad promedio de desertar siendo de {r} es de: \", round(prob_desercion, 2))"
   ]
  },
  {
   "cell_type": "markdown",
   "id": "578542ba",
   "metadata": {},
   "source": [
    "## Cant. Becas"
   ]
  },
  {
   "cell_type": "code",
   "execution_count": 43,
   "id": "e8eee63a",
   "metadata": {},
   "outputs": [],
   "source": [
    "unicos[\"cant_becas\"] = unicos[\"cant_becas\"].astype(str)"
   ]
  },
  {
   "cell_type": "code",
   "execution_count": 52,
   "id": "fdfc76ae",
   "metadata": {},
   "outputs": [
    {
     "data": {
      "text/plain": [
       "'Sin_beca + Dos_becas + Tres_becas'"
      ]
     },
     "execution_count": 52,
     "metadata": {},
     "output_type": "execute_result"
    }
   ],
   "source": [
    "df_becas = pd.get_dummies(\n",
    "    unicos[[\"cant_becas\"]],\n",
    "    prefix=\"\",\n",
    "    prefix_sep=\"\"\n",
    ").drop(columns=[\"1.0\"])\n",
    "\n",
    "df_log2 = pd.concat([\n",
    "    unicos[[\"desertor_1\"]],\n",
    "    df_becas\n",
    "], axis=1)\n",
    "\n",
    "df_log2.columns = [\"desertor_1\", \"Sin_beca\", \"Dos_becas\", \"Tres_becas\"]\n",
    "\" + \".join(df_log2.columns[1:])"
   ]
  },
  {
   "cell_type": "code",
   "execution_count": 53,
   "id": "c649618d",
   "metadata": {},
   "outputs": [
    {
     "name": "stdout",
     "output_type": "stream",
     "text": [
      "Warning: Maximum number of iterations has been exceeded.\n",
      "         Current function value: 0.594898\n",
      "         Iterations: 35\n"
     ]
    },
    {
     "name": "stderr",
     "output_type": "stream",
     "text": [
      "/home/giani/anaconda3/lib/python3.9/site-packages/statsmodels/base/model.py:604: ConvergenceWarning: Maximum Likelihood optimization failed to converge. Check mle_retvals\n",
      "  warnings.warn(\"Maximum Likelihood optimization failed to \"\n"
     ]
    }
   ],
   "source": [
    "logit_2 = smf.logit(f\"desertor_1 ~ {' + '.join(df_log2.columns[1:])}\", data=df_log2).fit()\n",
    "# logit_2.summary2()"
   ]
  },
  {
   "cell_type": "code",
   "execution_count": 54,
   "id": "6a3e1629",
   "metadata": {},
   "outputs": [
    {
     "data": {
      "text/html": [
       "<div>\n",
       "<style scoped>\n",
       "    .dataframe tbody tr th:only-of-type {\n",
       "        vertical-align: middle;\n",
       "    }\n",
       "\n",
       "    .dataframe tbody tr th {\n",
       "        vertical-align: top;\n",
       "    }\n",
       "\n",
       "    .dataframe thead th {\n",
       "        text-align: right;\n",
       "    }\n",
       "</style>\n",
       "<table border=\"1\" class=\"dataframe\">\n",
       "  <thead>\n",
       "    <tr style=\"text-align: right;\">\n",
       "      <th></th>\n",
       "      <th>Coef.</th>\n",
       "      <th>Std.Err.</th>\n",
       "      <th>z</th>\n",
       "      <th>P&gt;|z|</th>\n",
       "      <th>[0.025</th>\n",
       "      <th>0.975]</th>\n",
       "    </tr>\n",
       "  </thead>\n",
       "  <tbody>\n",
       "    <tr>\n",
       "      <th>Sin_beca</th>\n",
       "      <td>0.740816</td>\n",
       "      <td>0.004844</td>\n",
       "      <td>152.941423</td>\n",
       "      <td>0.0</td>\n",
       "      <td>0.731323</td>\n",
       "      <td>0.75031</td>\n",
       "    </tr>\n",
       "  </tbody>\n",
       "</table>\n",
       "</div>"
      ],
      "text/plain": [
       "             Coef.  Std.Err.           z  P>|z|    [0.025   0.975]\n",
       "Sin_beca  0.740816  0.004844  152.941423    0.0  0.731323  0.75031"
      ]
     },
     "execution_count": 54,
     "metadata": {},
     "output_type": "execute_result"
    }
   ],
   "source": [
    "coefs_2 = logit_2.summary2().tables[1]\n",
    "coefs_2[(coefs_2[\"Coef.\"] > 0)]"
   ]
  },
  {
   "cell_type": "code",
   "execution_count": 55,
   "id": "03de3f48",
   "metadata": {},
   "outputs": [
    {
     "data": {
      "text/html": [
       "<div>\n",
       "<style scoped>\n",
       "    .dataframe tbody tr th:only-of-type {\n",
       "        vertical-align: middle;\n",
       "    }\n",
       "\n",
       "    .dataframe tbody tr th {\n",
       "        vertical-align: top;\n",
       "    }\n",
       "\n",
       "    .dataframe thead th {\n",
       "        text-align: right;\n",
       "    }\n",
       "</style>\n",
       "<table border=\"1\" class=\"dataframe\">\n",
       "  <thead>\n",
       "    <tr style=\"text-align: right;\">\n",
       "      <th></th>\n",
       "      <th>Coef.</th>\n",
       "      <th>Std.Err.</th>\n",
       "      <th>z</th>\n",
       "      <th>P&gt;|z|</th>\n",
       "      <th>[0.025</th>\n",
       "      <th>0.975]</th>\n",
       "    </tr>\n",
       "  </thead>\n",
       "  <tbody>\n",
       "    <tr>\n",
       "      <th>Intercept</th>\n",
       "      <td>-1.248968</td>\n",
       "      <td>0.003665</td>\n",
       "      <td>-340.783441</td>\n",
       "      <td>0.000000e+00</td>\n",
       "      <td>-1.256151</td>\n",
       "      <td>-1.241785</td>\n",
       "    </tr>\n",
       "    <tr>\n",
       "      <th>Dos_becas</th>\n",
       "      <td>-1.086003</td>\n",
       "      <td>0.067701</td>\n",
       "      <td>-16.041065</td>\n",
       "      <td>6.601237e-58</td>\n",
       "      <td>-1.218696</td>\n",
       "      <td>-0.953311</td>\n",
       "    </tr>\n",
       "  </tbody>\n",
       "</table>\n",
       "</div>"
      ],
      "text/plain": [
       "              Coef.  Std.Err.           z         P>|z|    [0.025    0.975]\n",
       "Intercept -1.248968  0.003665 -340.783441  0.000000e+00 -1.256151 -1.241785\n",
       "Dos_becas -1.086003  0.067701  -16.041065  6.601237e-58 -1.218696 -0.953311"
      ]
     },
     "execution_count": 55,
     "metadata": {},
     "output_type": "execute_result"
    }
   ],
   "source": [
    "coefs_2[(coefs_2[\"P>|z|\"]<0.05) & (coefs_2[\"Coef.\"] < 0)]"
   ]
  },
  {
   "cell_type": "code",
   "execution_count": 56,
   "id": "f3593368",
   "metadata": {},
   "outputs": [
    {
     "name": "stdout",
     "output_type": "stream",
     "text": [
      "La probabilidad promedio de desertar siendo de Intercept es de:  0.08\n",
      "La probabilidad promedio de desertar siendo de Sin_beca es de:  0.38\n",
      "La probabilidad promedio de desertar siendo de Dos_becas es de:  0.09\n"
     ]
    }
   ],
   "source": [
    "for r in coefs_2[(coefs_2[\"P>|z|\"]<0.05)].index:\n",
    "    estimate_y = logit_2.params['Intercept'] + logit_2.params[r]\n",
    "    prob_desercion = invlogit(estimate_y)\n",
    "\n",
    "    print(f\"La probabilidad promedio de desertar siendo de {r} es de: \", round(prob_desercion, 2))"
   ]
  },
  {
   "cell_type": "code",
   "execution_count": null,
   "id": "488092af",
   "metadata": {},
   "outputs": [],
   "source": []
  }
 ],
 "metadata": {
  "kernelspec": {
   "display_name": "Python 3 (ipykernel)",
   "language": "python",
   "name": "python3"
  },
  "language_info": {
   "codemirror_mode": {
    "name": "ipython",
    "version": 3
   },
   "file_extension": ".py",
   "mimetype": "text/x-python",
   "name": "python",
   "nbconvert_exporter": "python",
   "pygments_lexer": "ipython3",
   "version": "3.9.12"
  }
 },
 "nbformat": 4,
 "nbformat_minor": 5
}
