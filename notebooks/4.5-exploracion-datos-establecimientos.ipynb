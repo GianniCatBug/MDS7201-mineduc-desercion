{
 "cells": [
  {
   "cell_type": "code",
   "execution_count": 1681,
   "metadata": {
    "colab": {
     "base_uri": "https://localhost:8080/"
    },
    "id": "d-VpOrOWmVJU",
    "outputId": "09930f06-44ff-4567-9ce8-ca02989d96d1"
   },
   "outputs": [
    {
     "name": "stdout",
     "output_type": "stream",
     "text": [
      "Requirement already satisfied: squarify in /Library/Frameworks/Python.framework/Versions/3.10/lib/python3.10/site-packages (0.4.3)\n",
      "\u001b[33mWARNING: You are using pip version 21.2.4; however, version 22.2.2 is available.\n",
      "You should consider upgrading via the '/Library/Frameworks/Python.framework/Versions/3.10/bin/python3.10 -m pip install --upgrade pip' command.\u001b[0m\n"
     ]
    }
   ],
   "source": [
    "import numpy as np\n",
    "import pandas as pd\n",
    "import matplotlib.pyplot as plt\n",
    "import seaborn as sns\n",
    "! pip3 install squarify\n",
    "import squarify\n",
    "import matplotlib.colors as colors"
   ]
  },
  {
   "cell_type": "markdown",
   "metadata": {
    "id": "A56QokRt2FA2"
   },
   "source": [
    "# ANÁLISIS DE DESERTORES DE IP/CFT POR TIPO DE ESTABLECIMIENTO EDUCACIONAL Y ENSEÑANZA"
   ]
  },
  {
   "cell_type": "markdown",
   "metadata": {
    "id": "mpOJzlIs2C1G"
   },
   "source": [
    "## LECTURA DE DATOS"
   ]
  },
  {
   "cell_type": "code",
   "execution_count": 1682,
   "metadata": {
    "id": "pmoxZkwhokRg"
   },
   "outputs": [],
   "source": [
    "# MODALIDAD DE COLEGIO\n",
    "# TIPO DE ESTABLECIMIENTO"
   ]
  },
  {
   "cell_type": "code",
   "execution_count": 1683,
   "metadata": {
    "id": "Z1Fo0cJh6zVJ"
   },
   "outputs": [],
   "source": [
    "cols = [ 'mrun','cat_periodo', 'codigo_unico', \n",
    "       'anio_ing_carr_ori','fec_nac_alu', 'region_sede',\n",
    "       'tipo_inst_1', 'dependencia_colegio','tipo_ensenanza_colegio','desertor_1']"
   ]
  },
  {
   "cell_type": "code",
   "execution_count": 1684,
   "metadata": {
    "id": "_v_IcLNxmW0P"
   },
   "outputs": [
    {
     "name": "stderr",
     "output_type": "stream",
     "text": [
      "/var/folders/5_/w5jydt951sj0xng_km9pk2d40000gn/T/ipykernel_6752/1211812544.py:1: DtypeWarning: Columns (16) have mixed types. Specify dtype option on import or set low_memory=False.\n",
      "  df = pd.read_csv('file:///Users/cristobalperez/Downloads/matriz_desercion.csv',usecols=cols)\n"
     ]
    },
    {
     "data": {
      "text/html": [
       "<div>\n",
       "<style scoped>\n",
       "    .dataframe tbody tr th:only-of-type {\n",
       "        vertical-align: middle;\n",
       "    }\n",
       "\n",
       "    .dataframe tbody tr th {\n",
       "        vertical-align: top;\n",
       "    }\n",
       "\n",
       "    .dataframe thead th {\n",
       "        text-align: right;\n",
       "    }\n",
       "</style>\n",
       "<table border=\"1\" class=\"dataframe\">\n",
       "  <thead>\n",
       "    <tr style=\"text-align: right;\">\n",
       "      <th></th>\n",
       "      <th>cat_periodo</th>\n",
       "      <th>codigo_unico</th>\n",
       "      <th>mrun</th>\n",
       "      <th>fec_nac_alu</th>\n",
       "      <th>anio_ing_carr_ori</th>\n",
       "      <th>tipo_inst_1</th>\n",
       "      <th>region_sede</th>\n",
       "      <th>desertor_1</th>\n",
       "      <th>tipo_ensenanza_colegio</th>\n",
       "      <th>dependencia_colegio</th>\n",
       "    </tr>\n",
       "  </thead>\n",
       "  <tbody>\n",
       "    <tr>\n",
       "      <th>0</th>\n",
       "      <td>2015</td>\n",
       "      <td>I498S6C132J2V1</td>\n",
       "      <td>37.0</td>\n",
       "      <td>197808</td>\n",
       "      <td>2015</td>\n",
       "      <td>Centros de Formación Técnica</td>\n",
       "      <td>Biobío</td>\n",
       "      <td>0.0</td>\n",
       "      <td>NaN</td>\n",
       "      <td>NaN</td>\n",
       "    </tr>\n",
       "    <tr>\n",
       "      <th>1</th>\n",
       "      <td>2015</td>\n",
       "      <td>I111S14C309J2V1</td>\n",
       "      <td>118.0</td>\n",
       "      <td>199102</td>\n",
       "      <td>2015</td>\n",
       "      <td>Institutos Profesionales</td>\n",
       "      <td>Metropolitana</td>\n",
       "      <td>0.0</td>\n",
       "      <td>310.0</td>\n",
       "      <td>3.0</td>\n",
       "    </tr>\n",
       "    <tr>\n",
       "      <th>2</th>\n",
       "      <td>2015</td>\n",
       "      <td>I106S3C64J4V1</td>\n",
       "      <td>253.0</td>\n",
       "      <td>198404</td>\n",
       "      <td>2015</td>\n",
       "      <td>Institutos Profesionales</td>\n",
       "      <td>Metropolitana</td>\n",
       "      <td>1.0</td>\n",
       "      <td>NaN</td>\n",
       "      <td>NaN</td>\n",
       "    </tr>\n",
       "    <tr>\n",
       "      <th>3</th>\n",
       "      <td>2015</td>\n",
       "      <td>I221S1C57J1V1</td>\n",
       "      <td>370.0</td>\n",
       "      <td>198910</td>\n",
       "      <td>2015</td>\n",
       "      <td>Centros de Formación Técnica</td>\n",
       "      <td>Metropolitana</td>\n",
       "      <td>1.0</td>\n",
       "      <td>310.0</td>\n",
       "      <td>3.0</td>\n",
       "    </tr>\n",
       "    <tr>\n",
       "      <th>4</th>\n",
       "      <td>2015</td>\n",
       "      <td>I176S8C59J2V1</td>\n",
       "      <td>533.0</td>\n",
       "      <td>198309</td>\n",
       "      <td>2015</td>\n",
       "      <td>Institutos Profesionales</td>\n",
       "      <td>Coquimbo</td>\n",
       "      <td>0.0</td>\n",
       "      <td>510.0</td>\n",
       "      <td>2.0</td>\n",
       "    </tr>\n",
       "    <tr>\n",
       "      <th>...</th>\n",
       "      <td>...</td>\n",
       "      <td>...</td>\n",
       "      <td>...</td>\n",
       "      <td>...</td>\n",
       "      <td>...</td>\n",
       "      <td>...</td>\n",
       "      <td>...</td>\n",
       "      <td>...</td>\n",
       "      <td>...</td>\n",
       "      <td>...</td>\n",
       "    </tr>\n",
       "    <tr>\n",
       "      <th>2746509</th>\n",
       "      <td>2021</td>\n",
       "      <td>I106S6C295J4V1</td>\n",
       "      <td>26380151.0</td>\n",
       "      <td>199603</td>\n",
       "      <td>2020</td>\n",
       "      <td>Institutos Profesionales</td>\n",
       "      <td>Metropolitana</td>\n",
       "      <td>0.0</td>\n",
       "      <td>NaN</td>\n",
       "      <td>NaN</td>\n",
       "    </tr>\n",
       "    <tr>\n",
       "      <th>2746510</th>\n",
       "      <td>2021</td>\n",
       "      <td>I260S44C120J1V1</td>\n",
       "      <td>26380152.0</td>\n",
       "      <td>200302</td>\n",
       "      <td>2021</td>\n",
       "      <td>Centros de Formación Técnica</td>\n",
       "      <td>Magallanes</td>\n",
       "      <td>1.0</td>\n",
       "      <td>NaN</td>\n",
       "      <td>NaN</td>\n",
       "    </tr>\n",
       "    <tr>\n",
       "      <th>2746511</th>\n",
       "      <td>2021</td>\n",
       "      <td>I152S10C341J4V1</td>\n",
       "      <td>26453499.0</td>\n",
       "      <td>199208</td>\n",
       "      <td>2021</td>\n",
       "      <td>Institutos Profesionales</td>\n",
       "      <td>Metropolitana</td>\n",
       "      <td>1.0</td>\n",
       "      <td>NaN</td>\n",
       "      <td>NaN</td>\n",
       "    </tr>\n",
       "    <tr>\n",
       "      <th>2746512</th>\n",
       "      <td>2021</td>\n",
       "      <td>I152S10C349J4V1</td>\n",
       "      <td>26453942.0</td>\n",
       "      <td>196501</td>\n",
       "      <td>2020</td>\n",
       "      <td>Institutos Profesionales</td>\n",
       "      <td>Metropolitana</td>\n",
       "      <td>0.0</td>\n",
       "      <td>NaN</td>\n",
       "      <td>NaN</td>\n",
       "    </tr>\n",
       "    <tr>\n",
       "      <th>2746513</th>\n",
       "      <td>2021</td>\n",
       "      <td>I367S1C127J1V1</td>\n",
       "      <td>26987947.0</td>\n",
       "      <td>200002</td>\n",
       "      <td>2021</td>\n",
       "      <td>Centros de Formación Técnica</td>\n",
       "      <td>Maule</td>\n",
       "      <td>0.0</td>\n",
       "      <td>NaN</td>\n",
       "      <td>NaN</td>\n",
       "    </tr>\n",
       "  </tbody>\n",
       "</table>\n",
       "<p>2746514 rows × 10 columns</p>\n",
       "</div>"
      ],
      "text/plain": [
       "         cat_periodo     codigo_unico        mrun  fec_nac_alu  \\\n",
       "0               2015   I498S6C132J2V1        37.0       197808   \n",
       "1               2015  I111S14C309J2V1       118.0       199102   \n",
       "2               2015    I106S3C64J4V1       253.0       198404   \n",
       "3               2015    I221S1C57J1V1       370.0       198910   \n",
       "4               2015    I176S8C59J2V1       533.0       198309   \n",
       "...              ...              ...         ...          ...   \n",
       "2746509         2021   I106S6C295J4V1  26380151.0       199603   \n",
       "2746510         2021  I260S44C120J1V1  26380152.0       200302   \n",
       "2746511         2021  I152S10C341J4V1  26453499.0       199208   \n",
       "2746512         2021  I152S10C349J4V1  26453942.0       196501   \n",
       "2746513         2021   I367S1C127J1V1  26987947.0       200002   \n",
       "\n",
       "         anio_ing_carr_ori                   tipo_inst_1    region_sede  \\\n",
       "0                     2015  Centros de Formación Técnica         Biobío   \n",
       "1                     2015      Institutos Profesionales  Metropolitana   \n",
       "2                     2015      Institutos Profesionales  Metropolitana   \n",
       "3                     2015  Centros de Formación Técnica  Metropolitana   \n",
       "4                     2015      Institutos Profesionales       Coquimbo   \n",
       "...                    ...                           ...            ...   \n",
       "2746509               2020      Institutos Profesionales  Metropolitana   \n",
       "2746510               2021  Centros de Formación Técnica     Magallanes   \n",
       "2746511               2021      Institutos Profesionales  Metropolitana   \n",
       "2746512               2020      Institutos Profesionales  Metropolitana   \n",
       "2746513               2021  Centros de Formación Técnica          Maule   \n",
       "\n",
       "         desertor_1  tipo_ensenanza_colegio dependencia_colegio  \n",
       "0               0.0                     NaN                 NaN  \n",
       "1               0.0                   310.0                 3.0  \n",
       "2               1.0                     NaN                 NaN  \n",
       "3               1.0                   310.0                 3.0  \n",
       "4               0.0                   510.0                 2.0  \n",
       "...             ...                     ...                 ...  \n",
       "2746509         0.0                     NaN                 NaN  \n",
       "2746510         1.0                     NaN                 NaN  \n",
       "2746511         1.0                     NaN                 NaN  \n",
       "2746512         0.0                     NaN                 NaN  \n",
       "2746513         0.0                     NaN                 NaN  \n",
       "\n",
       "[2746514 rows x 10 columns]"
      ]
     },
     "execution_count": 1684,
     "metadata": {},
     "output_type": "execute_result"
    }
   ],
   "source": [
    "df = pd.read_csv('file:///Users/cristobalperez/Downloads/matriz_desercion.csv',usecols=cols)\n",
    "df"
   ]
  },
  {
   "cell_type": "code",
   "execution_count": 1685,
   "metadata": {
    "id": "3XHI383b3wqX"
   },
   "outputs": [],
   "source": [
    "df = df.drop_duplicates(subset='mrun')"
   ]
  },
  {
   "cell_type": "code",
   "execution_count": 1686,
   "metadata": {},
   "outputs": [
    {
     "name": "stderr",
     "output_type": "stream",
     "text": [
      "/var/folders/5_/w5jydt951sj0xng_km9pk2d40000gn/T/ipykernel_6752/3933535406.py:13: SettingWithCopyWarning: \n",
      "A value is trying to be set on a copy of a slice from a DataFrame.\n",
      "Try using .loc[row_indexer,col_indexer] = value instead\n",
      "\n",
      "See the caveats in the documentation: https://pandas.pydata.org/pandas-docs/stable/user_guide/indexing.html#returning-a-view-versus-a-copy\n",
      "  df[\"edad\"] = df.apply(lambda row: edad(row), axis=1)\n"
     ]
    },
    {
     "data": {
      "text/html": [
       "<div>\n",
       "<style scoped>\n",
       "    .dataframe tbody tr th:only-of-type {\n",
       "        vertical-align: middle;\n",
       "    }\n",
       "\n",
       "    .dataframe tbody tr th {\n",
       "        vertical-align: top;\n",
       "    }\n",
       "\n",
       "    .dataframe thead th {\n",
       "        text-align: right;\n",
       "    }\n",
       "</style>\n",
       "<table border=\"1\" class=\"dataframe\">\n",
       "  <thead>\n",
       "    <tr style=\"text-align: right;\">\n",
       "      <th></th>\n",
       "      <th>cat_periodo</th>\n",
       "      <th>codigo_unico</th>\n",
       "      <th>mrun</th>\n",
       "      <th>fec_nac_alu</th>\n",
       "      <th>anio_ing_carr_ori</th>\n",
       "      <th>tipo_inst_1</th>\n",
       "      <th>region_sede</th>\n",
       "      <th>desertor_1</th>\n",
       "      <th>tipo_ensenanza_colegio</th>\n",
       "      <th>dependencia_colegio</th>\n",
       "      <th>edad</th>\n",
       "    </tr>\n",
       "  </thead>\n",
       "  <tbody>\n",
       "    <tr>\n",
       "      <th>0</th>\n",
       "      <td>2015</td>\n",
       "      <td>I498S6C132J2V1</td>\n",
       "      <td>37.0</td>\n",
       "      <td>197808</td>\n",
       "      <td>2015</td>\n",
       "      <td>Centros de Formación Técnica</td>\n",
       "      <td>Biobío</td>\n",
       "      <td>0.0</td>\n",
       "      <td>NaN</td>\n",
       "      <td>NaN</td>\n",
       "      <td>36</td>\n",
       "    </tr>\n",
       "    <tr>\n",
       "      <th>1</th>\n",
       "      <td>2015</td>\n",
       "      <td>I111S14C309J2V1</td>\n",
       "      <td>118.0</td>\n",
       "      <td>199102</td>\n",
       "      <td>2015</td>\n",
       "      <td>Institutos Profesionales</td>\n",
       "      <td>Metropolitana</td>\n",
       "      <td>0.0</td>\n",
       "      <td>310.0</td>\n",
       "      <td>3.0</td>\n",
       "      <td>23</td>\n",
       "    </tr>\n",
       "    <tr>\n",
       "      <th>2</th>\n",
       "      <td>2015</td>\n",
       "      <td>I106S3C64J4V1</td>\n",
       "      <td>253.0</td>\n",
       "      <td>198404</td>\n",
       "      <td>2015</td>\n",
       "      <td>Institutos Profesionales</td>\n",
       "      <td>Metropolitana</td>\n",
       "      <td>1.0</td>\n",
       "      <td>NaN</td>\n",
       "      <td>NaN</td>\n",
       "      <td>30</td>\n",
       "    </tr>\n",
       "    <tr>\n",
       "      <th>3</th>\n",
       "      <td>2015</td>\n",
       "      <td>I221S1C57J1V1</td>\n",
       "      <td>370.0</td>\n",
       "      <td>198910</td>\n",
       "      <td>2015</td>\n",
       "      <td>Centros de Formación Técnica</td>\n",
       "      <td>Metropolitana</td>\n",
       "      <td>1.0</td>\n",
       "      <td>310.0</td>\n",
       "      <td>3.0</td>\n",
       "      <td>25</td>\n",
       "    </tr>\n",
       "    <tr>\n",
       "      <th>4</th>\n",
       "      <td>2015</td>\n",
       "      <td>I176S8C59J2V1</td>\n",
       "      <td>533.0</td>\n",
       "      <td>198309</td>\n",
       "      <td>2015</td>\n",
       "      <td>Institutos Profesionales</td>\n",
       "      <td>Coquimbo</td>\n",
       "      <td>0.0</td>\n",
       "      <td>510.0</td>\n",
       "      <td>2.0</td>\n",
       "      <td>31</td>\n",
       "    </tr>\n",
       "  </tbody>\n",
       "</table>\n",
       "</div>"
      ],
      "text/plain": [
       "   cat_periodo     codigo_unico   mrun  fec_nac_alu  anio_ing_carr_ori  \\\n",
       "0         2015   I498S6C132J2V1   37.0       197808               2015   \n",
       "1         2015  I111S14C309J2V1  118.0       199102               2015   \n",
       "2         2015    I106S3C64J4V1  253.0       198404               2015   \n",
       "3         2015    I221S1C57J1V1  370.0       198910               2015   \n",
       "4         2015    I176S8C59J2V1  533.0       198309               2015   \n",
       "\n",
       "                    tipo_inst_1    region_sede  desertor_1  \\\n",
       "0  Centros de Formación Técnica         Biobío         0.0   \n",
       "1      Institutos Profesionales  Metropolitana         0.0   \n",
       "2      Institutos Profesionales  Metropolitana         1.0   \n",
       "3  Centros de Formación Técnica  Metropolitana         1.0   \n",
       "4      Institutos Profesionales       Coquimbo         0.0   \n",
       "\n",
       "   tipo_ensenanza_colegio dependencia_colegio  edad  \n",
       "0                     NaN                 NaN    36  \n",
       "1                   310.0                 3.0    23  \n",
       "2                     NaN                 NaN    30  \n",
       "3                   310.0                 3.0    25  \n",
       "4                   510.0                 2.0    31  "
      ]
     },
     "execution_count": 1686,
     "metadata": {},
     "output_type": "execute_result"
    }
   ],
   "source": [
    "import datetime\n",
    "# pasar int a tipo fecha\n",
    "int2date = lambda x: datetime.date(x//100, x-100*(x//100), 1)\n",
    "\n",
    "#calcular edad\n",
    "def edad(df):\n",
    "    anio_ing_carr_ori = df[\"anio_ing_carr_ori\"]\n",
    "    fec_nac = df[\"fec_nac_alu\"]\n",
    "    \n",
    "    return datetime.date(anio_ing_carr_ori,1,1).year - int2date(fec_nac).year \\\n",
    "                        - (datetime.date(anio_ing_carr_ori,1,1).month < int2date(fec_nac).month)\n",
    "\n",
    "df[\"edad\"] = df.apply(lambda row: edad(row), axis=1)\n",
    "\n",
    "df.head()"
   ]
  },
  {
   "cell_type": "code",
   "execution_count": 1687,
   "metadata": {
    "id": "eRFitWk8zh7_"
   },
   "outputs": [],
   "source": [
    "df2 = df.copy()"
   ]
  },
  {
   "cell_type": "code",
   "execution_count": 1688,
   "metadata": {
    "colab": {
     "base_uri": "https://localhost:8080/"
    },
    "id": "yXt8F_WB2eU4",
    "outputId": "fde58522-932b-494d-bc2f-bee205f76fd1"
   },
   "outputs": [
    {
     "data": {
      "text/plain": [
       "cat_periodo               0.000000\n",
       "codigo_unico              0.000000\n",
       "mrun                      0.000000\n",
       "fec_nac_alu               0.000000\n",
       "anio_ing_carr_ori         0.000000\n",
       "tipo_inst_1               0.000000\n",
       "region_sede               0.000000\n",
       "desertor_1                0.000000\n",
       "edad                      0.000000\n",
       "tipo_ensenanza_colegio    0.138767\n",
       "dependencia_colegio       0.141929\n",
       "dtype: float64"
      ]
     },
     "execution_count": 1688,
     "metadata": {},
     "output_type": "execute_result"
    }
   ],
   "source": [
    "(df.isna().sum()/df.shape[0]).sort_values()#.plot.barh(figsize=(10, 5))"
   ]
  },
  {
   "cell_type": "code",
   "execution_count": 1689,
   "metadata": {},
   "outputs": [
    {
     "name": "stdout",
     "output_type": "stream",
     "text": [
      "Requirement already satisfied: missingno in /Library/Frameworks/Python.framework/Versions/3.10/lib/python3.10/site-packages (0.5.1)\n",
      "Requirement already satisfied: numpy in /Library/Frameworks/Python.framework/Versions/3.10/lib/python3.10/site-packages (from missingno) (1.22.2)\n",
      "Requirement already satisfied: scipy in /Library/Frameworks/Python.framework/Versions/3.10/lib/python3.10/site-packages (from missingno) (1.8.0)\n",
      "Requirement already satisfied: matplotlib in /Library/Frameworks/Python.framework/Versions/3.10/lib/python3.10/site-packages (from missingno) (3.5.1)\n",
      "Requirement already satisfied: seaborn in /Library/Frameworks/Python.framework/Versions/3.10/lib/python3.10/site-packages (from missingno) (0.11.2)\n",
      "Requirement already satisfied: kiwisolver>=1.0.1 in /Library/Frameworks/Python.framework/Versions/3.10/lib/python3.10/site-packages (from matplotlib->missingno) (1.3.2)\n",
      "Requirement already satisfied: packaging>=20.0 in /Library/Frameworks/Python.framework/Versions/3.10/lib/python3.10/site-packages (from matplotlib->missingno) (21.3)\n",
      "Requirement already satisfied: cycler>=0.10 in /Library/Frameworks/Python.framework/Versions/3.10/lib/python3.10/site-packages (from matplotlib->missingno) (0.11.0)\n",
      "Requirement already satisfied: python-dateutil>=2.7 in /Library/Frameworks/Python.framework/Versions/3.10/lib/python3.10/site-packages (from matplotlib->missingno) (2.8.2)\n",
      "Requirement already satisfied: pyparsing>=2.2.1 in /Library/Frameworks/Python.framework/Versions/3.10/lib/python3.10/site-packages (from matplotlib->missingno) (3.0.7)\n",
      "Requirement already satisfied: pillow>=6.2.0 in /Library/Frameworks/Python.framework/Versions/3.10/lib/python3.10/site-packages (from matplotlib->missingno) (9.0.1)\n",
      "Requirement already satisfied: fonttools>=4.22.0 in /Library/Frameworks/Python.framework/Versions/3.10/lib/python3.10/site-packages (from matplotlib->missingno) (4.29.1)\n",
      "Requirement already satisfied: six>=1.5 in /Library/Frameworks/Python.framework/Versions/3.10/lib/python3.10/site-packages (from python-dateutil>=2.7->matplotlib->missingno) (1.16.0)\n",
      "Requirement already satisfied: pandas>=0.23 in /Library/Frameworks/Python.framework/Versions/3.10/lib/python3.10/site-packages (from seaborn->missingno) (1.4.1)\n",
      "Requirement already satisfied: pytz>=2020.1 in /Library/Frameworks/Python.framework/Versions/3.10/lib/python3.10/site-packages (from pandas>=0.23->seaborn->missingno) (2021.3)\n",
      "\u001b[33mWARNING: You are using pip version 21.2.4; however, version 22.2.2 is available.\n",
      "You should consider upgrading via the '/Library/Frameworks/Python.framework/Versions/3.10/bin/python3.10 -m pip install --upgrade pip' command.\u001b[0m\n"
     ]
    },
    {
     "data": {
      "text/plain": [
       "<AxesSubplot:>"
      ]
     },
     "execution_count": 1689,
     "metadata": {},
     "output_type": "execute_result"
    },
    {
     "data": {
      "image/png": "[encoded data removed]",
      "text/plain": [
       "<Figure size 1800x720 with 2 Axes>"
      ]
     },
     "metadata": {
      "needs_background": "light"
     },
     "output_type": "display_data"
    }
   ],
   "source": [
    "! pip3 install missingno\n",
    "import missingno as msno\n",
    "msno.matrix(df)"
   ]
  },
  {
   "cell_type": "code",
   "execution_count": 1690,
   "metadata": {
    "colab": {
     "base_uri": "https://localhost:8080/"
    },
    "id": "KjiJAwyMqVPF",
    "outputId": "37513118-a413-4e13-ed57-b5b72e6ce361"
   },
   "outputs": [
    {
     "data": {
      "text/plain": [
       "array([nan, 3.0, 2.0, 5.0, 1.0, 4.0, 6.0, '5', '3', '2', '1', '4',\n",
       "       'LOS ANDES', 'SANTIAGO ORIENTE', 'VALPARAISO', 'SANTIAGO PONIENTE',\n",
       "       'COLCHAGUA', '6', 'VALPARAÍSO', 'CAUTÍN NORTE',\n",
       "       'ANTOFAGASTA - TOCOPILLA'], dtype=object)"
      ]
     },
     "execution_count": 1690,
     "metadata": {},
     "output_type": "execute_result"
    }
   ],
   "source": [
    "df['dependencia_colegio'].unique()"
   ]
  },
  {
   "cell_type": "code",
   "execution_count": 1691,
   "metadata": {},
   "outputs": [
    {
     "data": {
      "text/html": [
       "<div>\n",
       "<style scoped>\n",
       "    .dataframe tbody tr th:only-of-type {\n",
       "        vertical-align: middle;\n",
       "    }\n",
       "\n",
       "    .dataframe tbody tr th {\n",
       "        vertical-align: top;\n",
       "    }\n",
       "\n",
       "    .dataframe thead th {\n",
       "        text-align: right;\n",
       "    }\n",
       "</style>\n",
       "<table border=\"1\" class=\"dataframe\">\n",
       "  <thead>\n",
       "    <tr style=\"text-align: right;\">\n",
       "      <th></th>\n",
       "      <th>cat_periodo</th>\n",
       "      <th>codigo_unico</th>\n",
       "      <th>mrun</th>\n",
       "      <th>fec_nac_alu</th>\n",
       "      <th>anio_ing_carr_ori</th>\n",
       "      <th>tipo_inst_1</th>\n",
       "      <th>region_sede</th>\n",
       "      <th>desertor_1</th>\n",
       "      <th>tipo_ensenanza_colegio</th>\n",
       "      <th>dependencia_colegio</th>\n",
       "      <th>edad</th>\n",
       "    </tr>\n",
       "  </thead>\n",
       "  <tbody>\n",
       "    <tr>\n",
       "      <th>883664</th>\n",
       "      <td>2018</td>\n",
       "      <td>I430S10C135J1V1</td>\n",
       "      <td>178576.0</td>\n",
       "      <td>199904</td>\n",
       "      <td>2018</td>\n",
       "      <td>Centros de Formación Técnica</td>\n",
       "      <td>Metropolitana</td>\n",
       "      <td>0.0</td>\n",
       "      <td>510.0</td>\n",
       "      <td>LOS ANDES</td>\n",
       "      <td>18</td>\n",
       "    </tr>\n",
       "    <tr>\n",
       "      <th>885918</th>\n",
       "      <td>2018</td>\n",
       "      <td>I183S1C1J2V1</td>\n",
       "      <td>305852.0</td>\n",
       "      <td>199901</td>\n",
       "      <td>2018</td>\n",
       "      <td>Institutos Profesionales</td>\n",
       "      <td>Metropolitana</td>\n",
       "      <td>0.0</td>\n",
       "      <td>310.0</td>\n",
       "      <td>SANTIAGO ORIENTE</td>\n",
       "      <td>19</td>\n",
       "    </tr>\n",
       "    <tr>\n",
       "      <th>886757</th>\n",
       "      <td>2018</td>\n",
       "      <td>I111S4C62J1V1</td>\n",
       "      <td>356607.0</td>\n",
       "      <td>199902</td>\n",
       "      <td>2018</td>\n",
       "      <td>Institutos Profesionales</td>\n",
       "      <td>Valparaíso</td>\n",
       "      <td>0.0</td>\n",
       "      <td>310.0</td>\n",
       "      <td>VALPARAISO</td>\n",
       "      <td>18</td>\n",
       "    </tr>\n",
       "    <tr>\n",
       "      <th>895643</th>\n",
       "      <td>2018</td>\n",
       "      <td>I143S21C100J1V1</td>\n",
       "      <td>867000.0</td>\n",
       "      <td>199909</td>\n",
       "      <td>2018</td>\n",
       "      <td>Institutos Profesionales</td>\n",
       "      <td>Valparaíso</td>\n",
       "      <td>1.0</td>\n",
       "      <td>310.0</td>\n",
       "      <td>LOS ANDES</td>\n",
       "      <td>18</td>\n",
       "    </tr>\n",
       "    <tr>\n",
       "      <th>897990</th>\n",
       "      <td>2018</td>\n",
       "      <td>I143S21C619J2V1</td>\n",
       "      <td>999109.0</td>\n",
       "      <td>199908</td>\n",
       "      <td>2018</td>\n",
       "      <td>Institutos Profesionales</td>\n",
       "      <td>Valparaíso</td>\n",
       "      <td>0.0</td>\n",
       "      <td>510.0</td>\n",
       "      <td>LOS ANDES</td>\n",
       "      <td>18</td>\n",
       "    </tr>\n",
       "    <tr>\n",
       "      <th>...</th>\n",
       "      <td>...</td>\n",
       "      <td>...</td>\n",
       "      <td>...</td>\n",
       "      <td>...</td>\n",
       "      <td>...</td>\n",
       "      <td>...</td>\n",
       "      <td>...</td>\n",
       "      <td>...</td>\n",
       "      <td>...</td>\n",
       "      <td>...</td>\n",
       "      <td>...</td>\n",
       "    </tr>\n",
       "    <tr>\n",
       "      <th>2718588</th>\n",
       "      <td>2021</td>\n",
       "      <td>I143S8C100J1V1</td>\n",
       "      <td>23958414.0</td>\n",
       "      <td>200112</td>\n",
       "      <td>2021</td>\n",
       "      <td>Institutos Profesionales</td>\n",
       "      <td>Lib. Gral B. O'Higgins</td>\n",
       "      <td>0.0</td>\n",
       "      <td>310.0</td>\n",
       "      <td>COLCHAGUA</td>\n",
       "      <td>19</td>\n",
       "    </tr>\n",
       "    <tr>\n",
       "      <th>2726603</th>\n",
       "      <td>2021</td>\n",
       "      <td>I111S2C429J1V1</td>\n",
       "      <td>24372742.0</td>\n",
       "      <td>200003</td>\n",
       "      <td>2021</td>\n",
       "      <td>Institutos Profesionales</td>\n",
       "      <td>Valparaíso</td>\n",
       "      <td>0.0</td>\n",
       "      <td>310.0</td>\n",
       "      <td>VALPARAISO</td>\n",
       "      <td>20</td>\n",
       "    </tr>\n",
       "    <tr>\n",
       "      <th>2732592</th>\n",
       "      <td>2021</td>\n",
       "      <td>I908S1C2J2V1</td>\n",
       "      <td>24687177.0</td>\n",
       "      <td>199405</td>\n",
       "      <td>2021</td>\n",
       "      <td>Centros de Formación Técnica</td>\n",
       "      <td>Antofagasta</td>\n",
       "      <td>1.0</td>\n",
       "      <td>363.0</td>\n",
       "      <td>ANTOFAGASTA - TOCOPILLA</td>\n",
       "      <td>26</td>\n",
       "    </tr>\n",
       "    <tr>\n",
       "      <th>2738822</th>\n",
       "      <td>2021</td>\n",
       "      <td>I218S1C10J1V2</td>\n",
       "      <td>25463098.0</td>\n",
       "      <td>200104</td>\n",
       "      <td>2021</td>\n",
       "      <td>Centros de Formación Técnica</td>\n",
       "      <td>Metropolitana</td>\n",
       "      <td>0.0</td>\n",
       "      <td>410.0</td>\n",
       "      <td>SANTIAGO PONIENTE</td>\n",
       "      <td>19</td>\n",
       "    </tr>\n",
       "    <tr>\n",
       "      <th>2740368</th>\n",
       "      <td>2021</td>\n",
       "      <td>I111S7C104J2V2</td>\n",
       "      <td>25637494.0</td>\n",
       "      <td>199803</td>\n",
       "      <td>2021</td>\n",
       "      <td>Institutos Profesionales</td>\n",
       "      <td>Metropolitana</td>\n",
       "      <td>0.0</td>\n",
       "      <td>410.0</td>\n",
       "      <td>SANTIAGO PONIENTE</td>\n",
       "      <td>22</td>\n",
       "    </tr>\n",
       "  </tbody>\n",
       "</table>\n",
       "<p>396 rows × 11 columns</p>\n",
       "</div>"
      ],
      "text/plain": [
       "         cat_periodo     codigo_unico        mrun  fec_nac_alu  \\\n",
       "883664          2018  I430S10C135J1V1    178576.0       199904   \n",
       "885918          2018     I183S1C1J2V1    305852.0       199901   \n",
       "886757          2018    I111S4C62J1V1    356607.0       199902   \n",
       "895643          2018  I143S21C100J1V1    867000.0       199909   \n",
       "897990          2018  I143S21C619J2V1    999109.0       199908   \n",
       "...              ...              ...         ...          ...   \n",
       "2718588         2021   I143S8C100J1V1  23958414.0       200112   \n",
       "2726603         2021   I111S2C429J1V1  24372742.0       200003   \n",
       "2732592         2021     I908S1C2J2V1  24687177.0       199405   \n",
       "2738822         2021    I218S1C10J1V2  25463098.0       200104   \n",
       "2740368         2021   I111S7C104J2V2  25637494.0       199803   \n",
       "\n",
       "         anio_ing_carr_ori                   tipo_inst_1  \\\n",
       "883664                2018  Centros de Formación Técnica   \n",
       "885918                2018      Institutos Profesionales   \n",
       "886757                2018      Institutos Profesionales   \n",
       "895643                2018      Institutos Profesionales   \n",
       "897990                2018      Institutos Profesionales   \n",
       "...                    ...                           ...   \n",
       "2718588               2021      Institutos Profesionales   \n",
       "2726603               2021      Institutos Profesionales   \n",
       "2732592               2021  Centros de Formación Técnica   \n",
       "2738822               2021  Centros de Formación Técnica   \n",
       "2740368               2021      Institutos Profesionales   \n",
       "\n",
       "                    region_sede  desertor_1  tipo_ensenanza_colegio  \\\n",
       "883664            Metropolitana         0.0                   510.0   \n",
       "885918            Metropolitana         0.0                   310.0   \n",
       "886757               Valparaíso         0.0                   310.0   \n",
       "895643               Valparaíso         1.0                   310.0   \n",
       "897990               Valparaíso         0.0                   510.0   \n",
       "...                         ...         ...                     ...   \n",
       "2718588  Lib. Gral B. O'Higgins         0.0                   310.0   \n",
       "2726603              Valparaíso         0.0                   310.0   \n",
       "2732592             Antofagasta         1.0                   363.0   \n",
       "2738822           Metropolitana         0.0                   410.0   \n",
       "2740368           Metropolitana         0.0                   410.0   \n",
       "\n",
       "             dependencia_colegio  edad  \n",
       "883664                 LOS ANDES    18  \n",
       "885918          SANTIAGO ORIENTE    19  \n",
       "886757                VALPARAISO    18  \n",
       "895643                 LOS ANDES    18  \n",
       "897990                 LOS ANDES    18  \n",
       "...                          ...   ...  \n",
       "2718588                COLCHAGUA    19  \n",
       "2726603               VALPARAISO    20  \n",
       "2732592  ANTOFAGASTA - TOCOPILLA    26  \n",
       "2738822        SANTIAGO PONIENTE    19  \n",
       "2740368        SANTIAGO PONIENTE    22  \n",
       "\n",
       "[396 rows x 11 columns]"
      ]
     },
     "execution_count": 1691,
     "metadata": {},
     "output_type": "execute_result"
    }
   ],
   "source": [
    "l = ['LOS ANDES', 'SANTIAGO ORIENTE', 'VALPARAISO',\n",
    "       'SANTIAGO PONIENTE', 'COLCHAGUA', 'VALPARAÍSO', 'CAUTÍN NORTE',\n",
    "       'ANTOFAGASTA - TOCOPILLA']\n",
    "mask = df['dependencia_colegio'].isin(l)\n",
    "df[mask]"
   ]
  },
  {
   "cell_type": "code",
   "execution_count": 1692,
   "metadata": {
    "id": "OrRnadnH95Yc"
   },
   "outputs": [],
   "source": [
    "l = ['LOS ANDES', 'SANTIAGO ORIENTE', 'VALPARAISO',\n",
    "       'SANTIAGO PONIENTE', 'COLCHAGUA', 'VALPARAÍSO', 'CAUTÍN NORTE',\n",
    "       'ANTOFAGASTA - TOCOPILLA']\n",
    "mask = ~df['dependencia_colegio'].isin(l)\n",
    "df = df[mask]\n",
    "#df[mask].shape"
   ]
  },
  {
   "cell_type": "code",
   "execution_count": 1693,
   "metadata": {
    "id": "fJbaWnDw-8vL"
   },
   "outputs": [],
   "source": [
    "df['dependencia_colegio'] = df['dependencia_colegio'].apply(lambda x: int(x) if x==x else -1)"
   ]
  },
  {
   "cell_type": "code",
   "execution_count": 1694,
   "metadata": {
    "colab": {
     "base_uri": "https://localhost:8080/"
    },
    "id": "fcxKFVRRtbWF",
    "outputId": "7e7808e7-7f90-4aca-84a4-79e541d41842"
   },
   "outputs": [
    {
     "data": {
      "text/plain": [
       "array([ nan, 310., 510., 410., 610., 363., 563., 361., 360., 710., 810.,\n",
       "       663., 463., 661., 460., 763., 461., 660., 910., 560., 561., 761.,\n",
       "       863., 760.])"
      ]
     },
     "execution_count": 1694,
     "metadata": {},
     "output_type": "execute_result"
    }
   ],
   "source": [
    "df['tipo_ensenanza_colegio'].unique()"
   ]
  },
  {
   "cell_type": "code",
   "execution_count": 1695,
   "metadata": {
    "id": "AeW9Mi4lu-nd"
   },
   "outputs": [],
   "source": [
    "tipo_ensenanza_colegio = {  0: \"No Aplica\",\n",
    "                           10: \"Educación Parvularia\",\n",
    "                          110: \"Educación Básica\",\n",
    "                          160: \"Educación Básica Común Adultos\",\n",
    "                          161: \"Educación Básica Especial Adultos\",\n",
    "                          163: \"Escuelas Cárceles\",\n",
    "                          165: \"Educación Básica Adultos Sin Oficios\",\n",
    "                          167: \"Educación Básica Adultos Con Oficios\",\n",
    "                          211: \"Educación Especial\",\n",
    "                          212: \"Educación Especial\",\n",
    "                          213: \"Educación Especial\",\n",
    "                          214: \"Educación Especial\",\n",
    "                          215: \"Educación Especial\",\n",
    "                          216: \"Educación Especial\",\n",
    "                          217: \"Educación Especial\",\n",
    "                          299: \"Opción 4 Programa Integración Escolar\",\n",
    "                          310: \"Educación Media H-C\",\n",
    "                          360: \"Educación Media H-C Adultos\",\n",
    "                          361: \"Educación Media H-C Adultos\",\n",
    "                          362: \"Escuelas Cárceles\",\n",
    "                          363: \"Educación Media H-C Adultos\",\n",
    "                          410: \"Educación Media T-P Comercial\",\n",
    "                          460: \"Educación Media T-P Comercial Adultos\",\n",
    "                          461: \"Educación Media T-P Comercial Adultos\",\n",
    "                          463: \"Educación Media T-P Comercial Adultos\",\n",
    "                          510: \"Educación Media T-P Industrial\",\n",
    "                          560: \"Educación Media T-P Industrial Adultos\",\n",
    "                          561: \"Educación Media T-P Industrial Adultos\",\n",
    "                          563: \"Educación Media T-P Industrial Adultos\",\n",
    "                          610: \"Educación Media T-P Técnica\",\n",
    "                          660: \"Educación Media T-P Técnica Adultos\",\n",
    "                          661: \"Educación Media T-P Técnica Adultos\",\n",
    "                          663: \"Educación Media T-P Técnica Adultos\",\n",
    "                          710: \"Educación Media T-P Agrícola\",\n",
    "                          760: \"Educación Media T-P Agrícola Adultos\",\n",
    "                          761: \"Educación Media T-P Agrícola Adultos\",\n",
    "                          763: \"Educación Media T-P Agrícola Adultos\",\n",
    "                          810: \"Educación Media T-P Marítima\",\n",
    "                          860: \"Educación Media T-P Marítima Adultos\",\n",
    "                          863: \"Educación Media T-P Marítima Adultos\",\n",
    "                          910: \"Educación Media Artística\",\n",
    "                          963: \"Educación Media Artística Adultos\"\n",
    "                         }"
   ]
  },
  {
   "cell_type": "code",
   "execution_count": 1696,
   "metadata": {
    "colab": {
     "base_uri": "https://localhost:8080/",
     "height": 424
    },
    "id": "jpAIRPLTxZ07",
    "outputId": "035005d7-7b2c-49ba-ffc5-8ccb34cc11bc"
   },
   "outputs": [
    {
     "data": {
      "text/html": [
       "<div>\n",
       "<style scoped>\n",
       "    .dataframe tbody tr th:only-of-type {\n",
       "        vertical-align: middle;\n",
       "    }\n",
       "\n",
       "    .dataframe tbody tr th {\n",
       "        vertical-align: top;\n",
       "    }\n",
       "\n",
       "    .dataframe thead th {\n",
       "        text-align: right;\n",
       "    }\n",
       "</style>\n",
       "<table border=\"1\" class=\"dataframe\">\n",
       "  <thead>\n",
       "    <tr style=\"text-align: right;\">\n",
       "      <th></th>\n",
       "      <th>cat_periodo</th>\n",
       "      <th>codigo_unico</th>\n",
       "      <th>mrun</th>\n",
       "      <th>fec_nac_alu</th>\n",
       "      <th>anio_ing_carr_ori</th>\n",
       "      <th>tipo_inst_1</th>\n",
       "      <th>region_sede</th>\n",
       "      <th>desertor_1</th>\n",
       "      <th>tipo_ensenanza_colegio</th>\n",
       "      <th>dependencia_colegio</th>\n",
       "      <th>edad</th>\n",
       "    </tr>\n",
       "  </thead>\n",
       "  <tbody>\n",
       "    <tr>\n",
       "      <th>0</th>\n",
       "      <td>2015</td>\n",
       "      <td>I498S6C132J2V1</td>\n",
       "      <td>37.0</td>\n",
       "      <td>197808</td>\n",
       "      <td>2015</td>\n",
       "      <td>Centros de Formación Técnica</td>\n",
       "      <td>Biobío</td>\n",
       "      <td>0.0</td>\n",
       "      <td>NaN</td>\n",
       "      <td>-1</td>\n",
       "      <td>36</td>\n",
       "    </tr>\n",
       "    <tr>\n",
       "      <th>1</th>\n",
       "      <td>2015</td>\n",
       "      <td>I111S14C309J2V1</td>\n",
       "      <td>118.0</td>\n",
       "      <td>199102</td>\n",
       "      <td>2015</td>\n",
       "      <td>Institutos Profesionales</td>\n",
       "      <td>Metropolitana</td>\n",
       "      <td>0.0</td>\n",
       "      <td>Educación Media H-C</td>\n",
       "      <td>3</td>\n",
       "      <td>23</td>\n",
       "    </tr>\n",
       "    <tr>\n",
       "      <th>2</th>\n",
       "      <td>2015</td>\n",
       "      <td>I106S3C64J4V1</td>\n",
       "      <td>253.0</td>\n",
       "      <td>198404</td>\n",
       "      <td>2015</td>\n",
       "      <td>Institutos Profesionales</td>\n",
       "      <td>Metropolitana</td>\n",
       "      <td>1.0</td>\n",
       "      <td>NaN</td>\n",
       "      <td>-1</td>\n",
       "      <td>30</td>\n",
       "    </tr>\n",
       "    <tr>\n",
       "      <th>3</th>\n",
       "      <td>2015</td>\n",
       "      <td>I221S1C57J1V1</td>\n",
       "      <td>370.0</td>\n",
       "      <td>198910</td>\n",
       "      <td>2015</td>\n",
       "      <td>Centros de Formación Técnica</td>\n",
       "      <td>Metropolitana</td>\n",
       "      <td>1.0</td>\n",
       "      <td>Educación Media H-C</td>\n",
       "      <td>3</td>\n",
       "      <td>25</td>\n",
       "    </tr>\n",
       "    <tr>\n",
       "      <th>4</th>\n",
       "      <td>2015</td>\n",
       "      <td>I176S8C59J2V1</td>\n",
       "      <td>533.0</td>\n",
       "      <td>198309</td>\n",
       "      <td>2015</td>\n",
       "      <td>Institutos Profesionales</td>\n",
       "      <td>Coquimbo</td>\n",
       "      <td>0.0</td>\n",
       "      <td>Educación Media T-P Industrial</td>\n",
       "      <td>2</td>\n",
       "      <td>31</td>\n",
       "    </tr>\n",
       "    <tr>\n",
       "      <th>...</th>\n",
       "      <td>...</td>\n",
       "      <td>...</td>\n",
       "      <td>...</td>\n",
       "      <td>...</td>\n",
       "      <td>...</td>\n",
       "      <td>...</td>\n",
       "      <td>...</td>\n",
       "      <td>...</td>\n",
       "      <td>...</td>\n",
       "      <td>...</td>\n",
       "      <td>...</td>\n",
       "    </tr>\n",
       "    <tr>\n",
       "      <th>2746509</th>\n",
       "      <td>2021</td>\n",
       "      <td>I106S6C295J4V1</td>\n",
       "      <td>26380151.0</td>\n",
       "      <td>199603</td>\n",
       "      <td>2020</td>\n",
       "      <td>Institutos Profesionales</td>\n",
       "      <td>Metropolitana</td>\n",
       "      <td>0.0</td>\n",
       "      <td>NaN</td>\n",
       "      <td>-1</td>\n",
       "      <td>23</td>\n",
       "    </tr>\n",
       "    <tr>\n",
       "      <th>2746510</th>\n",
       "      <td>2021</td>\n",
       "      <td>I260S44C120J1V1</td>\n",
       "      <td>26380152.0</td>\n",
       "      <td>200302</td>\n",
       "      <td>2021</td>\n",
       "      <td>Centros de Formación Técnica</td>\n",
       "      <td>Magallanes</td>\n",
       "      <td>1.0</td>\n",
       "      <td>NaN</td>\n",
       "      <td>-1</td>\n",
       "      <td>17</td>\n",
       "    </tr>\n",
       "    <tr>\n",
       "      <th>2746511</th>\n",
       "      <td>2021</td>\n",
       "      <td>I152S10C341J4V1</td>\n",
       "      <td>26453499.0</td>\n",
       "      <td>199208</td>\n",
       "      <td>2021</td>\n",
       "      <td>Institutos Profesionales</td>\n",
       "      <td>Metropolitana</td>\n",
       "      <td>1.0</td>\n",
       "      <td>NaN</td>\n",
       "      <td>-1</td>\n",
       "      <td>28</td>\n",
       "    </tr>\n",
       "    <tr>\n",
       "      <th>2746512</th>\n",
       "      <td>2021</td>\n",
       "      <td>I152S10C349J4V1</td>\n",
       "      <td>26453942.0</td>\n",
       "      <td>196501</td>\n",
       "      <td>2020</td>\n",
       "      <td>Institutos Profesionales</td>\n",
       "      <td>Metropolitana</td>\n",
       "      <td>0.0</td>\n",
       "      <td>NaN</td>\n",
       "      <td>-1</td>\n",
       "      <td>55</td>\n",
       "    </tr>\n",
       "    <tr>\n",
       "      <th>2746513</th>\n",
       "      <td>2021</td>\n",
       "      <td>I367S1C127J1V1</td>\n",
       "      <td>26987947.0</td>\n",
       "      <td>200002</td>\n",
       "      <td>2021</td>\n",
       "      <td>Centros de Formación Técnica</td>\n",
       "      <td>Maule</td>\n",
       "      <td>0.0</td>\n",
       "      <td>NaN</td>\n",
       "      <td>-1</td>\n",
       "      <td>20</td>\n",
       "    </tr>\n",
       "  </tbody>\n",
       "</table>\n",
       "<p>1156723 rows × 11 columns</p>\n",
       "</div>"
      ],
      "text/plain": [
       "         cat_periodo     codigo_unico        mrun  fec_nac_alu  \\\n",
       "0               2015   I498S6C132J2V1        37.0       197808   \n",
       "1               2015  I111S14C309J2V1       118.0       199102   \n",
       "2               2015    I106S3C64J4V1       253.0       198404   \n",
       "3               2015    I221S1C57J1V1       370.0       198910   \n",
       "4               2015    I176S8C59J2V1       533.0       198309   \n",
       "...              ...              ...         ...          ...   \n",
       "2746509         2021   I106S6C295J4V1  26380151.0       199603   \n",
       "2746510         2021  I260S44C120J1V1  26380152.0       200302   \n",
       "2746511         2021  I152S10C341J4V1  26453499.0       199208   \n",
       "2746512         2021  I152S10C349J4V1  26453942.0       196501   \n",
       "2746513         2021   I367S1C127J1V1  26987947.0       200002   \n",
       "\n",
       "         anio_ing_carr_ori                   tipo_inst_1    region_sede  \\\n",
       "0                     2015  Centros de Formación Técnica         Biobío   \n",
       "1                     2015      Institutos Profesionales  Metropolitana   \n",
       "2                     2015      Institutos Profesionales  Metropolitana   \n",
       "3                     2015  Centros de Formación Técnica  Metropolitana   \n",
       "4                     2015      Institutos Profesionales       Coquimbo   \n",
       "...                    ...                           ...            ...   \n",
       "2746509               2020      Institutos Profesionales  Metropolitana   \n",
       "2746510               2021  Centros de Formación Técnica     Magallanes   \n",
       "2746511               2021      Institutos Profesionales  Metropolitana   \n",
       "2746512               2020      Institutos Profesionales  Metropolitana   \n",
       "2746513               2021  Centros de Formación Técnica          Maule   \n",
       "\n",
       "         desertor_1          tipo_ensenanza_colegio  dependencia_colegio  edad  \n",
       "0               0.0                             NaN                   -1    36  \n",
       "1               0.0             Educación Media H-C                    3    23  \n",
       "2               1.0                             NaN                   -1    30  \n",
       "3               1.0             Educación Media H-C                    3    25  \n",
       "4               0.0  Educación Media T-P Industrial                    2    31  \n",
       "...             ...                             ...                  ...   ...  \n",
       "2746509         0.0                             NaN                   -1    23  \n",
       "2746510         1.0                             NaN                   -1    17  \n",
       "2746511         1.0                             NaN                   -1    28  \n",
       "2746512         0.0                             NaN                   -1    55  \n",
       "2746513         0.0                             NaN                   -1    20  \n",
       "\n",
       "[1156723 rows x 11 columns]"
      ]
     },
     "execution_count": 1696,
     "metadata": {},
     "output_type": "execute_result"
    }
   ],
   "source": [
    "df = df.replace({'tipo_ensenanza_colegio': tipo_ensenanza_colegio})\n",
    "df"
   ]
  },
  {
   "cell_type": "code",
   "execution_count": 1697,
   "metadata": {
    "id": "x3ZOwc9cyEGn"
   },
   "outputs": [],
   "source": [
    "dependencia_colegio = {1: 'Corporación Municipal',\n",
    "                       2: 'Municipal DAEM',\n",
    "                       3: 'Particular Subvencionado',\n",
    "                       4: 'Particular Pagado',\n",
    "                       5: 'Administración Delegada',\n",
    "                       6: 'Servicio Local de Educación'}"
   ]
  },
  {
   "cell_type": "code",
   "execution_count": 1698,
   "metadata": {
    "colab": {
     "base_uri": "https://localhost:8080/",
     "height": 424
    },
    "id": "Drnq07YYyVOD",
    "outputId": "eae75fbf-6917-488b-8812-82dac5877a31"
   },
   "outputs": [
    {
     "data": {
      "text/html": [
       "<div>\n",
       "<style scoped>\n",
       "    .dataframe tbody tr th:only-of-type {\n",
       "        vertical-align: middle;\n",
       "    }\n",
       "\n",
       "    .dataframe tbody tr th {\n",
       "        vertical-align: top;\n",
       "    }\n",
       "\n",
       "    .dataframe thead th {\n",
       "        text-align: right;\n",
       "    }\n",
       "</style>\n",
       "<table border=\"1\" class=\"dataframe\">\n",
       "  <thead>\n",
       "    <tr style=\"text-align: right;\">\n",
       "      <th></th>\n",
       "      <th>cat_periodo</th>\n",
       "      <th>codigo_unico</th>\n",
       "      <th>mrun</th>\n",
       "      <th>fec_nac_alu</th>\n",
       "      <th>anio_ing_carr_ori</th>\n",
       "      <th>tipo_inst_1</th>\n",
       "      <th>region_sede</th>\n",
       "      <th>desertor_1</th>\n",
       "      <th>tipo_ensenanza_colegio</th>\n",
       "      <th>dependencia_colegio</th>\n",
       "      <th>edad</th>\n",
       "    </tr>\n",
       "  </thead>\n",
       "  <tbody>\n",
       "    <tr>\n",
       "      <th>0</th>\n",
       "      <td>2015</td>\n",
       "      <td>I498S6C132J2V1</td>\n",
       "      <td>37.0</td>\n",
       "      <td>197808</td>\n",
       "      <td>2015</td>\n",
       "      <td>Centros de Formación Técnica</td>\n",
       "      <td>Biobío</td>\n",
       "      <td>0.0</td>\n",
       "      <td>NaN</td>\n",
       "      <td>-1</td>\n",
       "      <td>36</td>\n",
       "    </tr>\n",
       "    <tr>\n",
       "      <th>1</th>\n",
       "      <td>2015</td>\n",
       "      <td>I111S14C309J2V1</td>\n",
       "      <td>118.0</td>\n",
       "      <td>199102</td>\n",
       "      <td>2015</td>\n",
       "      <td>Institutos Profesionales</td>\n",
       "      <td>Metropolitana</td>\n",
       "      <td>0.0</td>\n",
       "      <td>Educación Media H-C</td>\n",
       "      <td>Particular Subvencionado</td>\n",
       "      <td>23</td>\n",
       "    </tr>\n",
       "    <tr>\n",
       "      <th>2</th>\n",
       "      <td>2015</td>\n",
       "      <td>I106S3C64J4V1</td>\n",
       "      <td>253.0</td>\n",
       "      <td>198404</td>\n",
       "      <td>2015</td>\n",
       "      <td>Institutos Profesionales</td>\n",
       "      <td>Metropolitana</td>\n",
       "      <td>1.0</td>\n",
       "      <td>NaN</td>\n",
       "      <td>-1</td>\n",
       "      <td>30</td>\n",
       "    </tr>\n",
       "    <tr>\n",
       "      <th>3</th>\n",
       "      <td>2015</td>\n",
       "      <td>I221S1C57J1V1</td>\n",
       "      <td>370.0</td>\n",
       "      <td>198910</td>\n",
       "      <td>2015</td>\n",
       "      <td>Centros de Formación Técnica</td>\n",
       "      <td>Metropolitana</td>\n",
       "      <td>1.0</td>\n",
       "      <td>Educación Media H-C</td>\n",
       "      <td>Particular Subvencionado</td>\n",
       "      <td>25</td>\n",
       "    </tr>\n",
       "    <tr>\n",
       "      <th>4</th>\n",
       "      <td>2015</td>\n",
       "      <td>I176S8C59J2V1</td>\n",
       "      <td>533.0</td>\n",
       "      <td>198309</td>\n",
       "      <td>2015</td>\n",
       "      <td>Institutos Profesionales</td>\n",
       "      <td>Coquimbo</td>\n",
       "      <td>0.0</td>\n",
       "      <td>Educación Media T-P Industrial</td>\n",
       "      <td>Municipal DAEM</td>\n",
       "      <td>31</td>\n",
       "    </tr>\n",
       "    <tr>\n",
       "      <th>...</th>\n",
       "      <td>...</td>\n",
       "      <td>...</td>\n",
       "      <td>...</td>\n",
       "      <td>...</td>\n",
       "      <td>...</td>\n",
       "      <td>...</td>\n",
       "      <td>...</td>\n",
       "      <td>...</td>\n",
       "      <td>...</td>\n",
       "      <td>...</td>\n",
       "      <td>...</td>\n",
       "    </tr>\n",
       "    <tr>\n",
       "      <th>2746509</th>\n",
       "      <td>2021</td>\n",
       "      <td>I106S6C295J4V1</td>\n",
       "      <td>26380151.0</td>\n",
       "      <td>199603</td>\n",
       "      <td>2020</td>\n",
       "      <td>Institutos Profesionales</td>\n",
       "      <td>Metropolitana</td>\n",
       "      <td>0.0</td>\n",
       "      <td>NaN</td>\n",
       "      <td>-1</td>\n",
       "      <td>23</td>\n",
       "    </tr>\n",
       "    <tr>\n",
       "      <th>2746510</th>\n",
       "      <td>2021</td>\n",
       "      <td>I260S44C120J1V1</td>\n",
       "      <td>26380152.0</td>\n",
       "      <td>200302</td>\n",
       "      <td>2021</td>\n",
       "      <td>Centros de Formación Técnica</td>\n",
       "      <td>Magallanes</td>\n",
       "      <td>1.0</td>\n",
       "      <td>NaN</td>\n",
       "      <td>-1</td>\n",
       "      <td>17</td>\n",
       "    </tr>\n",
       "    <tr>\n",
       "      <th>2746511</th>\n",
       "      <td>2021</td>\n",
       "      <td>I152S10C341J4V1</td>\n",
       "      <td>26453499.0</td>\n",
       "      <td>199208</td>\n",
       "      <td>2021</td>\n",
       "      <td>Institutos Profesionales</td>\n",
       "      <td>Metropolitana</td>\n",
       "      <td>1.0</td>\n",
       "      <td>NaN</td>\n",
       "      <td>-1</td>\n",
       "      <td>28</td>\n",
       "    </tr>\n",
       "    <tr>\n",
       "      <th>2746512</th>\n",
       "      <td>2021</td>\n",
       "      <td>I152S10C349J4V1</td>\n",
       "      <td>26453942.0</td>\n",
       "      <td>196501</td>\n",
       "      <td>2020</td>\n",
       "      <td>Institutos Profesionales</td>\n",
       "      <td>Metropolitana</td>\n",
       "      <td>0.0</td>\n",
       "      <td>NaN</td>\n",
       "      <td>-1</td>\n",
       "      <td>55</td>\n",
       "    </tr>\n",
       "    <tr>\n",
       "      <th>2746513</th>\n",
       "      <td>2021</td>\n",
       "      <td>I367S1C127J1V1</td>\n",
       "      <td>26987947.0</td>\n",
       "      <td>200002</td>\n",
       "      <td>2021</td>\n",
       "      <td>Centros de Formación Técnica</td>\n",
       "      <td>Maule</td>\n",
       "      <td>0.0</td>\n",
       "      <td>NaN</td>\n",
       "      <td>-1</td>\n",
       "      <td>20</td>\n",
       "    </tr>\n",
       "  </tbody>\n",
       "</table>\n",
       "<p>1156723 rows × 11 columns</p>\n",
       "</div>"
      ],
      "text/plain": [
       "         cat_periodo     codigo_unico        mrun  fec_nac_alu  \\\n",
       "0               2015   I498S6C132J2V1        37.0       197808   \n",
       "1               2015  I111S14C309J2V1       118.0       199102   \n",
       "2               2015    I106S3C64J4V1       253.0       198404   \n",
       "3               2015    I221S1C57J1V1       370.0       198910   \n",
       "4               2015    I176S8C59J2V1       533.0       198309   \n",
       "...              ...              ...         ...          ...   \n",
       "2746509         2021   I106S6C295J4V1  26380151.0       199603   \n",
       "2746510         2021  I260S44C120J1V1  26380152.0       200302   \n",
       "2746511         2021  I152S10C341J4V1  26453499.0       199208   \n",
       "2746512         2021  I152S10C349J4V1  26453942.0       196501   \n",
       "2746513         2021   I367S1C127J1V1  26987947.0       200002   \n",
       "\n",
       "         anio_ing_carr_ori                   tipo_inst_1    region_sede  \\\n",
       "0                     2015  Centros de Formación Técnica         Biobío   \n",
       "1                     2015      Institutos Profesionales  Metropolitana   \n",
       "2                     2015      Institutos Profesionales  Metropolitana   \n",
       "3                     2015  Centros de Formación Técnica  Metropolitana   \n",
       "4                     2015      Institutos Profesionales       Coquimbo   \n",
       "...                    ...                           ...            ...   \n",
       "2746509               2020      Institutos Profesionales  Metropolitana   \n",
       "2746510               2021  Centros de Formación Técnica     Magallanes   \n",
       "2746511               2021      Institutos Profesionales  Metropolitana   \n",
       "2746512               2020      Institutos Profesionales  Metropolitana   \n",
       "2746513               2021  Centros de Formación Técnica          Maule   \n",
       "\n",
       "         desertor_1          tipo_ensenanza_colegio       dependencia_colegio  \\\n",
       "0               0.0                             NaN                        -1   \n",
       "1               0.0             Educación Media H-C  Particular Subvencionado   \n",
       "2               1.0                             NaN                        -1   \n",
       "3               1.0             Educación Media H-C  Particular Subvencionado   \n",
       "4               0.0  Educación Media T-P Industrial            Municipal DAEM   \n",
       "...             ...                             ...                       ...   \n",
       "2746509         0.0                             NaN                        -1   \n",
       "2746510         1.0                             NaN                        -1   \n",
       "2746511         1.0                             NaN                        -1   \n",
       "2746512         0.0                             NaN                        -1   \n",
       "2746513         0.0                             NaN                        -1   \n",
       "\n",
       "         edad  \n",
       "0          36  \n",
       "1          23  \n",
       "2          30  \n",
       "3          25  \n",
       "4          31  \n",
       "...       ...  \n",
       "2746509    23  \n",
       "2746510    17  \n",
       "2746511    28  \n",
       "2746512    55  \n",
       "2746513    20  \n",
       "\n",
       "[1156723 rows x 11 columns]"
      ]
     },
     "execution_count": 1698,
     "metadata": {},
     "output_type": "execute_result"
    }
   ],
   "source": [
    "df = df.replace({'dependencia_colegio': dependencia_colegio})\n",
    "df"
   ]
  },
  {
   "cell_type": "code",
   "execution_count": 1699,
   "metadata": {
    "colab": {
     "base_uri": "https://localhost:8080/"
    },
    "id": "zvyw-a_N2__j",
    "outputId": "fb5fc1dd-692d-4c9d-af7e-adedcd8c87b8"
   },
   "outputs": [
    {
     "data": {
      "text/plain": [
       "(164229, 11)"
      ]
     },
     "execution_count": 1699,
     "metadata": {},
     "output_type": "execute_result"
    }
   ],
   "source": [
    "mask = (df['dependencia_colegio'] == -1) | (df['tipo_ensenanza_colegio'].isnull())\n",
    "df[mask].shape"
   ]
  },
  {
   "cell_type": "code",
   "execution_count": 1700,
   "metadata": {
    "colab": {
     "base_uri": "https://localhost:8080/"
    },
    "id": "Fsn_Z0ax3ok6",
    "outputId": "b5f4a267-2950-4bcf-e5e4-50768ba5a47c"
   },
   "outputs": [
    {
     "data": {
      "text/plain": [
       "0.14197781145529223"
      ]
     },
     "execution_count": 1700,
     "metadata": {},
     "output_type": "execute_result"
    }
   ],
   "source": [
    "164229/df.shape[0]"
   ]
  },
  {
   "cell_type": "code",
   "execution_count": 1701,
   "metadata": {
    "id": "oEaXTK9j4bWw"
   },
   "outputs": [
    {
     "data": {
      "text/html": [
       "<div>\n",
       "<style scoped>\n",
       "    .dataframe tbody tr th:only-of-type {\n",
       "        vertical-align: middle;\n",
       "    }\n",
       "\n",
       "    .dataframe tbody tr th {\n",
       "        vertical-align: top;\n",
       "    }\n",
       "\n",
       "    .dataframe thead th {\n",
       "        text-align: right;\n",
       "    }\n",
       "</style>\n",
       "<table border=\"1\" class=\"dataframe\">\n",
       "  <thead>\n",
       "    <tr style=\"text-align: right;\">\n",
       "      <th></th>\n",
       "      <th>count</th>\n",
       "      <th>mean</th>\n",
       "      <th>std</th>\n",
       "      <th>min</th>\n",
       "      <th>25%</th>\n",
       "      <th>50%</th>\n",
       "      <th>75%</th>\n",
       "      <th>max</th>\n",
       "    </tr>\n",
       "  </thead>\n",
       "  <tbody>\n",
       "    <tr>\n",
       "      <th>cat_periodo</th>\n",
       "      <td>164229.0</td>\n",
       "      <td>2.017809e+03</td>\n",
       "      <td>2.016</td>\n",
       "      <td>2015.0</td>\n",
       "      <td>2016.0</td>\n",
       "      <td>2018.0</td>\n",
       "      <td>2019.0</td>\n",
       "      <td>2021.0</td>\n",
       "    </tr>\n",
       "    <tr>\n",
       "      <th>mrun</th>\n",
       "      <td>164229.0</td>\n",
       "      <td>1.324817e+07</td>\n",
       "      <td>7652122.627</td>\n",
       "      <td>37.0</td>\n",
       "      <td>6619519.0</td>\n",
       "      <td>13269483.0</td>\n",
       "      <td>19854586.0</td>\n",
       "      <td>26987947.0</td>\n",
       "    </tr>\n",
       "    <tr>\n",
       "      <th>fec_nac_alu</th>\n",
       "      <td>164229.0</td>\n",
       "      <td>1.978620e+05</td>\n",
       "      <td>822.353</td>\n",
       "      <td>190001.0</td>\n",
       "      <td>197405.0</td>\n",
       "      <td>197909.0</td>\n",
       "      <td>198212.0</td>\n",
       "      <td>200409.0</td>\n",
       "    </tr>\n",
       "    <tr>\n",
       "      <th>anio_ing_carr_ori</th>\n",
       "      <td>164229.0</td>\n",
       "      <td>2.017641e+03</td>\n",
       "      <td>2.009</td>\n",
       "      <td>2015.0</td>\n",
       "      <td>2016.0</td>\n",
       "      <td>2017.0</td>\n",
       "      <td>2019.0</td>\n",
       "      <td>2021.0</td>\n",
       "    </tr>\n",
       "    <tr>\n",
       "      <th>desertor_1</th>\n",
       "      <td>164229.0</td>\n",
       "      <td>2.360000e-01</td>\n",
       "      <td>0.425</td>\n",
       "      <td>0.0</td>\n",
       "      <td>0.0</td>\n",
       "      <td>0.0</td>\n",
       "      <td>0.0</td>\n",
       "      <td>1.0</td>\n",
       "    </tr>\n",
       "    <tr>\n",
       "      <th>edad</th>\n",
       "      <td>164229.0</td>\n",
       "      <td>3.817200e+01</td>\n",
       "      <td>8.243</td>\n",
       "      <td>15.0</td>\n",
       "      <td>34.0</td>\n",
       "      <td>38.0</td>\n",
       "      <td>43.0</td>\n",
       "      <td>118.0</td>\n",
       "    </tr>\n",
       "  </tbody>\n",
       "</table>\n",
       "</div>"
      ],
      "text/plain": [
       "                      count          mean          std       min        25%  \\\n",
       "cat_periodo        164229.0  2.017809e+03        2.016    2015.0     2016.0   \n",
       "mrun               164229.0  1.324817e+07  7652122.627      37.0  6619519.0   \n",
       "fec_nac_alu        164229.0  1.978620e+05      822.353  190001.0   197405.0   \n",
       "anio_ing_carr_ori  164229.0  2.017641e+03        2.009    2015.0     2016.0   \n",
       "desertor_1         164229.0  2.360000e-01        0.425       0.0        0.0   \n",
       "edad               164229.0  3.817200e+01        8.243      15.0       34.0   \n",
       "\n",
       "                          50%         75%         max  \n",
       "cat_periodo            2018.0      2019.0      2021.0  \n",
       "mrun               13269483.0  19854586.0  26987947.0  \n",
       "fec_nac_alu          197909.0    198212.0    200409.0  \n",
       "anio_ing_carr_ori      2017.0      2019.0      2021.0  \n",
       "desertor_1                0.0         0.0         1.0  \n",
       "edad                     38.0        43.0       118.0  "
      ]
     },
     "execution_count": 1701,
     "metadata": {},
     "output_type": "execute_result"
    }
   ],
   "source": [
    "mask = (df['dependencia_colegio'] == -1) | (df['tipo_ensenanza_colegio'].isnull())\n",
    "df[mask].describe().T.round(3)"
   ]
  },
  {
   "cell_type": "code",
   "execution_count": 1702,
   "metadata": {
    "colab": {
     "base_uri": "https://localhost:8080/"
    },
    "id": "hhHJvjMk4biR",
    "outputId": "b3dd5ad6-240c-4dae-b2f7-0bd982fbaa4d"
   },
   "outputs": [
    {
     "data": {
      "text/plain": [
       "(160570, 11)"
      ]
     },
     "execution_count": 1702,
     "metadata": {},
     "output_type": "execute_result"
    }
   ],
   "source": [
    "mask = (df['dependencia_colegio'] == -1) & (df['tipo_ensenanza_colegio'].isnull())\n",
    "df[mask].shape"
   ]
  },
  {
   "cell_type": "code",
   "execution_count": 1703,
   "metadata": {
    "colab": {
     "base_uri": "https://localhost:8080/"
    },
    "id": "iTuDB9q24biR",
    "outputId": "f705de32-4ca6-494c-c558-3cd5ee5fd825"
   },
   "outputs": [
    {
     "data": {
      "text/plain": [
       "0.13881456493905628"
      ]
     },
     "execution_count": 1703,
     "metadata": {},
     "output_type": "execute_result"
    }
   ],
   "source": [
    "160570/df.shape[0]"
   ]
  },
  {
   "cell_type": "code",
   "execution_count": 1704,
   "metadata": {},
   "outputs": [
    {
     "data": {
      "text/html": [
       "<div>\n",
       "<style scoped>\n",
       "    .dataframe tbody tr th:only-of-type {\n",
       "        vertical-align: middle;\n",
       "    }\n",
       "\n",
       "    .dataframe tbody tr th {\n",
       "        vertical-align: top;\n",
       "    }\n",
       "\n",
       "    .dataframe thead th {\n",
       "        text-align: right;\n",
       "    }\n",
       "</style>\n",
       "<table border=\"1\" class=\"dataframe\">\n",
       "  <thead>\n",
       "    <tr style=\"text-align: right;\">\n",
       "      <th></th>\n",
       "      <th>count</th>\n",
       "      <th>mean</th>\n",
       "      <th>std</th>\n",
       "      <th>min</th>\n",
       "      <th>25%</th>\n",
       "      <th>50%</th>\n",
       "      <th>75%</th>\n",
       "      <th>max</th>\n",
       "    </tr>\n",
       "  </thead>\n",
       "  <tbody>\n",
       "    <tr>\n",
       "      <th>cat_periodo</th>\n",
       "      <td>160570.0</td>\n",
       "      <td>2.017809e+03</td>\n",
       "      <td>2.011</td>\n",
       "      <td>2015.0</td>\n",
       "      <td>2016.0</td>\n",
       "      <td>2018.0</td>\n",
       "      <td>2019.00</td>\n",
       "      <td>2021.0</td>\n",
       "    </tr>\n",
       "    <tr>\n",
       "      <th>mrun</th>\n",
       "      <td>160570.0</td>\n",
       "      <td>1.323128e+07</td>\n",
       "      <td>7643853.694</td>\n",
       "      <td>37.0</td>\n",
       "      <td>6608980.0</td>\n",
       "      <td>13253105.5</td>\n",
       "      <td>19829845.75</td>\n",
       "      <td>26987947.0</td>\n",
       "    </tr>\n",
       "    <tr>\n",
       "      <th>fec_nac_alu</th>\n",
       "      <td>160570.0</td>\n",
       "      <td>1.978406e+05</td>\n",
       "      <td>814.771</td>\n",
       "      <td>190001.0</td>\n",
       "      <td>197404.0</td>\n",
       "      <td>197907.0</td>\n",
       "      <td>198210.00</td>\n",
       "      <td>200409.0</td>\n",
       "    </tr>\n",
       "    <tr>\n",
       "      <th>anio_ing_carr_ori</th>\n",
       "      <td>160570.0</td>\n",
       "      <td>2.017639e+03</td>\n",
       "      <td>2.005</td>\n",
       "      <td>2015.0</td>\n",
       "      <td>2016.0</td>\n",
       "      <td>2018.0</td>\n",
       "      <td>2019.00</td>\n",
       "      <td>2021.0</td>\n",
       "    </tr>\n",
       "    <tr>\n",
       "      <th>desertor_1</th>\n",
       "      <td>160570.0</td>\n",
       "      <td>2.360000e-01</td>\n",
       "      <td>0.425</td>\n",
       "      <td>0.0</td>\n",
       "      <td>0.0</td>\n",
       "      <td>0.0</td>\n",
       "      <td>0.00</td>\n",
       "      <td>1.0</td>\n",
       "    </tr>\n",
       "    <tr>\n",
       "      <th>edad</th>\n",
       "      <td>160570.0</td>\n",
       "      <td>3.838300e+01</td>\n",
       "      <td>8.166</td>\n",
       "      <td>15.0</td>\n",
       "      <td>34.0</td>\n",
       "      <td>38.0</td>\n",
       "      <td>43.00</td>\n",
       "      <td>118.0</td>\n",
       "    </tr>\n",
       "  </tbody>\n",
       "</table>\n",
       "</div>"
      ],
      "text/plain": [
       "                      count          mean          std       min        25%  \\\n",
       "cat_periodo        160570.0  2.017809e+03        2.011    2015.0     2016.0   \n",
       "mrun               160570.0  1.323128e+07  7643853.694      37.0  6608980.0   \n",
       "fec_nac_alu        160570.0  1.978406e+05      814.771  190001.0   197404.0   \n",
       "anio_ing_carr_ori  160570.0  2.017639e+03        2.005    2015.0     2016.0   \n",
       "desertor_1         160570.0  2.360000e-01        0.425       0.0        0.0   \n",
       "edad               160570.0  3.838300e+01        8.166      15.0       34.0   \n",
       "\n",
       "                          50%          75%         max  \n",
       "cat_periodo            2018.0      2019.00      2021.0  \n",
       "mrun               13253105.5  19829845.75  26987947.0  \n",
       "fec_nac_alu          197907.0    198210.00    200409.0  \n",
       "anio_ing_carr_ori      2018.0      2019.00      2021.0  \n",
       "desertor_1                0.0         0.00         1.0  \n",
       "edad                     38.0        43.00       118.0  "
      ]
     },
     "execution_count": 1704,
     "metadata": {},
     "output_type": "execute_result"
    }
   ],
   "source": [
    "mask = (df['dependencia_colegio'] == -1) & (df['tipo_ensenanza_colegio'].isnull())\n",
    "df[mask].describe().T.round(3)"
   ]
  },
  {
   "cell_type": "code",
   "execution_count": 1705,
   "metadata": {},
   "outputs": [],
   "source": [
    "# se pierden los datos de gente mayor a los 30 años en general, debido principalmente, a que la disponibilidad de datos llega hasta el año 2002 de escolaridad, que es de dónde se obtuvieron estos datos."
   ]
  },
  {
   "cell_type": "markdown",
   "metadata": {},
   "source": [
    "### Bases para visualizaciones:"
   ]
  },
  {
   "cell_type": "code",
   "execution_count": 1706,
   "metadata": {},
   "outputs": [
    {
     "name": "stderr",
     "output_type": "stream",
     "text": [
      "/var/folders/5_/w5jydt951sj0xng_km9pk2d40000gn/T/ipykernel_6752/1192227099.py:5: DtypeWarning: Columns (16) have mixed types. Specify dtype option on import or set low_memory=False.\n",
      "  df = pd.read_csv('file:///Users/cristobalperez/Downloads/matriz_desercion.csv',usecols=cols)\n"
     ]
    }
   ],
   "source": [
    "cols = [ 'mrun','cat_periodo', 'codigo_unico', \n",
    "       'anio_ing_carr_ori',\n",
    "       'tipo_inst_1', 'dependencia_colegio','tipo_ensenanza_colegio','desertor_1']\n",
    "       \n",
    "df = pd.read_csv('file:///Users/cristobalperez/Downloads/matriz_desercion.csv',usecols=cols)\n",
    "\n",
    "df = df.drop_duplicates(subset='mrun')\n",
    "\n",
    "mask = ~df['dependencia_colegio'].isin(l)\n",
    "df = df[mask]\n",
    "\n",
    "df['dependencia_colegio'] = df['dependencia_colegio'].apply(lambda x: int(x) if x==x else -1)\n",
    "df2 = df.copy()\n",
    "\n",
    "df = df.replace({'tipo_ensenanza_colegio': tipo_ensenanza_colegio})\n",
    "df = df.replace({'dependencia_colegio': dependencia_colegio})\n"
   ]
  },
  {
   "cell_type": "markdown",
   "metadata": {
    "id": "LfceH-U917cZ"
   },
   "source": [
    "## VISUALIZACIONES\n",
    "Visualizando la Deserción de los Estudiantes según Dependencia y Tipo de Enseñanza"
   ]
  },
  {
   "cell_type": "code",
   "execution_count": 1707,
   "metadata": {
    "colab": {
     "base_uri": "https://localhost:8080/"
    },
    "id": "L6c9BueH0AAT",
    "outputId": "c0cb66b8-acf8-4a7a-ea3b-b3c49765558f"
   },
   "outputs": [
    {
     "data": {
      "text/plain": [
       "Particular Subvencionado       496418\n",
       "Municipal DAEM                 267365\n",
       "-1                             164229\n",
       "Corporación Municipal          137664\n",
       "Administración Delegada         54673\n",
       "Particular Pagado               32510\n",
       "Servicio Local de Educación      3864\n",
       "Name: dependencia_colegio, dtype: int64"
      ]
     },
     "execution_count": 1707,
     "metadata": {},
     "output_type": "execute_result"
    }
   ],
   "source": [
    "pd.value_counts(df.drop_duplicates(subset='mrun')['dependencia_colegio'])"
   ]
  },
  {
   "cell_type": "code",
   "execution_count": 1708,
   "metadata": {
    "colab": {
     "base_uri": "https://localhost:8080/"
    },
    "id": "wo8IQDQU0Ilu",
    "outputId": "5789bdfd-3fdc-44bd-c1c0-8fe8a6ef4ec7"
   },
   "outputs": [
    {
     "data": {
      "text/plain": [
       "Particular Subvencionado       42.915893\n",
       "Municipal DAEM                 23.114004\n",
       "-1                             14.197781\n",
       "Corporación Municipal          11.901207\n",
       "Administración Delegada         4.726542\n",
       "Particular Pagado               2.810526\n",
       "Servicio Local de Educación     0.334047\n",
       "Name: dependencia_colegio, dtype: float64"
      ]
     },
     "execution_count": 1708,
     "metadata": {},
     "output_type": "execute_result"
    }
   ],
   "source": [
    "100 * df.drop_duplicates(subset='mrun')['dependencia_colegio'].value_counts() / len(df.drop_duplicates(subset='mrun')['dependencia_colegio'])"
   ]
  },
  {
   "cell_type": "code",
   "execution_count": 1709,
   "metadata": {
    "colab": {
     "base_uri": "https://localhost:8080/"
    },
    "id": "TQma2kkH1zzw",
    "outputId": "a7934138-cc13-4cfb-e489-5c20382902ad"
   },
   "outputs": [
    {
     "data": {
      "text/plain": [
       "Educación Media H-C                       368935\n",
       "Educación Media H-C Adultos               199714\n",
       "Educación Media T-P Industrial            154731\n",
       "Educación Media T-P Comercial             150294\n",
       "Educación Media T-P Técnica                94289\n",
       "Educación Media T-P Agrícola               16498\n",
       "Educación Media T-P Marítima                4577\n",
       "Educación Media T-P Comercial Adultos       2988\n",
       "Educación Media T-P Técnica Adultos         2249\n",
       "Educación Media T-P Industrial Adultos      1623\n",
       "Educación Media Artística                    160\n",
       "Educación Media T-P Agrícola Adultos          64\n",
       "Educación Media T-P Marítima Adultos          31\n",
       "Name: tipo_ensenanza_colegio, dtype: int64"
      ]
     },
     "execution_count": 1709,
     "metadata": {},
     "output_type": "execute_result"
    }
   ],
   "source": [
    "pd.value_counts(df.drop_duplicates(subset='mrun')['tipo_ensenanza_colegio'])"
   ]
  },
  {
   "cell_type": "code",
   "execution_count": 1710,
   "metadata": {
    "colab": {
     "base_uri": "https://localhost:8080/"
    },
    "id": "h1U54wMI0JBz",
    "outputId": "65136ed2-a20c-4035-dae7-c11a126f2e28"
   },
   "outputs": [
    {
     "data": {
      "text/plain": [
       "Educación Media H-C                       31.894844\n",
       "Educación Media H-C Adultos               17.265499\n",
       "Educación Media T-P Industrial            13.376668\n",
       "Educación Media T-P Comercial             12.993085\n",
       "Educación Media T-P Técnica                8.151390\n",
       "Educación Media T-P Agrícola               1.426271\n",
       "Educación Media T-P Marítima               0.395687\n",
       "Educación Media T-P Comercial Adultos      0.258316\n",
       "Educación Media T-P Técnica Adultos        0.194429\n",
       "Educación Media T-P Industrial Adultos     0.140310\n",
       "Educación Media Artística                  0.013832\n",
       "Educación Media T-P Agrícola Adultos       0.005533\n",
       "Educación Media T-P Marítima Adultos       0.002680\n",
       "Name: tipo_ensenanza_colegio, dtype: float64"
      ]
     },
     "execution_count": 1710,
     "metadata": {},
     "output_type": "execute_result"
    }
   ],
   "source": [
    "100 * df.drop_duplicates(subset='mrun')['tipo_ensenanza_colegio'].value_counts() / len(df.drop_duplicates(subset='mrun')['tipo_ensenanza_colegio'])"
   ]
  },
  {
   "cell_type": "code",
   "execution_count": 1711,
   "metadata": {
    "colab": {
     "base_uri": "https://localhost:8080/",
     "height": 520
    },
    "id": "Vj6V2iqO0pxy",
    "outputId": "7b3cd20b-c5b0-4e0e-f424-b5242c16be9d"
   },
   "outputs": [
    {
     "data": {
      "text/html": [
       "<div>\n",
       "<style scoped>\n",
       "    .dataframe tbody tr th:only-of-type {\n",
       "        vertical-align: middle;\n",
       "    }\n",
       "\n",
       "    .dataframe tbody tr th {\n",
       "        vertical-align: top;\n",
       "    }\n",
       "\n",
       "    .dataframe thead th {\n",
       "        text-align: right;\n",
       "    }\n",
       "</style>\n",
       "<table border=\"1\" class=\"dataframe\">\n",
       "  <thead>\n",
       "    <tr style=\"text-align: right;\">\n",
       "      <th>desertor_1</th>\n",
       "      <th>0.0</th>\n",
       "      <th>1.0</th>\n",
       "      <th>All</th>\n",
       "    </tr>\n",
       "    <tr>\n",
       "      <th>tipo_ensenanza_colegio</th>\n",
       "      <th></th>\n",
       "      <th></th>\n",
       "      <th></th>\n",
       "    </tr>\n",
       "  </thead>\n",
       "  <tbody>\n",
       "    <tr>\n",
       "      <th>Educación Media Artística</th>\n",
       "      <td>139</td>\n",
       "      <td>21</td>\n",
       "      <td>160</td>\n",
       "    </tr>\n",
       "    <tr>\n",
       "      <th>Educación Media H-C</th>\n",
       "      <td>323598</td>\n",
       "      <td>45337</td>\n",
       "      <td>368935</td>\n",
       "    </tr>\n",
       "    <tr>\n",
       "      <th>Educación Media H-C Adultos</th>\n",
       "      <td>143110</td>\n",
       "      <td>56604</td>\n",
       "      <td>199714</td>\n",
       "    </tr>\n",
       "    <tr>\n",
       "      <th>Educación Media T-P Agrícola</th>\n",
       "      <td>13026</td>\n",
       "      <td>3472</td>\n",
       "      <td>16498</td>\n",
       "    </tr>\n",
       "    <tr>\n",
       "      <th>Educación Media T-P Agrícola Adultos</th>\n",
       "      <td>35</td>\n",
       "      <td>29</td>\n",
       "      <td>64</td>\n",
       "    </tr>\n",
       "    <tr>\n",
       "      <th>Educación Media T-P Comercial</th>\n",
       "      <td>127523</td>\n",
       "      <td>22771</td>\n",
       "      <td>150294</td>\n",
       "    </tr>\n",
       "    <tr>\n",
       "      <th>Educación Media T-P Comercial Adultos</th>\n",
       "      <td>2278</td>\n",
       "      <td>710</td>\n",
       "      <td>2988</td>\n",
       "    </tr>\n",
       "    <tr>\n",
       "      <th>Educación Media T-P Industrial</th>\n",
       "      <td>126671</td>\n",
       "      <td>28060</td>\n",
       "      <td>154731</td>\n",
       "    </tr>\n",
       "    <tr>\n",
       "      <th>Educación Media T-P Industrial Adultos</th>\n",
       "      <td>1083</td>\n",
       "      <td>540</td>\n",
       "      <td>1623</td>\n",
       "    </tr>\n",
       "    <tr>\n",
       "      <th>Educación Media T-P Marítima</th>\n",
       "      <td>3683</td>\n",
       "      <td>894</td>\n",
       "      <td>4577</td>\n",
       "    </tr>\n",
       "    <tr>\n",
       "      <th>Educación Media T-P Marítima Adultos</th>\n",
       "      <td>18</td>\n",
       "      <td>13</td>\n",
       "      <td>31</td>\n",
       "    </tr>\n",
       "    <tr>\n",
       "      <th>Educación Media T-P Técnica</th>\n",
       "      <td>77680</td>\n",
       "      <td>16609</td>\n",
       "      <td>94289</td>\n",
       "    </tr>\n",
       "    <tr>\n",
       "      <th>Educación Media T-P Técnica Adultos</th>\n",
       "      <td>1595</td>\n",
       "      <td>654</td>\n",
       "      <td>2249</td>\n",
       "    </tr>\n",
       "    <tr>\n",
       "      <th>All</th>\n",
       "      <td>820439</td>\n",
       "      <td>175714</td>\n",
       "      <td>996153</td>\n",
       "    </tr>\n",
       "  </tbody>\n",
       "</table>\n",
       "</div>"
      ],
      "text/plain": [
       "desertor_1                                 0.0     1.0     All\n",
       "tipo_ensenanza_colegio                                        \n",
       "Educación Media Artística                  139      21     160\n",
       "Educación Media H-C                     323598   45337  368935\n",
       "Educación Media H-C Adultos             143110   56604  199714\n",
       "Educación Media T-P Agrícola             13026    3472   16498\n",
       "Educación Media T-P Agrícola Adultos        35      29      64\n",
       "Educación Media T-P Comercial           127523   22771  150294\n",
       "Educación Media T-P Comercial Adultos     2278     710    2988\n",
       "Educación Media T-P Industrial          126671   28060  154731\n",
       "Educación Media T-P Industrial Adultos    1083     540    1623\n",
       "Educación Media T-P Marítima              3683     894    4577\n",
       "Educación Media T-P Marítima Adultos        18      13      31\n",
       "Educación Media T-P Técnica              77680   16609   94289\n",
       "Educación Media T-P Técnica Adultos       1595     654    2249\n",
       "All                                     820439  175714  996153"
      ]
     },
     "execution_count": 1711,
     "metadata": {},
     "output_type": "execute_result"
    }
   ],
   "source": [
    "# CANTIDAD DE DESERTORES POR TIPO DE ENSEÑANZA\n",
    "pd.crosstab(index=df.drop_duplicates(subset='mrun')['desertor_1'],\n",
    "            columns=df.drop_duplicates(subset='mrun')['tipo_ensenanza_colegio'], margins=True).T"
   ]
  },
  {
   "cell_type": "code",
   "execution_count": 1712,
   "metadata": {
    "colab": {
     "base_uri": "https://localhost:8080/",
     "height": 488
    },
    "id": "Tuz-fwbz09yE",
    "outputId": "6d49a110-e0c1-4c30-9232-ecd256e57d74"
   },
   "outputs": [
    {
     "data": {
      "text/html": [
       "<div>\n",
       "<style scoped>\n",
       "    .dataframe tbody tr th:only-of-type {\n",
       "        vertical-align: middle;\n",
       "    }\n",
       "\n",
       "    .dataframe tbody tr th {\n",
       "        vertical-align: top;\n",
       "    }\n",
       "\n",
       "    .dataframe thead th {\n",
       "        text-align: right;\n",
       "    }\n",
       "</style>\n",
       "<table border=\"1\" class=\"dataframe\">\n",
       "  <thead>\n",
       "    <tr style=\"text-align: right;\">\n",
       "      <th>desertor_1</th>\n",
       "      <th>0.0</th>\n",
       "      <th>1.0</th>\n",
       "    </tr>\n",
       "    <tr>\n",
       "      <th>tipo_ensenanza_colegio</th>\n",
       "      <th></th>\n",
       "      <th></th>\n",
       "    </tr>\n",
       "  </thead>\n",
       "  <tbody>\n",
       "    <tr>\n",
       "      <th>Educación Media Artística</th>\n",
       "      <td>86.875000</td>\n",
       "      <td>13.125000</td>\n",
       "    </tr>\n",
       "    <tr>\n",
       "      <th>Educación Media H-C</th>\n",
       "      <td>87.711385</td>\n",
       "      <td>12.288615</td>\n",
       "    </tr>\n",
       "    <tr>\n",
       "      <th>Educación Media H-C Adultos</th>\n",
       "      <td>71.657470</td>\n",
       "      <td>28.342530</td>\n",
       "    </tr>\n",
       "    <tr>\n",
       "      <th>Educación Media T-P Agrícola</th>\n",
       "      <td>78.955025</td>\n",
       "      <td>21.044975</td>\n",
       "    </tr>\n",
       "    <tr>\n",
       "      <th>Educación Media T-P Agrícola Adultos</th>\n",
       "      <td>54.687500</td>\n",
       "      <td>45.312500</td>\n",
       "    </tr>\n",
       "    <tr>\n",
       "      <th>Educación Media T-P Comercial</th>\n",
       "      <td>84.849029</td>\n",
       "      <td>15.150971</td>\n",
       "    </tr>\n",
       "    <tr>\n",
       "      <th>Educación Media T-P Comercial Adultos</th>\n",
       "      <td>76.238286</td>\n",
       "      <td>23.761714</td>\n",
       "    </tr>\n",
       "    <tr>\n",
       "      <th>Educación Media T-P Industrial</th>\n",
       "      <td>81.865302</td>\n",
       "      <td>18.134698</td>\n",
       "    </tr>\n",
       "    <tr>\n",
       "      <th>Educación Media T-P Industrial Adultos</th>\n",
       "      <td>66.728281</td>\n",
       "      <td>33.271719</td>\n",
       "    </tr>\n",
       "    <tr>\n",
       "      <th>Educación Media T-P Marítima</th>\n",
       "      <td>80.467555</td>\n",
       "      <td>19.532445</td>\n",
       "    </tr>\n",
       "    <tr>\n",
       "      <th>Educación Media T-P Marítima Adultos</th>\n",
       "      <td>58.064516</td>\n",
       "      <td>41.935484</td>\n",
       "    </tr>\n",
       "    <tr>\n",
       "      <th>Educación Media T-P Técnica</th>\n",
       "      <td>82.385008</td>\n",
       "      <td>17.614992</td>\n",
       "    </tr>\n",
       "    <tr>\n",
       "      <th>Educación Media T-P Técnica Adultos</th>\n",
       "      <td>70.920409</td>\n",
       "      <td>29.079591</td>\n",
       "    </tr>\n",
       "  </tbody>\n",
       "</table>\n",
       "</div>"
      ],
      "text/plain": [
       "desertor_1                                    0.0        1.0\n",
       "tipo_ensenanza_colegio                                      \n",
       "Educación Media Artística               86.875000  13.125000\n",
       "Educación Media H-C                     87.711385  12.288615\n",
       "Educación Media H-C Adultos             71.657470  28.342530\n",
       "Educación Media T-P Agrícola            78.955025  21.044975\n",
       "Educación Media T-P Agrícola Adultos    54.687500  45.312500\n",
       "Educación Media T-P Comercial           84.849029  15.150971\n",
       "Educación Media T-P Comercial Adultos   76.238286  23.761714\n",
       "Educación Media T-P Industrial          81.865302  18.134698\n",
       "Educación Media T-P Industrial Adultos  66.728281  33.271719\n",
       "Educación Media T-P Marítima            80.467555  19.532445\n",
       "Educación Media T-P Marítima Adultos    58.064516  41.935484\n",
       "Educación Media T-P Técnica             82.385008  17.614992\n",
       "Educación Media T-P Técnica Adultos     70.920409  29.079591"
      ]
     },
     "execution_count": 1712,
     "metadata": {},
     "output_type": "execute_result"
    }
   ],
   "source": [
    "# FRECUENCIA DE DESERTORES POR CATEGORÍA DE TIPO DE ENSEÑANZA\n",
    "pd.crosstab(index=df.drop_duplicates(subset='mrun')['desertor_1'], columns=df.drop_duplicates(subset='mrun')['tipo_ensenanza_colegio']\n",
    "           ).apply(lambda r: r/r.sum() *100,\n",
    "                                axis=0).T"
   ]
  },
  {
   "cell_type": "code",
   "execution_count": 1713,
   "metadata": {
    "colab": {
     "base_uri": "https://localhost:8080/",
     "height": 331
    },
    "id": "Tg9m-MLf0pvB",
    "outputId": "f3471d69-38f3-49db-bcb1-ed39e0a04a29"
   },
   "outputs": [
    {
     "data": {
      "text/html": [
       "<div>\n",
       "<style scoped>\n",
       "    .dataframe tbody tr th:only-of-type {\n",
       "        vertical-align: middle;\n",
       "    }\n",
       "\n",
       "    .dataframe tbody tr th {\n",
       "        vertical-align: top;\n",
       "    }\n",
       "\n",
       "    .dataframe thead th {\n",
       "        text-align: right;\n",
       "    }\n",
       "</style>\n",
       "<table border=\"1\" class=\"dataframe\">\n",
       "  <thead>\n",
       "    <tr style=\"text-align: right;\">\n",
       "      <th>desertor_1</th>\n",
       "      <th>0.0</th>\n",
       "      <th>1.0</th>\n",
       "      <th>All</th>\n",
       "    </tr>\n",
       "    <tr>\n",
       "      <th>dependencia_colegio</th>\n",
       "      <th></th>\n",
       "      <th></th>\n",
       "      <th></th>\n",
       "    </tr>\n",
       "  </thead>\n",
       "  <tbody>\n",
       "    <tr>\n",
       "      <th>-1</th>\n",
       "      <td>125452</td>\n",
       "      <td>38777</td>\n",
       "      <td>164229</td>\n",
       "    </tr>\n",
       "    <tr>\n",
       "      <th>Administración Delegada</th>\n",
       "      <td>46222</td>\n",
       "      <td>8451</td>\n",
       "      <td>54673</td>\n",
       "    </tr>\n",
       "    <tr>\n",
       "      <th>Corporación Municipal</th>\n",
       "      <td>109387</td>\n",
       "      <td>28277</td>\n",
       "      <td>137664</td>\n",
       "    </tr>\n",
       "    <tr>\n",
       "      <th>Municipal DAEM</th>\n",
       "      <td>216498</td>\n",
       "      <td>50867</td>\n",
       "      <td>267365</td>\n",
       "    </tr>\n",
       "    <tr>\n",
       "      <th>Particular Pagado</th>\n",
       "      <td>28102</td>\n",
       "      <td>4408</td>\n",
       "      <td>32510</td>\n",
       "    </tr>\n",
       "    <tr>\n",
       "      <th>Particular Subvencionado</th>\n",
       "      <td>414473</td>\n",
       "      <td>81945</td>\n",
       "      <td>496418</td>\n",
       "    </tr>\n",
       "    <tr>\n",
       "      <th>Servicio Local de Educación</th>\n",
       "      <td>2992</td>\n",
       "      <td>872</td>\n",
       "      <td>3864</td>\n",
       "    </tr>\n",
       "    <tr>\n",
       "      <th>All</th>\n",
       "      <td>943126</td>\n",
       "      <td>213597</td>\n",
       "      <td>1156723</td>\n",
       "    </tr>\n",
       "  </tbody>\n",
       "</table>\n",
       "</div>"
      ],
      "text/plain": [
       "desertor_1                      0.0     1.0      All\n",
       "dependencia_colegio                                 \n",
       "-1                           125452   38777   164229\n",
       "Administración Delegada       46222    8451    54673\n",
       "Corporación Municipal        109387   28277   137664\n",
       "Municipal DAEM               216498   50867   267365\n",
       "Particular Pagado             28102    4408    32510\n",
       "Particular Subvencionado     414473   81945   496418\n",
       "Servicio Local de Educación    2992     872     3864\n",
       "All                          943126  213597  1156723"
      ]
     },
     "execution_count": 1713,
     "metadata": {},
     "output_type": "execute_result"
    }
   ],
   "source": [
    "# CANTIDAD DE DESERTORES POR TIPO DE DEPENDENCIA\n",
    "pd.crosstab(index=df.drop_duplicates(subset='mrun')['desertor_1'],\n",
    "            columns=df.drop_duplicates(subset='mrun')['dependencia_colegio'], margins=True).T"
   ]
  },
  {
   "cell_type": "code",
   "execution_count": 1714,
   "metadata": {
    "colab": {
     "base_uri": "https://localhost:8080/",
     "height": 300
    },
    "id": "JeclvTfd09sb",
    "outputId": "059a8304-7439-487d-db7d-e09161e94fab"
   },
   "outputs": [
    {
     "data": {
      "text/html": [
       "<div>\n",
       "<style scoped>\n",
       "    .dataframe tbody tr th:only-of-type {\n",
       "        vertical-align: middle;\n",
       "    }\n",
       "\n",
       "    .dataframe tbody tr th {\n",
       "        vertical-align: top;\n",
       "    }\n",
       "\n",
       "    .dataframe thead th {\n",
       "        text-align: right;\n",
       "    }\n",
       "</style>\n",
       "<table border=\"1\" class=\"dataframe\">\n",
       "  <thead>\n",
       "    <tr style=\"text-align: right;\">\n",
       "      <th>desertor_1</th>\n",
       "      <th>0.0</th>\n",
       "      <th>1.0</th>\n",
       "    </tr>\n",
       "    <tr>\n",
       "      <th>dependencia_colegio</th>\n",
       "      <th></th>\n",
       "      <th></th>\n",
       "    </tr>\n",
       "  </thead>\n",
       "  <tbody>\n",
       "    <tr>\n",
       "      <th>-1</th>\n",
       "      <td>76.388458</td>\n",
       "      <td>23.611542</td>\n",
       "    </tr>\n",
       "    <tr>\n",
       "      <th>Administración Delegada</th>\n",
       "      <td>84.542644</td>\n",
       "      <td>15.457356</td>\n",
       "    </tr>\n",
       "    <tr>\n",
       "      <th>Corporación Municipal</th>\n",
       "      <td>79.459408</td>\n",
       "      <td>20.540592</td>\n",
       "    </tr>\n",
       "    <tr>\n",
       "      <th>Municipal DAEM</th>\n",
       "      <td>80.974698</td>\n",
       "      <td>19.025302</td>\n",
       "    </tr>\n",
       "    <tr>\n",
       "      <th>Particular Pagado</th>\n",
       "      <td>86.441095</td>\n",
       "      <td>13.558905</td>\n",
       "    </tr>\n",
       "    <tr>\n",
       "      <th>Particular Subvencionado</th>\n",
       "      <td>83.492742</td>\n",
       "      <td>16.507258</td>\n",
       "    </tr>\n",
       "    <tr>\n",
       "      <th>Servicio Local de Educación</th>\n",
       "      <td>77.432712</td>\n",
       "      <td>22.567288</td>\n",
       "    </tr>\n",
       "  </tbody>\n",
       "</table>\n",
       "</div>"
      ],
      "text/plain": [
       "desertor_1                         0.0        1.0\n",
       "dependencia_colegio                              \n",
       "-1                           76.388458  23.611542\n",
       "Administración Delegada      84.542644  15.457356\n",
       "Corporación Municipal        79.459408  20.540592\n",
       "Municipal DAEM               80.974698  19.025302\n",
       "Particular Pagado            86.441095  13.558905\n",
       "Particular Subvencionado     83.492742  16.507258\n",
       "Servicio Local de Educación  77.432712  22.567288"
      ]
     },
     "execution_count": 1714,
     "metadata": {},
     "output_type": "execute_result"
    }
   ],
   "source": [
    "# FRECUENCIA DE DESERTORES POR CATEGORÍA DE TIPO DE DEPENDENCIA\n",
    "pd.crosstab(index=df.drop_duplicates(subset='mrun')['desertor_1'], columns=df.drop_duplicates(subset='mrun')['dependencia_colegio']\n",
    "           ).apply(lambda r: r/r.sum() *100,\n",
    "                                axis=0).T"
   ]
  },
  {
   "cell_type": "code",
   "execution_count": 1715,
   "metadata": {
    "colab": {
     "base_uri": "https://localhost:8080/",
     "height": 610
    },
    "id": "4OLAF6-qig_C",
    "outputId": "5176973a-9227-4592-bddb-8bc675305a00"
   },
   "outputs": [
    {
     "data": {
      "text/plain": [
       "<AxesSubplot:>"
      ]
     },
     "execution_count": 1715,
     "metadata": {},
     "output_type": "execute_result"
    },
    {
     "data": {
      "image/png": "[encoded data removed]",
      "text/plain": [
       "<Figure size 720x720 with 1 Axes>"
      ]
     },
     "metadata": {
      "needs_background": "light"
     },
     "output_type": "display_data"
    }
   ],
   "source": [
    "fig, ax = plt.subplots(figsize=(10, 10))\n",
    "pd.value_counts(\n",
    "    df.drop_duplicates(subset='mrun')['dependencia_colegio']\n",
    "                ).T.plot(kind='barh',stacked=True,width=0.95,ax=ax)"
   ]
  },
  {
   "cell_type": "code",
   "execution_count": 1716,
   "metadata": {
    "colab": {
     "base_uri": "https://localhost:8080/",
     "height": 607
    },
    "id": "OImC5Hz_rwTS",
    "outputId": "da82c291-9929-4635-f394-92006b1d5f15"
   },
   "outputs": [
    {
     "data": {
      "text/plain": [
       "<AxesSubplot:>"
      ]
     },
     "execution_count": 1716,
     "metadata": {},
     "output_type": "execute_result"
    },
    {
     "data": {
      "image/png": "[encoded data removed]",
      "text/plain": [
       "<Figure size 720x720 with 1 Axes>"
      ]
     },
     "metadata": {
      "needs_background": "light"
     },
     "output_type": "display_data"
    }
   ],
   "source": [
    "fig, ax = plt.subplots(figsize=(10, 10))\n",
    "pd.value_counts(\n",
    "    df.drop_duplicates(subset='mrun')['tipo_ensenanza_colegio']\n",
    "                ).T.plot(kind='barh',stacked=True,width=0.95,ax=ax)"
   ]
  },
  {
   "cell_type": "code",
   "execution_count": 1717,
   "metadata": {},
   "outputs": [
    {
     "data": {
      "image/png": "[encoded data removed]",
      "text/plain": [
       "<Figure size 720x720 with 1 Axes>"
      ]
     },
     "metadata": {
      "needs_background": "light"
     },
     "output_type": "display_data"
    }
   ],
   "source": [
    "cross_tab_prop = pd.crosstab(index=df['tipo_ensenanza_colegio'],\n",
    "                             columns=df['desertor_1'],\n",
    "                             normalize=\"index\")\n",
    "\n",
    "cross_tab = pd.crosstab(index=df['tipo_ensenanza_colegio'],\n",
    "                        columns=df['desertor_1'])\n",
    "\n",
    "\n",
    "cross_tab_prop.plot(kind='barh', \n",
    "                        stacked=True,\n",
    "                        width=0.95, \n",
    "                        figsize=(10, 10))\n",
    "\n",
    "plt.legend(loc=\"best\", ncol=2)\n",
    "\n",
    "for n, x in enumerate([*cross_tab.index.values]):\n",
    "    for (proportion, y_loc) in zip(cross_tab_prop.loc[x],\n",
    "                                          cross_tab_prop.loc[x].cumsum()):\n",
    "                \n",
    "        plt.text(x=(y_loc - proportion) + (proportion / 2),\n",
    "                 y=n - 0.11,\n",
    "                 s=f'{np.round(proportion * 100, 1)}%', \n",
    "                 color=\"black\",\n",
    "                 fontsize=12)\n",
    "\n",
    "plt.show()"
   ]
  },
  {
   "cell_type": "code",
   "execution_count": 1718,
   "metadata": {
    "colab": {
     "base_uri": "https://localhost:8080/",
     "height": 610
    },
    "id": "lGLRDQ73wQDy",
    "outputId": "c5b5e60e-93ed-4446-a905-9b5de9412272"
   },
   "outputs": [
    {
     "data": {
      "image/png": "[encoded data removed]",
      "text/plain": [
       "<Figure size 720x720 with 1 Axes>"
      ]
     },
     "metadata": {
      "needs_background": "light"
     },
     "output_type": "display_data"
    }
   ],
   "source": [
    "cross_tab_prop = pd.crosstab(index=df['dependencia_colegio'],\n",
    "                             columns=df['desertor_1'],\n",
    "                             normalize=\"index\")\n",
    "\n",
    "cross_tab = pd.crosstab(index=df['dependencia_colegio'],\n",
    "                        columns=df['desertor_1'])\n",
    "\n",
    "\n",
    "cross_tab_prop.plot(kind='barh', \n",
    "                        stacked=True,\n",
    "                        width=0.95, \n",
    "                        figsize=(10, 10))\n",
    "\n",
    "plt.legend(loc=\"best\", ncol=2)\n",
    "\n",
    "for n, x in enumerate([*cross_tab.index.values]):\n",
    "    for (proportion, y_loc) in zip(cross_tab_prop.loc[x],\n",
    "                                          cross_tab_prop.loc[x].cumsum()):\n",
    "                \n",
    "        plt.text(x=(y_loc - proportion) + (proportion / 2),\n",
    "                 y=n - 0.11,\n",
    "                 s=f'{np.round(proportion * 100, 1)}%', \n",
    "                 color=\"black\",\n",
    "                 fontsize=12,)\n",
    "\n",
    "plt.show()"
   ]
  },
  {
   "cell_type": "markdown",
   "metadata": {
    "id": "oIeZOFYFzNSs"
   },
   "source": [
    "## VISUALIZACIONES 2\n",
    "Visualizando la Deserción de los Estudiantes según Dependencia y Tipo de Enseñanza en menos Categorías"
   ]
  },
  {
   "cell_type": "code",
   "execution_count": 1719,
   "metadata": {
    "id": "rlQZijaVy2hX"
   },
   "outputs": [],
   "source": [
    "tipo_ensenanza_colegio_2 = {  0: \"No Aplica\",\n",
    "                           10: \"Educación Parvularia\",\n",
    "                          110: \"Educación Básica\",\n",
    "                          160: \"Educación Básica\",\n",
    "                          161: \"Educación Básica\",\n",
    "                          163: \"Escuelas Cárceles\",\n",
    "                          165: \"Educación Básica\",\n",
    "                          167: \"Educación Básica\",\n",
    "                          211: \"Educación Especial\",\n",
    "                          212: \"Educación Especial\",\n",
    "                          213: \"Educación Especial\",\n",
    "                          214: \"Educación Especial\",\n",
    "                          215: \"Educación Especial\",\n",
    "                          216: \"Educación Especial\",\n",
    "                          217: \"Educación Especial\",\n",
    "                          299: \"Opción 4 Programa Integración Escolar\",\n",
    "                          310: \"Educación Media H-C\",\n",
    "                          360: \"Educación Media H-C\",\n",
    "                          361: \"Educación Media H-C\",\n",
    "                          362: \"Escuelas Cárceles\",\n",
    "                          363: \"Educación Media H-C\",\n",
    "                          410: \"Educación Media T-P \\n Comercial\",\n",
    "                          460: \"Educación Media T-P \\n Comercial\",\n",
    "                          461: \"Educación Media T-P \\n Comercial\",\n",
    "                          463: \"Educación Media T-P \\n Comercial\",\n",
    "                          510: \"Educación Media T-P \\n Industrial\",\n",
    "                          560: \"Educación Media T-P \\n Industrial\",\n",
    "                          561: \"Educación Media T-P \\n Industrial\",\n",
    "                          563: \"Educación Media T-P \\n Industrial\",\n",
    "                          610: \"Educación Media T-P \\n Técnica\",\n",
    "                          660: \"Educación Media T-P \\n Técnica\",\n",
    "                          661: \"Educación Media T-P \\n Técnica\",\n",
    "                          663: \"Educación Media T-P \\n Técnica\",\n",
    "                          710: \"Otro\",\n",
    "                          760: \"Otro\",\n",
    "                          761: \"Otro\",\n",
    "                          763: \"Otro\",\n",
    "                          810: \"Otro\",\n",
    "                          860: \"Otro\",\n",
    "                          863: \"Otro\",\n",
    "                          910: \"Otro\",\n",
    "                          963: \"Otro\"\n",
    "                         }"
   ]
  },
  {
   "cell_type": "code",
   "execution_count": 1720,
   "metadata": {
    "colab": {
     "base_uri": "https://localhost:8080/",
     "height": 696
    },
    "id": "VYoSv4UizNSq",
    "outputId": "b1d6a9fd-11a2-4450-dd16-82f5bc4da5d0"
   },
   "outputs": [
    {
     "data": {
      "text/html": [
       "<div>\n",
       "<style scoped>\n",
       "    .dataframe tbody tr th:only-of-type {\n",
       "        vertical-align: middle;\n",
       "    }\n",
       "\n",
       "    .dataframe tbody tr th {\n",
       "        vertical-align: top;\n",
       "    }\n",
       "\n",
       "    .dataframe thead th {\n",
       "        text-align: right;\n",
       "    }\n",
       "</style>\n",
       "<table border=\"1\" class=\"dataframe\">\n",
       "  <thead>\n",
       "    <tr style=\"text-align: right;\">\n",
       "      <th></th>\n",
       "      <th>cat_periodo</th>\n",
       "      <th>codigo_unico</th>\n",
       "      <th>mrun</th>\n",
       "      <th>anio_ing_carr_ori</th>\n",
       "      <th>tipo_inst_1</th>\n",
       "      <th>desertor_1</th>\n",
       "      <th>tipo_ensenanza_colegio</th>\n",
       "      <th>dependencia_colegio</th>\n",
       "    </tr>\n",
       "  </thead>\n",
       "  <tbody>\n",
       "    <tr>\n",
       "      <th>0</th>\n",
       "      <td>2015</td>\n",
       "      <td>I498S6C132J2V1</td>\n",
       "      <td>37.0</td>\n",
       "      <td>2015</td>\n",
       "      <td>Centros de Formación Técnica</td>\n",
       "      <td>0.0</td>\n",
       "      <td>NaN</td>\n",
       "      <td>-1</td>\n",
       "    </tr>\n",
       "    <tr>\n",
       "      <th>1</th>\n",
       "      <td>2015</td>\n",
       "      <td>I111S14C309J2V1</td>\n",
       "      <td>118.0</td>\n",
       "      <td>2015</td>\n",
       "      <td>Institutos Profesionales</td>\n",
       "      <td>0.0</td>\n",
       "      <td>Educación Media H-C</td>\n",
       "      <td>3</td>\n",
       "    </tr>\n",
       "    <tr>\n",
       "      <th>2</th>\n",
       "      <td>2015</td>\n",
       "      <td>I106S3C64J4V1</td>\n",
       "      <td>253.0</td>\n",
       "      <td>2015</td>\n",
       "      <td>Institutos Profesionales</td>\n",
       "      <td>1.0</td>\n",
       "      <td>NaN</td>\n",
       "      <td>-1</td>\n",
       "    </tr>\n",
       "    <tr>\n",
       "      <th>3</th>\n",
       "      <td>2015</td>\n",
       "      <td>I221S1C57J1V1</td>\n",
       "      <td>370.0</td>\n",
       "      <td>2015</td>\n",
       "      <td>Centros de Formación Técnica</td>\n",
       "      <td>1.0</td>\n",
       "      <td>Educación Media H-C</td>\n",
       "      <td>3</td>\n",
       "    </tr>\n",
       "    <tr>\n",
       "      <th>4</th>\n",
       "      <td>2015</td>\n",
       "      <td>I176S8C59J2V1</td>\n",
       "      <td>533.0</td>\n",
       "      <td>2015</td>\n",
       "      <td>Institutos Profesionales</td>\n",
       "      <td>0.0</td>\n",
       "      <td>Educación Media T-P \\n Industrial</td>\n",
       "      <td>2</td>\n",
       "    </tr>\n",
       "    <tr>\n",
       "      <th>...</th>\n",
       "      <td>...</td>\n",
       "      <td>...</td>\n",
       "      <td>...</td>\n",
       "      <td>...</td>\n",
       "      <td>...</td>\n",
       "      <td>...</td>\n",
       "      <td>...</td>\n",
       "      <td>...</td>\n",
       "    </tr>\n",
       "    <tr>\n",
       "      <th>2746509</th>\n",
       "      <td>2021</td>\n",
       "      <td>I106S6C295J4V1</td>\n",
       "      <td>26380151.0</td>\n",
       "      <td>2020</td>\n",
       "      <td>Institutos Profesionales</td>\n",
       "      <td>0.0</td>\n",
       "      <td>NaN</td>\n",
       "      <td>-1</td>\n",
       "    </tr>\n",
       "    <tr>\n",
       "      <th>2746510</th>\n",
       "      <td>2021</td>\n",
       "      <td>I260S44C120J1V1</td>\n",
       "      <td>26380152.0</td>\n",
       "      <td>2021</td>\n",
       "      <td>Centros de Formación Técnica</td>\n",
       "      <td>1.0</td>\n",
       "      <td>NaN</td>\n",
       "      <td>-1</td>\n",
       "    </tr>\n",
       "    <tr>\n",
       "      <th>2746511</th>\n",
       "      <td>2021</td>\n",
       "      <td>I152S10C341J4V1</td>\n",
       "      <td>26453499.0</td>\n",
       "      <td>2021</td>\n",
       "      <td>Institutos Profesionales</td>\n",
       "      <td>1.0</td>\n",
       "      <td>NaN</td>\n",
       "      <td>-1</td>\n",
       "    </tr>\n",
       "    <tr>\n",
       "      <th>2746512</th>\n",
       "      <td>2021</td>\n",
       "      <td>I152S10C349J4V1</td>\n",
       "      <td>26453942.0</td>\n",
       "      <td>2020</td>\n",
       "      <td>Institutos Profesionales</td>\n",
       "      <td>0.0</td>\n",
       "      <td>NaN</td>\n",
       "      <td>-1</td>\n",
       "    </tr>\n",
       "    <tr>\n",
       "      <th>2746513</th>\n",
       "      <td>2021</td>\n",
       "      <td>I367S1C127J1V1</td>\n",
       "      <td>26987947.0</td>\n",
       "      <td>2021</td>\n",
       "      <td>Centros de Formación Técnica</td>\n",
       "      <td>0.0</td>\n",
       "      <td>NaN</td>\n",
       "      <td>-1</td>\n",
       "    </tr>\n",
       "  </tbody>\n",
       "</table>\n",
       "<p>1156723 rows × 8 columns</p>\n",
       "</div>"
      ],
      "text/plain": [
       "         cat_periodo     codigo_unico        mrun  anio_ing_carr_ori  \\\n",
       "0               2015   I498S6C132J2V1        37.0               2015   \n",
       "1               2015  I111S14C309J2V1       118.0               2015   \n",
       "2               2015    I106S3C64J4V1       253.0               2015   \n",
       "3               2015    I221S1C57J1V1       370.0               2015   \n",
       "4               2015    I176S8C59J2V1       533.0               2015   \n",
       "...              ...              ...         ...                ...   \n",
       "2746509         2021   I106S6C295J4V1  26380151.0               2020   \n",
       "2746510         2021  I260S44C120J1V1  26380152.0               2021   \n",
       "2746511         2021  I152S10C341J4V1  26453499.0               2021   \n",
       "2746512         2021  I152S10C349J4V1  26453942.0               2020   \n",
       "2746513         2021   I367S1C127J1V1  26987947.0               2021   \n",
       "\n",
       "                          tipo_inst_1  desertor_1  \\\n",
       "0        Centros de Formación Técnica         0.0   \n",
       "1            Institutos Profesionales         0.0   \n",
       "2            Institutos Profesionales         1.0   \n",
       "3        Centros de Formación Técnica         1.0   \n",
       "4            Institutos Profesionales         0.0   \n",
       "...                               ...         ...   \n",
       "2746509      Institutos Profesionales         0.0   \n",
       "2746510  Centros de Formación Técnica         1.0   \n",
       "2746511      Institutos Profesionales         1.0   \n",
       "2746512      Institutos Profesionales         0.0   \n",
       "2746513  Centros de Formación Técnica         0.0   \n",
       "\n",
       "                    tipo_ensenanza_colegio  dependencia_colegio  \n",
       "0                                      NaN                   -1  \n",
       "1                      Educación Media H-C                    3  \n",
       "2                                      NaN                   -1  \n",
       "3                      Educación Media H-C                    3  \n",
       "4        Educación Media T-P \\n Industrial                    2  \n",
       "...                                    ...                  ...  \n",
       "2746509                                NaN                   -1  \n",
       "2746510                                NaN                   -1  \n",
       "2746511                                NaN                   -1  \n",
       "2746512                                NaN                   -1  \n",
       "2746513                                NaN                   -1  \n",
       "\n",
       "[1156723 rows x 8 columns]"
      ]
     },
     "execution_count": 1720,
     "metadata": {},
     "output_type": "execute_result"
    }
   ],
   "source": [
    "df2 = df2.replace({'tipo_ensenanza_colegio': tipo_ensenanza_colegio_2})\n",
    "df2"
   ]
  },
  {
   "cell_type": "code",
   "execution_count": 1721,
   "metadata": {
    "id": "EDru1H0hzNSr"
   },
   "outputs": [],
   "source": [
    "dependencia_colegio_2 = {1: 'Municipal',\n",
    "                       2: 'Municipal',\n",
    "                       3: 'Particular \\n Subvencionado',\n",
    "                       4: 'Particular \\n Pagado',\n",
    "                       5: 'Otro',\n",
    "                       6: 'Otro'}"
   ]
  },
  {
   "cell_type": "code",
   "execution_count": 1722,
   "metadata": {
    "colab": {
     "base_uri": "https://localhost:8080/",
     "height": 696
    },
    "id": "AVLEmS2pzNSr",
    "outputId": "662c2228-ca0e-44be-c70d-19a3eb608174"
   },
   "outputs": [
    {
     "data": {
      "text/html": [
       "<div>\n",
       "<style scoped>\n",
       "    .dataframe tbody tr th:only-of-type {\n",
       "        vertical-align: middle;\n",
       "    }\n",
       "\n",
       "    .dataframe tbody tr th {\n",
       "        vertical-align: top;\n",
       "    }\n",
       "\n",
       "    .dataframe thead th {\n",
       "        text-align: right;\n",
       "    }\n",
       "</style>\n",
       "<table border=\"1\" class=\"dataframe\">\n",
       "  <thead>\n",
       "    <tr style=\"text-align: right;\">\n",
       "      <th></th>\n",
       "      <th>cat_periodo</th>\n",
       "      <th>codigo_unico</th>\n",
       "      <th>mrun</th>\n",
       "      <th>anio_ing_carr_ori</th>\n",
       "      <th>tipo_inst_1</th>\n",
       "      <th>desertor_1</th>\n",
       "      <th>tipo_ensenanza_colegio</th>\n",
       "      <th>dependencia_colegio</th>\n",
       "    </tr>\n",
       "  </thead>\n",
       "  <tbody>\n",
       "    <tr>\n",
       "      <th>0</th>\n",
       "      <td>2015</td>\n",
       "      <td>I498S6C132J2V1</td>\n",
       "      <td>37.0</td>\n",
       "      <td>2015</td>\n",
       "      <td>Centros de Formación Técnica</td>\n",
       "      <td>0.0</td>\n",
       "      <td>NaN</td>\n",
       "      <td>-1</td>\n",
       "    </tr>\n",
       "    <tr>\n",
       "      <th>1</th>\n",
       "      <td>2015</td>\n",
       "      <td>I111S14C309J2V1</td>\n",
       "      <td>118.0</td>\n",
       "      <td>2015</td>\n",
       "      <td>Institutos Profesionales</td>\n",
       "      <td>0.0</td>\n",
       "      <td>Educación Media H-C</td>\n",
       "      <td>Particular \\n Subvencionado</td>\n",
       "    </tr>\n",
       "    <tr>\n",
       "      <th>2</th>\n",
       "      <td>2015</td>\n",
       "      <td>I106S3C64J4V1</td>\n",
       "      <td>253.0</td>\n",
       "      <td>2015</td>\n",
       "      <td>Institutos Profesionales</td>\n",
       "      <td>1.0</td>\n",
       "      <td>NaN</td>\n",
       "      <td>-1</td>\n",
       "    </tr>\n",
       "    <tr>\n",
       "      <th>3</th>\n",
       "      <td>2015</td>\n",
       "      <td>I221S1C57J1V1</td>\n",
       "      <td>370.0</td>\n",
       "      <td>2015</td>\n",
       "      <td>Centros de Formación Técnica</td>\n",
       "      <td>1.0</td>\n",
       "      <td>Educación Media H-C</td>\n",
       "      <td>Particular \\n Subvencionado</td>\n",
       "    </tr>\n",
       "    <tr>\n",
       "      <th>4</th>\n",
       "      <td>2015</td>\n",
       "      <td>I176S8C59J2V1</td>\n",
       "      <td>533.0</td>\n",
       "      <td>2015</td>\n",
       "      <td>Institutos Profesionales</td>\n",
       "      <td>0.0</td>\n",
       "      <td>Educación Media T-P \\n Industrial</td>\n",
       "      <td>Municipal</td>\n",
       "    </tr>\n",
       "    <tr>\n",
       "      <th>...</th>\n",
       "      <td>...</td>\n",
       "      <td>...</td>\n",
       "      <td>...</td>\n",
       "      <td>...</td>\n",
       "      <td>...</td>\n",
       "      <td>...</td>\n",
       "      <td>...</td>\n",
       "      <td>...</td>\n",
       "    </tr>\n",
       "    <tr>\n",
       "      <th>2746509</th>\n",
       "      <td>2021</td>\n",
       "      <td>I106S6C295J4V1</td>\n",
       "      <td>26380151.0</td>\n",
       "      <td>2020</td>\n",
       "      <td>Institutos Profesionales</td>\n",
       "      <td>0.0</td>\n",
       "      <td>NaN</td>\n",
       "      <td>-1</td>\n",
       "    </tr>\n",
       "    <tr>\n",
       "      <th>2746510</th>\n",
       "      <td>2021</td>\n",
       "      <td>I260S44C120J1V1</td>\n",
       "      <td>26380152.0</td>\n",
       "      <td>2021</td>\n",
       "      <td>Centros de Formación Técnica</td>\n",
       "      <td>1.0</td>\n",
       "      <td>NaN</td>\n",
       "      <td>-1</td>\n",
       "    </tr>\n",
       "    <tr>\n",
       "      <th>2746511</th>\n",
       "      <td>2021</td>\n",
       "      <td>I152S10C341J4V1</td>\n",
       "      <td>26453499.0</td>\n",
       "      <td>2021</td>\n",
       "      <td>Institutos Profesionales</td>\n",
       "      <td>1.0</td>\n",
       "      <td>NaN</td>\n",
       "      <td>-1</td>\n",
       "    </tr>\n",
       "    <tr>\n",
       "      <th>2746512</th>\n",
       "      <td>2021</td>\n",
       "      <td>I152S10C349J4V1</td>\n",
       "      <td>26453942.0</td>\n",
       "      <td>2020</td>\n",
       "      <td>Institutos Profesionales</td>\n",
       "      <td>0.0</td>\n",
       "      <td>NaN</td>\n",
       "      <td>-1</td>\n",
       "    </tr>\n",
       "    <tr>\n",
       "      <th>2746513</th>\n",
       "      <td>2021</td>\n",
       "      <td>I367S1C127J1V1</td>\n",
       "      <td>26987947.0</td>\n",
       "      <td>2021</td>\n",
       "      <td>Centros de Formación Técnica</td>\n",
       "      <td>0.0</td>\n",
       "      <td>NaN</td>\n",
       "      <td>-1</td>\n",
       "    </tr>\n",
       "  </tbody>\n",
       "</table>\n",
       "<p>1156723 rows × 8 columns</p>\n",
       "</div>"
      ],
      "text/plain": [
       "         cat_periodo     codigo_unico        mrun  anio_ing_carr_ori  \\\n",
       "0               2015   I498S6C132J2V1        37.0               2015   \n",
       "1               2015  I111S14C309J2V1       118.0               2015   \n",
       "2               2015    I106S3C64J4V1       253.0               2015   \n",
       "3               2015    I221S1C57J1V1       370.0               2015   \n",
       "4               2015    I176S8C59J2V1       533.0               2015   \n",
       "...              ...              ...         ...                ...   \n",
       "2746509         2021   I106S6C295J4V1  26380151.0               2020   \n",
       "2746510         2021  I260S44C120J1V1  26380152.0               2021   \n",
       "2746511         2021  I152S10C341J4V1  26453499.0               2021   \n",
       "2746512         2021  I152S10C349J4V1  26453942.0               2020   \n",
       "2746513         2021   I367S1C127J1V1  26987947.0               2021   \n",
       "\n",
       "                          tipo_inst_1  desertor_1  \\\n",
       "0        Centros de Formación Técnica         0.0   \n",
       "1            Institutos Profesionales         0.0   \n",
       "2            Institutos Profesionales         1.0   \n",
       "3        Centros de Formación Técnica         1.0   \n",
       "4            Institutos Profesionales         0.0   \n",
       "...                               ...         ...   \n",
       "2746509      Institutos Profesionales         0.0   \n",
       "2746510  Centros de Formación Técnica         1.0   \n",
       "2746511      Institutos Profesionales         1.0   \n",
       "2746512      Institutos Profesionales         0.0   \n",
       "2746513  Centros de Formación Técnica         0.0   \n",
       "\n",
       "                    tipo_ensenanza_colegio          dependencia_colegio  \n",
       "0                                      NaN                           -1  \n",
       "1                      Educación Media H-C  Particular \\n Subvencionado  \n",
       "2                                      NaN                           -1  \n",
       "3                      Educación Media H-C  Particular \\n Subvencionado  \n",
       "4        Educación Media T-P \\n Industrial                    Municipal  \n",
       "...                                    ...                          ...  \n",
       "2746509                                NaN                           -1  \n",
       "2746510                                NaN                           -1  \n",
       "2746511                                NaN                           -1  \n",
       "2746512                                NaN                           -1  \n",
       "2746513                                NaN                           -1  \n",
       "\n",
       "[1156723 rows x 8 columns]"
      ]
     },
     "execution_count": 1722,
     "metadata": {},
     "output_type": "execute_result"
    }
   ],
   "source": [
    "df2 = df2.replace({'dependencia_colegio': dependencia_colegio_2})\n",
    "df2"
   ]
  },
  {
   "cell_type": "code",
   "execution_count": 1723,
   "metadata": {
    "colab": {
     "base_uri": "https://localhost:8080/"
    },
    "id": "esgsAnFKzNSt",
    "outputId": "ecf085b1-b206-434f-ef80-f5b1aad47a9a"
   },
   "outputs": [
    {
     "data": {
      "text/plain": [
       "Particular \\n Subvencionado    496418\n",
       "Municipal                      405029\n",
       "-1                             164229\n",
       "Otro                            58537\n",
       "Particular \\n Pagado            32510\n",
       "Name: dependencia_colegio, dtype: int64"
      ]
     },
     "execution_count": 1723,
     "metadata": {},
     "output_type": "execute_result"
    }
   ],
   "source": [
    "pd.value_counts(df2.drop_duplicates(subset='mrun')['dependencia_colegio'])"
   ]
  },
  {
   "cell_type": "code",
   "execution_count": 1724,
   "metadata": {
    "colab": {
     "base_uri": "https://localhost:8080/"
    },
    "id": "JUsY-4CCzNSt",
    "outputId": "ecbab508-6412-4e6a-9cb0-bbdb71e18549"
   },
   "outputs": [
    {
     "data": {
      "text/plain": [
       "Particular \\n Subvencionado    42.915893\n",
       "Municipal                      35.015211\n",
       "-1                             14.197781\n",
       "Otro                            5.060589\n",
       "Particular \\n Pagado            2.810526\n",
       "Name: dependencia_colegio, dtype: float64"
      ]
     },
     "execution_count": 1724,
     "metadata": {},
     "output_type": "execute_result"
    }
   ],
   "source": [
    "100 * df2.drop_duplicates(subset='mrun')['dependencia_colegio'].value_counts() / len(df2.drop_duplicates(subset='mrun')['dependencia_colegio'])"
   ]
  },
  {
   "cell_type": "code",
   "execution_count": 1725,
   "metadata": {
    "colab": {
     "base_uri": "https://localhost:8080/"
    },
    "id": "NLvgNUznzNSt",
    "outputId": "f9d55899-b7a5-42cf-bce5-09c9a717cd55"
   },
   "outputs": [
    {
     "data": {
      "text/plain": [
       "Educación Media H-C                  568649\n",
       "Educación Media T-P \\n Industrial    156354\n",
       "Educación Media T-P \\n Comercial     153282\n",
       "Educación Media T-P \\n Técnica        96538\n",
       "Otro                                  21330\n",
       "Name: tipo_ensenanza_colegio, dtype: int64"
      ]
     },
     "execution_count": 1725,
     "metadata": {},
     "output_type": "execute_result"
    }
   ],
   "source": [
    "pd.value_counts(df2.drop_duplicates(subset='mrun')['tipo_ensenanza_colegio'])"
   ]
  },
  {
   "cell_type": "code",
   "execution_count": 1726,
   "metadata": {
    "colab": {
     "base_uri": "https://localhost:8080/"
    },
    "id": "zfEVpqq-zNSu",
    "outputId": "5b300df1-d75b-4a23-f516-62cccd602ac4"
   },
   "outputs": [
    {
     "data": {
      "text/plain": [
       "Educación Media H-C                  49.160343\n",
       "Educación Media T-P \\n Industrial    13.516979\n",
       "Educación Media T-P \\n Comercial     13.251401\n",
       "Educación Media T-P \\n Técnica        8.345818\n",
       "Otro                                  1.844002\n",
       "Name: tipo_ensenanza_colegio, dtype: float64"
      ]
     },
     "execution_count": 1726,
     "metadata": {},
     "output_type": "execute_result"
    }
   ],
   "source": [
    "100 * df2.drop_duplicates(subset='mrun')['tipo_ensenanza_colegio'].value_counts() / len(df2.drop_duplicates(subset='mrun')['tipo_ensenanza_colegio'])"
   ]
  },
  {
   "cell_type": "code",
   "execution_count": 1727,
   "metadata": {
    "colab": {
     "base_uri": "https://localhost:8080/",
     "height": 331
    },
    "id": "ka4sasPGzNSw",
    "outputId": "e28a5487-bac5-4747-e063-b5bbdbf03635"
   },
   "outputs": [
    {
     "data": {
      "text/html": [
       "<div>\n",
       "<style scoped>\n",
       "    .dataframe tbody tr th:only-of-type {\n",
       "        vertical-align: middle;\n",
       "    }\n",
       "\n",
       "    .dataframe tbody tr th {\n",
       "        vertical-align: top;\n",
       "    }\n",
       "\n",
       "    .dataframe thead th {\n",
       "        text-align: right;\n",
       "    }\n",
       "</style>\n",
       "<table border=\"1\" class=\"dataframe\">\n",
       "  <thead>\n",
       "    <tr style=\"text-align: right;\">\n",
       "      <th>desertor_1</th>\n",
       "      <th>0.0</th>\n",
       "      <th>1.0</th>\n",
       "      <th>All</th>\n",
       "    </tr>\n",
       "    <tr>\n",
       "      <th>tipo_ensenanza_colegio</th>\n",
       "      <th></th>\n",
       "      <th></th>\n",
       "      <th></th>\n",
       "    </tr>\n",
       "  </thead>\n",
       "  <tbody>\n",
       "    <tr>\n",
       "      <th>Educación Media H-C</th>\n",
       "      <td>466708</td>\n",
       "      <td>101941</td>\n",
       "      <td>568649</td>\n",
       "    </tr>\n",
       "    <tr>\n",
       "      <th>Educación Media T-P \\n Comercial</th>\n",
       "      <td>129801</td>\n",
       "      <td>23481</td>\n",
       "      <td>153282</td>\n",
       "    </tr>\n",
       "    <tr>\n",
       "      <th>Educación Media T-P \\n Industrial</th>\n",
       "      <td>127754</td>\n",
       "      <td>28600</td>\n",
       "      <td>156354</td>\n",
       "    </tr>\n",
       "    <tr>\n",
       "      <th>Educación Media T-P \\n Técnica</th>\n",
       "      <td>79275</td>\n",
       "      <td>17263</td>\n",
       "      <td>96538</td>\n",
       "    </tr>\n",
       "    <tr>\n",
       "      <th>Otro</th>\n",
       "      <td>16901</td>\n",
       "      <td>4429</td>\n",
       "      <td>21330</td>\n",
       "    </tr>\n",
       "    <tr>\n",
       "      <th>All</th>\n",
       "      <td>820439</td>\n",
       "      <td>175714</td>\n",
       "      <td>996153</td>\n",
       "    </tr>\n",
       "  </tbody>\n",
       "</table>\n",
       "</div>"
      ],
      "text/plain": [
       "desertor_1                            0.0     1.0     All\n",
       "tipo_ensenanza_colegio                                   \n",
       "Educación Media H-C                466708  101941  568649\n",
       "Educación Media T-P \\n Comercial   129801   23481  153282\n",
       "Educación Media T-P \\n Industrial  127754   28600  156354\n",
       "Educación Media T-P \\n Técnica      79275   17263   96538\n",
       "Otro                                16901    4429   21330\n",
       "All                                820439  175714  996153"
      ]
     },
     "execution_count": 1727,
     "metadata": {},
     "output_type": "execute_result"
    }
   ],
   "source": [
    "# CANTIDAD DE DESERTORES POR TIPO DE ENSEÑANZA\n",
    "pd.crosstab(index=df2.drop_duplicates(subset='mrun')['desertor_1'],\n",
    "            columns=df2.drop_duplicates(subset='mrun')['tipo_ensenanza_colegio'], margins=True).T"
   ]
  },
  {
   "cell_type": "code",
   "execution_count": 1728,
   "metadata": {
    "colab": {
     "base_uri": "https://localhost:8080/",
     "height": 300
    },
    "id": "uWuoa5VUzNSx",
    "outputId": "fa396956-82c0-4cab-ecfc-a21bb913be9f"
   },
   "outputs": [
    {
     "data": {
      "text/html": [
       "<div>\n",
       "<style scoped>\n",
       "    .dataframe tbody tr th:only-of-type {\n",
       "        vertical-align: middle;\n",
       "    }\n",
       "\n",
       "    .dataframe tbody tr th {\n",
       "        vertical-align: top;\n",
       "    }\n",
       "\n",
       "    .dataframe thead th {\n",
       "        text-align: right;\n",
       "    }\n",
       "</style>\n",
       "<table border=\"1\" class=\"dataframe\">\n",
       "  <thead>\n",
       "    <tr style=\"text-align: right;\">\n",
       "      <th>desertor_1</th>\n",
       "      <th>0.0</th>\n",
       "      <th>1.0</th>\n",
       "    </tr>\n",
       "    <tr>\n",
       "      <th>tipo_ensenanza_colegio</th>\n",
       "      <th></th>\n",
       "      <th></th>\n",
       "    </tr>\n",
       "  </thead>\n",
       "  <tbody>\n",
       "    <tr>\n",
       "      <th>Educación Media H-C</th>\n",
       "      <td>82.073124</td>\n",
       "      <td>17.926876</td>\n",
       "    </tr>\n",
       "    <tr>\n",
       "      <th>Educación Media T-P \\n Comercial</th>\n",
       "      <td>84.681176</td>\n",
       "      <td>15.318824</td>\n",
       "    </tr>\n",
       "    <tr>\n",
       "      <th>Educación Media T-P \\n Industrial</th>\n",
       "      <td>81.708175</td>\n",
       "      <td>18.291825</td>\n",
       "    </tr>\n",
       "    <tr>\n",
       "      <th>Educación Media T-P \\n Técnica</th>\n",
       "      <td>82.117922</td>\n",
       "      <td>17.882078</td>\n",
       "    </tr>\n",
       "    <tr>\n",
       "      <th>Otro</th>\n",
       "      <td>79.235818</td>\n",
       "      <td>20.764182</td>\n",
       "    </tr>\n",
       "  </tbody>\n",
       "</table>\n",
       "</div>"
      ],
      "text/plain": [
       "desertor_1                               0.0        1.0\n",
       "tipo_ensenanza_colegio                                 \n",
       "Educación Media H-C                82.073124  17.926876\n",
       "Educación Media T-P \\n Comercial   84.681176  15.318824\n",
       "Educación Media T-P \\n Industrial  81.708175  18.291825\n",
       "Educación Media T-P \\n Técnica     82.117922  17.882078\n",
       "Otro                               79.235818  20.764182"
      ]
     },
     "execution_count": 1728,
     "metadata": {},
     "output_type": "execute_result"
    }
   ],
   "source": [
    "# FRECUENCIA DE DESERTORES POR CATEGORÍA DE TIPO DE ENSEÑANZA\n",
    "pd.crosstab(index=df2.drop_duplicates(subset='mrun')['desertor_1'], \n",
    "            columns=df2.drop_duplicates(subset='mrun')['tipo_ensenanza_colegio']\n",
    "           ).apply(lambda r: r/r.sum() *100,\n",
    "                                axis=0).T"
   ]
  },
  {
   "cell_type": "code",
   "execution_count": 1729,
   "metadata": {
    "colab": {
     "base_uri": "https://localhost:8080/",
     "height": 300
    },
    "id": "66dQE1D1zNSw",
    "outputId": "48bf0c9e-01f2-4903-9737-70f850240c48"
   },
   "outputs": [
    {
     "data": {
      "text/html": [
       "<div>\n",
       "<style scoped>\n",
       "    .dataframe tbody tr th:only-of-type {\n",
       "        vertical-align: middle;\n",
       "    }\n",
       "\n",
       "    .dataframe tbody tr th {\n",
       "        vertical-align: top;\n",
       "    }\n",
       "\n",
       "    .dataframe thead th {\n",
       "        text-align: right;\n",
       "    }\n",
       "</style>\n",
       "<table border=\"1\" class=\"dataframe\">\n",
       "  <thead>\n",
       "    <tr style=\"text-align: right;\">\n",
       "      <th>desertor_1</th>\n",
       "      <th>0.0</th>\n",
       "      <th>1.0</th>\n",
       "      <th>All</th>\n",
       "    </tr>\n",
       "    <tr>\n",
       "      <th>dependencia_colegio</th>\n",
       "      <th></th>\n",
       "      <th></th>\n",
       "      <th></th>\n",
       "    </tr>\n",
       "  </thead>\n",
       "  <tbody>\n",
       "    <tr>\n",
       "      <th>-1</th>\n",
       "      <td>125452</td>\n",
       "      <td>38777</td>\n",
       "      <td>164229</td>\n",
       "    </tr>\n",
       "    <tr>\n",
       "      <th>Municipal</th>\n",
       "      <td>325885</td>\n",
       "      <td>79144</td>\n",
       "      <td>405029</td>\n",
       "    </tr>\n",
       "    <tr>\n",
       "      <th>Otro</th>\n",
       "      <td>49214</td>\n",
       "      <td>9323</td>\n",
       "      <td>58537</td>\n",
       "    </tr>\n",
       "    <tr>\n",
       "      <th>Particular \\n Pagado</th>\n",
       "      <td>28102</td>\n",
       "      <td>4408</td>\n",
       "      <td>32510</td>\n",
       "    </tr>\n",
       "    <tr>\n",
       "      <th>Particular \\n Subvencionado</th>\n",
       "      <td>414473</td>\n",
       "      <td>81945</td>\n",
       "      <td>496418</td>\n",
       "    </tr>\n",
       "    <tr>\n",
       "      <th>All</th>\n",
       "      <td>943126</td>\n",
       "      <td>213597</td>\n",
       "      <td>1156723</td>\n",
       "    </tr>\n",
       "  </tbody>\n",
       "</table>\n",
       "</div>"
      ],
      "text/plain": [
       "desertor_1                      0.0     1.0      All\n",
       "dependencia_colegio                                 \n",
       "-1                           125452   38777   164229\n",
       "Municipal                    325885   79144   405029\n",
       "Otro                          49214    9323    58537\n",
       "Particular \\n Pagado          28102    4408    32510\n",
       "Particular \\n Subvencionado  414473   81945   496418\n",
       "All                          943126  213597  1156723"
      ]
     },
     "execution_count": 1729,
     "metadata": {},
     "output_type": "execute_result"
    }
   ],
   "source": [
    "# CANTIDAD DE DESERTORES POR TIPO DE DEPENDENCIA\n",
    "pd.crosstab(index=df2.drop_duplicates(subset='mrun')['desertor_1'],\n",
    "            columns=df2.drop_duplicates(subset='mrun')['dependencia_colegio'], margins=True).T"
   ]
  },
  {
   "cell_type": "code",
   "execution_count": 1730,
   "metadata": {},
   "outputs": [],
   "source": [
    "mask = df2['dependencia_colegio'] != -1\n",
    "df2 = df2[mask]"
   ]
  },
  {
   "cell_type": "code",
   "execution_count": 1731,
   "metadata": {
    "colab": {
     "base_uri": "https://localhost:8080/",
     "height": 237
    },
    "id": "aR9C9FsYzNSx",
    "outputId": "bd99399a-b415-440c-da9e-f1ab826d883c"
   },
   "outputs": [
    {
     "data": {
      "text/html": [
       "<div>\n",
       "<style scoped>\n",
       "    .dataframe tbody tr th:only-of-type {\n",
       "        vertical-align: middle;\n",
       "    }\n",
       "\n",
       "    .dataframe tbody tr th {\n",
       "        vertical-align: top;\n",
       "    }\n",
       "\n",
       "    .dataframe thead th {\n",
       "        text-align: right;\n",
       "    }\n",
       "</style>\n",
       "<table border=\"1\" class=\"dataframe\">\n",
       "  <thead>\n",
       "    <tr style=\"text-align: right;\">\n",
       "      <th>desertor_1</th>\n",
       "      <th>0.0</th>\n",
       "      <th>1.0</th>\n",
       "    </tr>\n",
       "    <tr>\n",
       "      <th>dependencia_colegio</th>\n",
       "      <th></th>\n",
       "      <th></th>\n",
       "    </tr>\n",
       "  </thead>\n",
       "  <tbody>\n",
       "    <tr>\n",
       "      <th>Municipal</th>\n",
       "      <td>80.459671</td>\n",
       "      <td>19.540329</td>\n",
       "    </tr>\n",
       "    <tr>\n",
       "      <th>Otro</th>\n",
       "      <td>84.073321</td>\n",
       "      <td>15.926679</td>\n",
       "    </tr>\n",
       "    <tr>\n",
       "      <th>Particular \\n Pagado</th>\n",
       "      <td>86.441095</td>\n",
       "      <td>13.558905</td>\n",
       "    </tr>\n",
       "    <tr>\n",
       "      <th>Particular \\n Subvencionado</th>\n",
       "      <td>83.492742</td>\n",
       "      <td>16.507258</td>\n",
       "    </tr>\n",
       "  </tbody>\n",
       "</table>\n",
       "</div>"
      ],
      "text/plain": [
       "desertor_1                         0.0        1.0\n",
       "dependencia_colegio                              \n",
       "Municipal                    80.459671  19.540329\n",
       "Otro                         84.073321  15.926679\n",
       "Particular \\n Pagado         86.441095  13.558905\n",
       "Particular \\n Subvencionado  83.492742  16.507258"
      ]
     },
     "execution_count": 1731,
     "metadata": {},
     "output_type": "execute_result"
    }
   ],
   "source": [
    "# FRECUENCIA DE DESERTORES POR CATEGORÍA DE TIPO DE DEPENDENCIA\n",
    "mask = df2['dependencia_colegio'] != -1\n",
    "pd.crosstab(index=df2[mask].drop_duplicates(subset='mrun')['desertor_1'], \n",
    "            columns=df2.drop_duplicates(subset='mrun')['dependencia_colegio']\n",
    "           ).apply(lambda r: r/r.sum() *100,\n",
    "                                axis=0).T"
   ]
  },
  {
   "cell_type": "code",
   "execution_count": 1732,
   "metadata": {
    "colab": {
     "base_uri": "https://localhost:8080/",
     "height": 610
    },
    "id": "hyl1TYGjkZ8U",
    "outputId": "42447acc-0a85-45b3-e7d5-a0b2555443ec"
   },
   "outputs": [
    {
     "data": {
      "text/plain": [
       "<AxesSubplot:>"
      ]
     },
     "execution_count": 1732,
     "metadata": {},
     "output_type": "execute_result"
    },
    {
     "data": {
      "image/png": "[encoded data removed]",
      "text/plain": [
       "<Figure size 720x720 with 1 Axes>"
      ]
     },
     "metadata": {
      "needs_background": "light"
     },
     "output_type": "display_data"
    }
   ],
   "source": [
    "fig, ax = plt.subplots(figsize=(10, 10))\n",
    "mask = df2['dependencia_colegio'] != -1\n",
    "pd.value_counts(\n",
    "    df2[mask].drop_duplicates(subset='mrun')['dependencia_colegio']\n",
    "                ).T.plot(kind='barh',stacked=True,width=0.95,ax=ax)"
   ]
  },
  {
   "cell_type": "code",
   "execution_count": 1733,
   "metadata": {
    "colab": {
     "base_uri": "https://localhost:8080/",
     "height": 610
    },
    "id": "L-0miO6dkZ8V",
    "outputId": "e3e7aeca-1ecd-4320-f698-d98bba563a74"
   },
   "outputs": [
    {
     "data": {
      "text/plain": [
       "<AxesSubplot:>"
      ]
     },
     "execution_count": 1733,
     "metadata": {},
     "output_type": "execute_result"
    },
    {
     "data": {
      "image/png": "[encoded data removed]",
      "text/plain": [
       "<Figure size 720x720 with 1 Axes>"
      ]
     },
     "metadata": {
      "needs_background": "light"
     },
     "output_type": "display_data"
    }
   ],
   "source": [
    "fig, ax = plt.subplots(figsize=(10, 10))\n",
    "mask = df2['dependencia_colegio'] != -1\n",
    "pd.value_counts(\n",
    "    df2[mask].drop_duplicates(subset='mrun')['tipo_ensenanza_colegio']\n",
    "                ).T.plot(kind='barh',stacked=True,width=0.95,ax=ax)"
   ]
  },
  {
   "cell_type": "code",
   "execution_count": 1734,
   "metadata": {
    "colab": {
     "base_uri": "https://localhost:8080/",
     "height": 610
    },
    "id": "C5BCUg12zNSy",
    "outputId": "3d6cade4-7849-4eb7-8a73-acf0b633e753"
   },
   "outputs": [
    {
     "data": {
      "image/png": "[encoded data removed]",
      "text/plain": [
       "<Figure size 720x720 with 1 Axes>"
      ]
     },
     "metadata": {
      "needs_background": "light"
     },
     "output_type": "display_data"
    }
   ],
   "source": [
    "cross_tab_prop = pd.crosstab(index=df2['tipo_ensenanza_colegio'],\n",
    "                             columns=df2['desertor_1'],\n",
    "                             normalize=\"index\")\n",
    "\n",
    "cross_tab = pd.crosstab(index=df2['tipo_ensenanza_colegio'],\n",
    "                        columns=df2['desertor_1'])\n",
    "\n",
    "\n",
    "cross_tab_prop.plot(kind='barh', \n",
    "                        stacked=True,\n",
    "                        width=0.95, \n",
    "                        figsize=(10, 10))\n",
    "\n",
    "plt.legend(loc=\"best\", ncol=2)\n",
    "plt.title(\"Desertores por Tipo de Enseñanza en el Colegio\")\n",
    "\n",
    "for n, x in enumerate([*cross_tab.index.values]):\n",
    "    for (proportion, count, y_loc) in zip(cross_tab_prop.loc[x],\n",
    "                                          cross_tab.loc[x],\n",
    "                                          cross_tab_prop.loc[x].cumsum()):\n",
    "                \n",
    "        plt.text(x=(y_loc - proportion) + (proportion / 2),\n",
    "                 y=n - 0.11,\n",
    "                 s=f'{count}\\n({np.round(proportion * 100, 1)}%)', \n",
    "                 color=\"black\",\n",
    "                 fontsize=12)\n",
    "\n",
    "plt.show()"
   ]
  },
  {
   "cell_type": "code",
   "execution_count": 1735,
   "metadata": {},
   "outputs": [],
   "source": [
    "mask = df2['cat_periodo']<2020\n",
    "df2=df2[mask]"
   ]
  },
  {
   "cell_type": "code",
   "execution_count": 1736,
   "metadata": {},
   "outputs": [
    {
     "data": {
      "text/plain": [
       "<matplotlib.legend.Legend at 0x541707160>"
      ]
     },
     "execution_count": 1736,
     "metadata": {},
     "output_type": "execute_result"
    },
    {
     "data": {
      "image/png": "[encoded data removed]",
      "text/plain": [
       "<Figure size 720x504 with 1 Axes>"
      ]
     },
     "metadata": {
      "needs_background": "light"
     },
     "output_type": "display_data"
    }
   ],
   "source": [
    "cross_tab_prop = pd.crosstab(index=df2['tipo_ensenanza_colegio'],\n",
    "                             columns=df2['desertor_1'],\n",
    "                             normalize=\"index\")\n",
    "\n",
    "cross_tab = pd.crosstab(index=df2['tipo_ensenanza_colegio'],\n",
    "                        columns=df2['desertor_1'])\n",
    "\n",
    "\n",
    "w = list(cross_tab.T.sum()/cross_tab.T.sum().sum())\n",
    "\n",
    "f, ax = plt.subplots(figsize=(10,7))\n",
    "plt.rcParams.update({'font.size': 15})\n",
    "\n",
    "plt.title(\"Desertores por Tipo de Enseñanza en el Colegio\")\n",
    "\n",
    "b1 = plt.barh(cross_tab_prop.reset_index()['tipo_ensenanza_colegio'],\n",
    "                cross_tab_prop.reset_index()[0], \n",
    "                color=\"dodgerblue\",\n",
    "                height=w)\n",
    "\n",
    "b2 = plt.barh(cross_tab_prop.reset_index()['tipo_ensenanza_colegio'],\n",
    "                cross_tab_prop.reset_index()[1], \n",
    "                left=cross_tab_prop.reset_index()[0], \n",
    "                color=\"coral\",\n",
    "                height=w)\n",
    "                \n",
    "for n, x in enumerate([*cross_tab.index.values]):\n",
    "    for (proportion, y_loc) in zip(cross_tab_prop.loc[x],\n",
    "                                          cross_tab_prop.loc[x].cumsum()):\n",
    "                \n",
    "        plt.text(x=(y_loc - proportion) + (proportion / 2),\n",
    "                 y=n - 0.11,\n",
    "                 s=f'{np.round(proportion * 100, 1)}%', \n",
    "                 color=\"black\",\n",
    "                 fontsize=14)\n",
    "\n",
    "ax.legend(['No desertor', 'Desertor'], loc ='upper left')"
   ]
  },
  {
   "cell_type": "code",
   "execution_count": 1737,
   "metadata": {},
   "outputs": [
    {
     "data": {
      "text/plain": [
       "<matplotlib.legend.Legend at 0x5a094de40>"
      ]
     },
     "execution_count": 1737,
     "metadata": {},
     "output_type": "execute_result"
    },
    {
     "data": {
      "image/png": "[encoded data removed]",
      "text/plain": [
       "<Figure size 720x504 with 1 Axes>"
      ]
     },
     "metadata": {
      "needs_background": "light"
     },
     "output_type": "display_data"
    }
   ],
   "source": [
    "cross_tab_prop = pd.crosstab(index=df2['dependencia_colegio'],\n",
    "                             columns=df2['desertor_1'],\n",
    "                             normalize=\"index\")\n",
    "\n",
    "cross_tab = pd.crosstab(index=df2['dependencia_colegio'],\n",
    "                        columns=df2['desertor_1'])\n",
    "\n",
    "\n",
    "w = list(cross_tab.T.sum()/cross_tab.T.sum().sum())\n",
    "\n",
    "f, ax = plt.subplots(figsize=(10,7))\n",
    "\n",
    "plt.rcParams.update({'font.size': 15})\n",
    "\n",
    "plt.title(\"Desertores por Tipo de Dependencia del Colegio\")\n",
    "\n",
    "b1 = plt.barh(cross_tab_prop.reset_index()['dependencia_colegio'],\n",
    "                cross_tab_prop.reset_index()[0], \n",
    "                color=\"dodgerblue\",\n",
    "                height=w)\n",
    "\n",
    "b2 = plt.barh(cross_tab_prop.reset_index()['dependencia_colegio'],\n",
    "                cross_tab_prop.reset_index()[1], \n",
    "                left=cross_tab_prop.reset_index()[0], \n",
    "                color=\"coral\",\n",
    "                height=w)\n",
    "\n",
    "for n, x in enumerate([*cross_tab.index.values]):\n",
    "    for (proportion, y_loc) in zip(cross_tab_prop.loc[x],\n",
    "                                          cross_tab_prop.loc[x].cumsum()):\n",
    "                \n",
    "        plt.text(x=(y_loc - proportion) + (proportion / 2),\n",
    "                 y=n - 0.11,\n",
    "                 s=f'{np.round(proportion * 100, 1)}%', \n",
    "                 color=\"black\",\n",
    "                 fontsize=14)\n",
    "\n",
    "ax.legend(['No desertor', 'Desertor'], loc ='upper left')\n"
   ]
  },
  {
   "cell_type": "code",
   "execution_count": 1738,
   "metadata": {
    "colab": {
     "base_uri": "https://localhost:8080/",
     "height": 610
    },
    "id": "2m87If8fzNSy",
    "outputId": "88b21e25-b20f-4d68-82ca-4f8176668cab"
   },
   "outputs": [
    {
     "data": {
      "image/png": "[encoded data removed]",
      "text/plain": [
       "<Figure size 720x720 with 1 Axes>"
      ]
     },
     "metadata": {
      "needs_background": "light"
     },
     "output_type": "display_data"
    }
   ],
   "source": [
    "from turtle import width\n",
    "\n",
    "\n",
    "cross_tab_prop = pd.crosstab(index=df2['dependencia_colegio'],\n",
    "                             columns=df2['desertor_1'],\n",
    "                             normalize=\"index\")\n",
    "\n",
    "cross_tab = pd.crosstab(index=df2['dependencia_colegio'],\n",
    "                        columns=df2['desertor_1'])\n",
    "\n",
    "cross_tab_prop.plot(kind='barh', \n",
    "                        stacked=True,\n",
    "                        figsize=(10, 10))\n",
    "\n",
    "plt.legend(loc=\"best\", ncol=2)\n",
    "plt.title(\"Deserción por Tipo de Dependencia del Colegio\")\n",
    "\n",
    "for n, x in enumerate([*cross_tab.index.values]):\n",
    "    for (proportion, count, y_loc) in zip(cross_tab_prop.loc[x],\n",
    "                                          cross_tab.loc[x],\n",
    "                                          cross_tab_prop.loc[x].cumsum()):\n",
    "                \n",
    "        plt.text(x=(y_loc - proportion) + (proportion / 2),\n",
    "                 y=n - 0.11,\n",
    "                 s=f'{count}\\n({np.round(proportion * 100, 1)}%)', \n",
    "                 color=\"black\",\n",
    "                 fontsize=15)\n",
    "\n",
    "plt.show()"
   ]
  },
  {
   "cell_type": "markdown",
   "metadata": {
    "id": "WDmk3mfg8tr4"
   },
   "source": [
    "## VISUALIZACIONES 3\n",
    "Visualizando la Deserción de los Estudiantes según Dependencia y Tipo de Enseñanza a lo largo del tiempo."
   ]
  },
  {
   "cell_type": "code",
   "execution_count": 1739,
   "metadata": {
    "colab": {
     "base_uri": "https://localhost:8080/",
     "height": 621
    },
    "id": "P1rVUGk33cz2",
    "outputId": "e636c62f-1563-49ac-dc00-6eaa53ce9442"
   },
   "outputs": [
    {
     "data": {
      "image/png": "[encoded data removed]",
      "text/plain": [
       "<Figure size 1080x720 with 1 Axes>"
      ]
     },
     "metadata": {
      "needs_background": "light"
     },
     "output_type": "display_data"
    }
   ],
   "source": [
    "mask = df2['dependencia_colegio'] != -1\n",
    "aux = df2[mask].groupby([\n",
    "    \"cat_periodo\", \"dependencia_colegio\"\n",
    "])[\"desertor_1\"].value_counts(\"%\").mul(100).rename('%').reset_index()\n",
    "\n",
    "aux2 = aux[\n",
    "    (aux[\"desertor_1\"]==1) & (aux['cat_periodo']<2020)\n",
    "].copy()\n",
    "aux2[\"cat_periodo\"] = aux2[\"cat_periodo\"] + 1\n",
    "\n",
    "\n",
    "plt.figure(figsize=(15, 10))\n",
    "sns.barplot(\n",
    "    data=aux2,\n",
    "    y=\"dependencia_colegio\",\n",
    "    x=\"%\",\n",
    "    color=\"darkcyan\",\n",
    "    hue=\"cat_periodo\"\n",
    ")\n",
    "plt.xlabel(\"%\")\n",
    "plt.xlim([0, 30])\n",
    "plt.title(\"% Desertores\");"
   ]
  },
  {
   "cell_type": "code",
   "execution_count": 1740,
   "metadata": {
    "colab": {
     "base_uri": "https://localhost:8080/",
     "height": 621
    },
    "id": "Sr9cHlHc6k8s",
    "outputId": "50f44c04-2839-4283-fb9d-2e8b9f302207"
   },
   "outputs": [
    {
     "data": {
      "image/png": "[encoded data removed]",
      "text/plain": [
       "<Figure size 1080x720 with 1 Axes>"
      ]
     },
     "metadata": {
      "needs_background": "light"
     },
     "output_type": "display_data"
    }
   ],
   "source": [
    "mask = df2['dependencia_colegio'] != -1\n",
    "aux = df2[mask].groupby([\n",
    "    \"cat_periodo\", \"tipo_ensenanza_colegio\"\n",
    "])[\"desertor_1\"].value_counts(\"%\").mul(100).rename('%').reset_index()\n",
    "\n",
    "\n",
    "\n",
    "aux2 = aux[\n",
    "    (aux[\"desertor_1\"]==1) & (aux['cat_periodo']<2020)\n",
    "].copy()\n",
    "aux2[\"cat_periodo\"] = aux2[\"cat_periodo\"] + 1\n",
    "\n",
    "plt.figure(figsize=(15, 10))\n",
    "sns.barplot(\n",
    "    data=aux2,\n",
    "    y=\"tipo_ensenanza_colegio\",\n",
    "    x=\"%\",\n",
    "    color=\"darkcyan\",\n",
    "    hue=\"cat_periodo\"\n",
    ")\n",
    "plt.xlabel(\"%\")\n",
    "plt.xlim([0, 30])\n",
    "plt.title(\"% Desertores\");"
   ]
  },
  {
   "cell_type": "markdown",
   "metadata": {
    "id": "t__a0Iqy9Ebn"
   },
   "source": [
    "## MODELOS"
   ]
  },
  {
   "cell_type": "markdown",
   "metadata": {
    "id": "Gzii2K_egnwo"
   },
   "source": [
    "### Dependencia Colegio"
   ]
  },
  {
   "cell_type": "markdown",
   "metadata": {
    "id": "UbrJJZHyIUYd"
   },
   "source": [
    "#### Formateo de Base de Datos"
   ]
  },
  {
   "cell_type": "code",
   "execution_count": 1741,
   "metadata": {
    "id": "AHgs0WYXCTzZ"
   },
   "outputs": [],
   "source": [
    "df_logit = df2.copy()\n",
    "df_logit = df_logit.drop_duplicates(subset='mrun')"
   ]
  },
  {
   "cell_type": "code",
   "execution_count": 1742,
   "metadata": {
    "colab": {
     "base_uri": "https://localhost:8080/",
     "height": 0
    },
    "id": "N2XdZ3OECmQt",
    "outputId": "504ef97b-5fda-45b2-f033-3ca914d9413d"
   },
   "outputs": [
    {
     "data": {
      "text/html": [
       "<div>\n",
       "<style scoped>\n",
       "    .dataframe tbody tr th:only-of-type {\n",
       "        vertical-align: middle;\n",
       "    }\n",
       "\n",
       "    .dataframe tbody tr th {\n",
       "        vertical-align: top;\n",
       "    }\n",
       "\n",
       "    .dataframe thead th {\n",
       "        text-align: right;\n",
       "    }\n",
       "</style>\n",
       "<table border=\"1\" class=\"dataframe\">\n",
       "  <thead>\n",
       "    <tr style=\"text-align: right;\">\n",
       "      <th></th>\n",
       "      <th>cat_periodo</th>\n",
       "      <th>codigo_unico</th>\n",
       "      <th>mrun</th>\n",
       "      <th>anio_ing_carr_ori</th>\n",
       "      <th>tipo_inst_1</th>\n",
       "      <th>desertor_1</th>\n",
       "      <th>tipo_ensenanza_colegio</th>\n",
       "      <th>dependencia_colegio</th>\n",
       "    </tr>\n",
       "  </thead>\n",
       "  <tbody>\n",
       "    <tr>\n",
       "      <th>1</th>\n",
       "      <td>2015</td>\n",
       "      <td>I111S14C309J2V1</td>\n",
       "      <td>118.0</td>\n",
       "      <td>2015</td>\n",
       "      <td>Institutos Profesionales</td>\n",
       "      <td>0.0</td>\n",
       "      <td>Educación Media H-C</td>\n",
       "      <td>Particular \\n Subvencionado</td>\n",
       "    </tr>\n",
       "    <tr>\n",
       "      <th>3</th>\n",
       "      <td>2015</td>\n",
       "      <td>I221S1C57J1V1</td>\n",
       "      <td>370.0</td>\n",
       "      <td>2015</td>\n",
       "      <td>Centros de Formación Técnica</td>\n",
       "      <td>1.0</td>\n",
       "      <td>Educación Media H-C</td>\n",
       "      <td>Particular \\n Subvencionado</td>\n",
       "    </tr>\n",
       "    <tr>\n",
       "      <th>4</th>\n",
       "      <td>2015</td>\n",
       "      <td>I176S8C59J2V1</td>\n",
       "      <td>533.0</td>\n",
       "      <td>2015</td>\n",
       "      <td>Institutos Profesionales</td>\n",
       "      <td>0.0</td>\n",
       "      <td>Educación Media T-P \\n Industrial</td>\n",
       "      <td>Municipal</td>\n",
       "    </tr>\n",
       "    <tr>\n",
       "      <th>5</th>\n",
       "      <td>2015</td>\n",
       "      <td>I111S9C89J1V1</td>\n",
       "      <td>598.0</td>\n",
       "      <td>2015</td>\n",
       "      <td>Institutos Profesionales</td>\n",
       "      <td>0.0</td>\n",
       "      <td>Educación Media T-P \\n Comercial</td>\n",
       "      <td>Particular \\n Subvencionado</td>\n",
       "    </tr>\n",
       "    <tr>\n",
       "      <th>6</th>\n",
       "      <td>2015</td>\n",
       "      <td>I498S5C155J1V2</td>\n",
       "      <td>630.0</td>\n",
       "      <td>2015</td>\n",
       "      <td>Centros de Formación Técnica</td>\n",
       "      <td>1.0</td>\n",
       "      <td>Educación Media T-P \\n Industrial</td>\n",
       "      <td>Particular \\n Subvencionado</td>\n",
       "    </tr>\n",
       "    <tr>\n",
       "      <th>...</th>\n",
       "      <td>...</td>\n",
       "      <td>...</td>\n",
       "      <td>...</td>\n",
       "      <td>...</td>\n",
       "      <td>...</td>\n",
       "      <td>...</td>\n",
       "      <td>...</td>\n",
       "      <td>...</td>\n",
       "    </tr>\n",
       "    <tr>\n",
       "      <th>1800721</th>\n",
       "      <td>2019</td>\n",
       "      <td>I143S15C30J1V1</td>\n",
       "      <td>25768671.0</td>\n",
       "      <td>2019</td>\n",
       "      <td>Institutos Profesionales</td>\n",
       "      <td>0.0</td>\n",
       "      <td>Educación Media H-C</td>\n",
       "      <td>Particular \\n Subvencionado</td>\n",
       "    </tr>\n",
       "    <tr>\n",
       "      <th>1800722</th>\n",
       "      <td>2019</td>\n",
       "      <td>I143S29C26J2V1</td>\n",
       "      <td>25768749.0</td>\n",
       "      <td>2019</td>\n",
       "      <td>Institutos Profesionales</td>\n",
       "      <td>0.0</td>\n",
       "      <td>Educación Media H-C</td>\n",
       "      <td>Municipal</td>\n",
       "    </tr>\n",
       "    <tr>\n",
       "      <th>1800723</th>\n",
       "      <td>2019</td>\n",
       "      <td>I273S1C5J2V1</td>\n",
       "      <td>25768815.0</td>\n",
       "      <td>2019</td>\n",
       "      <td>Centros de Formación Técnica</td>\n",
       "      <td>0.0</td>\n",
       "      <td>Educación Media H-C</td>\n",
       "      <td>Particular \\n Subvencionado</td>\n",
       "    </tr>\n",
       "    <tr>\n",
       "      <th>1800724</th>\n",
       "      <td>2019</td>\n",
       "      <td>I143S26C376J2V1</td>\n",
       "      <td>25768831.0</td>\n",
       "      <td>2019</td>\n",
       "      <td>Institutos Profesionales</td>\n",
       "      <td>1.0</td>\n",
       "      <td>Educación Media H-C</td>\n",
       "      <td>Particular \\n Subvencionado</td>\n",
       "    </tr>\n",
       "    <tr>\n",
       "      <th>1801481</th>\n",
       "      <td>2019</td>\n",
       "      <td>I426S1C7J2V2</td>\n",
       "      <td>25866904.0</td>\n",
       "      <td>2019</td>\n",
       "      <td>Centros de Formación Técnica</td>\n",
       "      <td>1.0</td>\n",
       "      <td>Educación Media H-C</td>\n",
       "      <td>Particular \\n Subvencionado</td>\n",
       "    </tr>\n",
       "  </tbody>\n",
       "</table>\n",
       "<p>734030 rows × 8 columns</p>\n",
       "</div>"
      ],
      "text/plain": [
       "         cat_periodo     codigo_unico        mrun  anio_ing_carr_ori  \\\n",
       "1               2015  I111S14C309J2V1       118.0               2015   \n",
       "3               2015    I221S1C57J1V1       370.0               2015   \n",
       "4               2015    I176S8C59J2V1       533.0               2015   \n",
       "5               2015    I111S9C89J1V1       598.0               2015   \n",
       "6               2015   I498S5C155J1V2       630.0               2015   \n",
       "...              ...              ...         ...                ...   \n",
       "1800721         2019   I143S15C30J1V1  25768671.0               2019   \n",
       "1800722         2019   I143S29C26J2V1  25768749.0               2019   \n",
       "1800723         2019     I273S1C5J2V1  25768815.0               2019   \n",
       "1800724         2019  I143S26C376J2V1  25768831.0               2019   \n",
       "1801481         2019     I426S1C7J2V2  25866904.0               2019   \n",
       "\n",
       "                          tipo_inst_1  desertor_1  \\\n",
       "1            Institutos Profesionales         0.0   \n",
       "3        Centros de Formación Técnica         1.0   \n",
       "4            Institutos Profesionales         0.0   \n",
       "5            Institutos Profesionales         0.0   \n",
       "6        Centros de Formación Técnica         1.0   \n",
       "...                               ...         ...   \n",
       "1800721      Institutos Profesionales         0.0   \n",
       "1800722      Institutos Profesionales         0.0   \n",
       "1800723  Centros de Formación Técnica         0.0   \n",
       "1800724      Institutos Profesionales         1.0   \n",
       "1801481  Centros de Formación Técnica         1.0   \n",
       "\n",
       "                    tipo_ensenanza_colegio          dependencia_colegio  \n",
       "1                      Educación Media H-C  Particular \\n Subvencionado  \n",
       "3                      Educación Media H-C  Particular \\n Subvencionado  \n",
       "4        Educación Media T-P \\n Industrial                    Municipal  \n",
       "5         Educación Media T-P \\n Comercial  Particular \\n Subvencionado  \n",
       "6        Educación Media T-P \\n Industrial  Particular \\n Subvencionado  \n",
       "...                                    ...                          ...  \n",
       "1800721                Educación Media H-C  Particular \\n Subvencionado  \n",
       "1800722                Educación Media H-C                    Municipal  \n",
       "1800723                Educación Media H-C  Particular \\n Subvencionado  \n",
       "1800724                Educación Media H-C  Particular \\n Subvencionado  \n",
       "1801481                Educación Media H-C  Particular \\n Subvencionado  \n",
       "\n",
       "[734030 rows x 8 columns]"
      ]
     },
     "execution_count": 1742,
     "metadata": {},
     "output_type": "execute_result"
    }
   ],
   "source": [
    "df_logit"
   ]
  },
  {
   "cell_type": "code",
   "execution_count": 1743,
   "metadata": {
    "colab": {
     "base_uri": "https://localhost:8080/"
    },
    "id": "YmE3oCJSCpxk",
    "outputId": "e135817c-9446-4421-edf3-a0996eb11cfe"
   },
   "outputs": [
    {
     "data": {
      "text/plain": [
       "cat_periodo               0.0\n",
       "codigo_unico              0.0\n",
       "mrun                      0.0\n",
       "anio_ing_carr_ori         0.0\n",
       "tipo_inst_1               0.0\n",
       "desertor_1                0.0\n",
       "tipo_ensenanza_colegio    0.0\n",
       "dependencia_colegio       0.0\n",
       "dtype: float64"
      ]
     },
     "execution_count": 1743,
     "metadata": {},
     "output_type": "execute_result"
    }
   ],
   "source": [
    "df_logit.isna().sum()/df_logit.shape[0]"
   ]
  },
  {
   "cell_type": "code",
   "execution_count": 1744,
   "metadata": {
    "id": "P7vwp1esJfKP"
   },
   "outputs": [],
   "source": [
    "df_logit=df_logit.dropna(subset=['desertor_1'])"
   ]
  },
  {
   "cell_type": "code",
   "execution_count": 1745,
   "metadata": {
    "id": "ityxgkwNDMaD"
   },
   "outputs": [],
   "source": [
    "mask = df_logit['dependencia_colegio'] != -1\n",
    "df_logit=df_logit[mask]"
   ]
  },
  {
   "cell_type": "code",
   "execution_count": 1746,
   "metadata": {
    "id": "YnnHtFVjDuY7"
   },
   "outputs": [],
   "source": [
    "df_logit = pd.get_dummies(df_logit,columns=['dependencia_colegio','desertor_1'],drop_first=True)"
   ]
  },
  {
   "cell_type": "code",
   "execution_count": 1747,
   "metadata": {},
   "outputs": [
    {
     "data": {
      "text/html": [
       "<div>\n",
       "<style scoped>\n",
       "    .dataframe tbody tr th:only-of-type {\n",
       "        vertical-align: middle;\n",
       "    }\n",
       "\n",
       "    .dataframe tbody tr th {\n",
       "        vertical-align: top;\n",
       "    }\n",
       "\n",
       "    .dataframe thead th {\n",
       "        text-align: right;\n",
       "    }\n",
       "</style>\n",
       "<table border=\"1\" class=\"dataframe\">\n",
       "  <thead>\n",
       "    <tr style=\"text-align: right;\">\n",
       "      <th></th>\n",
       "      <th>cat_periodo</th>\n",
       "      <th>codigo_unico</th>\n",
       "      <th>mrun</th>\n",
       "      <th>anio_ing_carr_ori</th>\n",
       "      <th>tipo_inst_1</th>\n",
       "      <th>tipo_ensenanza_colegio</th>\n",
       "      <th>dependencia_colegio_Otro</th>\n",
       "      <th>dependencia_colegio_Particular \\n Pagado</th>\n",
       "      <th>dependencia_colegio_Particular \\n Subvencionado</th>\n",
       "      <th>desertor_1_1.0</th>\n",
       "    </tr>\n",
       "  </thead>\n",
       "  <tbody>\n",
       "    <tr>\n",
       "      <th>1</th>\n",
       "      <td>2015</td>\n",
       "      <td>I111S14C309J2V1</td>\n",
       "      <td>118.0</td>\n",
       "      <td>2015</td>\n",
       "      <td>Institutos Profesionales</td>\n",
       "      <td>Educación Media H-C</td>\n",
       "      <td>0</td>\n",
       "      <td>0</td>\n",
       "      <td>1</td>\n",
       "      <td>0</td>\n",
       "    </tr>\n",
       "    <tr>\n",
       "      <th>3</th>\n",
       "      <td>2015</td>\n",
       "      <td>I221S1C57J1V1</td>\n",
       "      <td>370.0</td>\n",
       "      <td>2015</td>\n",
       "      <td>Centros de Formación Técnica</td>\n",
       "      <td>Educación Media H-C</td>\n",
       "      <td>0</td>\n",
       "      <td>0</td>\n",
       "      <td>1</td>\n",
       "      <td>1</td>\n",
       "    </tr>\n",
       "    <tr>\n",
       "      <th>4</th>\n",
       "      <td>2015</td>\n",
       "      <td>I176S8C59J2V1</td>\n",
       "      <td>533.0</td>\n",
       "      <td>2015</td>\n",
       "      <td>Institutos Profesionales</td>\n",
       "      <td>Educación Media T-P \\n Industrial</td>\n",
       "      <td>0</td>\n",
       "      <td>0</td>\n",
       "      <td>0</td>\n",
       "      <td>0</td>\n",
       "    </tr>\n",
       "    <tr>\n",
       "      <th>5</th>\n",
       "      <td>2015</td>\n",
       "      <td>I111S9C89J1V1</td>\n",
       "      <td>598.0</td>\n",
       "      <td>2015</td>\n",
       "      <td>Institutos Profesionales</td>\n",
       "      <td>Educación Media T-P \\n Comercial</td>\n",
       "      <td>0</td>\n",
       "      <td>0</td>\n",
       "      <td>1</td>\n",
       "      <td>0</td>\n",
       "    </tr>\n",
       "    <tr>\n",
       "      <th>6</th>\n",
       "      <td>2015</td>\n",
       "      <td>I498S5C155J1V2</td>\n",
       "      <td>630.0</td>\n",
       "      <td>2015</td>\n",
       "      <td>Centros de Formación Técnica</td>\n",
       "      <td>Educación Media T-P \\n Industrial</td>\n",
       "      <td>0</td>\n",
       "      <td>0</td>\n",
       "      <td>1</td>\n",
       "      <td>1</td>\n",
       "    </tr>\n",
       "    <tr>\n",
       "      <th>...</th>\n",
       "      <td>...</td>\n",
       "      <td>...</td>\n",
       "      <td>...</td>\n",
       "      <td>...</td>\n",
       "      <td>...</td>\n",
       "      <td>...</td>\n",
       "      <td>...</td>\n",
       "      <td>...</td>\n",
       "      <td>...</td>\n",
       "      <td>...</td>\n",
       "    </tr>\n",
       "    <tr>\n",
       "      <th>1800721</th>\n",
       "      <td>2019</td>\n",
       "      <td>I143S15C30J1V1</td>\n",
       "      <td>25768671.0</td>\n",
       "      <td>2019</td>\n",
       "      <td>Institutos Profesionales</td>\n",
       "      <td>Educación Media H-C</td>\n",
       "      <td>0</td>\n",
       "      <td>0</td>\n",
       "      <td>1</td>\n",
       "      <td>0</td>\n",
       "    </tr>\n",
       "    <tr>\n",
       "      <th>1800722</th>\n",
       "      <td>2019</td>\n",
       "      <td>I143S29C26J2V1</td>\n",
       "      <td>25768749.0</td>\n",
       "      <td>2019</td>\n",
       "      <td>Institutos Profesionales</td>\n",
       "      <td>Educación Media H-C</td>\n",
       "      <td>0</td>\n",
       "      <td>0</td>\n",
       "      <td>0</td>\n",
       "      <td>0</td>\n",
       "    </tr>\n",
       "    <tr>\n",
       "      <th>1800723</th>\n",
       "      <td>2019</td>\n",
       "      <td>I273S1C5J2V1</td>\n",
       "      <td>25768815.0</td>\n",
       "      <td>2019</td>\n",
       "      <td>Centros de Formación Técnica</td>\n",
       "      <td>Educación Media H-C</td>\n",
       "      <td>0</td>\n",
       "      <td>0</td>\n",
       "      <td>1</td>\n",
       "      <td>0</td>\n",
       "    </tr>\n",
       "    <tr>\n",
       "      <th>1800724</th>\n",
       "      <td>2019</td>\n",
       "      <td>I143S26C376J2V1</td>\n",
       "      <td>25768831.0</td>\n",
       "      <td>2019</td>\n",
       "      <td>Institutos Profesionales</td>\n",
       "      <td>Educación Media H-C</td>\n",
       "      <td>0</td>\n",
       "      <td>0</td>\n",
       "      <td>1</td>\n",
       "      <td>1</td>\n",
       "    </tr>\n",
       "    <tr>\n",
       "      <th>1801481</th>\n",
       "      <td>2019</td>\n",
       "      <td>I426S1C7J2V2</td>\n",
       "      <td>25866904.0</td>\n",
       "      <td>2019</td>\n",
       "      <td>Centros de Formación Técnica</td>\n",
       "      <td>Educación Media H-C</td>\n",
       "      <td>0</td>\n",
       "      <td>0</td>\n",
       "      <td>1</td>\n",
       "      <td>1</td>\n",
       "    </tr>\n",
       "  </tbody>\n",
       "</table>\n",
       "<p>734030 rows × 10 columns</p>\n",
       "</div>"
      ],
      "text/plain": [
       "         cat_periodo     codigo_unico        mrun  anio_ing_carr_ori  \\\n",
       "1               2015  I111S14C309J2V1       118.0               2015   \n",
       "3               2015    I221S1C57J1V1       370.0               2015   \n",
       "4               2015    I176S8C59J2V1       533.0               2015   \n",
       "5               2015    I111S9C89J1V1       598.0               2015   \n",
       "6               2015   I498S5C155J1V2       630.0               2015   \n",
       "...              ...              ...         ...                ...   \n",
       "1800721         2019   I143S15C30J1V1  25768671.0               2019   \n",
       "1800722         2019   I143S29C26J2V1  25768749.0               2019   \n",
       "1800723         2019     I273S1C5J2V1  25768815.0               2019   \n",
       "1800724         2019  I143S26C376J2V1  25768831.0               2019   \n",
       "1801481         2019     I426S1C7J2V2  25866904.0               2019   \n",
       "\n",
       "                          tipo_inst_1             tipo_ensenanza_colegio  \\\n",
       "1            Institutos Profesionales                Educación Media H-C   \n",
       "3        Centros de Formación Técnica                Educación Media H-C   \n",
       "4            Institutos Profesionales  Educación Media T-P \\n Industrial   \n",
       "5            Institutos Profesionales   Educación Media T-P \\n Comercial   \n",
       "6        Centros de Formación Técnica  Educación Media T-P \\n Industrial   \n",
       "...                               ...                                ...   \n",
       "1800721      Institutos Profesionales                Educación Media H-C   \n",
       "1800722      Institutos Profesionales                Educación Media H-C   \n",
       "1800723  Centros de Formación Técnica                Educación Media H-C   \n",
       "1800724      Institutos Profesionales                Educación Media H-C   \n",
       "1801481  Centros de Formación Técnica                Educación Media H-C   \n",
       "\n",
       "         dependencia_colegio_Otro  dependencia_colegio_Particular \\n Pagado  \\\n",
       "1                               0                                         0   \n",
       "3                               0                                         0   \n",
       "4                               0                                         0   \n",
       "5                               0                                         0   \n",
       "6                               0                                         0   \n",
       "...                           ...                                       ...   \n",
       "1800721                         0                                         0   \n",
       "1800722                         0                                         0   \n",
       "1800723                         0                                         0   \n",
       "1800724                         0                                         0   \n",
       "1801481                         0                                         0   \n",
       "\n",
       "         dependencia_colegio_Particular \\n Subvencionado  desertor_1_1.0  \n",
       "1                                                      1               0  \n",
       "3                                                      1               1  \n",
       "4                                                      0               0  \n",
       "5                                                      1               0  \n",
       "6                                                      1               1  \n",
       "...                                                  ...             ...  \n",
       "1800721                                                1               0  \n",
       "1800722                                                0               0  \n",
       "1800723                                                1               0  \n",
       "1800724                                                1               1  \n",
       "1801481                                                1               1  \n",
       "\n",
       "[734030 rows x 10 columns]"
      ]
     },
     "execution_count": 1747,
     "metadata": {},
     "output_type": "execute_result"
    }
   ],
   "source": [
    "df_logit"
   ]
  },
  {
   "cell_type": "code",
   "execution_count": 1748,
   "metadata": {
    "id": "V06i5FGHCE69"
   },
   "outputs": [],
   "source": [
    "#mask = df_logit['cat_periodo'] == 2017\n",
    "\n",
    "#sample = df_logit[mask].sample(n=100000, random_state = 12345)\n",
    "sample = df_logit.sample(n=10000, random_state = 12345)\n",
    "\n",
    "X = sample.iloc[:,6:]\n",
    "X=X.drop(columns='desertor_1_1.0')\n",
    "y = sample['desertor_1_1.0']"
   ]
  },
  {
   "cell_type": "code",
   "execution_count": 1749,
   "metadata": {},
   "outputs": [
    {
     "data": {
      "text/plain": [
       "1644"
      ]
     },
     "execution_count": 1749,
     "metadata": {},
     "output_type": "execute_result"
    }
   ],
   "source": [
    "y.sum()"
   ]
  },
  {
   "cell_type": "markdown",
   "metadata": {
    "id": "5OzugOeaBgCI"
   },
   "source": [
    "#### Logistic Regression"
   ]
  },
  {
   "cell_type": "code",
   "execution_count": 1750,
   "metadata": {
    "colab": {
     "base_uri": "https://localhost:8080/"
    },
    "id": "ysNN-bfUBj6p",
    "outputId": "ce446ca0-1540-405a-b387-ace2900b8326"
   },
   "outputs": [
    {
     "name": "stdout",
     "output_type": "stream",
     "text": [
      "Optimization terminated successfully.\n",
      "         Current function value: 350.452512\n",
      "         Iterations 6\n",
      "                           Logit Regression Results                           \n",
      "==============================================================================\n",
      "Dep. Variable:         desertor_1_1.0   No. Observations:                10000\n",
      "Model:                          Logit   Df Residuals:                     9996\n",
      "Method:                           MLE   Df Model:                            3\n",
      "Date:                Tue, 11 Oct 2022   Pseudo R-squ.:                     inf\n",
      "Time:                        23:06:25   Log-Likelihood:            -3.5045e+06\n",
      "converged:                       True   LL-Null:                        0.0000\n",
      "Covariance Type:            nonrobust   LLR p-value:                     1.000\n",
      "==================================================================================================================\n",
      "                                                     coef    std err          z      P>|z|      [0.025      0.975]\n",
      "------------------------------------------------------------------------------------------------------------------\n",
      "const                                             -1.4443      0.039    -36.653      0.000      -1.521      -1.367\n",
      "dependencia_colegio_Otro                          -0.3878      0.129     -3.008      0.003      -0.640      -0.135\n",
      "dependencia_colegio_Particular \n",
      " Pagado           -0.8694      0.206     -4.229      0.000      -1.272      -0.467\n",
      "dependencia_colegio_Particular \n",
      " Subvencionado    -0.2932      0.056     -5.238      0.000      -0.403      -0.183\n",
      "==================================================================================================================\n"
     ]
    },
    {
     "name": "stderr",
     "output_type": "stream",
     "text": [
      "/Library/Frameworks/Python.framework/Versions/3.10/lib/python3.10/site-packages/statsmodels/base/model.py:592: HessianInversionWarning: Inverting hessian failed, no bse or cov_params available\n",
      "  warnings.warn('Inverting hessian failed, no bse or cov_params '\n",
      "/Library/Frameworks/Python.framework/Versions/3.10/lib/python3.10/site-packages/statsmodels/base/model.py:592: HessianInversionWarning: Inverting hessian failed, no bse or cov_params available\n",
      "  warnings.warn('Inverting hessian failed, no bse or cov_params '\n",
      "/Library/Frameworks/Python.framework/Versions/3.10/lib/python3.10/site-packages/statsmodels/discrete/discrete_model.py:3511: RuntimeWarning: divide by zero encountered in double_scalars\n",
      "  return 1 - self.llf/self.llnull\n"
     ]
    }
   ],
   "source": [
    "import statsmodels.api as sm\n",
    "\n",
    "logit_model = sm.Logit(y, sm.add_constant(X)).fit()\n",
    "print(logit_model.summary())"
   ]
  },
  {
   "cell_type": "code",
   "execution_count": 1751,
   "metadata": {
    "id": "8JGQPPe9E01t"
   },
   "outputs": [
    {
     "name": "stdout",
     "output_type": "stream",
     "text": [
      "Requirement already satisfied: mlxtend in /Library/Frameworks/Python.framework/Versions/3.10/lib/python3.10/site-packages (0.21.0)\n",
      "Requirement already satisfied: scipy>=1.2.1 in /Library/Frameworks/Python.framework/Versions/3.10/lib/python3.10/site-packages (from mlxtend) (1.8.0)\n",
      "Requirement already satisfied: matplotlib>=3.0.0 in /Library/Frameworks/Python.framework/Versions/3.10/lib/python3.10/site-packages (from mlxtend) (3.5.1)\n",
      "Requirement already satisfied: setuptools in /Library/Frameworks/Python.framework/Versions/3.10/lib/python3.10/site-packages (from mlxtend) (58.1.0)\n",
      "Requirement already satisfied: joblib>=0.13.2 in /Library/Frameworks/Python.framework/Versions/3.10/lib/python3.10/site-packages (from mlxtend) (1.1.0)\n",
      "Requirement already satisfied: numpy>=1.16.2 in /Library/Frameworks/Python.framework/Versions/3.10/lib/python3.10/site-packages (from mlxtend) (1.22.2)\n",
      "Requirement already satisfied: pandas>=0.24.2 in /Library/Frameworks/Python.framework/Versions/3.10/lib/python3.10/site-packages (from mlxtend) (1.4.1)\n",
      "Requirement already satisfied: scikit-learn>=1.0.2 in /Library/Frameworks/Python.framework/Versions/3.10/lib/python3.10/site-packages (from mlxtend) (1.0.2)\n",
      "Requirement already satisfied: cycler>=0.10 in /Library/Frameworks/Python.framework/Versions/3.10/lib/python3.10/site-packages (from matplotlib>=3.0.0->mlxtend) (0.11.0)\n",
      "Requirement already satisfied: fonttools>=4.22.0 in /Library/Frameworks/Python.framework/Versions/3.10/lib/python3.10/site-packages (from matplotlib>=3.0.0->mlxtend) (4.29.1)\n",
      "Requirement already satisfied: python-dateutil>=2.7 in /Library/Frameworks/Python.framework/Versions/3.10/lib/python3.10/site-packages (from matplotlib>=3.0.0->mlxtend) (2.8.2)\n",
      "Requirement already satisfied: packaging>=20.0 in /Library/Frameworks/Python.framework/Versions/3.10/lib/python3.10/site-packages (from matplotlib>=3.0.0->mlxtend) (21.3)\n",
      "Requirement already satisfied: kiwisolver>=1.0.1 in /Library/Frameworks/Python.framework/Versions/3.10/lib/python3.10/site-packages (from matplotlib>=3.0.0->mlxtend) (1.3.2)\n",
      "Requirement already satisfied: pyparsing>=2.2.1 in /Library/Frameworks/Python.framework/Versions/3.10/lib/python3.10/site-packages (from matplotlib>=3.0.0->mlxtend) (3.0.7)\n",
      "Requirement already satisfied: pillow>=6.2.0 in /Library/Frameworks/Python.framework/Versions/3.10/lib/python3.10/site-packages (from matplotlib>=3.0.0->mlxtend) (9.0.1)\n",
      "Requirement already satisfied: pytz>=2020.1 in /Library/Frameworks/Python.framework/Versions/3.10/lib/python3.10/site-packages (from pandas>=0.24.2->mlxtend) (2021.3)\n",
      "Requirement already satisfied: six>=1.5 in /Library/Frameworks/Python.framework/Versions/3.10/lib/python3.10/site-packages (from python-dateutil>=2.7->matplotlib>=3.0.0->mlxtend) (1.16.0)\n",
      "Requirement already satisfied: threadpoolctl>=2.0.0 in /Library/Frameworks/Python.framework/Versions/3.10/lib/python3.10/site-packages (from scikit-learn>=1.0.2->mlxtend) (3.1.0)\n",
      "\u001b[33mWARNING: You are using pip version 21.2.4; however, version 22.2.2 is available.\n",
      "You should consider upgrading via the '/Library/Frameworks/Python.framework/Versions/3.10/bin/python3.10 -m pip install --upgrade pip' command.\u001b[0m\n"
     ]
    }
   ],
   "source": [
    "! pip3 install mlxtend\n",
    "from sklearn.metrics import confusion_matrix,precision_score, recall_score\n",
    "from mlxtend.plotting import plot_confusion_matrix"
   ]
  },
  {
   "cell_type": "code",
   "execution_count": 1752,
   "metadata": {
    "colab": {
     "base_uri": "https://localhost:8080/"
    },
    "id": "Q0rzG3DiEpcL",
    "outputId": "c014b573-9a25-4d97-b502-a6b1728d46ce"
   },
   "outputs": [],
   "source": [
    "y_pred = logit_model.predict(sm.add_constant(X))\n",
    "y_pred = np.round(y_pred)"
   ]
  },
  {
   "cell_type": "code",
   "execution_count": 1753,
   "metadata": {
    "colab": {
     "base_uri": "https://localhost:8080/",
     "height": 420
    },
    "id": "y5A6DBj7Fl9q",
    "outputId": "f05f1f8b-2f9c-428a-ab0f-e076aaa31b7c"
   },
   "outputs": [
    {
     "data": {
      "image/png": "[encoded data removed]",
      "text/plain": [
       "<Figure size 432x432 with 1 Axes>"
      ]
     },
     "metadata": {
      "needs_background": "light"
     },
     "output_type": "display_data"
    }
   ],
   "source": [
    "fig, ax = plot_confusion_matrix(conf_mat=confusion_matrix(y,y_pred), figsize=(6,6))\n",
    "plt.title('Matriz de confusión')\n",
    "plt.show()"
   ]
  },
  {
   "cell_type": "code",
   "execution_count": 1754,
   "metadata": {
    "colab": {
     "base_uri": "https://localhost:8080/"
    },
    "id": "NzgEKqukF1m9",
    "outputId": "b098ceff-a049-402a-b17b-d5c611e2b02b"
   },
   "outputs": [
    {
     "name": "stdout",
     "output_type": "stream",
     "text": [
      "precision =  0.0\n"
     ]
    },
    {
     "name": "stderr",
     "output_type": "stream",
     "text": [
      "/Library/Frameworks/Python.framework/Versions/3.10/lib/python3.10/site-packages/sklearn/metrics/_classification.py:1318: UndefinedMetricWarning: Precision is ill-defined and being set to 0.0 due to no predicted samples. Use `zero_division` parameter to control this behavior.\n",
      "  _warn_prf(average, modifier, msg_start, len(result))\n"
     ]
    }
   ],
   "source": [
    "print('precision = ', precision_score(y, y_pred))"
   ]
  },
  {
   "cell_type": "markdown",
   "metadata": {
    "id": "yZ7IBnFKBdQL"
   },
   "source": [
    "#### Random Forest"
   ]
  },
  {
   "cell_type": "code",
   "execution_count": 1755,
   "metadata": {
    "id": "x8aDL3epBE7_"
   },
   "outputs": [],
   "source": [
    "from sklearn.ensemble import RandomForestClassifier"
   ]
  },
  {
   "cell_type": "code",
   "execution_count": 1756,
   "metadata": {
    "colab": {
     "base_uri": "https://localhost:8080/"
    },
    "id": "TQ4CyM1QBE5Q",
    "outputId": "f40dfd94-8a10-4491-d1ec-1f14c8f9c01b"
   },
   "outputs": [
    {
     "data": {
      "text/plain": [
       "RandomForestClassifier(random_state=12345)"
      ]
     },
     "execution_count": 1756,
     "metadata": {},
     "output_type": "execute_result"
    }
   ],
   "source": [
    "forest = RandomForestClassifier(random_state=12345)\n",
    "forest.fit(X, y)"
   ]
  },
  {
   "cell_type": "code",
   "execution_count": 1757,
   "metadata": {
    "id": "kAWF2E4dFoFP"
   },
   "outputs": [],
   "source": [
    "bestfeatures = set()"
   ]
  },
  {
   "cell_type": "code",
   "execution_count": 1758,
   "metadata": {
    "colab": {
     "base_uri": "https://localhost:8080/",
     "height": 0
    },
    "id": "ygcgr-bTFn-b",
    "outputId": "3e656f85-9d95-4f55-f265-8c5605a4065e"
   },
   "outputs": [
    {
     "data": {
      "image/png": "[encoded data removed]",
      "text/plain": [
       "<Figure size 360x360 with 1 Axes>"
      ]
     },
     "metadata": {
      "needs_background": "light"
     },
     "output_type": "display_data"
    }
   ],
   "source": [
    "importances = forest.feature_importances_\n",
    "std = np.std([tree.feature_importances_ for tree in forest.estimators_], axis=0)\n",
    "imps = pd.DataFrame.from_dict({\"importances\": importances})\n",
    "imps.index = list(X)\n",
    "imps.sort_values(by=\"importances\").plot.barh(figsize=(5, 5))\n",
    "bestfeatures |= set(imps.sort_values(by=\"importances\").iloc[-10:].index) # add best features"
   ]
  },
  {
   "cell_type": "code",
   "execution_count": 1759,
   "metadata": {
    "id": "kqKQQTKIGYae"
   },
   "outputs": [],
   "source": [
    "y_pred = forest.predict(X)\n",
    "y_pred = np.round(y_pred)"
   ]
  },
  {
   "cell_type": "code",
   "execution_count": 1760,
   "metadata": {
    "colab": {
     "base_uri": "https://localhost:8080/",
     "height": 0
    },
    "id": "Yulat216GYaf",
    "outputId": "92c6024d-3eb2-4303-c359-e77c311ead0e"
   },
   "outputs": [
    {
     "data": {
      "image/png": "[encoded data removed]",
      "text/plain": [
       "<Figure size 432x432 with 1 Axes>"
      ]
     },
     "metadata": {
      "needs_background": "light"
     },
     "output_type": "display_data"
    }
   ],
   "source": [
    "fig, ax = plot_confusion_matrix(conf_mat=confusion_matrix(y,y_pred), figsize=(6,6))\n",
    "plt.title('Matriz de confusión')\n",
    "plt.show()"
   ]
  },
  {
   "cell_type": "code",
   "execution_count": 1761,
   "metadata": {
    "colab": {
     "base_uri": "https://localhost:8080/"
    },
    "id": "yVgohFccGYaf",
    "outputId": "3a3e1137-73e2-4e91-91d1-14e740fca80c"
   },
   "outputs": [
    {
     "name": "stdout",
     "output_type": "stream",
     "text": [
      "precision =  0.0\n"
     ]
    },
    {
     "name": "stderr",
     "output_type": "stream",
     "text": [
      "/Library/Frameworks/Python.framework/Versions/3.10/lib/python3.10/site-packages/sklearn/metrics/_classification.py:1318: UndefinedMetricWarning: Precision is ill-defined and being set to 0.0 due to no predicted samples. Use `zero_division` parameter to control this behavior.\n",
      "  _warn_prf(average, modifier, msg_start, len(result))\n"
     ]
    }
   ],
   "source": [
    "print('precision = ', precision_score(y, y_pred))"
   ]
  },
  {
   "cell_type": "markdown",
   "metadata": {
    "id": "-GZpJZ03guuD"
   },
   "source": [
    "### Tipo de Enseñanza"
   ]
  },
  {
   "cell_type": "markdown",
   "metadata": {
    "id": "ta0icFROguuD"
   },
   "source": [
    "#### Formateo de Base de Datos"
   ]
  },
  {
   "cell_type": "code",
   "execution_count": 1762,
   "metadata": {
    "id": "EVK8eBVxguuE"
   },
   "outputs": [],
   "source": [
    "df_logit = df2.copy()\n",
    "df_logit = df_logit.drop_duplicates(subset='mrun')"
   ]
  },
  {
   "cell_type": "code",
   "execution_count": 1763,
   "metadata": {
    "id": "c-OboVNAguuE"
   },
   "outputs": [],
   "source": [
    "mask = df_logit['dependencia_colegio'] != -1\n",
    "df_logit=df_logit[mask]"
   ]
  },
  {
   "cell_type": "code",
   "execution_count": 1764,
   "metadata": {
    "id": "63e7f9MtguuE"
   },
   "outputs": [],
   "source": [
    "df_logit=df_logit.dropna(subset=['desertor_1'])"
   ]
  },
  {
   "cell_type": "code",
   "execution_count": 1765,
   "metadata": {
    "colab": {
     "base_uri": "https://localhost:8080/"
    },
    "id": "AenSntsjguuE",
    "outputId": "fed59ad2-d4a3-414c-abec-a92114def18c"
   },
   "outputs": [
    {
     "data": {
      "text/plain": [
       "cat_periodo               0.0\n",
       "codigo_unico              0.0\n",
       "mrun                      0.0\n",
       "anio_ing_carr_ori         0.0\n",
       "tipo_inst_1               0.0\n",
       "desertor_1                0.0\n",
       "tipo_ensenanza_colegio    0.0\n",
       "dependencia_colegio       0.0\n",
       "dtype: float64"
      ]
     },
     "execution_count": 1765,
     "metadata": {},
     "output_type": "execute_result"
    }
   ],
   "source": [
    "df_logit.isna().sum()/df_logit.shape[0]"
   ]
  },
  {
   "cell_type": "code",
   "execution_count": 1766,
   "metadata": {
    "colab": {
     "base_uri": "https://localhost:8080/"
    },
    "id": "w6v_XHWmhBUf",
    "outputId": "55590903-4ff2-4b53-b0d5-0ce4997378bc"
   },
   "outputs": [
    {
     "data": {
      "text/plain": [
       "array(['Educación Media H-C', 'Educación Media T-P \\n Industrial',\n",
       "       'Educación Media T-P \\n Comercial',\n",
       "       'Educación Media T-P \\n Técnica', 'Otro'], dtype=object)"
      ]
     },
     "execution_count": 1766,
     "metadata": {},
     "output_type": "execute_result"
    }
   ],
   "source": [
    "df_logit['tipo_ensenanza_colegio'].unique()"
   ]
  },
  {
   "cell_type": "code",
   "execution_count": 1767,
   "metadata": {
    "id": "P3NQZ3UbguuE"
   },
   "outputs": [],
   "source": [
    "df_logit = pd.get_dummies(df_logit,columns=['tipo_ensenanza_colegio','desertor_1'],drop_first=True)"
   ]
  },
  {
   "cell_type": "code",
   "execution_count": 1768,
   "metadata": {
    "colab": {
     "base_uri": "https://localhost:8080/",
     "height": 0
    },
    "id": "dcgtkGfdhXmE",
    "outputId": "53aceca8-cf7a-4d0d-c326-c72eb80d33cc"
   },
   "outputs": [
    {
     "data": {
      "text/html": [
       "<div>\n",
       "<style scoped>\n",
       "    .dataframe tbody tr th:only-of-type {\n",
       "        vertical-align: middle;\n",
       "    }\n",
       "\n",
       "    .dataframe tbody tr th {\n",
       "        vertical-align: top;\n",
       "    }\n",
       "\n",
       "    .dataframe thead th {\n",
       "        text-align: right;\n",
       "    }\n",
       "</style>\n",
       "<table border=\"1\" class=\"dataframe\">\n",
       "  <thead>\n",
       "    <tr style=\"text-align: right;\">\n",
       "      <th></th>\n",
       "      <th>cat_periodo</th>\n",
       "      <th>codigo_unico</th>\n",
       "      <th>mrun</th>\n",
       "      <th>anio_ing_carr_ori</th>\n",
       "      <th>tipo_inst_1</th>\n",
       "      <th>dependencia_colegio</th>\n",
       "      <th>tipo_ensenanza_colegio_Educación Media T-P \\n Comercial</th>\n",
       "      <th>tipo_ensenanza_colegio_Educación Media T-P \\n Industrial</th>\n",
       "      <th>tipo_ensenanza_colegio_Educación Media T-P \\n Técnica</th>\n",
       "      <th>tipo_ensenanza_colegio_Otro</th>\n",
       "      <th>desertor_1_1.0</th>\n",
       "    </tr>\n",
       "  </thead>\n",
       "  <tbody>\n",
       "    <tr>\n",
       "      <th>1</th>\n",
       "      <td>2015</td>\n",
       "      <td>I111S14C309J2V1</td>\n",
       "      <td>118.0</td>\n",
       "      <td>2015</td>\n",
       "      <td>Institutos Profesionales</td>\n",
       "      <td>Particular \\n Subvencionado</td>\n",
       "      <td>0</td>\n",
       "      <td>0</td>\n",
       "      <td>0</td>\n",
       "      <td>0</td>\n",
       "      <td>0</td>\n",
       "    </tr>\n",
       "    <tr>\n",
       "      <th>3</th>\n",
       "      <td>2015</td>\n",
       "      <td>I221S1C57J1V1</td>\n",
       "      <td>370.0</td>\n",
       "      <td>2015</td>\n",
       "      <td>Centros de Formación Técnica</td>\n",
       "      <td>Particular \\n Subvencionado</td>\n",
       "      <td>0</td>\n",
       "      <td>0</td>\n",
       "      <td>0</td>\n",
       "      <td>0</td>\n",
       "      <td>1</td>\n",
       "    </tr>\n",
       "    <tr>\n",
       "      <th>4</th>\n",
       "      <td>2015</td>\n",
       "      <td>I176S8C59J2V1</td>\n",
       "      <td>533.0</td>\n",
       "      <td>2015</td>\n",
       "      <td>Institutos Profesionales</td>\n",
       "      <td>Municipal</td>\n",
       "      <td>0</td>\n",
       "      <td>1</td>\n",
       "      <td>0</td>\n",
       "      <td>0</td>\n",
       "      <td>0</td>\n",
       "    </tr>\n",
       "    <tr>\n",
       "      <th>5</th>\n",
       "      <td>2015</td>\n",
       "      <td>I111S9C89J1V1</td>\n",
       "      <td>598.0</td>\n",
       "      <td>2015</td>\n",
       "      <td>Institutos Profesionales</td>\n",
       "      <td>Particular \\n Subvencionado</td>\n",
       "      <td>1</td>\n",
       "      <td>0</td>\n",
       "      <td>0</td>\n",
       "      <td>0</td>\n",
       "      <td>0</td>\n",
       "    </tr>\n",
       "    <tr>\n",
       "      <th>6</th>\n",
       "      <td>2015</td>\n",
       "      <td>I498S5C155J1V2</td>\n",
       "      <td>630.0</td>\n",
       "      <td>2015</td>\n",
       "      <td>Centros de Formación Técnica</td>\n",
       "      <td>Particular \\n Subvencionado</td>\n",
       "      <td>0</td>\n",
       "      <td>1</td>\n",
       "      <td>0</td>\n",
       "      <td>0</td>\n",
       "      <td>1</td>\n",
       "    </tr>\n",
       "  </tbody>\n",
       "</table>\n",
       "</div>"
      ],
      "text/plain": [
       "   cat_periodo     codigo_unico   mrun  anio_ing_carr_ori  \\\n",
       "1         2015  I111S14C309J2V1  118.0               2015   \n",
       "3         2015    I221S1C57J1V1  370.0               2015   \n",
       "4         2015    I176S8C59J2V1  533.0               2015   \n",
       "5         2015    I111S9C89J1V1  598.0               2015   \n",
       "6         2015   I498S5C155J1V2  630.0               2015   \n",
       "\n",
       "                    tipo_inst_1          dependencia_colegio  \\\n",
       "1      Institutos Profesionales  Particular \\n Subvencionado   \n",
       "3  Centros de Formación Técnica  Particular \\n Subvencionado   \n",
       "4      Institutos Profesionales                    Municipal   \n",
       "5      Institutos Profesionales  Particular \\n Subvencionado   \n",
       "6  Centros de Formación Técnica  Particular \\n Subvencionado   \n",
       "\n",
       "   tipo_ensenanza_colegio_Educación Media T-P \\n Comercial  \\\n",
       "1                                                  0         \n",
       "3                                                  0         \n",
       "4                                                  0         \n",
       "5                                                  1         \n",
       "6                                                  0         \n",
       "\n",
       "   tipo_ensenanza_colegio_Educación Media T-P \\n Industrial  \\\n",
       "1                                                  0          \n",
       "3                                                  0          \n",
       "4                                                  1          \n",
       "5                                                  0          \n",
       "6                                                  1          \n",
       "\n",
       "   tipo_ensenanza_colegio_Educación Media T-P \\n Técnica  \\\n",
       "1                                                  0       \n",
       "3                                                  0       \n",
       "4                                                  0       \n",
       "5                                                  0       \n",
       "6                                                  0       \n",
       "\n",
       "   tipo_ensenanza_colegio_Otro  desertor_1_1.0  \n",
       "1                            0               0  \n",
       "3                            0               1  \n",
       "4                            0               0  \n",
       "5                            0               0  \n",
       "6                            0               1  "
      ]
     },
     "execution_count": 1768,
     "metadata": {},
     "output_type": "execute_result"
    }
   ],
   "source": [
    "df_logit.head()"
   ]
  },
  {
   "cell_type": "code",
   "execution_count": 1769,
   "metadata": {
    "id": "qYPk6DW3guuF"
   },
   "outputs": [],
   "source": [
    "#mask = df_logit['cat_periodo'] == 2017\n",
    "\n",
    "#sample = df_logit[mask].sample(n=100000, random_state = 12345)\n",
    "sample = df_logit.sample(n=10000, random_state = 12345)\n",
    "\n",
    "X = sample.iloc[:,6:]\n",
    "X=X.drop(columns='desertor_1_1.0')\n",
    "y = sample['desertor_1_1.0']"
   ]
  },
  {
   "cell_type": "code",
   "execution_count": 1770,
   "metadata": {
    "colab": {
     "base_uri": "https://localhost:8080/",
     "height": 0
    },
    "id": "sN_BEvWfwE9H",
    "outputId": "ca558514-31ae-4369-8280-ed764f9f1d46"
   },
   "outputs": [
    {
     "data": {
      "text/html": [
       "<div>\n",
       "<style scoped>\n",
       "    .dataframe tbody tr th:only-of-type {\n",
       "        vertical-align: middle;\n",
       "    }\n",
       "\n",
       "    .dataframe tbody tr th {\n",
       "        vertical-align: top;\n",
       "    }\n",
       "\n",
       "    .dataframe thead th {\n",
       "        text-align: right;\n",
       "    }\n",
       "</style>\n",
       "<table border=\"1\" class=\"dataframe\">\n",
       "  <thead>\n",
       "    <tr style=\"text-align: right;\">\n",
       "      <th></th>\n",
       "      <th>tipo_ensenanza_colegio_Educación Media T-P \\n Comercial</th>\n",
       "      <th>tipo_ensenanza_colegio_Educación Media T-P \\n Industrial</th>\n",
       "      <th>tipo_ensenanza_colegio_Educación Media T-P \\n Técnica</th>\n",
       "      <th>tipo_ensenanza_colegio_Otro</th>\n",
       "    </tr>\n",
       "  </thead>\n",
       "  <tbody>\n",
       "    <tr>\n",
       "      <th>1526879</th>\n",
       "      <td>1</td>\n",
       "      <td>0</td>\n",
       "      <td>0</td>\n",
       "      <td>0</td>\n",
       "    </tr>\n",
       "    <tr>\n",
       "      <th>887741</th>\n",
       "      <td>0</td>\n",
       "      <td>0</td>\n",
       "      <td>0</td>\n",
       "      <td>0</td>\n",
       "    </tr>\n",
       "    <tr>\n",
       "      <th>949099</th>\n",
       "      <td>1</td>\n",
       "      <td>0</td>\n",
       "      <td>0</td>\n",
       "      <td>0</td>\n",
       "    </tr>\n",
       "    <tr>\n",
       "      <th>1764090</th>\n",
       "      <td>0</td>\n",
       "      <td>0</td>\n",
       "      <td>0</td>\n",
       "      <td>0</td>\n",
       "    </tr>\n",
       "    <tr>\n",
       "      <th>657309</th>\n",
       "      <td>0</td>\n",
       "      <td>0</td>\n",
       "      <td>0</td>\n",
       "      <td>0</td>\n",
       "    </tr>\n",
       "    <tr>\n",
       "      <th>...</th>\n",
       "      <td>...</td>\n",
       "      <td>...</td>\n",
       "      <td>...</td>\n",
       "      <td>...</td>\n",
       "    </tr>\n",
       "    <tr>\n",
       "      <th>144929</th>\n",
       "      <td>1</td>\n",
       "      <td>0</td>\n",
       "      <td>0</td>\n",
       "      <td>0</td>\n",
       "    </tr>\n",
       "    <tr>\n",
       "      <th>214195</th>\n",
       "      <td>0</td>\n",
       "      <td>0</td>\n",
       "      <td>0</td>\n",
       "      <td>0</td>\n",
       "    </tr>\n",
       "    <tr>\n",
       "      <th>965807</th>\n",
       "      <td>0</td>\n",
       "      <td>0</td>\n",
       "      <td>0</td>\n",
       "      <td>0</td>\n",
       "    </tr>\n",
       "    <tr>\n",
       "      <th>1296387</th>\n",
       "      <td>0</td>\n",
       "      <td>0</td>\n",
       "      <td>1</td>\n",
       "      <td>0</td>\n",
       "    </tr>\n",
       "    <tr>\n",
       "      <th>1489753</th>\n",
       "      <td>0</td>\n",
       "      <td>1</td>\n",
       "      <td>0</td>\n",
       "      <td>0</td>\n",
       "    </tr>\n",
       "  </tbody>\n",
       "</table>\n",
       "<p>10000 rows × 4 columns</p>\n",
       "</div>"
      ],
      "text/plain": [
       "         tipo_ensenanza_colegio_Educación Media T-P \\n Comercial  \\\n",
       "1526879                                                  1         \n",
       "887741                                                   0         \n",
       "949099                                                   1         \n",
       "1764090                                                  0         \n",
       "657309                                                   0         \n",
       "...                                                    ...         \n",
       "144929                                                   1         \n",
       "214195                                                   0         \n",
       "965807                                                   0         \n",
       "1296387                                                  0         \n",
       "1489753                                                  0         \n",
       "\n",
       "         tipo_ensenanza_colegio_Educación Media T-P \\n Industrial  \\\n",
       "1526879                                                  0          \n",
       "887741                                                   0          \n",
       "949099                                                   0          \n",
       "1764090                                                  0          \n",
       "657309                                                   0          \n",
       "...                                                    ...          \n",
       "144929                                                   0          \n",
       "214195                                                   0          \n",
       "965807                                                   0          \n",
       "1296387                                                  0          \n",
       "1489753                                                  1          \n",
       "\n",
       "         tipo_ensenanza_colegio_Educación Media T-P \\n Técnica  \\\n",
       "1526879                                                  0       \n",
       "887741                                                   0       \n",
       "949099                                                   0       \n",
       "1764090                                                  0       \n",
       "657309                                                   0       \n",
       "...                                                    ...       \n",
       "144929                                                   0       \n",
       "214195                                                   0       \n",
       "965807                                                   0       \n",
       "1296387                                                  1       \n",
       "1489753                                                  0       \n",
       "\n",
       "         tipo_ensenanza_colegio_Otro  \n",
       "1526879                            0  \n",
       "887741                             0  \n",
       "949099                             0  \n",
       "1764090                            0  \n",
       "657309                             0  \n",
       "...                              ...  \n",
       "144929                             0  \n",
       "214195                             0  \n",
       "965807                             0  \n",
       "1296387                            0  \n",
       "1489753                            0  \n",
       "\n",
       "[10000 rows x 4 columns]"
      ]
     },
     "execution_count": 1770,
     "metadata": {},
     "output_type": "execute_result"
    }
   ],
   "source": [
    "X"
   ]
  },
  {
   "cell_type": "markdown",
   "metadata": {
    "id": "yr5P4g1lguuF"
   },
   "source": [
    "#### Logistic Regression"
   ]
  },
  {
   "cell_type": "code",
   "execution_count": 1771,
   "metadata": {
    "colab": {
     "base_uri": "https://localhost:8080/"
    },
    "id": "Yc1D0FX4guuF",
    "outputId": "b4529feb-5ba7-4e32-d59c-c18a2147accd"
   },
   "outputs": [
    {
     "name": "stdout",
     "output_type": "stream",
     "text": [
      "Optimization terminated successfully.\n",
      "         Current function value: 347.113486\n",
      "         Iterations 6\n",
      "                           Logit Regression Results                           \n",
      "==============================================================================\n",
      "Dep. Variable:         desertor_1_1.0   No. Observations:                10000\n",
      "Model:                          Logit   Df Residuals:                     9995\n",
      "Method:                           MLE   Df Model:                            4\n",
      "Date:                Tue, 11 Oct 2022   Pseudo R-squ.:                     inf\n",
      "Time:                        23:06:28   Log-Likelihood:            -3.4711e+06\n",
      "converged:                       True   LL-Null:                        0.0000\n",
      "Covariance Type:            nonrobust   LLR p-value:                     1.000\n",
      "===========================================================================================================================\n",
      "                                                              coef    std err          z      P>|z|      [0.025      0.975]\n",
      "---------------------------------------------------------------------------------------------------------------------------\n",
      "const                                                      -1.6333      0.036    -45.462      0.000      -1.704      -1.563\n",
      "tipo_ensenanza_colegio_Educación Media T-P \n",
      " Comercial     -0.0903      0.078     -1.162      0.245      -0.243       0.062\n",
      "tipo_ensenanza_colegio_Educación Media T-P \n",
      " Industrial     0.0466      0.077      0.604      0.546      -0.105       0.198\n",
      "tipo_ensenanza_colegio_Educación Media T-P \n",
      " Técnica        0.0962      0.091      1.053      0.292      -0.083       0.275\n",
      "tipo_ensenanza_colegio_Otro                                 0.2285      0.180      1.269      0.205      -0.124       0.581\n",
      "===========================================================================================================================\n"
     ]
    },
    {
     "name": "stderr",
     "output_type": "stream",
     "text": [
      "/Library/Frameworks/Python.framework/Versions/3.10/lib/python3.10/site-packages/statsmodels/base/model.py:592: HessianInversionWarning: Inverting hessian failed, no bse or cov_params available\n",
      "  warnings.warn('Inverting hessian failed, no bse or cov_params '\n",
      "/Library/Frameworks/Python.framework/Versions/3.10/lib/python3.10/site-packages/statsmodels/base/model.py:592: HessianInversionWarning: Inverting hessian failed, no bse or cov_params available\n",
      "  warnings.warn('Inverting hessian failed, no bse or cov_params '\n",
      "/Library/Frameworks/Python.framework/Versions/3.10/lib/python3.10/site-packages/statsmodels/discrete/discrete_model.py:3511: RuntimeWarning: divide by zero encountered in double_scalars\n",
      "  return 1 - self.llf/self.llnull\n"
     ]
    }
   ],
   "source": [
    "import statsmodels.api as sm\n",
    "\n",
    "logit_model = sm.Logit(y, sm.add_constant(X)).fit()\n",
    "print(logit_model.summary())"
   ]
  },
  {
   "cell_type": "code",
   "execution_count": 1772,
   "metadata": {
    "id": "wdlY5nAnguuF"
   },
   "outputs": [],
   "source": [
    "from sklearn.metrics import confusion_matrix,precision_score\n",
    "from mlxtend.plotting import plot_confusion_matrix"
   ]
  },
  {
   "cell_type": "code",
   "execution_count": 1773,
   "metadata": {
    "colab": {
     "base_uri": "https://localhost:8080/"
    },
    "id": "SOia4Jd4guuF",
    "outputId": "0e48c828-8003-4077-9583-18be87b86ee0"
   },
   "outputs": [],
   "source": [
    "y_pred = logit_model.predict(sm.add_constant(X))\n",
    "y_pred = np.round(y_pred)"
   ]
  },
  {
   "cell_type": "code",
   "execution_count": 1774,
   "metadata": {
    "colab": {
     "base_uri": "https://localhost:8080/",
     "height": 0
    },
    "id": "x-TtQanBguuF",
    "outputId": "b8b9b036-c224-48fb-a34b-0b6f4af672b5"
   },
   "outputs": [
    {
     "data": {
      "image/png": "[encoded data removed]",
      "text/plain": [
       "<Figure size 432x432 with 1 Axes>"
      ]
     },
     "metadata": {
      "needs_background": "light"
     },
     "output_type": "display_data"
    }
   ],
   "source": [
    "fig, ax = plot_confusion_matrix(conf_mat=confusion_matrix(y,y_pred), figsize=(6,6))\n",
    "plt.title('Matriz de confusión')\n",
    "plt.show()"
   ]
  },
  {
   "cell_type": "code",
   "execution_count": 1775,
   "metadata": {
    "colab": {
     "base_uri": "https://localhost:8080/"
    },
    "id": "DMmsd9MoguuF",
    "outputId": "1a0badff-7240-4dac-fad5-2e4f47f1fbc1"
   },
   "outputs": [
    {
     "name": "stdout",
     "output_type": "stream",
     "text": [
      "precision =  0.0\n"
     ]
    },
    {
     "name": "stderr",
     "output_type": "stream",
     "text": [
      "/Library/Frameworks/Python.framework/Versions/3.10/lib/python3.10/site-packages/sklearn/metrics/_classification.py:1318: UndefinedMetricWarning: Precision is ill-defined and being set to 0.0 due to no predicted samples. Use `zero_division` parameter to control this behavior.\n",
      "  _warn_prf(average, modifier, msg_start, len(result))\n"
     ]
    }
   ],
   "source": [
    "print('precision = ', precision_score(y, y_pred))"
   ]
  },
  {
   "cell_type": "markdown",
   "metadata": {
    "id": "oyX_X3MhguuF"
   },
   "source": [
    "#### Random Forest"
   ]
  },
  {
   "cell_type": "code",
   "execution_count": 1776,
   "metadata": {
    "id": "c0ONl1hdguuF"
   },
   "outputs": [],
   "source": [
    "from sklearn.ensemble import RandomForestClassifier"
   ]
  },
  {
   "cell_type": "code",
   "execution_count": 1777,
   "metadata": {
    "colab": {
     "base_uri": "https://localhost:8080/"
    },
    "id": "UIO5REIRguuG",
    "outputId": "d07bb009-289a-4a27-cae4-7798ccf11caf"
   },
   "outputs": [
    {
     "data": {
      "text/plain": [
       "RandomForestClassifier(random_state=12345)"
      ]
     },
     "execution_count": 1777,
     "metadata": {},
     "output_type": "execute_result"
    }
   ],
   "source": [
    "forest = RandomForestClassifier(random_state=12345)\n",
    "forest.fit(X, y)"
   ]
  },
  {
   "cell_type": "code",
   "execution_count": 1778,
   "metadata": {
    "id": "wM7L14djguuG"
   },
   "outputs": [],
   "source": [
    "bestfeatures = set()"
   ]
  },
  {
   "cell_type": "code",
   "execution_count": 1779,
   "metadata": {
    "colab": {
     "base_uri": "https://localhost:8080/",
     "height": 0
    },
    "id": "9OffxTv3guuG",
    "outputId": "7d74ac9b-8a49-453d-e54c-b7ff51d79ede"
   },
   "outputs": [
    {
     "data": {
      "image/png": "[encoded data removed]",
      "text/plain": [
       "<Figure size 360x360 with 1 Axes>"
      ]
     },
     "metadata": {
      "needs_background": "light"
     },
     "output_type": "display_data"
    }
   ],
   "source": [
    "importances = forest.feature_importances_\n",
    "std = np.std([tree.feature_importances_ for tree in forest.estimators_], axis=0)\n",
    "imps = pd.DataFrame.from_dict({\"importances\": importances})\n",
    "imps.index = list(X)\n",
    "imps.sort_values(by=\"importances\").plot.barh(figsize=(5, 5))\n",
    "bestfeatures |= set(imps.sort_values(by=\"importances\").iloc[-10:].index) # add best features"
   ]
  },
  {
   "cell_type": "code",
   "execution_count": 1780,
   "metadata": {
    "id": "myqFygTLguuG"
   },
   "outputs": [],
   "source": [
    "y_pred = forest.predict(X)\n",
    "y_pred = np.round(y_pred)"
   ]
  },
  {
   "cell_type": "code",
   "execution_count": 1781,
   "metadata": {
    "colab": {
     "base_uri": "https://localhost:8080/",
     "height": 0
    },
    "id": "5MbY_D22guuG",
    "outputId": "bdf0ac19-807f-43e1-9854-765596d44745"
   },
   "outputs": [
    {
     "data": {
      "image/png": "[encoded data removed]",
      "text/plain": [
       "<Figure size 432x432 with 1 Axes>"
      ]
     },
     "metadata": {
      "needs_background": "light"
     },
     "output_type": "display_data"
    }
   ],
   "source": [
    "fig, ax = plot_confusion_matrix(conf_mat=confusion_matrix(y,y_pred), figsize=(6,6))\n",
    "plt.title('Matriz de confusión')\n",
    "plt.show()"
   ]
  },
  {
   "cell_type": "code",
   "execution_count": 1782,
   "metadata": {
    "colab": {
     "base_uri": "https://localhost:8080/"
    },
    "id": "PT9_KxBSguuG",
    "outputId": "2de4bf9f-36a7-44b2-e464-31d194efd43d"
   },
   "outputs": [
    {
     "name": "stdout",
     "output_type": "stream",
     "text": [
      "precision =  0.0\n"
     ]
    },
    {
     "name": "stderr",
     "output_type": "stream",
     "text": [
      "/Library/Frameworks/Python.framework/Versions/3.10/lib/python3.10/site-packages/sklearn/metrics/_classification.py:1318: UndefinedMetricWarning: Precision is ill-defined and being set to 0.0 due to no predicted samples. Use `zero_division` parameter to control this behavior.\n",
      "  _warn_prf(average, modifier, msg_start, len(result))\n"
     ]
    }
   ],
   "source": [
    "print('precision = ', precision_score(y, y_pred))"
   ]
  },
  {
   "cell_type": "markdown",
   "metadata": {
    "id": "i38XZrL1srUm"
   },
   "source": [
    "### Tipo de Enseñanza y Dependencia Colegio"
   ]
  },
  {
   "cell_type": "markdown",
   "metadata": {
    "id": "-CmQY2O1srUm"
   },
   "source": [
    "#### Formateo de Base de Datos"
   ]
  },
  {
   "cell_type": "code",
   "execution_count": 1783,
   "metadata": {
    "id": "RrydBCknsrUm"
   },
   "outputs": [],
   "source": [
    "df_logit = df2.copy()\n",
    "df_logit = df_logit.drop_duplicates(subset='mrun')"
   ]
  },
  {
   "cell_type": "code",
   "execution_count": 1784,
   "metadata": {
    "id": "I6GBYrAEsrUm"
   },
   "outputs": [],
   "source": [
    "mask = df_logit['dependencia_colegio'] != -1\n",
    "df_logit=df_logit[mask]"
   ]
  },
  {
   "cell_type": "code",
   "execution_count": 1785,
   "metadata": {
    "id": "rEnWygtHsrUm"
   },
   "outputs": [],
   "source": [
    "df_logit=df_logit.dropna(subset=['desertor_1'])"
   ]
  },
  {
   "cell_type": "code",
   "execution_count": 1786,
   "metadata": {
    "colab": {
     "base_uri": "https://localhost:8080/"
    },
    "id": "e63WkphHsrUm",
    "outputId": "c387e154-fe70-46b0-977f-97fc4f5fa8fc"
   },
   "outputs": [
    {
     "data": {
      "text/plain": [
       "cat_periodo               0.0\n",
       "codigo_unico              0.0\n",
       "mrun                      0.0\n",
       "anio_ing_carr_ori         0.0\n",
       "tipo_inst_1               0.0\n",
       "desertor_1                0.0\n",
       "tipo_ensenanza_colegio    0.0\n",
       "dependencia_colegio       0.0\n",
       "dtype: float64"
      ]
     },
     "execution_count": 1786,
     "metadata": {},
     "output_type": "execute_result"
    }
   ],
   "source": [
    "df_logit.isna().sum()/df_logit.shape[0]"
   ]
  },
  {
   "cell_type": "code",
   "execution_count": 1787,
   "metadata": {
    "colab": {
     "base_uri": "https://localhost:8080/"
    },
    "id": "hTbPIOV1srUn",
    "outputId": "8707a0d3-0902-46f5-d6e8-2f559781b0cd"
   },
   "outputs": [
    {
     "data": {
      "text/plain": [
       "array(['Educación Media H-C', 'Educación Media T-P \\n Industrial',\n",
       "       'Educación Media T-P \\n Comercial',\n",
       "       'Educación Media T-P \\n Técnica', 'Otro'], dtype=object)"
      ]
     },
     "execution_count": 1787,
     "metadata": {},
     "output_type": "execute_result"
    }
   ],
   "source": [
    "df_logit['tipo_ensenanza_colegio'].unique()"
   ]
  },
  {
   "cell_type": "code",
   "execution_count": 1788,
   "metadata": {
    "id": "-tIXhPDnsrUn"
   },
   "outputs": [],
   "source": [
    "df_logit = pd.get_dummies(df_logit,columns=['tipo_ensenanza_colegio','dependencia_colegio','desertor_1'],drop_first=True)"
   ]
  },
  {
   "cell_type": "code",
   "execution_count": 1789,
   "metadata": {
    "colab": {
     "base_uri": "https://localhost:8080/",
     "height": 0
    },
    "id": "i8aCHwLssrUn",
    "outputId": "28124e67-ebbf-4369-c2b8-cda1c1630861"
   },
   "outputs": [
    {
     "data": {
      "text/html": [
       "<div>\n",
       "<style scoped>\n",
       "    .dataframe tbody tr th:only-of-type {\n",
       "        vertical-align: middle;\n",
       "    }\n",
       "\n",
       "    .dataframe tbody tr th {\n",
       "        vertical-align: top;\n",
       "    }\n",
       "\n",
       "    .dataframe thead th {\n",
       "        text-align: right;\n",
       "    }\n",
       "</style>\n",
       "<table border=\"1\" class=\"dataframe\">\n",
       "  <thead>\n",
       "    <tr style=\"text-align: right;\">\n",
       "      <th></th>\n",
       "      <th>cat_periodo</th>\n",
       "      <th>codigo_unico</th>\n",
       "      <th>mrun</th>\n",
       "      <th>anio_ing_carr_ori</th>\n",
       "      <th>tipo_inst_1</th>\n",
       "      <th>tipo_ensenanza_colegio_Educación Media T-P \\n Comercial</th>\n",
       "      <th>tipo_ensenanza_colegio_Educación Media T-P \\n Industrial</th>\n",
       "      <th>tipo_ensenanza_colegio_Educación Media T-P \\n Técnica</th>\n",
       "      <th>tipo_ensenanza_colegio_Otro</th>\n",
       "      <th>dependencia_colegio_Otro</th>\n",
       "      <th>dependencia_colegio_Particular \\n Pagado</th>\n",
       "      <th>dependencia_colegio_Particular \\n Subvencionado</th>\n",
       "      <th>desertor_1_1.0</th>\n",
       "    </tr>\n",
       "  </thead>\n",
       "  <tbody>\n",
       "    <tr>\n",
       "      <th>1</th>\n",
       "      <td>2015</td>\n",
       "      <td>I111S14C309J2V1</td>\n",
       "      <td>118.0</td>\n",
       "      <td>2015</td>\n",
       "      <td>Institutos Profesionales</td>\n",
       "      <td>0</td>\n",
       "      <td>0</td>\n",
       "      <td>0</td>\n",
       "      <td>0</td>\n",
       "      <td>0</td>\n",
       "      <td>0</td>\n",
       "      <td>1</td>\n",
       "      <td>0</td>\n",
       "    </tr>\n",
       "    <tr>\n",
       "      <th>3</th>\n",
       "      <td>2015</td>\n",
       "      <td>I221S1C57J1V1</td>\n",
       "      <td>370.0</td>\n",
       "      <td>2015</td>\n",
       "      <td>Centros de Formación Técnica</td>\n",
       "      <td>0</td>\n",
       "      <td>0</td>\n",
       "      <td>0</td>\n",
       "      <td>0</td>\n",
       "      <td>0</td>\n",
       "      <td>0</td>\n",
       "      <td>1</td>\n",
       "      <td>1</td>\n",
       "    </tr>\n",
       "    <tr>\n",
       "      <th>4</th>\n",
       "      <td>2015</td>\n",
       "      <td>I176S8C59J2V1</td>\n",
       "      <td>533.0</td>\n",
       "      <td>2015</td>\n",
       "      <td>Institutos Profesionales</td>\n",
       "      <td>0</td>\n",
       "      <td>1</td>\n",
       "      <td>0</td>\n",
       "      <td>0</td>\n",
       "      <td>0</td>\n",
       "      <td>0</td>\n",
       "      <td>0</td>\n",
       "      <td>0</td>\n",
       "    </tr>\n",
       "    <tr>\n",
       "      <th>5</th>\n",
       "      <td>2015</td>\n",
       "      <td>I111S9C89J1V1</td>\n",
       "      <td>598.0</td>\n",
       "      <td>2015</td>\n",
       "      <td>Institutos Profesionales</td>\n",
       "      <td>1</td>\n",
       "      <td>0</td>\n",
       "      <td>0</td>\n",
       "      <td>0</td>\n",
       "      <td>0</td>\n",
       "      <td>0</td>\n",
       "      <td>1</td>\n",
       "      <td>0</td>\n",
       "    </tr>\n",
       "    <tr>\n",
       "      <th>6</th>\n",
       "      <td>2015</td>\n",
       "      <td>I498S5C155J1V2</td>\n",
       "      <td>630.0</td>\n",
       "      <td>2015</td>\n",
       "      <td>Centros de Formación Técnica</td>\n",
       "      <td>0</td>\n",
       "      <td>1</td>\n",
       "      <td>0</td>\n",
       "      <td>0</td>\n",
       "      <td>0</td>\n",
       "      <td>0</td>\n",
       "      <td>1</td>\n",
       "      <td>1</td>\n",
       "    </tr>\n",
       "  </tbody>\n",
       "</table>\n",
       "</div>"
      ],
      "text/plain": [
       "   cat_periodo     codigo_unico   mrun  anio_ing_carr_ori  \\\n",
       "1         2015  I111S14C309J2V1  118.0               2015   \n",
       "3         2015    I221S1C57J1V1  370.0               2015   \n",
       "4         2015    I176S8C59J2V1  533.0               2015   \n",
       "5         2015    I111S9C89J1V1  598.0               2015   \n",
       "6         2015   I498S5C155J1V2  630.0               2015   \n",
       "\n",
       "                    tipo_inst_1  \\\n",
       "1      Institutos Profesionales   \n",
       "3  Centros de Formación Técnica   \n",
       "4      Institutos Profesionales   \n",
       "5      Institutos Profesionales   \n",
       "6  Centros de Formación Técnica   \n",
       "\n",
       "   tipo_ensenanza_colegio_Educación Media T-P \\n Comercial  \\\n",
       "1                                                  0         \n",
       "3                                                  0         \n",
       "4                                                  0         \n",
       "5                                                  1         \n",
       "6                                                  0         \n",
       "\n",
       "   tipo_ensenanza_colegio_Educación Media T-P \\n Industrial  \\\n",
       "1                                                  0          \n",
       "3                                                  0          \n",
       "4                                                  1          \n",
       "5                                                  0          \n",
       "6                                                  1          \n",
       "\n",
       "   tipo_ensenanza_colegio_Educación Media T-P \\n Técnica  \\\n",
       "1                                                  0       \n",
       "3                                                  0       \n",
       "4                                                  0       \n",
       "5                                                  0       \n",
       "6                                                  0       \n",
       "\n",
       "   tipo_ensenanza_colegio_Otro  dependencia_colegio_Otro  \\\n",
       "1                            0                         0   \n",
       "3                            0                         0   \n",
       "4                            0                         0   \n",
       "5                            0                         0   \n",
       "6                            0                         0   \n",
       "\n",
       "   dependencia_colegio_Particular \\n Pagado  \\\n",
       "1                                         0   \n",
       "3                                         0   \n",
       "4                                         0   \n",
       "5                                         0   \n",
       "6                                         0   \n",
       "\n",
       "   dependencia_colegio_Particular \\n Subvencionado  desertor_1_1.0  \n",
       "1                                                1               0  \n",
       "3                                                1               1  \n",
       "4                                                0               0  \n",
       "5                                                1               0  \n",
       "6                                                1               1  "
      ]
     },
     "execution_count": 1789,
     "metadata": {},
     "output_type": "execute_result"
    }
   ],
   "source": [
    "df_logit.head()"
   ]
  },
  {
   "cell_type": "code",
   "execution_count": 1790,
   "metadata": {
    "id": "zs3Rq9ZRsrUn"
   },
   "outputs": [],
   "source": [
    "#mask = df_logit['cat_periodo'] == 2021\n",
    "\n",
    "#sample = df_logit[mask].sample(n=10000, random_state = 12345)\n",
    "sample = df_logit.sample(n=10000, random_state = 12345)\n",
    "\n",
    "X = sample.iloc[:,5:]\n",
    "X=X.drop(columns='desertor_1_1.0')\n",
    "y = sample['desertor_1_1.0']"
   ]
  },
  {
   "cell_type": "markdown",
   "metadata": {
    "id": "o1TFkTAKsrUn"
   },
   "source": [
    "#### Logistic Regression"
   ]
  },
  {
   "cell_type": "code",
   "execution_count": 1791,
   "metadata": {
    "colab": {
     "base_uri": "https://localhost:8080/"
    },
    "id": "QOwjbLF8srUn",
    "outputId": "63f8ea22-ebad-43d3-b3b7-8de2e2c8cc65"
   },
   "outputs": [
    {
     "name": "stdout",
     "output_type": "stream",
     "text": [
      "Optimization terminated successfully.\n",
      "         Current function value: 350.849864\n",
      "         Iterations 6\n",
      "                           Logit Regression Results                           \n",
      "==============================================================================\n",
      "Dep. Variable:         desertor_1_1.0   No. Observations:                10000\n",
      "Model:                          Logit   Df Residuals:                     9992\n",
      "Method:                           MLE   Df Model:                            7\n",
      "Date:                Tue, 11 Oct 2022   Pseudo R-squ.:                     inf\n",
      "Time:                        23:06:30   Log-Likelihood:            -3.5085e+06\n",
      "converged:                       True   LL-Null:                        0.0000\n",
      "Covariance Type:            nonrobust   LLR p-value:                     1.000\n",
      "===========================================================================================================================\n",
      "                                                              coef    std err          z      P>|z|      [0.025      0.975]\n",
      "---------------------------------------------------------------------------------------------------------------------------\n",
      "const                                                      -1.4431      0.047    -30.854      0.000      -1.535      -1.351\n",
      "tipo_ensenanza_colegio_Educación Media T-P \n",
      " Comercial     -0.1108      0.079     -1.396      0.163      -0.266       0.045\n",
      "tipo_ensenanza_colegio_Educación Media T-P \n",
      " Industrial     0.0330      0.080      0.414      0.679      -0.123       0.190\n",
      "tipo_ensenanza_colegio_Educación Media T-P \n",
      " Técnica        0.0725      0.092      0.786      0.432      -0.108       0.253\n",
      "tipo_ensenanza_colegio_Otro                                 0.2265      0.181      1.251      0.211      -0.128       0.581\n",
      "dependencia_colegio_Otro                                   -0.3863      0.133     -2.903      0.004      -0.647      -0.126\n",
      "dependencia_colegio_Particular \n",
      " Pagado                    -0.8702      0.207     -4.203      0.000      -1.276      -0.464\n",
      "dependencia_colegio_Particular \n",
      " Subvencionado             -0.2952      0.056     -5.263      0.000      -0.405      -0.185\n",
      "===========================================================================================================================\n"
     ]
    },
    {
     "name": "stderr",
     "output_type": "stream",
     "text": [
      "/Library/Frameworks/Python.framework/Versions/3.10/lib/python3.10/site-packages/statsmodels/base/model.py:592: HessianInversionWarning: Inverting hessian failed, no bse or cov_params available\n",
      "  warnings.warn('Inverting hessian failed, no bse or cov_params '\n",
      "/Library/Frameworks/Python.framework/Versions/3.10/lib/python3.10/site-packages/statsmodels/base/model.py:592: HessianInversionWarning: Inverting hessian failed, no bse or cov_params available\n",
      "  warnings.warn('Inverting hessian failed, no bse or cov_params '\n",
      "/Library/Frameworks/Python.framework/Versions/3.10/lib/python3.10/site-packages/statsmodels/discrete/discrete_model.py:3511: RuntimeWarning: divide by zero encountered in double_scalars\n",
      "  return 1 - self.llf/self.llnull\n"
     ]
    }
   ],
   "source": [
    "import statsmodels.api as sm\n",
    "\n",
    "logit_model = sm.Logit(y, sm.add_constant(X)).fit()\n",
    "print(logit_model.summary())"
   ]
  },
  {
   "cell_type": "code",
   "execution_count": 1792,
   "metadata": {
    "id": "Vy6YKBQIsrUn"
   },
   "outputs": [],
   "source": [
    "from sklearn.metrics import confusion_matrix,precision_score\n",
    "from mlxtend.plotting import plot_confusion_matrix"
   ]
  },
  {
   "cell_type": "code",
   "execution_count": 1793,
   "metadata": {
    "colab": {
     "base_uri": "https://localhost:8080/"
    },
    "id": "2pmZezNHsrUn",
    "outputId": "7adae7b7-ba23-418a-e7cc-3b89c2d55910"
   },
   "outputs": [],
   "source": [
    "y_pred = logit_model.predict(sm.add_constant(X))\n",
    "y_pred = np.round(y_pred)"
   ]
  },
  {
   "cell_type": "code",
   "execution_count": 1794,
   "metadata": {
    "colab": {
     "base_uri": "https://localhost:8080/",
     "height": 0
    },
    "id": "yKy3z3mxsrUn",
    "outputId": "8007fab3-54cd-43b7-982b-510a24736f31"
   },
   "outputs": [
    {
     "data": {
      "image/png": "[encoded data removed]",
      "text/plain": [
       "<Figure size 432x432 with 1 Axes>"
      ]
     },
     "metadata": {
      "needs_background": "light"
     },
     "output_type": "display_data"
    }
   ],
   "source": [
    "fig, ax = plot_confusion_matrix(conf_mat=confusion_matrix(y,y_pred), figsize=(6,6))\n",
    "plt.title('Matriz de confusión')\n",
    "plt.show()"
   ]
  },
  {
   "cell_type": "code",
   "execution_count": 1795,
   "metadata": {
    "colab": {
     "base_uri": "https://localhost:8080/"
    },
    "id": "_lU4UMxAsrUn",
    "outputId": "daf98b22-cab1-4d87-da28-283f81a3a82e"
   },
   "outputs": [
    {
     "name": "stdout",
     "output_type": "stream",
     "text": [
      "precision =  0.0\n"
     ]
    },
    {
     "name": "stderr",
     "output_type": "stream",
     "text": [
      "/Library/Frameworks/Python.framework/Versions/3.10/lib/python3.10/site-packages/sklearn/metrics/_classification.py:1318: UndefinedMetricWarning: Precision is ill-defined and being set to 0.0 due to no predicted samples. Use `zero_division` parameter to control this behavior.\n",
      "  _warn_prf(average, modifier, msg_start, len(result))\n"
     ]
    }
   ],
   "source": [
    "print('precision = ', precision_score(y, y_pred))"
   ]
  },
  {
   "cell_type": "markdown",
   "metadata": {
    "id": "JPGj7ox_srUn"
   },
   "source": [
    "#### Random Forest"
   ]
  },
  {
   "cell_type": "code",
   "execution_count": 1796,
   "metadata": {
    "id": "k_vW8lAbsrUn"
   },
   "outputs": [],
   "source": [
    "from sklearn.ensemble import RandomForestClassifier"
   ]
  },
  {
   "cell_type": "code",
   "execution_count": 1797,
   "metadata": {
    "colab": {
     "base_uri": "https://localhost:8080/"
    },
    "id": "mwN44UzbsrUn",
    "outputId": "32fb789c-1d42-499b-a357-aa5b83950357"
   },
   "outputs": [
    {
     "data": {
      "text/plain": [
       "RandomForestClassifier(random_state=12345)"
      ]
     },
     "execution_count": 1797,
     "metadata": {},
     "output_type": "execute_result"
    }
   ],
   "source": [
    "forest = RandomForestClassifier(random_state=12345)\n",
    "forest.fit(X, y)"
   ]
  },
  {
   "cell_type": "code",
   "execution_count": 1798,
   "metadata": {
    "id": "tcog2QClsrUn"
   },
   "outputs": [],
   "source": [
    "bestfeatures = set()"
   ]
  },
  {
   "cell_type": "code",
   "execution_count": 1799,
   "metadata": {
    "colab": {
     "base_uri": "https://localhost:8080/",
     "height": 0
    },
    "id": "dMTpl4jesrUo",
    "outputId": "0de2c610-2a89-46ab-a7d9-e3fdc20dadc1"
   },
   "outputs": [
    {
     "data": {
      "image/png": "[encoded data removed]",
      "text/plain": [
       "<Figure size 360x360 with 1 Axes>"
      ]
     },
     "metadata": {
      "needs_background": "light"
     },
     "output_type": "display_data"
    }
   ],
   "source": [
    "importances = forest.feature_importances_\n",
    "std = np.std([tree.feature_importances_ for tree in forest.estimators_], axis=0)\n",
    "imps = pd.DataFrame.from_dict({\"importances\": importances})\n",
    "imps.index = list(X)\n",
    "imps.sort_values(by=\"importances\").plot.barh(figsize=(5, 5))\n",
    "bestfeatures |= set(imps.sort_values(by=\"importances\").iloc[-10:].index) # add best features"
   ]
  },
  {
   "cell_type": "code",
   "execution_count": 1800,
   "metadata": {
    "id": "TESIl2J5srUo"
   },
   "outputs": [],
   "source": [
    "y_pred = forest.predict(X)\n",
    "y_pred = np.round(y_pred)"
   ]
  },
  {
   "cell_type": "code",
   "execution_count": 1801,
   "metadata": {
    "colab": {
     "base_uri": "https://localhost:8080/",
     "height": 0
    },
    "id": "iV0qeYc3srUo",
    "outputId": "e4a43db6-f63a-418f-df4b-fa85f7c1ad18"
   },
   "outputs": [
    {
     "data": {
      "image/png": "[encoded data removed]",
      "text/plain": [
       "<Figure size 432x432 with 1 Axes>"
      ]
     },
     "metadata": {
      "needs_background": "light"
     },
     "output_type": "display_data"
    }
   ],
   "source": [
    "fig, ax = plot_confusion_matrix(conf_mat=confusion_matrix(y,y_pred), figsize=(6,6))\n",
    "plt.title('Matriz de confusión')\n",
    "plt.show()"
   ]
  },
  {
   "cell_type": "code",
   "execution_count": 1802,
   "metadata": {
    "colab": {
     "base_uri": "https://localhost:8080/"
    },
    "id": "ExzM0vkSsrUo",
    "outputId": "3e0eb389-6408-4991-dec6-4484ff6b0ea1"
   },
   "outputs": [
    {
     "name": "stdout",
     "output_type": "stream",
     "text": [
      "precision =  0.0\n"
     ]
    },
    {
     "name": "stderr",
     "output_type": "stream",
     "text": [
      "/Library/Frameworks/Python.framework/Versions/3.10/lib/python3.10/site-packages/sklearn/metrics/_classification.py:1318: UndefinedMetricWarning: Precision is ill-defined and being set to 0.0 due to no predicted samples. Use `zero_division` parameter to control this behavior.\n",
      "  _warn_prf(average, modifier, msg_start, len(result))\n"
     ]
    }
   ],
   "source": [
    "print('precision = ', precision_score(y, y_pred))"
   ]
  }
 ],
 "metadata": {
  "colab": {
   "collapsed_sections": [
    "mpOJzlIs2C1G",
    "LfceH-U917cZ",
    "WDmk3mfg8tr4",
    "t__a0Iqy9Ebn",
    "yZ7IBnFKBdQL"
   ],
   "provenance": []
  },
  "kernelspec": {
   "display_name": "Python 3 (ipykernel)",
   "language": "python",
   "name": "python3"
  },
  "language_info": {
   "codemirror_mode": {
    "name": "ipython",
    "version": 3
   },
   "file_extension": ".py",
   "mimetype": "text/x-python",
   "name": "python",
   "nbconvert_exporter": "python",
   "pygments_lexer": "ipython3",
   "version": "3.9.12"
  },
  "vscode": {
   "interpreter": {
    "hash": "aee8b7b246df8f9039afb4144a1f6fd8d2ca17a180786b69acc140d282b71a49"
   }
  }
 },
 "nbformat": 4,
 "nbformat_minor": 1
}
