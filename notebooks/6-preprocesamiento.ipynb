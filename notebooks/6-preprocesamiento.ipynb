{
 "cells": [
  {
   "cell_type": "code",
   "execution_count": 1,
   "id": "72e872ab",
   "metadata": {},
   "outputs": [],
   "source": [
    "import pandas as pd\n",
    "import numpy as np\n",
    "import seaborn as sns\n",
    "from datetime import date\n",
    "from unidecode import unidecode\n",
    "\n",
    "BASE = \"/media/giani/Gianicosas/Magister/Proyecto/\""
   ]
  },
  {
   "cell_type": "markdown",
   "id": "1fb52849",
   "metadata": {},
   "source": [
    "# Raw data"
   ]
  },
  {
   "cell_type": "code",
   "execution_count": 2,
   "id": "957d32f5",
   "metadata": {},
   "outputs": [
    {
     "name": "stderr",
     "output_type": "stream",
     "text": [
      "/tmp/ipykernel_55903/944640372.py:1: DtypeWarning: Columns (13,16) have mixed types. Specify dtype option on import or set low_memory=False.\n",
      "  df = pd.read_csv(f\"{BASE}work_data/matriz_desercion_2.csv.gz\")\n"
     ]
    },
    {
     "name": "stdout",
     "output_type": "stream",
     "text": [
      "Index(['cat_periodo', 'codigo_unico', 'mrun', 'gen_alu', 'fec_nac_alu',\n",
      "       'anio_ing_carr_ori', 'tipo_inst_1', 'region_sede', 'valor_arancel',\n",
      "       'area_conocimiento', 'acreditada_carr', 'acreditada_inst', 'desertor_1',\n",
      "       'region_colegio', 'tipo_ensenanza_colegio', 'prom_notas_media',\n",
      "       'dependencia_colegio', 'cant_becas'],\n",
      "      dtype='object')\n"
     ]
    },
    {
     "data": {
      "text/html": [
       "<div>\n",
       "<style scoped>\n",
       "    .dataframe tbody tr th:only-of-type {\n",
       "        vertical-align: middle;\n",
       "    }\n",
       "\n",
       "    .dataframe tbody tr th {\n",
       "        vertical-align: top;\n",
       "    }\n",
       "\n",
       "    .dataframe thead th {\n",
       "        text-align: right;\n",
       "    }\n",
       "</style>\n",
       "<table border=\"1\" class=\"dataframe\">\n",
       "  <thead>\n",
       "    <tr style=\"text-align: right;\">\n",
       "      <th></th>\n",
       "      <th>cat_periodo</th>\n",
       "      <th>codigo_unico</th>\n",
       "      <th>mrun</th>\n",
       "      <th>gen_alu</th>\n",
       "      <th>fec_nac_alu</th>\n",
       "      <th>anio_ing_carr_ori</th>\n",
       "      <th>tipo_inst_1</th>\n",
       "      <th>region_sede</th>\n",
       "      <th>valor_arancel</th>\n",
       "      <th>area_conocimiento</th>\n",
       "      <th>acreditada_carr</th>\n",
       "      <th>acreditada_inst</th>\n",
       "      <th>desertor_1</th>\n",
       "      <th>region_colegio</th>\n",
       "      <th>tipo_ensenanza_colegio</th>\n",
       "      <th>prom_notas_media</th>\n",
       "      <th>dependencia_colegio</th>\n",
       "      <th>cant_becas</th>\n",
       "    </tr>\n",
       "  </thead>\n",
       "  <tbody>\n",
       "    <tr>\n",
       "      <th>0</th>\n",
       "      <td>2015</td>\n",
       "      <td>I498S6C132J2V1</td>\n",
       "      <td>37.0</td>\n",
       "      <td>1</td>\n",
       "      <td>197808</td>\n",
       "      <td>2015</td>\n",
       "      <td>Centros de Formación Técnica</td>\n",
       "      <td>Biobío</td>\n",
       "      <td>820000.0</td>\n",
       "      <td>Tecnología</td>\n",
       "      <td>NO ACREDITADA</td>\n",
       "      <td>ACREDITADA</td>\n",
       "      <td>0.0</td>\n",
       "      <td>NaN</td>\n",
       "      <td>NaN</td>\n",
       "      <td>NaN</td>\n",
       "      <td>NaN</td>\n",
       "      <td>0.0</td>\n",
       "    </tr>\n",
       "    <tr>\n",
       "      <th>1</th>\n",
       "      <td>2015</td>\n",
       "      <td>I111S14C309J2V1</td>\n",
       "      <td>118.0</td>\n",
       "      <td>1</td>\n",
       "      <td>199102</td>\n",
       "      <td>2015</td>\n",
       "      <td>Institutos Profesionales</td>\n",
       "      <td>Metropolitana</td>\n",
       "      <td>1390000.0</td>\n",
       "      <td>Administración y Comercio</td>\n",
       "      <td>ACREDITADA</td>\n",
       "      <td>ACREDITADA</td>\n",
       "      <td>0.0</td>\n",
       "      <td>13</td>\n",
       "      <td>310.0</td>\n",
       "      <td>4.975</td>\n",
       "      <td>3.0</td>\n",
       "      <td>0.0</td>\n",
       "    </tr>\n",
       "    <tr>\n",
       "      <th>2</th>\n",
       "      <td>2015</td>\n",
       "      <td>I106S3C64J4V1</td>\n",
       "      <td>253.0</td>\n",
       "      <td>1</td>\n",
       "      <td>198404</td>\n",
       "      <td>2015</td>\n",
       "      <td>Institutos Profesionales</td>\n",
       "      <td>Metropolitana</td>\n",
       "      <td>920000.0</td>\n",
       "      <td>Administración y Comercio</td>\n",
       "      <td>NO ACREDITADA</td>\n",
       "      <td>NO ACREDITADA</td>\n",
       "      <td>1.0</td>\n",
       "      <td>NaN</td>\n",
       "      <td>NaN</td>\n",
       "      <td>NaN</td>\n",
       "      <td>NaN</td>\n",
       "      <td>0.0</td>\n",
       "    </tr>\n",
       "    <tr>\n",
       "      <th>3</th>\n",
       "      <td>2015</td>\n",
       "      <td>I221S1C57J1V1</td>\n",
       "      <td>370.0</td>\n",
       "      <td>2</td>\n",
       "      <td>198910</td>\n",
       "      <td>2015</td>\n",
       "      <td>Centros de Formación Técnica</td>\n",
       "      <td>Metropolitana</td>\n",
       "      <td>1880000.0</td>\n",
       "      <td>Administración y Comercio</td>\n",
       "      <td>ACREDITADA</td>\n",
       "      <td>ACREDITADA</td>\n",
       "      <td>1.0</td>\n",
       "      <td>13</td>\n",
       "      <td>310.0</td>\n",
       "      <td>5.100</td>\n",
       "      <td>3.0</td>\n",
       "      <td>1.0</td>\n",
       "    </tr>\n",
       "    <tr>\n",
       "      <th>4</th>\n",
       "      <td>2015</td>\n",
       "      <td>I176S8C59J2V1</td>\n",
       "      <td>533.0</td>\n",
       "      <td>2</td>\n",
       "      <td>198309</td>\n",
       "      <td>2015</td>\n",
       "      <td>Institutos Profesionales</td>\n",
       "      <td>Coquimbo</td>\n",
       "      <td>1190000.0</td>\n",
       "      <td>Salud</td>\n",
       "      <td>ACREDITADA</td>\n",
       "      <td>NO ACREDITADA</td>\n",
       "      <td>0.0</td>\n",
       "      <td>4</td>\n",
       "      <td>510.0</td>\n",
       "      <td>5.200</td>\n",
       "      <td>2.0</td>\n",
       "      <td>0.0</td>\n",
       "    </tr>\n",
       "  </tbody>\n",
       "</table>\n",
       "</div>"
      ],
      "text/plain": [
       "   cat_periodo     codigo_unico   mrun  gen_alu  fec_nac_alu  \\\n",
       "0         2015   I498S6C132J2V1   37.0        1       197808   \n",
       "1         2015  I111S14C309J2V1  118.0        1       199102   \n",
       "2         2015    I106S3C64J4V1  253.0        1       198404   \n",
       "3         2015    I221S1C57J1V1  370.0        2       198910   \n",
       "4         2015    I176S8C59J2V1  533.0        2       198309   \n",
       "\n",
       "   anio_ing_carr_ori                   tipo_inst_1    region_sede  \\\n",
       "0               2015  Centros de Formación Técnica         Biobío   \n",
       "1               2015      Institutos Profesionales  Metropolitana   \n",
       "2               2015      Institutos Profesionales  Metropolitana   \n",
       "3               2015  Centros de Formación Técnica  Metropolitana   \n",
       "4               2015      Institutos Profesionales       Coquimbo   \n",
       "\n",
       "   valor_arancel          area_conocimiento acreditada_carr acreditada_inst  \\\n",
       "0       820000.0                 Tecnología   NO ACREDITADA      ACREDITADA   \n",
       "1      1390000.0  Administración y Comercio      ACREDITADA      ACREDITADA   \n",
       "2       920000.0  Administración y Comercio   NO ACREDITADA   NO ACREDITADA   \n",
       "3      1880000.0  Administración y Comercio      ACREDITADA      ACREDITADA   \n",
       "4      1190000.0                      Salud      ACREDITADA   NO ACREDITADA   \n",
       "\n",
       "   desertor_1 region_colegio  tipo_ensenanza_colegio  prom_notas_media  \\\n",
       "0         0.0            NaN                     NaN               NaN   \n",
       "1         0.0             13                   310.0             4.975   \n",
       "2         1.0            NaN                     NaN               NaN   \n",
       "3         1.0             13                   310.0             5.100   \n",
       "4         0.0              4                   510.0             5.200   \n",
       "\n",
       "  dependencia_colegio  cant_becas  \n",
       "0                 NaN         0.0  \n",
       "1                 3.0         0.0  \n",
       "2                 NaN         0.0  \n",
       "3                 3.0         1.0  \n",
       "4                 2.0         0.0  "
      ]
     },
     "execution_count": 2,
     "metadata": {},
     "output_type": "execute_result"
    }
   ],
   "source": [
    "df = pd.read_csv(f\"{BASE}work_data/matriz_desercion_2.csv.gz\")\n",
    "print(df.columns)\n",
    "df.head()"
   ]
  },
  {
   "cell_type": "markdown",
   "id": "0b38cb83",
   "metadata": {},
   "source": [
    "## Selección periodo\n",
    "- `cat_periodo` entre 2015 y 2019 inclusive. "
   ]
  },
  {
   "cell_type": "code",
   "execution_count": 3,
   "id": "41212987",
   "metadata": {},
   "outputs": [],
   "source": [
    "df = df[df[\"cat_periodo\"] < 2020]"
   ]
  },
  {
   "cell_type": "markdown",
   "id": "6b1dd45e",
   "metadata": {},
   "source": [
    "# Nulos"
   ]
  },
  {
   "cell_type": "code",
   "execution_count": 4,
   "id": "09b89bb1",
   "metadata": {},
   "outputs": [
    {
     "name": "stdout",
     "output_type": "stream",
     "text": [
      "(1802594, 18)\n",
      "(1560678, 18)\n"
     ]
    }
   ],
   "source": [
    "df[\"fec_nac_alu\"] = df[\"fec_nac_alu\"].replace([190001], [np.nan])\n",
    "df[\"anio_ing_carr_ori\"] = df[\"anio_ing_carr_ori\"].replace([9995], [np.nan])\n",
    "df[\"acreditada_carr\"] = df[\"acreditada_carr\"].str.strip().replace([\"\", \"SIN INFORMACION\"], [np.nan, np.nan])\n",
    "df[\"acreditada_inst\"] = df[\"acreditada_inst\"].str.strip().replace([\"\"], [np.nan])\n",
    "print(df.shape)\n",
    "df = df.dropna()\n",
    "print(df.shape)"
   ]
  },
  {
   "cell_type": "markdown",
   "id": "9ef57b81",
   "metadata": {},
   "source": [
    "# Pre procesamiento variables dependientes datos desagregados\n",
    "## Diferencia año ingreso y último año de matrícula"
   ]
  },
  {
   "cell_type": "code",
   "execution_count": 5,
   "id": "689cd718",
   "metadata": {},
   "outputs": [
    {
     "data": {
      "text/html": [
       "<div>\n",
       "<style scoped>\n",
       "    .dataframe tbody tr th:only-of-type {\n",
       "        vertical-align: middle;\n",
       "    }\n",
       "\n",
       "    .dataframe tbody tr th {\n",
       "        vertical-align: top;\n",
       "    }\n",
       "\n",
       "    .dataframe thead th {\n",
       "        text-align: right;\n",
       "    }\n",
       "</style>\n",
       "<table border=\"1\" class=\"dataframe\">\n",
       "  <thead>\n",
       "    <tr style=\"text-align: right;\">\n",
       "      <th></th>\n",
       "      <th>mrun</th>\n",
       "      <th>codigo_unico</th>\n",
       "      <th>cat_periodo</th>\n",
       "      <th>anio_ing_carr_ori</th>\n",
       "      <th>dif_ing_ult_mat</th>\n",
       "    </tr>\n",
       "  </thead>\n",
       "  <tbody>\n",
       "    <tr>\n",
       "      <th>0</th>\n",
       "      <td>19.0</td>\n",
       "      <td>I536S0C39J1V1</td>\n",
       "      <td>2019</td>\n",
       "      <td>2019</td>\n",
       "      <td>0</td>\n",
       "    </tr>\n",
       "    <tr>\n",
       "      <th>1</th>\n",
       "      <td>118.0</td>\n",
       "      <td>I111S14C309J2V1</td>\n",
       "      <td>2015</td>\n",
       "      <td>2015</td>\n",
       "      <td>0</td>\n",
       "    </tr>\n",
       "    <tr>\n",
       "      <th>2</th>\n",
       "      <td>118.0</td>\n",
       "      <td>I221S1C113J2V1</td>\n",
       "      <td>2017</td>\n",
       "      <td>2015</td>\n",
       "      <td>2</td>\n",
       "    </tr>\n",
       "    <tr>\n",
       "      <th>3</th>\n",
       "      <td>196.0</td>\n",
       "      <td>I280S8C380J1V1</td>\n",
       "      <td>2019</td>\n",
       "      <td>2017</td>\n",
       "      <td>2</td>\n",
       "    </tr>\n",
       "    <tr>\n",
       "      <th>4</th>\n",
       "      <td>238.0</td>\n",
       "      <td>I143S15C614J1V1</td>\n",
       "      <td>2017</td>\n",
       "      <td>2016</td>\n",
       "      <td>1</td>\n",
       "    </tr>\n",
       "  </tbody>\n",
       "</table>\n",
       "</div>"
      ],
      "text/plain": [
       "    mrun     codigo_unico  cat_periodo  anio_ing_carr_ori  dif_ing_ult_mat\n",
       "0   19.0    I536S0C39J1V1         2019               2019                0\n",
       "1  118.0  I111S14C309J2V1         2015               2015                0\n",
       "2  118.0   I221S1C113J2V1         2017               2015                2\n",
       "3  196.0   I280S8C380J1V1         2019               2017                2\n",
       "4  238.0  I143S15C614J1V1         2017               2016                1"
      ]
     },
     "execution_count": 5,
     "metadata": {},
     "output_type": "execute_result"
    }
   ],
   "source": [
    "g = df.groupby([\"mrun\", \"codigo_unico\"]).agg({\n",
    "    \"cat_periodo\": \"max\",\n",
    "    \"anio_ing_carr_ori\": \"min\"\n",
    "}).reset_index()\n",
    "g[\"dif_ing_ult_mat\"] = g[\"cat_periodo\"] - g[\"anio_ing_carr_ori\"]\n",
    "g.head()"
   ]
  },
  {
   "cell_type": "code",
   "execution_count": 6,
   "id": "68e53b8f",
   "metadata": {},
   "outputs": [
    {
     "name": "stdout",
     "output_type": "stream",
     "text": [
      "(1560678, 18)\n",
      "(1560678, 19)\n"
     ]
    }
   ],
   "source": [
    "if \"dif_ing_ult_mat\" not in df.columns:\n",
    "    print(df.shape)\n",
    "    df = pd.merge(\n",
    "        df,\n",
    "        g[[\"mrun\", \"codigo_unico\", \"dif_ing_ult_mat\"]],\n",
    "        how=\"left\"\n",
    "    )\n",
    "    print(df.shape)"
   ]
  },
  {
   "cell_type": "code",
   "execution_count": 7,
   "id": "c23451f8",
   "metadata": {},
   "outputs": [
    {
     "data": {
      "text/plain": [
       "2    31.432557\n",
       "1    28.824972\n",
       "0    23.873599\n",
       "3    12.011895\n",
       "4     3.856978\n",
       "Name: dif_ing_ult_mat, dtype: float64"
      ]
     },
     "execution_count": 7,
     "metadata": {},
     "output_type": "execute_result"
    }
   ],
   "source": [
    "df[\"dif_ing_ult_mat\"].value_counts(\"%\") * 100"
   ]
  },
  {
   "cell_type": "markdown",
   "id": "bf2814b1",
   "metadata": {},
   "source": [
    "## Edad"
   ]
  },
  {
   "cell_type": "code",
   "execution_count": 8,
   "id": "f2d9dcef",
   "metadata": {},
   "outputs": [
    {
     "name": "stdout",
     "output_type": "stream",
     "text": [
      "(1560678, 19)\n"
     ]
    },
    {
     "data": {
      "text/plain": [
       "(1560678, 19)"
      ]
     },
     "execution_count": 8,
     "metadata": {},
     "output_type": "execute_result"
    }
   ],
   "source": [
    "# Se pisa año de ingreso por el minimo\n",
    "print(df.shape)\n",
    "df = pd.merge(\n",
    "    df.drop(columns=[\"anio_ing_carr_ori\"]),\n",
    "    g[[\"mrun\", \"codigo_unico\", \"anio_ing_carr_ori\"]],\n",
    "    how=\"left\"\n",
    ")\n",
    "df.shape"
   ]
  },
  {
   "cell_type": "code",
   "execution_count": 9,
   "id": "5c026cf0",
   "metadata": {},
   "outputs": [
    {
     "data": {
      "text/plain": [
       "(1560678, 21)"
      ]
     },
     "execution_count": 9,
     "metadata": {},
     "output_type": "execute_result"
    }
   ],
   "source": [
    "df[\"fecha_n\"] = pd.to_datetime([\n",
    "    date(int(str(d)[:4]), int(str(d)[-2:]), 15)\n",
    "    for d in df[\"fec_nac_alu\"].astype(int)\n",
    "])\n",
    "\n",
    "df[\"Edad\"] = [\n",
    "    date(y, 1, 1).year - fn.year - (\n",
    "        (date(y, 1, 1).month, date(y, 1, 1).day) < (fn.month, fn.day)\n",
    "    )\n",
    "    for fn, y in zip(df[\"fecha_n\"], df[\"anio_ing_carr_ori\"])\n",
    "]\n",
    "df.shape"
   ]
  },
  {
   "cell_type": "markdown",
   "id": "3234efb4",
   "metadata": {},
   "source": [
    "# Registros únicos\n",
    "\n",
    "- Se crea 1 registro por combinación `mrun` - `codigo_unico`."
   ]
  },
  {
   "cell_type": "code",
   "execution_count": 10,
   "id": "1c61ca48",
   "metadata": {},
   "outputs": [
    {
     "data": {
      "text/plain": [
       "(1560678, 17)"
      ]
     },
     "execution_count": 10,
     "metadata": {},
     "output_type": "execute_result"
    }
   ],
   "source": [
    "for c in [\"cat_periodo\", \"anio_ing_carr_ori\", \"fecha_n\", \"fec_nac_alu\"]:\n",
    "    if c in df.columns:\n",
    "        df = df.drop(columns=[c])\n",
    "        \n",
    "df.shape"
   ]
  },
  {
   "cell_type": "code",
   "execution_count": 11,
   "id": "ead5a84f",
   "metadata": {},
   "outputs": [
    {
     "data": {
      "text/plain": [
       "(885787, 17)"
      ]
     },
     "execution_count": 11,
     "metadata": {},
     "output_type": "execute_result"
    }
   ],
   "source": [
    "# Se mantiene el registro donde esté como desertor\n",
    "t = df.sort_values(by=[\"mrun\", \"codigo_unico\", \"desertor_1\"], ascending=[False, False, False]).drop_duplicates(subset=[\"mrun\", \"codigo_unico\"], keep=\"first\").copy()\n",
    "t.shape"
   ]
  },
  {
   "cell_type": "code",
   "execution_count": 12,
   "id": "5e3da4ba",
   "metadata": {},
   "outputs": [],
   "source": [
    "# No debe haber mrun-codigo_unico repetidos\n",
    "assert t[[\"mrun\", \"codigo_unico\"]].value_counts().reset_index()[0].max() == 1"
   ]
  },
  {
   "cell_type": "code",
   "execution_count": 13,
   "id": "68f539bd",
   "metadata": {},
   "outputs": [
    {
     "data": {
      "text/plain": [
       "0    42.063160\n",
       "1    27.811765\n",
       "2    21.017920\n",
       "3     6.998522\n",
       "4     2.108633\n",
       "Name: dif_ing_ult_mat, dtype: float64"
      ]
     },
     "execution_count": 13,
     "metadata": {},
     "output_type": "execute_result"
    }
   ],
   "source": [
    "# Se revisa dif\n",
    "t[\"dif_ing_ult_mat\"].value_counts(\"%\") * 100"
   ]
  },
  {
   "cell_type": "code",
   "execution_count": 14,
   "id": "15e3c54d",
   "metadata": {},
   "outputs": [
    {
     "name": "stdout",
     "output_type": "stream",
     "text": [
      "Desertores\n",
      "0    58.734491\n",
      "1    24.369195\n",
      "2    11.744173\n",
      "3     4.046734\n",
      "4     1.105406\n",
      "Name: dif_ing_ult_mat, dtype: float64\n",
      "\n",
      "No desetores\n",
      "0    36.789593\n",
      "1    28.900738\n",
      "2    23.951442\n",
      "3     7.932248\n",
      "4     2.425980\n",
      "Name: dif_ing_ult_mat, dtype: float64\n"
     ]
    }
   ],
   "source": [
    "print(\"Desertores\")\n",
    "print(t[t[\"desertor_1\"]==1][\"dif_ing_ult_mat\"].value_counts(\"%\") * 100)\n",
    "print(\"\\nNo desetores\")\n",
    "print(t[t[\"desertor_1\"]==0][\"dif_ing_ult_mat\"].value_counts(\"%\") * 100)"
   ]
  },
  {
   "cell_type": "code",
   "execution_count": 15,
   "id": "64f43b35",
   "metadata": {},
   "outputs": [
    {
     "data": {
      "text/plain": [
       "0.0    672924\n",
       "1.0    212863\n",
       "Name: desertor_1, dtype: int64"
      ]
     },
     "execution_count": 15,
     "metadata": {},
     "output_type": "execute_result"
    }
   ],
   "source": [
    "t[\"desertor_1\"].value_counts()"
   ]
  },
  {
   "cell_type": "markdown",
   "id": "119e1145",
   "metadata": {},
   "source": [
    "# Pre procesamiento resto de variables\n",
    "## Tipo enseñanza"
   ]
  },
  {
   "cell_type": "code",
   "execution_count": 16,
   "id": "79bb4e4a",
   "metadata": {},
   "outputs": [
    {
     "data": {
      "text/plain": [
       "(885586, 17)"
      ]
     },
     "execution_count": 16,
     "metadata": {},
     "output_type": "execute_result"
    }
   ],
   "source": [
    "omit_dep = [\n",
    "    'LOS ANDES', 'SANTIAGO ORIENTE', 'VALPARAISO', 'SANTIAGO PONIENTE',\n",
    "    'COLCHAGUA', 'VALPARAÍSO', 'CAUTÍN NORTE', 'ANTOFAGASTA - TOCOPILLA'\n",
    "]\n",
    "\n",
    "t = t[~t[\"dependencia_colegio\"].isin(omit_dep)]\n",
    "t.shape"
   ]
  },
  {
   "cell_type": "code",
   "execution_count": 17,
   "id": "4c4f3585",
   "metadata": {},
   "outputs": [
    {
     "data": {
      "text/plain": [
       "array([3, 2, 1, 6, 5, 4])"
      ]
     },
     "execution_count": 17,
     "metadata": {},
     "output_type": "execute_result"
    }
   ],
   "source": [
    "t[\"dependencia_colegio\"] = t[\"dependencia_colegio\"].astype(int)\n",
    "t[\"dependencia_colegio\"].unique()"
   ]
  },
  {
   "cell_type": "code",
   "execution_count": 18,
   "id": "78ae0483",
   "metadata": {},
   "outputs": [
    {
     "data": {
      "text/plain": [
       "Particular Subvencionado    444148\n",
       "Municipal                   361087\n",
       "Otro                         50947\n",
       "Particular Pagado            29404\n",
       "Name: dependencia_colegio, dtype: int64"
      ]
     },
     "execution_count": 18,
     "metadata": {},
     "output_type": "execute_result"
    }
   ],
   "source": [
    "t[\"dependencia_colegio\"] = t[\"dependencia_colegio\"].map({\n",
    "    1: 'Municipal',\n",
    "    2: 'Municipal',\n",
    "    3: 'Particular Subvencionado',\n",
    "    4: 'Particular Pagado',\n",
    "    5: 'Otro',\n",
    "    6: 'Otro'\n",
    "})\n",
    "t[\"dependencia_colegio\"].value_counts()"
   ]
  },
  {
   "cell_type": "markdown",
   "id": "8aefd802",
   "metadata": {},
   "source": [
    "## Dependencia Colegio"
   ]
  },
  {
   "cell_type": "code",
   "execution_count": 19,
   "id": "526dc747",
   "metadata": {},
   "outputs": [
    {
     "data": {
      "text/plain": [
       "HC               500449\n",
       "TP Comercial     143680\n",
       "TP Industrial    140212\n",
       "TP Tecnica        82524\n",
       "Otro              18721\n",
       "Name: tipo_ensenanza_colegio, dtype: int64"
      ]
     },
     "execution_count": 19,
     "metadata": {},
     "output_type": "execute_result"
    }
   ],
   "source": [
    "t[\"tipo_ensenanza_colegio\"] = t[\"tipo_ensenanza_colegio\"].map({\n",
    "    0: \"no_aplica\",\n",
    "    10: \"Parvularia\",\n",
    "    110: \"Basica\",\n",
    "    160: \"Basica\",\n",
    "    161: \"Basica\",\n",
    "    163: \"Carceles\",\n",
    "    165: \"Basica\",\n",
    "    167: \"Basica\",\n",
    "    211: \"Especial\",\n",
    "    212: \"Especial\",\n",
    "    213: \"Especial\",\n",
    "    214: \"Especial\",\n",
    "    215: \"Especial\",\n",
    "    216: \"Especial\",\n",
    "    217: \"Especial\",\n",
    "    299: \"PIE\",\n",
    "    310: \"HC\",\n",
    "    360: \"HC\",\n",
    "    361: \"HC\",\n",
    "    362: \"Carceles\",\n",
    "    363: \"HC\",\n",
    "    410: \"TP Comercial\",\n",
    "    460: \"TP Comercial\",\n",
    "    461: \"TP Comercial\",\n",
    "    463: \"TP Comercial\",\n",
    "    510: \"TP Industrial\",\n",
    "    560: \"TP Industrial\",\n",
    "    561: \"TP Industrial\",\n",
    "    563: \"TP Industrial\",\n",
    "    610: \"TP Tecnica\",\n",
    "    660: \"TP Tecnica\",\n",
    "    661: \"TP Tecnica\",\n",
    "    663: \"TP Tecnica\",\n",
    "    710: \"Otro\",\n",
    "    760: \"Otro\",\n",
    "    761: \"Otro\",\n",
    "    763: \"Otro\",\n",
    "    810: \"Otro\",\n",
    "    860: \"Otro\",\n",
    "    863: \"Otro\",\n",
    "    910: \"Otro\",\n",
    "    963: \"Otro\"                     \n",
    "})\n",
    "\n",
    "t[\"tipo_ensenanza_colegio\"].value_counts()"
   ]
  },
  {
   "cell_type": "markdown",
   "id": "c1ea9969",
   "metadata": {},
   "source": [
    "## Región colegio"
   ]
  },
  {
   "cell_type": "code",
   "execution_count": 20,
   "id": "87f4cab4",
   "metadata": {},
   "outputs": [
    {
     "data": {
      "text/plain": [
       "array([13,  7,  2,  6,  9,  5, 10, 16,  4,  1, 14, 15, 12,  8, 11,  3])"
      ]
     },
     "execution_count": 20,
     "metadata": {},
     "output_type": "execute_result"
    }
   ],
   "source": [
    "t[\"region_colegio\"] = t[\"region_colegio\"].astype(int)\n",
    "t[\"region_colegio\"].unique()"
   ]
  },
  {
   "cell_type": "code",
   "execution_count": 21,
   "id": "321269b4",
   "metadata": {},
   "outputs": [
    {
     "data": {
      "text/plain": [
       "Metropolitana             354429\n",
       "Valparaíso                 91111\n",
       "Biobío                     80667\n",
       "Maule                      51746\n",
       "Lib. Gral B. O'Higgins     49053\n",
       "La Araucanía               46539\n",
       "Coquimbo                   40650\n",
       "Los Lagos                  39956\n",
       "Antofagasta                32651\n",
       "Ñuble                      21082\n",
       "Los Ríos                   19441\n",
       "Atacama                    15566\n",
       "Tarapacá                   13626\n",
       "Arica y Parinacota         13157\n",
       "Magallanes                  9534\n",
       "Aysén                       6378\n",
       "Name: region_colegio, dtype: int64"
      ]
     },
     "execution_count": 21,
     "metadata": {},
     "output_type": "execute_result"
    }
   ],
   "source": [
    "t[\"region_colegio\"] = t[\"region_colegio\"].map({\n",
    "    1: \"Tarapacá\",\n",
    "    2: \"Antofagasta\",\n",
    "    3: \"Atacama\",\n",
    "    4: \"Coquimbo\",\n",
    "    5: \"Valparaíso\",\n",
    "    6: \"Lib. Gral B. O'Higgins\",\n",
    "    7: \"Maule\",\n",
    "    8: \"Biobío\",\n",
    "    9: \"La Araucanía\",\n",
    "    10: \"Los Lagos\",\n",
    "    11: \"Aysén\",\n",
    "    12: \"Magallanes\",\n",
    "    13: \"Metropolitana\",\n",
    "    14: \"Los Ríos\",\n",
    "    15: \"Arica y Parinacota\",\n",
    "    16: \"Ñuble\"\n",
    "})\n",
    "t[\"region_colegio\"].value_counts()"
   ]
  },
  {
   "cell_type": "code",
   "execution_count": 24,
   "id": "096ec7c2",
   "metadata": {},
   "outputs": [
    {
     "data": {
      "text/plain": [
       "1    85.803637\n",
       "0    14.196363\n",
       "Name: misma_region, dtype: float64"
      ]
     },
     "execution_count": 24,
     "metadata": {},
     "output_type": "execute_result"
    }
   ],
   "source": [
    "t[\"misma_region\"] = np.where(t[\"region_colegio\"]==t[\"region_sede\"], 1, 0)\n",
    "t[\"misma_region\"].value_counts(\"%\") * 100"
   ]
  },
  {
   "cell_type": "markdown",
   "id": "e8e07f7a",
   "metadata": {},
   "source": [
    "## Genero, desertor y becas"
   ]
  },
  {
   "cell_type": "code",
   "execution_count": 25,
   "id": "f2fc75f2",
   "metadata": {},
   "outputs": [
    {
     "data": {
      "text/plain": [
       "hombre    443210\n",
       "mujer     442376\n",
       "Name: gen_alu, dtype: int64"
      ]
     },
     "execution_count": 25,
     "metadata": {},
     "output_type": "execute_result"
    }
   ],
   "source": [
    "t[\"gen_alu\"] = t[\"gen_alu\"].replace([1, 2], [\"hombre\", \"mujer\"])\n",
    "t[\"desertor_1\"] = t[\"desertor_1\"].astype(int)\n",
    "t[\"cant_becas\"] = t[\"cant_becas\"].astype(int)\n",
    "t[\"gen_alu\"].value_counts()"
   ]
  },
  {
   "cell_type": "markdown",
   "id": "8464134f",
   "metadata": {},
   "source": [
    "# Dummys"
   ]
  },
  {
   "cell_type": "code",
   "execution_count": 26,
   "id": "28a17723",
   "metadata": {},
   "outputs": [
    {
     "name": "stdout",
     "output_type": "stream",
     "text": [
      "<class 'pandas.core.frame.DataFrame'>\n",
      "Int64Index: 885586 entries, 1560677 to 1144184\n",
      "Data columns (total 18 columns):\n",
      " #   Column                  Non-Null Count   Dtype  \n",
      "---  ------                  --------------   -----  \n",
      " 0   codigo_unico            885586 non-null  object \n",
      " 1   mrun                    885586 non-null  float64\n",
      " 2   gen_alu                 885586 non-null  object \n",
      " 3   tipo_inst_1             885586 non-null  object \n",
      " 4   region_sede             885586 non-null  object \n",
      " 5   valor_arancel           885586 non-null  float64\n",
      " 6   area_conocimiento       885586 non-null  object \n",
      " 7   acreditada_carr         885586 non-null  object \n",
      " 8   acreditada_inst         885586 non-null  object \n",
      " 9   desertor_1              885586 non-null  int64  \n",
      " 10  region_colegio          885586 non-null  object \n",
      " 11  tipo_ensenanza_colegio  885586 non-null  object \n",
      " 12  prom_notas_media        885586 non-null  float64\n",
      " 13  dependencia_colegio     885586 non-null  object \n",
      " 14  cant_becas              885586 non-null  int64  \n",
      " 15  dif_ing_ult_mat         885586 non-null  int64  \n",
      " 16  Edad                    885586 non-null  int64  \n",
      " 17  misma_region            885586 non-null  int64  \n",
      "dtypes: float64(3), int64(5), object(10)\n",
      "memory usage: 128.4+ MB\n"
     ]
    }
   ],
   "source": [
    "t.info()"
   ]
  },
  {
   "cell_type": "code",
   "execution_count": 27,
   "id": "2d477639",
   "metadata": {},
   "outputs": [
    {
     "data": {
      "text/html": [
       "<div>\n",
       "<style scoped>\n",
       "    .dataframe tbody tr th:only-of-type {\n",
       "        vertical-align: middle;\n",
       "    }\n",
       "\n",
       "    .dataframe tbody tr th {\n",
       "        vertical-align: top;\n",
       "    }\n",
       "\n",
       "    .dataframe thead th {\n",
       "        text-align: right;\n",
       "    }\n",
       "</style>\n",
       "<table border=\"1\" class=\"dataframe\">\n",
       "  <thead>\n",
       "    <tr style=\"text-align: right;\">\n",
       "      <th></th>\n",
       "      <th>valor_arancel</th>\n",
       "      <th>desertor_1</th>\n",
       "      <th>prom_notas_media</th>\n",
       "      <th>cant_becas</th>\n",
       "      <th>dif_ing_ult_mat</th>\n",
       "      <th>Edad</th>\n",
       "      <th>misma_region</th>\n",
       "      <th>gen_alu_mujer</th>\n",
       "      <th>tipo_inst_1_Institutos Profesionales</th>\n",
       "      <th>region_sede_Arica y Parinacota</th>\n",
       "      <th>...</th>\n",
       "      <th>area_conocimiento_Tecnología</th>\n",
       "      <th>acreditada_carr_NO ACREDITADA</th>\n",
       "      <th>acreditada_inst_NO ACREDITADA</th>\n",
       "      <th>tipo_ensenanza_colegio_Otro</th>\n",
       "      <th>tipo_ensenanza_colegio_TP Comercial</th>\n",
       "      <th>tipo_ensenanza_colegio_TP Industrial</th>\n",
       "      <th>tipo_ensenanza_colegio_TP Tecnica</th>\n",
       "      <th>dependencia_colegio_Otro</th>\n",
       "      <th>dependencia_colegio_Particular Pagado</th>\n",
       "      <th>dependencia_colegio_Particular Subvencionado</th>\n",
       "    </tr>\n",
       "  </thead>\n",
       "  <tbody>\n",
       "    <tr>\n",
       "      <th>1560677</th>\n",
       "      <td>1390000.0</td>\n",
       "      <td>1</td>\n",
       "      <td>6.4</td>\n",
       "      <td>0</td>\n",
       "      <td>0</td>\n",
       "      <td>35</td>\n",
       "      <td>1</td>\n",
       "      <td>1</td>\n",
       "      <td>0</td>\n",
       "      <td>0</td>\n",
       "      <td>...</td>\n",
       "      <td>0</td>\n",
       "      <td>1</td>\n",
       "      <td>0</td>\n",
       "      <td>0</td>\n",
       "      <td>0</td>\n",
       "      <td>0</td>\n",
       "      <td>0</td>\n",
       "      <td>0</td>\n",
       "      <td>0</td>\n",
       "      <td>1</td>\n",
       "    </tr>\n",
       "    <tr>\n",
       "      <th>1560676</th>\n",
       "      <td>1850000.0</td>\n",
       "      <td>1</td>\n",
       "      <td>5.5</td>\n",
       "      <td>1</td>\n",
       "      <td>0</td>\n",
       "      <td>31</td>\n",
       "      <td>1</td>\n",
       "      <td>0</td>\n",
       "      <td>1</td>\n",
       "      <td>0</td>\n",
       "      <td>...</td>\n",
       "      <td>1</td>\n",
       "      <td>0</td>\n",
       "      <td>0</td>\n",
       "      <td>0</td>\n",
       "      <td>0</td>\n",
       "      <td>0</td>\n",
       "      <td>0</td>\n",
       "      <td>0</td>\n",
       "      <td>0</td>\n",
       "      <td>1</td>\n",
       "    </tr>\n",
       "    <tr>\n",
       "      <th>1560675</th>\n",
       "      <td>803000.0</td>\n",
       "      <td>0</td>\n",
       "      <td>4.7</td>\n",
       "      <td>0</td>\n",
       "      <td>0</td>\n",
       "      <td>29</td>\n",
       "      <td>1</td>\n",
       "      <td>0</td>\n",
       "      <td>0</td>\n",
       "      <td>0</td>\n",
       "      <td>...</td>\n",
       "      <td>1</td>\n",
       "      <td>1</td>\n",
       "      <td>1</td>\n",
       "      <td>0</td>\n",
       "      <td>0</td>\n",
       "      <td>0</td>\n",
       "      <td>0</td>\n",
       "      <td>0</td>\n",
       "      <td>0</td>\n",
       "      <td>1</td>\n",
       "    </tr>\n",
       "    <tr>\n",
       "      <th>1560674</th>\n",
       "      <td>1690000.0</td>\n",
       "      <td>0</td>\n",
       "      <td>6.0</td>\n",
       "      <td>0</td>\n",
       "      <td>0</td>\n",
       "      <td>29</td>\n",
       "      <td>1</td>\n",
       "      <td>0</td>\n",
       "      <td>1</td>\n",
       "      <td>0</td>\n",
       "      <td>...</td>\n",
       "      <td>1</td>\n",
       "      <td>1</td>\n",
       "      <td>0</td>\n",
       "      <td>0</td>\n",
       "      <td>0</td>\n",
       "      <td>0</td>\n",
       "      <td>0</td>\n",
       "      <td>0</td>\n",
       "      <td>0</td>\n",
       "      <td>0</td>\n",
       "    </tr>\n",
       "    <tr>\n",
       "      <th>1560673</th>\n",
       "      <td>1480000.0</td>\n",
       "      <td>0</td>\n",
       "      <td>6.4</td>\n",
       "      <td>0</td>\n",
       "      <td>0</td>\n",
       "      <td>16</td>\n",
       "      <td>1</td>\n",
       "      <td>1</td>\n",
       "      <td>1</td>\n",
       "      <td>0</td>\n",
       "      <td>...</td>\n",
       "      <td>0</td>\n",
       "      <td>1</td>\n",
       "      <td>0</td>\n",
       "      <td>0</td>\n",
       "      <td>0</td>\n",
       "      <td>0</td>\n",
       "      <td>0</td>\n",
       "      <td>0</td>\n",
       "      <td>0</td>\n",
       "      <td>1</td>\n",
       "    </tr>\n",
       "  </tbody>\n",
       "</table>\n",
       "<p>5 rows × 42 columns</p>\n",
       "</div>"
      ],
      "text/plain": [
       "         valor_arancel  desertor_1  prom_notas_media  cant_becas  \\\n",
       "1560677      1390000.0           1               6.4           0   \n",
       "1560676      1850000.0           1               5.5           1   \n",
       "1560675       803000.0           0               4.7           0   \n",
       "1560674      1690000.0           0               6.0           0   \n",
       "1560673      1480000.0           0               6.4           0   \n",
       "\n",
       "         dif_ing_ult_mat  Edad  misma_region  gen_alu_mujer  \\\n",
       "1560677                0    35             1              1   \n",
       "1560676                0    31             1              0   \n",
       "1560675                0    29             1              0   \n",
       "1560674                0    29             1              0   \n",
       "1560673                0    16             1              1   \n",
       "\n",
       "         tipo_inst_1_Institutos Profesionales  region_sede_Arica y Parinacota  \\\n",
       "1560677                                     0                               0   \n",
       "1560676                                     1                               0   \n",
       "1560675                                     0                               0   \n",
       "1560674                                     1                               0   \n",
       "1560673                                     1                               0   \n",
       "\n",
       "         ...  area_conocimiento_Tecnología  acreditada_carr_NO ACREDITADA  \\\n",
       "1560677  ...                             0                              1   \n",
       "1560676  ...                             1                              0   \n",
       "1560675  ...                             1                              1   \n",
       "1560674  ...                             1                              1   \n",
       "1560673  ...                             0                              1   \n",
       "\n",
       "         acreditada_inst_NO ACREDITADA  tipo_ensenanza_colegio_Otro  \\\n",
       "1560677                              0                            0   \n",
       "1560676                              0                            0   \n",
       "1560675                              1                            0   \n",
       "1560674                              0                            0   \n",
       "1560673                              0                            0   \n",
       "\n",
       "         tipo_ensenanza_colegio_TP Comercial  \\\n",
       "1560677                                    0   \n",
       "1560676                                    0   \n",
       "1560675                                    0   \n",
       "1560674                                    0   \n",
       "1560673                                    0   \n",
       "\n",
       "         tipo_ensenanza_colegio_TP Industrial  \\\n",
       "1560677                                     0   \n",
       "1560676                                     0   \n",
       "1560675                                     0   \n",
       "1560674                                     0   \n",
       "1560673                                     0   \n",
       "\n",
       "         tipo_ensenanza_colegio_TP Tecnica  dependencia_colegio_Otro  \\\n",
       "1560677                                  0                         0   \n",
       "1560676                                  0                         0   \n",
       "1560675                                  0                         0   \n",
       "1560674                                  0                         0   \n",
       "1560673                                  0                         0   \n",
       "\n",
       "         dependencia_colegio_Particular Pagado  \\\n",
       "1560677                                      0   \n",
       "1560676                                      0   \n",
       "1560675                                      0   \n",
       "1560674                                      0   \n",
       "1560673                                      0   \n",
       "\n",
       "         dependencia_colegio_Particular Subvencionado  \n",
       "1560677                                             1  \n",
       "1560676                                             1  \n",
       "1560675                                             1  \n",
       "1560674                                             0  \n",
       "1560673                                             1  \n",
       "\n",
       "[5 rows x 42 columns]"
      ]
     },
     "execution_count": 27,
     "metadata": {},
     "output_type": "execute_result"
    }
   ],
   "source": [
    "dummy = pd.get_dummies(t.drop(columns=[\"codigo_unico\", \"mrun\", \"region_colegio\"]), drop_first=True)\n",
    "dummy.head()"
   ]
  },
  {
   "cell_type": "code",
   "execution_count": 28,
   "id": "b807cb00",
   "metadata": {},
   "outputs": [
    {
     "data": {
      "text/plain": [
       "Index(['valor_arancel', 'desertor_1', 'prom_notas_media', 'cant_becas',\n",
       "       'dif_ing_ult_mat', 'edad', 'misma_region', 'gen_alu_mujer',\n",
       "       'tipo_inst_1_institutos_profesionales',\n",
       "       'region_sede_arica_y_parinacota', 'region_sede_atacama',\n",
       "       'region_sede_aysen', 'region_sede_biobio', 'region_sede_coquimbo',\n",
       "       'region_sede_la_araucania', 'region_sede_lib_gral_b_ohiggins',\n",
       "       'region_sede_los_lagos', 'region_sede_los_rios',\n",
       "       'region_sede_magallanes', 'region_sede_maule',\n",
       "       'region_sede_metropolitana', 'region_sede_tarapaca',\n",
       "       'region_sede_valparaiso', 'region_sede_nuble',\n",
       "       'area_conocimiento_agropecuaria',\n",
       "       'area_conocimiento_arte_y_arquitectura',\n",
       "       'area_conocimiento_ciencias_basicas',\n",
       "       'area_conocimiento_ciencias_sociales', 'area_conocimiento_derecho',\n",
       "       'area_conocimiento_educacion', 'area_conocimiento_humanidades',\n",
       "       'area_conocimiento_salud', 'area_conocimiento_tecnologia',\n",
       "       'acreditada_carr_no_acreditada', 'acreditada_inst_no_acreditada',\n",
       "       'tipo_ensenanza_colegio_otro', 'tipo_ensenanza_colegio_tp_comercial',\n",
       "       'tipo_ensenanza_colegio_tp_industrial',\n",
       "       'tipo_ensenanza_colegio_tp_tecnica', 'dependencia_colegio_otro',\n",
       "       'dependencia_colegio_particular_pagado',\n",
       "       'dependencia_colegio_particular_subvencionado'],\n",
       "      dtype='object')"
      ]
     },
     "execution_count": 28,
     "metadata": {},
     "output_type": "execute_result"
    }
   ],
   "source": [
    "dummy.columns = [\n",
    "    unidecode(c.replace(\" \", \"_\").replace(\".\", \"\").replace(\"'\", \"\").lower())\n",
    "    for c in dummy.columns\n",
    "]\n",
    "\n",
    "dummy.columns"
   ]
  },
  {
   "cell_type": "code",
   "execution_count": 29,
   "id": "4672c720",
   "metadata": {},
   "outputs": [],
   "source": [
    "dummy.to_csv(f\"{BASE}work_data/matriz_desercion_2_dummy.csv.gz\", index=False, compression=\"gzip\")"
   ]
  },
  {
   "cell_type": "code",
   "execution_count": null,
   "id": "4498fd3f",
   "metadata": {},
   "outputs": [],
   "source": []
  }
 ],
 "metadata": {
  "kernelspec": {
   "display_name": "Python 3 (ipykernel)",
   "language": "python",
   "name": "python3"
  },
  "language_info": {
   "codemirror_mode": {
    "name": "ipython",
    "version": 3
   },
   "file_extension": ".py",
   "mimetype": "text/x-python",
   "name": "python",
   "nbconvert_exporter": "python",
   "pygments_lexer": "ipython3",
   "version": "3.9.12"
  }
 },
 "nbformat": 4,
 "nbformat_minor": 5
}
