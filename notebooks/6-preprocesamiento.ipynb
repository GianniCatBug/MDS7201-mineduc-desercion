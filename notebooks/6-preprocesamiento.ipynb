{
 "cells": [
  {
   "cell_type": "code",
   "execution_count": 1,
   "id": "72e872ab",
   "metadata": {},
   "outputs": [],
   "source": [
    "import pandas as pd\n",
    "import numpy as np\n",
    "import seaborn as sns\n",
    "from datetime import date\n",
    "from unidecode import unidecode\n",
    "from tqdm.notebook import tqdm\n",
    "from glob import glob\n",
    "\n",
    "BASE = \"/media/giani/Gianicosas/Magister/Proyecto/\""
   ]
  },
  {
   "cell_type": "markdown",
   "id": "de06dccf",
   "metadata": {},
   "source": [
    "# Nuevos atributos\n",
    "\n",
    "A los anteriores, se agrega sub tipo de institución: \n",
    "- CFT: Estatal / Privado\n",
    "- IP: Presencia nacional / Privado"
   ]
  },
  {
   "cell_type": "markdown",
   "id": "1fb52849",
   "metadata": {},
   "source": [
    "# Raw data"
   ]
  },
  {
   "cell_type": "code",
   "execution_count": 2,
   "id": "957d32f5",
   "metadata": {},
   "outputs": [
    {
     "name": "stderr",
     "output_type": "stream",
     "text": [
      "/tmp/ipykernel_7503/621277867.py:1: DtypeWarning: Columns (17,20) have mixed types. Specify dtype option on import or set low_memory=False.\n",
      "  df = pd.read_csv(f\"{BASE}work_data/matriz_desercion_4.csv.gz\")\n"
     ]
    },
    {
     "name": "stdout",
     "output_type": "stream",
     "text": [
      "Index(['cat_periodo', 'codigo_unico', 'mrun', 'gen_alu', 'fec_nac_alu',\n",
      "       'anio_ing_carr_ori', 'tipo_inst_1', 'jornada', 'dur_estudio_carr',\n",
      "       'dur_proceso_tit', 'region_sede', 'formato_valores', 'valor_arancel',\n",
      "       'area_conocimiento', 'acreditada_carr', 'acreditada_inst', 'desertor_1',\n",
      "       'region_colegio', 'tipo_ensenanza_colegio', 'prom_notas_media',\n",
      "       'dependencia_colegio', 'fscu', 'gratuidad', 'beca'],\n",
      "      dtype='object')\n"
     ]
    },
    {
     "data": {
      "text/html": [
       "<div>\n",
       "<style scoped>\n",
       "    .dataframe tbody tr th:only-of-type {\n",
       "        vertical-align: middle;\n",
       "    }\n",
       "\n",
       "    .dataframe tbody tr th {\n",
       "        vertical-align: top;\n",
       "    }\n",
       "\n",
       "    .dataframe thead th {\n",
       "        text-align: right;\n",
       "    }\n",
       "</style>\n",
       "<table border=\"1\" class=\"dataframe\">\n",
       "  <thead>\n",
       "    <tr style=\"text-align: right;\">\n",
       "      <th></th>\n",
       "      <th>cat_periodo</th>\n",
       "      <th>codigo_unico</th>\n",
       "      <th>mrun</th>\n",
       "      <th>gen_alu</th>\n",
       "      <th>fec_nac_alu</th>\n",
       "      <th>anio_ing_carr_ori</th>\n",
       "      <th>tipo_inst_1</th>\n",
       "      <th>jornada</th>\n",
       "      <th>dur_estudio_carr</th>\n",
       "      <th>dur_proceso_tit</th>\n",
       "      <th>...</th>\n",
       "      <th>acreditada_carr</th>\n",
       "      <th>acreditada_inst</th>\n",
       "      <th>desertor_1</th>\n",
       "      <th>region_colegio</th>\n",
       "      <th>tipo_ensenanza_colegio</th>\n",
       "      <th>prom_notas_media</th>\n",
       "      <th>dependencia_colegio</th>\n",
       "      <th>fscu</th>\n",
       "      <th>gratuidad</th>\n",
       "      <th>beca</th>\n",
       "    </tr>\n",
       "  </thead>\n",
       "  <tbody>\n",
       "    <tr>\n",
       "      <th>0</th>\n",
       "      <td>2015</td>\n",
       "      <td>I498S6C132J2V1</td>\n",
       "      <td>37.0</td>\n",
       "      <td>1</td>\n",
       "      <td>197808</td>\n",
       "      <td>2015</td>\n",
       "      <td>Centros de Formación Técnica</td>\n",
       "      <td>Vespertino</td>\n",
       "      <td>5</td>\n",
       "      <td>1.0</td>\n",
       "      <td>...</td>\n",
       "      <td>NO ACREDITADA</td>\n",
       "      <td>ACREDITADA</td>\n",
       "      <td>0.0</td>\n",
       "      <td>NaN</td>\n",
       "      <td>NaN</td>\n",
       "      <td>NaN</td>\n",
       "      <td>NaN</td>\n",
       "      <td>0.0</td>\n",
       "      <td>0.0</td>\n",
       "      <td>0.0</td>\n",
       "    </tr>\n",
       "    <tr>\n",
       "      <th>1</th>\n",
       "      <td>2015</td>\n",
       "      <td>I111S14C309J2V1</td>\n",
       "      <td>118.0</td>\n",
       "      <td>1</td>\n",
       "      <td>199102</td>\n",
       "      <td>2015</td>\n",
       "      <td>Institutos Profesionales</td>\n",
       "      <td>Vespertino</td>\n",
       "      <td>5</td>\n",
       "      <td>1.0</td>\n",
       "      <td>...</td>\n",
       "      <td>ACREDITADA</td>\n",
       "      <td>ACREDITADA</td>\n",
       "      <td>0.0</td>\n",
       "      <td>13</td>\n",
       "      <td>310.0</td>\n",
       "      <td>4.975</td>\n",
       "      <td>3.0</td>\n",
       "      <td>0.0</td>\n",
       "      <td>0.0</td>\n",
       "      <td>0.0</td>\n",
       "    </tr>\n",
       "    <tr>\n",
       "      <th>2</th>\n",
       "      <td>2015</td>\n",
       "      <td>I106S3C64J4V1</td>\n",
       "      <td>253.0</td>\n",
       "      <td>1</td>\n",
       "      <td>198404</td>\n",
       "      <td>2015</td>\n",
       "      <td>Institutos Profesionales</td>\n",
       "      <td>A Distancia</td>\n",
       "      <td>5</td>\n",
       "      <td>1.0</td>\n",
       "      <td>...</td>\n",
       "      <td>NO ACREDITADA</td>\n",
       "      <td>NO ACREDITADA</td>\n",
       "      <td>1.0</td>\n",
       "      <td>NaN</td>\n",
       "      <td>NaN</td>\n",
       "      <td>NaN</td>\n",
       "      <td>NaN</td>\n",
       "      <td>0.0</td>\n",
       "      <td>0.0</td>\n",
       "      <td>0.0</td>\n",
       "    </tr>\n",
       "    <tr>\n",
       "      <th>3</th>\n",
       "      <td>2015</td>\n",
       "      <td>I221S1C57J1V1</td>\n",
       "      <td>370.0</td>\n",
       "      <td>2</td>\n",
       "      <td>198910</td>\n",
       "      <td>2015</td>\n",
       "      <td>Centros de Formación Técnica</td>\n",
       "      <td>Diurno</td>\n",
       "      <td>5</td>\n",
       "      <td>1.0</td>\n",
       "      <td>...</td>\n",
       "      <td>ACREDITADA</td>\n",
       "      <td>ACREDITADA</td>\n",
       "      <td>1.0</td>\n",
       "      <td>13</td>\n",
       "      <td>310.0</td>\n",
       "      <td>5.100</td>\n",
       "      <td>3.0</td>\n",
       "      <td>0.0</td>\n",
       "      <td>0.0</td>\n",
       "      <td>1.0</td>\n",
       "    </tr>\n",
       "    <tr>\n",
       "      <th>4</th>\n",
       "      <td>2015</td>\n",
       "      <td>I176S8C59J2V1</td>\n",
       "      <td>533.0</td>\n",
       "      <td>2</td>\n",
       "      <td>198309</td>\n",
       "      <td>2015</td>\n",
       "      <td>Institutos Profesionales</td>\n",
       "      <td>Vespertino</td>\n",
       "      <td>5</td>\n",
       "      <td>1.0</td>\n",
       "      <td>...</td>\n",
       "      <td>ACREDITADA</td>\n",
       "      <td>NO ACREDITADA</td>\n",
       "      <td>0.0</td>\n",
       "      <td>4</td>\n",
       "      <td>510.0</td>\n",
       "      <td>5.200</td>\n",
       "      <td>2.0</td>\n",
       "      <td>0.0</td>\n",
       "      <td>0.0</td>\n",
       "      <td>0.0</td>\n",
       "    </tr>\n",
       "  </tbody>\n",
       "</table>\n",
       "<p>5 rows × 24 columns</p>\n",
       "</div>"
      ],
      "text/plain": [
       "   cat_periodo     codigo_unico   mrun  gen_alu  fec_nac_alu  \\\n",
       "0         2015   I498S6C132J2V1   37.0        1       197808   \n",
       "1         2015  I111S14C309J2V1  118.0        1       199102   \n",
       "2         2015    I106S3C64J4V1  253.0        1       198404   \n",
       "3         2015    I221S1C57J1V1  370.0        2       198910   \n",
       "4         2015    I176S8C59J2V1  533.0        2       198309   \n",
       "\n",
       "   anio_ing_carr_ori                   tipo_inst_1      jornada  \\\n",
       "0               2015  Centros de Formación Técnica   Vespertino   \n",
       "1               2015      Institutos Profesionales   Vespertino   \n",
       "2               2015      Institutos Profesionales  A Distancia   \n",
       "3               2015  Centros de Formación Técnica       Diurno   \n",
       "4               2015      Institutos Profesionales   Vespertino   \n",
       "\n",
       "   dur_estudio_carr  dur_proceso_tit  ... acreditada_carr acreditada_inst  \\\n",
       "0                 5              1.0  ...   NO ACREDITADA      ACREDITADA   \n",
       "1                 5              1.0  ...      ACREDITADA      ACREDITADA   \n",
       "2                 5              1.0  ...   NO ACREDITADA   NO ACREDITADA   \n",
       "3                 5              1.0  ...      ACREDITADA      ACREDITADA   \n",
       "4                 5              1.0  ...      ACREDITADA   NO ACREDITADA   \n",
       "\n",
       "   desertor_1 region_colegio tipo_ensenanza_colegio prom_notas_media  \\\n",
       "0         0.0            NaN                    NaN              NaN   \n",
       "1         0.0             13                  310.0            4.975   \n",
       "2         1.0            NaN                    NaN              NaN   \n",
       "3         1.0             13                  310.0            5.100   \n",
       "4         0.0              4                  510.0            5.200   \n",
       "\n",
       "   dependencia_colegio fscu  gratuidad  beca  \n",
       "0                  NaN  0.0        0.0   0.0  \n",
       "1                  3.0  0.0        0.0   0.0  \n",
       "2                  NaN  0.0        0.0   0.0  \n",
       "3                  3.0  0.0        0.0   1.0  \n",
       "4                  2.0  0.0        0.0   0.0  \n",
       "\n",
       "[5 rows x 24 columns]"
      ]
     },
     "execution_count": 2,
     "metadata": {},
     "output_type": "execute_result"
    }
   ],
   "source": [
    "df = pd.read_csv(f\"{BASE}work_data/matriz_desercion_4.csv.gz\")\n",
    "print(df.columns)\n",
    "df.head()"
   ]
  },
  {
   "cell_type": "markdown",
   "id": "0b38cb83",
   "metadata": {},
   "source": [
    "## Selección periodo\n",
    "- `cat_periodo` entre 2015 y 2019 inclusive. "
   ]
  },
  {
   "cell_type": "code",
   "execution_count": 3,
   "id": "41212987",
   "metadata": {},
   "outputs": [],
   "source": [
    "df = df[df[\"cat_periodo\"] < 2020]"
   ]
  },
  {
   "cell_type": "code",
   "execution_count": 4,
   "id": "fe0d78d8",
   "metadata": {},
   "outputs": [
    {
     "data": {
      "text/plain": [
       "(1797138, 2)"
      ]
     },
     "execution_count": 4,
     "metadata": {},
     "output_type": "execute_result"
    }
   ],
   "source": [
    "df_mrun = df[[\"cat_periodo\", \"mrun\"]].drop_duplicates()\n",
    "df_mrun.shape"
   ]
  },
  {
   "cell_type": "code",
   "execution_count": 5,
   "id": "51184589",
   "metadata": {},
   "outputs": [],
   "source": [
    "df_mrun.to_csv(f\"{BASE}work_data/mrun_anio.csv\", index=False)"
   ]
  },
  {
   "cell_type": "markdown",
   "id": "6b1dd45e",
   "metadata": {},
   "source": [
    "# Nulos"
   ]
  },
  {
   "cell_type": "code",
   "execution_count": 6,
   "id": "09b89bb1",
   "metadata": {},
   "outputs": [
    {
     "name": "stdout",
     "output_type": "stream",
     "text": [
      "(1802577, 24)\n",
      "(1560671, 24)\n"
     ]
    }
   ],
   "source": [
    "df[\"fec_nac_alu\"] = df[\"fec_nac_alu\"].replace([190001], [np.nan])\n",
    "df[\"anio_ing_carr_ori\"] = df[\"anio_ing_carr_ori\"].replace([9995], [np.nan])\n",
    "df[\"acreditada_carr\"] = df[\"acreditada_carr\"].str.strip().replace([\"\", \"SIN INFORMACION\"], [np.nan, np.nan])\n",
    "df[\"acreditada_inst\"] = df[\"acreditada_inst\"].str.strip().replace([\"\"], [np.nan])\n",
    "print(df.shape)\n",
    "df = df.dropna()\n",
    "print(df.shape)"
   ]
  },
  {
   "cell_type": "markdown",
   "id": "9ef57b81",
   "metadata": {},
   "source": [
    "# Pre procesamiento variables dependientes datos desagregados\n",
    "## Diferencia año ingreso y último año de matrícula"
   ]
  },
  {
   "cell_type": "code",
   "execution_count": 7,
   "id": "689cd718",
   "metadata": {},
   "outputs": [
    {
     "data": {
      "text/html": [
       "<div>\n",
       "<style scoped>\n",
       "    .dataframe tbody tr th:only-of-type {\n",
       "        vertical-align: middle;\n",
       "    }\n",
       "\n",
       "    .dataframe tbody tr th {\n",
       "        vertical-align: top;\n",
       "    }\n",
       "\n",
       "    .dataframe thead th {\n",
       "        text-align: right;\n",
       "    }\n",
       "</style>\n",
       "<table border=\"1\" class=\"dataframe\">\n",
       "  <thead>\n",
       "    <tr style=\"text-align: right;\">\n",
       "      <th></th>\n",
       "      <th>mrun</th>\n",
       "      <th>codigo_unico</th>\n",
       "      <th>cat_periodo</th>\n",
       "      <th>anio_ing_carr_ori</th>\n",
       "      <th>dif_ing_ult_mat</th>\n",
       "    </tr>\n",
       "  </thead>\n",
       "  <tbody>\n",
       "    <tr>\n",
       "      <th>0</th>\n",
       "      <td>19.0</td>\n",
       "      <td>I536S0C39J1V1</td>\n",
       "      <td>2019</td>\n",
       "      <td>2019</td>\n",
       "      <td>0</td>\n",
       "    </tr>\n",
       "    <tr>\n",
       "      <th>1</th>\n",
       "      <td>118.0</td>\n",
       "      <td>I111S14C309J2V1</td>\n",
       "      <td>2015</td>\n",
       "      <td>2015</td>\n",
       "      <td>0</td>\n",
       "    </tr>\n",
       "    <tr>\n",
       "      <th>2</th>\n",
       "      <td>118.0</td>\n",
       "      <td>I221S1C113J2V1</td>\n",
       "      <td>2017</td>\n",
       "      <td>2015</td>\n",
       "      <td>2</td>\n",
       "    </tr>\n",
       "    <tr>\n",
       "      <th>3</th>\n",
       "      <td>196.0</td>\n",
       "      <td>I280S8C380J1V1</td>\n",
       "      <td>2019</td>\n",
       "      <td>2017</td>\n",
       "      <td>2</td>\n",
       "    </tr>\n",
       "    <tr>\n",
       "      <th>4</th>\n",
       "      <td>238.0</td>\n",
       "      <td>I143S15C614J1V1</td>\n",
       "      <td>2017</td>\n",
       "      <td>2016</td>\n",
       "      <td>1</td>\n",
       "    </tr>\n",
       "  </tbody>\n",
       "</table>\n",
       "</div>"
      ],
      "text/plain": [
       "    mrun     codigo_unico  cat_periodo  anio_ing_carr_ori  dif_ing_ult_mat\n",
       "0   19.0    I536S0C39J1V1         2019               2019                0\n",
       "1  118.0  I111S14C309J2V1         2015               2015                0\n",
       "2  118.0   I221S1C113J2V1         2017               2015                2\n",
       "3  196.0   I280S8C380J1V1         2019               2017                2\n",
       "4  238.0  I143S15C614J1V1         2017               2016                1"
      ]
     },
     "execution_count": 7,
     "metadata": {},
     "output_type": "execute_result"
    }
   ],
   "source": [
    "g = df.groupby([\"mrun\", \"codigo_unico\"]).agg({\n",
    "    \"cat_periodo\": \"max\",\n",
    "    \"anio_ing_carr_ori\": \"min\"\n",
    "}).reset_index()\n",
    "g[\"dif_ing_ult_mat\"] = g[\"cat_periodo\"] - g[\"anio_ing_carr_ori\"]\n",
    "g.head()"
   ]
  },
  {
   "cell_type": "code",
   "execution_count": 8,
   "id": "68e53b8f",
   "metadata": {},
   "outputs": [
    {
     "name": "stdout",
     "output_type": "stream",
     "text": [
      "(1560671, 24)\n",
      "(1560671, 25)\n"
     ]
    }
   ],
   "source": [
    "if \"dif_ing_ult_mat\" not in df.columns:\n",
    "    print(df.shape)\n",
    "    df = pd.merge(\n",
    "        df,\n",
    "        g[[\"mrun\", \"codigo_unico\", \"dif_ing_ult_mat\"]],\n",
    "        how=\"left\"\n",
    "    )\n",
    "    print(df.shape)"
   ]
  },
  {
   "cell_type": "code",
   "execution_count": 9,
   "id": "c23451f8",
   "metadata": {},
   "outputs": [
    {
     "data": {
      "text/plain": [
       "2    31.432698\n",
       "1    28.825102\n",
       "0    23.873257\n",
       "3    12.011949\n",
       "4     3.856995\n",
       "Name: dif_ing_ult_mat, dtype: float64"
      ]
     },
     "execution_count": 9,
     "metadata": {},
     "output_type": "execute_result"
    }
   ],
   "source": [
    "df[\"dif_ing_ult_mat\"].value_counts(\"%\") * 100"
   ]
  },
  {
   "cell_type": "markdown",
   "id": "bf2814b1",
   "metadata": {},
   "source": [
    "## Edad"
   ]
  },
  {
   "cell_type": "code",
   "execution_count": 10,
   "id": "f2d9dcef",
   "metadata": {},
   "outputs": [
    {
     "name": "stdout",
     "output_type": "stream",
     "text": [
      "(1560671, 25)\n"
     ]
    },
    {
     "data": {
      "text/plain": [
       "(1560671, 25)"
      ]
     },
     "execution_count": 10,
     "metadata": {},
     "output_type": "execute_result"
    }
   ],
   "source": [
    "# Se pisa año de ingreso por el minimo\n",
    "print(df.shape)\n",
    "df = pd.merge(\n",
    "    df.drop(columns=[\"anio_ing_carr_ori\"]),\n",
    "    g[[\"mrun\", \"codigo_unico\", \"anio_ing_carr_ori\"]],\n",
    "    how=\"left\"\n",
    ")\n",
    "df.shape"
   ]
  },
  {
   "cell_type": "code",
   "execution_count": 11,
   "id": "5c026cf0",
   "metadata": {},
   "outputs": [
    {
     "data": {
      "text/plain": [
       "(1560671, 27)"
      ]
     },
     "execution_count": 11,
     "metadata": {},
     "output_type": "execute_result"
    }
   ],
   "source": [
    "df[\"fecha_n\"] = pd.to_datetime([\n",
    "    date(int(str(d)[:4]), int(str(d)[-2:]), 15)\n",
    "    for d in df[\"fec_nac_alu\"].astype(int)\n",
    "])\n",
    "\n",
    "df[\"Edad\"] = [\n",
    "    date(y, 1, 1).year - fn.year - (\n",
    "        (date(y, 1, 1).month, date(y, 1, 1).day) < (fn.month, fn.day)\n",
    "    )\n",
    "    for fn, y in zip(df[\"fecha_n\"], df[\"anio_ing_carr_ori\"])\n",
    "]\n",
    "df.shape"
   ]
  },
  {
   "cell_type": "markdown",
   "id": "ddbf6412",
   "metadata": {},
   "source": [
    "### Valor arancel"
   ]
  },
  {
   "cell_type": "code",
   "execution_count": 12,
   "id": "9be6da96",
   "metadata": {},
   "outputs": [],
   "source": [
    "valores_uf_dic_anio_anterior = {\n",
    "    2014: 24627.10,\n",
    "    2015: 25629.09,\n",
    "    2016: 26347.98,\n",
    "    2017: 26798.14,\n",
    "    2018: 27565.79,\n",
    "}"
   ]
  },
  {
   "cell_type": "code",
   "execution_count": 13,
   "id": "8858e5eb",
   "metadata": {},
   "outputs": [],
   "source": [
    "df[\"valor_arancel\"] = [\n",
    "    int(\n",
    "        valores_uf_dic_anio_anterior[a] * va\n",
    "    ) if fv == \"Monto en UF\" else va\n",
    "    for a, fv, va in zip(\n",
    "        df[\"cat_periodo\"], df[\"formato_valores\"], df[\"valor_arancel\"]\n",
    "    )\n",
    "]"
   ]
  },
  {
   "cell_type": "code",
   "execution_count": 14,
   "id": "57f43ec5",
   "metadata": {},
   "outputs": [
    {
     "name": "stdout",
     "output_type": "stream",
     "text": [
      "(1560671, 27)\n",
      "(1560671, 27)\n"
     ]
    }
   ],
   "source": [
    "g = df.groupby([\"mrun\", \"codigo_unico\"]).agg({\n",
    "    \"valor_arancel\": \"mean\",\n",
    "}).reset_index()\n",
    "\n",
    "print(df.shape)\n",
    "df = pd.merge(\n",
    "    df.drop(columns=[\"valor_arancel\"]),\n",
    "    g[[\"mrun\", \"codigo_unico\", \"valor_arancel\"]],\n",
    "    how=\"left\"\n",
    ")\n",
    "print(df.shape)"
   ]
  },
  {
   "cell_type": "markdown",
   "id": "3234efb4",
   "metadata": {},
   "source": [
    "# Registros únicos\n",
    "\n",
    "- Se crea 1 registro por combinación `mrun` - `codigo_unico`."
   ]
  },
  {
   "cell_type": "code",
   "execution_count": 15,
   "id": "1c61ca48",
   "metadata": {},
   "outputs": [
    {
     "data": {
      "text/plain": [
       "(1560671, 23)"
      ]
     },
     "execution_count": 15,
     "metadata": {},
     "output_type": "execute_result"
    }
   ],
   "source": [
    "for c in [\"cat_periodo\", \"anio_ing_carr_ori\", \"fecha_n\", \"fec_nac_alu\"]:\n",
    "    if c in df.columns:\n",
    "        df = df.drop(columns=[c])\n",
    "        \n",
    "df.shape"
   ]
  },
  {
   "cell_type": "code",
   "execution_count": 16,
   "id": "ead5a84f",
   "metadata": {},
   "outputs": [
    {
     "data": {
      "text/plain": [
       "(885780, 23)"
      ]
     },
     "execution_count": 16,
     "metadata": {},
     "output_type": "execute_result"
    }
   ],
   "source": [
    "# Se mantiene el registro donde esté como desertor\n",
    "t = df.drop_duplicates().sort_values(by=[\"mrun\", \"codigo_unico\", \"desertor_1\"], ascending=[False, False, False]).drop_duplicates(subset=[\"mrun\", \"codigo_unico\"], keep=\"first\").copy()\n",
    "t.shape"
   ]
  },
  {
   "cell_type": "code",
   "execution_count": 17,
   "id": "5e3da4ba",
   "metadata": {},
   "outputs": [],
   "source": [
    "# No debe haber mrun-codigo_unico repetidos\n",
    "assert t[[\"mrun\", \"codigo_unico\"]].value_counts().reset_index()[0].max() == 1"
   ]
  },
  {
   "cell_type": "code",
   "execution_count": 18,
   "id": "68f539bd",
   "metadata": {},
   "outputs": [
    {
     "data": {
      "text/plain": [
       "0    42.062702\n",
       "1    27.811985\n",
       "2    21.018086\n",
       "3     6.998578\n",
       "4     2.108650\n",
       "Name: dif_ing_ult_mat, dtype: float64"
      ]
     },
     "execution_count": 18,
     "metadata": {},
     "output_type": "execute_result"
    }
   ],
   "source": [
    "# Se revisa dif\n",
    "t[\"dif_ing_ult_mat\"].value_counts(\"%\") * 100"
   ]
  },
  {
   "cell_type": "code",
   "execution_count": 19,
   "id": "15e3c54d",
   "metadata": {},
   "outputs": [
    {
     "name": "stdout",
     "output_type": "stream",
     "text": [
      "Desertores\n",
      "0    58.733522\n",
      "1    24.369768\n",
      "2    11.744449\n",
      "3     4.046829\n",
      "4     1.105432\n",
      "Name: dif_ing_ult_mat, dtype: float64\n",
      "\n",
      "No desetores\n",
      "0    36.789405\n",
      "1    28.900824\n",
      "2    23.951513\n",
      "3     7.932271\n",
      "4     2.425987\n",
      "Name: dif_ing_ult_mat, dtype: float64\n"
     ]
    }
   ],
   "source": [
    "print(\"Desertores\")\n",
    "print(t[t[\"desertor_1\"]==1][\"dif_ing_ult_mat\"].value_counts(\"%\") * 100)\n",
    "print(\"\\nNo desetores\")\n",
    "print(t[t[\"desertor_1\"]==0][\"dif_ing_ult_mat\"].value_counts(\"%\") * 100)"
   ]
  },
  {
   "cell_type": "code",
   "execution_count": 20,
   "id": "64f43b35",
   "metadata": {},
   "outputs": [
    {
     "data": {
      "text/plain": [
       "0.0    672922\n",
       "1.0    212858\n",
       "Name: desertor_1, dtype: int64"
      ]
     },
     "execution_count": 20,
     "metadata": {},
     "output_type": "execute_result"
    }
   ],
   "source": [
    "t[\"desertor_1\"].value_counts()"
   ]
  },
  {
   "cell_type": "markdown",
   "id": "119e1145",
   "metadata": {},
   "source": [
    "# Pre procesamiento resto de variables\n",
    "## Tipo enseñanza"
   ]
  },
  {
   "cell_type": "code",
   "execution_count": 21,
   "id": "79bb4e4a",
   "metadata": {},
   "outputs": [
    {
     "data": {
      "text/plain": [
       "(885579, 23)"
      ]
     },
     "execution_count": 21,
     "metadata": {},
     "output_type": "execute_result"
    }
   ],
   "source": [
    "omit_dep = [\n",
    "    'LOS ANDES', 'SANTIAGO ORIENTE', 'VALPARAISO', 'SANTIAGO PONIENTE',\n",
    "    'COLCHAGUA', 'VALPARAÍSO', 'CAUTÍN NORTE', 'ANTOFAGASTA - TOCOPILLA'\n",
    "]\n",
    "\n",
    "t = t[~t[\"dependencia_colegio\"].isin(omit_dep)]\n",
    "t.shape"
   ]
  },
  {
   "cell_type": "code",
   "execution_count": 22,
   "id": "4c4f3585",
   "metadata": {},
   "outputs": [
    {
     "data": {
      "text/plain": [
       "array([3, 2, 1, 6, 5, 4])"
      ]
     },
     "execution_count": 22,
     "metadata": {},
     "output_type": "execute_result"
    }
   ],
   "source": [
    "t[\"dependencia_colegio\"] = t[\"dependencia_colegio\"].astype(int)\n",
    "t[\"dependencia_colegio\"].unique()"
   ]
  },
  {
   "cell_type": "code",
   "execution_count": 23,
   "id": "78ae0483",
   "metadata": {},
   "outputs": [
    {
     "data": {
      "text/plain": [
       "Particular Subvencionado    444148\n",
       "Municipal                   361086\n",
       "Otro                         50947\n",
       "Particular Pagado            29398\n",
       "Name: dependencia_colegio, dtype: int64"
      ]
     },
     "execution_count": 23,
     "metadata": {},
     "output_type": "execute_result"
    }
   ],
   "source": [
    "t[\"dependencia_colegio\"] = t[\"dependencia_colegio\"].map({\n",
    "    1: 'Municipal',\n",
    "    2: 'Municipal',\n",
    "    3: 'Particular Subvencionado',\n",
    "    4: 'Particular Pagado',\n",
    "    5: 'Otro',\n",
    "    6: 'Otro'\n",
    "})\n",
    "t[\"dependencia_colegio\"].value_counts()"
   ]
  },
  {
   "cell_type": "markdown",
   "id": "8aefd802",
   "metadata": {},
   "source": [
    "## Dependencia Colegio"
   ]
  },
  {
   "cell_type": "code",
   "execution_count": 24,
   "id": "526dc747",
   "metadata": {},
   "outputs": [
    {
     "data": {
      "text/plain": [
       "HC               500442\n",
       "TP Comercial     143680\n",
       "TP Industrial    140212\n",
       "TP Tecnica        82524\n",
       "Otro              18721\n",
       "Name: tipo_ensenanza_colegio, dtype: int64"
      ]
     },
     "execution_count": 24,
     "metadata": {},
     "output_type": "execute_result"
    }
   ],
   "source": [
    "t[\"tipo_ensenanza_colegio\"] = t[\"tipo_ensenanza_colegio\"].map({\n",
    "    0: \"no_aplica\",\n",
    "    10: \"Parvularia\",\n",
    "    110: \"Basica\",\n",
    "    160: \"Basica\",\n",
    "    161: \"Basica\",\n",
    "    163: \"Carceles\",\n",
    "    165: \"Basica\",\n",
    "    167: \"Basica\",\n",
    "    211: \"Especial\",\n",
    "    212: \"Especial\",\n",
    "    213: \"Especial\",\n",
    "    214: \"Especial\",\n",
    "    215: \"Especial\",\n",
    "    216: \"Especial\",\n",
    "    217: \"Especial\",\n",
    "    299: \"PIE\",\n",
    "    310: \"HC\",\n",
    "    360: \"HC\",\n",
    "    361: \"HC\",\n",
    "    362: \"Carceles\",\n",
    "    363: \"HC\",\n",
    "    410: \"TP Comercial\",\n",
    "    460: \"TP Comercial\",\n",
    "    461: \"TP Comercial\",\n",
    "    463: \"TP Comercial\",\n",
    "    510: \"TP Industrial\",\n",
    "    560: \"TP Industrial\",\n",
    "    561: \"TP Industrial\",\n",
    "    563: \"TP Industrial\",\n",
    "    610: \"TP Tecnica\",\n",
    "    660: \"TP Tecnica\",\n",
    "    661: \"TP Tecnica\",\n",
    "    663: \"TP Tecnica\",\n",
    "    710: \"Otro\",\n",
    "    760: \"Otro\",\n",
    "    761: \"Otro\",\n",
    "    763: \"Otro\",\n",
    "    810: \"Otro\",\n",
    "    860: \"Otro\",\n",
    "    863: \"Otro\",\n",
    "    910: \"Otro\",\n",
    "    963: \"Otro\"                     \n",
    "})\n",
    "\n",
    "t[\"tipo_ensenanza_colegio\"].value_counts()"
   ]
  },
  {
   "cell_type": "markdown",
   "id": "c1ea9969",
   "metadata": {},
   "source": [
    "## Región colegio"
   ]
  },
  {
   "cell_type": "code",
   "execution_count": 25,
   "id": "87f4cab4",
   "metadata": {},
   "outputs": [
    {
     "data": {
      "text/plain": [
       "array([13,  7,  2,  6,  9,  5, 10, 16,  4,  1, 14, 15, 12,  8, 11,  3])"
      ]
     },
     "execution_count": 25,
     "metadata": {},
     "output_type": "execute_result"
    }
   ],
   "source": [
    "t[\"region_colegio\"] = t[\"region_colegio\"].astype(int)\n",
    "t[\"region_colegio\"].unique()"
   ]
  },
  {
   "cell_type": "code",
   "execution_count": 26,
   "id": "321269b4",
   "metadata": {},
   "outputs": [
    {
     "data": {
      "text/plain": [
       "Metropolitana             354424\n",
       "Valparaíso                 91111\n",
       "Biobío                     80666\n",
       "Maule                      51746\n",
       "Lib. Gral B. O'Higgins     49053\n",
       "La Araucanía               46539\n",
       "Coquimbo                   40650\n",
       "Los Lagos                  39955\n",
       "Antofagasta                32651\n",
       "Ñuble                      21082\n",
       "Los Ríos                   19441\n",
       "Atacama                    15566\n",
       "Tarapacá                   13626\n",
       "Arica y Parinacota         13157\n",
       "Magallanes                  9534\n",
       "Aysén                       6378\n",
       "Name: region_colegio, dtype: int64"
      ]
     },
     "execution_count": 26,
     "metadata": {},
     "output_type": "execute_result"
    }
   ],
   "source": [
    "t[\"region_colegio\"] = t[\"region_colegio\"].map({\n",
    "    1: \"Tarapacá\",\n",
    "    2: \"Antofagasta\",\n",
    "    3: \"Atacama\",\n",
    "    4: \"Coquimbo\",\n",
    "    5: \"Valparaíso\",\n",
    "    6: \"Lib. Gral B. O'Higgins\",\n",
    "    7: \"Maule\",\n",
    "    8: \"Biobío\",\n",
    "    9: \"La Araucanía\",\n",
    "    10: \"Los Lagos\",\n",
    "    11: \"Aysén\",\n",
    "    12: \"Magallanes\",\n",
    "    13: \"Metropolitana\",\n",
    "    14: \"Los Ríos\",\n",
    "    15: \"Arica y Parinacota\",\n",
    "    16: \"Ñuble\"\n",
    "})\n",
    "t[\"region_colegio\"].value_counts()"
   ]
  },
  {
   "cell_type": "code",
   "execution_count": 27,
   "id": "096ec7c2",
   "metadata": {},
   "outputs": [
    {
     "data": {
      "text/plain": [
       "1    85.803751\n",
       "0    14.196249\n",
       "Name: misma_region, dtype: float64"
      ]
     },
     "execution_count": 27,
     "metadata": {},
     "output_type": "execute_result"
    }
   ],
   "source": [
    "t[\"misma_region\"] = np.where(t[\"region_colegio\"]==t[\"region_sede\"], 1, 0)\n",
    "t[\"misma_region\"].value_counts(\"%\") * 100"
   ]
  },
  {
   "cell_type": "markdown",
   "id": "e8e07f7a",
   "metadata": {},
   "source": [
    "## Genero, desertor, beneficios"
   ]
  },
  {
   "cell_type": "code",
   "execution_count": 28,
   "id": "f2fc75f2",
   "metadata": {},
   "outputs": [
    {
     "data": {
      "text/plain": [
       "hombre    443207\n",
       "mujer     442372\n",
       "Name: gen_alu, dtype: int64"
      ]
     },
     "execution_count": 28,
     "metadata": {},
     "output_type": "execute_result"
    }
   ],
   "source": [
    "t[\"gen_alu\"] = t[\"gen_alu\"].replace([1, 2], [\"hombre\", \"mujer\"])\n",
    "t[\"desertor_1\"] = t[\"desertor_1\"].astype(int)\n",
    "t[\"fscu\"] = t[\"fscu\"].astype(int)\n",
    "t[\"gratuidad\"] = t[\"gratuidad\"].astype(int)\n",
    "t[\"beca\"] = t[\"beca\"].astype(int)\n",
    "t[\"gen_alu\"].value_counts()"
   ]
  },
  {
   "cell_type": "markdown",
   "id": "6fab33d4",
   "metadata": {},
   "source": [
    "## Duraciones"
   ]
  },
  {
   "cell_type": "code",
   "execution_count": 29,
   "id": "3e30d5f1",
   "metadata": {},
   "outputs": [],
   "source": [
    "t[\"dur_estudio_carr\"] = t[\"dur_estudio_carr\"].astype(int)\n",
    "t[\"dur_proceso_tit\"] = t[\"dur_proceso_tit\"].astype(int)"
   ]
  },
  {
   "cell_type": "markdown",
   "id": "028f8e4d",
   "metadata": {},
   "source": [
    "## Instituciones"
   ]
  },
  {
   "cell_type": "code",
   "execution_count": 30,
   "id": "37d2cdfa",
   "metadata": {},
   "outputs": [],
   "source": [
    "def iter_df_read(file, col_name, condition_list, chunksize=1000, **kwargs):\n",
    "    iter_csv = pd.read_csv(file, iterator=True, chunksize=chunksize, **kwargs)\n",
    "    return pd.concat([chunk[chunk[col_name].isin(condition_list)] for chunk in iter_csv])"
   ]
  },
  {
   "cell_type": "code",
   "execution_count": 31,
   "id": "1d97c6c7",
   "metadata": {},
   "outputs": [
    {
     "data": {
      "application/vnd.jupyter.widget-view+json": {
       "model_id": "1bde20f746f947818cf4350651ccbbef",
       "version_major": 2,
       "version_minor": 0
      },
      "text/plain": [
       "  0%|          | 0/8 [00:00<?, ?it/s]"
      ]
     },
     "metadata": {},
     "output_type": "display_data"
    }
   ],
   "source": [
    "cols = ['tipo_inst_1', 'codigo_unico', 'nomb_inst']\n",
    "tipo_inst = ['Centros de Formación Técnica', 'Institutos Profesionales']\n",
    "\n",
    "instituciones = pd.concat([\n",
    "    iter_df_read(f, \"tipo_inst_1\", tipo_inst, sep=\";\", usecols=cols)\n",
    "    for f in tqdm(glob(f\"{BASE}/raw_data/post_2015/20220719_Matrícula_Ed_Superior_*.csv\"), total=8)\n",
    "]).drop_duplicates().reset_index(drop=True)"
   ]
  },
  {
   "cell_type": "code",
   "execution_count": 32,
   "id": "5f0239f1",
   "metadata": {},
   "outputs": [],
   "source": [
    "assert instituciones.groupby([\"codigo_unico\"]).agg({\"nomb_inst\": pd.Series.nunique}).reset_index()[\"nomb_inst\"].max() == 1"
   ]
  },
  {
   "cell_type": "code",
   "execution_count": 33,
   "id": "841a154b",
   "metadata": {},
   "outputs": [
    {
     "data": {
      "text/plain": [
       "ip_privado_precencia_nacional    479666\n",
       "cft_privado                      281751\n",
       "ip_privado                       123265\n",
       "cft_estatal                         897\n",
       "Name: sub_tipo_inst, dtype: int64"
      ]
     },
     "execution_count": 33,
     "metadata": {},
     "output_type": "execute_result"
    }
   ],
   "source": [
    "if \"nomb_inst\" not in t.columns:     \n",
    "    t_inicial = t.shape[0]\n",
    "    t = pd.merge(\n",
    "        t,\n",
    "        instituciones,\n",
    "        how=\"left\"\n",
    "    )\n",
    "\n",
    "    assert t.shape[0] == t_inicial\n",
    "    \n",
    "    cft_estatal = [\n",
    "        'CFT DE LA REGION DE ANTOFAGASTA',\n",
    "        'CFT DE LA REGION DE ARICA Y PARINACOTA',\n",
    "        'CFT DE LA REGION DE ATACAMA',\n",
    "        'CFT DE LA REGION DE AYSEN DEL GENERAL CARLOS IBAÑEZ DEL CAMPO',\n",
    "        'CFT DE LA REGION DE COQUIMBO',\n",
    "        'CFT DE LA REGION DE LA ARAUCANIA',\n",
    "        'CFT DE LA REGION DE LOS LAGOS',\n",
    "        'CFT DE LA REGION DE LOS RIOS',\n",
    "        'CFT DE LA REGION DE MAGALLANES Y ANTARTICA CHILENA',\n",
    "        'CFT DE LA REGION DE TARAPACA',\n",
    "        'CFT DE LA REGION DE VALPARAISO',\n",
    "        'CFT DE LA REGION DEL BIO BIO',\n",
    "        \"CFT DE LA REGION DEL LIBERTADOR GENERAL BERNARDO O'HIGGINS\",\n",
    "        'CFT DE LA REGION DEL MAULE',\n",
    "        'CFT DE LA REGION METROPOLITANA DE SANTIAGO'\n",
    "    ]\n",
    "    \n",
    "    ip_nac = [\n",
    "        'IP AIEP',\n",
    "        'IP DE CHILE',\n",
    "        'IP DUOC UC',\n",
    "        'IP INACAP',\n",
    "        'IP IPG',\n",
    "        'IP LATINOAMERICANO DE COMERCIO EXTERIOR - IPLACEX',\n",
    "        'IP SANTO TOMAS',\n",
    "    ]\n",
    "\n",
    "    t[\"sub_tipo_inst\"] = np.where(\n",
    "        t[\"nomb_inst\"].isin(cft_estatal),\n",
    "        \"cft_estatal\",\n",
    "        np.where(\n",
    "            t[\"tipo_inst_1\"] == \"Centros de Formación Técnica\",\n",
    "            \"cft_privado\",\n",
    "            np.where(\n",
    "                t[\"nomb_inst\"].isin(ip_nac),\n",
    "                \"ip_privado_precencia_nacional\",\n",
    "                \"ip_privado\"\n",
    "            )\n",
    "        )\n",
    "    )\n",
    "\n",
    "    assert t.shape[0] == t_inicial\n",
    "    \n",
    "t[\"sub_tipo_inst\"].value_counts(dropna=False)"
   ]
  },
  {
   "cell_type": "markdown",
   "id": "02a8346e",
   "metadata": {},
   "source": [
    "# Sacar cols auxiliares"
   ]
  },
  {
   "cell_type": "code",
   "execution_count": 34,
   "id": "c860c720",
   "metadata": {},
   "outputs": [],
   "source": [
    "t_aux = t.copy().drop(columns=[\n",
    "    \"region_colegio\", \"nomb_inst\", \"formato_valores\"\n",
    "]).reset_index(drop=True)\n",
    "\n",
    "dummy_aux = pd.get_dummies(\n",
    "    t_aux.drop(columns=[\"codigo_unico\", \"mrun\"])\n",
    ").reset_index(drop=True)\n",
    "\n",
    "dummy_aux = pd.concat([\n",
    "    t_aux[[\"mrun\", \"codigo_unico\"]],\n",
    "    dummy_aux\n",
    "], axis=1)\n",
    "\n",
    "dummy_aux.columns = [\n",
    "    unidecode(c.replace(\" \", \"_\").replace(\".\", \"\").replace(\"'\", \"\").lower())\n",
    "    for c in dummy_aux.columns\n",
    "]\n",
    "dummy_aux.to_csv(f\"{BASE}work_data/matriz_desercion_4_dummy_con_id.csv.gz\", index=False, compression=\"gzip\")"
   ]
  },
  {
   "cell_type": "code",
   "execution_count": 35,
   "id": "7276016f",
   "metadata": {},
   "outputs": [],
   "source": [
    "t = t.drop(columns=[\"codigo_unico\", \"mrun\", \"region_colegio\", \"nomb_inst\", \"formato_valores\"])"
   ]
  },
  {
   "cell_type": "markdown",
   "id": "4542cf62",
   "metadata": {},
   "source": [
    "# No dummy"
   ]
  },
  {
   "cell_type": "code",
   "execution_count": 36,
   "id": "648e36b6",
   "metadata": {},
   "outputs": [
    {
     "data": {
      "text/html": [
       "<div>\n",
       "<style scoped>\n",
       "    .dataframe tbody tr th:only-of-type {\n",
       "        vertical-align: middle;\n",
       "    }\n",
       "\n",
       "    .dataframe tbody tr th {\n",
       "        vertical-align: top;\n",
       "    }\n",
       "\n",
       "    .dataframe thead th {\n",
       "        text-align: right;\n",
       "    }\n",
       "</style>\n",
       "<table border=\"1\" class=\"dataframe\">\n",
       "  <thead>\n",
       "    <tr style=\"text-align: right;\">\n",
       "      <th></th>\n",
       "      <th>gen_alu</th>\n",
       "      <th>tipo_inst_1</th>\n",
       "      <th>jornada</th>\n",
       "      <th>dur_estudio_carr</th>\n",
       "      <th>dur_proceso_tit</th>\n",
       "      <th>region_sede</th>\n",
       "      <th>area_conocimiento</th>\n",
       "      <th>acreditada_carr</th>\n",
       "      <th>acreditada_inst</th>\n",
       "      <th>desertor_1</th>\n",
       "      <th>...</th>\n",
       "      <th>prom_notas_media</th>\n",
       "      <th>dependencia_colegio</th>\n",
       "      <th>fscu</th>\n",
       "      <th>gratuidad</th>\n",
       "      <th>beca</th>\n",
       "      <th>dif_ing_ult_mat</th>\n",
       "      <th>Edad</th>\n",
       "      <th>valor_arancel</th>\n",
       "      <th>misma_region</th>\n",
       "      <th>sub_tipo_inst</th>\n",
       "    </tr>\n",
       "  </thead>\n",
       "  <tbody>\n",
       "    <tr>\n",
       "      <th>0</th>\n",
       "      <td>mujer</td>\n",
       "      <td>Centros de Formación Técnica</td>\n",
       "      <td>Vespertino</td>\n",
       "      <td>4</td>\n",
       "      <td>1</td>\n",
       "      <td>Metropolitana</td>\n",
       "      <td>Administración y Comercio</td>\n",
       "      <td>NO ACREDITADA</td>\n",
       "      <td>ACREDITADA</td>\n",
       "      <td>1</td>\n",
       "      <td>...</td>\n",
       "      <td>6.4</td>\n",
       "      <td>Particular Subvencionado</td>\n",
       "      <td>0</td>\n",
       "      <td>0</td>\n",
       "      <td>0</td>\n",
       "      <td>0</td>\n",
       "      <td>35</td>\n",
       "      <td>1390000.0</td>\n",
       "      <td>1</td>\n",
       "      <td>cft_privado</td>\n",
       "    </tr>\n",
       "    <tr>\n",
       "      <th>1</th>\n",
       "      <td>hombre</td>\n",
       "      <td>Institutos Profesionales</td>\n",
       "      <td>Vespertino</td>\n",
       "      <td>5</td>\n",
       "      <td>1</td>\n",
       "      <td>Metropolitana</td>\n",
       "      <td>Tecnología</td>\n",
       "      <td>ACREDITADA</td>\n",
       "      <td>ACREDITADA</td>\n",
       "      <td>1</td>\n",
       "      <td>...</td>\n",
       "      <td>5.5</td>\n",
       "      <td>Particular Subvencionado</td>\n",
       "      <td>0</td>\n",
       "      <td>0</td>\n",
       "      <td>1</td>\n",
       "      <td>0</td>\n",
       "      <td>31</td>\n",
       "      <td>1850000.0</td>\n",
       "      <td>1</td>\n",
       "      <td>ip_privado_precencia_nacional</td>\n",
       "    </tr>\n",
       "    <tr>\n",
       "      <th>2</th>\n",
       "      <td>hombre</td>\n",
       "      <td>Centros de Formación Técnica</td>\n",
       "      <td>Vespertino</td>\n",
       "      <td>6</td>\n",
       "      <td>1</td>\n",
       "      <td>Maule</td>\n",
       "      <td>Tecnología</td>\n",
       "      <td>NO ACREDITADA</td>\n",
       "      <td>NO ACREDITADA</td>\n",
       "      <td>0</td>\n",
       "      <td>...</td>\n",
       "      <td>4.7</td>\n",
       "      <td>Particular Subvencionado</td>\n",
       "      <td>0</td>\n",
       "      <td>0</td>\n",
       "      <td>0</td>\n",
       "      <td>0</td>\n",
       "      <td>29</td>\n",
       "      <td>803000.0</td>\n",
       "      <td>1</td>\n",
       "      <td>cft_privado</td>\n",
       "    </tr>\n",
       "    <tr>\n",
       "      <th>3</th>\n",
       "      <td>hombre</td>\n",
       "      <td>Institutos Profesionales</td>\n",
       "      <td>Vespertino</td>\n",
       "      <td>5</td>\n",
       "      <td>1</td>\n",
       "      <td>Metropolitana</td>\n",
       "      <td>Tecnología</td>\n",
       "      <td>NO ACREDITADA</td>\n",
       "      <td>ACREDITADA</td>\n",
       "      <td>0</td>\n",
       "      <td>...</td>\n",
       "      <td>6.0</td>\n",
       "      <td>Municipal</td>\n",
       "      <td>0</td>\n",
       "      <td>0</td>\n",
       "      <td>0</td>\n",
       "      <td>0</td>\n",
       "      <td>29</td>\n",
       "      <td>1690000.0</td>\n",
       "      <td>1</td>\n",
       "      <td>ip_privado_precencia_nacional</td>\n",
       "    </tr>\n",
       "    <tr>\n",
       "      <th>4</th>\n",
       "      <td>mujer</td>\n",
       "      <td>Institutos Profesionales</td>\n",
       "      <td>Diurno</td>\n",
       "      <td>5</td>\n",
       "      <td>1</td>\n",
       "      <td>Metropolitana</td>\n",
       "      <td>Derecho</td>\n",
       "      <td>NO ACREDITADA</td>\n",
       "      <td>ACREDITADA</td>\n",
       "      <td>0</td>\n",
       "      <td>...</td>\n",
       "      <td>6.4</td>\n",
       "      <td>Particular Subvencionado</td>\n",
       "      <td>0</td>\n",
       "      <td>0</td>\n",
       "      <td>0</td>\n",
       "      <td>0</td>\n",
       "      <td>16</td>\n",
       "      <td>1480000.0</td>\n",
       "      <td>1</td>\n",
       "      <td>ip_privado_precencia_nacional</td>\n",
       "    </tr>\n",
       "  </tbody>\n",
       "</table>\n",
       "<p>5 rows × 21 columns</p>\n",
       "</div>"
      ],
      "text/plain": [
       "  gen_alu                   tipo_inst_1     jornada  dur_estudio_carr  \\\n",
       "0   mujer  Centros de Formación Técnica  Vespertino                 4   \n",
       "1  hombre      Institutos Profesionales  Vespertino                 5   \n",
       "2  hombre  Centros de Formación Técnica  Vespertino                 6   \n",
       "3  hombre      Institutos Profesionales  Vespertino                 5   \n",
       "4   mujer      Institutos Profesionales      Diurno                 5   \n",
       "\n",
       "   dur_proceso_tit    region_sede          area_conocimiento acreditada_carr  \\\n",
       "0                1  Metropolitana  Administración y Comercio   NO ACREDITADA   \n",
       "1                1  Metropolitana                 Tecnología      ACREDITADA   \n",
       "2                1          Maule                 Tecnología   NO ACREDITADA   \n",
       "3                1  Metropolitana                 Tecnología   NO ACREDITADA   \n",
       "4                1  Metropolitana                    Derecho   NO ACREDITADA   \n",
       "\n",
       "  acreditada_inst  desertor_1  ... prom_notas_media       dependencia_colegio  \\\n",
       "0      ACREDITADA           1  ...              6.4  Particular Subvencionado   \n",
       "1      ACREDITADA           1  ...              5.5  Particular Subvencionado   \n",
       "2   NO ACREDITADA           0  ...              4.7  Particular Subvencionado   \n",
       "3      ACREDITADA           0  ...              6.0                 Municipal   \n",
       "4      ACREDITADA           0  ...              6.4  Particular Subvencionado   \n",
       "\n",
       "  fscu  gratuidad  beca  dif_ing_ult_mat  Edad  valor_arancel  misma_region  \\\n",
       "0    0          0     0                0    35      1390000.0             1   \n",
       "1    0          0     1                0    31      1850000.0             1   \n",
       "2    0          0     0                0    29       803000.0             1   \n",
       "3    0          0     0                0    29      1690000.0             1   \n",
       "4    0          0     0                0    16      1480000.0             1   \n",
       "\n",
       "                   sub_tipo_inst  \n",
       "0                    cft_privado  \n",
       "1  ip_privado_precencia_nacional  \n",
       "2                    cft_privado  \n",
       "3  ip_privado_precencia_nacional  \n",
       "4  ip_privado_precencia_nacional  \n",
       "\n",
       "[5 rows x 21 columns]"
      ]
     },
     "execution_count": 36,
     "metadata": {},
     "output_type": "execute_result"
    }
   ],
   "source": [
    "t.head()"
   ]
  },
  {
   "cell_type": "code",
   "execution_count": 37,
   "id": "e02d576a",
   "metadata": {},
   "outputs": [],
   "source": [
    "t.to_csv(f\"{BASE}work_data/matriz_desercion_4_no_dummy.csv.gz\", index=False, compression=\"gzip\")"
   ]
  },
  {
   "cell_type": "markdown",
   "id": "8464134f",
   "metadata": {},
   "source": [
    "# Dummys"
   ]
  },
  {
   "cell_type": "code",
   "execution_count": 38,
   "id": "28a17723",
   "metadata": {},
   "outputs": [
    {
     "name": "stdout",
     "output_type": "stream",
     "text": [
      "<class 'pandas.core.frame.DataFrame'>\n",
      "Int64Index: 885579 entries, 0 to 885578\n",
      "Data columns (total 21 columns):\n",
      " #   Column                  Non-Null Count   Dtype  \n",
      "---  ------                  --------------   -----  \n",
      " 0   gen_alu                 885579 non-null  object \n",
      " 1   tipo_inst_1             885579 non-null  object \n",
      " 2   jornada                 885579 non-null  object \n",
      " 3   dur_estudio_carr        885579 non-null  int64  \n",
      " 4   dur_proceso_tit         885579 non-null  int64  \n",
      " 5   region_sede             885579 non-null  object \n",
      " 6   area_conocimiento       885579 non-null  object \n",
      " 7   acreditada_carr         885579 non-null  object \n",
      " 8   acreditada_inst         885579 non-null  object \n",
      " 9   desertor_1              885579 non-null  int64  \n",
      " 10  tipo_ensenanza_colegio  885579 non-null  object \n",
      " 11  prom_notas_media        885579 non-null  float64\n",
      " 12  dependencia_colegio     885579 non-null  object \n",
      " 13  fscu                    885579 non-null  int64  \n",
      " 14  gratuidad               885579 non-null  int64  \n",
      " 15  beca                    885579 non-null  int64  \n",
      " 16  dif_ing_ult_mat         885579 non-null  int64  \n",
      " 17  Edad                    885579 non-null  int64  \n",
      " 18  valor_arancel           885579 non-null  float64\n",
      " 19  misma_region            885579 non-null  int64  \n",
      " 20  sub_tipo_inst           885579 non-null  object \n",
      "dtypes: float64(2), int64(9), object(10)\n",
      "memory usage: 148.6+ MB\n"
     ]
    }
   ],
   "source": [
    "t.info()"
   ]
  },
  {
   "cell_type": "code",
   "execution_count": 39,
   "id": "2d477639",
   "metadata": {},
   "outputs": [
    {
     "data": {
      "text/html": [
       "<div>\n",
       "<style scoped>\n",
       "    .dataframe tbody tr th:only-of-type {\n",
       "        vertical-align: middle;\n",
       "    }\n",
       "\n",
       "    .dataframe tbody tr th {\n",
       "        vertical-align: top;\n",
       "    }\n",
       "\n",
       "    .dataframe thead th {\n",
       "        text-align: right;\n",
       "    }\n",
       "</style>\n",
       "<table border=\"1\" class=\"dataframe\">\n",
       "  <thead>\n",
       "    <tr style=\"text-align: right;\">\n",
       "      <th></th>\n",
       "      <th>dur_estudio_carr</th>\n",
       "      <th>dur_proceso_tit</th>\n",
       "      <th>desertor_1</th>\n",
       "      <th>prom_notas_media</th>\n",
       "      <th>fscu</th>\n",
       "      <th>gratuidad</th>\n",
       "      <th>beca</th>\n",
       "      <th>dif_ing_ult_mat</th>\n",
       "      <th>Edad</th>\n",
       "      <th>valor_arancel</th>\n",
       "      <th>...</th>\n",
       "      <th>tipo_ensenanza_colegio_Otro</th>\n",
       "      <th>tipo_ensenanza_colegio_TP Comercial</th>\n",
       "      <th>tipo_ensenanza_colegio_TP Industrial</th>\n",
       "      <th>tipo_ensenanza_colegio_TP Tecnica</th>\n",
       "      <th>dependencia_colegio_Otro</th>\n",
       "      <th>dependencia_colegio_Particular Pagado</th>\n",
       "      <th>dependencia_colegio_Particular Subvencionado</th>\n",
       "      <th>sub_tipo_inst_cft_privado</th>\n",
       "      <th>sub_tipo_inst_ip_privado</th>\n",
       "      <th>sub_tipo_inst_ip_privado_precencia_nacional</th>\n",
       "    </tr>\n",
       "  </thead>\n",
       "  <tbody>\n",
       "    <tr>\n",
       "      <th>0</th>\n",
       "      <td>4</td>\n",
       "      <td>1</td>\n",
       "      <td>1</td>\n",
       "      <td>6.4</td>\n",
       "      <td>0</td>\n",
       "      <td>0</td>\n",
       "      <td>0</td>\n",
       "      <td>0</td>\n",
       "      <td>35</td>\n",
       "      <td>1390000.0</td>\n",
       "      <td>...</td>\n",
       "      <td>0</td>\n",
       "      <td>0</td>\n",
       "      <td>0</td>\n",
       "      <td>0</td>\n",
       "      <td>0</td>\n",
       "      <td>0</td>\n",
       "      <td>1</td>\n",
       "      <td>1</td>\n",
       "      <td>0</td>\n",
       "      <td>0</td>\n",
       "    </tr>\n",
       "    <tr>\n",
       "      <th>1</th>\n",
       "      <td>5</td>\n",
       "      <td>1</td>\n",
       "      <td>1</td>\n",
       "      <td>5.5</td>\n",
       "      <td>0</td>\n",
       "      <td>0</td>\n",
       "      <td>1</td>\n",
       "      <td>0</td>\n",
       "      <td>31</td>\n",
       "      <td>1850000.0</td>\n",
       "      <td>...</td>\n",
       "      <td>0</td>\n",
       "      <td>0</td>\n",
       "      <td>0</td>\n",
       "      <td>0</td>\n",
       "      <td>0</td>\n",
       "      <td>0</td>\n",
       "      <td>1</td>\n",
       "      <td>0</td>\n",
       "      <td>0</td>\n",
       "      <td>1</td>\n",
       "    </tr>\n",
       "    <tr>\n",
       "      <th>2</th>\n",
       "      <td>6</td>\n",
       "      <td>1</td>\n",
       "      <td>0</td>\n",
       "      <td>4.7</td>\n",
       "      <td>0</td>\n",
       "      <td>0</td>\n",
       "      <td>0</td>\n",
       "      <td>0</td>\n",
       "      <td>29</td>\n",
       "      <td>803000.0</td>\n",
       "      <td>...</td>\n",
       "      <td>0</td>\n",
       "      <td>0</td>\n",
       "      <td>0</td>\n",
       "      <td>0</td>\n",
       "      <td>0</td>\n",
       "      <td>0</td>\n",
       "      <td>1</td>\n",
       "      <td>1</td>\n",
       "      <td>0</td>\n",
       "      <td>0</td>\n",
       "    </tr>\n",
       "    <tr>\n",
       "      <th>3</th>\n",
       "      <td>5</td>\n",
       "      <td>1</td>\n",
       "      <td>0</td>\n",
       "      <td>6.0</td>\n",
       "      <td>0</td>\n",
       "      <td>0</td>\n",
       "      <td>0</td>\n",
       "      <td>0</td>\n",
       "      <td>29</td>\n",
       "      <td>1690000.0</td>\n",
       "      <td>...</td>\n",
       "      <td>0</td>\n",
       "      <td>0</td>\n",
       "      <td>0</td>\n",
       "      <td>0</td>\n",
       "      <td>0</td>\n",
       "      <td>0</td>\n",
       "      <td>0</td>\n",
       "      <td>0</td>\n",
       "      <td>0</td>\n",
       "      <td>1</td>\n",
       "    </tr>\n",
       "    <tr>\n",
       "      <th>4</th>\n",
       "      <td>5</td>\n",
       "      <td>1</td>\n",
       "      <td>0</td>\n",
       "      <td>6.4</td>\n",
       "      <td>0</td>\n",
       "      <td>0</td>\n",
       "      <td>0</td>\n",
       "      <td>0</td>\n",
       "      <td>16</td>\n",
       "      <td>1480000.0</td>\n",
       "      <td>...</td>\n",
       "      <td>0</td>\n",
       "      <td>0</td>\n",
       "      <td>0</td>\n",
       "      <td>0</td>\n",
       "      <td>0</td>\n",
       "      <td>0</td>\n",
       "      <td>1</td>\n",
       "      <td>0</td>\n",
       "      <td>0</td>\n",
       "      <td>1</td>\n",
       "    </tr>\n",
       "  </tbody>\n",
       "</table>\n",
       "<p>5 rows × 53 columns</p>\n",
       "</div>"
      ],
      "text/plain": [
       "   dur_estudio_carr  dur_proceso_tit  desertor_1  prom_notas_media  fscu  \\\n",
       "0                 4                1           1               6.4     0   \n",
       "1                 5                1           1               5.5     0   \n",
       "2                 6                1           0               4.7     0   \n",
       "3                 5                1           0               6.0     0   \n",
       "4                 5                1           0               6.4     0   \n",
       "\n",
       "   gratuidad  beca  dif_ing_ult_mat  Edad  valor_arancel  ...  \\\n",
       "0          0     0                0    35      1390000.0  ...   \n",
       "1          0     1                0    31      1850000.0  ...   \n",
       "2          0     0                0    29       803000.0  ...   \n",
       "3          0     0                0    29      1690000.0  ...   \n",
       "4          0     0                0    16      1480000.0  ...   \n",
       "\n",
       "   tipo_ensenanza_colegio_Otro  tipo_ensenanza_colegio_TP Comercial  \\\n",
       "0                            0                                    0   \n",
       "1                            0                                    0   \n",
       "2                            0                                    0   \n",
       "3                            0                                    0   \n",
       "4                            0                                    0   \n",
       "\n",
       "   tipo_ensenanza_colegio_TP Industrial  tipo_ensenanza_colegio_TP Tecnica  \\\n",
       "0                                     0                                  0   \n",
       "1                                     0                                  0   \n",
       "2                                     0                                  0   \n",
       "3                                     0                                  0   \n",
       "4                                     0                                  0   \n",
       "\n",
       "   dependencia_colegio_Otro  dependencia_colegio_Particular Pagado  \\\n",
       "0                         0                                      0   \n",
       "1                         0                                      0   \n",
       "2                         0                                      0   \n",
       "3                         0                                      0   \n",
       "4                         0                                      0   \n",
       "\n",
       "   dependencia_colegio_Particular Subvencionado  sub_tipo_inst_cft_privado  \\\n",
       "0                                             1                          1   \n",
       "1                                             1                          0   \n",
       "2                                             1                          1   \n",
       "3                                             0                          0   \n",
       "4                                             1                          0   \n",
       "\n",
       "   sub_tipo_inst_ip_privado  sub_tipo_inst_ip_privado_precencia_nacional  \n",
       "0                         0                                            0  \n",
       "1                         0                                            1  \n",
       "2                         0                                            0  \n",
       "3                         0                                            1  \n",
       "4                         0                                            1  \n",
       "\n",
       "[5 rows x 53 columns]"
      ]
     },
     "execution_count": 39,
     "metadata": {},
     "output_type": "execute_result"
    }
   ],
   "source": [
    "dummy = pd.get_dummies(t, drop_first=True)\n",
    "dummy.head()"
   ]
  },
  {
   "cell_type": "code",
   "execution_count": 40,
   "id": "25bcb8b4",
   "metadata": {},
   "outputs": [
    {
     "data": {
      "text/plain": [
       "Index(['dur_estudio_carr', 'dur_proceso_tit', 'desertor_1', 'prom_notas_media',\n",
       "       'fscu', 'gratuidad', 'beca', 'dif_ing_ult_mat', 'edad', 'valor_arancel',\n",
       "       'misma_region', 'gen_alu_mujer', 'tipo_inst_1_institutos_profesionales',\n",
       "       'jornada_diurno', 'jornada_otro', 'jornada_semipresencial',\n",
       "       'jornada_vespertino', 'region_sede_arica_y_parinacota',\n",
       "       'region_sede_atacama', 'region_sede_aysen', 'region_sede_biobio',\n",
       "       'region_sede_coquimbo', 'region_sede_la_araucania',\n",
       "       'region_sede_lib_gral_b_ohiggins', 'region_sede_los_lagos',\n",
       "       'region_sede_los_rios', 'region_sede_magallanes', 'region_sede_maule',\n",
       "       'region_sede_metropolitana', 'region_sede_tarapaca',\n",
       "       'region_sede_valparaiso', 'region_sede_nuble',\n",
       "       'area_conocimiento_agropecuaria',\n",
       "       'area_conocimiento_arte_y_arquitectura',\n",
       "       'area_conocimiento_ciencias_basicas',\n",
       "       'area_conocimiento_ciencias_sociales', 'area_conocimiento_derecho',\n",
       "       'area_conocimiento_educacion', 'area_conocimiento_humanidades',\n",
       "       'area_conocimiento_salud', 'area_conocimiento_tecnologia',\n",
       "       'acreditada_carr_no_acreditada', 'acreditada_inst_no_acreditada',\n",
       "       'tipo_ensenanza_colegio_otro', 'tipo_ensenanza_colegio_tp_comercial',\n",
       "       'tipo_ensenanza_colegio_tp_industrial',\n",
       "       'tipo_ensenanza_colegio_tp_tecnica', 'dependencia_colegio_otro',\n",
       "       'dependencia_colegio_particular_pagado',\n",
       "       'dependencia_colegio_particular_subvencionado',\n",
       "       'sub_tipo_inst_cft_privado', 'sub_tipo_inst_ip_privado',\n",
       "       'sub_tipo_inst_ip_privado_precencia_nacional'],\n",
       "      dtype='object')"
      ]
     },
     "execution_count": 40,
     "metadata": {},
     "output_type": "execute_result"
    }
   ],
   "source": [
    "dummy.columns = [\n",
    "    unidecode(c.replace(\" \", \"_\").replace(\".\", \"\").replace(\"'\", \"\").lower())\n",
    "    for c in dummy.columns\n",
    "]\n",
    "\n",
    "dummy.columns"
   ]
  },
  {
   "cell_type": "markdown",
   "id": "20e3ff97",
   "metadata": {},
   "source": [
    "- En género elimina hombre.\n",
    "- En tipo institución elimina CFT.\n",
    "- En `region_sede` elimina Antofagasta.\n",
    "- En `area_conocimiento` elimina Administración y Comercio.\n",
    "- En ambas acreditaciones elimina Acreditada.\n",
    "- En `tipo_ensenanza_colegio` elimina HC.\n",
    "- En `dependencia_colegio` elimina Municipal."
   ]
  },
  {
   "cell_type": "code",
   "execution_count": 41,
   "id": "4672c720",
   "metadata": {},
   "outputs": [],
   "source": [
    "dummy.to_csv(f\"{BASE}work_data/matriz_desercion_4_dummy.csv.gz\", index=False, compression=\"gzip\")"
   ]
  },
  {
   "cell_type": "markdown",
   "id": "bb125295",
   "metadata": {},
   "source": [
    "# Dummy sin drop first"
   ]
  },
  {
   "cell_type": "code",
   "execution_count": 42,
   "id": "96c899ce",
   "metadata": {},
   "outputs": [
    {
     "data": {
      "text/html": [
       "<div>\n",
       "<style scoped>\n",
       "    .dataframe tbody tr th:only-of-type {\n",
       "        vertical-align: middle;\n",
       "    }\n",
       "\n",
       "    .dataframe tbody tr th {\n",
       "        vertical-align: top;\n",
       "    }\n",
       "\n",
       "    .dataframe thead th {\n",
       "        text-align: right;\n",
       "    }\n",
       "</style>\n",
       "<table border=\"1\" class=\"dataframe\">\n",
       "  <thead>\n",
       "    <tr style=\"text-align: right;\">\n",
       "      <th></th>\n",
       "      <th>dur_estudio_carr</th>\n",
       "      <th>dur_proceso_tit</th>\n",
       "      <th>desertor_1</th>\n",
       "      <th>prom_notas_media</th>\n",
       "      <th>fscu</th>\n",
       "      <th>gratuidad</th>\n",
       "      <th>beca</th>\n",
       "      <th>dif_ing_ult_mat</th>\n",
       "      <th>Edad</th>\n",
       "      <th>valor_arancel</th>\n",
       "      <th>...</th>\n",
       "      <th>tipo_ensenanza_colegio_TP Industrial</th>\n",
       "      <th>tipo_ensenanza_colegio_TP Tecnica</th>\n",
       "      <th>dependencia_colegio_Municipal</th>\n",
       "      <th>dependencia_colegio_Otro</th>\n",
       "      <th>dependencia_colegio_Particular Pagado</th>\n",
       "      <th>dependencia_colegio_Particular Subvencionado</th>\n",
       "      <th>sub_tipo_inst_cft_estatal</th>\n",
       "      <th>sub_tipo_inst_cft_privado</th>\n",
       "      <th>sub_tipo_inst_ip_privado</th>\n",
       "      <th>sub_tipo_inst_ip_privado_precencia_nacional</th>\n",
       "    </tr>\n",
       "  </thead>\n",
       "  <tbody>\n",
       "    <tr>\n",
       "      <th>0</th>\n",
       "      <td>4</td>\n",
       "      <td>1</td>\n",
       "      <td>1</td>\n",
       "      <td>6.4</td>\n",
       "      <td>0</td>\n",
       "      <td>0</td>\n",
       "      <td>0</td>\n",
       "      <td>0</td>\n",
       "      <td>35</td>\n",
       "      <td>1390000.0</td>\n",
       "      <td>...</td>\n",
       "      <td>0</td>\n",
       "      <td>0</td>\n",
       "      <td>0</td>\n",
       "      <td>0</td>\n",
       "      <td>0</td>\n",
       "      <td>1</td>\n",
       "      <td>0</td>\n",
       "      <td>1</td>\n",
       "      <td>0</td>\n",
       "      <td>0</td>\n",
       "    </tr>\n",
       "    <tr>\n",
       "      <th>1</th>\n",
       "      <td>5</td>\n",
       "      <td>1</td>\n",
       "      <td>1</td>\n",
       "      <td>5.5</td>\n",
       "      <td>0</td>\n",
       "      <td>0</td>\n",
       "      <td>1</td>\n",
       "      <td>0</td>\n",
       "      <td>31</td>\n",
       "      <td>1850000.0</td>\n",
       "      <td>...</td>\n",
       "      <td>0</td>\n",
       "      <td>0</td>\n",
       "      <td>0</td>\n",
       "      <td>0</td>\n",
       "      <td>0</td>\n",
       "      <td>1</td>\n",
       "      <td>0</td>\n",
       "      <td>0</td>\n",
       "      <td>0</td>\n",
       "      <td>1</td>\n",
       "    </tr>\n",
       "    <tr>\n",
       "      <th>2</th>\n",
       "      <td>6</td>\n",
       "      <td>1</td>\n",
       "      <td>0</td>\n",
       "      <td>4.7</td>\n",
       "      <td>0</td>\n",
       "      <td>0</td>\n",
       "      <td>0</td>\n",
       "      <td>0</td>\n",
       "      <td>29</td>\n",
       "      <td>803000.0</td>\n",
       "      <td>...</td>\n",
       "      <td>0</td>\n",
       "      <td>0</td>\n",
       "      <td>0</td>\n",
       "      <td>0</td>\n",
       "      <td>0</td>\n",
       "      <td>1</td>\n",
       "      <td>0</td>\n",
       "      <td>1</td>\n",
       "      <td>0</td>\n",
       "      <td>0</td>\n",
       "    </tr>\n",
       "    <tr>\n",
       "      <th>3</th>\n",
       "      <td>5</td>\n",
       "      <td>1</td>\n",
       "      <td>0</td>\n",
       "      <td>6.0</td>\n",
       "      <td>0</td>\n",
       "      <td>0</td>\n",
       "      <td>0</td>\n",
       "      <td>0</td>\n",
       "      <td>29</td>\n",
       "      <td>1690000.0</td>\n",
       "      <td>...</td>\n",
       "      <td>0</td>\n",
       "      <td>0</td>\n",
       "      <td>1</td>\n",
       "      <td>0</td>\n",
       "      <td>0</td>\n",
       "      <td>0</td>\n",
       "      <td>0</td>\n",
       "      <td>0</td>\n",
       "      <td>0</td>\n",
       "      <td>1</td>\n",
       "    </tr>\n",
       "    <tr>\n",
       "      <th>4</th>\n",
       "      <td>5</td>\n",
       "      <td>1</td>\n",
       "      <td>0</td>\n",
       "      <td>6.4</td>\n",
       "      <td>0</td>\n",
       "      <td>0</td>\n",
       "      <td>0</td>\n",
       "      <td>0</td>\n",
       "      <td>16</td>\n",
       "      <td>1480000.0</td>\n",
       "      <td>...</td>\n",
       "      <td>0</td>\n",
       "      <td>0</td>\n",
       "      <td>0</td>\n",
       "      <td>0</td>\n",
       "      <td>0</td>\n",
       "      <td>1</td>\n",
       "      <td>0</td>\n",
       "      <td>0</td>\n",
       "      <td>0</td>\n",
       "      <td>1</td>\n",
       "    </tr>\n",
       "  </tbody>\n",
       "</table>\n",
       "<p>5 rows × 63 columns</p>\n",
       "</div>"
      ],
      "text/plain": [
       "   dur_estudio_carr  dur_proceso_tit  desertor_1  prom_notas_media  fscu  \\\n",
       "0                 4                1           1               6.4     0   \n",
       "1                 5                1           1               5.5     0   \n",
       "2                 6                1           0               4.7     0   \n",
       "3                 5                1           0               6.0     0   \n",
       "4                 5                1           0               6.4     0   \n",
       "\n",
       "   gratuidad  beca  dif_ing_ult_mat  Edad  valor_arancel  ...  \\\n",
       "0          0     0                0    35      1390000.0  ...   \n",
       "1          0     1                0    31      1850000.0  ...   \n",
       "2          0     0                0    29       803000.0  ...   \n",
       "3          0     0                0    29      1690000.0  ...   \n",
       "4          0     0                0    16      1480000.0  ...   \n",
       "\n",
       "   tipo_ensenanza_colegio_TP Industrial  tipo_ensenanza_colegio_TP Tecnica  \\\n",
       "0                                     0                                  0   \n",
       "1                                     0                                  0   \n",
       "2                                     0                                  0   \n",
       "3                                     0                                  0   \n",
       "4                                     0                                  0   \n",
       "\n",
       "   dependencia_colegio_Municipal  dependencia_colegio_Otro  \\\n",
       "0                              0                         0   \n",
       "1                              0                         0   \n",
       "2                              0                         0   \n",
       "3                              1                         0   \n",
       "4                              0                         0   \n",
       "\n",
       "   dependencia_colegio_Particular Pagado  \\\n",
       "0                                      0   \n",
       "1                                      0   \n",
       "2                                      0   \n",
       "3                                      0   \n",
       "4                                      0   \n",
       "\n",
       "   dependencia_colegio_Particular Subvencionado  sub_tipo_inst_cft_estatal  \\\n",
       "0                                             1                          0   \n",
       "1                                             1                          0   \n",
       "2                                             1                          0   \n",
       "3                                             0                          0   \n",
       "4                                             1                          0   \n",
       "\n",
       "   sub_tipo_inst_cft_privado  sub_tipo_inst_ip_privado  \\\n",
       "0                          1                         0   \n",
       "1                          0                         0   \n",
       "2                          1                         0   \n",
       "3                          0                         0   \n",
       "4                          0                         0   \n",
       "\n",
       "   sub_tipo_inst_ip_privado_precencia_nacional  \n",
       "0                                            0  \n",
       "1                                            1  \n",
       "2                                            0  \n",
       "3                                            1  \n",
       "4                                            1  \n",
       "\n",
       "[5 rows x 63 columns]"
      ]
     },
     "execution_count": 42,
     "metadata": {},
     "output_type": "execute_result"
    }
   ],
   "source": [
    "dummy_ohe = pd.get_dummies(t)\n",
    "dummy_ohe.head()"
   ]
  },
  {
   "cell_type": "code",
   "execution_count": 43,
   "id": "857c1029",
   "metadata": {},
   "outputs": [],
   "source": [
    "dummy_ohe.columns = [\n",
    "    unidecode(c.replace(\" \", \"_\").replace(\".\", \"\").replace(\"'\", \"\").lower())\n",
    "    for c in dummy_ohe.columns\n",
    "]"
   ]
  },
  {
   "cell_type": "code",
   "execution_count": 44,
   "id": "a450f213",
   "metadata": {},
   "outputs": [],
   "source": [
    "dummy_ohe.to_csv(f\"{BASE}work_data/matriz_desercion_4_dummy_ohe.csv.gz\", index=False, compression=\"gzip\")"
   ]
  },
  {
   "cell_type": "code",
   "execution_count": null,
   "id": "bfaa7bd6",
   "metadata": {},
   "outputs": [],
   "source": []
  }
 ],
 "metadata": {
  "kernelspec": {
   "display_name": "Python 3 (ipykernel)",
   "language": "python",
   "name": "python3"
  },
  "language_info": {
   "codemirror_mode": {
    "name": "ipython",
    "version": 3
   },
   "file_extension": ".py",
   "mimetype": "text/x-python",
   "name": "python",
   "nbconvert_exporter": "python",
   "pygments_lexer": "ipython3",
   "version": "3.9.12"
  }
 },
 "nbformat": 4,
 "nbformat_minor": 5
}
