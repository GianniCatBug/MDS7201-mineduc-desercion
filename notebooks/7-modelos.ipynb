{
 "cells": [
  {
   "cell_type": "code",
   "execution_count": 1,
   "id": "62852005",
   "metadata": {},
   "outputs": [],
   "source": [
    "import pandas as pd\n",
    "import numpy as np\n",
    "import seaborn as sns\n",
    "import matplotlib.pyplot as plt\n",
    "from datetime import date\n",
    "from unidecode import unidecode\n",
    "import statsmodels.formula.api as smf\n",
    "from sklearn.linear_model import LogisticRegressionCV\n",
    "from sklearn.tree import DecisionTreeClassifier, plot_tree\n",
    "from sklearn.model_selection import train_test_split\n",
    "from sklearn.metrics import classification_report\n",
    "from imblearn.under_sampling import RandomUnderSampler\n",
    "from sklearn.preprocessing import scale\n",
    "from sklearn.metrics import confusion_matrix, ConfusionMatrixDisplay\n",
    "import locale\n",
    "\n",
    "locale.setlocale(locale.LC_ALL, 'es_CL')\n",
    "\n",
    "plt.style.use(\"seaborn\")\n",
    "\n",
    "BASE = \"/media/giani/Gianicosas/Magister/Proyecto/\""
   ]
  },
  {
   "cell_type": "markdown",
   "id": "ee695977",
   "metadata": {},
   "source": [
    "# Datos"
   ]
  },
  {
   "cell_type": "code",
   "execution_count": 2,
   "id": "2cc85bb6",
   "metadata": {},
   "outputs": [
    {
     "data": {
      "text/html": [
       "<div>\n",
       "<style scoped>\n",
       "    .dataframe tbody tr th:only-of-type {\n",
       "        vertical-align: middle;\n",
       "    }\n",
       "\n",
       "    .dataframe tbody tr th {\n",
       "        vertical-align: top;\n",
       "    }\n",
       "\n",
       "    .dataframe thead th {\n",
       "        text-align: right;\n",
       "    }\n",
       "</style>\n",
       "<table border=\"1\" class=\"dataframe\">\n",
       "  <thead>\n",
       "    <tr style=\"text-align: right;\">\n",
       "      <th></th>\n",
       "      <th>valor_arancel</th>\n",
       "      <th>desertor_1</th>\n",
       "      <th>prom_notas_media</th>\n",
       "      <th>cant_becas</th>\n",
       "      <th>dif_ing_ult_mat</th>\n",
       "      <th>edad</th>\n",
       "      <th>misma_region</th>\n",
       "      <th>gen_alu_mujer</th>\n",
       "      <th>tipo_inst_1_institutos_profesionales</th>\n",
       "      <th>region_sede_arica_y_parinacota</th>\n",
       "      <th>...</th>\n",
       "      <th>area_conocimiento_tecnologia</th>\n",
       "      <th>acreditada_carr_no_acreditada</th>\n",
       "      <th>acreditada_inst_no_acreditada</th>\n",
       "      <th>tipo_ensenanza_colegio_otro</th>\n",
       "      <th>tipo_ensenanza_colegio_tp_comercial</th>\n",
       "      <th>tipo_ensenanza_colegio_tp_industrial</th>\n",
       "      <th>tipo_ensenanza_colegio_tp_tecnica</th>\n",
       "      <th>dependencia_colegio_otro</th>\n",
       "      <th>dependencia_colegio_particular_pagado</th>\n",
       "      <th>dependencia_colegio_particular_subvencionado</th>\n",
       "    </tr>\n",
       "  </thead>\n",
       "  <tbody>\n",
       "    <tr>\n",
       "      <th>0</th>\n",
       "      <td>1390000.0</td>\n",
       "      <td>1</td>\n",
       "      <td>6.4</td>\n",
       "      <td>0</td>\n",
       "      <td>0</td>\n",
       "      <td>35</td>\n",
       "      <td>1</td>\n",
       "      <td>1</td>\n",
       "      <td>0</td>\n",
       "      <td>0</td>\n",
       "      <td>...</td>\n",
       "      <td>0</td>\n",
       "      <td>1</td>\n",
       "      <td>0</td>\n",
       "      <td>0</td>\n",
       "      <td>0</td>\n",
       "      <td>0</td>\n",
       "      <td>0</td>\n",
       "      <td>0</td>\n",
       "      <td>0</td>\n",
       "      <td>1</td>\n",
       "    </tr>\n",
       "    <tr>\n",
       "      <th>1</th>\n",
       "      <td>1850000.0</td>\n",
       "      <td>1</td>\n",
       "      <td>5.5</td>\n",
       "      <td>1</td>\n",
       "      <td>0</td>\n",
       "      <td>31</td>\n",
       "      <td>1</td>\n",
       "      <td>0</td>\n",
       "      <td>1</td>\n",
       "      <td>0</td>\n",
       "      <td>...</td>\n",
       "      <td>1</td>\n",
       "      <td>0</td>\n",
       "      <td>0</td>\n",
       "      <td>0</td>\n",
       "      <td>0</td>\n",
       "      <td>0</td>\n",
       "      <td>0</td>\n",
       "      <td>0</td>\n",
       "      <td>0</td>\n",
       "      <td>1</td>\n",
       "    </tr>\n",
       "    <tr>\n",
       "      <th>2</th>\n",
       "      <td>803000.0</td>\n",
       "      <td>0</td>\n",
       "      <td>4.7</td>\n",
       "      <td>0</td>\n",
       "      <td>0</td>\n",
       "      <td>29</td>\n",
       "      <td>1</td>\n",
       "      <td>0</td>\n",
       "      <td>0</td>\n",
       "      <td>0</td>\n",
       "      <td>...</td>\n",
       "      <td>1</td>\n",
       "      <td>1</td>\n",
       "      <td>1</td>\n",
       "      <td>0</td>\n",
       "      <td>0</td>\n",
       "      <td>0</td>\n",
       "      <td>0</td>\n",
       "      <td>0</td>\n",
       "      <td>0</td>\n",
       "      <td>1</td>\n",
       "    </tr>\n",
       "    <tr>\n",
       "      <th>3</th>\n",
       "      <td>1690000.0</td>\n",
       "      <td>0</td>\n",
       "      <td>6.0</td>\n",
       "      <td>0</td>\n",
       "      <td>0</td>\n",
       "      <td>29</td>\n",
       "      <td>1</td>\n",
       "      <td>0</td>\n",
       "      <td>1</td>\n",
       "      <td>0</td>\n",
       "      <td>...</td>\n",
       "      <td>1</td>\n",
       "      <td>1</td>\n",
       "      <td>0</td>\n",
       "      <td>0</td>\n",
       "      <td>0</td>\n",
       "      <td>0</td>\n",
       "      <td>0</td>\n",
       "      <td>0</td>\n",
       "      <td>0</td>\n",
       "      <td>0</td>\n",
       "    </tr>\n",
       "    <tr>\n",
       "      <th>4</th>\n",
       "      <td>1480000.0</td>\n",
       "      <td>0</td>\n",
       "      <td>6.4</td>\n",
       "      <td>0</td>\n",
       "      <td>0</td>\n",
       "      <td>16</td>\n",
       "      <td>1</td>\n",
       "      <td>1</td>\n",
       "      <td>1</td>\n",
       "      <td>0</td>\n",
       "      <td>...</td>\n",
       "      <td>0</td>\n",
       "      <td>1</td>\n",
       "      <td>0</td>\n",
       "      <td>0</td>\n",
       "      <td>0</td>\n",
       "      <td>0</td>\n",
       "      <td>0</td>\n",
       "      <td>0</td>\n",
       "      <td>0</td>\n",
       "      <td>1</td>\n",
       "    </tr>\n",
       "  </tbody>\n",
       "</table>\n",
       "<p>5 rows × 42 columns</p>\n",
       "</div>"
      ],
      "text/plain": [
       "   valor_arancel  desertor_1  prom_notas_media  cant_becas  dif_ing_ult_mat  \\\n",
       "0      1390000.0           1               6.4           0                0   \n",
       "1      1850000.0           1               5.5           1                0   \n",
       "2       803000.0           0               4.7           0                0   \n",
       "3      1690000.0           0               6.0           0                0   \n",
       "4      1480000.0           0               6.4           0                0   \n",
       "\n",
       "   edad  misma_region  gen_alu_mujer  tipo_inst_1_institutos_profesionales  \\\n",
       "0    35             1              1                                     0   \n",
       "1    31             1              0                                     1   \n",
       "2    29             1              0                                     0   \n",
       "3    29             1              0                                     1   \n",
       "4    16             1              1                                     1   \n",
       "\n",
       "   region_sede_arica_y_parinacota  ...  area_conocimiento_tecnologia  \\\n",
       "0                               0  ...                             0   \n",
       "1                               0  ...                             1   \n",
       "2                               0  ...                             1   \n",
       "3                               0  ...                             1   \n",
       "4                               0  ...                             0   \n",
       "\n",
       "   acreditada_carr_no_acreditada  acreditada_inst_no_acreditada  \\\n",
       "0                              1                              0   \n",
       "1                              0                              0   \n",
       "2                              1                              1   \n",
       "3                              1                              0   \n",
       "4                              1                              0   \n",
       "\n",
       "   tipo_ensenanza_colegio_otro  tipo_ensenanza_colegio_tp_comercial  \\\n",
       "0                            0                                    0   \n",
       "1                            0                                    0   \n",
       "2                            0                                    0   \n",
       "3                            0                                    0   \n",
       "4                            0                                    0   \n",
       "\n",
       "   tipo_ensenanza_colegio_tp_industrial  tipo_ensenanza_colegio_tp_tecnica  \\\n",
       "0                                     0                                  0   \n",
       "1                                     0                                  0   \n",
       "2                                     0                                  0   \n",
       "3                                     0                                  0   \n",
       "4                                     0                                  0   \n",
       "\n",
       "   dependencia_colegio_otro  dependencia_colegio_particular_pagado  \\\n",
       "0                         0                                      0   \n",
       "1                         0                                      0   \n",
       "2                         0                                      0   \n",
       "3                         0                                      0   \n",
       "4                         0                                      0   \n",
       "\n",
       "   dependencia_colegio_particular_subvencionado  \n",
       "0                                             1  \n",
       "1                                             1  \n",
       "2                                             1  \n",
       "3                                             0  \n",
       "4                                             1  \n",
       "\n",
       "[5 rows x 42 columns]"
      ]
     },
     "execution_count": 2,
     "metadata": {},
     "output_type": "execute_result"
    }
   ],
   "source": [
    "df = pd.read_csv(f\"{BASE}work_data/matriz_desercion_2_dummy.csv.gz\")\n",
    "df.head()"
   ]
  },
  {
   "cell_type": "code",
   "execution_count": 36,
   "id": "4d28ab7b",
   "metadata": {},
   "outputs": [
    {
     "data": {
      "text/plain": [
       "(885586, 42)"
      ]
     },
     "execution_count": 36,
     "metadata": {},
     "output_type": "execute_result"
    }
   ],
   "source": [
    "df.shape"
   ]
  },
  {
   "cell_type": "code",
   "execution_count": 38,
   "id": "09c78c6a",
   "metadata": {},
   "outputs": [
    {
     "data": {
      "text/plain": [
       "(0    0.759665\n",
       " 1    0.240335\n",
       " Name: desertor_1, dtype: float64,\n",
       " 0    672749\n",
       " 1    212837\n",
       " Name: desertor_1, dtype: int64)"
      ]
     },
     "execution_count": 38,
     "metadata": {},
     "output_type": "execute_result"
    }
   ],
   "source": [
    "df[\"desertor_1\"].value_counts(\"%\"), df[\"desertor_1\"].value_counts()"
   ]
  },
  {
   "cell_type": "markdown",
   "id": "db0c1669",
   "metadata": {},
   "source": [
    "# Split"
   ]
  },
  {
   "cell_type": "code",
   "execution_count": 3,
   "id": "76018cc8",
   "metadata": {},
   "outputs": [
    {
     "data": {
      "text/plain": [
       "((797027, 41), (88559, 41), (797027,), (88559,))"
      ]
     },
     "execution_count": 3,
     "metadata": {},
     "output_type": "execute_result"
    }
   ],
   "source": [
    "X_train, X_test, y_train, y_test = train_test_split(df.drop(columns=[\"desertor_1\"]), df[\"desertor_1\"], random_state=42, test_size=0.10)\n",
    "X_train.shape, X_test.shape, y_train.shape, y_test.shape"
   ]
  },
  {
   "cell_type": "code",
   "execution_count": 4,
   "id": "e6bb3180",
   "metadata": {},
   "outputs": [
    {
     "data": {
      "text/plain": [
       "0    75.978731\n",
       "1    24.021269\n",
       "Name: desertor_1, dtype: float64"
      ]
     },
     "execution_count": 4,
     "metadata": {},
     "output_type": "execute_result"
    }
   ],
   "source": [
    "pd.Series(y_train).value_counts(\"%\") * 100"
   ]
  },
  {
   "cell_type": "markdown",
   "id": "b2732f72",
   "metadata": {},
   "source": [
    "# Modelos\n",
    "\n",
    "## Regresión Logística"
   ]
  },
  {
   "cell_type": "code",
   "execution_count": 5,
   "id": "93b8b8e6",
   "metadata": {},
   "outputs": [
    {
     "data": {
      "text/plain": [
       "(382912, 41)"
      ]
     },
     "execution_count": 5,
     "metadata": {},
     "output_type": "execute_result"
    }
   ],
   "source": [
    "rus = RandomUnderSampler(random_state=42)\n",
    "X_resampled, y_resampled = rus.fit_resample(X_train, y_train)\n",
    "X_resampled.shape"
   ]
  },
  {
   "cell_type": "code",
   "execution_count": 39,
   "id": "8d33eeb6",
   "metadata": {},
   "outputs": [
    {
     "data": {
      "text/plain": [
       "344620.8"
      ]
     },
     "execution_count": 39,
     "metadata": {},
     "output_type": "execute_result"
    }
   ],
   "source": [
    "X_resampled.shape[0] - (X_resampled.shape[0] / 10)"
   ]
  },
  {
   "cell_type": "code",
   "execution_count": 6,
   "id": "b719fc4b",
   "metadata": {},
   "outputs": [
    {
     "data": {
      "text/plain": [
       "0    50.0\n",
       "1    50.0\n",
       "Name: desertor_1, dtype: float64"
      ]
     },
     "execution_count": 6,
     "metadata": {},
     "output_type": "execute_result"
    }
   ],
   "source": [
    "pd.Series(y_resampled).value_counts(\"%\") * 100"
   ]
  },
  {
   "cell_type": "code",
   "execution_count": 7,
   "id": "aba4d1d6",
   "metadata": {},
   "outputs": [
    {
     "data": {
      "text/plain": [
       "0    191456\n",
       "1    191456\n",
       "Name: desertor_1, dtype: int64"
      ]
     },
     "execution_count": 7,
     "metadata": {},
     "output_type": "execute_result"
    }
   ],
   "source": [
    "pd.Series(y_resampled).value_counts() "
   ]
  },
  {
   "cell_type": "code",
   "execution_count": 12,
   "id": "54343be0",
   "metadata": {
    "scrolled": true
   },
   "outputs": [],
   "source": [
    "rl = LogisticRegressionCV(cv=10, random_state=42, n_jobs=-1).fit(X_resampled, y_resampled)"
   ]
  },
  {
   "cell_type": "code",
   "execution_count": 32,
   "id": "6f3e3cc8",
   "metadata": {},
   "outputs": [
    {
     "data": {
      "text/plain": [
       "array([1.00000000e-04, 7.74263683e-04, 5.99484250e-03, 4.64158883e-02,\n",
       "       3.59381366e-01, 2.78255940e+00, 2.15443469e+01, 1.66810054e+02,\n",
       "       1.29154967e+03, 1.00000000e+04])"
      ]
     },
     "execution_count": 32,
     "metadata": {},
     "output_type": "execute_result"
    }
   ],
   "source": [
    "rl.Cs_"
   ]
  },
  {
   "cell_type": "code",
   "execution_count": 9,
   "id": "2e393ce6",
   "metadata": {},
   "outputs": [
    {
     "name": "stdout",
     "output_type": "stream",
     "text": [
      "              precision    recall  f1-score   support\n",
      "\n",
      "           0       0.80      0.56      0.66     67178\n",
      "           1       0.28      0.55      0.37     21381\n",
      "\n",
      "    accuracy                           0.56     88559\n",
      "   macro avg       0.54      0.55      0.52     88559\n",
      "weighted avg       0.67      0.56      0.59     88559\n",
      "\n"
     ]
    }
   ],
   "source": [
    "print(classification_report(y_test, rl.predict(X_test)))"
   ]
  },
  {
   "cell_type": "code",
   "execution_count": 10,
   "id": "2da2d222",
   "metadata": {},
   "outputs": [
    {
     "data": {
      "text/html": [
       "<div>\n",
       "<style scoped>\n",
       "    .dataframe tbody tr th:only-of-type {\n",
       "        vertical-align: middle;\n",
       "    }\n",
       "\n",
       "    .dataframe tbody tr th {\n",
       "        vertical-align: top;\n",
       "    }\n",
       "\n",
       "    .dataframe thead th {\n",
       "        text-align: right;\n",
       "    }\n",
       "</style>\n",
       "<table border=\"1\" class=\"dataframe\">\n",
       "  <thead>\n",
       "    <tr style=\"text-align: right;\">\n",
       "      <th></th>\n",
       "      <th>precision</th>\n",
       "      <th>recall</th>\n",
       "      <th>f1-score</th>\n",
       "      <th># Real</th>\n",
       "      <th># Predicciones</th>\n",
       "    </tr>\n",
       "  </thead>\n",
       "  <tbody>\n",
       "    <tr>\n",
       "      <th>No desertores</th>\n",
       "      <td>0.80</td>\n",
       "      <td>0.56</td>\n",
       "      <td>0.66</td>\n",
       "      <td>67178</td>\n",
       "      <td>47242</td>\n",
       "    </tr>\n",
       "    <tr>\n",
       "      <th>Desertores</th>\n",
       "      <td>0.28</td>\n",
       "      <td>0.55</td>\n",
       "      <td>0.37</td>\n",
       "      <td>21381</td>\n",
       "      <td>41317</td>\n",
       "    </tr>\n",
       "    <tr>\n",
       "      <th>Accuracy</th>\n",
       "      <td>0.56</td>\n",
       "      <td>0.56</td>\n",
       "      <td>0.56</td>\n",
       "      <td>0</td>\n",
       "      <td>0</td>\n",
       "    </tr>\n",
       "    <tr>\n",
       "      <th>Macro avg.</th>\n",
       "      <td>0.54</td>\n",
       "      <td>0.55</td>\n",
       "      <td>0.52</td>\n",
       "      <td>88559</td>\n",
       "      <td>88559</td>\n",
       "    </tr>\n",
       "    <tr>\n",
       "      <th>Weighted avg.</th>\n",
       "      <td>0.67</td>\n",
       "      <td>0.56</td>\n",
       "      <td>0.59</td>\n",
       "      <td>88559</td>\n",
       "      <td>88559</td>\n",
       "    </tr>\n",
       "  </tbody>\n",
       "</table>\n",
       "</div>"
      ],
      "text/plain": [
       "               precision  recall  f1-score  # Real  # Predicciones\n",
       "No desertores       0.80    0.56      0.66   67178           47242\n",
       "Desertores          0.28    0.55      0.37   21381           41317\n",
       "Accuracy            0.56    0.56      0.56       0               0\n",
       "Macro avg.          0.54    0.55      0.52   88559           88559\n",
       "Weighted avg.       0.67    0.56      0.59   88559           88559"
      ]
     },
     "execution_count": 10,
     "metadata": {},
     "output_type": "execute_result"
    }
   ],
   "source": [
    "cr = pd.DataFrame(\n",
    "    classification_report(y_test, rl.predict(X_test), output_dict=True)\n",
    ").T.rename(columns={\"support\": \"# Real\"})\n",
    "cr['# Real'] = cr[\"# Real\"].astype(int)\n",
    "cr[\"# Predicciones\"] = [47242, 41317, 0, 88559, 88559]\n",
    "cr.index = [\"No desertores\", \"Desertores\", \"Accuracy\", \"Macro avg.\", \"Weighted avg.\"]\n",
    "cr.round(2)"
   ]
  },
  {
   "cell_type": "code",
   "execution_count": 100,
   "id": "f4903158",
   "metadata": {},
   "outputs": [
    {
     "data": {
      "image/png": "[encoded data removed]",
      "text/plain": [
       "<Figure size 576x396 with 2 Axes>"
      ]
     },
     "metadata": {},
     "output_type": "display_data"
    }
   ],
   "source": [
    "predictions = rl.predict(X_test)\n",
    "cm = confusion_matrix(y_test, predictions, labels=rl.classes_)\n",
    "disp = ConfusionMatrixDisplay(confusion_matrix=cm, display_labels=rl.classes_)\n",
    "disp.plot(cmap=\"Blues\", values_format='');\n",
    "for labels in disp.text_.ravel():\n",
    "    t = labels.get_text()\n",
    "    labels.set_text(locale.format_string('%.0f', int(t), grouping=True, monetary=True))\n",
    "    labels.set_fontsize(15)\n",
    "plt.grid(False);\n",
    "plt.title(\"Matriz de confusión\", fontsize=20, pad=20);\n",
    "plt.ylabel(\"Clase verdadera\", fontsize=15);\n",
    "plt.xlabel(\"Clase predicha\", fontsize=15, labelpad=20);\n",
    "plt.yticks([0, 1], [\"No desertor\", \"Desertor\"], fontsize=15);\n",
    "plt.xticks([0, 1], [\"No desertor\", \"Desertor\"], fontsize=15);"
   ]
  },
  {
   "cell_type": "code",
   "execution_count": 11,
   "id": "6e221a2b",
   "metadata": {},
   "outputs": [
    {
     "data": {
      "image/png": "[encoded data removed]",
      "text/plain": [
       "<Figure size 576x396 with 1 Axes>"
      ]
     },
     "metadata": {},
     "output_type": "display_data"
    }
   ],
   "source": [
    "pd.Series(rl.predict_proba(X_test)[:, 1]).plot(kind=\"hist\");"
   ]
  },
  {
   "cell_type": "code",
   "execution_count": 16,
   "id": "dfc7cc79",
   "metadata": {},
   "outputs": [],
   "source": [
    "con_proba = df.copy()\n",
    "con_proba[\"proba\"] = rl.predict_proba(df.drop(columns=[\"desertor_1\"]))[:, 1]"
   ]
  },
  {
   "cell_type": "code",
   "execution_count": 101,
   "id": "d644f84f",
   "metadata": {},
   "outputs": [
    {
     "data": {
      "image/png": "[encoded data removed]",
      "text/plain": [
       "<Figure size 576x360 with 1 Axes>"
      ]
     },
     "metadata": {},
     "output_type": "display_data"
    }
   ],
   "source": [
    "plt.figure(figsize=(8, 5))\n",
    "sns.boxplot(data=con_proba, y=\"proba\", x=\"desertor_1\", showfliers=False);\n",
    "plt.xticks([0,1], [\"No desertor\", \"Desertor\"], fontsize=17);\n",
    "plt.xlabel(\"Tipo matriculado\", fontsize=20, labelpad=20);\n",
    "plt.ylabel(\"Probabilidad predicha de deserción\", fontsize=15);\n",
    "plt.title(\"Probabilidad predicha de deserción\\nen matriculados CFT/IP\", fontsize=25, pad=20);"
   ]
  },
  {
   "cell_type": "code",
   "execution_count": 93,
   "id": "be21bceb",
   "metadata": {},
   "outputs": [
    {
     "name": "stdout",
     "output_type": "stream",
     "text": [
      "Optimization terminated successfully.\n",
      "         Current function value: 0.637726\n",
      "         Iterations 5\n"
     ]
    }
   ],
   "source": [
    "atributos = df.drop(columns=[\"desertor_1\"]).columns\n",
    "logit_1 = smf.logit(f\"desertor_1 ~ {' + '.join(atributos)}\", data=df_resampled).fit()\n",
    "coefs = logit_1.summary2().tables[1]"
   ]
  },
  {
   "cell_type": "code",
   "execution_count": 99,
   "id": "47ecee76",
   "metadata": {},
   "outputs": [
    {
     "data": {
      "text/html": [
       "<div>\n",
       "<style scoped>\n",
       "    .dataframe tbody tr th:only-of-type {\n",
       "        vertical-align: middle;\n",
       "    }\n",
       "\n",
       "    .dataframe tbody tr th {\n",
       "        vertical-align: top;\n",
       "    }\n",
       "\n",
       "    .dataframe thead th {\n",
       "        text-align: right;\n",
       "    }\n",
       "</style>\n",
       "<table border=\"1\" class=\"dataframe\">\n",
       "  <thead>\n",
       "    <tr style=\"text-align: right;\">\n",
       "      <th></th>\n",
       "      <th>Coef.</th>\n",
       "      <th>Std.Err.</th>\n",
       "      <th>z</th>\n",
       "      <th>P&gt;|z|</th>\n",
       "      <th>[0.025</th>\n",
       "      <th>0.975]</th>\n",
       "    </tr>\n",
       "  </thead>\n",
       "  <tbody>\n",
       "    <tr>\n",
       "      <th>Intercept</th>\n",
       "      <td>3.285523</td>\n",
       "      <td>0.056489</td>\n",
       "      <td>58.162447</td>\n",
       "      <td>0.000000e+00</td>\n",
       "      <td>3.174807</td>\n",
       "      <td>3.396239</td>\n",
       "    </tr>\n",
       "    <tr>\n",
       "      <th>area_conocimiento_arte_y_arquitectura</th>\n",
       "      <td>0.328019</td>\n",
       "      <td>0.016643</td>\n",
       "      <td>19.709199</td>\n",
       "      <td>1.797907e-86</td>\n",
       "      <td>0.295399</td>\n",
       "      <td>0.360638</td>\n",
       "    </tr>\n",
       "    <tr>\n",
       "      <th>region_sede_los_lagos</th>\n",
       "      <td>0.310201</td>\n",
       "      <td>0.025411</td>\n",
       "      <td>12.207290</td>\n",
       "      <td>2.841982e-34</td>\n",
       "      <td>0.260396</td>\n",
       "      <td>0.360006</td>\n",
       "    </tr>\n",
       "    <tr>\n",
       "      <th>acreditada_inst_no_acreditada</th>\n",
       "      <td>0.290471</td>\n",
       "      <td>0.012807</td>\n",
       "      <td>22.681540</td>\n",
       "      <td>6.816150e-114</td>\n",
       "      <td>0.265371</td>\n",
       "      <td>0.315572</td>\n",
       "    </tr>\n",
       "    <tr>\n",
       "      <th>region_sede_magallanes</th>\n",
       "      <td>0.273527</td>\n",
       "      <td>0.044515</td>\n",
       "      <td>6.144602</td>\n",
       "      <td>8.016417e-10</td>\n",
       "      <td>0.186279</td>\n",
       "      <td>0.360774</td>\n",
       "    </tr>\n",
       "    <tr>\n",
       "      <th>tipo_ensenanza_colegio_otro</th>\n",
       "      <td>0.270573</td>\n",
       "      <td>0.024072</td>\n",
       "      <td>11.239953</td>\n",
       "      <td>2.595193e-29</td>\n",
       "      <td>0.223392</td>\n",
       "      <td>0.317754</td>\n",
       "    </tr>\n",
       "    <tr>\n",
       "      <th>region_sede_arica_y_parinacota</th>\n",
       "      <td>0.252082</td>\n",
       "      <td>0.036052</td>\n",
       "      <td>6.992162</td>\n",
       "      <td>2.706823e-12</td>\n",
       "      <td>0.181421</td>\n",
       "      <td>0.322742</td>\n",
       "    </tr>\n",
       "    <tr>\n",
       "      <th>region_sede_lib_gral_b_ohiggins</th>\n",
       "      <td>0.247779</td>\n",
       "      <td>0.025420</td>\n",
       "      <td>9.747311</td>\n",
       "      <td>1.894192e-22</td>\n",
       "      <td>0.197956</td>\n",
       "      <td>0.297601</td>\n",
       "    </tr>\n",
       "    <tr>\n",
       "      <th>region_sede_los_rios</th>\n",
       "      <td>0.246903</td>\n",
       "      <td>0.034033</td>\n",
       "      <td>7.254884</td>\n",
       "      <td>4.020049e-13</td>\n",
       "      <td>0.180200</td>\n",
       "      <td>0.313606</td>\n",
       "    </tr>\n",
       "    <tr>\n",
       "      <th>region_sede_nuble</th>\n",
       "      <td>0.237460</td>\n",
       "      <td>0.030886</td>\n",
       "      <td>7.688317</td>\n",
       "      <td>1.490831e-14</td>\n",
       "      <td>0.176925</td>\n",
       "      <td>0.297995</td>\n",
       "    </tr>\n",
       "    <tr>\n",
       "      <th>region_sede_la_araucania</th>\n",
       "      <td>0.219120</td>\n",
       "      <td>0.025734</td>\n",
       "      <td>8.514963</td>\n",
       "      <td>1.666433e-17</td>\n",
       "      <td>0.168683</td>\n",
       "      <td>0.269557</td>\n",
       "    </tr>\n",
       "    <tr>\n",
       "      <th>region_sede_maule</th>\n",
       "      <td>0.207002</td>\n",
       "      <td>0.024997</td>\n",
       "      <td>8.281216</td>\n",
       "      <td>1.219238e-16</td>\n",
       "      <td>0.158010</td>\n",
       "      <td>0.255994</td>\n",
       "    </tr>\n",
       "    <tr>\n",
       "      <th>region_sede_valparaiso</th>\n",
       "      <td>0.196676</td>\n",
       "      <td>0.022456</td>\n",
       "      <td>8.758183</td>\n",
       "      <td>1.984230e-18</td>\n",
       "      <td>0.152662</td>\n",
       "      <td>0.240689</td>\n",
       "    </tr>\n",
       "    <tr>\n",
       "      <th>tipo_ensenanza_colegio_tp_tecnica</th>\n",
       "      <td>0.186539</td>\n",
       "      <td>0.012522</td>\n",
       "      <td>14.897219</td>\n",
       "      <td>3.435846e-50</td>\n",
       "      <td>0.161997</td>\n",
       "      <td>0.211081</td>\n",
       "    </tr>\n",
       "    <tr>\n",
       "      <th>region_sede_coquimbo</th>\n",
       "      <td>0.176513</td>\n",
       "      <td>0.025403</td>\n",
       "      <td>6.948506</td>\n",
       "      <td>3.691747e-12</td>\n",
       "      <td>0.126724</td>\n",
       "      <td>0.226302</td>\n",
       "    </tr>\n",
       "    <tr>\n",
       "      <th>region_sede_metropolitana</th>\n",
       "      <td>0.155993</td>\n",
       "      <td>0.020345</td>\n",
       "      <td>7.667225</td>\n",
       "      <td>1.757570e-14</td>\n",
       "      <td>0.116117</td>\n",
       "      <td>0.195870</td>\n",
       "    </tr>\n",
       "    <tr>\n",
       "      <th>region_sede_biobio</th>\n",
       "      <td>0.151555</td>\n",
       "      <td>0.022573</td>\n",
       "      <td>6.713963</td>\n",
       "      <td>1.894079e-11</td>\n",
       "      <td>0.107313</td>\n",
       "      <td>0.195798</td>\n",
       "    </tr>\n",
       "    <tr>\n",
       "      <th>misma_region</th>\n",
       "      <td>0.132686</td>\n",
       "      <td>0.010205</td>\n",
       "      <td>13.001415</td>\n",
       "      <td>1.200997e-38</td>\n",
       "      <td>0.112683</td>\n",
       "      <td>0.152688</td>\n",
       "    </tr>\n",
       "    <tr>\n",
       "      <th>region_sede_tarapaca</th>\n",
       "      <td>0.120378</td>\n",
       "      <td>0.035516</td>\n",
       "      <td>3.389402</td>\n",
       "      <td>7.004521e-04</td>\n",
       "      <td>0.050768</td>\n",
       "      <td>0.189988</td>\n",
       "    </tr>\n",
       "    <tr>\n",
       "      <th>area_conocimiento_tecnologia</th>\n",
       "      <td>0.105230</td>\n",
       "      <td>0.009725</td>\n",
       "      <td>10.820577</td>\n",
       "      <td>2.750396e-27</td>\n",
       "      <td>0.086169</td>\n",
       "      <td>0.124291</td>\n",
       "    </tr>\n",
       "    <tr>\n",
       "      <th>tipo_ensenanza_colegio_tp_industrial</th>\n",
       "      <td>0.036107</td>\n",
       "      <td>0.010576</td>\n",
       "      <td>3.414094</td>\n",
       "      <td>6.399446e-04</td>\n",
       "      <td>0.015379</td>\n",
       "      <td>0.056835</td>\n",
       "    </tr>\n",
       "    <tr>\n",
       "      <th>edad</th>\n",
       "      <td>0.034271</td>\n",
       "      <td>0.000781</td>\n",
       "      <td>43.893872</td>\n",
       "      <td>0.000000e+00</td>\n",
       "      <td>0.032741</td>\n",
       "      <td>0.035801</td>\n",
       "    </tr>\n",
       "  </tbody>\n",
       "</table>\n",
       "</div>"
      ],
      "text/plain": [
       "                                          Coef.  Std.Err.          z  \\\n",
       "Intercept                              3.285523  0.056489  58.162447   \n",
       "area_conocimiento_arte_y_arquitectura  0.328019  0.016643  19.709199   \n",
       "region_sede_los_lagos                  0.310201  0.025411  12.207290   \n",
       "acreditada_inst_no_acreditada          0.290471  0.012807  22.681540   \n",
       "region_sede_magallanes                 0.273527  0.044515   6.144602   \n",
       "tipo_ensenanza_colegio_otro            0.270573  0.024072  11.239953   \n",
       "region_sede_arica_y_parinacota         0.252082  0.036052   6.992162   \n",
       "region_sede_lib_gral_b_ohiggins        0.247779  0.025420   9.747311   \n",
       "region_sede_los_rios                   0.246903  0.034033   7.254884   \n",
       "region_sede_nuble                      0.237460  0.030886   7.688317   \n",
       "region_sede_la_araucania               0.219120  0.025734   8.514963   \n",
       "region_sede_maule                      0.207002  0.024997   8.281216   \n",
       "region_sede_valparaiso                 0.196676  0.022456   8.758183   \n",
       "tipo_ensenanza_colegio_tp_tecnica      0.186539  0.012522  14.897219   \n",
       "region_sede_coquimbo                   0.176513  0.025403   6.948506   \n",
       "region_sede_metropolitana              0.155993  0.020345   7.667225   \n",
       "region_sede_biobio                     0.151555  0.022573   6.713963   \n",
       "misma_region                           0.132686  0.010205  13.001415   \n",
       "region_sede_tarapaca                   0.120378  0.035516   3.389402   \n",
       "area_conocimiento_tecnologia           0.105230  0.009725  10.820577   \n",
       "tipo_ensenanza_colegio_tp_industrial   0.036107  0.010576   3.414094   \n",
       "edad                                   0.034271  0.000781  43.893872   \n",
       "\n",
       "                                               P>|z|    [0.025    0.975]  \n",
       "Intercept                               0.000000e+00  3.174807  3.396239  \n",
       "area_conocimiento_arte_y_arquitectura   1.797907e-86  0.295399  0.360638  \n",
       "region_sede_los_lagos                   2.841982e-34  0.260396  0.360006  \n",
       "acreditada_inst_no_acreditada          6.816150e-114  0.265371  0.315572  \n",
       "region_sede_magallanes                  8.016417e-10  0.186279  0.360774  \n",
       "tipo_ensenanza_colegio_otro             2.595193e-29  0.223392  0.317754  \n",
       "region_sede_arica_y_parinacota          2.706823e-12  0.181421  0.322742  \n",
       "region_sede_lib_gral_b_ohiggins         1.894192e-22  0.197956  0.297601  \n",
       "region_sede_los_rios                    4.020049e-13  0.180200  0.313606  \n",
       "region_sede_nuble                       1.490831e-14  0.176925  0.297995  \n",
       "region_sede_la_araucania                1.666433e-17  0.168683  0.269557  \n",
       "region_sede_maule                       1.219238e-16  0.158010  0.255994  \n",
       "region_sede_valparaiso                  1.984230e-18  0.152662  0.240689  \n",
       "tipo_ensenanza_colegio_tp_tecnica       3.435846e-50  0.161997  0.211081  \n",
       "region_sede_coquimbo                    3.691747e-12  0.126724  0.226302  \n",
       "region_sede_metropolitana               1.757570e-14  0.116117  0.195870  \n",
       "region_sede_biobio                      1.894079e-11  0.107313  0.195798  \n",
       "misma_region                            1.200997e-38  0.112683  0.152688  \n",
       "region_sede_tarapaca                    7.004521e-04  0.050768  0.189988  \n",
       "area_conocimiento_tecnologia            2.750396e-27  0.086169  0.124291  \n",
       "tipo_ensenanza_colegio_tp_industrial    6.399446e-04  0.015379  0.056835  \n",
       "edad                                    0.000000e+00  0.032741  0.035801  "
      ]
     },
     "execution_count": 99,
     "metadata": {},
     "output_type": "execute_result"
    }
   ],
   "source": [
    "coefs[(coefs[\"P>|z|\"] < 0.05) & (coefs[\"Coef.\"] > 0)].sort_values(by=[\"Coef.\"], ascending=False)"
   ]
  },
  {
   "cell_type": "code",
   "execution_count": 95,
   "id": "5b6419ae",
   "metadata": {},
   "outputs": [
    {
     "data": {
      "text/html": [
       "<div>\n",
       "<style scoped>\n",
       "    .dataframe tbody tr th:only-of-type {\n",
       "        vertical-align: middle;\n",
       "    }\n",
       "\n",
       "    .dataframe tbody tr th {\n",
       "        vertical-align: top;\n",
       "    }\n",
       "\n",
       "    .dataframe thead th {\n",
       "        text-align: right;\n",
       "    }\n",
       "</style>\n",
       "<table border=\"1\" class=\"dataframe\">\n",
       "  <thead>\n",
       "    <tr style=\"text-align: right;\">\n",
       "      <th></th>\n",
       "      <th>Coef.</th>\n",
       "      <th>Std.Err.</th>\n",
       "      <th>z</th>\n",
       "      <th>P&gt;|z|</th>\n",
       "      <th>[0.025</th>\n",
       "      <th>0.975]</th>\n",
       "    </tr>\n",
       "  </thead>\n",
       "  <tbody>\n",
       "    <tr>\n",
       "      <th>valor_arancel</th>\n",
       "      <td>-5.904945e-08</td>\n",
       "      <td>9.978042e-09</td>\n",
       "      <td>-5.917939</td>\n",
       "      <td>3.260009e-09</td>\n",
       "      <td>-7.860605e-08</td>\n",
       "      <td>-3.949284e-08</td>\n",
       "    </tr>\n",
       "    <tr>\n",
       "      <th>prom_notas_media</th>\n",
       "      <td>-6.277222e-01</td>\n",
       "      <td>8.796384e-03</td>\n",
       "      <td>-71.361393</td>\n",
       "      <td>0.000000e+00</td>\n",
       "      <td>-6.449628e-01</td>\n",
       "      <td>-6.104816e-01</td>\n",
       "    </tr>\n",
       "    <tr>\n",
       "      <th>cant_becas</th>\n",
       "      <td>-4.610154e-01</td>\n",
       "      <td>7.673192e-03</td>\n",
       "      <td>-60.081308</td>\n",
       "      <td>0.000000e+00</td>\n",
       "      <td>-4.760546e-01</td>\n",
       "      <td>-4.459763e-01</td>\n",
       "    </tr>\n",
       "    <tr>\n",
       "      <th>dif_ing_ult_mat</th>\n",
       "      <td>-4.220682e-01</td>\n",
       "      <td>3.548820e-03</td>\n",
       "      <td>-118.932000</td>\n",
       "      <td>0.000000e+00</td>\n",
       "      <td>-4.290238e-01</td>\n",
       "      <td>-4.151127e-01</td>\n",
       "    </tr>\n",
       "    <tr>\n",
       "      <th>gen_alu_mujer</th>\n",
       "      <td>-3.004357e-01</td>\n",
       "      <td>8.372686e-03</td>\n",
       "      <td>-35.882836</td>\n",
       "      <td>5.658772e-282</td>\n",
       "      <td>-3.168459e-01</td>\n",
       "      <td>-2.840256e-01</td>\n",
       "    </tr>\n",
       "    <tr>\n",
       "      <th>tipo_inst_1_institutos_profesionales</th>\n",
       "      <td>-1.562658e-01</td>\n",
       "      <td>7.743668e-03</td>\n",
       "      <td>-20.179822</td>\n",
       "      <td>1.472748e-90</td>\n",
       "      <td>-1.714432e-01</td>\n",
       "      <td>-1.410885e-01</td>\n",
       "    </tr>\n",
       "    <tr>\n",
       "      <th>area_conocimiento_ciencias_sociales</th>\n",
       "      <td>-1.833713e-01</td>\n",
       "      <td>1.678546e-02</td>\n",
       "      <td>-10.924415</td>\n",
       "      <td>8.810625e-28</td>\n",
       "      <td>-2.162702e-01</td>\n",
       "      <td>-1.504724e-01</td>\n",
       "    </tr>\n",
       "    <tr>\n",
       "      <th>area_conocimiento_educacion</th>\n",
       "      <td>-7.687329e-02</td>\n",
       "      <td>1.285236e-02</td>\n",
       "      <td>-5.981261</td>\n",
       "      <td>2.214167e-09</td>\n",
       "      <td>-1.020634e-01</td>\n",
       "      <td>-5.168314e-02</td>\n",
       "    </tr>\n",
       "    <tr>\n",
       "      <th>area_conocimiento_salud</th>\n",
       "      <td>-5.579363e-02</td>\n",
       "      <td>1.206553e-02</td>\n",
       "      <td>-4.624216</td>\n",
       "      <td>3.760173e-06</td>\n",
       "      <td>-7.944164e-02</td>\n",
       "      <td>-3.214562e-02</td>\n",
       "    </tr>\n",
       "    <tr>\n",
       "      <th>acreditada_carr_no_acreditada</th>\n",
       "      <td>-3.788847e-02</td>\n",
       "      <td>7.684870e-03</td>\n",
       "      <td>-4.930269</td>\n",
       "      <td>8.211667e-07</td>\n",
       "      <td>-5.295054e-02</td>\n",
       "      <td>-2.282640e-02</td>\n",
       "    </tr>\n",
       "    <tr>\n",
       "      <th>tipo_ensenanza_colegio_tp_comercial</th>\n",
       "      <td>-5.757724e-02</td>\n",
       "      <td>1.029303e-02</td>\n",
       "      <td>-5.593811</td>\n",
       "      <td>2.221391e-08</td>\n",
       "      <td>-7.775120e-02</td>\n",
       "      <td>-3.740328e-02</td>\n",
       "    </tr>\n",
       "    <tr>\n",
       "      <th>dependencia_colegio_otro</th>\n",
       "      <td>-2.346930e-01</td>\n",
       "      <td>1.612537e-02</td>\n",
       "      <td>-14.554272</td>\n",
       "      <td>5.486665e-48</td>\n",
       "      <td>-2.662981e-01</td>\n",
       "      <td>-2.030879e-01</td>\n",
       "    </tr>\n",
       "    <tr>\n",
       "      <th>dependencia_colegio_particular_pagado</th>\n",
       "      <td>-4.354864e-01</td>\n",
       "      <td>2.073412e-02</td>\n",
       "      <td>-21.003370</td>\n",
       "      <td>6.109449e-98</td>\n",
       "      <td>-4.761245e-01</td>\n",
       "      <td>-3.948483e-01</td>\n",
       "    </tr>\n",
       "    <tr>\n",
       "      <th>dependencia_colegio_particular_subvencionado</th>\n",
       "      <td>-1.830123e-01</td>\n",
       "      <td>7.504671e-03</td>\n",
       "      <td>-24.386454</td>\n",
       "      <td>2.381150e-131</td>\n",
       "      <td>-1.977212e-01</td>\n",
       "      <td>-1.683034e-01</td>\n",
       "    </tr>\n",
       "  </tbody>\n",
       "</table>\n",
       "</div>"
      ],
      "text/plain": [
       "                                                     Coef.      Std.Err.  \\\n",
       "valor_arancel                                -5.904945e-08  9.978042e-09   \n",
       "prom_notas_media                             -6.277222e-01  8.796384e-03   \n",
       "cant_becas                                   -4.610154e-01  7.673192e-03   \n",
       "dif_ing_ult_mat                              -4.220682e-01  3.548820e-03   \n",
       "gen_alu_mujer                                -3.004357e-01  8.372686e-03   \n",
       "tipo_inst_1_institutos_profesionales         -1.562658e-01  7.743668e-03   \n",
       "area_conocimiento_ciencias_sociales          -1.833713e-01  1.678546e-02   \n",
       "area_conocimiento_educacion                  -7.687329e-02  1.285236e-02   \n",
       "area_conocimiento_salud                      -5.579363e-02  1.206553e-02   \n",
       "acreditada_carr_no_acreditada                -3.788847e-02  7.684870e-03   \n",
       "tipo_ensenanza_colegio_tp_comercial          -5.757724e-02  1.029303e-02   \n",
       "dependencia_colegio_otro                     -2.346930e-01  1.612537e-02   \n",
       "dependencia_colegio_particular_pagado        -4.354864e-01  2.073412e-02   \n",
       "dependencia_colegio_particular_subvencionado -1.830123e-01  7.504671e-03   \n",
       "\n",
       "                                                       z          P>|z|  \\\n",
       "valor_arancel                                  -5.917939   3.260009e-09   \n",
       "prom_notas_media                              -71.361393   0.000000e+00   \n",
       "cant_becas                                    -60.081308   0.000000e+00   \n",
       "dif_ing_ult_mat                              -118.932000   0.000000e+00   \n",
       "gen_alu_mujer                                 -35.882836  5.658772e-282   \n",
       "tipo_inst_1_institutos_profesionales          -20.179822   1.472748e-90   \n",
       "area_conocimiento_ciencias_sociales           -10.924415   8.810625e-28   \n",
       "area_conocimiento_educacion                    -5.981261   2.214167e-09   \n",
       "area_conocimiento_salud                        -4.624216   3.760173e-06   \n",
       "acreditada_carr_no_acreditada                  -4.930269   8.211667e-07   \n",
       "tipo_ensenanza_colegio_tp_comercial            -5.593811   2.221391e-08   \n",
       "dependencia_colegio_otro                      -14.554272   5.486665e-48   \n",
       "dependencia_colegio_particular_pagado         -21.003370   6.109449e-98   \n",
       "dependencia_colegio_particular_subvencionado  -24.386454  2.381150e-131   \n",
       "\n",
       "                                                    [0.025        0.975]  \n",
       "valor_arancel                                -7.860605e-08 -3.949284e-08  \n",
       "prom_notas_media                             -6.449628e-01 -6.104816e-01  \n",
       "cant_becas                                   -4.760546e-01 -4.459763e-01  \n",
       "dif_ing_ult_mat                              -4.290238e-01 -4.151127e-01  \n",
       "gen_alu_mujer                                -3.168459e-01 -2.840256e-01  \n",
       "tipo_inst_1_institutos_profesionales         -1.714432e-01 -1.410885e-01  \n",
       "area_conocimiento_ciencias_sociales          -2.162702e-01 -1.504724e-01  \n",
       "area_conocimiento_educacion                  -1.020634e-01 -5.168314e-02  \n",
       "area_conocimiento_salud                      -7.944164e-02 -3.214562e-02  \n",
       "acreditada_carr_no_acreditada                -5.295054e-02 -2.282640e-02  \n",
       "tipo_ensenanza_colegio_tp_comercial          -7.775120e-02 -3.740328e-02  \n",
       "dependencia_colegio_otro                     -2.662981e-01 -2.030879e-01  \n",
       "dependencia_colegio_particular_pagado        -4.761245e-01 -3.948483e-01  \n",
       "dependencia_colegio_particular_subvencionado -1.977212e-01 -1.683034e-01  "
      ]
     },
     "execution_count": 95,
     "metadata": {},
     "output_type": "execute_result"
    }
   ],
   "source": [
    "coefs[(coefs[\"P>|z|\"] < 0.05) & (coefs[\"Coef.\"] < 0)]"
   ]
  },
  {
   "cell_type": "markdown",
   "id": "b1f3d365",
   "metadata": {},
   "source": [
    "## DT"
   ]
  },
  {
   "cell_type": "code",
   "execution_count": 35,
   "id": "45a4b369",
   "metadata": {},
   "outputs": [
    {
     "name": "stdout",
     "output_type": "stream",
     "text": [
      "              precision    recall  f1-score   support\n",
      "\n",
      "           0       0.84      0.63      0.72     67178\n",
      "           1       0.35      0.62      0.45     21381\n",
      "\n",
      "    accuracy                           0.63     88559\n",
      "   macro avg       0.59      0.63      0.58     88559\n",
      "weighted avg       0.72      0.63      0.65     88559\n",
      "\n"
     ]
    }
   ],
   "source": [
    "dt = DecisionTreeClassifier(random_state=42).fit(X_resampled, y_resampled)\n",
    "print(classification_report(y_test, dt.predict(X_test)))"
   ]
  },
  {
   "cell_type": "code",
   "execution_count": 68,
   "id": "2292a9c2",
   "metadata": {},
   "outputs": [],
   "source": [
    "def plot_importance(fit_model, feat_names, n=10):\n",
    "    tmp_importance = fit_model.feature_importances_\n",
    "    sort_importance = np.argsort(tmp_importance)[::-1][:n]\n",
    "    names = [feat_names[i] for i in sort_importance]\n",
    "    plt.title(\"Feature importance\")\n",
    "    plt.barh(range(n), list(reversed(tmp_importance[sort_importance])))\n",
    "    plt.yticks(range(n), list(reversed(names)), rotation=0)\n",
    "    return names"
   ]
  },
  {
   "cell_type": "code",
   "execution_count": 69,
   "id": "0aa7e9f5",
   "metadata": {},
   "outputs": [
    {
     "data": {
      "image/png": "[encoded data removed]",
      "text/plain": [
       "<Figure size 1152x432 with 1 Axes>"
      ]
     },
     "metadata": {},
     "output_type": "display_data"
    }
   ],
   "source": [
    "_ = plot_importance(dt, df.drop(columns=[\"desertor_1\"]).columns, n=15)"
   ]
  },
  {
   "cell_type": "code",
   "execution_count": 73,
   "id": "d768e941",
   "metadata": {},
   "outputs": [
    {
     "name": "stdout",
     "output_type": "stream",
     "text": [
      "              precision    recall  f1-score   support\n",
      "\n",
      "           0       0.88      0.67      0.76     67178\n",
      "           1       0.41      0.72      0.52     21381\n",
      "\n",
      "    accuracy                           0.68     88559\n",
      "   macro avg       0.64      0.69      0.64     88559\n",
      "weighted avg       0.77      0.68      0.70     88559\n",
      "\n"
     ]
    }
   ],
   "source": [
    "import xgboost\n",
    "xgb = xgboost.XGBClassifier().fit(X_resampled, y_resampled)\n",
    "print(classification_report(y_test, xgb.predict(X_test)))"
   ]
  },
  {
   "cell_type": "code",
   "execution_count": 77,
   "id": "cacdc09f",
   "metadata": {},
   "outputs": [
    {
     "data": {
      "image/png": "[encoded data removed]",
      "text/plain": [
       "<Figure size 1152x432 with 1 Axes>"
      ]
     },
     "metadata": {},
     "output_type": "display_data"
    }
   ],
   "source": [
    "_ = plot_importance(xgb, df.drop(columns=[\"desertor_1\"]).columns, n=15)"
   ]
  },
  {
   "cell_type": "code",
   "execution_count": 148,
   "id": "f2c1584e",
   "metadata": {},
   "outputs": [
    {
     "data": {
      "image/png": "[encoded data removed]",
      "text/plain": [
       "<Figure size 1080x360 with 2 Axes>"
      ]
     },
     "metadata": {},
     "output_type": "display_data"
    }
   ],
   "source": [
    "def class_feature_importance(X, Y, feature_importances, n_feats=10):\n",
    "    sort_importance = np.argsort(feature_importances)[::-1][:n_feats]\n",
    "    feat_names = X.columns\n",
    "    names = [feat_names[i] for i in sort_importance]\n",
    "    importancias = feature_importances[sort_importance]\n",
    "    \n",
    "    N, M = X[names].shape\n",
    "    X = scale(X[names])\n",
    "\n",
    "    out = {}\n",
    "    for c in set(Y):\n",
    "        out[c] = dict(\n",
    "            zip(range(N), np.mean(X[Y==c, :], axis=0)*importancias)\n",
    "        )\n",
    "\n",
    "    return out, names\n",
    "\n",
    "result, names = class_feature_importance(X_resampled, y_resampled, xgb.feature_importances_, 20)\n",
    "\n",
    "titles = [\"Permenece\", \"Desertor\"]\n",
    "plt.figure(figsize=(15, 5))\n",
    "for t, i in zip(titles, range(len(result))):\n",
    "    ax = plt.subplot(1, 2, i+1)\n",
    "    plt.title(t)\n",
    "    plt.barh(\n",
    "        range(len(result[i])),\n",
    "        list(reversed(result[i].values())),\n",
    "        color=\"r\",\n",
    "        align=\"center\"\n",
    "    )\n",
    "    plt.yticks(\n",
    "        range(len(result[i])),\n",
    "        list(reversed(np.array(names)[list(result[i].keys())])) if i == 1 else [\"\"] * len(names),\n",
    "        rotation=0,\n",
    "        ha=\"center\"\n",
    "    )\n",
    "    ax.tick_params(axis='y', which='major', pad=110)\n",
    "    plt.ylim([-1, len(result[i])])\n",
    "    \n",
    "plt.tight_layout()"
   ]
  },
  {
   "cell_type": "code",
   "execution_count": null,
   "id": "0593cdd1",
   "metadata": {},
   "outputs": [],
   "source": []
  }
 ],
 "metadata": {
  "kernelspec": {
   "display_name": "Python 3 (ipykernel)",
   "language": "python",
   "name": "python3"
  },
  "language_info": {
   "codemirror_mode": {
    "name": "ipython",
    "version": 3
   },
   "file_extension": ".py",
   "mimetype": "text/x-python",
   "name": "python",
   "nbconvert_exporter": "python",
   "pygments_lexer": "ipython3",
   "version": "3.9.12"
  }
 },
 "nbformat": 4,
 "nbformat_minor": 5
}
